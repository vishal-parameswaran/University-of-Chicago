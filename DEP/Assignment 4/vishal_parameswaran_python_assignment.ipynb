{
 "cells": [
  {
   "cell_type": "markdown",
   "metadata": {},
   "source": [
    "### Initialization\n",
    "$\\rightarrow$ Setting up the libraries and initializing the sql connection."
   ]
  },
  {
   "cell_type": "code",
   "execution_count": 12,
   "metadata": {},
   "outputs": [],
   "source": [
    "import pandas as pd\n",
    "from mysql import connector\n",
    "import warnings\n",
    "cnx = connector.connect(user=\"root\", password=\"rootroot\", host='127.0.0.1', database='sakila') # Connecting to Locally hosted MySQLDB\n",
    "warnings.filterwarnings('ignore', category=UserWarning) # Suppressing warning that are not important"
   ]
  },
  {
   "cell_type": "markdown",
   "metadata": {},
   "source": [
    "#### 1) Find the staff with the highest average sales per month for the last 10 months\n",
    "$\\rightarrow$ This query can be used to find out staff members who are consistently performing highly."
   ]
  },
  {
   "cell_type": "code",
   "execution_count": 13,
   "metadata": {},
   "outputs": [
    {
     "name": "stdout",
     "output_type": "stream",
     "text": [
      "   STAFF_ID  AVERAGE SALES          MONTH\n",
      "0         1       2.825165  February/2006\n",
      "1         1       4.232835    August/2005\n",
      "2         1       4.227968      July/2005\n",
      "3         1       4.166038      June/2005\n",
      "4         1       4.169775       May/2005\n"
     ]
    }
   ],
   "source": [
    "query = \"\"\"\n",
    "SELECT STAFF.STAFF_ID, AVG(PAYMENT.AMOUNT) AS 'AVERAGE SALES', DATE_FORMAT(PAYMENT.PAYMENT_DATE, '%M/%Y') AS MONTH\n",
    "FROM SAKILA.STAFF\n",
    "         INNER JOIN SAKILA.PAYMENT ON STAFF.STAFF_ID = PAYMENT.STAFF_ID\n",
    "GROUP BY MONTH(PAYMENT.PAYMENT_DATE)\n",
    "ORDER BY PAYMENT.PAYMENT_DATE DESC,2\n",
    "LIMIT 10;\n",
    "\"\"\"\n",
    "query1 = pd.read_sql(query, cnx)\n",
    "print(query1.to_string())"
   ]
  },
  {
   "cell_type": "markdown",
   "metadata": {},
   "source": [
    "#### 2) Find the top 5 actors with highest amount of rentals, order the set by descending rental counts\n",
    "$\\rightarrow$ This query can be used to find if actors are in high demand."
   ]
  },
  {
   "cell_type": "code",
   "execution_count": 14,
   "metadata": {},
   "outputs": [
    {
     "name": "stdout",
     "output_type": "stream",
     "text": [
      "                 NAME  RENTAL_COUNT\n",
      "0         SUSAN DAVIS           825\n",
      "1      GINA DEGENERES           753\n",
      "2      MATTHEW CARREY           678\n",
      "3         MARY KEITEL           674\n",
      "4  ANGELA WITHERSPOON           654\n"
     ]
    }
   ],
   "source": [
    "query = \"\"\"\n",
    "SELECT CONCAT(A.FIRST_NAME, ' ', A.LAST_NAME) AS NAME, COUNT(R.RENTAL_ID) AS RENTAL_COUNT\n",
    "FROM SAKILA.ACTOR AS A\n",
    "         INNER JOIN SAKILA.FILM_ACTOR AS F ON A.ACTOR_ID = F.ACTOR_ID\n",
    "         INNER JOIN SAKILA.INVENTORY AS I ON I.FILM_ID = F.FILM_ID\n",
    "        INNER JOIN SAKILA.RENTAL AS R ON I.INVENTORY_ID = R.INVENTORY_ID\n",
    "GROUP BY NAME\n",
    "ORDER BY RENTAL_COUNT DESC\n",
    "LIMIT 5;\n",
    "\"\"\"\n",
    "query2 = pd.read_sql(query, cnx)\n",
    "print(query2.to_string())"
   ]
  },
  {
   "cell_type": "markdown",
   "metadata": {},
   "source": [
    "#### 3) Find the most rented movie, and find any stores that do not have it in their inventory.\n",
    "$\\rightarrow$ This query can be used to find the most used payment type and depending on costs, provide benefits for under used payment type."
   ]
  },
  {
   "cell_type": "code",
   "execution_count": 15,
   "metadata": {},
   "outputs": [
    {
     "name": "stdout",
     "output_type": "stream",
     "text": [
      "Empty DataFrame\n",
      "Columns: [STORE_ID]\n",
      "Index: []\n"
     ]
    }
   ],
   "source": [
    "query = \"\"\"\n",
    "SELECT S.STORE_ID\n",
    "FROM SAKILA.STORE AS S\n",
    "         INNER JOIN SAKILA.INVENTORY AS I ON S.STORE_ID = I.STORE_ID\n",
    "WHERE (SELECT F.FILM_ID\n",
    "       FROM SAKILA.INVENTORY AS F\n",
    "                INNER JOIN SAKILA.RENTAL AS R ON F.INVENTORY_ID = R.INVENTORY_ID\n",
    "       GROUP BY F.FILM_ID\n",
    "       LIMIT 1) NOT IN (SELECT S1.FILM_ID FROM SAKILA.INVENTORY AS S1 WHERE S1.STORE_ID = S.STORE_ID)\n",
    "GROUP BY S.STORE_ID;\n",
    "\"\"\"\n",
    "query3 = pd.read_sql(query, cnx)\n",
    "print(query3.to_string())"
   ]
  },
  {
   "cell_type": "markdown",
   "metadata": {},
   "source": [
    "#### 4) Find the top 5 cities with the most number of rentals.\n",
    "$\\rightarrow$ This query can be used to find the most popular cities."
   ]
  },
  {
   "cell_type": "code",
   "execution_count": 16,
   "metadata": {},
   "outputs": [
    {
     "name": "stdout",
     "output_type": "stream",
     "text": [
      "          CITY  COUNT(R.RENTAL_ID)\n",
      "0       Aurora                  50\n",
      "1       London                  48\n",
      "2  Saint-Denis                  46\n",
      "3   Cape Coral                  45\n",
      "4    Molodetno                  42\n"
     ]
    }
   ],
   "source": [
    "query = \"\"\"\n",
    "SELECT CI.CITY, COUNT(R.RENTAL_ID)\n",
    "FROM SAKILA.RENTAL AS R\n",
    "         INNER JOIN SAKILA.CUSTOMER AS C ON R.CUSTOMER_ID = C.CUSTOMER_ID\n",
    "         INNER JOIN SAKILA.ADDRESS AS A ON C.ADDRESS_ID = A.ADDRESS_ID\n",
    "         INNER JOIN SAKILA.CITY AS CI ON A.CITY_ID = CI.CITY_ID\n",
    "GROUP BY CI.CITY\n",
    "ORDER BY 2 DESC\n",
    "LIMIT 5;\n",
    "\"\"\"\n",
    "query4 = pd.read_sql(query, cnx)\n",
    "print(query4.to_string())"
   ]
  },
  {
   "cell_type": "markdown",
   "metadata": {},
   "source": [
    "#### 5) Find the top 5 most popular stores and display their formatted address, ordered by most performing.\n",
    "$\\rightarrow$ This query can be used to find the most popular Stores."
   ]
  },
  {
   "cell_type": "code",
   "execution_count": 17,
   "metadata": {
    "scrolled": true
   },
   "outputs": [
    {
     "name": "stdout",
     "output_type": "stream",
     "text": [
      "   STORE_ID                                  ADDRESS  RENTAL_COUNT\n",
      "0         2  28 MySQL Boulevard ,Woodridge,Australia          8121\n",
      "1         1     47 MySakila Drive ,Lethbridge,Canada          7923\n"
     ]
    }
   ],
   "source": [
    "query = \"\"\"\n",
    "SELECT S.STORE_ID,\n",
    "       (SELECT CONCAT(A.ADDRESS, ' ', A.POSTAL_CODE, ',', (SELECT CONCAT(C.CITY, ',', (SELECT CO.COUNTRY\n",
    "                                                                                       FROM SAKILA.COUNTRY AS CO\n",
    "                                                                                       WHERE CO.COUNTRY_ID = C.COUNTRY_ID))\n",
    "                                                           FROM SAKILA.CITY AS C\n",
    "                                                           WHERE C.CITY_ID = A.CITY_ID))\n",
    "        FROM SAKILA.ADDRESS AS A\n",
    "        WHERE A.ADDRESS_ID = S.ADDRESS_ID) AS ADDRESS,\n",
    "       COUNT(S.STORE_ID)                   AS RENTAL_COUNT\n",
    "FROM SAKILA.RENTAL AS R\n",
    "         INNER JOIN SAKILA.INVENTORY AS I ON R.INVENTORY_ID = I.INVENTORY_ID\n",
    "         INNER JOIN SAKILA.STORE AS S ON I.STORE_ID = S.STORE_ID\n",
    "GROUP BY S.STORE_ID\n",
    "ORDER BY RENTAL_COUNT DESC\n",
    "LIMIT 5;\n",
    "\"\"\"\n",
    "query4 = pd.read_sql(query, cnx)\n",
    "print(query4.to_string())"
   ]
  }
 ],
 "metadata": {
  "kernelspec": {
   "display_name": "Python 3 (ipykernel)",
   "language": "python",
   "name": "python3"
  },
  "language_info": {
   "codemirror_mode": {
    "name": "ipython",
    "version": 3
   },
   "file_extension": ".py",
   "mimetype": "text/x-python",
   "name": "python",
   "nbconvert_exporter": "python",
   "pygments_lexer": "ipython3",
   "version": "3.9.12"
  }
 },
 "nbformat": 4,
 "nbformat_minor": 1
}
