{
 "cells": [
  {
   "cell_type": "code",
   "execution_count": 38,
   "metadata": {},
   "outputs": [],
   "source": [
    "from PyPDF2 import PdfReader,PdfWriter\n",
    "import re\n",
    "import pandas as pd"
   ]
  },
  {
   "cell_type": "code",
   "execution_count": null,
   "metadata": {},
   "outputs": [],
   "source": [
    "reader = PdfReader('apple.pdf')\n",
    "print(len(reader.pages))\n",
    "page = reader.pages[0]\n",
    "text = page.extract_text()\n",
    "print(text)"
   ]
  },
  {
   "cell_type": "code",
   "execution_count": 29,
   "metadata": {},
   "outputs": [],
   "source": [
    "text = text.split('\\n')"
   ]
  },
  {
   "cell_type": "code",
   "execution_count": 30,
   "metadata": {},
   "outputs": [
    {
     "data": {
      "text/plain": [
       "['Page 1 of 190 © 2023 Factiva, Inc. All rights reserved.',\n",
       " 'Q12023AppleIncEarningsCall-Final.........................................................................................................................2',\n",
       " 'Q42022AppleIncEarningsCall-Final.......................................................................................................................13',\n",
       " 'Q32022AppleIncEarningsCall-Final.......................................................................................................................23',\n",
       " 'Q22022AppleIncEarningsCall-Final.......................................................................................................................34',\n",
       " 'Q12022AppleIncEarningsCall-Final.......................................................................................................................44',\n",
       " 'Q42021AppleIncEarningsCall-Final.......................................................................................................................55',\n",
       " 'Q32021AppleIncEarningsCall-Final.......................................................................................................................66',\n",
       " 'Q22021AppleIncEarningsCall-Final.......................................................................................................................77',\n",
       " 'Q12021AppleIncEarningsCall-Final.......................................................................................................................88',\n",
       " 'Q42020AppleIncEarningsCall-Final.......................................................................................................................99',\n",
       " 'Q22020AppleIncEarningsCall-Final.....................................................................................................................110',\n",
       " 'Q12020AppleIncEarningsCall-Final.....................................................................................................................120',\n",
       " 'Q32019AppleIncEarningsCall-Final.....................................................................................................................131',\n",
       " 'Q22019AppleIncEarningsCall-Final.....................................................................................................................141',\n",
       " 'Q12019AppleIncEarningsCall-Final.....................................................................................................................151',\n",
       " 'Q42018AppleIncEarningsCall-Final.....................................................................................................................161',\n",
       " 'Q32018AppleIncEarningsCall-Final.....................................................................................................................171',\n",
       " 'Q22018AppleIncEarningsCall-Final.....................................................................................................................181']"
      ]
     },
     "execution_count": 30,
     "metadata": {},
     "output_type": "execute_result"
    }
   ],
   "source": [
    "text"
   ]
  },
  {
   "cell_type": "code",
   "execution_count": 50,
   "metadata": {},
   "outputs": [],
   "source": [
    "pdf_pages = pd.DataFrame(columns=['name','page'])"
   ]
  },
  {
   "cell_type": "code",
   "execution_count": 55,
   "metadata": {},
   "outputs": [
    {
     "name": "stdout",
     "output_type": "stream",
     "text": [
      "                               name page\n",
      "0  Q12023AppleIncEarningsCall-Final    2\n",
      "                               name page\n",
      "0  Q42022AppleIncEarningsCall-Final   13\n",
      "                               name page\n",
      "0  Q32022AppleIncEarningsCall-Final   23\n",
      "                               name page\n",
      "0  Q22022AppleIncEarningsCall-Final   34\n",
      "                               name page\n",
      "0  Q12022AppleIncEarningsCall-Final   44\n",
      "                               name page\n",
      "0  Q42021AppleIncEarningsCall-Final   55\n",
      "                               name page\n",
      "0  Q32021AppleIncEarningsCall-Final   66\n",
      "                               name page\n",
      "0  Q22021AppleIncEarningsCall-Final   77\n",
      "                               name page\n",
      "0  Q12021AppleIncEarningsCall-Final   88\n",
      "                               name page\n",
      "0  Q42020AppleIncEarningsCall-Final   99\n",
      "                               name page\n",
      "0  Q22020AppleIncEarningsCall-Final  110\n",
      "                               name page\n",
      "0  Q12020AppleIncEarningsCall-Final  120\n",
      "                               name page\n",
      "0  Q32019AppleIncEarningsCall-Final  131\n",
      "                               name page\n",
      "0  Q22019AppleIncEarningsCall-Final  141\n",
      "                               name page\n",
      "0  Q12019AppleIncEarningsCall-Final  151\n",
      "                               name page\n",
      "0  Q42018AppleIncEarningsCall-Final  161\n",
      "                               name page\n",
      "0  Q32018AppleIncEarningsCall-Final  171\n",
      "                               name page\n",
      "0  Q22018AppleIncEarningsCall-Final  181\n"
     ]
    }
   ],
   "source": [
    "# text = text.split(\"\\n\")\n",
    "for i in range(1,len(text)):\n",
    "    value = re.split('\\.+', text[i])\n",
    "    test = pd.DataFrame({'name':[value[0]],'page':[value[1]]})\n",
    "    pdf_pages = pd.concat([pdf_pages,test])"
   ]
  },
  {
   "cell_type": "code",
   "execution_count": 56,
   "metadata": {},
   "outputs": [
    {
     "data": {
      "text/html": [
       "<div>\n",
       "<style scoped>\n",
       "    .dataframe tbody tr th:only-of-type {\n",
       "        vertical-align: middle;\n",
       "    }\n",
       "\n",
       "    .dataframe tbody tr th {\n",
       "        vertical-align: top;\n",
       "    }\n",
       "\n",
       "    .dataframe thead th {\n",
       "        text-align: right;\n",
       "    }\n",
       "</style>\n",
       "<table border=\"1\" class=\"dataframe\">\n",
       "  <thead>\n",
       "    <tr style=\"text-align: right;\">\n",
       "      <th></th>\n",
       "      <th>name</th>\n",
       "      <th>page</th>\n",
       "    </tr>\n",
       "  </thead>\n",
       "  <tbody>\n",
       "    <tr>\n",
       "      <th>0</th>\n",
       "      <td>Q12023AppleIncEarningsCall-Final</td>\n",
       "      <td>2</td>\n",
       "    </tr>\n",
       "    <tr>\n",
       "      <th>0</th>\n",
       "      <td>Q42022AppleIncEarningsCall-Final</td>\n",
       "      <td>13</td>\n",
       "    </tr>\n",
       "    <tr>\n",
       "      <th>0</th>\n",
       "      <td>Q32022AppleIncEarningsCall-Final</td>\n",
       "      <td>23</td>\n",
       "    </tr>\n",
       "    <tr>\n",
       "      <th>0</th>\n",
       "      <td>Q22022AppleIncEarningsCall-Final</td>\n",
       "      <td>34</td>\n",
       "    </tr>\n",
       "    <tr>\n",
       "      <th>0</th>\n",
       "      <td>Q12022AppleIncEarningsCall-Final</td>\n",
       "      <td>44</td>\n",
       "    </tr>\n",
       "    <tr>\n",
       "      <th>0</th>\n",
       "      <td>Q42021AppleIncEarningsCall-Final</td>\n",
       "      <td>55</td>\n",
       "    </tr>\n",
       "    <tr>\n",
       "      <th>0</th>\n",
       "      <td>Q32021AppleIncEarningsCall-Final</td>\n",
       "      <td>66</td>\n",
       "    </tr>\n",
       "    <tr>\n",
       "      <th>0</th>\n",
       "      <td>Q22021AppleIncEarningsCall-Final</td>\n",
       "      <td>77</td>\n",
       "    </tr>\n",
       "    <tr>\n",
       "      <th>0</th>\n",
       "      <td>Q12021AppleIncEarningsCall-Final</td>\n",
       "      <td>88</td>\n",
       "    </tr>\n",
       "    <tr>\n",
       "      <th>0</th>\n",
       "      <td>Q42020AppleIncEarningsCall-Final</td>\n",
       "      <td>99</td>\n",
       "    </tr>\n",
       "    <tr>\n",
       "      <th>0</th>\n",
       "      <td>Q22020AppleIncEarningsCall-Final</td>\n",
       "      <td>110</td>\n",
       "    </tr>\n",
       "    <tr>\n",
       "      <th>0</th>\n",
       "      <td>Q12020AppleIncEarningsCall-Final</td>\n",
       "      <td>120</td>\n",
       "    </tr>\n",
       "    <tr>\n",
       "      <th>0</th>\n",
       "      <td>Q32019AppleIncEarningsCall-Final</td>\n",
       "      <td>131</td>\n",
       "    </tr>\n",
       "    <tr>\n",
       "      <th>0</th>\n",
       "      <td>Q22019AppleIncEarningsCall-Final</td>\n",
       "      <td>141</td>\n",
       "    </tr>\n",
       "    <tr>\n",
       "      <th>0</th>\n",
       "      <td>Q12019AppleIncEarningsCall-Final</td>\n",
       "      <td>151</td>\n",
       "    </tr>\n",
       "    <tr>\n",
       "      <th>0</th>\n",
       "      <td>Q42018AppleIncEarningsCall-Final</td>\n",
       "      <td>161</td>\n",
       "    </tr>\n",
       "    <tr>\n",
       "      <th>0</th>\n",
       "      <td>Q32018AppleIncEarningsCall-Final</td>\n",
       "      <td>171</td>\n",
       "    </tr>\n",
       "    <tr>\n",
       "      <th>0</th>\n",
       "      <td>Q22018AppleIncEarningsCall-Final</td>\n",
       "      <td>181</td>\n",
       "    </tr>\n",
       "  </tbody>\n",
       "</table>\n",
       "</div>"
      ],
      "text/plain": [
       "                               name page\n",
       "0  Q12023AppleIncEarningsCall-Final    2\n",
       "0  Q42022AppleIncEarningsCall-Final   13\n",
       "0  Q32022AppleIncEarningsCall-Final   23\n",
       "0  Q22022AppleIncEarningsCall-Final   34\n",
       "0  Q12022AppleIncEarningsCall-Final   44\n",
       "0  Q42021AppleIncEarningsCall-Final   55\n",
       "0  Q32021AppleIncEarningsCall-Final   66\n",
       "0  Q22021AppleIncEarningsCall-Final   77\n",
       "0  Q12021AppleIncEarningsCall-Final   88\n",
       "0  Q42020AppleIncEarningsCall-Final   99\n",
       "0  Q22020AppleIncEarningsCall-Final  110\n",
       "0  Q12020AppleIncEarningsCall-Final  120\n",
       "0  Q32019AppleIncEarningsCall-Final  131\n",
       "0  Q22019AppleIncEarningsCall-Final  141\n",
       "0  Q12019AppleIncEarningsCall-Final  151\n",
       "0  Q42018AppleIncEarningsCall-Final  161\n",
       "0  Q32018AppleIncEarningsCall-Final  171\n",
       "0  Q22018AppleIncEarningsCall-Final  181"
      ]
     },
     "execution_count": 56,
     "metadata": {},
     "output_type": "execute_result"
    }
   ],
   "source": [
    "pdf_pages"
   ]
  }
 ],
 "metadata": {
  "kernelspec": {
   "display_name": "everything",
   "language": "python",
   "name": "python3"
  },
  "language_info": {
   "codemirror_mode": {
    "name": "ipython",
    "version": 3
   },
   "file_extension": ".py",
   "mimetype": "text/x-python",
   "name": "python",
   "nbconvert_exporter": "python",
   "pygments_lexer": "ipython3",
   "version": "3.10.9"
  },
  "orig_nbformat": 4
 },
 "nbformat": 4,
 "nbformat_minor": 2
}
