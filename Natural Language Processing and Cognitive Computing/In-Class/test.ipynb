{
 "cells": [
  {
   "cell_type": "code",
   "execution_count": 12,
   "metadata": {},
   "outputs": [],
   "source": [
    "import pandas as pd\n",
    "import math\n",
    "from textblob import TextBlob"
   ]
  },
  {
   "cell_type": "code",
   "execution_count": 3,
   "metadata": {},
   "outputs": [],
   "source": [
    "news_path = 'https://storage.googleapis.com/msca-bdp-data-open/news/news_some_company.json'\n",
    "df = pd.read_json(news_path,orient='records',lines=True)"
   ]
  },
  {
   "cell_type": "code",
   "execution_count": 9,
   "metadata": {},
   "outputs": [
    {
     "data": {
      "text/html": [
       "<div>\n",
       "<style scoped>\n",
       "    .dataframe tbody tr th:only-of-type {\n",
       "        vertical-align: middle;\n",
       "    }\n",
       "\n",
       "    .dataframe tbody tr th {\n",
       "        vertical-align: top;\n",
       "    }\n",
       "\n",
       "    .dataframe thead th {\n",
       "        text-align: right;\n",
       "    }\n",
       "</style>\n",
       "<table border=\"1\" class=\"dataframe\">\n",
       "  <thead>\n",
       "    <tr style=\"text-align: right;\">\n",
       "      <th></th>\n",
       "      <th>crawled</th>\n",
       "      <th>language</th>\n",
       "      <th>text</th>\n",
       "      <th>title</th>\n",
       "    </tr>\n",
       "  </thead>\n",
       "  <tbody>\n",
       "    <tr>\n",
       "      <th>126</th>\n",
       "      <td>2019-05-07T11:15:50.008+03:00</td>\n",
       "      <td>english</td>\n",
       "      <td>MisterPenguin said: Here's an overlay...\\nView...</td>\n",
       "      <td>Reflections – A Disney Lakeside Lodge (Project...</td>\n",
       "    </tr>\n",
       "    <tr>\n",
       "      <th>411</th>\n",
       "      <td>2019-05-07T20:57:58.012+03:00</td>\n",
       "      <td>english</td>\n",
       "      <td>TrainChasers said: Makes your state seem reall...</td>\n",
       "      <td>Great-grandmother arrested for having CBD oil ...</td>\n",
       "    </tr>\n",
       "    <tr>\n",
       "      <th>721</th>\n",
       "      <td>2019-05-07T23:49:35.019+03:00</td>\n",
       "      <td>english</td>\n",
       "      <td>cgattis said: ↑ Good grief, how old ARE you??!...</td>\n",
       "      <td>Moving To Florida And Visiting WDW More Often ...</td>\n",
       "    </tr>\n",
       "    <tr>\n",
       "      <th>1398</th>\n",
       "      <td>2019-05-08T15:59:46.011+03:00</td>\n",
       "      <td>english</td>\n",
       "      <td>jproff09 said: How often do you people think i...</td>\n",
       "      <td>News - New Gondola Transportation - Disney Sky...</td>\n",
       "    </tr>\n",
       "    <tr>\n",
       "      <th>1455</th>\n",
       "      <td>2019-05-08T17:31:57.008+03:00</td>\n",
       "      <td>english</td>\n",
       "      <td>LAKid53 said: Florida is really 2 different st...</td>\n",
       "      <td>Great-grandmother arrested for having CBD oil ...</td>\n",
       "    </tr>\n",
       "    <tr>\n",
       "      <th>2043</th>\n",
       "      <td>2019-05-09T05:14:38.001+03:00</td>\n",
       "      <td>english</td>\n",
       "      <td>Hester Jordan Burkhalter spent the day in jail...</td>\n",
       "      <td>Great-Grandma Arrested at Disney World for Hav...</td>\n",
       "    </tr>\n",
       "  </tbody>\n",
       "</table>\n",
       "</div>"
      ],
      "text/plain": [
       "                            crawled language  \\\n",
       "126   2019-05-07T11:15:50.008+03:00  english   \n",
       "411   2019-05-07T20:57:58.012+03:00  english   \n",
       "721   2019-05-07T23:49:35.019+03:00  english   \n",
       "1398  2019-05-08T15:59:46.011+03:00  english   \n",
       "1455  2019-05-08T17:31:57.008+03:00  english   \n",
       "2043  2019-05-09T05:14:38.001+03:00  english   \n",
       "\n",
       "                                                   text  \\\n",
       "126   MisterPenguin said: Here's an overlay...\\nView...   \n",
       "411   TrainChasers said: Makes your state seem reall...   \n",
       "721   cgattis said: ↑ Good grief, how old ARE you??!...   \n",
       "1398  jproff09 said: How often do you people think i...   \n",
       "1455  LAKid53 said: Florida is really 2 different st...   \n",
       "2043  Hester Jordan Burkhalter spent the day in jail...   \n",
       "\n",
       "                                                  title  \n",
       "126   Reflections – A Disney Lakeside Lodge (Project...  \n",
       "411   Great-grandmother arrested for having CBD oil ...  \n",
       "721   Moving To Florida And Visiting WDW More Often ...  \n",
       "1398  News - New Gondola Transportation - Disney Sky...  \n",
       "1455  Great-grandmother arrested for having CBD oil ...  \n",
       "2043  Great-Grandma Arrested at Disney World for Hav...  "
      ]
     },
     "execution_count": 9,
     "metadata": {},
     "output_type": "execute_result"
    }
   ],
   "source": [
    "df[((df['title'].str.contains('Florida')) | (df['text'].str.contains('Florida'))) & (~(df['title'].str.contains('Disney')) | (~df['text'].str.contains('Disney'))) ]"
   ]
  },
  {
   "cell_type": "code",
   "execution_count": 18,
   "metadata": {},
   "outputs": [],
   "source": [
    "# http://stevenloria.com/finding-important-words-in-a-document-using-tf-idf/\n",
    "\n",
    "def tf(word, blob):\n",
    "    if len(blob.words)!=0:\n",
    "        return blob.words.count(word) / len(blob.words)\n",
    "    else:\n",
    "        return 0\n",
    "# tf(word, blob) computes \"term frequency\" which is the number of times a word appears in a document blob, \n",
    "# normalized by dividing by the total number of words in blob. We use TextBlob for breaking up the text into words \n",
    "# and getting the word counts.\n",
    "\n",
    "\n",
    "def n_containing(word, bloblist):\n",
    "    return sum(1 for blob in bloblist if word in blob.words)\n",
    "# n_containing(word, bloblist) returns the number of documents containing word. \n",
    "# A generator expression is passed to the sum() function.\n",
    "\n",
    "\n",
    "def idf(word, bloblist):\n",
    "    return math.log(len(bloblist) / (1 + n_containing(word, bloblist)))\n",
    "# idf(word, bloblist) computes \"inverse document frequency\" which measures how common a word is \n",
    "# among all documents in bloblist. The more common a word is, the lower its idf. \n",
    "# We take the ratio of the total number of documents to the number of documents containing word, \n",
    "# then take the log of that. Add 1 to the divisor to prevent division by zero\n",
    "\n",
    "\n",
    "def tfidf(word, blob, bloblist):\n",
    "    return tf(word, blob) * idf(word, bloblist)\n",
    "# tfidf(word, blob, bloblist) computes the TF-IDF score. It is simply the product of tf and idf."
   ]
  },
  {
   "cell_type": "code",
   "execution_count": 13,
   "metadata": {},
   "outputs": [
    {
     "data": {
      "text/plain": [
       "2931"
      ]
     },
     "execution_count": 13,
     "metadata": {},
     "output_type": "execute_result"
    }
   ],
   "source": [
    "bloblist = []\n",
    "del bloblist[:]\n",
    "\n",
    "for i  in range(0,len(df['text'])):\n",
    "    bloblist.append(TextBlob(df['text'].iloc[i]))\n",
    "    \n",
    "len(bloblist)  "
   ]
  },
  {
   "cell_type": "code",
   "execution_count": 14,
   "metadata": {},
   "outputs": [],
   "source": [
    "def get_blob(string):\n",
    "    blob = TextBlob(string)\n",
    "    value =''\n",
    "    scores = {word: tfidf(word, blob, bloblist) for word in string}\n",
    "    sorted_words = sorted(scores.items(), key=lambda x: x[1], reverse=True)\n",
    "    for word, score in sorted_words[:5]:\n",
    "        value = value + \"\\n\" + \"Word: {}, TF-IDF: {}\".format(word, round(score, 5))\n",
    "    return value"
   ]
  },
  {
   "cell_type": "code",
   "execution_count": 22,
   "metadata": {},
   "outputs": [],
   "source": [
    "from tqdm.auto import tqdm\n",
    "tqdm.pandas()"
   ]
  },
  {
   "cell_type": "code",
   "execution_count": 24,
   "metadata": {},
   "outputs": [
    {
     "name": "stdout",
     "output_type": "stream",
     "text": [
      "Top words in tweet 1\n",
      "\tWord: And, TF-IDF: 0.06054\n",
      "\tWord: You, TF-IDF: 0.05518\n",
      "\tWord: Have, TF-IDF: 0.0524\n",
      "\tWord: I, TF-IDF: 0.04151\n",
      "\tWord: FuelRod, TF-IDF: 0.03895\n",
      "Top words in tweet 2\n",
      "\tWord: 50th, TF-IDF: 0.08855\n",
      "\tWord: I, TF-IDF: 0.06843\n",
      "\tWord: castle, TF-IDF: 0.06629\n",
      "\tWord: guess, TF-IDF: 0.05982\n",
      "\tWord: Castle, TF-IDF: 0.05982\n",
      "Top words in tweet 3\n",
      "\tWord: McMahon, TF-IDF: 0.21012\n",
      "\tWord: league, TF-IDF: 0.20411\n",
      "\tWord: 05-06-2019, TF-IDF: 0.08011\n",
      "\tWord: go-around, TF-IDF: 0.08011\n",
      "\tWord: gimmicks, TF-IDF: 0.08011\n",
      "Top words in tweet 4\n",
      "\tWord: Cups, TF-IDF: 0.07644\n",
      "\tWord: cups, TF-IDF: 0.06684\n",
      "\tWord: And, TF-IDF: 0.06049\n",
      "\tWord: To, TF-IDF: 0.0499\n",
      "\tWord: EPCOT, TF-IDF: 0.04029\n",
      "Top words in tweet 5\n",
      "\tWord: Fullscreen, TF-IDF: 0.10776\n",
      "\tWord: And, TF-IDF: 0.05067\n",
      "\tWord: A, TF-IDF: 0.03198\n",
      "\tWord: In, TF-IDF: 0.03015\n",
      "\tWord: Land, TF-IDF: 0.02982\n"
     ]
    }
   ],
   "source": [
    "for i, blob in enumerate(bloblist):\n",
    "# Print top 5 values\n",
    "    if i == 5:\n",
    "        break\n",
    "    print(\"Top words in tweet {}\".format(i + 1))\n",
    "    scores = {word: tfidf(word, blob, bloblist) for word in blob.words}\n",
    "    sorted_words = sorted(scores.items(), key=lambda x: x[1], reverse=True)\n",
    "    for word, score in sorted_words[:5]:\n",
    "        print(\"\\tWord: {}, TF-IDF: {}\".format(word, round(score, 5)))"
   ]
  },
  {
   "cell_type": "code",
   "execution_count": 23,
   "metadata": {},
   "outputs": [
    {
     "data": {
      "application/vnd.jupyter.widget-view+json": {
       "model_id": "3fd16902e2f3413cb56e676dd3dc178b",
       "version_major": 2,
       "version_minor": 0
      },
      "text/plain": [
       "  0%|          | 0/2931 [00:00<?, ?it/s]"
      ]
     },
     "metadata": {},
     "output_type": "display_data"
    },
    {
     "ename": "KeyboardInterrupt",
     "evalue": "",
     "output_type": "error",
     "traceback": [
      "\u001b[1;31m---------------------------------------------------------------------------\u001b[0m",
      "\u001b[1;31mKeyboardInterrupt\u001b[0m                         Traceback (most recent call last)",
      "Cell \u001b[1;32mIn[23], line 1\u001b[0m\n\u001b[1;32m----> 1\u001b[0m df[\u001b[39m'\u001b[39m\u001b[39mtopic\u001b[39m\u001b[39m'\u001b[39m] \u001b[39m=\u001b[39m df[\u001b[39m'\u001b[39;49m\u001b[39mtext\u001b[39;49m\u001b[39m'\u001b[39;49m]\u001b[39m.\u001b[39;49mprogress_apply(get_blob)\n",
      "File \u001b[1;32mc:\\Users\\yomaa\\Documents\\Environment\\everything\\lib\\site-packages\\tqdm\\std.py:805\u001b[0m, in \u001b[0;36mtqdm.pandas.<locals>.inner_generator.<locals>.inner\u001b[1;34m(df, func, *args, **kwargs)\u001b[0m\n\u001b[0;32m    802\u001b[0m \u001b[39m# Apply the provided function (in **kwargs)\u001b[39;00m\n\u001b[0;32m    803\u001b[0m \u001b[39m# on the df using our wrapper (which provides bar updating)\u001b[39;00m\n\u001b[0;32m    804\u001b[0m \u001b[39mtry\u001b[39;00m:\n\u001b[1;32m--> 805\u001b[0m     \u001b[39mreturn\u001b[39;00m \u001b[39mgetattr\u001b[39m(df, df_function)(wrapper, \u001b[39m*\u001b[39m\u001b[39m*\u001b[39mkwargs)\n\u001b[0;32m    806\u001b[0m \u001b[39mfinally\u001b[39;00m:\n\u001b[0;32m    807\u001b[0m     t\u001b[39m.\u001b[39mclose()\n",
      "File \u001b[1;32mc:\\Users\\yomaa\\Documents\\Environment\\everything\\lib\\site-packages\\pandas\\core\\series.py:4771\u001b[0m, in \u001b[0;36mSeries.apply\u001b[1;34m(self, func, convert_dtype, args, **kwargs)\u001b[0m\n\u001b[0;32m   4661\u001b[0m \u001b[39mdef\u001b[39;00m \u001b[39mapply\u001b[39m(\n\u001b[0;32m   4662\u001b[0m     \u001b[39mself\u001b[39m,\n\u001b[0;32m   4663\u001b[0m     func: AggFuncType,\n\u001b[1;32m   (...)\u001b[0m\n\u001b[0;32m   4666\u001b[0m     \u001b[39m*\u001b[39m\u001b[39m*\u001b[39mkwargs,\n\u001b[0;32m   4667\u001b[0m ) \u001b[39m-\u001b[39m\u001b[39m>\u001b[39m DataFrame \u001b[39m|\u001b[39m Series:\n\u001b[0;32m   4668\u001b[0m \u001b[39m    \u001b[39m\u001b[39m\"\"\"\u001b[39;00m\n\u001b[0;32m   4669\u001b[0m \u001b[39m    Invoke function on values of Series.\u001b[39;00m\n\u001b[0;32m   4670\u001b[0m \n\u001b[1;32m   (...)\u001b[0m\n\u001b[0;32m   4769\u001b[0m \u001b[39m    dtype: float64\u001b[39;00m\n\u001b[0;32m   4770\u001b[0m \u001b[39m    \"\"\"\u001b[39;00m\n\u001b[1;32m-> 4771\u001b[0m     \u001b[39mreturn\u001b[39;00m SeriesApply(\u001b[39mself\u001b[39;49m, func, convert_dtype, args, kwargs)\u001b[39m.\u001b[39;49mapply()\n",
      "File \u001b[1;32mc:\\Users\\yomaa\\Documents\\Environment\\everything\\lib\\site-packages\\pandas\\core\\apply.py:1123\u001b[0m, in \u001b[0;36mSeriesApply.apply\u001b[1;34m(self)\u001b[0m\n\u001b[0;32m   1120\u001b[0m     \u001b[39mreturn\u001b[39;00m \u001b[39mself\u001b[39m\u001b[39m.\u001b[39mapply_str()\n\u001b[0;32m   1122\u001b[0m \u001b[39m# self.f is Callable\u001b[39;00m\n\u001b[1;32m-> 1123\u001b[0m \u001b[39mreturn\u001b[39;00m \u001b[39mself\u001b[39;49m\u001b[39m.\u001b[39;49mapply_standard()\n",
      "File \u001b[1;32mc:\\Users\\yomaa\\Documents\\Environment\\everything\\lib\\site-packages\\pandas\\core\\apply.py:1174\u001b[0m, in \u001b[0;36mSeriesApply.apply_standard\u001b[1;34m(self)\u001b[0m\n\u001b[0;32m   1172\u001b[0m     \u001b[39melse\u001b[39;00m:\n\u001b[0;32m   1173\u001b[0m         values \u001b[39m=\u001b[39m obj\u001b[39m.\u001b[39mastype(\u001b[39mobject\u001b[39m)\u001b[39m.\u001b[39m_values\n\u001b[1;32m-> 1174\u001b[0m         mapped \u001b[39m=\u001b[39m lib\u001b[39m.\u001b[39;49mmap_infer(\n\u001b[0;32m   1175\u001b[0m             values,\n\u001b[0;32m   1176\u001b[0m             f,\n\u001b[0;32m   1177\u001b[0m             convert\u001b[39m=\u001b[39;49m\u001b[39mself\u001b[39;49m\u001b[39m.\u001b[39;49mconvert_dtype,\n\u001b[0;32m   1178\u001b[0m         )\n\u001b[0;32m   1180\u001b[0m \u001b[39mif\u001b[39;00m \u001b[39mlen\u001b[39m(mapped) \u001b[39mand\u001b[39;00m \u001b[39misinstance\u001b[39m(mapped[\u001b[39m0\u001b[39m], ABCSeries):\n\u001b[0;32m   1181\u001b[0m     \u001b[39m# GH#43986 Need to do list(mapped) in order to get treated as nested\u001b[39;00m\n\u001b[0;32m   1182\u001b[0m     \u001b[39m#  See also GH#25959 regarding EA support\u001b[39;00m\n\u001b[0;32m   1183\u001b[0m     \u001b[39mreturn\u001b[39;00m obj\u001b[39m.\u001b[39m_constructor_expanddim(\u001b[39mlist\u001b[39m(mapped), index\u001b[39m=\u001b[39mobj\u001b[39m.\u001b[39mindex)\n",
      "File \u001b[1;32mc:\\Users\\yomaa\\Documents\\Environment\\everything\\lib\\site-packages\\pandas\\_libs\\lib.pyx:2924\u001b[0m, in \u001b[0;36mpandas._libs.lib.map_infer\u001b[1;34m()\u001b[0m\n",
      "File \u001b[1;32mc:\\Users\\yomaa\\Documents\\Environment\\everything\\lib\\site-packages\\tqdm\\std.py:800\u001b[0m, in \u001b[0;36mtqdm.pandas.<locals>.inner_generator.<locals>.inner.<locals>.wrapper\u001b[1;34m(*args, **kwargs)\u001b[0m\n\u001b[0;32m    794\u001b[0m \u001b[39mdef\u001b[39;00m \u001b[39mwrapper\u001b[39m(\u001b[39m*\u001b[39margs, \u001b[39m*\u001b[39m\u001b[39m*\u001b[39mkwargs):\n\u001b[0;32m    795\u001b[0m     \u001b[39m# update tbar correctly\u001b[39;00m\n\u001b[0;32m    796\u001b[0m     \u001b[39m# it seems `pandas apply` calls `func` twice\u001b[39;00m\n\u001b[0;32m    797\u001b[0m     \u001b[39m# on the first column/row to decide whether it can\u001b[39;00m\n\u001b[0;32m    798\u001b[0m     \u001b[39m# take a fast or slow code path; so stop when t.total==t.n\u001b[39;00m\n\u001b[0;32m    799\u001b[0m     t\u001b[39m.\u001b[39mupdate(n\u001b[39m=\u001b[39m\u001b[39m1\u001b[39m \u001b[39mif\u001b[39;00m \u001b[39mnot\u001b[39;00m t\u001b[39m.\u001b[39mtotal \u001b[39mor\u001b[39;00m t\u001b[39m.\u001b[39mn \u001b[39m<\u001b[39m t\u001b[39m.\u001b[39mtotal \u001b[39melse\u001b[39;00m \u001b[39m0\u001b[39m)\n\u001b[1;32m--> 800\u001b[0m     \u001b[39mreturn\u001b[39;00m func(\u001b[39m*\u001b[39margs, \u001b[39m*\u001b[39m\u001b[39m*\u001b[39mkwargs)\n",
      "Cell \u001b[1;32mIn[14], line 4\u001b[0m, in \u001b[0;36mget_blob\u001b[1;34m(string)\u001b[0m\n\u001b[0;32m      2\u001b[0m blob \u001b[39m=\u001b[39m TextBlob(string)\n\u001b[0;32m      3\u001b[0m value \u001b[39m=\u001b[39m\u001b[39m'\u001b[39m\u001b[39m'\u001b[39m\n\u001b[1;32m----> 4\u001b[0m scores \u001b[39m=\u001b[39m {word: tfidf(word, blob, bloblist) \u001b[39mfor\u001b[39;00m word \u001b[39min\u001b[39;00m string}\n\u001b[0;32m      5\u001b[0m sorted_words \u001b[39m=\u001b[39m \u001b[39msorted\u001b[39m(scores\u001b[39m.\u001b[39mitems(), key\u001b[39m=\u001b[39m\u001b[39mlambda\u001b[39;00m x: x[\u001b[39m1\u001b[39m], reverse\u001b[39m=\u001b[39m\u001b[39mTrue\u001b[39;00m)\n\u001b[0;32m      6\u001b[0m \u001b[39mfor\u001b[39;00m word, score \u001b[39min\u001b[39;00m sorted_words[:\u001b[39m5\u001b[39m]:\n",
      "Cell \u001b[1;32mIn[14], line 4\u001b[0m, in \u001b[0;36m<dictcomp>\u001b[1;34m(.0)\u001b[0m\n\u001b[0;32m      2\u001b[0m blob \u001b[39m=\u001b[39m TextBlob(string)\n\u001b[0;32m      3\u001b[0m value \u001b[39m=\u001b[39m\u001b[39m'\u001b[39m\u001b[39m'\u001b[39m\n\u001b[1;32m----> 4\u001b[0m scores \u001b[39m=\u001b[39m {word: tfidf(word, blob, bloblist) \u001b[39mfor\u001b[39;00m word \u001b[39min\u001b[39;00m string}\n\u001b[0;32m      5\u001b[0m sorted_words \u001b[39m=\u001b[39m \u001b[39msorted\u001b[39m(scores\u001b[39m.\u001b[39mitems(), key\u001b[39m=\u001b[39m\u001b[39mlambda\u001b[39;00m x: x[\u001b[39m1\u001b[39m], reverse\u001b[39m=\u001b[39m\u001b[39mTrue\u001b[39;00m)\n\u001b[0;32m      6\u001b[0m \u001b[39mfor\u001b[39;00m word, score \u001b[39min\u001b[39;00m sorted_words[:\u001b[39m5\u001b[39m]:\n",
      "Cell \u001b[1;32mIn[18], line 28\u001b[0m, in \u001b[0;36mtfidf\u001b[1;34m(word, blob, bloblist)\u001b[0m\n\u001b[0;32m     27\u001b[0m \u001b[39mdef\u001b[39;00m \u001b[39mtfidf\u001b[39m(word, blob, bloblist):\n\u001b[1;32m---> 28\u001b[0m     \u001b[39mreturn\u001b[39;00m tf(word, blob) \u001b[39m*\u001b[39m idf(word, bloblist)\n",
      "Cell \u001b[1;32mIn[18], line 5\u001b[0m, in \u001b[0;36mtf\u001b[1;34m(word, blob)\u001b[0m\n\u001b[0;32m      3\u001b[0m \u001b[39mdef\u001b[39;00m \u001b[39mtf\u001b[39m(word, blob):\n\u001b[0;32m      4\u001b[0m     \u001b[39mif\u001b[39;00m \u001b[39mlen\u001b[39m(blob\u001b[39m.\u001b[39mwords)\u001b[39m!=\u001b[39m\u001b[39m0\u001b[39m:\n\u001b[1;32m----> 5\u001b[0m         \u001b[39mreturn\u001b[39;00m blob\u001b[39m.\u001b[39;49mwords\u001b[39m.\u001b[39;49mcount(word) \u001b[39m/\u001b[39m \u001b[39mlen\u001b[39m(blob\u001b[39m.\u001b[39mwords)\n\u001b[0;32m      6\u001b[0m     \u001b[39melse\u001b[39;00m:\n\u001b[0;32m      7\u001b[0m         \u001b[39mreturn\u001b[39;00m \u001b[39m0\u001b[39m\n",
      "File \u001b[1;32mc:\\Users\\yomaa\\Documents\\Environment\\everything\\lib\\site-packages\\textblob\\blob.py:272\u001b[0m, in \u001b[0;36mWordList.count\u001b[1;34m(self, strg, case_sensitive, *args, **kwargs)\u001b[0m\n\u001b[0;32m    266\u001b[0m \u001b[39m\u001b[39m\u001b[39m\"\"\"Get the count of a word or phrase `s` within this WordList.\u001b[39;00m\n\u001b[0;32m    267\u001b[0m \n\u001b[0;32m    268\u001b[0m \u001b[39m:param strg: The string to count.\u001b[39;00m\n\u001b[0;32m    269\u001b[0m \u001b[39m:param case_sensitive: A boolean, whether or not the search is case-sensitive.\u001b[39;00m\n\u001b[0;32m    270\u001b[0m \u001b[39m\"\"\"\u001b[39;00m\n\u001b[0;32m    271\u001b[0m \u001b[39mif\u001b[39;00m \u001b[39mnot\u001b[39;00m case_sensitive:\n\u001b[1;32m--> 272\u001b[0m     \u001b[39mreturn\u001b[39;00m [word\u001b[39m.\u001b[39mlower() \u001b[39mfor\u001b[39;00m word \u001b[39min\u001b[39;00m \u001b[39mself\u001b[39m]\u001b[39m.\u001b[39mcount(strg\u001b[39m.\u001b[39mlower(), \u001b[39m*\u001b[39margs,\n\u001b[0;32m    273\u001b[0m             \u001b[39m*\u001b[39m\u001b[39m*\u001b[39mkwargs)\n\u001b[0;32m    274\u001b[0m \u001b[39mreturn\u001b[39;00m \u001b[39msuper\u001b[39m(WordList, \u001b[39mself\u001b[39m)\u001b[39m.\u001b[39mcount(strg, \u001b[39m*\u001b[39margs, \u001b[39m*\u001b[39m\u001b[39m*\u001b[39mkwargs)\n",
      "File \u001b[1;32mc:\\Users\\yomaa\\Documents\\Environment\\everything\\lib\\site-packages\\textblob\\blob.py:272\u001b[0m, in \u001b[0;36m<listcomp>\u001b[1;34m(.0)\u001b[0m\n\u001b[0;32m    266\u001b[0m \u001b[39m\u001b[39m\u001b[39m\"\"\"Get the count of a word or phrase `s` within this WordList.\u001b[39;00m\n\u001b[0;32m    267\u001b[0m \n\u001b[0;32m    268\u001b[0m \u001b[39m:param strg: The string to count.\u001b[39;00m\n\u001b[0;32m    269\u001b[0m \u001b[39m:param case_sensitive: A boolean, whether or not the search is case-sensitive.\u001b[39;00m\n\u001b[0;32m    270\u001b[0m \u001b[39m\"\"\"\u001b[39;00m\n\u001b[0;32m    271\u001b[0m \u001b[39mif\u001b[39;00m \u001b[39mnot\u001b[39;00m case_sensitive:\n\u001b[1;32m--> 272\u001b[0m     \u001b[39mreturn\u001b[39;00m [word\u001b[39m.\u001b[39mlower() \u001b[39mfor\u001b[39;00m word \u001b[39min\u001b[39;00m \u001b[39mself\u001b[39m]\u001b[39m.\u001b[39mcount(strg\u001b[39m.\u001b[39mlower(), \u001b[39m*\u001b[39margs,\n\u001b[0;32m    273\u001b[0m             \u001b[39m*\u001b[39m\u001b[39m*\u001b[39mkwargs)\n\u001b[0;32m    274\u001b[0m \u001b[39mreturn\u001b[39;00m \u001b[39msuper\u001b[39m(WordList, \u001b[39mself\u001b[39m)\u001b[39m.\u001b[39mcount(strg, \u001b[39m*\u001b[39margs, \u001b[39m*\u001b[39m\u001b[39m*\u001b[39mkwargs)\n",
      "\u001b[1;31mKeyboardInterrupt\u001b[0m: "
     ]
    }
   ],
   "source": [
    "df['topic'] = df['text'].progress_apply(get_blob)"
   ]
  }
 ],
 "metadata": {
  "kernelspec": {
   "display_name": "everything",
   "language": "python",
   "name": "python3"
  },
  "language_info": {
   "codemirror_mode": {
    "name": "ipython",
    "version": 3
   },
   "file_extension": ".py",
   "mimetype": "text/x-python",
   "name": "python",
   "nbconvert_exporter": "python",
   "pygments_lexer": "ipython3",
   "version": "3.10.9"
  },
  "orig_nbformat": 4
 },
 "nbformat": 4,
 "nbformat_minor": 2
}
