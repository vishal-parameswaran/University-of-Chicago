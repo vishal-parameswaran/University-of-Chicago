{
 "cells": [
  {
   "cell_type": "markdown",
   "metadata": {},
   "source": [
    "## Out of three books provided, which two are most similar?\n",
    "- How would you approach quantitatively measuring the similarity between them?"
   ]
  },
  {
   "cell_type": "code",
   "execution_count": 18,
   "metadata": {},
   "outputs": [],
   "source": [
    "import os, glob, requests, sys, nltk"
   ]
  },
  {
   "cell_type": "code",
   "execution_count": 2,
   "metadata": {},
   "outputs": [
    {
     "name": "stdout",
     "output_type": "stream",
     "text": [
      "3.10.9 (tags/v3.10.9:1dd9be6, Dec  6 2022, 20:01:21) [MSC v.1934 64 bit (AMD64)]\n"
     ]
    }
   ],
   "source": [
    "print(sys.version)"
   ]
  },
  {
   "cell_type": "markdown",
   "metadata": {
    "tags": []
   },
   "source": [
    "#### Copy source data from GCS into local FS"
   ]
  },
  {
   "cell_type": "code",
   "execution_count": 3,
   "metadata": {},
   "outputs": [],
   "source": [
    "def get_gcs_data (bucket_name, folder_name, file_name, local_folder_name):\n",
    "    url = 'https://storage.googleapis.com/' + bucket_name + '/' + folder_name + '/' + file_name\n",
    "    r = requests.get(url)\n",
    "    open(local_folder_name + '/' + file_name , 'wb').write(r.content)"
   ]
  },
  {
   "cell_type": "code",
   "execution_count": 5,
   "metadata": {},
   "outputs": [
    {
     "name": "stdout",
     "output_type": "stream",
     "text": [
      "Downloaded: Class_3_Book_1.txt\n",
      "Downloaded: Class_3_Book_2.txt\n",
      "Downloaded: Class_3_Book_3.txt\n"
     ]
    }
   ],
   "source": [
    "bucket_name = 'msca-bdp-data-open'\n",
    "folder_name = 'books'\n",
    "file_name = ['Class_3_Book_1.txt', 'Class_3_Book_2.txt', 'Class_3_Book_3.txt']\n",
    "local_folder_name = '../data/' # Replace with your local directory name\n",
    "\n",
    "os.makedirs(local_folder_name, exist_ok=True)\n",
    "\n",
    "for file in file_name:\n",
    "    get_gcs_data (bucket_name = bucket_name,\n",
    "                 folder_name = folder_name,\n",
    "                 file_name = file,\n",
    "                 local_folder_name = local_folder_name)\n",
    "    print('Downloaded: ' + file)"
   ]
  },
  {
   "cell_type": "code",
   "execution_count": 12,
   "metadata": {},
   "outputs": [],
   "source": [
    "book1 = open('../data/Class_3_Book_1.txt','r', encoding='utf-8')\n",
    "book1 = book1.read()\n",
    "book2 = open('../data/Class_3_Book_2.txt','r', encoding='utf-8')\n",
    "book2 = book2.read()\n",
    "book3 = open('../data/Class_3_Book_3.txt','r', encoding='utf-8')\n",
    "book3 = book3.read()"
   ]
  },
  {
   "cell_type": "code",
   "execution_count": 13,
   "metadata": {},
   "outputs": [
    {
     "data": {
      "text/plain": [
       "str"
      ]
     },
     "execution_count": 13,
     "metadata": {},
     "output_type": "execute_result"
    }
   ],
   "source": []
  },
  {
   "cell_type": "code",
   "execution_count": 15,
   "metadata": {},
   "outputs": [],
   "source": [
    "book1 = book1.replace('\\n',' ')\n",
    "book2 = book2.replace('\\n',' ')\n",
    "book3 = book3.replace('\\n',' ')"
   ]
  },
  {
   "cell_type": "code",
   "execution_count": 20,
   "metadata": {},
   "outputs": [],
   "source": [
    "def clean(string):\n",
    "    words = nltk.tokenize.word_tokenize(string)\n",
    "    words = [word for word in words if len(word) > 1]\n",
    "    words = [word for word in words if word.isalpha()]\n",
    "    words_lc = [word.lower() for word in words]\n",
    "    words = [wnl.lemmatize(word) for word in words_lc]\n",
    "    return words\n"
   ]
  },
  {
   "cell_type": "code",
   "execution_count": 19,
   "metadata": {},
   "outputs": [],
   "source": [
    "wnl = nltk.WordNetLemmatizer()"
   ]
  },
  {
   "cell_type": "code",
   "execution_count": 22,
   "metadata": {},
   "outputs": [],
   "source": [
    "cleaned_book1 = clean(book1)\n",
    "cleaned_book2 = clean(book2)\n",
    "cleaned_book3 = clean(book3)"
   ]
  },
  {
   "cell_type": "code",
   "execution_count": 25,
   "metadata": {},
   "outputs": [],
   "source": [
    "diff_book1_book3 = [x for x in cleaned_book1 if x not in cleaned_book3]\n",
    "diff_book1_book2 = [x for x in cleaned_book1 if x not in cleaned_book2]\n",
    "diff_book2_book3 = [x for x in cleaned_book2 if x not in cleaned_book3]\n",
    "common_book1_book3 = [x for x in cleaned_book1 if x in cleaned_book3]\n",
    "common_book1_book2 = [x for x in cleaned_book1 if x in cleaned_book2]\n",
    "common_book2_book3 = [x for x in cleaned_book2 if x in cleaned_book3]"
   ]
  },
  {
   "cell_type": "code",
   "execution_count": 26,
   "metadata": {},
   "outputs": [
    {
     "name": "stdout",
     "output_type": "stream",
     "text": [
      "Similarity between Book 1 and Book 2 is:0.0851873360434147\n",
      "Similarity between Book 1 and Book 3 is:0.08937581666499146\n",
      "Similarity between Book 2 and Book 3 is:0.09931348486465336\n"
     ]
    }
   ],
   "source": [
    "print(\"Similarity between Book 1 and Book 2 is:\" + str((len(diff_book1_book2)/len(common_book1_book2))))\n",
    "print(\"Similarity between Book 1 and Book 3 is:\" + str((len(diff_book1_book3)/len(common_book1_book3))))\n",
    "print(\"Similarity between Book 2 and Book 3 is:\" + str((len(diff_book2_book3)/len(common_book2_book3))))"
   ]
  },
  {
   "cell_type": "code",
   "execution_count": null,
   "metadata": {},
   "outputs": [],
   "source": []
  }
 ],
 "metadata": {
  "anaconda-cloud": {},
  "kernelspec": {
   "display_name": "everything",
   "language": "python",
   "name": "python3"
  },
  "language_info": {
   "codemirror_mode": {
    "name": "ipython",
    "version": 3
   },
   "file_extension": ".py",
   "mimetype": "text/x-python",
   "name": "python",
   "nbconvert_exporter": "python",
   "pygments_lexer": "ipython3",
   "version": "3.10.9"
  },
  "vscode": {
   "interpreter": {
    "hash": "9d7a4ffad4f6b940f5e2789a62bdb58d1b41bd096fb341dd6a0cc7498e58b93c"
   }
  }
 },
 "nbformat": 4,
 "nbformat_minor": 4
}
