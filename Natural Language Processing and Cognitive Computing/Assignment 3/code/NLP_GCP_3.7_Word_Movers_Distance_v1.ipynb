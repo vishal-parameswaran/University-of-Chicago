{
 "cells": [
  {
   "cell_type": "markdown",
   "metadata": {},
   "source": [
    "## Comparing documents using Word Mover’s Distance"
   ]
  },
  {
   "cell_type": "code",
   "execution_count": 1,
   "metadata": {},
   "outputs": [
    {
     "name": "stdout",
     "output_type": "stream",
     "text": [
      "3.10.9 (tags/v3.10.9:1dd9be6, Dec  6 2022, 20:01:21) [MSC v.1934 64 bit (AMD64)]\n"
     ]
    }
   ],
   "source": [
    "import sys\n",
    "print(sys.version)"
   ]
  },
  {
   "cell_type": "code",
   "execution_count": 2,
   "metadata": {},
   "outputs": [],
   "source": [
    "import os\n",
    "import time"
   ]
  },
  {
   "cell_type": "code",
   "execution_count": 3,
   "metadata": {},
   "outputs": [],
   "source": [
    "#!pip install gensim --upgrade"
   ]
  },
  {
   "cell_type": "code",
   "execution_count": 4,
   "metadata": {},
   "outputs": [
    {
     "data": {
      "text/plain": [
       "'4.0.1'"
      ]
     },
     "execution_count": 4,
     "metadata": {},
     "output_type": "execute_result"
    }
   ],
   "source": [
    "import gensim\n",
    "gensim.__version__"
   ]
  },
  {
   "cell_type": "code",
   "execution_count": 5,
   "metadata": {},
   "outputs": [],
   "source": [
    "from gensim.models import KeyedVectors\n",
    "from gensim.models.fasttext import FastText\n",
    "import pandas as pd"
   ]
  },
  {
   "cell_type": "code",
   "execution_count": 6,
   "metadata": {},
   "outputs": [],
   "source": [
    "path_wordvec = '../data/'\n",
    "\n",
    "if not os.path.isdir(path_wordvec): os.mkdir(path_wordvec)"
   ]
  },
  {
   "cell_type": "code",
   "execution_count": 7,
   "metadata": {},
   "outputs": [],
   "source": [
    "# !gsutil cp -n 'gs://msca-bdp-data-open/wordvec/GoogleNews-vectors-negative300.bin' '/home/jupyter/data/wordvec/'"
   ]
  },
  {
   "cell_type": "code",
   "execution_count": 8,
   "metadata": {
    "tags": []
   },
   "outputs": [],
   "source": [
    "# !gsutil cp -n 'gs://msca-bdp-data-open/wordvec/wiki.en.vec' '/home/jupyter/data/wordvec/'"
   ]
  },
  {
   "cell_type": "code",
   "execution_count": 9,
   "metadata": {},
   "outputs": [],
   "source": [
    "import nltk\n",
    "from nltk.corpus import stopwords\n",
    "stop_words = set(nltk.corpus.stopwords.words('english'))\n",
    "\n",
    "def preprocess(sentence):\n",
    "    return [w for w in sentence.lower().split() if w not in stop_words]"
   ]
  },
  {
   "cell_type": "markdown",
   "metadata": {},
   "source": [
    "#### Import pretrained VSM model"
   ]
  },
  {
   "cell_type": "code",
   "execution_count": 10,
   "metadata": {},
   "outputs": [
    {
     "name": "stdout",
     "output_type": "stream",
     "text": [
      "CPU times: user 27.5 s, sys: 3.61 s, total: 31.1 s\n",
      "Wall time: 53.4 s\n"
     ]
    }
   ],
   "source": [
    "%%time\n",
    "\n",
    "model_google = KeyedVectors.load_word2vec_format(os.path.join(path_wordvec, 'GoogleNews-vectors-negative300.bin'), binary=True)"
   ]
  },
  {
   "cell_type": "code",
   "execution_count": 11,
   "metadata": {},
   "outputs": [
    {
     "name": "stdout",
     "output_type": "stream",
     "text": [
      "CPU times: user 5min 41s, sys: 7.53 s, total: 5min 49s\n",
      "Wall time: 5min 53s\n"
     ]
    }
   ],
   "source": [
    "%%time\n",
    "\n",
    "model_fb = KeyedVectors.load_word2vec_format('/home/jupyter/data/wordvec/wiki.en.vec', binary=False)"
   ]
  },
  {
   "cell_type": "code",
   "execution_count": 12,
   "metadata": {},
   "outputs": [],
   "source": [
    "sentence_1 = '''Fresh fruits are healthy'''\n",
    "sentence_2 = '''Berries help you stay fit'''\n",
    "sentence_3 = '''New iPad has  M2 processor'''\n",
    "sentence_4 = '''Rolls-Royce's Spectre coupe EV'''"
   ]
  },
  {
   "cell_type": "code",
   "execution_count": 13,
   "metadata": {},
   "outputs": [],
   "source": [
    "sentence_1 = preprocess(sentence_1)\n",
    "sentence_2 = preprocess(sentence_2)\n",
    "sentence_3 = preprocess(sentence_3)\n",
    "sentence_4 = preprocess(sentence_4)"
   ]
  },
  {
   "cell_type": "code",
   "execution_count": 14,
   "metadata": {},
   "outputs": [
    {
     "name": "stdout",
     "output_type": "stream",
     "text": [
      "Distance between Sentence-1 and Sentence-2 = 1.152\n",
      "Distance between Sentence-1 and Sentence-3 = 1.264\n",
      "Distance between Sentence-1 and Sentence-4 = 1.377\n"
     ]
    }
   ],
   "source": [
    "wm_distance = model_google.wmdistance(sentence_1, sentence_2)\n",
    "print (f'Distance between Sentence-1 and Sentence-2 = {wm_distance:.3f}')\n",
    "\n",
    "wm_distance = model_google.wmdistance(sentence_1, sentence_3)\n",
    "print (f'Distance between Sentence-1 and Sentence-3 = {wm_distance:.3f}')\n",
    "\n",
    "wm_distance = model_google.wmdistance(sentence_1, sentence_4)\n",
    "print (f'Distance between Sentence-1 and Sentence-4 = {wm_distance:.3f}')"
   ]
  },
  {
   "cell_type": "code",
   "execution_count": 15,
   "metadata": {},
   "outputs": [
    {
     "name": "stdout",
     "output_type": "stream",
     "text": [
      "Distance between Sentence-1 and Sentence-2 = 1.073\n",
      "Distance between Sentence-1 and Sentence-3 = 1.195\n",
      "Distance between Sentence-1 and Sentence-4 = 1.282\n"
     ]
    }
   ],
   "source": [
    "wm_distance = model_fb.wmdistance(sentence_1, sentence_2)\n",
    "print (f'Distance between Sentence-1 and Sentence-2 = {wm_distance:.3f}')\n",
    "\n",
    "wm_distance = model_fb.wmdistance(sentence_1, sentence_3)\n",
    "print (f'Distance between Sentence-1 and Sentence-3 = {wm_distance:.3f}')\n",
    "\n",
    "wm_distance = model_fb.wmdistance(sentence_1, sentence_4)\n",
    "print (f'Distance between Sentence-1 and Sentence-4 = {wm_distance:.3f}')"
   ]
  },
  {
   "cell_type": "code",
   "execution_count": null,
   "metadata": {},
   "outputs": [],
   "source": []
  },
  {
   "cell_type": "code",
   "execution_count": null,
   "metadata": {},
   "outputs": [],
   "source": []
  },
  {
   "cell_type": "code",
   "execution_count": null,
   "metadata": {},
   "outputs": [],
   "source": []
  },
  {
   "cell_type": "code",
   "execution_count": 16,
   "metadata": {},
   "outputs": [
    {
     "data": {
      "text/plain": [
       "'Tue, 17 January 2023 20:23:53'"
      ]
     },
     "execution_count": 16,
     "metadata": {},
     "output_type": "execute_result"
    }
   ],
   "source": [
    "import datetime\n",
    "import pytz\n",
    "\n",
    "datetime.datetime.now(pytz.timezone('US/Central')).strftime(\"%a, %d %B %Y %H:%M:%S\")"
   ]
  }
 ],
 "metadata": {
  "kernelspec": {
   "display_name": "everything",
   "language": "python",
   "name": "python3"
  },
  "language_info": {
   "codemirror_mode": {
    "name": "ipython",
    "version": 3
   },
   "file_extension": ".py",
   "mimetype": "text/x-python",
   "name": "python",
   "nbconvert_exporter": "python",
   "pygments_lexer": "ipython3",
   "version": "3.10.9"
  }
 },
 "nbformat": 4,
 "nbformat_minor": 4
}
