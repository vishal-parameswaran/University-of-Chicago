{
 "cells": [
  {
   "cell_type": "markdown",
   "metadata": {},
   "source": [
    "## NLP Class 1 Exercise 1: identify emails from text"
   ]
  },
  {
   "cell_type": "code",
   "execution_count": 1,
   "metadata": {},
   "outputs": [],
   "source": [
    "import pandas as pd\n",
    "import json, os, glob\n",
    "import re"
   ]
  },
  {
   "cell_type": "markdown",
   "metadata": {},
   "source": [
    "### Load Data"
   ]
  },
  {
   "cell_type": "code",
   "execution_count": 2,
   "metadata": {},
   "outputs": [],
   "source": [
    "dirName = 'https://storage.googleapis.com/msca-bdp-data-open/emails/'\n",
    "fileName = 'emails.json'\n",
    "pathName = dirName + fileName"
   ]
  },
  {
   "cell_type": "code",
   "execution_count": 3,
   "metadata": {},
   "outputs": [
    {
     "data": {
      "text/plain": [
       "(3178, 1)"
      ]
     },
     "execution_count": 3,
     "metadata": {},
     "output_type": "execute_result"
    }
   ],
   "source": [
    "df = pd.read_json(pathName, orient='records', lines=True)\n",
    "df.shape"
   ]
  },
  {
   "cell_type": "code",
   "execution_count": 4,
   "metadata": {},
   "outputs": [],
   "source": [
    "pd.set_option('display.max_colwidth', None)"
   ]
  },
  {
   "cell_type": "code",
   "execution_count": 5,
   "metadata": {},
   "outputs": [
    {
     "data": {
      "text/html": [
       "<div>\n",
       "<style scoped>\n",
       "    .dataframe tbody tr th:only-of-type {\n",
       "        vertical-align: middle;\n",
       "    }\n",
       "\n",
       "    .dataframe tbody tr th {\n",
       "        vertical-align: top;\n",
       "    }\n",
       "\n",
       "    .dataframe thead th {\n",
       "        text-align: right;\n",
       "    }\n",
       "</style>\n",
       "<table border=\"1\" class=\"dataframe\">\n",
       "  <thead>\n",
       "    <tr style=\"text-align: right;\">\n",
       "      <th></th>\n",
       "      <th>Sentences</th>\n",
       "    </tr>\n",
       "  </thead>\n",
       "  <tbody>\n",
       "    <tr>\n",
       "      <th>0</th>\n",
       "      <td>Thus far, only one of those four characters has been introduced, with that being the mysterious and sword ...\\n3                            'Person of interest' detained in PHX condo fire   Western Free Press                                                                                                                                                                                                                                                                                                                                                                                                                        ...\\n4        By NEIL HARTNELL Tribune Business Editor nhartnell@tribunemedia.net A Cabinet minister says the \"stars are aligning\" for a Bahamian tourism surge in 2018, with the Government \"100 per cent behind\" Baha Mar's full opening.</td>\n",
       "    </tr>\n",
       "    <tr>\n",
       "      <th>1</th>\n",
       "      <td>Speaking just before Sarkis Iz...\\n5                             *&amp;Sunita&amp; Indian  Model escorts Sharjah   %$# {== +971 543594758 ==} X X X Call girls in Sharjah Modelsunita4you@gmail.com  Indian Female ESCoRTs  Sharjah | Know Your Meme                                             Advanced Search Protips         About     Rules     Chat    Random    Activity        Welcome!</td>\n",
       "    </tr>\n",
       "    <tr>\n",
       "      <th>2</th>\n",
       "      <td>\"I saw all th...\\n11                                                                                                                 Twenty seventeen passes as a terrible, horrible, no good, very bad year for caring mentors passionate about administering shoulder rubs to interns, the Russian American Goodwill Association, and statuary who sin against the present by standing as monuments to its ignorance of the pas t. Read my recap of the year that gets better and better as your life gets worse @ the American Spectator.</td>\n",
       "    </tr>\n",
       "    <tr>\n",
       "      <th>3</th>\n",
       "      <td>Venue: Lanzada, Italy, located in the Sondrio region approximately 90 m...\\n15       2/16  Northwestern vs. Omaha (Glendale, Ariz.) 6 pm 2/17  Northwestern vs. Omaha DH (Glendale, Ariz.) 1 pm 2/18  Northwestern vs. Omaha (Glendale, Ariz.) 1 pm 2/23  Northwestern @ Kansas 3 pm 2/24  Northwestern @ Kansas 2 pm 2/25  Northwestern @ Kansas 1 pm 3/2  Northwestern @ Texas 3/3  Northwestern @ Texas 3/4  Northwestern @ Texas 3/6  Northwestern @ UIC 5:30 pm 3/10  MacMurray @ Northwestern 2 pm 3/11  Judson @ Northwestern 2 pm 3/16  Northwestern @ Central Michigan DH 11:30 am 3/17  Nor...\\n16           2018 update on NOACS | FOAM4GP                                                                                                                                        FOAM4GP       Free Open Access Meducation 4 General Practice                       Menu     Skip to content      Home  Clinical Categories   A M   Aboriginal Health   Aged Care / Geriatrics   Chronic Disease management   Dermatology   Emergency care   ENT   Internal medicine   Men's Health   Mental Health / Drug &amp; Alcohol   ...\\n17       PETALING JAYA, Malaysia, Jan. 2, 2018 /PRNewswire/    In a statement today, Pacific Mutual Fund Bhd, an investment management company under the OCBC Group, with internal resources to manage both local and global investments for its clients, has commented that the new year will see the continuation of bull market, at least for the first quarter of 2018.</td>\n",
       "    </tr>\n",
       "    <tr>\n",
       "      <th>4</th>\n",
       "      <td>ResolutionFoundation (@resfoundation) January 2, 2018 Most were jobless, but a significant minority were in ...\\n21       A 31 year old man has been charged with the murder of a woman who was killed in Finsbury Park on Christmas Eve.</td>\n",
       "    </tr>\n",
       "    <tr>\n",
       "      <th>5</th>\n",
       "      <td>Get yourself a hype man like @aubameyang97  F602 F602 While we shouldn't be surprised that a professional athlete is athletic, Pul...\\n25         5 resolutions for reading and writing about health care in 2018   BioPortfolio.com                                                                                               BioPortfolio     Biotech, Healthcare and Medical Resources                                                                 BioPortfolio    Menu                                                                                            Loading                                                                           ...\\n26       Subscribe to New Jersey 101.5 FM on  My daughter Elizabeth stopped by the studio this morning as she gets ready to head back to London.</td>\n",
       "    </tr>\n",
       "    <tr>\n",
       "      <th>6</th>\n",
       "      <td>Mad About Drama (MAD), a theatre group from Kolkata is in Mumbai to stage their production      A History of Butchers      at Prithvi Theatre as part of Thespo@Prithvi, on January 2 and January 3.</td>\n",
       "    </tr>\n",
       "    <tr>\n",
       "      <th>7</th>\n",
       "      <td>Send your questions about postgrad life to askbrianna@nerdwallet.com.</td>\n",
       "    </tr>\n",
       "    <tr>\n",
       "      <th>8</th>\n",
       "      <td>Questions or concerns relating to the accessibility of the FCC's online public file system should be directed to the FCC at 888 225 5322, 888 835 5322 (TTY), or fccinfo@fcc.gov.</td>\n",
       "    </tr>\n",
       "    <tr>\n",
       "      <th>9</th>\n",
       "      <td>He can be reached at rstrom@alm.com.</td>\n",
       "    </tr>\n",
       "  </tbody>\n",
       "</table>\n",
       "</div>"
      ],
      "text/plain": [
       "                                                                                                                                                                                                                                                                                                                                                                                                                                                                                                                                                                                                                                                                                                                                                                                                                                                                                                                                                                                                                                                                                                                                                                                                                                                                                                                                                                                                                                                                                                             Sentences\n",
       "0                                                                                                                                                                                                                                                                                                                                                                                                                                                                                                                                                                                                                                  Thus far, only one of those four characters has been introduced, with that being the mysterious and sword ...\\n3                            'Person of interest' detained in PHX condo fire   Western Free Press                                                                                                                                                                                                                                                                                                                                                                                                                        ...\\n4        By NEIL HARTNELL Tribune Business Editor nhartnell@tribunemedia.net A Cabinet minister says the \"stars are aligning\" for a Bahamian tourism surge in 2018, with the Government \"100 per cent behind\" Baha Mar's full opening.\n",
       "1                                                                                                                                                                                                                                                                                                                                                                                                                                                                                                                                                                                                                                                                                                                                                                                                                                                                                                                                                                                                                                                                                                                              Speaking just before Sarkis Iz...\\n5                             *&Sunita& Indian  Model escorts Sharjah   %$# {== +971 543594758 ==} X X X Call girls in Sharjah Modelsunita4you@gmail.com  Indian Female ESCoRTs  Sharjah | Know Your Meme                                             Advanced Search Protips         About     Rules     Chat    Random    Activity        Welcome!\n",
       "2                                                                                                                                                                                                                                                                                                                                                                                                                                                                                                                                                                                                                                                                                                                                                                                                                                                                                                                                                                         \"I saw all th...\\n11                                                                                                                 Twenty seventeen passes as a terrible, horrible, no good, very bad year for caring mentors passionate about administering shoulder rubs to interns, the Russian American Goodwill Association, and statuary who sin against the present by standing as monuments to its ignorance of the pas t. Read my recap of the year that gets better and better as your life gets worse @ the American Spectator.\n",
       "3  Venue: Lanzada, Italy, located in the Sondrio region approximately 90 m...\\n15       2/16  Northwestern vs. Omaha (Glendale, Ariz.) 6 pm 2/17  Northwestern vs. Omaha DH (Glendale, Ariz.) 1 pm 2/18  Northwestern vs. Omaha (Glendale, Ariz.) 1 pm 2/23  Northwestern @ Kansas 3 pm 2/24  Northwestern @ Kansas 2 pm 2/25  Northwestern @ Kansas 1 pm 3/2  Northwestern @ Texas 3/3  Northwestern @ Texas 3/4  Northwestern @ Texas 3/6  Northwestern @ UIC 5:30 pm 3/10  MacMurray @ Northwestern 2 pm 3/11  Judson @ Northwestern 2 pm 3/16  Northwestern @ Central Michigan DH 11:30 am 3/17  Nor...\\n16           2018 update on NOACS | FOAM4GP                                                                                                                                        FOAM4GP       Free Open Access Meducation 4 General Practice                       Menu     Skip to content      Home  Clinical Categories   A M   Aboriginal Health   Aged Care / Geriatrics   Chronic Disease management   Dermatology   Emergency care   ENT   Internal medicine   Men's Health   Mental Health / Drug & Alcohol   ...\\n17       PETALING JAYA, Malaysia, Jan. 2, 2018 /PRNewswire/    In a statement today, Pacific Mutual Fund Bhd, an investment management company under the OCBC Group, with internal resources to manage both local and global investments for its clients, has commented that the new year will see the continuation of bull market, at least for the first quarter of 2018.\n",
       "4                                                                                                                                                                                                                                                                                                                                                                                                                                                                                                                                                                                                                                                                                                                                                                                                                                                                                                                                                                                                                                                                                                                                                                                                                                                                            ResolutionFoundation (@resfoundation) January 2, 2018 Most were jobless, but a significant minority were in ...\\n21       A 31 year old man has been charged with the murder of a woman who was killed in Finsbury Park on Christmas Eve.\n",
       "5                                                                                                                                                                                                                                                                                                                                                                                                                                                                                                                                                                                                                                                                                                Get yourself a hype man like @aubameyang97  F602 F602 While we shouldn't be surprised that a professional athlete is athletic, Pul...\\n25         5 resolutions for reading and writing about health care in 2018   BioPortfolio.com                                                                                               BioPortfolio     Biotech, Healthcare and Medical Resources                                                                 BioPortfolio    Menu                                                                                            Loading                                                                           ...\\n26       Subscribe to New Jersey 101.5 FM on  My daughter Elizabeth stopped by the studio this morning as she gets ready to head back to London.\n",
       "6                                                                                                                                                                                                                                                                                                                                                                                                                                                                                                                                                                                                                                                                                                                                                                                                                                                                                                                                                                                                                                                                                                                                                                                                                                                                                                                 Mad About Drama (MAD), a theatre group from Kolkata is in Mumbai to stage their production      A History of Butchers      at Prithvi Theatre as part of Thespo@Prithvi, on January 2 and January 3.\n",
       "7                                                                                                                                                                                                                                                                                                                                                                                                                                                                                                                                                                                                                                                                                                                                                                                                                                                                                                                                                                                                                                                                                                                                                                                                                                                                                                                                                                                                                                                Send your questions about postgrad life to askbrianna@nerdwallet.com.\n",
       "8                                                                                                                                                                                                                                                                                                                                                                                                                                                                                                                                                                                                                                                                                                                                                                                                                                                                                                                                                                                                                                                                                                                                                                                                                                                                                                                                    Questions or concerns relating to the accessibility of the FCC's online public file system should be directed to the FCC at 888 225 5322, 888 835 5322 (TTY), or fccinfo@fcc.gov.\n",
       "9                                                                                                                                                                                                                                                                                                                                                                                                                                                                                                                                                                                                                                                                                                                                                                                                                                                                                                                                                                                                                                                                                                                                                                                                                                                                                                                                                                                                                                                                                 He can be reached at rstrom@alm.com."
      ]
     },
     "execution_count": 5,
     "metadata": {},
     "output_type": "execute_result"
    }
   ],
   "source": [
    "df.head(10)"
   ]
  },
  {
   "cell_type": "code",
   "execution_count": 21,
   "metadata": {},
   "outputs": [
    {
     "data": {
      "text/plain": [
       "0    [nhartnell@tribunemedia.net]\n",
       "1     [Modelsunita4you@gmail.com]\n",
       "2                              []\n",
       "3                              []\n",
       "4                              []\n",
       "Name: emails, dtype: object"
      ]
     },
     "execution_count": 21,
     "metadata": {},
     "output_type": "execute_result"
    }
   ],
   "source": [
    "df[\"emails\"] = df[\"Sentences\"].apply(lambda x: re.findall(r'\\b[\\w._-]*[a-zA-Z0-9]+@[\\w]+\\.[\\w]{2,}',x))\n",
    "df[\"emails\"].head(5)"
   ]
  },
  {
   "cell_type": "code",
   "execution_count": null,
   "metadata": {},
   "outputs": [],
   "source": []
  },
  {
   "cell_type": "code",
   "execution_count": null,
   "metadata": {},
   "outputs": [],
   "source": []
  },
  {
   "cell_type": "code",
   "execution_count": 6,
   "metadata": {},
   "outputs": [
    {
     "data": {
      "text/plain": [
       "'Sat, 18 June 2022 08:17:06'"
      ]
     },
     "execution_count": 6,
     "metadata": {},
     "output_type": "execute_result"
    }
   ],
   "source": [
    "import datetime\n",
    "import pytz\n",
    "\n",
    "datetime.datetime.now(pytz.timezone('US/Central')).strftime(\"%a, %d %B %Y %H:%M:%S\")"
   ]
  }
 ],
 "metadata": {
  "kernelspec": {
   "display_name": "Python 3 (ipykernel)",
   "language": "python",
   "name": "python3"
  },
  "language_info": {
   "codemirror_mode": {
    "name": "ipython",
    "version": 3
   },
   "file_extension": ".py",
   "mimetype": "text/x-python",
   "name": "python",
   "nbconvert_exporter": "python",
   "pygments_lexer": "ipython3",
   "version": "3.10.9"
  }
 },
 "nbformat": 4,
 "nbformat_minor": 4
}
