{
 "cells": [
  {
   "cell_type": "markdown",
   "metadata": {},
   "source": [
    "## Sentiment Classification Yelp deployment"
   ]
  },
  {
   "cell_type": "code",
   "execution_count": 1,
   "metadata": {},
   "outputs": [
    {
     "name": "stdout",
     "output_type": "stream",
     "text": [
      "3.7.12 | packaged by conda-forge | (default, Oct 26 2021, 06:08:53) \n",
      "[GCC 9.4.0]\n"
     ]
    }
   ],
   "source": [
    "import sys\n",
    "print(sys.version)"
   ]
  },
  {
   "cell_type": "code",
   "execution_count": 2,
   "metadata": {},
   "outputs": [],
   "source": [
    "import os\n",
    "import requests\n",
    "import pprint\n",
    "from joblib import dump, load\n",
    "import numpy as np\n",
    "import pandas as pd"
   ]
  },
  {
   "cell_type": "code",
   "execution_count": 3,
   "metadata": {},
   "outputs": [],
   "source": [
    "pd.set_option('display.max_colwidth', 500)"
   ]
  },
  {
   "cell_type": "markdown",
   "metadata": {},
   "source": [
    "#### Copy files to local FS from GCP bucket"
   ]
  },
  {
   "cell_type": "code",
   "execution_count": 4,
   "metadata": {},
   "outputs": [],
   "source": [
    "def get_gcs_data (bucket_name, folder_name, file_name, path_local):\n",
    "    url = 'https://storage.googleapis.com/' + bucket_name + '/' + folder_name + '/' + file_name\n",
    "    r = requests.get(url)\n",
    "    open(path_local + '/' + file_name , 'wb').write(r.content)"
   ]
  },
  {
   "cell_type": "code",
   "execution_count": 5,
   "metadata": {},
   "outputs": [],
   "source": [
    "path_yelp_data = '/home/jupyter/yelp'\n",
    "path_yelp_model = '/home/jupyter/data/yelp/yelp_model/'\n",
    "\n",
    "os.makedirs(path_yelp_data, exist_ok=True)\n",
    "os.makedirs(path_yelp_model, exist_ok=True)"
   ]
  },
  {
   "cell_type": "code",
   "execution_count": 6,
   "metadata": {},
   "outputs": [
    {
     "name": "stdout",
     "output_type": "stream",
     "text": [
      "Downloaded: model.joblib\n",
      "Downloaded: nb.joblib\n",
      "Downloaded: logreg.joblib\n",
      "Downloaded: svm.joblib\n",
      "Downloaded: nb_small.joblib\n",
      "Downloaded: logreg_small.joblib\n",
      "Downloaded: svm_small.joblib\n"
     ]
    }
   ],
   "source": [
    "bucket_name = 'msca-bdp-data-open'\n",
    "folder_name = 'yelp/yelp_model'\n",
    "file_name = ['model.joblib', \n",
    "             'nb.joblib', 'logreg.joblib', 'svm.joblib',\n",
    "             'nb_small.joblib', 'logreg_small.joblib', 'svm_small.joblib']\n",
    "path_local = path_yelp_model\n",
    "\n",
    "os.makedirs(path_local, exist_ok=True)\n",
    "\n",
    "for file in file_name:\n",
    "    get_gcs_data (bucket_name = bucket_name,\n",
    "                 folder_name = folder_name,\n",
    "                 file_name = file,\n",
    "                 path_local = path_local)\n",
    "    print('Downloaded: ' + file)"
   ]
  },
  {
   "cell_type": "code",
   "execution_count": 7,
   "metadata": {},
   "outputs": [
    {
     "name": "stdout",
     "output_type": "stream",
     "text": [
      "total 1874904\n",
      "-rw-r--r-- 1 root root 522995808 Oct 26 15:10 logreg.joblib\n",
      "-rw-r--r-- 1 root root   7420344 Oct 26 15:10 logreg_small.joblib\n",
      "-rw-r--r-- 1 root root   7661465 Oct 26 15:10 model.joblib\n",
      "-rw-r--r-- 1 root root 839186606 Oct 26 15:10 nb.joblib\n",
      "-rw-r--r-- 1 root root  12203294 Oct 26 15:10 nb_small.joblib\n",
      "-rw-r--r-- 1 root root 522996092 Oct 26 15:10 svm.joblib\n",
      "-rw-r--r-- 1 root root   7420628 Oct 26 15:10 svm_small.joblib\n"
     ]
    }
   ],
   "source": [
    "!ls -l /home/jupyter/data/yelp/yelp_model/"
   ]
  },
  {
   "cell_type": "markdown",
   "metadata": {},
   "source": [
    "#### Load Models"
   ]
  },
  {
   "cell_type": "code",
   "execution_count": 8,
   "metadata": {},
   "outputs": [],
   "source": [
    "# Naive Bayes\n",
    "# %time clf = load(os.path.join(path_yelp_model, 'nb.joblib'))"
   ]
  },
  {
   "cell_type": "code",
   "execution_count": 9,
   "metadata": {},
   "outputs": [
    {
     "name": "stdout",
     "output_type": "stream",
     "text": [
      "CPU times: user 1.99 s, sys: 747 ms, total: 2.73 s\n",
      "Wall time: 1.92 s\n"
     ]
    }
   ],
   "source": [
    "# Logistic Regression\n",
    "%time clf_small = load(os.path.join(path_yelp_model, 'logreg_small.joblib'))"
   ]
  },
  {
   "cell_type": "code",
   "execution_count": 10,
   "metadata": {},
   "outputs": [
    {
     "name": "stdout",
     "output_type": "stream",
     "text": [
      "CPU times: user 1min 34s, sys: 2.82 s, total: 1min 37s\n",
      "Wall time: 1min 36s\n"
     ]
    }
   ],
   "source": [
    "# Logistic Regression Small\n",
    "%time clf_large = load(os.path.join(path_yelp_model, 'logreg.joblib'))"
   ]
  },
  {
   "cell_type": "code",
   "execution_count": 11,
   "metadata": {},
   "outputs": [],
   "source": [
    "# Support Vector Machine\n",
    "# %time clf = load(os.path.join(path_yelp_model, 'svm.joblib'))"
   ]
  },
  {
   "cell_type": "markdown",
   "metadata": {},
   "source": [
    "#### Make a single prediction -- small model"
   ]
  },
  {
   "cell_type": "code",
   "execution_count": 12,
   "metadata": {},
   "outputs": [],
   "source": [
    "content = ['The restaurant was awful']"
   ]
  },
  {
   "cell_type": "code",
   "execution_count": 13,
   "metadata": {},
   "outputs": [
    {
     "name": "stdout",
     "output_type": "stream",
     "text": [
      "CPU times: user 1.52 ms, sys: 132 µs, total: 1.65 ms\n",
      "Wall time: 1.54 ms\n"
     ]
    }
   ],
   "source": [
    "%time y_pred = clf_small.predict(content)\n",
    "y_pred_class = np.where(y_pred < 1, 'Negative', 'Positive')\n",
    "\n",
    "y_pred_prob = clf_small.predict_proba(content)"
   ]
  },
  {
   "cell_type": "code",
   "execution_count": 14,
   "metadata": {},
   "outputs": [
    {
     "name": "stdout",
     "output_type": "stream",
     "text": [
      "Text: The restaurant was awful     \n",
      "Sentiment: Positive     \n",
      "Probability Negative: = 0.44329372484011365    \n",
      "Probability Positive = 0.5567062751598864    \n",
      "\n",
      "\n"
     ]
    }
   ],
   "source": [
    "print(f'Text: {content[0]} \\\n",
    "    \\nSentiment: {y_pred_class[0]} \\\n",
    "    \\nProbability Negative: = {y_pred_prob[0][0]}\\\n",
    "    \\nProbability Positive = {y_pred_prob[0][1]}\\\n",
    "    \\n\\n')"
   ]
  },
  {
   "cell_type": "markdown",
   "metadata": {},
   "source": [
    "#### Make a single prediction -- large model"
   ]
  },
  {
   "cell_type": "code",
   "execution_count": 15,
   "metadata": {},
   "outputs": [],
   "source": [
    "content = ['The restaurant was awful']"
   ]
  },
  {
   "cell_type": "code",
   "execution_count": 16,
   "metadata": {},
   "outputs": [
    {
     "name": "stdout",
     "output_type": "stream",
     "text": [
      "CPU times: user 855 µs, sys: 75 µs, total: 930 µs\n",
      "Wall time: 860 µs\n"
     ]
    }
   ],
   "source": [
    "%time y_pred = clf_large.predict(content)\n",
    "y_pred_class = np.where(y_pred < 1, 'Negative', 'Positive')\n",
    "\n",
    "y_pred_prob = clf_large.predict_proba(content)"
   ]
  },
  {
   "cell_type": "code",
   "execution_count": 17,
   "metadata": {},
   "outputs": [
    {
     "name": "stdout",
     "output_type": "stream",
     "text": [
      "Text: The restaurant was awful     \n",
      "Sentiment: Negative     \n",
      "Probability Negative: = 0.9645534022764568    \n",
      "Probability Positive = 0.03544659772354324    \n",
      "\n",
      "\n"
     ]
    }
   ],
   "source": [
    "print(f'Text: {content[0]} \\\n",
    "    \\nSentiment: {y_pred_class[0]} \\\n",
    "    \\nProbability Negative: = {y_pred_prob[0][0]}\\\n",
    "    \\nProbability Positive = {y_pred_prob[0][1]}\\\n",
    "    \\n\\n')"
   ]
  },
  {
   "cell_type": "markdown",
   "metadata": {},
   "source": [
    "#### Multipe predictions -- small model"
   ]
  },
  {
   "cell_type": "code",
   "execution_count": 18,
   "metadata": {},
   "outputs": [],
   "source": [
    "content = ['The restaurant was awful', 'This is a fantastic restaurant with delicious food',\\\n",
    "    'Best pizza in town']"
   ]
  },
  {
   "cell_type": "code",
   "execution_count": 19,
   "metadata": {},
   "outputs": [
    {
     "name": "stdout",
     "output_type": "stream",
     "text": [
      "CPU times: user 538 µs, sys: 47 µs, total: 585 µs\n",
      "Wall time: 455 µs\n"
     ]
    }
   ],
   "source": [
    "%time y_pred = clf_small.predict(content)\n",
    "y_pred_class = np.where(y_pred < 1, 'Negative', 'Positive')\n",
    "\n",
    "y_pred_prob = clf_small.predict_proba(content)"
   ]
  },
  {
   "cell_type": "code",
   "execution_count": 20,
   "metadata": {},
   "outputs": [],
   "source": [
    "# for i, text in enumerate(x, start=0):\n",
    "#     print(f'Text: {text} \\\n",
    "#     \\nSentiment: {y_pred_class[i]} \\\n",
    "#     \\nProbability Negative: = {y_pred_prob[i][0]}\\\n",
    "#     \\nProbability Positive = {y_pred_prob[i][1]}\\\n",
    "#     \\n\\n')"
   ]
  },
  {
   "cell_type": "code",
   "execution_count": 21,
   "metadata": {},
   "outputs": [],
   "source": [
    "sentiment = []\n",
    "prob_neg = []\n",
    "prob_pos = []\n",
    "\n",
    "for i, text in enumerate(content, start=0):\n",
    "    sentiment.append(str(y_pred_class[i]))\n",
    "    prob_neg.append(str(y_pred_prob[i][0]))\n",
    "    prob_pos.append(str(y_pred_prob[i][1]))\n",
    "    \n",
    "sent_list = list(zip(content, sentiment, prob_neg, prob_pos))     "
   ]
  },
  {
   "cell_type": "code",
   "execution_count": 22,
   "metadata": {},
   "outputs": [],
   "source": [
    "sent_df_small = pd.DataFrame(sent_list,columns=['Text', 'Sentiment', 'Prob_Neg', 'Prob_Pos'])"
   ]
  },
  {
   "cell_type": "code",
   "execution_count": 23,
   "metadata": {},
   "outputs": [
    {
     "data": {
      "text/html": [
       "<div>\n",
       "<style scoped>\n",
       "    .dataframe tbody tr th:only-of-type {\n",
       "        vertical-align: middle;\n",
       "    }\n",
       "\n",
       "    .dataframe tbody tr th {\n",
       "        vertical-align: top;\n",
       "    }\n",
       "\n",
       "    .dataframe thead th {\n",
       "        text-align: right;\n",
       "    }\n",
       "</style>\n",
       "<table border=\"1\" class=\"dataframe\">\n",
       "  <thead>\n",
       "    <tr style=\"text-align: right;\">\n",
       "      <th></th>\n",
       "      <th>Text</th>\n",
       "      <th>Sentiment</th>\n",
       "      <th>Prob_Neg</th>\n",
       "      <th>Prob_Pos</th>\n",
       "    </tr>\n",
       "  </thead>\n",
       "  <tbody>\n",
       "    <tr>\n",
       "      <th>0</th>\n",
       "      <td>The restaurant was awful</td>\n",
       "      <td>Positive</td>\n",
       "      <td>0.44329372484011365</td>\n",
       "      <td>0.5567062751598864</td>\n",
       "    </tr>\n",
       "    <tr>\n",
       "      <th>1</th>\n",
       "      <td>This is a fantastic restaurant with delicious food</td>\n",
       "      <td>Positive</td>\n",
       "      <td>0.19822453750881996</td>\n",
       "      <td>0.80177546249118</td>\n",
       "    </tr>\n",
       "    <tr>\n",
       "      <th>2</th>\n",
       "      <td>Best pizza in town</td>\n",
       "      <td>Positive</td>\n",
       "      <td>0.2879813130367562</td>\n",
       "      <td>0.7120186869632438</td>\n",
       "    </tr>\n",
       "  </tbody>\n",
       "</table>\n",
       "</div>"
      ],
      "text/plain": [
       "                                                 Text Sentiment  \\\n",
       "0                            The restaurant was awful  Positive   \n",
       "1  This is a fantastic restaurant with delicious food  Positive   \n",
       "2                                  Best pizza in town  Positive   \n",
       "\n",
       "              Prob_Neg            Prob_Pos  \n",
       "0  0.44329372484011365  0.5567062751598864  \n",
       "1  0.19822453750881996    0.80177546249118  \n",
       "2   0.2879813130367562  0.7120186869632438  "
      ]
     },
     "execution_count": 23,
     "metadata": {},
     "output_type": "execute_result"
    }
   ],
   "source": [
    "sent_df_small"
   ]
  },
  {
   "cell_type": "code",
   "execution_count": 24,
   "metadata": {},
   "outputs": [],
   "source": [
    "sent_list_dict = sent_df_small.to_dict('records')"
   ]
  },
  {
   "cell_type": "code",
   "execution_count": 25,
   "metadata": {},
   "outputs": [
    {
     "data": {
      "text/plain": [
       "list"
      ]
     },
     "execution_count": 25,
     "metadata": {},
     "output_type": "execute_result"
    }
   ],
   "source": [
    "type(sent_list_dict)"
   ]
  },
  {
   "cell_type": "code",
   "execution_count": 26,
   "metadata": {},
   "outputs": [
    {
     "data": {
      "text/plain": [
       "[{'Text': 'The restaurant was awful',\n",
       "  'Sentiment': 'Positive',\n",
       "  'Prob_Neg': '0.44329372484011365',\n",
       "  'Prob_Pos': '0.5567062751598864'},\n",
       " {'Text': 'This is a fantastic restaurant with delicious food',\n",
       "  'Sentiment': 'Positive',\n",
       "  'Prob_Neg': '0.19822453750881996',\n",
       "  'Prob_Pos': '0.80177546249118'},\n",
       " {'Text': 'Best pizza in town',\n",
       "  'Sentiment': 'Positive',\n",
       "  'Prob_Neg': '0.2879813130367562',\n",
       "  'Prob_Pos': '0.7120186869632438'}]"
      ]
     },
     "execution_count": 26,
     "metadata": {},
     "output_type": "execute_result"
    }
   ],
   "source": [
    "sent_list_dict"
   ]
  },
  {
   "cell_type": "markdown",
   "metadata": {},
   "source": [
    "#### Multipe predictions -- large model"
   ]
  },
  {
   "cell_type": "code",
   "execution_count": 27,
   "metadata": {},
   "outputs": [],
   "source": [
    "content = ['The restaurant was awful', 'This is a fantastic restaurant with delicious food',\\\n",
    "    'Best pizza in town']"
   ]
  },
  {
   "cell_type": "code",
   "execution_count": 28,
   "metadata": {},
   "outputs": [
    {
     "name": "stdout",
     "output_type": "stream",
     "text": [
      "CPU times: user 0 ns, sys: 584 µs, total: 584 µs\n",
      "Wall time: 506 µs\n"
     ]
    }
   ],
   "source": [
    "%time y_pred = clf_large.predict(content)\n",
    "y_pred_class = np.where(y_pred < 1, 'Negative', 'Positive')\n",
    "\n",
    "y_pred_prob = clf_large.predict_proba(content)"
   ]
  },
  {
   "cell_type": "code",
   "execution_count": 29,
   "metadata": {},
   "outputs": [],
   "source": [
    "# for i, text in enumerate(x, start=0):\n",
    "#     print(f'Text: {text} \\\n",
    "#     \\nSentiment: {y_pred_class[i]} \\\n",
    "#     \\nProbability Negative: = {y_pred_prob[i][0]}\\\n",
    "#     \\nProbability Positive = {y_pred_prob[i][1]}\\\n",
    "#     \\n\\n')"
   ]
  },
  {
   "cell_type": "code",
   "execution_count": 30,
   "metadata": {},
   "outputs": [],
   "source": [
    "sentiment = []\n",
    "prob_neg = []\n",
    "prob_pos = []\n",
    "\n",
    "for i, text in enumerate(content, start=0):\n",
    "    sentiment.append(str(y_pred_class[i]))\n",
    "    prob_neg.append(str(y_pred_prob[i][0]))\n",
    "    prob_pos.append(str(y_pred_prob[i][1]))\n",
    "    \n",
    "sent_list = list(zip(content, sentiment, prob_neg, prob_pos))     "
   ]
  },
  {
   "cell_type": "code",
   "execution_count": 31,
   "metadata": {},
   "outputs": [],
   "source": [
    "sent_df_large = pd.DataFrame(sent_list,columns=['Text', 'Sentiment', 'Prob_Neg', 'Prob_Pos'])"
   ]
  },
  {
   "cell_type": "code",
   "execution_count": 32,
   "metadata": {},
   "outputs": [
    {
     "data": {
      "text/html": [
       "<div>\n",
       "<style scoped>\n",
       "    .dataframe tbody tr th:only-of-type {\n",
       "        vertical-align: middle;\n",
       "    }\n",
       "\n",
       "    .dataframe tbody tr th {\n",
       "        vertical-align: top;\n",
       "    }\n",
       "\n",
       "    .dataframe thead th {\n",
       "        text-align: right;\n",
       "    }\n",
       "</style>\n",
       "<table border=\"1\" class=\"dataframe\">\n",
       "  <thead>\n",
       "    <tr style=\"text-align: right;\">\n",
       "      <th></th>\n",
       "      <th>Text</th>\n",
       "      <th>Sentiment</th>\n",
       "      <th>Prob_Neg</th>\n",
       "      <th>Prob_Pos</th>\n",
       "    </tr>\n",
       "  </thead>\n",
       "  <tbody>\n",
       "    <tr>\n",
       "      <th>0</th>\n",
       "      <td>The restaurant was awful</td>\n",
       "      <td>Negative</td>\n",
       "      <td>0.9645534022764568</td>\n",
       "      <td>0.03544659772354324</td>\n",
       "    </tr>\n",
       "    <tr>\n",
       "      <th>1</th>\n",
       "      <td>This is a fantastic restaurant with delicious food</td>\n",
       "      <td>Positive</td>\n",
       "      <td>0.010743359361597649</td>\n",
       "      <td>0.9892566406384024</td>\n",
       "    </tr>\n",
       "    <tr>\n",
       "      <th>2</th>\n",
       "      <td>Best pizza in town</td>\n",
       "      <td>Positive</td>\n",
       "      <td>0.02591504511053444</td>\n",
       "      <td>0.9740849548894656</td>\n",
       "    </tr>\n",
       "  </tbody>\n",
       "</table>\n",
       "</div>"
      ],
      "text/plain": [
       "                                                 Text Sentiment  \\\n",
       "0                            The restaurant was awful  Negative   \n",
       "1  This is a fantastic restaurant with delicious food  Positive   \n",
       "2                                  Best pizza in town  Positive   \n",
       "\n",
       "               Prob_Neg             Prob_Pos  \n",
       "0    0.9645534022764568  0.03544659772354324  \n",
       "1  0.010743359361597649   0.9892566406384024  \n",
       "2   0.02591504511053444   0.9740849548894656  "
      ]
     },
     "execution_count": 32,
     "metadata": {},
     "output_type": "execute_result"
    }
   ],
   "source": [
    "sent_df_large"
   ]
  },
  {
   "cell_type": "code",
   "execution_count": 33,
   "metadata": {},
   "outputs": [
    {
     "name": "stdout",
     "output_type": "stream",
     "text": [
      "[{'Prob_Neg': '0.9645534022764568',\n",
      "  'Prob_Pos': '0.03544659772354324',\n",
      "  'Sentiment': 'Negative',\n",
      "  'Text': 'The restaurant was awful'},\n",
      " {'Prob_Neg': '0.010743359361597649',\n",
      "  'Prob_Pos': '0.9892566406384024',\n",
      "  'Sentiment': 'Positive',\n",
      "  'Text': 'This is a fantastic restaurant with delicious food'},\n",
      " {'Prob_Neg': '0.02591504511053444',\n",
      "  'Prob_Pos': '0.9740849548894656',\n",
      "  'Sentiment': 'Positive',\n",
      "  'Text': 'Best pizza in town'}]\n"
     ]
    }
   ],
   "source": [
    "sent_list_dict = sent_df_large.to_dict('records')\n",
    "# type(sent_list_dict)\n",
    "pprint.pprint(sent_list_dict)"
   ]
  },
  {
   "cell_type": "markdown",
   "metadata": {},
   "source": [
    "#### Compare the confidence ratings between Small and Large models"
   ]
  },
  {
   "cell_type": "code",
   "execution_count": 34,
   "metadata": {},
   "outputs": [
    {
     "data": {
      "text/html": [
       "<div>\n",
       "<style scoped>\n",
       "    .dataframe tbody tr th:only-of-type {\n",
       "        vertical-align: middle;\n",
       "    }\n",
       "\n",
       "    .dataframe tbody tr th {\n",
       "        vertical-align: top;\n",
       "    }\n",
       "\n",
       "    .dataframe thead th {\n",
       "        text-align: right;\n",
       "    }\n",
       "</style>\n",
       "<table border=\"1\" class=\"dataframe\">\n",
       "  <thead>\n",
       "    <tr style=\"text-align: right;\">\n",
       "      <th></th>\n",
       "      <th>Text</th>\n",
       "      <th>Sentiment</th>\n",
       "      <th>Prob_Neg</th>\n",
       "      <th>Prob_Pos</th>\n",
       "    </tr>\n",
       "  </thead>\n",
       "  <tbody>\n",
       "    <tr>\n",
       "      <th>0</th>\n",
       "      <td>The restaurant was awful</td>\n",
       "      <td>Positive</td>\n",
       "      <td>0.44329372484011365</td>\n",
       "      <td>0.5567062751598864</td>\n",
       "    </tr>\n",
       "    <tr>\n",
       "      <th>1</th>\n",
       "      <td>This is a fantastic restaurant with delicious food</td>\n",
       "      <td>Positive</td>\n",
       "      <td>0.19822453750881996</td>\n",
       "      <td>0.80177546249118</td>\n",
       "    </tr>\n",
       "    <tr>\n",
       "      <th>2</th>\n",
       "      <td>Best pizza in town</td>\n",
       "      <td>Positive</td>\n",
       "      <td>0.2879813130367562</td>\n",
       "      <td>0.7120186869632438</td>\n",
       "    </tr>\n",
       "  </tbody>\n",
       "</table>\n",
       "</div>"
      ],
      "text/plain": [
       "                                                 Text Sentiment  \\\n",
       "0                            The restaurant was awful  Positive   \n",
       "1  This is a fantastic restaurant with delicious food  Positive   \n",
       "2                                  Best pizza in town  Positive   \n",
       "\n",
       "              Prob_Neg            Prob_Pos  \n",
       "0  0.44329372484011365  0.5567062751598864  \n",
       "1  0.19822453750881996    0.80177546249118  \n",
       "2   0.2879813130367562  0.7120186869632438  "
      ]
     },
     "execution_count": 34,
     "metadata": {},
     "output_type": "execute_result"
    }
   ],
   "source": [
    "sent_df_small"
   ]
  },
  {
   "cell_type": "code",
   "execution_count": 35,
   "metadata": {},
   "outputs": [
    {
     "data": {
      "text/html": [
       "<div>\n",
       "<style scoped>\n",
       "    .dataframe tbody tr th:only-of-type {\n",
       "        vertical-align: middle;\n",
       "    }\n",
       "\n",
       "    .dataframe tbody tr th {\n",
       "        vertical-align: top;\n",
       "    }\n",
       "\n",
       "    .dataframe thead th {\n",
       "        text-align: right;\n",
       "    }\n",
       "</style>\n",
       "<table border=\"1\" class=\"dataframe\">\n",
       "  <thead>\n",
       "    <tr style=\"text-align: right;\">\n",
       "      <th></th>\n",
       "      <th>Text</th>\n",
       "      <th>Sentiment</th>\n",
       "      <th>Prob_Neg</th>\n",
       "      <th>Prob_Pos</th>\n",
       "    </tr>\n",
       "  </thead>\n",
       "  <tbody>\n",
       "    <tr>\n",
       "      <th>0</th>\n",
       "      <td>The restaurant was awful</td>\n",
       "      <td>Negative</td>\n",
       "      <td>0.9645534022764568</td>\n",
       "      <td>0.03544659772354324</td>\n",
       "    </tr>\n",
       "    <tr>\n",
       "      <th>1</th>\n",
       "      <td>This is a fantastic restaurant with delicious food</td>\n",
       "      <td>Positive</td>\n",
       "      <td>0.010743359361597649</td>\n",
       "      <td>0.9892566406384024</td>\n",
       "    </tr>\n",
       "    <tr>\n",
       "      <th>2</th>\n",
       "      <td>Best pizza in town</td>\n",
       "      <td>Positive</td>\n",
       "      <td>0.02591504511053444</td>\n",
       "      <td>0.9740849548894656</td>\n",
       "    </tr>\n",
       "  </tbody>\n",
       "</table>\n",
       "</div>"
      ],
      "text/plain": [
       "                                                 Text Sentiment  \\\n",
       "0                            The restaurant was awful  Negative   \n",
       "1  This is a fantastic restaurant with delicious food  Positive   \n",
       "2                                  Best pizza in town  Positive   \n",
       "\n",
       "               Prob_Neg             Prob_Pos  \n",
       "0    0.9645534022764568  0.03544659772354324  \n",
       "1  0.010743359361597649   0.9892566406384024  \n",
       "2   0.02591504511053444   0.9740849548894656  "
      ]
     },
     "execution_count": 35,
     "metadata": {},
     "output_type": "execute_result"
    }
   ],
   "source": [
    "sent_df_large"
   ]
  },
  {
   "cell_type": "code",
   "execution_count": null,
   "metadata": {},
   "outputs": [],
   "source": []
  },
  {
   "cell_type": "code",
   "execution_count": null,
   "metadata": {},
   "outputs": [],
   "source": []
  },
  {
   "cell_type": "code",
   "execution_count": null,
   "metadata": {},
   "outputs": [],
   "source": []
  },
  {
   "cell_type": "code",
   "execution_count": 36,
   "metadata": {},
   "outputs": [
    {
     "data": {
      "text/plain": [
       "'Wed, 26 October 2022 10:12:33'"
      ]
     },
     "execution_count": 36,
     "metadata": {},
     "output_type": "execute_result"
    }
   ],
   "source": [
    "import datetime\n",
    "import pytz\n",
    "\n",
    "datetime.datetime.now(pytz.timezone('US/Central')).strftime(\"%a, %d %B %Y %H:%M:%S\")"
   ]
  }
 ],
 "metadata": {
  "anaconda-cloud": {},
  "kernelspec": {
   "display_name": "Python 3 (ipykernel)",
   "language": "python",
   "name": "python3"
  },
  "language_info": {
   "codemirror_mode": {
    "name": "ipython",
    "version": 3
   },
   "file_extension": ".py",
   "mimetype": "text/x-python",
   "name": "python",
   "nbconvert_exporter": "python",
   "pygments_lexer": "ipython3",
   "version": "3.7.12"
  }
 },
 "nbformat": 4,
 "nbformat_minor": 4
}
