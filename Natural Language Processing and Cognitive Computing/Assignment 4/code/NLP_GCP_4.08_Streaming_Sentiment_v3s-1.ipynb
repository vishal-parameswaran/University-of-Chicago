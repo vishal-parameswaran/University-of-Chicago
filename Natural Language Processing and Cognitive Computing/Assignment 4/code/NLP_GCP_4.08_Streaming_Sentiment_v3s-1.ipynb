{
 "cells": [
  {
   "cell_type": "markdown",
   "metadata": {
    "id": "5k343f0vLNTY"
   },
   "source": [
    "### Tweeter setiment analysis with VADER"
   ]
  },
  {
   "cell_type": "markdown",
   "metadata": {},
   "source": [
    "#### Prerequisites:\n",
    "\n",
    "Register for the Twitter API:\n",
    " - Go to https://apps.twitter.com  \n",
    " - click on \"Create New Application\"   \n",
    " - Under Application details, enter name, description, website details (can be anything)  \n",
    " - click on \"Create Application\" and e) make a note of the tokens on the \"Keys and Access Tokens\" tab  "
   ]
  },
  {
   "cell_type": "markdown",
   "metadata": {
    "id": "ntPfbgJP1lKj"
   },
   "source": [
    "#### Utilize a Sentiment Dictionary to decipher the sentiment of text\n",
    "\n",
    "A sentiment dictionary is the mapping of words to sentiment values. For example: the word awesome (which is a positive sentiment) could have a value of +3.7 and the word horrible (which is a negative sentiment) could have a value of -3.1. While using a sentiment dictionary, the values of the sentiment words are summed to get the overall sentiment of the text. \n",
    "\n",
    "For example: I loved the ambience of the restaurant but the drive to the restaurant was horrendous. Overall, it was a good evening.\n",
    "\n",
    "Now let's say the value of the word love is +3.9, the value of the word horrendous is -4.2 and the value of the word good is +2.9. So, the overall sentiment of the text is positive since the aggregate of the values of the sentiment words is positive. \n",
    "\n",
    "We will apply `VADER` Sentiment analysis to tweets. VADER stands for Valence Aware Dictionary for Sentiment Reasoning. The dictionary was designed specifically for Twitter and contains emoticons and slang. **It also provides support for sentiment intensifiers  (words such as incredibly funny) and negations (words such as \"not bad\" which is a slight/small positive sentiment)**. \n",
    "\n",
    "How it works? VADER analyzes a piece of text to check if any of the words in the text are present in the lexicon. It  produces 4 sentiment metrics from the word ratings i.e. positive, neutral, negative and compound. The compound score is the sum of all of the lexicon ratings which is standardized to a range between -1 and 1."
   ]
  },
  {
   "cell_type": "code",
   "execution_count": 1,
   "metadata": {
    "colab": {
     "base_uri": "https://localhost:8080/"
    },
    "executionInfo": {
     "elapsed": 5971,
     "status": "ok",
     "timestamp": 1630640300481,
     "user": {
      "displayName": "Nikolay Kadochnikov",
      "photoUrl": "",
      "userId": "00846090838033288378"
     },
     "user_tz": 300
    },
    "id": "J12Z1F_MJnev",
    "outputId": "5386e7ff-854e-47cd-c0c5-0a2cbf2a5f95"
   },
   "outputs": [],
   "source": [
    "# !pip install tweepy==4.1.0\n",
    "# !pip install vaderSentiment"
   ]
  },
  {
   "cell_type": "code",
   "execution_count": 2,
   "metadata": {
    "executionInfo": {
     "elapsed": 78,
     "status": "ok",
     "timestamp": 1630640294517,
     "user": {
      "displayName": "Nikolay Kadochnikov",
      "photoUrl": "",
      "userId": "00846090838033288378"
     },
     "user_tz": 300
    },
    "id": "BMeLwvMIEDao"
   },
   "outputs": [],
   "source": [
    "import pandas as pd\n",
    "import numpy as np\n",
    "import os\n",
    "import json\n",
    "import glob\n",
    "import datetime\n",
    "import time\n",
    "import pytz\n",
    "import tweepy"
   ]
  },
  {
   "cell_type": "code",
   "execution_count": 3,
   "metadata": {},
   "outputs": [
    {
     "data": {
      "text/plain": [
       "'4.1.0'"
      ]
     },
     "execution_count": 3,
     "metadata": {},
     "output_type": "execute_result"
    }
   ],
   "source": [
    "tweepy.__version__"
   ]
  },
  {
   "cell_type": "code",
   "execution_count": 4,
   "metadata": {
    "colab": {
     "base_uri": "https://localhost:8080/"
    },
    "executionInfo": {
     "elapsed": 19,
     "status": "ok",
     "timestamp": 1630640300482,
     "user": {
      "displayName": "Nikolay Kadochnikov",
      "photoUrl": "",
      "userId": "00846090838033288378"
     },
     "user_tz": 300
    },
    "id": "5FzqveioJyRV",
    "outputId": "0647cc1e-7e77-4564-8fac-9fb562503562"
   },
   "outputs": [
    {
     "name": "stdout",
     "output_type": "stream",
     "text": [
      "I have to work on the weekend {'neg': 0.0, 'neu': 1.0, 'pos': 0.0, 'compound': 0.0}\n"
     ]
    }
   ],
   "source": [
    "#Load the SentimentIntensityAnalyzer object from the VADER package\n",
    "from vaderSentiment.vaderSentiment import SentimentIntensityAnalyzer\n",
    "\n",
    "#Create a handle to the SentimentIntensityAnalyzer object\n",
    "analyzer = SentimentIntensityAnalyzer()\n",
    "\n",
    "#function that outputs the sentiment ratings\n",
    "def print_sentiment_ratings(sentence):\n",
    "    sent = analyzer.polarity_scores(sentence)\n",
    "    print(\"{} {}\".format(sentence, sent))\n",
    "    \n",
    "#Examining the sentiment ratings for different pieces of text\n",
    "#No sentiment expressed\n",
    "\n",
    "print_sentiment_ratings(\"I have to work on the weekend\")\n",
    "\n",
    "#Overall rating is neutral"
   ]
  },
  {
   "cell_type": "code",
   "execution_count": 5,
   "metadata": {
    "colab": {
     "base_uri": "https://localhost:8080/"
    },
    "executionInfo": {
     "elapsed": 126,
     "status": "ok",
     "timestamp": 1630640300598,
     "user": {
      "displayName": "Nikolay Kadochnikov",
      "photoUrl": "",
      "userId": "00846090838033288378"
     },
     "user_tz": 300
    },
    "id": "KDQlgUieLJss",
    "outputId": "d4dbb2a1-7e35-48b1-9e19-144bd8a6a85f"
   },
   "outputs": [
    {
     "name": "stdout",
     "output_type": "stream",
     "text": [
      "I have to work on the weekend :( {'neg': 0.293, 'neu': 0.707, 'pos': 0.0, 'compound': -0.4404}\n"
     ]
    }
   ],
   "source": [
    "#Sentiment expressed via emoticon\n",
    "\n",
    "print_sentiment_ratings(\"I have to work on the weekend :(\")\n",
    "\n",
    "#Overall rating is negative"
   ]
  },
  {
   "cell_type": "code",
   "execution_count": 6,
   "metadata": {
    "colab": {
     "base_uri": "https://localhost:8080/"
    },
    "executionInfo": {
     "elapsed": 21,
     "status": "ok",
     "timestamp": 1630640300599,
     "user": {
      "displayName": "Nikolay Kadochnikov",
      "photoUrl": "",
      "userId": "00846090838033288378"
     },
     "user_tz": 300
    },
    "id": "Em_xiNhzLhpZ",
    "outputId": "ab17a6fb-0caf-47dc-de51-c84cb78b91e0"
   },
   "outputs": [
    {
     "name": "stdout",
     "output_type": "stream",
     "text": [
      "I have to work on the weekend :( :( {'neg': 0.453, 'neu': 0.547, 'pos': 0.0, 'compound': -0.7003}\n"
     ]
    }
   ],
   "source": [
    "#Expressing a more intense feeling via 2 emoticons\n",
    "\n",
    "print_sentiment_ratings(\"I have to work on the weekend :( :(\")\n",
    "\n",
    "#Overall rating is even more negative than the above piece of text"
   ]
  },
  {
   "cell_type": "code",
   "execution_count": 7,
   "metadata": {
    "colab": {
     "base_uri": "https://localhost:8080/"
    },
    "executionInfo": {
     "elapsed": 15,
     "status": "ok",
     "timestamp": 1630640300599,
     "user": {
      "displayName": "Nikolay Kadochnikov",
      "photoUrl": "",
      "userId": "00846090838033288378"
     },
     "user_tz": 300
    },
    "id": "WClSIBHHL1q-",
    "outputId": "cb872d7a-7252-4c24-d41f-6973278a5448"
   },
   "outputs": [
    {
     "name": "stdout",
     "output_type": "stream",
     "text": [
      "I did well on the test {'neg': 0.0, 'neu': 0.704, 'pos': 0.296, 'compound': 0.2732}\n",
      "I did very well on the test {'neg': 0.0, 'neu': 0.715, 'pos': 0.285, 'compound': 0.3384}\n"
     ]
    }
   ],
   "source": [
    "#VADER handles emotion intensifiers (i.e. words such as very, really, super, etc.)\n",
    "\n",
    "print_sentiment_ratings(\"I did well on the test\")\n",
    "\n",
    "#The sentiment rating for the sentence below is higher than the one above\n",
    "\n",
    "print_sentiment_ratings(\"I did very well on the test\")"
   ]
  },
  {
   "cell_type": "code",
   "execution_count": 8,
   "metadata": {
    "colab": {
     "base_uri": "https://localhost:8080/"
    },
    "executionInfo": {
     "elapsed": 11,
     "status": "ok",
     "timestamp": 1630640300600,
     "user": {
      "displayName": "Nikolay Kadochnikov",
      "photoUrl": "",
      "userId": "00846090838033288378"
     },
     "user_tz": 300
    },
    "id": "feLIyvQ9L8wR",
    "outputId": "e3cff2ad-2c94-4b89-fad7-870650ee7a73"
   },
   "outputs": [
    {
     "name": "stdout",
     "output_type": "stream",
     "text": [
      "I had a super day {'neg': 0.0, 'neu': 0.506, 'pos': 0.494, 'compound': 0.5994}\n",
      "I had a SUPER day {'neg': 0.0, 'neu': 0.463, 'pos': 0.537, 'compound': 0.6841}\n"
     ]
    }
   ],
   "source": [
    "#VADER takes into consideration how the words are written - capitalization has an impact on the sentiment ratings\n",
    "\n",
    "print_sentiment_ratings(\"I had a super day\")\n",
    "\n",
    "#The sentiment rating for the sentence below is higher than the one above\n",
    "\n",
    "print_sentiment_ratings(\"I had a SUPER day\")"
   ]
  },
  {
   "cell_type": "code",
   "execution_count": 9,
   "metadata": {
    "colab": {
     "base_uri": "https://localhost:8080/"
    },
    "executionInfo": {
     "elapsed": 9,
     "status": "ok",
     "timestamp": 1630640300600,
     "user": {
      "displayName": "Nikolay Kadochnikov",
      "photoUrl": "",
      "userId": "00846090838033288378"
     },
     "user_tz": 300
    },
    "id": "uJbkEr21MFz2",
    "outputId": "6bb4142e-1356-4336-c5e6-86c391011b56"
   },
   "outputs": [
    {
     "name": "stdout",
     "output_type": "stream",
     "text": [
      " I loved the ambience of the restaurant but the drive to the restaurant was horrendous {'neg': 0.252, 'neu': 0.63, 'pos': 0.119, 'compound': -0.5789}\n"
     ]
    }
   ],
   "source": [
    "#Finally, VADER handles changes in sentiment intensity; specifically when a sentence contains the word \"but\". Higher weighting is given to the sentiment after the word \"but\".\n",
    "#The overall rating for the sentence below is negative\n",
    "\n",
    "print_sentiment_ratings(\" I loved the ambience of the restaurant but the drive to the restaurant was horrendous\")"
   ]
  },
  {
   "cell_type": "markdown",
   "metadata": {
    "id": "PWWdLjlbPJAY"
   },
   "source": [
    "**Build a Twitter Sentiment Analyzer**"
   ]
  },
  {
   "cell_type": "markdown",
   "metadata": {
    "id": "7LFGn_ksPLH1"
   },
   "source": [
    "A common question that often arises is how do I decipher the sentiment within a large set of tweets regarding a specific topic on Twitter in an autonomous fashion. Now, we will construct a Twitter Sentiment Analyzer. The Sentiment Analyzer will search twitter for a list of tweets about any topic of choice, then it will analyze each tweet to ascertain whether a positive or negative emotion is expressed in the tweet. "
   ]
  },
  {
   "cell_type": "markdown",
   "metadata": {
    "id": "g1Bf5BqPalbs"
   },
   "source": [
    "**Authenticate with Twitter**"
   ]
  },
  {
   "cell_type": "code",
   "execution_count": 10,
   "metadata": {
    "executionInfo": {
     "elapsed": 162,
     "status": "ok",
     "timestamp": 1630640304093,
     "user": {
      "displayName": "Nikolay Kadochnikov",
      "photoUrl": "",
      "userId": "00846090838033288378"
     },
     "user_tz": 300
    },
    "id": "LoqLIpUzasOs"
   },
   "outputs": [],
   "source": [
    "#Define 4 variables for authenticating with Twitter\n",
    "#Each student will have their own unique tokens\n",
    "consumer_key = '** provide your key **'\n",
    "consumer_secret= '** provide your secret **'\n",
    "\n",
    "access_token = '** provide your access token **'\n",
    "access_token_secret = '** provide your access token secret **'\n",
    "\n",
    "#Autenticate with Twitter\n",
    "auth = tweepy.OAuthHandler(consumer_key, consumer_secret)\n",
    "auth.set_access_token(access_token, access_token_secret)"
   ]
  },
  {
   "cell_type": "markdown",
   "metadata": {
    "id": "KmJOw_2qbmfR"
   },
   "source": [
    "**Search twitter for a list of tweets about any topic of choice, then it will analyze each tweet to ascertain whether a positive or negative emotion is expressed in the tweet. **"
   ]
  },
  {
   "cell_type": "code",
   "execution_count": 11,
   "metadata": {
    "colab": {
     "base_uri": "https://localhost:8080/"
    },
    "executionInfo": {
     "elapsed": 438,
     "status": "ok",
     "timestamp": 1630640304528,
     "user": {
      "displayName": "Nikolay Kadochnikov",
      "photoUrl": "",
      "userId": "00846090838033288378"
     },
     "user_tz": 300
    },
    "id": "HgGtygqobmui",
    "outputId": "cd8ff686-a188-4ecf-88bf-7020fde1ad65"
   },
   "outputs": [
    {
     "name": "stdout",
     "output_type": "stream",
     "text": [
      "Retrieved 15 tweets\n"
     ]
    }
   ],
   "source": [
    "#Get a connection to Twitter\n",
    "# tweetapi = tweepy.API(auth, wait_on_rate_limit=True, wait_on_rate_limit_notify=False)\n",
    "tweetapi = tweepy.API(auth)\n",
    "\n",
    "#This method is going to return tweets that contain the word \n",
    "visible_public_tweets = tweetapi.search_tweets('facebook')\n",
    "\n",
    "print(f\"Retrieved {len(visible_public_tweets)} tweets\")"
   ]
  },
  {
   "cell_type": "code",
   "execution_count": 12,
   "metadata": {
    "executionInfo": {
     "elapsed": 306,
     "status": "ok",
     "timestamp": 1630640304831,
     "user": {
      "displayName": "Nikolay Kadochnikov",
      "photoUrl": "",
      "userId": "00846090838033288378"
     },
     "user_tz": 300
    },
    "id": "JkJY0FnlJTN7"
   },
   "outputs": [],
   "source": [
    "# Iterate through the tweets that have been retrieved\n",
    "# Append VADER sentiment scores\n",
    "\n",
    "tweet_id = []\n",
    "tweet_lang = []\n",
    "tweet_created_at = []\n",
    "tweet_retweet_count = []\n",
    "tweet_text = []\n",
    "\n",
    "tweet_sentiment_score = []\n",
    "sentiment_df = pd.DataFrame(columns=\\\n",
    "  ['id', 'lang', 'created_at', 'retweet_count',\n",
    "   'text' ,'sentiment_score'])\n",
    "\n",
    "\n",
    "for tweet in visible_public_tweets:\n",
    "    analyzer = SentimentIntensityAnalyzer()\n",
    "\n",
    "    tweet_id.append(str(tweet.id))\n",
    "    tweet_lang.append(str(tweet.lang))\n",
    "    tweet_created_at.append(str(tweet.created_at))\n",
    "    tweet_retweet_count.append(str(tweet.retweet_count))    \n",
    "    tweet_text.append(str(tweet.text))\n",
    "\n",
    "    tweet_sentiment_score.append(str(analyzer.polarity_scores(tweet.text)[\"compound\"]))\n",
    "\n",
    "\n",
    "sentiment_df['id'] = tweet_id\n",
    "sentiment_df['lang'] = tweet_lang\n",
    "sentiment_df['created_at'] = tweet_created_at\n",
    "sentiment_df['retweet_count'] = tweet_retweet_count\n",
    "sentiment_df['text'] = tweet_text\n",
    "\n",
    "sentiment_df['sentiment_score'] = tweet_sentiment_score\n",
    "\n",
    "sentiment_df['text'] = sentiment_df['text'].str.replace('\\n', ' ')\n",
    "\n",
    "\n",
    "# Create a positive / negative sentiment variable\n",
    "sentiment_df['sentiment'] = np.where(sentiment_df['sentiment_score'].astype(np.float) > 0, 'Positive', 'Negative')\n",
    "sentiment_df['sentiment'] = np.where(sentiment_df['sentiment_score'].astype(np.float) == 0, 'Neutral', sentiment_df['sentiment'])"
   ]
  },
  {
   "cell_type": "code",
   "execution_count": 13,
   "metadata": {
    "colab": {
     "base_uri": "https://localhost:8080/",
     "height": 514
    },
    "executionInfo": {
     "elapsed": 10,
     "status": "ok",
     "timestamp": 1630640304832,
     "user": {
      "displayName": "Nikolay Kadochnikov",
      "photoUrl": "",
      "userId": "00846090838033288378"
     },
     "user_tz": 300
    },
    "id": "mXDMZRgOJTYu",
    "outputId": "13b0ee90-78df-4d4e-cab9-9995f65709fc"
   },
   "outputs": [
    {
     "data": {
      "text/html": [
       "<div>\n",
       "<style scoped>\n",
       "    .dataframe tbody tr th:only-of-type {\n",
       "        vertical-align: middle;\n",
       "    }\n",
       "\n",
       "    .dataframe tbody tr th {\n",
       "        vertical-align: top;\n",
       "    }\n",
       "\n",
       "    .dataframe thead th {\n",
       "        text-align: right;\n",
       "    }\n",
       "</style>\n",
       "<table border=\"1\" class=\"dataframe\">\n",
       "  <thead>\n",
       "    <tr style=\"text-align: right;\">\n",
       "      <th></th>\n",
       "      <th>id</th>\n",
       "      <th>lang</th>\n",
       "      <th>created_at</th>\n",
       "      <th>retweet_count</th>\n",
       "      <th>text</th>\n",
       "      <th>sentiment_score</th>\n",
       "      <th>sentiment</th>\n",
       "    </tr>\n",
       "  </thead>\n",
       "  <tbody>\n",
       "    <tr>\n",
       "      <th>0</th>\n",
       "      <td>1447372776353026052</td>\n",
       "      <td>es</td>\n",
       "      <td>2021-10-11 01:25:35+00:00</td>\n",
       "      <td>34</td>\n",
       "      <td>RT @CiroGomezL: “#Facebook daña a la niñez, av...</td>\n",
       "      <td>0.0</td>\n",
       "      <td>Neutral</td>\n",
       "    </tr>\n",
       "    <tr>\n",
       "      <th>1</th>\n",
       "      <td>1447372776269090818</td>\n",
       "      <td>en</td>\n",
       "      <td>2021-10-11 01:25:35+00:00</td>\n",
       "      <td>28</td>\n",
       "      <td>RT @jamisonfoser: @DouthatNYT You wrote Silico...</td>\n",
       "      <td>-0.3535</td>\n",
       "      <td>Negative</td>\n",
       "    </tr>\n",
       "    <tr>\n",
       "      <th>2</th>\n",
       "      <td>1447372773207121920</td>\n",
       "      <td>und</td>\n",
       "      <td>2021-10-11 01:25:34+00:00</td>\n",
       "      <td>532</td>\n",
       "      <td>RT @MusicLibraryTH: 2021 #MusicLibraryTOP40 We...</td>\n",
       "      <td>0.0</td>\n",
       "      <td>Neutral</td>\n",
       "    </tr>\n",
       "    <tr>\n",
       "      <th>3</th>\n",
       "      <td>1447372772724908036</td>\n",
       "      <td>en</td>\n",
       "      <td>2021-10-11 01:25:34+00:00</td>\n",
       "      <td>2</td>\n",
       "      <td>RT @OakleyBoiii: @GameBattles Would love a spo...</td>\n",
       "      <td>0.8908</td>\n",
       "      <td>Positive</td>\n",
       "    </tr>\n",
       "    <tr>\n",
       "      <th>4</th>\n",
       "      <td>1447372769839046659</td>\n",
       "      <td>en</td>\n",
       "      <td>2021-10-11 01:25:33+00:00</td>\n",
       "      <td>7</td>\n",
       "      <td>RT @chickwerner: @donwinslow #Facebook Board o...</td>\n",
       "      <td>-0.5106</td>\n",
       "      <td>Negative</td>\n",
       "    </tr>\n",
       "    <tr>\n",
       "      <th>5</th>\n",
       "      <td>1447372763816022016</td>\n",
       "      <td>und</td>\n",
       "      <td>2021-10-11 01:25:32+00:00</td>\n",
       "      <td>0</td>\n",
       "      <td>https://t.co/BRADU7vuUP</td>\n",
       "      <td>0.0</td>\n",
       "      <td>Neutral</td>\n",
       "    </tr>\n",
       "    <tr>\n",
       "      <th>6</th>\n",
       "      <td>1447372760754262017</td>\n",
       "      <td>en</td>\n",
       "      <td>2021-10-11 01:25:31+00:00</td>\n",
       "      <td>0</td>\n",
       "      <td>✨🏆 Best Actress – Television (Comedy) Winner: ...</td>\n",
       "      <td>0.9584</td>\n",
       "      <td>Positive</td>\n",
       "    </tr>\n",
       "    <tr>\n",
       "      <th>7</th>\n",
       "      <td>1447372760380887045</td>\n",
       "      <td>tl</td>\n",
       "      <td>2021-10-11 01:25:31+00:00</td>\n",
       "      <td>0</td>\n",
       "      <td>tangina katatapos lang bardagulan dito sa twit...</td>\n",
       "      <td>0.4404</td>\n",
       "      <td>Positive</td>\n",
       "    </tr>\n",
       "    <tr>\n",
       "      <th>8</th>\n",
       "      <td>1447372760003403790</td>\n",
       "      <td>tl</td>\n",
       "      <td>2021-10-11 01:25:31+00:00</td>\n",
       "      <td>18</td>\n",
       "      <td>RT @ustshscomelec: Sulong, botante! Narito na ...</td>\n",
       "      <td>0.0</td>\n",
       "      <td>Neutral</td>\n",
       "    </tr>\n",
       "    <tr>\n",
       "      <th>9</th>\n",
       "      <td>1447372759231700997</td>\n",
       "      <td>en</td>\n",
       "      <td>2021-10-11 01:25:31+00:00</td>\n",
       "      <td>239</td>\n",
       "      <td>RT @armyspoke_news: https://t.co/ufixfJwKxV  💂...</td>\n",
       "      <td>0.8481</td>\n",
       "      <td>Positive</td>\n",
       "    </tr>\n",
       "    <tr>\n",
       "      <th>10</th>\n",
       "      <td>1447372759219294209</td>\n",
       "      <td>en</td>\n",
       "      <td>2021-10-11 01:25:31+00:00</td>\n",
       "      <td>0</td>\n",
       "      <td>#FacebookWhistleblower Haugen’s Historic @Goog...</td>\n",
       "      <td>0.0</td>\n",
       "      <td>Neutral</td>\n",
       "    </tr>\n",
       "    <tr>\n",
       "      <th>11</th>\n",
       "      <td>1447372758136938500</td>\n",
       "      <td>en</td>\n",
       "      <td>2021-10-11 01:25:31+00:00</td>\n",
       "      <td>64</td>\n",
       "      <td>RT @davenewworld_2: \"In February, the BBC inve...</td>\n",
       "      <td>0.1779</td>\n",
       "      <td>Positive</td>\n",
       "    </tr>\n",
       "    <tr>\n",
       "      <th>12</th>\n",
       "      <td>1447372756924895232</td>\n",
       "      <td>en</td>\n",
       "      <td>2021-10-11 01:25:30+00:00</td>\n",
       "      <td>4</td>\n",
       "      <td>RT @cdye56: It may have cracked my list of the...</td>\n",
       "      <td>0.1779</td>\n",
       "      <td>Positive</td>\n",
       "    </tr>\n",
       "    <tr>\n",
       "      <th>13</th>\n",
       "      <td>1447372754311782403</td>\n",
       "      <td>en</td>\n",
       "      <td>2021-10-11 01:25:30+00:00</td>\n",
       "      <td>548</td>\n",
       "      <td>RT @patriottakes: Please do not nebulize hydro...</td>\n",
       "      <td>0.6124</td>\n",
       "      <td>Positive</td>\n",
       "    </tr>\n",
       "    <tr>\n",
       "      <th>14</th>\n",
       "      <td>1447372751849787396</td>\n",
       "      <td>es</td>\n",
       "      <td>2021-10-11 01:25:29+00:00</td>\n",
       "      <td>0</td>\n",
       "      <td>*🇲🇽👍🏼La verdadera democracia escucha y hace va...</td>\n",
       "      <td>0.0</td>\n",
       "      <td>Neutral</td>\n",
       "    </tr>\n",
       "  </tbody>\n",
       "</table>\n",
       "</div>"
      ],
      "text/plain": [
       "                     id lang                 created_at retweet_count  \\\n",
       "0   1447372776353026052   es  2021-10-11 01:25:35+00:00            34   \n",
       "1   1447372776269090818   en  2021-10-11 01:25:35+00:00            28   \n",
       "2   1447372773207121920  und  2021-10-11 01:25:34+00:00           532   \n",
       "3   1447372772724908036   en  2021-10-11 01:25:34+00:00             2   \n",
       "4   1447372769839046659   en  2021-10-11 01:25:33+00:00             7   \n",
       "5   1447372763816022016  und  2021-10-11 01:25:32+00:00             0   \n",
       "6   1447372760754262017   en  2021-10-11 01:25:31+00:00             0   \n",
       "7   1447372760380887045   tl  2021-10-11 01:25:31+00:00             0   \n",
       "8   1447372760003403790   tl  2021-10-11 01:25:31+00:00            18   \n",
       "9   1447372759231700997   en  2021-10-11 01:25:31+00:00           239   \n",
       "10  1447372759219294209   en  2021-10-11 01:25:31+00:00             0   \n",
       "11  1447372758136938500   en  2021-10-11 01:25:31+00:00            64   \n",
       "12  1447372756924895232   en  2021-10-11 01:25:30+00:00             4   \n",
       "13  1447372754311782403   en  2021-10-11 01:25:30+00:00           548   \n",
       "14  1447372751849787396   es  2021-10-11 01:25:29+00:00             0   \n",
       "\n",
       "                                                 text sentiment_score  \\\n",
       "0   RT @CiroGomezL: “#Facebook daña a la niñez, av...             0.0   \n",
       "1   RT @jamisonfoser: @DouthatNYT You wrote Silico...         -0.3535   \n",
       "2   RT @MusicLibraryTH: 2021 #MusicLibraryTOP40 We...             0.0   \n",
       "3   RT @OakleyBoiii: @GameBattles Would love a spo...          0.8908   \n",
       "4   RT @chickwerner: @donwinslow #Facebook Board o...         -0.5106   \n",
       "5                             https://t.co/BRADU7vuUP             0.0   \n",
       "6   ✨🏆 Best Actress – Television (Comedy) Winner: ...          0.9584   \n",
       "7   tangina katatapos lang bardagulan dito sa twit...          0.4404   \n",
       "8   RT @ustshscomelec: Sulong, botante! Narito na ...             0.0   \n",
       "9   RT @armyspoke_news: https://t.co/ufixfJwKxV  💂...          0.8481   \n",
       "10  #FacebookWhistleblower Haugen’s Historic @Goog...             0.0   \n",
       "11  RT @davenewworld_2: \"In February, the BBC inve...          0.1779   \n",
       "12  RT @cdye56: It may have cracked my list of the...          0.1779   \n",
       "13  RT @patriottakes: Please do not nebulize hydro...          0.6124   \n",
       "14  *🇲🇽👍🏼La verdadera democracia escucha y hace va...             0.0   \n",
       "\n",
       "   sentiment  \n",
       "0    Neutral  \n",
       "1   Negative  \n",
       "2    Neutral  \n",
       "3   Positive  \n",
       "4   Negative  \n",
       "5    Neutral  \n",
       "6   Positive  \n",
       "7   Positive  \n",
       "8    Neutral  \n",
       "9   Positive  \n",
       "10   Neutral  \n",
       "11  Positive  \n",
       "12  Positive  \n",
       "13  Positive  \n",
       "14   Neutral  "
      ]
     },
     "execution_count": 13,
     "metadata": {},
     "output_type": "execute_result"
    }
   ],
   "source": [
    "sentiment_df"
   ]
  },
  {
   "cell_type": "markdown",
   "metadata": {
    "id": "sDLNbxaRfoT3"
   },
   "source": [
    "**Graph sentiment polarity extracted from tweets**"
   ]
  },
  {
   "cell_type": "markdown",
   "metadata": {
    "id": "a8xEqTtRf1f2"
   },
   "source": [
    "In the code above, we explored how to connect to Twitter, fetched tweets from twitter on a specific topic and then examined the sentiment of the tweets.  VADER compound score is a float within the range [-1.0, 1.0] where a score greater than 0.0 indicates positive sentiment whereas a score less than 0.0 indicates negative sentiment.\n",
    "\n",
    "Now, we will create a listener class that continuously listens for tweets on a specific topic, detects the sentiment of the fetched tweets and persists them to a file."
   ]
  },
  {
   "cell_type": "code",
   "execution_count": 14,
   "metadata": {
    "executionInfo": {
     "elapsed": 5,
     "status": "ok",
     "timestamp": 1630640304926,
     "user": {
      "displayName": "Nikolay Kadochnikov",
      "photoUrl": "",
      "userId": "00846090838033288378"
     },
     "user_tz": 300
    },
    "id": "bBUmntQB946v"
   },
   "outputs": [],
   "source": [
    "path_tweets = '/home/jupyter/data/tweet_capture'\n",
    "\n",
    "if not os.path.isdir(path_tweets): os.mkdir(path_tweets)"
   ]
  },
  {
   "cell_type": "code",
   "execution_count": 15,
   "metadata": {
    "executionInfo": {
     "elapsed": 5,
     "status": "ok",
     "timestamp": 1630640304927,
     "user": {
      "displayName": "Nikolay Kadochnikov",
      "photoUrl": "",
      "userId": "00846090838033288378"
     },
     "user_tz": 300
    },
    "id": "7p3IN3O6RDoT"
   },
   "outputs": [],
   "source": [
    "# Remove existing data\n",
    "\n",
    "file_list = glob.glob(os.path.join(path_tweets, '*.json'))\n",
    "\n",
    "for f in file_list:\n",
    "    os.remove(f)"
   ]
  },
  {
   "cell_type": "code",
   "execution_count": 16,
   "metadata": {
    "executionInfo": {
     "elapsed": 4,
     "status": "ok",
     "timestamp": 1630640304927,
     "user": {
      "displayName": "Nikolay Kadochnikov",
      "photoUrl": "",
      "userId": "00846090838033288378"
     },
     "user_tz": 300
    },
    "id": "FmwnYAGwTdKv"
   },
   "outputs": [],
   "source": [
    "# Overall tweet volume to collect\n",
    "MAX_TWEETS = 100\n",
    "\n",
    "# Max time to listen in minutes\n",
    "MAX_TIME = 10\n",
    "\n",
    "# Number of tweets to include in a batch for saving\n",
    "NUM_BATCH = 10\n",
    "\n",
    "# Using current time\n",
    "initial_time = datetime.datetime.now()\n",
    "\n",
    "#override tweepy.StreamListener to add logic to on_status\n",
    "class NickCustomStreamListener(tweepy.Stream):\n",
    "    collected_data = []\n",
    "    collected_count = 0\n",
    "\n",
    "    def on_data(self, data):\n",
    "        all_data = json.loads(data)\n",
    "        if 'text' in all_data:\n",
    "          # append collector with tweet enriched by sentiment score\n",
    "          self.collected_data.append({\n",
    "              \"tweet\": all_data[\"text\"],\n",
    "              \"created_at\": all_data[\"created_at\"],\n",
    "              \"retweeted\": all_data[\"retweeted\"],\n",
    "              \"username\": all_data[\"user\"][\"screen_name\"],\n",
    "              \"user_tz\": all_data[\"user\"][\"time_zone\"],\n",
    "              \"user_location\": all_data[\"user\"][\"location\"],\n",
    "              \"sentiment_score\": str(analyzer.polarity_scores(all_data[\"text\"])[\"compound\"])\n",
    "          })\n",
    "          # increase count of tweets collected\n",
    "          self.collected_count += 1\n",
    "          # batch size achieved\n",
    "          if self.collected_count % NUM_BATCH == 0:\n",
    "            now = datetime.datetime.now()\n",
    "            now_timestamp = datetime.datetime.now(pytz.timezone('US/Central')).strftime(\"%Y-%m-%d_%H:%M:%S\")\n",
    "            with open(f\"{path_tweets}/tweets-crawled-{now_timestamp}.json\", \"w\") as f:\n",
    "                f.write(json.dumps(self.collected_data))\n",
    "                \n",
    "            # empty batch collector to free-up memory\n",
    "            self.collected_data = []\n",
    "            \n",
    "        # stop process when max tweets reached\n",
    "        if (\n",
    "            (datetime.datetime.now() > initial_time + datetime.timedelta(minutes = MAX_TIME)) or \n",
    "            (self.collected_count > MAX_TWEETS)\n",
    "        ):                \n",
    "            # stop iterations\n",
    "            self.disconnect()"
   ]
  },
  {
   "cell_type": "code",
   "execution_count": 17,
   "metadata": {},
   "outputs": [],
   "source": [
    "initial_time = datetime.datetime.now()\n",
    "\n",
    "myStream = NickCustomStreamListener(consumer_key, consumer_secret, access_token, access_token_secret)\n",
    "myStream.filter(track=[\"COVID\", \"covid\"], languages = [\"en\"], stall_warnings = True)"
   ]
  },
  {
   "cell_type": "code",
   "execution_count": 18,
   "metadata": {
    "colab": {
     "base_uri": "https://localhost:8080/"
    },
    "executionInfo": {
     "elapsed": 21,
     "status": "ok",
     "timestamp": 1630640607673,
     "user": {
      "displayName": "Nikolay Kadochnikov",
      "photoUrl": "",
      "userId": "00846090838033288378"
     },
     "user_tz": 300
    },
    "id": "DBeML32_BdV3",
    "outputId": "c60a28b5-e487-444e-efc7-92456bc45707"
   },
   "outputs": [
    {
     "data": {
      "text/plain": [
       "['/home/jupyter/data/tweet_capture/tweets-crawled-2021-10-10_20:25:45.json',\n",
       " '/home/jupyter/data/tweet_capture/tweets-crawled-2021-10-10_20:25:49.json',\n",
       " '/home/jupyter/data/tweet_capture/tweets-crawled-2021-10-10_20:25:37.json',\n",
       " '/home/jupyter/data/tweet_capture/tweets-crawled-2021-10-10_20:25:47.json',\n",
       " '/home/jupyter/data/tweet_capture/tweets-crawled-2021-10-10_20:25:48.json',\n",
       " '/home/jupyter/data/tweet_capture/tweets-crawled-2021-10-10_20:25:39.json',\n",
       " '/home/jupyter/data/tweet_capture/tweets-crawled-2021-10-10_20:25:44.json',\n",
       " '/home/jupyter/data/tweet_capture/tweets-crawled-2021-10-10_20:25:46.json',\n",
       " '/home/jupyter/data/tweet_capture/tweets-crawled-2021-10-10_20:25:41.json',\n",
       " '/home/jupyter/data/tweet_capture/tweets-crawled-2021-10-10_20:25:43.json']"
      ]
     },
     "execution_count": 18,
     "metadata": {},
     "output_type": "execute_result"
    }
   ],
   "source": [
    "# Review collected JSON objects\n",
    "\n",
    "file_list = glob.glob(os.path.join(path_tweets, '*.json'))\n",
    "file_list"
   ]
  },
  {
   "cell_type": "code",
   "execution_count": 19,
   "metadata": {
    "colab": {
     "base_uri": "https://localhost:8080/"
    },
    "executionInfo": {
     "elapsed": 298,
     "status": "ok",
     "timestamp": 1630640607962,
     "user": {
      "displayName": "Nikolay Kadochnikov",
      "photoUrl": "",
      "userId": "00846090838033288378"
     },
     "user_tz": 300
    },
    "id": "BIxfIzHLFvl1",
    "outputId": "ab611a73-8676-446f-c9fe-00e28584e141"
   },
   "outputs": [
    {
     "name": "stdout",
     "output_type": "stream",
     "text": [
      "Number of tweets collected: 100\n",
      "Min sentiment: -0.886\n",
      "Average sentiment: 0.01663999999999999\n",
      "Max sentiment: 0.8176\n"
     ]
    }
   ],
   "source": [
    "# Read collected tweets into Pandas dataframe\n",
    "\n",
    "tweets_df = pd.DataFrame()\n",
    "\n",
    "for file in file_list:\n",
    "    temp = pd.read_json(file, orient='records')    \n",
    "    tweets_df = tweets_df.append(temp, ignore_index = True)\n",
    "\n",
    "\n",
    "print(f\"Number of tweets collected: {tweets_df.shape[0]}\")\n",
    "print(f\"Min sentiment: {tweets_df['sentiment_score'].min()}\")\n",
    "print(f\"Average sentiment: {tweets_df['sentiment_score'].mean()}\")\n",
    "print(f\"Max sentiment: {tweets_df['sentiment_score'].max()}\")"
   ]
  },
  {
   "cell_type": "code",
   "execution_count": 20,
   "metadata": {
    "colab": {
     "base_uri": "https://localhost:8080/",
     "height": 419
    },
    "executionInfo": {
     "elapsed": 92,
     "status": "ok",
     "timestamp": 1630640608042,
     "user": {
      "displayName": "Nikolay Kadochnikov",
      "photoUrl": "",
      "userId": "00846090838033288378"
     },
     "user_tz": 300
    },
    "id": "-SekkuEwDAD4",
    "outputId": "6da3639c-2fb6-40c5-9949-b0c51e2e4aec"
   },
   "outputs": [
    {
     "data": {
      "text/html": [
       "<div>\n",
       "<style scoped>\n",
       "    .dataframe tbody tr th:only-of-type {\n",
       "        vertical-align: middle;\n",
       "    }\n",
       "\n",
       "    .dataframe tbody tr th {\n",
       "        vertical-align: top;\n",
       "    }\n",
       "\n",
       "    .dataframe thead th {\n",
       "        text-align: right;\n",
       "    }\n",
       "</style>\n",
       "<table border=\"1\" class=\"dataframe\">\n",
       "  <thead>\n",
       "    <tr style=\"text-align: right;\">\n",
       "      <th></th>\n",
       "      <th>created_at</th>\n",
       "      <th>tweet</th>\n",
       "      <th>sentiment_score</th>\n",
       "    </tr>\n",
       "  </thead>\n",
       "  <tbody>\n",
       "    <tr>\n",
       "      <th>0</th>\n",
       "      <td>2021-10-11 01:25:39+00:00</td>\n",
       "      <td>RT @JacquiDelaney: The unmitigated gall.\\n\\nTofino.\\nMcKenna farewell tour.\\n5 weeks criss crossing Canada during a needless election.</td>\n",
       "      <td>0.0000</td>\n",
       "    </tr>\n",
       "    <tr>\n",
       "      <th>1</th>\n",
       "      <td>2021-10-11 01:25:39+00:00</td>\n",
       "      <td>As Covid trends down, Fauci warns not to ‘declare victory’ https://t.co/MgNGDQcRO3</td>\n",
       "      <td>-0.1027</td>\n",
       "    </tr>\n",
       "    <tr>\n",
       "      <th>2</th>\n",
       "      <td>2021-10-11 01:25:39+00:00</td>\n",
       "      <td>RT @BazziNYU: Moderna’s attitude amounted to: “We’re here to make money. We’ve stumbled upon a good thing, and we’re not even trying to pre…</td>\n",
       "      <td>0.4404</td>\n",
       "    </tr>\n",
       "    <tr>\n",
       "      <th>3</th>\n",
       "      <td>2021-10-11 01:25:39+00:00</td>\n",
       "      <td>@sallymcmanus_ @LaTrioli @PatsKarvelas @Raf_Epstein Siena has closed too due to a covid positive student.</td>\n",
       "      <td>0.5574</td>\n",
       "    </tr>\n",
       "    <tr>\n",
       "      <th>4</th>\n",
       "      <td>2021-10-11 01:25:39+00:00</td>\n",
       "      <td>You are not alone! https://t.co/3K1bnr3gtF</td>\n",
       "      <td>0.2575</td>\n",
       "    </tr>\n",
       "    <tr>\n",
       "      <th>...</th>\n",
       "      <td>...</td>\n",
       "      <td>...</td>\n",
       "      <td>...</td>\n",
       "    </tr>\n",
       "    <tr>\n",
       "      <th>95</th>\n",
       "      <td>2021-10-11 01:25:37+00:00</td>\n",
       "      <td>RT @kylegriffin1: Hawaii just became the first state to administer COVID vaccines to 90% of its residents 12 and older.</td>\n",
       "      <td>0.0000</td>\n",
       "    </tr>\n",
       "    <tr>\n",
       "      <th>96</th>\n",
       "      <td>2021-10-11 01:25:37+00:00</td>\n",
       "      <td>RT @KFF: Had the #COVID19 death rate in the 10 least vaccinated states been the same as the death rate in the 10 most vaccinated states, th…</td>\n",
       "      <td>-0.8316</td>\n",
       "    </tr>\n",
       "    <tr>\n",
       "      <th>97</th>\n",
       "      <td>2021-10-11 01:25:37+00:00</td>\n",
       "      <td>RT @DrSasa22222: ANNOUNCEMENT REGARDING THE COVID-19 SITUATION IN MYANMAR BY H.E. DR. SASA\\n17 July 2021 https://t.co/Ka1ImsiL7m</td>\n",
       "      <td>0.0000</td>\n",
       "    </tr>\n",
       "    <tr>\n",
       "      <th>98</th>\n",
       "      <td>2021-10-11 01:25:37+00:00</td>\n",
       "      <td>RT @KamalaHarris: Thanks to President @JoeBiden’s leadership, the Department of Labor will require any business with 100 or more employees…</td>\n",
       "      <td>0.4404</td>\n",
       "    </tr>\n",
       "    <tr>\n",
       "      <th>99</th>\n",
       "      <td>2021-10-11 01:25:38+00:00</td>\n",
       "      <td>Setting aside COVID-19, what issue facing Canada/the Province do you care about the most? https://t.co/K5jLbGbbDQ via @barrietoday</td>\n",
       "      <td>0.4939</td>\n",
       "    </tr>\n",
       "  </tbody>\n",
       "</table>\n",
       "<p>100 rows × 3 columns</p>\n",
       "</div>"
      ],
      "text/plain": [
       "                  created_at  \\\n",
       "0  2021-10-11 01:25:39+00:00   \n",
       "1  2021-10-11 01:25:39+00:00   \n",
       "2  2021-10-11 01:25:39+00:00   \n",
       "3  2021-10-11 01:25:39+00:00   \n",
       "4  2021-10-11 01:25:39+00:00   \n",
       "..                       ...   \n",
       "95 2021-10-11 01:25:37+00:00   \n",
       "96 2021-10-11 01:25:37+00:00   \n",
       "97 2021-10-11 01:25:37+00:00   \n",
       "98 2021-10-11 01:25:37+00:00   \n",
       "99 2021-10-11 01:25:38+00:00   \n",
       "\n",
       "                                                                                                                                           tweet  \\\n",
       "0         RT @JacquiDelaney: The unmitigated gall.\\n\\nTofino.\\nMcKenna farewell tour.\\n5 weeks criss crossing Canada during a needless election.   \n",
       "1                                                             As Covid trends down, Fauci warns not to ‘declare victory’ https://t.co/MgNGDQcRO3   \n",
       "2   RT @BazziNYU: Moderna’s attitude amounted to: “We’re here to make money. We’ve stumbled upon a good thing, and we’re not even trying to pre…   \n",
       "3                                      @sallymcmanus_ @LaTrioli @PatsKarvelas @Raf_Epstein Siena has closed too due to a covid positive student.   \n",
       "4                                                                                                     You are not alone! https://t.co/3K1bnr3gtF   \n",
       "..                                                                                                                                           ...   \n",
       "95                       RT @kylegriffin1: Hawaii just became the first state to administer COVID vaccines to 90% of its residents 12 and older.   \n",
       "96  RT @KFF: Had the #COVID19 death rate in the 10 least vaccinated states been the same as the death rate in the 10 most vaccinated states, th…   \n",
       "97              RT @DrSasa22222: ANNOUNCEMENT REGARDING THE COVID-19 SITUATION IN MYANMAR BY H.E. DR. SASA\\n17 July 2021 https://t.co/Ka1ImsiL7m   \n",
       "98   RT @KamalaHarris: Thanks to President @JoeBiden’s leadership, the Department of Labor will require any business with 100 or more employees…   \n",
       "99            Setting aside COVID-19, what issue facing Canada/the Province do you care about the most? https://t.co/K5jLbGbbDQ via @barrietoday   \n",
       "\n",
       "    sentiment_score  \n",
       "0            0.0000  \n",
       "1           -0.1027  \n",
       "2            0.4404  \n",
       "3            0.5574  \n",
       "4            0.2575  \n",
       "..              ...  \n",
       "95           0.0000  \n",
       "96          -0.8316  \n",
       "97           0.0000  \n",
       "98           0.4404  \n",
       "99           0.4939  \n",
       "\n",
       "[100 rows x 3 columns]"
      ]
     },
     "execution_count": 20,
     "metadata": {},
     "output_type": "execute_result"
    }
   ],
   "source": [
    "pd.set_option('display.max_colwidth', None)\n",
    "\n",
    "tweets_df[['created_at', 'tweet', 'sentiment_score']]"
   ]
  },
  {
   "cell_type": "markdown",
   "metadata": {
    "id": "xEzOXk08dh08"
   },
   "source": [
    "#### Plotting sentiment analysis over time"
   ]
  },
  {
   "cell_type": "code",
   "execution_count": 21,
   "metadata": {
    "executionInfo": {
     "elapsed": 8,
     "status": "ok",
     "timestamp": 1630640608048,
     "user": {
      "displayName": "Nikolay Kadochnikov",
      "photoUrl": "",
      "userId": "00846090838033288378"
     },
     "user_tz": 300
    },
    "id": "iWDeqDKQb-ed"
   },
   "outputs": [],
   "source": [
    "import matplotlib.pyplot as plt\n",
    "import matplotlib\n",
    "%matplotlib inline"
   ]
  },
  {
   "cell_type": "code",
   "execution_count": 22,
   "metadata": {
    "colab": {
     "base_uri": "https://localhost:8080/",
     "height": 589
    },
    "executionInfo": {
     "elapsed": 793,
     "status": "ok",
     "timestamp": 1630640608834,
     "user": {
      "displayName": "Nikolay Kadochnikov",
      "photoUrl": "",
      "userId": "00846090838033288378"
     },
     "user_tz": 300
    },
    "id": "KF__VQ0Eb2EP",
    "outputId": "d304965c-cea2-45ad-f8e5-aa31c4de380e"
   },
   "outputs": [
    {
     "data": {
      "image/png": "[encoded data removed]",
      "text/plain": [
       "<Figure size 1800x720 with 1 Axes>"
      ]
     },
     "metadata": {
      "needs_background": "light"
     },
     "output_type": "display_data"
    }
   ],
   "source": [
    "plt.rcParams[\"figure.figsize\"] = (25,10)\n",
    "\n",
    "tweet_timeline_df = tweets_df.copy()\n",
    "tweet_timeline_df = tweet_timeline_df[['created_at', 'sentiment_score']].set_index('created_at')\n",
    "\n",
    "\n",
    "tweet_timeline_df.plot()\n",
    "plot = plt.title(f'Sentiment timeline')"
   ]
  },
  {
   "cell_type": "code",
   "execution_count": null,
   "metadata": {
    "executionInfo": {
     "elapsed": 26,
     "status": "ok",
     "timestamp": 1630640608837,
     "user": {
      "displayName": "Nikolay Kadochnikov",
      "photoUrl": "",
      "userId": "00846090838033288378"
     },
     "user_tz": 300
    },
    "id": "iJxeJPUIb14N"
   },
   "outputs": [],
   "source": []
  },
  {
   "cell_type": "code",
   "execution_count": null,
   "metadata": {
    "executionInfo": {
     "elapsed": 26,
     "status": "ok",
     "timestamp": 1630640608840,
     "user": {
      "displayName": "Nikolay Kadochnikov",
      "photoUrl": "",
      "userId": "00846090838033288378"
     },
     "user_tz": 300
    },
    "id": "3Fksw5Cwb1x9"
   },
   "outputs": [],
   "source": []
  },
  {
   "cell_type": "code",
   "execution_count": null,
   "metadata": {
    "executionInfo": {
     "elapsed": 27,
     "status": "ok",
     "timestamp": 1630640608842,
     "user": {
      "displayName": "Nikolay Kadochnikov",
      "photoUrl": "",
      "userId": "00846090838033288378"
     },
     "user_tz": 300
    },
    "id": "Q8ycBRXjm0sY"
   },
   "outputs": [],
   "source": []
  },
  {
   "cell_type": "code",
   "execution_count": 23,
   "metadata": {
    "colab": {
     "base_uri": "https://localhost:8080/",
     "height": 35
    },
    "executionInfo": {
     "elapsed": 27,
     "status": "ok",
     "timestamp": 1630640608843,
     "user": {
      "displayName": "Nikolay Kadochnikov",
      "photoUrl": "",
      "userId": "00846090838033288378"
     },
     "user_tz": 300
    },
    "id": "k1iNOk9OnbAx",
    "outputId": "d77a514d-995c-4916-c895-2c2dd0ef4a78"
   },
   "outputs": [
    {
     "data": {
      "text/plain": [
       "'Sun, 10 October 2021 20:25:50'"
      ]
     },
     "execution_count": 23,
     "metadata": {},
     "output_type": "execute_result"
    }
   ],
   "source": [
    "datetime.datetime.now(pytz.timezone('US/Central')).strftime(\"%a, %d %B %Y %H:%M:%S\")"
   ]
  }
 ],
 "metadata": {
  "colab": {
   "collapsed_sections": [],
   "name": "M8 - Streaming Sentiment Analysis.ipynb",
   "provenance": []
  },
  "kernelspec": {
   "display_name": "Python 3 (ipykernel)",
   "language": "python",
   "name": "python3"
  },
  "language_info": {
   "codemirror_mode": {
    "name": "ipython",
    "version": 3
   },
   "file_extension": ".py",
   "mimetype": "text/x-python",
   "name": "python",
   "nbconvert_exporter": "python",
   "pygments_lexer": "ipython3",
   "version": "3.7.12"
  }
 },
 "nbformat": 4,
 "nbformat_minor": 4
}
