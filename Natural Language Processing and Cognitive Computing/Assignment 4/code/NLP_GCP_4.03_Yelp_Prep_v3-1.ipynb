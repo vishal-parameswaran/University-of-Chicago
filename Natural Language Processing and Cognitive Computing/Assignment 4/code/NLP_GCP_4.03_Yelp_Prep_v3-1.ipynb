{
 "cells": [
  {
   "cell_type": "markdown",
   "metadata": {},
   "source": [
    "# Yelp data prep\n",
    "https://www.yelp.com/dataset/download"
   ]
  },
  {
   "cell_type": "markdown",
   "metadata": {},
   "source": [
    "## Moving files around"
   ]
  },
  {
   "cell_type": "code",
   "execution_count": 1,
   "metadata": {},
   "outputs": [],
   "source": [
    "!mkdir -p /temp"
   ]
  },
  {
   "cell_type": "code",
   "execution_count": 2,
   "metadata": {},
   "outputs": [],
   "source": [
    "# !gsutil cp gs://msca-bdp-data/yelp/yelp_dataset.tgz /temp"
   ]
  },
  {
   "cell_type": "code",
   "execution_count": 3,
   "metadata": {},
   "outputs": [],
   "source": [
    "# !tar -C /temp -xvf /temp/yelp_dataset.tgz"
   ]
  },
  {
   "cell_type": "code",
   "execution_count": 4,
   "metadata": {},
   "outputs": [],
   "source": [
    "# !gsutil cp -n /temp/* gs://msca-bdp-data/yelp/"
   ]
  },
  {
   "cell_type": "code",
   "execution_count": 5,
   "metadata": {},
   "outputs": [
    {
     "name": "stdout",
     "output_type": "stream",
     "text": [
      "         0  2020-10-17T18:28:38Z  gs://msca-bdp-data/yelp/\n",
      "     41776  2020-11-21T22:26:22Z  gs://msca-bdp-data/yelp/Dataset_User_Agreement.pdf\n",
      "   5785348  2020-10-17T18:29:04Z  gs://msca-bdp-data/yelp/Food_Inspections.csv\n",
      "  13831001  2020-10-17T18:28:35Z  gs://msca-bdp-data/yelp/covid_19_dataset.tgz\n",
      " 152898689  2020-11-21T22:26:24Z  gs://msca-bdp-data/yelp/yelp_academic_dataset_business.json\n",
      " 449663480  2020-11-21T22:26:29Z  gs://msca-bdp-data/yelp/yelp_academic_dataset_checkin.json\n",
      "6325565224  2020-11-21T22:27:47Z  gs://msca-bdp-data/yelp/yelp_academic_dataset_review.json\n",
      " 263489322  2020-11-21T22:27:51Z  gs://msca-bdp-data/yelp/yelp_academic_dataset_tip.json\n",
      "3268069927  2020-11-21T22:28:19Z  gs://msca-bdp-data/yelp/yelp_academic_dataset_user.json\n",
      "4772313040  2020-10-17T18:30:36Z  gs://msca-bdp-data/yelp/yelp_dataset.tgz\n",
      "7456358400  2020-10-17T18:29:16Z  gs://msca-bdp-data/yelp/yelp_photos.tar\n",
      "                                 gs://msca-bdp-data/yelp/yelp_model/\n",
      "TOTAL: 11 objects, 22708016207 bytes (21.15 GiB)\n"
     ]
    }
   ],
   "source": [
    "!gsutil ls -l gs://msca-bdp-data/yelp/"
   ]
  },
  {
   "cell_type": "markdown",
   "metadata": {},
   "source": [
    "## Working on Big Data.  Must use Spark kernel"
   ]
  },
  {
   "cell_type": "code",
   "execution_count": 6,
   "metadata": {},
   "outputs": [],
   "source": [
    "from pyspark.sql.functions import *\n",
    "from pyspark.sql.types import *\n",
    "\n",
    "import pandas as pd\n",
    "import numpy as np"
   ]
  },
  {
   "cell_type": "code",
   "execution_count": 7,
   "metadata": {},
   "outputs": [],
   "source": [
    "# !pip install langdetect"
   ]
  },
  {
   "cell_type": "code",
   "execution_count": 8,
   "metadata": {},
   "outputs": [],
   "source": [
    "from langdetect import detect"
   ]
  },
  {
   "cell_type": "code",
   "execution_count": 9,
   "metadata": {},
   "outputs": [],
   "source": [
    "spark.conf.set(\"spark.sql.repl.eagerEval.enabled\",True)"
   ]
  },
  {
   "cell_type": "code",
   "execution_count": 10,
   "metadata": {},
   "outputs": [],
   "source": [
    "review = spark.read.json('gs://msca-bdp-data/yelp/yelp_academic_dataset_review.json')"
   ]
  },
  {
   "cell_type": "code",
   "execution_count": 11,
   "metadata": {},
   "outputs": [
    {
     "data": {
      "text/plain": [
       "8021122"
      ]
     },
     "execution_count": 11,
     "metadata": {},
     "output_type": "execute_result"
    }
   ],
   "source": [
    "review.count()"
   ]
  },
  {
   "cell_type": "code",
   "execution_count": 12,
   "metadata": {},
   "outputs": [],
   "source": [
    "review_sample = review.limit(1000).cache()"
   ]
  },
  {
   "cell_type": "code",
   "execution_count": 13,
   "metadata": {},
   "outputs": [
    {
     "data": {
      "text/html": [
       "<table border='1'>\n",
       "<tr><th>business_id</th><th>cool</th><th>date</th><th>funny</th><th>review_id</th><th>stars</th><th>text</th><th>useful</th><th>user_id</th></tr>\n",
       "<tr><td>HRxCNChQNu7maK29q...</td><td>0</td><td>2016-12-11 00:18:50</td><td>0</td><td>wNu8mv1l2Ls_2xu6_...</td><td>5.0</td><td>Great service and...</td><td>0</td><td>xOzhzXAfBuKZbTnd5...</td></tr>\n",
       "<tr><td>9WJd4cqm3ghYA2RxS...</td><td>0</td><td>2017-03-10 18:43:31</td><td>0</td><td>lm8EslRY-LFYGVPP2...</td><td>3.0</td><td>Trying to be too ...</td><td>1</td><td>z-FYeN6rjBhqwI7ij...</td></tr>\n",
       "<tr><td>sAmmv3ffj99CN85Wj...</td><td>0</td><td>2018-02-17 19:06:40</td><td>0</td><td>Qs1kfCrm8LU068CYq...</td><td>5.0</td><td>In my initial rev...</td><td>0</td><td>H3AEm2-QHO60PSEtv...</td></tr>\n",
       "<tr><td>oiAlXZPIFm2nBCt0D...</td><td>0</td><td>2016-03-01 21:14:46</td><td>0</td><td>lD0OOhfrQvzO1upra...</td><td>1.0</td><td>Great prices..but...</td><td>0</td><td>gebb5qh_m-in8ZACY...</td></tr>\n",
       "<tr><td>EVkytEhlC1nswqmgr...</td><td>0</td><td>2017-09-16 02:07:14</td><td>0</td><td>9_7320FMHugzvF6Ga...</td><td>4.0</td><td>虽然给了四星 是因为在店里吃还行 ...</td><td>0</td><td>LAvfRMWLE7xdxZBEy...</td></tr>\n",
       "</table>\n"
      ],
      "text/plain": [
       "+--------------------+----+-------------------+-----+--------------------+-----+-----------------------------------+------+--------------------+\n",
       "|         business_id|cool|               date|funny|           review_id|stars|                               text|useful|             user_id|\n",
       "+--------------------+----+-------------------+-----+--------------------+-----+-----------------------------------+------+--------------------+\n",
       "|HRxCNChQNu7maK29q...|   0|2016-12-11 00:18:50|    0|wNu8mv1l2Ls_2xu6_...|  5.0|               Great service and...|     0|xOzhzXAfBuKZbTnd5...|\n",
       "|9WJd4cqm3ghYA2RxS...|   0|2017-03-10 18:43:31|    0|lm8EslRY-LFYGVPP2...|  3.0|               Trying to be too ...|     1|z-FYeN6rjBhqwI7ij...|\n",
       "|sAmmv3ffj99CN85Wj...|   0|2018-02-17 19:06:40|    0|Qs1kfCrm8LU068CYq...|  5.0|               In my initial rev...|     0|H3AEm2-QHO60PSEtv...|\n",
       "|oiAlXZPIFm2nBCt0D...|   0|2016-03-01 21:14:46|    0|lD0OOhfrQvzO1upra...|  1.0|               Great prices..but...|     0|gebb5qh_m-in8ZACY...|\n",
       "|EVkytEhlC1nswqmgr...|   0|2017-09-16 02:07:14|    0|9_7320FMHugzvF6Ga...|  4.0|虽然给了四星 是因为在店里吃还行 ...|     0|LAvfRMWLE7xdxZBEy...|\n",
       "+--------------------+----+-------------------+-----+--------------------+-----+-----------------------------------+------+--------------------+"
      ]
     },
     "execution_count": 13,
     "metadata": {},
     "output_type": "execute_result"
    }
   ],
   "source": [
    "review_sample.limit(5)"
   ]
  },
  {
   "cell_type": "code",
   "execution_count": 14,
   "metadata": {},
   "outputs": [
    {
     "name": "stdout",
     "output_type": "stream",
     "text": [
      "root\n",
      " |-- business_id: string (nullable = true)\n",
      " |-- cool: long (nullable = true)\n",
      " |-- date: string (nullable = true)\n",
      " |-- funny: long (nullable = true)\n",
      " |-- review_id: string (nullable = true)\n",
      " |-- stars: double (nullable = true)\n",
      " |-- text: string (nullable = true)\n",
      " |-- useful: long (nullable = true)\n",
      " |-- user_id: string (nullable = true)\n",
      "\n"
     ]
    }
   ],
   "source": [
    "review_sample.printSchema()"
   ]
  },
  {
   "cell_type": "code",
   "execution_count": 15,
   "metadata": {},
   "outputs": [
    {
     "name": "stdout",
     "output_type": "stream",
     "text": [
      "+-------+------------------+\n",
      "|summary|             stars|\n",
      "+-------+------------------+\n",
      "|  count|              1000|\n",
      "|   mean|             3.894|\n",
      "| stddev|1.3699053400292454|\n",
      "|    min|               1.0|\n",
      "|    max|               5.0|\n",
      "+-------+------------------+\n",
      "\n"
     ]
    }
   ],
   "source": [
    "review_sample.describe(['stars']).show()"
   ]
  },
  {
   "cell_type": "code",
   "execution_count": 16,
   "metadata": {},
   "outputs": [
    {
     "name": "stdout",
     "output_type": "stream",
     "text": [
      "+-----+----------+\n",
      "|stars|record_cnt|\n",
      "+-----+----------+\n",
      "|  5.0|       475|\n",
      "|  4.0|       241|\n",
      "|  3.0|       105|\n",
      "|  2.0|        61|\n",
      "|  1.0|       118|\n",
      "+-----+----------+\n",
      "\n"
     ]
    }
   ],
   "source": [
    "review_sample.groupby('stars').agg(count('*').alias('record_cnt')).orderBy('stars', ascending=False).show()"
   ]
  },
  {
   "cell_type": "code",
   "execution_count": 17,
   "metadata": {},
   "outputs": [],
   "source": [
    "review = review.\\\n",
    "withColumn(\"sentiment_strength\",\\\n",
    "           when(col(\"stars\") == 1, \"Strong Negative\").\\\n",
    "           when(col(\"stars\") == 2, \"Negative\").\\\n",
    "           when(col(\"stars\") == 3, \"Neutral\").\\\n",
    "           when(col(\"stars\") == 4, \"Positive\").\\\n",
    "           when(col(\"stars\") == 5, \"Strong Positive\").\\\n",
    "           otherwise(\"No Sentiment\")).\\\n",
    "withColumn(\"label\",\\\n",
    "           when(col(\"stars\") == 1, 0).\\\n",
    "#            when(col(\"stars\") == 2, 0).\\\n",
    "#            when(col(\"stars\") == 3, 2).\\\n",
    "#            when(col(\"stars\") == 4, 1).\\\n",
    "           when(col(\"stars\") == 5, 1).\\\n",
    "           otherwise(3))"
   ]
  },
  {
   "cell_type": "code",
   "execution_count": 18,
   "metadata": {},
   "outputs": [
    {
     "name": "stdout",
     "output_type": "stream",
     "text": [
      "+-----+----------+\n",
      "|label|record_cnt|\n",
      "+-----+----------+\n",
      "|    3|   3150765|\n",
      "|    1|   3586460|\n",
      "|    0|   1283897|\n",
      "+-----+----------+\n",
      "\n"
     ]
    }
   ],
   "source": [
    "review.groupby('label').agg(count('*').alias('record_cnt')).orderBy('label', ascending=False).show()"
   ]
  },
  {
   "cell_type": "code",
   "execution_count": 19,
   "metadata": {},
   "outputs": [],
   "source": [
    "trainingData = review.filter(review['label'] < 3).select('text', 'label')"
   ]
  },
  {
   "cell_type": "code",
   "execution_count": 20,
   "metadata": {},
   "outputs": [
    {
     "data": {
      "text/html": [
       "<table border='1'>\n",
       "<tr><th>text</th><th>label</th></tr>\n",
       "<tr><td>Ordered delivery,...</td><td>0</td></tr>\n",
       "<tr><td>Be warned! Once y...</td><td>0</td></tr>\n",
       "<tr><td>I love this littl...</td><td>1</td></tr>\n",
       "<tr><td>This guy was grea...</td><td>1</td></tr>\n",
       "<tr><td>Yes yes and yes.....</td><td>1</td></tr>\n",
       "</table>\n"
      ],
      "text/plain": [
       "+--------------------+-----+\n",
       "|                text|label|\n",
       "+--------------------+-----+\n",
       "|You'd be a fool t...|    1|\n",
       "|What a hidden (al...|    1|\n",
       "|A great Pittsburg...|    1|\n",
       "|I live nearby and...|    1|\n",
       "|Awesome service! ...|    1|\n",
       "+--------------------+-----+"
      ]
     },
     "execution_count": 20,
     "metadata": {},
     "output_type": "execute_result"
    }
   ],
   "source": [
    "trainingData.limit(5)"
   ]
  },
  {
   "cell_type": "markdown",
   "metadata": {},
   "source": [
    "### Balance sample between classes"
   ]
  },
  {
   "cell_type": "code",
   "execution_count": 21,
   "metadata": {},
   "outputs": [
    {
     "name": "stdout",
     "output_type": "stream",
     "text": [
      "Distribution of Pos and Neg cases of the down-sampled training data are: \n",
      " [Row(label=1, count=1282962), Row(label=0, count=1283897)]\n"
     ]
    }
   ],
   "source": [
    "ratio_adjust = 1.0 ## ratio of pos to neg in the df_subsample\n",
    "\n",
    "\n",
    "counts = trainingData.groupBy('label').count().collect()\n",
    "\n",
    "if counts[0][1] > counts[1][1]:\n",
    "    down_class = counts[0][0]\n",
    "else:\n",
    "    down_class = counts[1][0]\n",
    "    \n",
    "\n",
    "higherBound = counts[0][1]\n",
    "treshold_to_filter = int(ratio_adjust * float(counts[1][1]) / counts[0][1] * higherBound)\n",
    " \n",
    "randGen = lambda x: np.random.randint(0, higherBound) if x == down_class else -1\n",
    " \n",
    "udfRandGen = udf(randGen, IntegerType())\n",
    "\n",
    "trainingData = trainingData.withColumn(\"randIndex\", udfRandGen(\"label\"))\n",
    "trainingData = trainingData.filter(trainingData['randIndex'] < treshold_to_filter).drop('randIndex')\n",
    " \n",
    "print(\"Distribution of Pos and Neg cases of the down-sampled training data are: \\n\", \\\n",
    "      trainingData.groupBy(\"label\").count().take(3))"
   ]
  },
  {
   "cell_type": "code",
   "execution_count": 22,
   "metadata": {},
   "outputs": [],
   "source": [
    "trainingDataSample = trainingData.sample(False, 0.1, 12345)"
   ]
  },
  {
   "cell_type": "code",
   "execution_count": 23,
   "metadata": {},
   "outputs": [
    {
     "data": {
      "text/plain": [
       "256417"
      ]
     },
     "execution_count": 23,
     "metadata": {},
     "output_type": "execute_result"
    }
   ],
   "source": [
    "trainingDataSample.count()"
   ]
  },
  {
   "cell_type": "code",
   "execution_count": 24,
   "metadata": {},
   "outputs": [],
   "source": [
    "pd_reviews = trainingDataSample.toPandas()"
   ]
  },
  {
   "cell_type": "code",
   "execution_count": 25,
   "metadata": {},
   "outputs": [
    {
     "data": {
      "text/plain": [
       "pandas.core.frame.DataFrame"
      ]
     },
     "execution_count": 25,
     "metadata": {},
     "output_type": "execute_result"
    }
   ],
   "source": [
    "type(pd_reviews)"
   ]
  },
  {
   "cell_type": "code",
   "execution_count": 26,
   "metadata": {},
   "outputs": [],
   "source": [
    "# pd_reviews.to_pickle('/temp/yelp_review.pkl')\n",
    "\n",
    "pd_reviews.to_json('/temp/yelp_review.json', orient='records', lines=True)"
   ]
  },
  {
   "cell_type": "code",
   "execution_count": 27,
   "metadata": {},
   "outputs": [
    {
     "data": {
      "text/html": [
       "<div>\n",
       "<style scoped>\n",
       "    .dataframe tbody tr th:only-of-type {\n",
       "        vertical-align: middle;\n",
       "    }\n",
       "\n",
       "    .dataframe tbody tr th {\n",
       "        vertical-align: top;\n",
       "    }\n",
       "\n",
       "    .dataframe thead th {\n",
       "        text-align: right;\n",
       "    }\n",
       "</style>\n",
       "<table border=\"1\" class=\"dataframe\">\n",
       "  <thead>\n",
       "    <tr style=\"text-align: right;\">\n",
       "      <th></th>\n",
       "      <th>text</th>\n",
       "      <th>label</th>\n",
       "    </tr>\n",
       "  </thead>\n",
       "  <tbody>\n",
       "    <tr>\n",
       "      <th>0</th>\n",
       "      <td>I love Deagan's. I do. I really do. The atmosp...</td>\n",
       "      <td>1</td>\n",
       "    </tr>\n",
       "    <tr>\n",
       "      <th>1</th>\n",
       "      <td>I love the classes at this gym. Zumba and. Rad...</td>\n",
       "      <td>1</td>\n",
       "    </tr>\n",
       "    <tr>\n",
       "      <th>2</th>\n",
       "      <td>The tables and floor were dirty. I was the onl...</td>\n",
       "      <td>0</td>\n",
       "    </tr>\n",
       "    <tr>\n",
       "      <th>3</th>\n",
       "      <td>I had an oil change at the 15515 N Scottsdale ...</td>\n",
       "      <td>0</td>\n",
       "    </tr>\n",
       "    <tr>\n",
       "      <th>4</th>\n",
       "      <td>The absolute WORST apartment complex I have ev...</td>\n",
       "      <td>0</td>\n",
       "    </tr>\n",
       "  </tbody>\n",
       "</table>\n",
       "</div>"
      ],
      "text/plain": [
       "                                                text  label\n",
       "0  I love Deagan's. I do. I really do. The atmosp...      1\n",
       "1  I love the classes at this gym. Zumba and. Rad...      1\n",
       "2  The tables and floor were dirty. I was the onl...      0\n",
       "3  I had an oil change at the 15515 N Scottsdale ...      0\n",
       "4  The absolute WORST apartment complex I have ev...      0"
      ]
     },
     "execution_count": 27,
     "metadata": {},
     "output_type": "execute_result"
    }
   ],
   "source": [
    "pd_reviews.head(5)"
   ]
  },
  {
   "cell_type": "code",
   "execution_count": 28,
   "metadata": {},
   "outputs": [
    {
     "data": {
      "text/plain": [
       "(256512, 2)"
      ]
     },
     "execution_count": 28,
     "metadata": {},
     "output_type": "execute_result"
    }
   ],
   "source": [
    "pd_reviews.shape"
   ]
  },
  {
   "cell_type": "markdown",
   "metadata": {},
   "source": [
    "#### Saving the review DF with star ratings for multi-class classification"
   ]
  },
  {
   "cell_type": "code",
   "execution_count": 29,
   "metadata": {},
   "outputs": [
    {
     "data": {
      "text/plain": [
       "401309"
      ]
     },
     "execution_count": 29,
     "metadata": {},
     "output_type": "execute_result"
    }
   ],
   "source": [
    "review_sample = review.sample(False, 0.05, 12345)\n",
    "review_sample.count()"
   ]
  },
  {
   "cell_type": "code",
   "execution_count": 30,
   "metadata": {},
   "outputs": [],
   "source": [
    "pd_stars = review_sample.select('text', 'sentiment_strength').toPandas()"
   ]
  },
  {
   "cell_type": "code",
   "execution_count": 32,
   "metadata": {},
   "outputs": [],
   "source": [
    "# pd_stars.to_pickle('/temp/yelp_review_stars.pkl')\n",
    "\n",
    "pd_stars.to_json('/temp/yelp_review_stars.json', orient='records', lines=True)"
   ]
  },
  {
   "cell_type": "code",
   "execution_count": 33,
   "metadata": {},
   "outputs": [
    {
     "data": {
      "text/html": [
       "<div>\n",
       "<style scoped>\n",
       "    .dataframe tbody tr th:only-of-type {\n",
       "        vertical-align: middle;\n",
       "    }\n",
       "\n",
       "    .dataframe tbody tr th {\n",
       "        vertical-align: top;\n",
       "    }\n",
       "\n",
       "    .dataframe thead th {\n",
       "        text-align: right;\n",
       "    }\n",
       "</style>\n",
       "<table border=\"1\" class=\"dataframe\">\n",
       "  <thead>\n",
       "    <tr style=\"text-align: right;\">\n",
       "      <th></th>\n",
       "      <th>text</th>\n",
       "      <th>sentiment_strength</th>\n",
       "    </tr>\n",
       "  </thead>\n",
       "  <tbody>\n",
       "    <tr>\n",
       "      <th>0</th>\n",
       "      <td>I am actually horrified this place is still in...</td>\n",
       "      <td>Strong Negative</td>\n",
       "    </tr>\n",
       "    <tr>\n",
       "      <th>1</th>\n",
       "      <td>Maria is VERY good at what she does with great...</td>\n",
       "      <td>Storng Positive</td>\n",
       "    </tr>\n",
       "    <tr>\n",
       "      <th>2</th>\n",
       "      <td>First time eating there and everything was so ...</td>\n",
       "      <td>Storng Positive</td>\n",
       "    </tr>\n",
       "    <tr>\n",
       "      <th>3</th>\n",
       "      <td>Had brunch here Sunday with a friend. The meal...</td>\n",
       "      <td>Neutral</td>\n",
       "    </tr>\n",
       "    <tr>\n",
       "      <th>4</th>\n",
       "      <td>Food was piping hot, which is great!! Had the ...</td>\n",
       "      <td>Neutral</td>\n",
       "    </tr>\n",
       "  </tbody>\n",
       "</table>\n",
       "</div>"
      ],
      "text/plain": [
       "                                                text sentiment_strength\n",
       "0  I am actually horrified this place is still in...    Strong Negative\n",
       "1  Maria is VERY good at what she does with great...    Storng Positive\n",
       "2  First time eating there and everything was so ...    Storng Positive\n",
       "3  Had brunch here Sunday with a friend. The meal...            Neutral\n",
       "4  Food was piping hot, which is great!! Had the ...            Neutral"
      ]
     },
     "execution_count": 33,
     "metadata": {},
     "output_type": "execute_result"
    }
   ],
   "source": [
    "pd_stars.head(5)"
   ]
  },
  {
   "cell_type": "code",
   "execution_count": 34,
   "metadata": {},
   "outputs": [
    {
     "data": {
      "text/plain": [
       "(401309, 2)"
      ]
     },
     "execution_count": 34,
     "metadata": {},
     "output_type": "execute_result"
    }
   ],
   "source": [
    "pd_stars.shape"
   ]
  },
  {
   "cell_type": "markdown",
   "metadata": {},
   "source": [
    "#### Detect language and limit to English only"
   ]
  },
  {
   "cell_type": "code",
   "execution_count": 35,
   "metadata": {},
   "outputs": [],
   "source": [
    "def lang_detect(x):\n",
    "    try:\n",
    "        return detect(x)\n",
    "    except:\n",
    "        return '--'"
   ]
  },
  {
   "cell_type": "code",
   "execution_count": 36,
   "metadata": {},
   "outputs": [
    {
     "name": "stdout",
     "output_type": "stream",
     "text": [
      "CPU times: user 19min 14s, sys: 9 s, total: 19min 23s\n",
      "Wall time: 19min 23s\n"
     ]
    }
   ],
   "source": [
    "%time pd_reviews['lang'] = pd_reviews['text'].apply(lambda x: lang_detect(x))"
   ]
  },
  {
   "cell_type": "code",
   "execution_count": 37,
   "metadata": {},
   "outputs": [
    {
     "data": {
      "text/html": [
       "<div>\n",
       "<style scoped>\n",
       "    .dataframe tbody tr th:only-of-type {\n",
       "        vertical-align: middle;\n",
       "    }\n",
       "\n",
       "    .dataframe tbody tr th {\n",
       "        vertical-align: top;\n",
       "    }\n",
       "\n",
       "    .dataframe thead th {\n",
       "        text-align: right;\n",
       "    }\n",
       "</style>\n",
       "<table border=\"1\" class=\"dataframe\">\n",
       "  <thead>\n",
       "    <tr style=\"text-align: right;\">\n",
       "      <th></th>\n",
       "      <th>text</th>\n",
       "      <th>label</th>\n",
       "      <th>lang</th>\n",
       "    </tr>\n",
       "  </thead>\n",
       "  <tbody>\n",
       "    <tr>\n",
       "      <th>0</th>\n",
       "      <td>I love Deagan's. I do. I really do. The atmosp...</td>\n",
       "      <td>1</td>\n",
       "      <td>en</td>\n",
       "    </tr>\n",
       "    <tr>\n",
       "      <th>1</th>\n",
       "      <td>I love the classes at this gym. Zumba and. Rad...</td>\n",
       "      <td>1</td>\n",
       "      <td>en</td>\n",
       "    </tr>\n",
       "    <tr>\n",
       "      <th>2</th>\n",
       "      <td>The tables and floor were dirty. I was the onl...</td>\n",
       "      <td>0</td>\n",
       "      <td>en</td>\n",
       "    </tr>\n",
       "    <tr>\n",
       "      <th>3</th>\n",
       "      <td>I had an oil change at the 15515 N Scottsdale ...</td>\n",
       "      <td>0</td>\n",
       "      <td>en</td>\n",
       "    </tr>\n",
       "    <tr>\n",
       "      <th>4</th>\n",
       "      <td>The absolute WORST apartment complex I have ev...</td>\n",
       "      <td>0</td>\n",
       "      <td>en</td>\n",
       "    </tr>\n",
       "  </tbody>\n",
       "</table>\n",
       "</div>"
      ],
      "text/plain": [
       "                                                text  label lang\n",
       "0  I love Deagan's. I do. I really do. The atmosp...      1   en\n",
       "1  I love the classes at this gym. Zumba and. Rad...      1   en\n",
       "2  The tables and floor were dirty. I was the onl...      0   en\n",
       "3  I had an oil change at the 15515 N Scottsdale ...      0   en\n",
       "4  The absolute WORST apartment complex I have ev...      0   en"
      ]
     },
     "execution_count": 37,
     "metadata": {},
     "output_type": "execute_result"
    }
   ],
   "source": [
    "pd_reviews.head(5)"
   ]
  },
  {
   "cell_type": "code",
   "execution_count": 38,
   "metadata": {},
   "outputs": [
    {
     "data": {
      "text/plain": [
       "(255717, 3)"
      ]
     },
     "execution_count": 38,
     "metadata": {},
     "output_type": "execute_result"
    }
   ],
   "source": [
    "pd_reviews = pd_reviews[pd_reviews['lang']=='en'].reset_index(drop=True)\n",
    "pd_reviews.shape"
   ]
  },
  {
   "cell_type": "code",
   "execution_count": 39,
   "metadata": {},
   "outputs": [],
   "source": [
    "pd_reviews.to_json('/temp/yelp_train_sentiment.json', orient='records', lines=True)"
   ]
  },
  {
   "cell_type": "code",
   "execution_count": null,
   "metadata": {},
   "outputs": [],
   "source": [
    "# !rm /temp/*"
   ]
  },
  {
   "cell_type": "markdown",
   "metadata": {},
   "source": [
    "#### Make available in \"open bucket\""
   ]
  },
  {
   "cell_type": "code",
   "execution_count": 3,
   "metadata": {},
   "outputs": [
    {
     "name": "stdout",
     "output_type": "stream",
     "text": [
      "Copying gs://msca-bdp-data/yelp/Dataset_User_Agreement.pdf [Content-Type=application/pdf]...\n",
      "Copying gs://msca-bdp-data/yelp/Food_Inspections.csv [Content-Type=text/csv]... \n",
      "Copying gs://msca-bdp-data/yelp/covid_19_dataset.tgz [Content-Type=application/x-compressed]...\n",
      "/ [3 files][ 18.8 MiB/ 18.8 MiB]                                                \n",
      "==> NOTE: You are performing a sequence of gsutil operations that may\n",
      "run significantly faster if you instead use gsutil -m cp ... Please\n",
      "see the -m section under \"gsutil help options\" for further information\n",
      "about when gsutil -m can be advantageous.\n",
      "\n",
      "Copying gs://msca-bdp-data/yelp/yelp_academic_dataset_business.json [Content-Type=application/json]...\n",
      "Copying gs://msca-bdp-data/yelp/yelp_academic_dataset_checkin.json [Content-Type=application/json]...\n",
      "Copying gs://msca-bdp-data/yelp/yelp_academic_dataset_review.json [Content-Type=application/json]...\n",
      "Copying gs://msca-bdp-data/yelp/yelp_academic_dataset_tip.json [Content-Type=application/json]...\n",
      "Copying gs://msca-bdp-data/yelp/yelp_academic_dataset_user.json [Content-Type=application/json]...\n",
      "Copying gs://msca-bdp-data/yelp/yelp_dataset.tgz [Content-Type=application/x-compressed]...\n",
      "Copying gs://msca-bdp-data/yelp/yelp_photos.tar [Content-Type=application/x-tar]...\n",
      "Copying gs://msca-bdp-data/yelp/yelp_review.json [Content-Type=application/json]...\n",
      "Copying gs://msca-bdp-data/yelp/yelp_review_stars.json [Content-Type=application/json]...\n",
      "Copying gs://msca-bdp-data/yelp/yelp_train_sentiment.json [Content-Type=application/json]...\n",
      "Copying gs://msca-bdp-data/yelp/yelp_model/logreg.joblib [Content-Type=application/octet-stream]...\n",
      "Copying gs://msca-bdp-data/yelp/yelp_model/logreg_small.joblib [Content-Type=application/octet-stream]...\n",
      "Copying gs://msca-bdp-data/yelp/yelp_model/model.joblib [Content-Type=application/octet-stream]...\n",
      "Copying gs://msca-bdp-data/yelp/yelp_model/nb.joblib [Content-Type=application/octet-stream]...\n",
      "Copying gs://msca-bdp-data/yelp/yelp_model/nb_small.joblib [Content-Type=application/octet-stream]...\n",
      "Copying gs://msca-bdp-data/yelp/yelp_model/svm.joblib [Content-Type=application/octet-stream]...\n",
      "Copying gs://msca-bdp-data/yelp/yelp_model/svm_small.joblib [Content-Type=application/octet-stream]...\n",
      "| [20 files][ 23.5 GiB/ 23.5 GiB]                                               \n",
      "Operation completed over 20 objects/23.5 GiB.                                    \n"
     ]
    }
   ],
   "source": [
    "!gsutil cp -r gs://msca-bdp-data/yelp/* gs://msca-bdp-data-open/yelp/"
   ]
  },
  {
   "cell_type": "code",
   "execution_count": null,
   "metadata": {},
   "outputs": [],
   "source": []
  },
  {
   "cell_type": "code",
   "execution_count": null,
   "metadata": {},
   "outputs": [],
   "source": []
  },
  {
   "cell_type": "code",
   "execution_count": null,
   "metadata": {},
   "outputs": [],
   "source": []
  },
  {
   "cell_type": "code",
   "execution_count": 1,
   "metadata": {},
   "outputs": [
    {
     "data": {
      "text/plain": [
       "'Sat, 28 November 2020 15:28:56'"
      ]
     },
     "execution_count": 1,
     "metadata": {},
     "output_type": "execute_result"
    }
   ],
   "source": [
    "import datetime\n",
    "import pytz\n",
    "\n",
    "datetime.datetime.now(pytz.timezone('US/Central')).strftime(\"%a, %d %B %Y %H:%M:%S\")"
   ]
  }
 ],
 "metadata": {
  "anaconda-cloud": {},
  "kernelspec": {
   "display_name": "Python 3 (ipykernel)",
   "language": "python",
   "name": "python3"
  },
  "language_info": {
   "codemirror_mode": {
    "name": "ipython",
    "version": 3
   },
   "file_extension": ".py",
   "mimetype": "text/x-python",
   "name": "python",
   "nbconvert_exporter": "python",
   "pygments_lexer": "ipython3",
   "version": "3.7.12"
  }
 },
 "nbformat": 4,
 "nbformat_minor": 4
}
