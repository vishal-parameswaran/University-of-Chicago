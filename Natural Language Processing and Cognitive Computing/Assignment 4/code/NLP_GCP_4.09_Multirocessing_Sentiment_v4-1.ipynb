{
 "cells": [
  {
   "cell_type": "markdown",
   "id": "708a034e",
   "metadata": {},
   "source": [
    "## Sentiment analysis: speed and parallelization"
   ]
  },
  {
   "cell_type": "markdown",
   "id": "46126f58",
   "metadata": {},
   "source": [
    "Import Libraries and Json articles"
   ]
  },
  {
   "cell_type": "code",
   "execution_count": 1,
   "id": "113d02ba",
   "metadata": {},
   "outputs": [],
   "source": [
    "import re\n",
    "import numpy as np\n",
    "import pandas as pd\n",
    "from pandarallel import pandarallel\n",
    "\n",
    "from textblob import TextBlob\n",
    "from textblob.sentiments import NaiveBayesAnalyzer\n",
    "\n",
    "import datetime\n",
    "import pytz\n",
    "\n",
    "pd.set_option('display.max_rows', 10)\n",
    "pd.set_option('display.max_colwidth', 200)"
   ]
  },
  {
   "cell_type": "code",
   "execution_count": 2,
   "id": "8fee2988-e605-4774-95b7-50206c1ff803",
   "metadata": {},
   "outputs": [],
   "source": [
    "# !pip install vaderSentiment"
   ]
  },
  {
   "cell_type": "code",
   "execution_count": 3,
   "id": "893ad38a-8298-4f08-9581-89bd8dad951d",
   "metadata": {},
   "outputs": [],
   "source": [
    "from vaderSentiment.vaderSentiment import SentimentIntensityAnalyzer"
   ]
  },
  {
   "cell_type": "code",
   "execution_count": 4,
   "id": "75046aff-e507-4073-a6a4-f792df0897ab",
   "metadata": {},
   "outputs": [
    {
     "name": "stdout",
     "output_type": "stream",
     "text": [
      "Available CPUs: 8\n"
     ]
    }
   ],
   "source": [
    "import multiprocessing\n",
    "\n",
    "num_processors = multiprocessing.cpu_count()\n",
    "print(f'Available CPUs: {num_processors}')"
   ]
  },
  {
   "cell_type": "code",
   "execution_count": 5,
   "id": "2338801f",
   "metadata": {},
   "outputs": [
    {
     "name": "stdout",
     "output_type": "stream",
     "text": [
      "Rows: 99787, Columns: 8\n",
      "CPU times: user 784 ms, sys: 208 ms, total: 992 ms\n",
      "Wall time: 1.71 s\n"
     ]
    }
   ],
   "source": [
    "%%time\n",
    "\n",
    "tweets_df = pd.read_json('https://storage.googleapis.com/msca-bdp-data-open/tweets/tweets_ai_ml.json', orient='records', lines=True)\n",
    "print(f'Rows: {tweets_df.shape[0]}, Columns: {tweets_df.shape[1]}')"
   ]
  },
  {
   "cell_type": "code",
   "execution_count": 6,
   "id": "7b3b1ca6",
   "metadata": {},
   "outputs": [
    {
     "data": {
      "text/html": [
       "<div>\n",
       "<style scoped>\n",
       "    .dataframe tbody tr th:only-of-type {\n",
       "        vertical-align: middle;\n",
       "    }\n",
       "\n",
       "    .dataframe tbody tr th {\n",
       "        vertical-align: top;\n",
       "    }\n",
       "\n",
       "    .dataframe thead th {\n",
       "        text-align: right;\n",
       "    }\n",
       "</style>\n",
       "<table border=\"1\" class=\"dataframe\">\n",
       "  <thead>\n",
       "    <tr style=\"text-align: right;\">\n",
       "      <th></th>\n",
       "      <th>id</th>\n",
       "      <th>lang</th>\n",
       "      <th>created_at</th>\n",
       "      <th>screen_name</th>\n",
       "      <th>name</th>\n",
       "      <th>location</th>\n",
       "      <th>retweet_count</th>\n",
       "      <th>text</th>\n",
       "    </tr>\n",
       "  </thead>\n",
       "  <tbody>\n",
       "    <tr>\n",
       "      <th>0</th>\n",
       "      <td>1450733866327498752</td>\n",
       "      <td>en</td>\n",
       "      <td>2021-10-20 08:01:21</td>\n",
       "      <td>rahul05ranjan</td>\n",
       "      <td>Rahul</td>\n",
       "      <td>Chandigarh, India</td>\n",
       "      <td>14.0</td>\n",
       "      <td>RT @its___Denise: https://t.co/u0ULJ5X61F\\n\\n#WomenWhoCode Lakers #javascript #GirlsWhoCode #Ronaldo Liverpool #PataChanjoKaaChonjo #mydonkey…</td>\n",
       "    </tr>\n",
       "    <tr>\n",
       "      <th>1</th>\n",
       "      <td>1450733877501308933</td>\n",
       "      <td>en</td>\n",
       "      <td>2021-10-20 08:01:24</td>\n",
       "      <td>WomenCodersBot</td>\n",
       "      <td>Women Coders Bot</td>\n",
       "      <td>Hamburg, Germany</td>\n",
       "      <td>14.0</td>\n",
       "      <td>RT @its___Denise: https://t.co/u0ULJ5X61F\\n\\n#WomenWhoCode Lakers #javascript #GirlsWhoCode #Ronaldo Liverpool #PataChanjoKaaChonjo #mydonkey…</td>\n",
       "    </tr>\n",
       "    <tr>\n",
       "      <th>2</th>\n",
       "      <td>1450733902025400331</td>\n",
       "      <td>en</td>\n",
       "      <td>2021-10-20 08:01:30</td>\n",
       "      <td>WomenCodersBot</td>\n",
       "      <td>Women Coders Bot</td>\n",
       "      <td>Hamburg, Germany</td>\n",
       "      <td>14.0</td>\n",
       "      <td>RT @its___Denise: https://t.co/u0ULJ5X61F\\n\\n#WomenWhoCode Lakers #javascript #GirlsWhoCode #Ronaldo Liverpool #PataChanjoKaaChonjo #mydonkey…</td>\n",
       "    </tr>\n",
       "    <tr>\n",
       "      <th>3</th>\n",
       "      <td>1450733918706184192</td>\n",
       "      <td>en</td>\n",
       "      <td>2021-10-20 08:01:34</td>\n",
       "      <td>appthisway</td>\n",
       "      <td>Appthisway®</td>\n",
       "      <td>United Kingdom</td>\n",
       "      <td>NaN</td>\n",
       "      <td>RT @IainLJBrown: UC adopts recommendations for the responsible use of Artificial Intelligence - Preuss School Ucsd\\n\\nRead more here: https:/…</td>\n",
       "    </tr>\n",
       "    <tr>\n",
       "      <th>4</th>\n",
       "      <td>1450733927929454593</td>\n",
       "      <td>en</td>\n",
       "      <td>2021-10-20 08:01:36</td>\n",
       "      <td>aProgrammerBot</td>\n",
       "      <td>Another Programmer Bot</td>\n",
       "      <td>None</td>\n",
       "      <td>14.0</td>\n",
       "      <td>RT @its___Denise: https://t.co/u0ULJ5X61F\\n\\n#WomenWhoCode Lakers #javascript #GirlsWhoCode #Ronaldo Liverpool #PataChanjoKaaChonjo #mydonkey…</td>\n",
       "    </tr>\n",
       "  </tbody>\n",
       "</table>\n",
       "</div>"
      ],
      "text/plain": [
       "                    id lang          created_at     screen_name  \\\n",
       "0  1450733866327498752   en 2021-10-20 08:01:21   rahul05ranjan   \n",
       "1  1450733877501308933   en 2021-10-20 08:01:24  WomenCodersBot   \n",
       "2  1450733902025400331   en 2021-10-20 08:01:30  WomenCodersBot   \n",
       "3  1450733918706184192   en 2021-10-20 08:01:34      appthisway   \n",
       "4  1450733927929454593   en 2021-10-20 08:01:36  aProgrammerBot   \n",
       "\n",
       "                     name           location  retweet_count  \\\n",
       "0                   Rahul  Chandigarh, India           14.0   \n",
       "1        Women Coders Bot   Hamburg, Germany           14.0   \n",
       "2        Women Coders Bot   Hamburg, Germany           14.0   \n",
       "3             Appthisway®     United Kingdom            NaN   \n",
       "4  Another Programmer Bot               None           14.0   \n",
       "\n",
       "                                                                                                                                             text  \n",
       "0  RT @its___Denise: https://t.co/u0ULJ5X61F\\n\\n#WomenWhoCode Lakers #javascript #GirlsWhoCode #Ronaldo Liverpool #PataChanjoKaaChonjo #mydonkey…  \n",
       "1  RT @its___Denise: https://t.co/u0ULJ5X61F\\n\\n#WomenWhoCode Lakers #javascript #GirlsWhoCode #Ronaldo Liverpool #PataChanjoKaaChonjo #mydonkey…  \n",
       "2  RT @its___Denise: https://t.co/u0ULJ5X61F\\n\\n#WomenWhoCode Lakers #javascript #GirlsWhoCode #Ronaldo Liverpool #PataChanjoKaaChonjo #mydonkey…  \n",
       "3  RT @IainLJBrown: UC adopts recommendations for the responsible use of Artificial Intelligence - Preuss School Ucsd\\n\\nRead more here: https:/…  \n",
       "4  RT @its___Denise: https://t.co/u0ULJ5X61F\\n\\n#WomenWhoCode Lakers #javascript #GirlsWhoCode #Ronaldo Liverpool #PataChanjoKaaChonjo #mydonkey…  "
      ]
     },
     "execution_count": 6,
     "metadata": {},
     "output_type": "execute_result"
    }
   ],
   "source": [
    "tweets_df.head(5)"
   ]
  },
  {
   "cell_type": "code",
   "execution_count": 7,
   "id": "3b9ab79d",
   "metadata": {},
   "outputs": [
    {
     "data": {
      "text/plain": [
       "en    99787\n",
       "Name: lang, dtype: int64"
      ]
     },
     "execution_count": 7,
     "metadata": {},
     "output_type": "execute_result"
    }
   ],
   "source": [
    "tweets_df['lang'].value_counts()"
   ]
  },
  {
   "cell_type": "code",
   "execution_count": 8,
   "id": "4186e743-e7d4-4436-a0ee-8e6e1d05e9c0",
   "metadata": {},
   "outputs": [
    {
     "name": "stdout",
     "output_type": "stream",
     "text": [
      "CPU times: user 1.16 s, sys: 3.81 ms, total: 1.16 s\n",
      "Wall time: 1.16 s\n"
     ]
    }
   ],
   "source": [
    "%%time\n",
    "\n",
    "# Remove special characters to avoid problems with analysis\n",
    "tweets_df['text_clean'] = tweets_df['text'].map(lambda x: re.sub('[^a-zA-Z0-9 @ . , : - _]', '', str(x)))\n",
    "\n",
    "# Remove initial \"RT\" from the tweets\n",
    "tweets_df['text_clean'] = tweets_df['text_clean'].apply(lambda x: re.compile('\\#').sub('', re.compile('RT @').sub('@', x, count=1).strip()))"
   ]
  },
  {
   "cell_type": "code",
   "execution_count": 9,
   "id": "6315e946-a89e-46f8-bb28-155ff5411fe2",
   "metadata": {},
   "outputs": [
    {
     "data": {
      "text/html": [
       "<div>\n",
       "<style scoped>\n",
       "    .dataframe tbody tr th:only-of-type {\n",
       "        vertical-align: middle;\n",
       "    }\n",
       "\n",
       "    .dataframe tbody tr th {\n",
       "        vertical-align: top;\n",
       "    }\n",
       "\n",
       "    .dataframe thead th {\n",
       "        text-align: right;\n",
       "    }\n",
       "</style>\n",
       "<table border=\"1\" class=\"dataframe\">\n",
       "  <thead>\n",
       "    <tr style=\"text-align: right;\">\n",
       "      <th></th>\n",
       "      <th>text</th>\n",
       "      <th>text_clean</th>\n",
       "    </tr>\n",
       "  </thead>\n",
       "  <tbody>\n",
       "    <tr>\n",
       "      <th>0</th>\n",
       "      <td>RT @its___Denise: https://t.co/u0ULJ5X61F\\n\\n#WomenWhoCode Lakers #javascript #GirlsWhoCode #Ronaldo Liverpool #PataChanjoKaaChonjo #mydonkey…</td>\n",
       "      <td>@its___Denise: https:t.cou0ULJ5X61FWomenWhoCode Lakers javascript GirlsWhoCode Ronaldo Liverpool PataChanjoKaaChonjo mydonkey</td>\n",
       "    </tr>\n",
       "    <tr>\n",
       "      <th>1</th>\n",
       "      <td>RT @its___Denise: https://t.co/u0ULJ5X61F\\n\\n#WomenWhoCode Lakers #javascript #GirlsWhoCode #Ronaldo Liverpool #PataChanjoKaaChonjo #mydonkey…</td>\n",
       "      <td>@its___Denise: https:t.cou0ULJ5X61FWomenWhoCode Lakers javascript GirlsWhoCode Ronaldo Liverpool PataChanjoKaaChonjo mydonkey</td>\n",
       "    </tr>\n",
       "    <tr>\n",
       "      <th>2</th>\n",
       "      <td>RT @its___Denise: https://t.co/u0ULJ5X61F\\n\\n#WomenWhoCode Lakers #javascript #GirlsWhoCode #Ronaldo Liverpool #PataChanjoKaaChonjo #mydonkey…</td>\n",
       "      <td>@its___Denise: https:t.cou0ULJ5X61FWomenWhoCode Lakers javascript GirlsWhoCode Ronaldo Liverpool PataChanjoKaaChonjo mydonkey</td>\n",
       "    </tr>\n",
       "    <tr>\n",
       "      <th>3</th>\n",
       "      <td>RT @IainLJBrown: UC adopts recommendations for the responsible use of Artificial Intelligence - Preuss School Ucsd\\n\\nRead more here: https:/…</td>\n",
       "      <td>@IainLJBrown: UC adopts recommendations for the responsible use of Artificial Intelligence  Preuss School UcsdRead more here: https:</td>\n",
       "    </tr>\n",
       "    <tr>\n",
       "      <th>4</th>\n",
       "      <td>RT @its___Denise: https://t.co/u0ULJ5X61F\\n\\n#WomenWhoCode Lakers #javascript #GirlsWhoCode #Ronaldo Liverpool #PataChanjoKaaChonjo #mydonkey…</td>\n",
       "      <td>@its___Denise: https:t.cou0ULJ5X61FWomenWhoCode Lakers javascript GirlsWhoCode Ronaldo Liverpool PataChanjoKaaChonjo mydonkey</td>\n",
       "    </tr>\n",
       "  </tbody>\n",
       "</table>\n",
       "</div>"
      ],
      "text/plain": [
       "                                                                                                                                             text  \\\n",
       "0  RT @its___Denise: https://t.co/u0ULJ5X61F\\n\\n#WomenWhoCode Lakers #javascript #GirlsWhoCode #Ronaldo Liverpool #PataChanjoKaaChonjo #mydonkey…   \n",
       "1  RT @its___Denise: https://t.co/u0ULJ5X61F\\n\\n#WomenWhoCode Lakers #javascript #GirlsWhoCode #Ronaldo Liverpool #PataChanjoKaaChonjo #mydonkey…   \n",
       "2  RT @its___Denise: https://t.co/u0ULJ5X61F\\n\\n#WomenWhoCode Lakers #javascript #GirlsWhoCode #Ronaldo Liverpool #PataChanjoKaaChonjo #mydonkey…   \n",
       "3  RT @IainLJBrown: UC adopts recommendations for the responsible use of Artificial Intelligence - Preuss School Ucsd\\n\\nRead more here: https:/…   \n",
       "4  RT @its___Denise: https://t.co/u0ULJ5X61F\\n\\n#WomenWhoCode Lakers #javascript #GirlsWhoCode #Ronaldo Liverpool #PataChanjoKaaChonjo #mydonkey…   \n",
       "\n",
       "                                                                                                                             text_clean  \n",
       "0         @its___Denise: https:t.cou0ULJ5X61FWomenWhoCode Lakers javascript GirlsWhoCode Ronaldo Liverpool PataChanjoKaaChonjo mydonkey  \n",
       "1         @its___Denise: https:t.cou0ULJ5X61FWomenWhoCode Lakers javascript GirlsWhoCode Ronaldo Liverpool PataChanjoKaaChonjo mydonkey  \n",
       "2         @its___Denise: https:t.cou0ULJ5X61FWomenWhoCode Lakers javascript GirlsWhoCode Ronaldo Liverpool PataChanjoKaaChonjo mydonkey  \n",
       "3  @IainLJBrown: UC adopts recommendations for the responsible use of Artificial Intelligence  Preuss School UcsdRead more here: https:  \n",
       "4         @its___Denise: https:t.cou0ULJ5X61FWomenWhoCode Lakers javascript GirlsWhoCode Ronaldo Liverpool PataChanjoKaaChonjo mydonkey  "
      ]
     },
     "execution_count": 9,
     "metadata": {},
     "output_type": "execute_result"
    }
   ],
   "source": [
    "tweets_df[['text', 'text_clean']].head(5)"
   ]
  },
  {
   "cell_type": "markdown",
   "id": "11f0117e-f515-4544-938b-31f7b64cf6d0",
   "metadata": {},
   "source": [
    "### Vader"
   ]
  },
  {
   "cell_type": "markdown",
   "id": "15d29ef2-0915-4d25-a048-b29864763767",
   "metadata": {
    "tags": []
   },
   "source": [
    "#### Timing Vader with native Python Pandas single-threading"
   ]
  },
  {
   "cell_type": "code",
   "execution_count": 10,
   "id": "c28e7cc3-efe3-4eb5-be13-329d886b2c44",
   "metadata": {},
   "outputs": [
    {
     "name": "stdout",
     "output_type": "stream",
     "text": [
      "CPU times: user 12.3 s, sys: 28.7 ms, total: 12.4 s\n",
      "Wall time: 12.4 s\n"
     ]
    },
    {
     "data": {
      "text/html": [
       "<div>\n",
       "<style scoped>\n",
       "    .dataframe tbody tr th:only-of-type {\n",
       "        vertical-align: middle;\n",
       "    }\n",
       "\n",
       "    .dataframe tbody tr th {\n",
       "        vertical-align: top;\n",
       "    }\n",
       "\n",
       "    .dataframe thead th {\n",
       "        text-align: right;\n",
       "    }\n",
       "</style>\n",
       "<table border=\"1\" class=\"dataframe\">\n",
       "  <thead>\n",
       "    <tr style=\"text-align: right;\">\n",
       "      <th></th>\n",
       "      <th>text_clean</th>\n",
       "      <th>sentiment</th>\n",
       "      <th>compound</th>\n",
       "    </tr>\n",
       "  </thead>\n",
       "  <tbody>\n",
       "    <tr>\n",
       "      <th>0</th>\n",
       "      <td>@its___Denise: https:t.cou0ULJ5X61FWomenWhoCode Lakers javascript GirlsWhoCode Ronaldo Liverpool PataChanjoKaaChonjo mydonkey</td>\n",
       "      <td>Neutral</td>\n",
       "      <td>0.0000</td>\n",
       "    </tr>\n",
       "    <tr>\n",
       "      <th>1</th>\n",
       "      <td>@its___Denise: https:t.cou0ULJ5X61FWomenWhoCode Lakers javascript GirlsWhoCode Ronaldo Liverpool PataChanjoKaaChonjo mydonkey</td>\n",
       "      <td>Neutral</td>\n",
       "      <td>0.0000</td>\n",
       "    </tr>\n",
       "    <tr>\n",
       "      <th>2</th>\n",
       "      <td>@its___Denise: https:t.cou0ULJ5X61FWomenWhoCode Lakers javascript GirlsWhoCode Ronaldo Liverpool PataChanjoKaaChonjo mydonkey</td>\n",
       "      <td>Neutral</td>\n",
       "      <td>0.0000</td>\n",
       "    </tr>\n",
       "    <tr>\n",
       "      <th>3</th>\n",
       "      <td>@IainLJBrown: UC adopts recommendations for the responsible use of Artificial Intelligence  Preuss School UcsdRead more here: https:</td>\n",
       "      <td>Positive</td>\n",
       "      <td>0.7269</td>\n",
       "    </tr>\n",
       "    <tr>\n",
       "      <th>4</th>\n",
       "      <td>@its___Denise: https:t.cou0ULJ5X61FWomenWhoCode Lakers javascript GirlsWhoCode Ronaldo Liverpool PataChanjoKaaChonjo mydonkey</td>\n",
       "      <td>Neutral</td>\n",
       "      <td>0.0000</td>\n",
       "    </tr>\n",
       "  </tbody>\n",
       "</table>\n",
       "</div>"
      ],
      "text/plain": [
       "                                                                                                                             text_clean  \\\n",
       "0         @its___Denise: https:t.cou0ULJ5X61FWomenWhoCode Lakers javascript GirlsWhoCode Ronaldo Liverpool PataChanjoKaaChonjo mydonkey   \n",
       "1         @its___Denise: https:t.cou0ULJ5X61FWomenWhoCode Lakers javascript GirlsWhoCode Ronaldo Liverpool PataChanjoKaaChonjo mydonkey   \n",
       "2         @its___Denise: https:t.cou0ULJ5X61FWomenWhoCode Lakers javascript GirlsWhoCode Ronaldo Liverpool PataChanjoKaaChonjo mydonkey   \n",
       "3  @IainLJBrown: UC adopts recommendations for the responsible use of Artificial Intelligence  Preuss School UcsdRead more here: https:   \n",
       "4         @its___Denise: https:t.cou0ULJ5X61FWomenWhoCode Lakers javascript GirlsWhoCode Ronaldo Liverpool PataChanjoKaaChonjo mydonkey   \n",
       "\n",
       "  sentiment  compound  \n",
       "0   Neutral    0.0000  \n",
       "1   Neutral    0.0000  \n",
       "2   Neutral    0.0000  \n",
       "3  Positive    0.7269  \n",
       "4   Neutral    0.0000  "
      ]
     },
     "execution_count": 10,
     "metadata": {},
     "output_type": "execute_result"
    }
   ],
   "source": [
    "%%time\n",
    "\n",
    "tweets = tweets_df.copy()\n",
    "\n",
    "\n",
    "analyzer = SentimentIntensityAnalyzer()\n",
    "\n",
    "sentiment_vader = pd.DataFrame()\n",
    "sentiment_vader['vader'] = tweets['text_clean'].apply(analyzer.polarity_scores)\n",
    "sentiment_vader = pd.DataFrame(sentiment_vader['vader'].tolist())\n",
    "\n",
    "# Create a positive / negative sentiment variable\n",
    "sentiment_vader['sentiment'] = np.where(sentiment_vader['compound'].astype(float) > 0, 'Positive', 'Negative')\n",
    "sentiment_vader['sentiment'] = np.where(sentiment_vader['compound'].astype(float) == 0, 'Neutral', sentiment_vader['sentiment'])\n",
    "\n",
    "# Merge Vader values with Sentiments\n",
    "tweets = pd.merge(tweets, sentiment_vader, left_index=True, right_index=True)\n",
    "tweets[['text_clean', 'sentiment', 'compound']].head(5)"
   ]
  },
  {
   "cell_type": "markdown",
   "id": "f22b09d0-2353-4960-82a8-5575402b5dfb",
   "metadata": {
    "tags": []
   },
   "source": [
    "#### Timing Vader with parallelization"
   ]
  },
  {
   "cell_type": "code",
   "execution_count": 11,
   "id": "6dc4c5d4-c9bf-4ffe-99e2-99b0c7c88e99",
   "metadata": {},
   "outputs": [
    {
     "name": "stdout",
     "output_type": "stream",
     "text": [
      "INFO: Pandarallel will run on 7 workers.\n",
      "INFO: Pandarallel will use standard multiprocessing data transfer (pipe) to transfer data between the main process and workers.\n"
     ]
    }
   ],
   "source": [
    "pandarallel.initialize(nb_workers=num_processors-1, use_memory_fs=False)"
   ]
  },
  {
   "cell_type": "code",
   "execution_count": 12,
   "id": "19381807-d492-4f5c-9d16-9f07e98f74e8",
   "metadata": {},
   "outputs": [
    {
     "name": "stdout",
     "output_type": "stream",
     "text": [
      "CPU times: user 582 ms, sys: 193 ms, total: 775 ms\n",
      "Wall time: 3.17 s\n"
     ]
    },
    {
     "data": {
      "text/html": [
       "<div>\n",
       "<style scoped>\n",
       "    .dataframe tbody tr th:only-of-type {\n",
       "        vertical-align: middle;\n",
       "    }\n",
       "\n",
       "    .dataframe tbody tr th {\n",
       "        vertical-align: top;\n",
       "    }\n",
       "\n",
       "    .dataframe thead th {\n",
       "        text-align: right;\n",
       "    }\n",
       "</style>\n",
       "<table border=\"1\" class=\"dataframe\">\n",
       "  <thead>\n",
       "    <tr style=\"text-align: right;\">\n",
       "      <th></th>\n",
       "      <th>text_clean</th>\n",
       "      <th>sentiment</th>\n",
       "      <th>compound</th>\n",
       "    </tr>\n",
       "  </thead>\n",
       "  <tbody>\n",
       "    <tr>\n",
       "      <th>0</th>\n",
       "      <td>@its___Denise: https:t.cou0ULJ5X61FWomenWhoCode Lakers javascript GirlsWhoCode Ronaldo Liverpool PataChanjoKaaChonjo mydonkey</td>\n",
       "      <td>Neutral</td>\n",
       "      <td>0.0000</td>\n",
       "    </tr>\n",
       "    <tr>\n",
       "      <th>1</th>\n",
       "      <td>@its___Denise: https:t.cou0ULJ5X61FWomenWhoCode Lakers javascript GirlsWhoCode Ronaldo Liverpool PataChanjoKaaChonjo mydonkey</td>\n",
       "      <td>Neutral</td>\n",
       "      <td>0.0000</td>\n",
       "    </tr>\n",
       "    <tr>\n",
       "      <th>2</th>\n",
       "      <td>@its___Denise: https:t.cou0ULJ5X61FWomenWhoCode Lakers javascript GirlsWhoCode Ronaldo Liverpool PataChanjoKaaChonjo mydonkey</td>\n",
       "      <td>Neutral</td>\n",
       "      <td>0.0000</td>\n",
       "    </tr>\n",
       "    <tr>\n",
       "      <th>3</th>\n",
       "      <td>@IainLJBrown: UC adopts recommendations for the responsible use of Artificial Intelligence  Preuss School UcsdRead more here: https:</td>\n",
       "      <td>Positive</td>\n",
       "      <td>0.7269</td>\n",
       "    </tr>\n",
       "    <tr>\n",
       "      <th>4</th>\n",
       "      <td>@its___Denise: https:t.cou0ULJ5X61FWomenWhoCode Lakers javascript GirlsWhoCode Ronaldo Liverpool PataChanjoKaaChonjo mydonkey</td>\n",
       "      <td>Neutral</td>\n",
       "      <td>0.0000</td>\n",
       "    </tr>\n",
       "  </tbody>\n",
       "</table>\n",
       "</div>"
      ],
      "text/plain": [
       "                                                                                                                             text_clean  \\\n",
       "0         @its___Denise: https:t.cou0ULJ5X61FWomenWhoCode Lakers javascript GirlsWhoCode Ronaldo Liverpool PataChanjoKaaChonjo mydonkey   \n",
       "1         @its___Denise: https:t.cou0ULJ5X61FWomenWhoCode Lakers javascript GirlsWhoCode Ronaldo Liverpool PataChanjoKaaChonjo mydonkey   \n",
       "2         @its___Denise: https:t.cou0ULJ5X61FWomenWhoCode Lakers javascript GirlsWhoCode Ronaldo Liverpool PataChanjoKaaChonjo mydonkey   \n",
       "3  @IainLJBrown: UC adopts recommendations for the responsible use of Artificial Intelligence  Preuss School UcsdRead more here: https:   \n",
       "4         @its___Denise: https:t.cou0ULJ5X61FWomenWhoCode Lakers javascript GirlsWhoCode Ronaldo Liverpool PataChanjoKaaChonjo mydonkey   \n",
       "\n",
       "  sentiment  compound  \n",
       "0   Neutral    0.0000  \n",
       "1   Neutral    0.0000  \n",
       "2   Neutral    0.0000  \n",
       "3  Positive    0.7269  \n",
       "4   Neutral    0.0000  "
      ]
     },
     "execution_count": 12,
     "metadata": {},
     "output_type": "execute_result"
    }
   ],
   "source": [
    "%%time\n",
    "\n",
    "tweets = tweets_df.copy()\n",
    "\n",
    "\n",
    "analyzer = SentimentIntensityAnalyzer()\n",
    "\n",
    "sentiment_vader = pd.DataFrame()\n",
    "sentiment_vader['vader'] = tweets['text_clean'].parallel_apply(analyzer.polarity_scores)\n",
    "sentiment_vader = pd.DataFrame(sentiment_vader['vader'].tolist())\n",
    "\n",
    "# Create a positive / negative sentiment variable\n",
    "sentiment_vader['sentiment'] = np.where(sentiment_vader['compound'].astype(float) > 0, 'Positive', 'Negative')\n",
    "sentiment_vader['sentiment'] = np.where(sentiment_vader['compound'].astype(float) == 0, 'Neutral', sentiment_vader['sentiment'])\n",
    "\n",
    "# Merge Vader values with Sentiments\n",
    "tweets = pd.merge(tweets, sentiment_vader, left_index=True, right_index=True)\n",
    "tweets[['text_clean', 'sentiment', 'compound']].head(5)"
   ]
  },
  {
   "cell_type": "code",
   "execution_count": 13,
   "id": "3c37eb7d-6bff-49fb-ae10-9e700ab42e7a",
   "metadata": {},
   "outputs": [
    {
     "data": {
      "text/plain": [
       "Neutral     46524\n",
       "Positive    44009\n",
       "Negative     9254\n",
       "Name: sentiment, dtype: int64"
      ]
     },
     "execution_count": 13,
     "metadata": {},
     "output_type": "execute_result"
    }
   ],
   "source": [
    "tweets['sentiment'].value_counts()"
   ]
  },
  {
   "cell_type": "markdown",
   "id": "0075736f-1762-4cd9-876d-726e81098c05",
   "metadata": {},
   "source": [
    "### TextBlob PatternAnalyzer"
   ]
  },
  {
   "cell_type": "markdown",
   "id": "fdf6d95c-8a7c-422e-a7cd-e0f7cd58cec9",
   "metadata": {
    "tags": []
   },
   "source": [
    "#### Timing TextBlob PatternAnalyzer with native Python Pandas single-threading"
   ]
  },
  {
   "cell_type": "code",
   "execution_count": 14,
   "id": "b4716e51-82df-4d40-bde7-c67d60decff1",
   "metadata": {},
   "outputs": [
    {
     "name": "stdout",
     "output_type": "stream",
     "text": [
      "CPU times: user 1min 1s, sys: 79.3 ms, total: 1min 1s\n",
      "Wall time: 1min 1s\n"
     ]
    },
    {
     "data": {
      "text/html": [
       "<div>\n",
       "<style scoped>\n",
       "    .dataframe tbody tr th:only-of-type {\n",
       "        vertical-align: middle;\n",
       "    }\n",
       "\n",
       "    .dataframe tbody tr th {\n",
       "        vertical-align: top;\n",
       "    }\n",
       "\n",
       "    .dataframe thead th {\n",
       "        text-align: right;\n",
       "    }\n",
       "</style>\n",
       "<table border=\"1\" class=\"dataframe\">\n",
       "  <thead>\n",
       "    <tr style=\"text-align: right;\">\n",
       "      <th></th>\n",
       "      <th>text_clean</th>\n",
       "      <th>sentiment</th>\n",
       "      <th>polarity</th>\n",
       "      <th>subjectivity</th>\n",
       "    </tr>\n",
       "  </thead>\n",
       "  <tbody>\n",
       "    <tr>\n",
       "      <th>0</th>\n",
       "      <td>@its___Denise: https:t.cou0ULJ5X61FWomenWhoCode Lakers javascript GirlsWhoCode Ronaldo Liverpool PataChanjoKaaChonjo mydonkey</td>\n",
       "      <td>Neutral</td>\n",
       "      <td>0.000000</td>\n",
       "      <td>0.000000</td>\n",
       "    </tr>\n",
       "    <tr>\n",
       "      <th>1</th>\n",
       "      <td>@its___Denise: https:t.cou0ULJ5X61FWomenWhoCode Lakers javascript GirlsWhoCode Ronaldo Liverpool PataChanjoKaaChonjo mydonkey</td>\n",
       "      <td>Neutral</td>\n",
       "      <td>0.000000</td>\n",
       "      <td>0.000000</td>\n",
       "    </tr>\n",
       "    <tr>\n",
       "      <th>2</th>\n",
       "      <td>@its___Denise: https:t.cou0ULJ5X61FWomenWhoCode Lakers javascript GirlsWhoCode Ronaldo Liverpool PataChanjoKaaChonjo mydonkey</td>\n",
       "      <td>Neutral</td>\n",
       "      <td>0.000000</td>\n",
       "      <td>0.000000</td>\n",
       "    </tr>\n",
       "    <tr>\n",
       "      <th>3</th>\n",
       "      <td>@IainLJBrown: UC adopts recommendations for the responsible use of Artificial Intelligence  Preuss School UcsdRead more here: https:</td>\n",
       "      <td>Positive</td>\n",
       "      <td>0.033333</td>\n",
       "      <td>0.683333</td>\n",
       "    </tr>\n",
       "    <tr>\n",
       "      <th>4</th>\n",
       "      <td>@its___Denise: https:t.cou0ULJ5X61FWomenWhoCode Lakers javascript GirlsWhoCode Ronaldo Liverpool PataChanjoKaaChonjo mydonkey</td>\n",
       "      <td>Neutral</td>\n",
       "      <td>0.000000</td>\n",
       "      <td>0.000000</td>\n",
       "    </tr>\n",
       "  </tbody>\n",
       "</table>\n",
       "</div>"
      ],
      "text/plain": [
       "                                                                                                                             text_clean  \\\n",
       "0         @its___Denise: https:t.cou0ULJ5X61FWomenWhoCode Lakers javascript GirlsWhoCode Ronaldo Liverpool PataChanjoKaaChonjo mydonkey   \n",
       "1         @its___Denise: https:t.cou0ULJ5X61FWomenWhoCode Lakers javascript GirlsWhoCode Ronaldo Liverpool PataChanjoKaaChonjo mydonkey   \n",
       "2         @its___Denise: https:t.cou0ULJ5X61FWomenWhoCode Lakers javascript GirlsWhoCode Ronaldo Liverpool PataChanjoKaaChonjo mydonkey   \n",
       "3  @IainLJBrown: UC adopts recommendations for the responsible use of Artificial Intelligence  Preuss School UcsdRead more here: https:   \n",
       "4         @its___Denise: https:t.cou0ULJ5X61FWomenWhoCode Lakers javascript GirlsWhoCode Ronaldo Liverpool PataChanjoKaaChonjo mydonkey   \n",
       "\n",
       "  sentiment  polarity  subjectivity  \n",
       "0   Neutral  0.000000      0.000000  \n",
       "1   Neutral  0.000000      0.000000  \n",
       "2   Neutral  0.000000      0.000000  \n",
       "3  Positive  0.033333      0.683333  \n",
       "4   Neutral  0.000000      0.000000  "
      ]
     },
     "execution_count": 14,
     "metadata": {},
     "output_type": "execute_result"
    }
   ],
   "source": [
    "%%time\n",
    "\n",
    "tweets = tweets_df.copy()\n",
    "\n",
    "tweets['polarity'] = tweets.apply(lambda x: TextBlob(x['text_clean']).sentiment.polarity, axis=1)\n",
    "tweets['subjectivity'] = tweets.apply(lambda x: TextBlob(x['text_clean']).sentiment.subjectivity, axis=1)\n",
    "\n",
    "# Create a positive / negative sentiment variable\n",
    "tweets['sentiment'] = np.where(tweets['polarity'].astype(float) > 0, 'Positive', 'Negative')\n",
    "tweets['sentiment'] = np.where(tweets['polarity'].astype(float) == 0, 'Neutral', tweets['sentiment'])\n",
    "\n",
    "tweets[['text_clean', 'sentiment', 'polarity', 'subjectivity']].head(5)"
   ]
  },
  {
   "cell_type": "markdown",
   "id": "0466c657-07c5-41b8-b9ec-824fa3302b4c",
   "metadata": {
    "tags": []
   },
   "source": [
    "#### Timing TextBlob PatternAnalyzer with parallelization"
   ]
  },
  {
   "cell_type": "code",
   "execution_count": 15,
   "id": "c9b5edf7-3839-428c-bb72-8de2f507a52b",
   "metadata": {},
   "outputs": [
    {
     "name": "stdout",
     "output_type": "stream",
     "text": [
      "INFO: Pandarallel will run on 7 workers.\n",
      "INFO: Pandarallel will use standard multiprocessing data transfer (pipe) to transfer data between the main process and workers.\n"
     ]
    }
   ],
   "source": [
    "pandarallel.initialize(nb_workers=num_processors-1, use_memory_fs=False)"
   ]
  },
  {
   "cell_type": "code",
   "execution_count": 16,
   "id": "bf8a2c96-4fef-4b71-a463-681b8f0fff3c",
   "metadata": {},
   "outputs": [
    {
     "name": "stdout",
     "output_type": "stream",
     "text": [
      "CPU times: user 562 ms, sys: 540 ms, total: 1.1 s\n",
      "Wall time: 13.3 s\n"
     ]
    },
    {
     "data": {
      "text/html": [
       "<div>\n",
       "<style scoped>\n",
       "    .dataframe tbody tr th:only-of-type {\n",
       "        vertical-align: middle;\n",
       "    }\n",
       "\n",
       "    .dataframe tbody tr th {\n",
       "        vertical-align: top;\n",
       "    }\n",
       "\n",
       "    .dataframe thead th {\n",
       "        text-align: right;\n",
       "    }\n",
       "</style>\n",
       "<table border=\"1\" class=\"dataframe\">\n",
       "  <thead>\n",
       "    <tr style=\"text-align: right;\">\n",
       "      <th></th>\n",
       "      <th>text_clean</th>\n",
       "      <th>sentiment</th>\n",
       "      <th>polarity</th>\n",
       "      <th>subjectivity</th>\n",
       "    </tr>\n",
       "  </thead>\n",
       "  <tbody>\n",
       "    <tr>\n",
       "      <th>0</th>\n",
       "      <td>@its___Denise: https:t.cou0ULJ5X61FWomenWhoCode Lakers javascript GirlsWhoCode Ronaldo Liverpool PataChanjoKaaChonjo mydonkey</td>\n",
       "      <td>Neutral</td>\n",
       "      <td>0.000000</td>\n",
       "      <td>0.000000</td>\n",
       "    </tr>\n",
       "    <tr>\n",
       "      <th>1</th>\n",
       "      <td>@its___Denise: https:t.cou0ULJ5X61FWomenWhoCode Lakers javascript GirlsWhoCode Ronaldo Liverpool PataChanjoKaaChonjo mydonkey</td>\n",
       "      <td>Neutral</td>\n",
       "      <td>0.000000</td>\n",
       "      <td>0.000000</td>\n",
       "    </tr>\n",
       "    <tr>\n",
       "      <th>2</th>\n",
       "      <td>@its___Denise: https:t.cou0ULJ5X61FWomenWhoCode Lakers javascript GirlsWhoCode Ronaldo Liverpool PataChanjoKaaChonjo mydonkey</td>\n",
       "      <td>Neutral</td>\n",
       "      <td>0.000000</td>\n",
       "      <td>0.000000</td>\n",
       "    </tr>\n",
       "    <tr>\n",
       "      <th>3</th>\n",
       "      <td>@IainLJBrown: UC adopts recommendations for the responsible use of Artificial Intelligence  Preuss School UcsdRead more here: https:</td>\n",
       "      <td>Positive</td>\n",
       "      <td>0.033333</td>\n",
       "      <td>0.683333</td>\n",
       "    </tr>\n",
       "    <tr>\n",
       "      <th>4</th>\n",
       "      <td>@its___Denise: https:t.cou0ULJ5X61FWomenWhoCode Lakers javascript GirlsWhoCode Ronaldo Liverpool PataChanjoKaaChonjo mydonkey</td>\n",
       "      <td>Neutral</td>\n",
       "      <td>0.000000</td>\n",
       "      <td>0.000000</td>\n",
       "    </tr>\n",
       "  </tbody>\n",
       "</table>\n",
       "</div>"
      ],
      "text/plain": [
       "                                                                                                                             text_clean  \\\n",
       "0         @its___Denise: https:t.cou0ULJ5X61FWomenWhoCode Lakers javascript GirlsWhoCode Ronaldo Liverpool PataChanjoKaaChonjo mydonkey   \n",
       "1         @its___Denise: https:t.cou0ULJ5X61FWomenWhoCode Lakers javascript GirlsWhoCode Ronaldo Liverpool PataChanjoKaaChonjo mydonkey   \n",
       "2         @its___Denise: https:t.cou0ULJ5X61FWomenWhoCode Lakers javascript GirlsWhoCode Ronaldo Liverpool PataChanjoKaaChonjo mydonkey   \n",
       "3  @IainLJBrown: UC adopts recommendations for the responsible use of Artificial Intelligence  Preuss School UcsdRead more here: https:   \n",
       "4         @its___Denise: https:t.cou0ULJ5X61FWomenWhoCode Lakers javascript GirlsWhoCode Ronaldo Liverpool PataChanjoKaaChonjo mydonkey   \n",
       "\n",
       "  sentiment  polarity  subjectivity  \n",
       "0   Neutral  0.000000      0.000000  \n",
       "1   Neutral  0.000000      0.000000  \n",
       "2   Neutral  0.000000      0.000000  \n",
       "3  Positive  0.033333      0.683333  \n",
       "4   Neutral  0.000000      0.000000  "
      ]
     },
     "execution_count": 16,
     "metadata": {},
     "output_type": "execute_result"
    }
   ],
   "source": [
    "%%time\n",
    "\n",
    "tweets = tweets_df.copy()\n",
    "\n",
    "tweets['polarity'] = tweets.parallel_apply(lambda x: TextBlob(x['text_clean']).sentiment.polarity, axis=1)\n",
    "tweets['subjectivity'] = tweets.parallel_apply(lambda x: TextBlob(x['text_clean']).sentiment.subjectivity, axis=1)\n",
    "\n",
    "# Create a positive / negative sentiment variable\n",
    "tweets['sentiment'] = np.where(tweets['polarity'].astype(float) > 0, 'Positive', 'Negative')\n",
    "tweets['sentiment'] = np.where(tweets['polarity'].astype(float) == 0, 'Neutral', tweets['sentiment'])\n",
    "\n",
    "tweets[['text_clean', 'sentiment', 'polarity', 'subjectivity']].head(5)"
   ]
  },
  {
   "cell_type": "code",
   "execution_count": 17,
   "id": "39996707-99b8-41ce-afbf-a62110dbfb64",
   "metadata": {},
   "outputs": [
    {
     "data": {
      "text/plain": [
       "Neutral     53915\n",
       "Positive    36746\n",
       "Negative     9126\n",
       "Name: sentiment, dtype: int64"
      ]
     },
     "execution_count": 17,
     "metadata": {},
     "output_type": "execute_result"
    }
   ],
   "source": [
    "tweets['sentiment'].value_counts()"
   ]
  },
  {
   "cell_type": "markdown",
   "id": "6c22eb8c-6bda-4640-9ada-a97e2b0eb3d2",
   "metadata": {},
   "source": [
    "### NaiveBayesAnalyzer"
   ]
  },
  {
   "cell_type": "markdown",
   "id": "afbabe16-5690-472a-a691-f3029a76a9b0",
   "metadata": {
    "tags": []
   },
   "source": [
    "#### Timing TextBlob NaiveBayesAnalyzer with native Python Pandas single-threading"
   ]
  },
  {
   "cell_type": "code",
   "execution_count": 18,
   "id": "c154b835-5831-4d60-9def-5ee84b31fedd",
   "metadata": {
    "tags": []
   },
   "outputs": [
    {
     "name": "stdout",
     "output_type": "stream",
     "text": [
      "CPU times: user 24min 36s, sys: 1min, total: 25min 37s\n",
      "Wall time: 25min 37s\n"
     ]
    },
    {
     "data": {
      "text/html": [
       "<div>\n",
       "<style scoped>\n",
       "    .dataframe tbody tr th:only-of-type {\n",
       "        vertical-align: middle;\n",
       "    }\n",
       "\n",
       "    .dataframe tbody tr th {\n",
       "        vertical-align: top;\n",
       "    }\n",
       "\n",
       "    .dataframe thead th {\n",
       "        text-align: right;\n",
       "    }\n",
       "</style>\n",
       "<table border=\"1\" class=\"dataframe\">\n",
       "  <thead>\n",
       "    <tr style=\"text-align: right;\">\n",
       "      <th></th>\n",
       "      <th>text_clean</th>\n",
       "      <th>sentiment_class</th>\n",
       "      <th>sentiment_prob_pos</th>\n",
       "      <th>sentiment_prob_neg</th>\n",
       "    </tr>\n",
       "  </thead>\n",
       "  <tbody>\n",
       "    <tr>\n",
       "      <th>25006</th>\n",
       "      <td>@hsianghui: 5 python Productivity Tips With Pydash coding https:t.cozbMOvJ7709</td>\n",
       "      <td>pos</td>\n",
       "      <td>0.508044</td>\n",
       "      <td>0.491956</td>\n",
       "    </tr>\n",
       "    <tr>\n",
       "      <th>7603</th>\n",
       "      <td>@essay_help2: Legit, reliable, and quality work guaranteed inFinancepythonPaper pay Case study. pythonhomeworkOnlineclass</td>\n",
       "      <td>pos</td>\n",
       "      <td>0.805737</td>\n",
       "      <td>0.194263</td>\n",
       "    </tr>\n",
       "    <tr>\n",
       "      <th>23988</th>\n",
       "      <td>@Vecto_Mobile: Scale and Success with IoT Via @Vecto_Mobile @GersonRolimAI ML DigitalTransformation BigData DataScience Pytho</td>\n",
       "      <td>pos</td>\n",
       "      <td>0.731928</td>\n",
       "      <td>0.268072</td>\n",
       "    </tr>\n",
       "    <tr>\n",
       "      <th>77949</th>\n",
       "      <td>Credit Card Fraud Detection ArtificialIntelligence learning machinelearning  https:t.coXN0e4HzNS0</td>\n",
       "      <td>pos</td>\n",
       "      <td>0.784486</td>\n",
       "      <td>0.215514</td>\n",
       "    </tr>\n",
       "    <tr>\n",
       "      <th>75626</th>\n",
       "      <td>What is machine learning https:t.coVv1838xnEj  MachineLearning</td>\n",
       "      <td>pos</td>\n",
       "      <td>0.591783</td>\n",
       "      <td>0.408217</td>\n",
       "    </tr>\n",
       "  </tbody>\n",
       "</table>\n",
       "</div>"
      ],
      "text/plain": [
       "                                                                                                                          text_clean  \\\n",
       "25006                                                 @hsianghui: 5 python Productivity Tips With Pydash coding https:t.cozbMOvJ7709   \n",
       "7603       @essay_help2: Legit, reliable, and quality work guaranteed inFinancepythonPaper pay Case study. pythonhomeworkOnlineclass   \n",
       "23988  @Vecto_Mobile: Scale and Success with IoT Via @Vecto_Mobile @GersonRolimAI ML DigitalTransformation BigData DataScience Pytho   \n",
       "77949                              Credit Card Fraud Detection ArtificialIntelligence learning machinelearning  https:t.coXN0e4HzNS0   \n",
       "75626                                                                 What is machine learning https:t.coVv1838xnEj  MachineLearning   \n",
       "\n",
       "      sentiment_class  sentiment_prob_pos  sentiment_prob_neg  \n",
       "25006             pos            0.508044            0.491956  \n",
       "7603              pos            0.805737            0.194263  \n",
       "23988             pos            0.731928            0.268072  \n",
       "77949             pos            0.784486            0.215514  \n",
       "75626             pos            0.591783            0.408217  "
      ]
     },
     "execution_count": 18,
     "metadata": {},
     "output_type": "execute_result"
    }
   ],
   "source": [
    "%%time\n",
    "\n",
    "# NaiveBayesAnalyzer is SLOW, taking a small sample of Tweets\n",
    "tweets = tweets_df.copy()\n",
    "tweets = tweets.sample(n=100, random_state=12345)\n",
    "\n",
    "tweets['sentiment_class'] = tweets.apply(lambda x: TextBlob(x['text_clean'], analyzer=NaiveBayesAnalyzer()).sentiment.classification, axis=1)\n",
    "tweets['sentiment_prob_pos'] = tweets.apply(lambda x: TextBlob(x['text_clean'], analyzer=NaiveBayesAnalyzer()).sentiment.p_pos, axis=1)\n",
    "tweets['sentiment_prob_neg'] = tweets.apply(lambda x: TextBlob(x['text_clean'], analyzer=NaiveBayesAnalyzer()).sentiment.p_neg, axis=1)\n",
    "tweets['sentiment_class'] = np.where(tweets['sentiment_prob_pos']==0.5, 'neu', tweets['sentiment_class'])\n",
    "tweets[['text_clean', 'sentiment_class', 'sentiment_prob_pos', 'sentiment_prob_neg']].head(5)"
   ]
  },
  {
   "cell_type": "markdown",
   "id": "7d3e6843-ef12-42d9-8deb-eebc3b6e8721",
   "metadata": {
    "tags": []
   },
   "source": [
    "#### Timing TextBlob NaiveBayesAnalyzer with parallelization"
   ]
  },
  {
   "cell_type": "code",
   "execution_count": 19,
   "id": "c82d1735-efe7-4337-8421-9254ee5de982",
   "metadata": {},
   "outputs": [
    {
     "name": "stdout",
     "output_type": "stream",
     "text": [
      "INFO: Pandarallel will run on 7 workers.\n",
      "INFO: Pandarallel will use standard multiprocessing data transfer (pipe) to transfer data between the main process and workers.\n"
     ]
    }
   ],
   "source": [
    "pandarallel.initialize(nb_workers=num_processors-1, use_memory_fs=False)"
   ]
  },
  {
   "cell_type": "code",
   "execution_count": 20,
   "id": "5e9d4f1a-575f-421a-b891-21b2af9e964b",
   "metadata": {},
   "outputs": [
    {
     "name": "stdout",
     "output_type": "stream",
     "text": [
      "CPU times: user 369 ms, sys: 772 ms, total: 1.14 s\n",
      "Wall time: 5min 11s\n"
     ]
    },
    {
     "data": {
      "text/html": [
       "<div>\n",
       "<style scoped>\n",
       "    .dataframe tbody tr th:only-of-type {\n",
       "        vertical-align: middle;\n",
       "    }\n",
       "\n",
       "    .dataframe tbody tr th {\n",
       "        vertical-align: top;\n",
       "    }\n",
       "\n",
       "    .dataframe thead th {\n",
       "        text-align: right;\n",
       "    }\n",
       "</style>\n",
       "<table border=\"1\" class=\"dataframe\">\n",
       "  <thead>\n",
       "    <tr style=\"text-align: right;\">\n",
       "      <th></th>\n",
       "      <th>text_clean</th>\n",
       "      <th>sentiment_class</th>\n",
       "      <th>sentiment_prob_pos</th>\n",
       "      <th>sentiment_prob_neg</th>\n",
       "    </tr>\n",
       "  </thead>\n",
       "  <tbody>\n",
       "    <tr>\n",
       "      <th>25006</th>\n",
       "      <td>@hsianghui: 5 python Productivity Tips With Pydash coding https:t.cozbMOvJ7709</td>\n",
       "      <td>pos</td>\n",
       "      <td>0.508044</td>\n",
       "      <td>0.491956</td>\n",
       "    </tr>\n",
       "    <tr>\n",
       "      <th>7603</th>\n",
       "      <td>@essay_help2: Legit, reliable, and quality work guaranteed inFinancepythonPaper pay Case study. pythonhomeworkOnlineclass</td>\n",
       "      <td>pos</td>\n",
       "      <td>0.805737</td>\n",
       "      <td>0.194263</td>\n",
       "    </tr>\n",
       "    <tr>\n",
       "      <th>23988</th>\n",
       "      <td>@Vecto_Mobile: Scale and Success with IoT Via @Vecto_Mobile @GersonRolimAI ML DigitalTransformation BigData DataScience Pytho</td>\n",
       "      <td>pos</td>\n",
       "      <td>0.731928</td>\n",
       "      <td>0.268072</td>\n",
       "    </tr>\n",
       "    <tr>\n",
       "      <th>77949</th>\n",
       "      <td>Credit Card Fraud Detection ArtificialIntelligence learning machinelearning  https:t.coXN0e4HzNS0</td>\n",
       "      <td>pos</td>\n",
       "      <td>0.784486</td>\n",
       "      <td>0.215514</td>\n",
       "    </tr>\n",
       "    <tr>\n",
       "      <th>75626</th>\n",
       "      <td>What is machine learning https:t.coVv1838xnEj  MachineLearning</td>\n",
       "      <td>pos</td>\n",
       "      <td>0.591783</td>\n",
       "      <td>0.408217</td>\n",
       "    </tr>\n",
       "  </tbody>\n",
       "</table>\n",
       "</div>"
      ],
      "text/plain": [
       "                                                                                                                          text_clean  \\\n",
       "25006                                                 @hsianghui: 5 python Productivity Tips With Pydash coding https:t.cozbMOvJ7709   \n",
       "7603       @essay_help2: Legit, reliable, and quality work guaranteed inFinancepythonPaper pay Case study. pythonhomeworkOnlineclass   \n",
       "23988  @Vecto_Mobile: Scale and Success with IoT Via @Vecto_Mobile @GersonRolimAI ML DigitalTransformation BigData DataScience Pytho   \n",
       "77949                              Credit Card Fraud Detection ArtificialIntelligence learning machinelearning  https:t.coXN0e4HzNS0   \n",
       "75626                                                                 What is machine learning https:t.coVv1838xnEj  MachineLearning   \n",
       "\n",
       "      sentiment_class  sentiment_prob_pos  sentiment_prob_neg  \n",
       "25006             pos            0.508044            0.491956  \n",
       "7603              pos            0.805737            0.194263  \n",
       "23988             pos            0.731928            0.268072  \n",
       "77949             pos            0.784486            0.215514  \n",
       "75626             pos            0.591783            0.408217  "
      ]
     },
     "execution_count": 20,
     "metadata": {},
     "output_type": "execute_result"
    }
   ],
   "source": [
    "%%time\n",
    "\n",
    "# NaiveBayesAnalyzer is SLOW, taking a small sample of Tweets\n",
    "tweets = tweets_df.copy()\n",
    "tweets = tweets.sample(n=100, random_state=12345)\n",
    "\n",
    "tweets['sentiment_class'] = tweets.parallel_apply(lambda x: TextBlob(x['text_clean'], analyzer=NaiveBayesAnalyzer()).sentiment.classification, axis=1)\n",
    "tweets['sentiment_prob_pos'] = tweets.parallel_apply(lambda x: TextBlob(x['text_clean'], analyzer=NaiveBayesAnalyzer()).sentiment.p_pos, axis=1)\n",
    "tweets['sentiment_prob_neg'] = tweets.parallel_apply(lambda x: TextBlob(x['text_clean'], analyzer=NaiveBayesAnalyzer()).sentiment.p_neg, axis=1)\n",
    "tweets['sentiment_class'] = np.where(tweets['sentiment_prob_pos']==0.5, 'neu', tweets['sentiment_class'])\n",
    "tweets[['text_clean', 'sentiment_class', 'sentiment_prob_pos', 'sentiment_prob_neg']].head(5)"
   ]
  },
  {
   "cell_type": "code",
   "execution_count": 21,
   "id": "1625b361-e8e4-47a8-a184-83872b7a7d02",
   "metadata": {},
   "outputs": [
    {
     "data": {
      "text/plain": [
       "pos    69\n",
       "neg    28\n",
       "neu     3\n",
       "Name: sentiment_class, dtype: int64"
      ]
     },
     "execution_count": 21,
     "metadata": {},
     "output_type": "execute_result"
    }
   ],
   "source": [
    "tweets['sentiment_class'].value_counts()"
   ]
  },
  {
   "cell_type": "code",
   "execution_count": null,
   "id": "26df1ce9-eba3-46e7-9eb9-b15a15ad3c04",
   "metadata": {},
   "outputs": [],
   "source": []
  },
  {
   "cell_type": "code",
   "execution_count": null,
   "id": "2849ebf1-3f16-4643-9292-24fb7dce1b3d",
   "metadata": {},
   "outputs": [],
   "source": []
  },
  {
   "cell_type": "code",
   "execution_count": null,
   "id": "e8e7cce2-8f6c-4e17-80a7-17c7d0bd00a0",
   "metadata": {},
   "outputs": [],
   "source": []
  },
  {
   "cell_type": "code",
   "execution_count": 22,
   "id": "dd92629a-19b8-4d4d-87aa-f8b35e403746",
   "metadata": {},
   "outputs": [
    {
     "data": {
      "text/plain": [
       "'Wed, 26 October 2022 10:49:14'"
      ]
     },
     "execution_count": 22,
     "metadata": {},
     "output_type": "execute_result"
    }
   ],
   "source": [
    "datetime.datetime.now(pytz.timezone('US/Central')).strftime(\"%a, %d %B %Y %H:%M:%S\")"
   ]
  }
 ],
 "metadata": {
  "kernelspec": {
   "display_name": "Python 3 (ipykernel)",
   "language": "python",
   "name": "python3"
  },
  "language_info": {
   "codemirror_mode": {
    "name": "ipython",
    "version": 3
   },
   "file_extension": ".py",
   "mimetype": "text/x-python",
   "name": "python",
   "nbconvert_exporter": "python",
   "pygments_lexer": "ipython3",
   "version": "3.7.12"
  }
 },
 "nbformat": 4,
 "nbformat_minor": 5
}
