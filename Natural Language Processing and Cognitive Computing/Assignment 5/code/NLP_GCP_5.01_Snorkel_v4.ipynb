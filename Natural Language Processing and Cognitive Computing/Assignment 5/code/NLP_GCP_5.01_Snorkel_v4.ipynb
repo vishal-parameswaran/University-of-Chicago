{
 "cells": [
  {
   "cell_type": "markdown",
   "metadata": {},
   "source": [
    "## Using Snorkel labeling framework  \n",
    "Reference: https://www.snorkel.org/use-cases\n",
    "\n",
    "**Note: best to execute from separate VM due to multiple dependencies**"
   ]
  },
  {
   "cell_type": "code",
   "execution_count": 1,
   "metadata": {},
   "outputs": [
    {
     "name": "stdout",
     "output_type": "stream",
     "text": [
      "3.7.12 | packaged by conda-forge | (default, Oct 26 2021, 06:08:53) \n",
      "[GCC 9.4.0]\n"
     ]
    }
   ],
   "source": [
    "import sys\n",
    "print(sys.version)"
   ]
  },
  {
   "cell_type": "code",
   "execution_count": 2,
   "metadata": {},
   "outputs": [],
   "source": [
    "import warnings\n",
    "# warnings.filterwarnings('ignore')"
   ]
  },
  {
   "cell_type": "code",
   "execution_count": 3,
   "metadata": {},
   "outputs": [],
   "source": [
    "import os\n",
    "import pandas as pd\n",
    "\n",
    "from textblob import TextBlob\n",
    "\n",
    "import re\n",
    "import operator"
   ]
  },
  {
   "cell_type": "code",
   "execution_count": 4,
   "metadata": {},
   "outputs": [],
   "source": [
    "from tqdm.auto import tqdm\n",
    "tqdm.pandas()"
   ]
  },
  {
   "cell_type": "code",
   "execution_count": 5,
   "metadata": {},
   "outputs": [],
   "source": [
    "# !pip install snorkel"
   ]
  },
  {
   "cell_type": "code",
   "execution_count": 6,
   "metadata": {},
   "outputs": [],
   "source": [
    "from sklearn.model_selection import train_test_split\n",
    "from sklearn.feature_extraction.text import CountVectorizer\n",
    "from sklearn.naive_bayes import MultinomialNB\n",
    "from sklearn.metrics import classification_report, confusion_matrix, accuracy_score\n",
    "from sklearn.linear_model import LogisticRegression, SGDClassifier\n",
    "from sklearn import metrics"
   ]
  },
  {
   "cell_type": "code",
   "execution_count": 7,
   "metadata": {},
   "outputs": [],
   "source": [
    "import snorkel as sk\n",
    "\n",
    "from snorkel.labeling import labeling_function, PandasLFApplier, LFAnalysis, \\\n",
    "                            LabelingFunction, filter_unlabeled_dataframe\n",
    "\n",
    "from snorkel.labeling.model.label_model import LabelModel\n",
    "from snorkel.labeling.model.baselines import MajorityLabelVoter\n",
    "\n",
    "\n",
    "\n",
    "from snorkel.analysis import get_label_buckets\n",
    "from snorkel.preprocess import preprocessor\n",
    "from snorkel.labeling.lf.nlp import nlp_labeling_function\n",
    "from snorkel.utils import probs_to_preds"
   ]
  },
  {
   "cell_type": "markdown",
   "metadata": {},
   "source": [
    "#### Copy files to local FS from GCP bucket"
   ]
  },
  {
   "cell_type": "code",
   "execution_count": 8,
   "metadata": {},
   "outputs": [],
   "source": [
    "path_tweets = '/home/jupyter/data/tweets'\n",
    "\n",
    "if not os.path.isdir(path_tweets): os.mkdir(path_tweets)"
   ]
  },
  {
   "cell_type": "markdown",
   "metadata": {},
   "source": [
    "### Read and pre-process data"
   ]
  },
  {
   "cell_type": "code",
   "execution_count": 9,
   "metadata": {},
   "outputs": [
    {
     "data": {
      "text/plain": [
       "(1000, 10)"
      ]
     },
     "execution_count": 9,
     "metadata": {},
     "output_type": "execute_result"
    }
   ],
   "source": [
    "tweets_raw = pd.read_json('https://storage.googleapis.com/msca-bdp-data-open/tweets/tweets.json', orient='records', lines=True)\n",
    "tweets_raw = tweets_raw.sample(n=1000)\n",
    "tweets_raw.shape"
   ]
  },
  {
   "cell_type": "code",
   "execution_count": 10,
   "metadata": {},
   "outputs": [],
   "source": [
    "pd.set_option('display.max_colwidth', None)"
   ]
  },
  {
   "cell_type": "code",
   "execution_count": 11,
   "metadata": {},
   "outputs": [
    {
     "data": {
      "text/html": [
       "<div>\n",
       "<style scoped>\n",
       "    .dataframe tbody tr th:only-of-type {\n",
       "        vertical-align: middle;\n",
       "    }\n",
       "\n",
       "    .dataframe tbody tr th {\n",
       "        vertical-align: top;\n",
       "    }\n",
       "\n",
       "    .dataframe thead th {\n",
       "        text-align: right;\n",
       "    }\n",
       "</style>\n",
       "<table border=\"1\" class=\"dataframe\">\n",
       "  <thead>\n",
       "    <tr style=\"text-align: right;\">\n",
       "      <th></th>\n",
       "      <th>id</th>\n",
       "      <th>lang</th>\n",
       "      <th>created_at</th>\n",
       "      <th>screen_name</th>\n",
       "      <th>location</th>\n",
       "      <th>retweet_count</th>\n",
       "      <th>retweet</th>\n",
       "      <th>text_no_rt</th>\n",
       "      <th>tweet_class</th>\n",
       "      <th>text_clean</th>\n",
       "    </tr>\n",
       "  </thead>\n",
       "  <tbody>\n",
       "    <tr>\n",
       "      <th>4355</th>\n",
       "      <td>8.869336e+17</td>\n",
       "      <td>en</td>\n",
       "      <td>2017-07-17 13:00:17+00:00</td>\n",
       "      <td>irvin_iew2</td>\n",
       "      <td>Pennsylvania, USA</td>\n",
       "      <td>0.0</td>\n",
       "      <td></td>\n",
       "      <td>DISSA Work Study Office Assistant - University Park Campus #PSUWorkStudy  https://t.co/1fRhWYmAmM</td>\n",
       "      <td>university</td>\n",
       "      <td>DISSA Work Study Office Assistant - University Park Campus #PSUWorkStudy  https://t.co/1fRhWYmAmM</td>\n",
       "    </tr>\n",
       "    <tr>\n",
       "      <th>36383</th>\n",
       "      <td>1.045621e+18</td>\n",
       "      <td>en</td>\n",
       "      <td>2018-09-28 10:28:40+00:00</td>\n",
       "      <td>OlisahElvis</td>\n",
       "      <td>Akwa Ibom, Nigeria</td>\n",
       "      <td>0.0</td>\n",
       "      <td>RT</td>\n",
       "      <td>@seunthemarketer: My boss driver who could not go to the university ensured that he sent his fiancée to the university. \\n\\nImmediately au…</td>\n",
       "      <td>university</td>\n",
       "      <td>RT @seunthemarketer: My boss driver who could not go to the university ensured that he sent his fiancée to the university.   Immediately au…</td>\n",
       "    </tr>\n",
       "    <tr>\n",
       "      <th>40354</th>\n",
       "      <td>9.696960e+17</td>\n",
       "      <td>en</td>\n",
       "      <td>2018-03-02 22:08:43+00:00</td>\n",
       "      <td>nmp658</td>\n",
       "      <td>None</td>\n",
       "      <td>0.0</td>\n",
       "      <td>RT</td>\n",
       "      <td>@shannonrwatts: Another day in America, another school shooting. Meanwhile, @NRA lobbyists are visiting the President in the Oval Office…</td>\n",
       "      <td>other</td>\n",
       "      <td>RT @shannonrwatts: Another day in America, another school shooting. Meanwhile, @NRA lobbyists are visiting the President in the Oval Office…</td>\n",
       "    </tr>\n",
       "    <tr>\n",
       "      <th>79894</th>\n",
       "      <td>1.035501e+18</td>\n",
       "      <td>en</td>\n",
       "      <td>2018-08-31 12:13:30+00:00</td>\n",
       "      <td>SchmidtLab</td>\n",
       "      <td>Aurora, Colorado</td>\n",
       "      <td>0.0</td>\n",
       "      <td>RT</td>\n",
       "      <td>@DanielBolnick: Mistakes were made. Using an unfamiliar university ordering system, I somehow purchased 1200 pounds of serological pipet…</td>\n",
       "      <td>university</td>\n",
       "      <td>RT @DanielBolnick: Mistakes were made. Using an unfamiliar university ordering system, I somehow purchased 1200 pounds of serological pipet…</td>\n",
       "    </tr>\n",
       "    <tr>\n",
       "      <th>86667</th>\n",
       "      <td>8.892580e+17</td>\n",
       "      <td>en</td>\n",
       "      <td>2017-07-23 22:56:45+00:00</td>\n",
       "      <td>dave_heller</td>\n",
       "      <td>Whitefish Bay, WI</td>\n",
       "      <td>0.0</td>\n",
       "      <td></td>\n",
       "      <td>Marquette wins this recruiting battle vs. #Badgers https://t.co/1ydStMS0JL</td>\n",
       "      <td>other</td>\n",
       "      <td>Marquette wins this recruiting battle vs. #Badgers https://t.co/1ydStMS0JL</td>\n",
       "    </tr>\n",
       "  </tbody>\n",
       "</table>\n",
       "</div>"
      ],
      "text/plain": [
       "                 id lang                created_at  screen_name  \\\n",
       "4355   8.869336e+17   en 2017-07-17 13:00:17+00:00   irvin_iew2   \n",
       "36383  1.045621e+18   en 2018-09-28 10:28:40+00:00  OlisahElvis   \n",
       "40354  9.696960e+17   en 2018-03-02 22:08:43+00:00       nmp658   \n",
       "79894  1.035501e+18   en 2018-08-31 12:13:30+00:00   SchmidtLab   \n",
       "86667  8.892580e+17   en 2017-07-23 22:56:45+00:00  dave_heller   \n",
       "\n",
       "                 location  retweet_count retweet  \\\n",
       "4355    Pennsylvania, USA            0.0           \n",
       "36383  Akwa Ibom, Nigeria            0.0      RT   \n",
       "40354                None            0.0      RT   \n",
       "79894    Aurora, Colorado            0.0      RT   \n",
       "86667   Whitefish Bay, WI            0.0           \n",
       "\n",
       "                                                                                                                                        text_no_rt  \\\n",
       "4355                                             DISSA Work Study Office Assistant - University Park Campus #PSUWorkStudy  https://t.co/1fRhWYmAmM   \n",
       "36383  @seunthemarketer: My boss driver who could not go to the university ensured that he sent his fiancée to the university. \\n\\nImmediately au…   \n",
       "40354    @shannonrwatts: Another day in America, another school shooting. Meanwhile, @NRA lobbyists are visiting the President in the Oval Office…   \n",
       "79894    @DanielBolnick: Mistakes were made. Using an unfamiliar university ordering system, I somehow purchased 1200 pounds of serological pipet…   \n",
       "86667                                                                   Marquette wins this recruiting battle vs. #Badgers https://t.co/1ydStMS0JL   \n",
       "\n",
       "      tweet_class  \\\n",
       "4355   university   \n",
       "36383  university   \n",
       "40354       other   \n",
       "79894  university   \n",
       "86667       other   \n",
       "\n",
       "                                                                                                                                         text_clean  \n",
       "4355                                              DISSA Work Study Office Assistant - University Park Campus #PSUWorkStudy  https://t.co/1fRhWYmAmM  \n",
       "36383  RT @seunthemarketer: My boss driver who could not go to the university ensured that he sent his fiancée to the university.   Immediately au…  \n",
       "40354  RT @shannonrwatts: Another day in America, another school shooting. Meanwhile, @NRA lobbyists are visiting the President in the Oval Office…  \n",
       "79894  RT @DanielBolnick: Mistakes were made. Using an unfamiliar university ordering system, I somehow purchased 1200 pounds of serological pipet…  \n",
       "86667                                                                    Marquette wins this recruiting battle vs. #Badgers https://t.co/1ydStMS0JL  "
      ]
     },
     "execution_count": 11,
     "metadata": {},
     "output_type": "execute_result"
    }
   ],
   "source": [
    "tweets_raw.head(5)"
   ]
  },
  {
   "cell_type": "code",
   "execution_count": 12,
   "metadata": {},
   "outputs": [],
   "source": [
    "tweets = tweets_raw[['text_clean']]\n",
    "tweets = tweets.rename(columns={'text_clean': 'text'})"
   ]
  },
  {
   "cell_type": "markdown",
   "metadata": {},
   "source": [
    "### Labeling with Regex"
   ]
  },
  {
   "cell_type": "code",
   "execution_count": 14,
   "metadata": {},
   "outputs": [],
   "source": [
    "ABSTAIN = -1\n",
    "Institution = 0\n",
    "Education = 1\n",
    "Other = 2"
   ]
  },
  {
   "cell_type": "code",
   "execution_count": 15,
   "metadata": {},
   "outputs": [],
   "source": [
    "#Trying!!\n",
    "# Labeling functions is a key concept in Snorkel. \n",
    "# So you can write as many functions that can contain any logic to label the observation\n",
    "\n",
    "\n",
    "@labeling_function()\n",
    "def university(x):\n",
    "    return Education if re.search(r\"universit*\", x.text, flags=re.I) else ABSTAIN\n",
    "\n",
    "@labeling_function()\n",
    "def school(x):\n",
    "    return Education if re.search(r\"school*\", x.text, flags=re.I) else ABSTAIN\n",
    "\n",
    "@labeling_function()\n",
    "def college(x):\n",
    "    return Education if re.search(r\"college*\", x.text, flags=re.I) else ABSTAIN\n",
    "\n",
    "@labeling_function()\n",
    "def city(x):\n",
    "    return Institution if re.search(r\"cit(?:y|ies)|state\\w*|province\\w*\", x.text, flags=re.I) else ABSTAIN\n",
    "\n",
    "@labeling_function()\n",
    "def hospital(x):\n",
    "    return Institution if re.search(r\"hospital\", x.text, flags=re.I) else ABSTAIN"
   ]
  },
  {
   "cell_type": "code",
   "execution_count": 16,
   "metadata": {},
   "outputs": [
    {
     "name": "stderr",
     "output_type": "stream",
     "text": [
      "/opt/conda/lib/python3.7/site-packages/tqdm/std.py:666: FutureWarning: The Panel class is removed from pandas. Accessing it from the top-level namespace will also be removed in the next version\n",
      "  from pandas import Panel\n",
      "100%|██████████| 1000/1000 [00:00<00:00, 7018.64it/s]\n"
     ]
    }
   ],
   "source": [
    "lfs=([university, school, college, city, hospital])\n",
    "\n",
    "applier = PandasLFApplier(lfs)\n",
    "\n",
    "# The output of the apply method is a label matrix, which is a # NumPy array L \n",
    "# with one column for each LF and one row for each data point\n",
    "L_train = applier.apply(tweets)"
   ]
  },
  {
   "cell_type": "markdown",
   "metadata": {},
   "source": [
    "#### Explore labeling results"
   ]
  },
  {
   "cell_type": "code",
   "execution_count": 17,
   "metadata": {},
   "outputs": [
    {
     "data": {
      "text/html": [
       "<div>\n",
       "<style scoped>\n",
       "    .dataframe tbody tr th:only-of-type {\n",
       "        vertical-align: middle;\n",
       "    }\n",
       "\n",
       "    .dataframe tbody tr th {\n",
       "        vertical-align: top;\n",
       "    }\n",
       "\n",
       "    .dataframe thead th {\n",
       "        text-align: right;\n",
       "    }\n",
       "</style>\n",
       "<table border=\"1\" class=\"dataframe\">\n",
       "  <thead>\n",
       "    <tr style=\"text-align: right;\">\n",
       "      <th></th>\n",
       "      <th>j</th>\n",
       "      <th>Polarity</th>\n",
       "      <th>Coverage</th>\n",
       "      <th>Overlaps</th>\n",
       "      <th>Conflicts</th>\n",
       "    </tr>\n",
       "  </thead>\n",
       "  <tbody>\n",
       "    <tr>\n",
       "      <th>university</th>\n",
       "      <td>0</td>\n",
       "      <td>[1]</td>\n",
       "      <td>0.424</td>\n",
       "      <td>0.071</td>\n",
       "      <td>0.024</td>\n",
       "    </tr>\n",
       "    <tr>\n",
       "      <th>school</th>\n",
       "      <td>1</td>\n",
       "      <td>[1]</td>\n",
       "      <td>0.036</td>\n",
       "      <td>0.012</td>\n",
       "      <td>0.000</td>\n",
       "    </tr>\n",
       "    <tr>\n",
       "      <th>college</th>\n",
       "      <td>2</td>\n",
       "      <td>[1]</td>\n",
       "      <td>0.048</td>\n",
       "      <td>0.040</td>\n",
       "      <td>0.004</td>\n",
       "    </tr>\n",
       "    <tr>\n",
       "      <th>city</th>\n",
       "      <td>3</td>\n",
       "      <td>[0]</td>\n",
       "      <td>0.042</td>\n",
       "      <td>0.021</td>\n",
       "      <td>0.021</td>\n",
       "    </tr>\n",
       "    <tr>\n",
       "      <th>hospital</th>\n",
       "      <td>4</td>\n",
       "      <td>[0]</td>\n",
       "      <td>0.005</td>\n",
       "      <td>0.003</td>\n",
       "      <td>0.003</td>\n",
       "    </tr>\n",
       "  </tbody>\n",
       "</table>\n",
       "</div>"
      ],
      "text/plain": [
       "            j Polarity  Coverage  Overlaps  Conflicts\n",
       "university  0      [1]     0.424     0.071      0.024\n",
       "school      1      [1]     0.036     0.012      0.000\n",
       "college     2      [1]     0.048     0.040      0.004\n",
       "city        3      [0]     0.042     0.021      0.021\n",
       "hospital    4      [0]     0.005     0.003      0.003"
      ]
     },
     "execution_count": 17,
     "metadata": {},
     "output_type": "execute_result"
    }
   ],
   "source": [
    "# Polarity: The set of unique labels this LF outputs (excluding abstains)\n",
    "# Coverage: The fraction of the dataset the LF labels\n",
    "# Overlaps: The fraction of the dataset where this LF and at least one other LF label\n",
    "# Conflicts: The fraction of the dataset where this LF and at least one other LF label and disagree\n",
    "\n",
    "LFAnalysis(L=L_train, lfs=lfs).lf_summary()"
   ]
  },
  {
   "cell_type": "markdown",
   "metadata": {},
   "source": [
    "#### Explore the records where \"College\" labeled as \"Education\""
   ]
  },
  {
   "cell_type": "code",
   "execution_count": 18,
   "metadata": {},
   "outputs": [
    {
     "data": {
      "text/html": [
       "<div>\n",
       "<style scoped>\n",
       "    .dataframe tbody tr th:only-of-type {\n",
       "        vertical-align: middle;\n",
       "    }\n",
       "\n",
       "    .dataframe tbody tr th {\n",
       "        vertical-align: top;\n",
       "    }\n",
       "\n",
       "    .dataframe thead th {\n",
       "        text-align: right;\n",
       "    }\n",
       "</style>\n",
       "<table border=\"1\" class=\"dataframe\">\n",
       "  <thead>\n",
       "    <tr style=\"text-align: right;\">\n",
       "      <th></th>\n",
       "      <th>text</th>\n",
       "    </tr>\n",
       "  </thead>\n",
       "  <tbody>\n",
       "    <tr>\n",
       "      <th>28140</th>\n",
       "      <td>RT @lupeyz_: It’s okay to not go to college. It’s okay to go to a community college. It’s okay to go to University. It’s okay to take out l…</td>\n",
       "    </tr>\n",
       "    <tr>\n",
       "      <th>47966</th>\n",
       "      <td>RT @Breaking911: WHAT?: Students walk out of a diversity discussion at Portland State University when Evergreen State College biologist Hea…</td>\n",
       "    </tr>\n",
       "    <tr>\n",
       "      <th>29529</th>\n",
       "      <td>RT @lupeyz_: It’s okay to not go to college. It’s okay to go to a community college. It’s okay to go to University. It’s okay to take out l…</td>\n",
       "    </tr>\n",
       "    <tr>\n",
       "      <th>60671</th>\n",
       "      <td>RT @cassdalr12: Going to a university, does not make you anymore educated than someone going to a community college</td>\n",
       "    </tr>\n",
       "    <tr>\n",
       "      <th>25634</th>\n",
       "      <td>RT @itscollegebabes: University of Alabama 📍 https://t.co/6wTsfAClYy</td>\n",
       "    </tr>\n",
       "    <tr>\n",
       "      <th>83234</th>\n",
       "      <td>RT @otaaee: if u aint press to go back to yo college/university then u at the wrong one. https://t.co/V1dUXtx2Fj</td>\n",
       "    </tr>\n",
       "    <tr>\n",
       "      <th>27759</th>\n",
       "      <td>RT @lupeyz_: It’s okay to not go to college. It’s okay to go to a community college. It’s okay to go to University. It’s okay to take out l…</td>\n",
       "    </tr>\n",
       "    <tr>\n",
       "      <th>79055</th>\n",
       "      <td>RT @Laneybehr: University: hi :))) college is expensive!!! We offer our students 10% off at our bookstore :))  Spotify: YOU WANT MUSIC????…</td>\n",
       "    </tr>\n",
       "    <tr>\n",
       "      <th>30373</th>\n",
       "      <td>RT @lupeyz_: It’s okay to not go to college. It’s okay to go to a community college. It’s okay to go to University. It’s okay to take out l…</td>\n",
       "    </tr>\n",
       "    <tr>\n",
       "      <th>7137</th>\n",
       "      <td>RT @itscollegebabes: University of Southern California 📍 https://t.co/rlaU8quM6C</td>\n",
       "    </tr>\n",
       "  </tbody>\n",
       "</table>\n",
       "</div>"
      ],
      "text/plain": [
       "                                                                                                                                               text\n",
       "28140  RT @lupeyz_: It’s okay to not go to college. It’s okay to go to a community college. It’s okay to go to University. It’s okay to take out l…\n",
       "47966  RT @Breaking911: WHAT?: Students walk out of a diversity discussion at Portland State University when Evergreen State College biologist Hea…\n",
       "29529  RT @lupeyz_: It’s okay to not go to college. It’s okay to go to a community college. It’s okay to go to University. It’s okay to take out l…\n",
       "60671                           RT @cassdalr12: Going to a university, does not make you anymore educated than someone going to a community college\n",
       "25634                                                                          RT @itscollegebabes: University of Alabama 📍 https://t.co/6wTsfAClYy\n",
       "83234                              RT @otaaee: if u aint press to go back to yo college/university then u at the wrong one. https://t.co/V1dUXtx2Fj\n",
       "27759  RT @lupeyz_: It’s okay to not go to college. It’s okay to go to a community college. It’s okay to go to University. It’s okay to take out l…\n",
       "79055   RT @Laneybehr: University: hi :))) college is expensive!!! We offer our students 10% off at our bookstore :))  Spotify: YOU WANT MUSIC????…\n",
       "30373  RT @lupeyz_: It’s okay to not go to college. It’s okay to go to a community college. It’s okay to go to University. It’s okay to take out l…\n",
       "7137                                                               RT @itscollegebabes: University of Southern California 📍 https://t.co/rlaU8quM6C"
      ]
     },
     "execution_count": 18,
     "metadata": {},
     "output_type": "execute_result"
    }
   ],
   "source": [
    "tweets.iloc[L_train[:, 2] == Education].sample(10, random_state=1) #Slicing corresponds to \"j\""
   ]
  },
  {
   "cell_type": "markdown",
   "metadata": {},
   "source": [
    "#### Explore the records where \"School\" labeled and \"University\" abstained"
   ]
  },
  {
   "cell_type": "code",
   "execution_count": 19,
   "metadata": {},
   "outputs": [
    {
     "data": {
      "text/html": [
       "<div>\n",
       "<style scoped>\n",
       "    .dataframe tbody tr th:only-of-type {\n",
       "        vertical-align: middle;\n",
       "    }\n",
       "\n",
       "    .dataframe tbody tr th {\n",
       "        vertical-align: top;\n",
       "    }\n",
       "\n",
       "    .dataframe thead th {\n",
       "        text-align: right;\n",
       "    }\n",
       "</style>\n",
       "<table border=\"1\" class=\"dataframe\">\n",
       "  <thead>\n",
       "    <tr style=\"text-align: right;\">\n",
       "      <th></th>\n",
       "      <th>text</th>\n",
       "    </tr>\n",
       "  </thead>\n",
       "  <tbody>\n",
       "    <tr>\n",
       "      <th>40978</th>\n",
       "      <td>RT @shannonrwatts: Since Parkland shooting:  A gun was fired unintentionally at a K-12 school in Florida  A Georgia teacher fired a gun ins…</td>\n",
       "    </tr>\n",
       "    <tr>\n",
       "      <th>84652</th>\n",
       "      <td>@AndyManar I wish Andy would fight that hard for his own schools like he fight for Chicago</td>\n",
       "    </tr>\n",
       "    <tr>\n",
       "      <th>68010</th>\n",
       "      <td>RT @bhramabull: Big shout to the great event yesterday at the #stoptheviolence rally at #marshallhighschool celebrity ev...…</td>\n",
       "    </tr>\n",
       "    <tr>\n",
       "      <th>40133</th>\n",
       "      <td>RT @shannonrwatts: Since Parkland shooting:  A gun was fired unintentionally at a K-12 school in Florida  A Georgia teacher fired a gun ins…</td>\n",
       "    </tr>\n",
       "    <tr>\n",
       "      <th>42355</th>\n",
       "      <td>RT @shannonrwatts: Another day in America, another school shooting. Meanwhile, @NRA lobbyists are visiting the President in the Oval Office…</td>\n",
       "    </tr>\n",
       "    <tr>\n",
       "      <th>68296</th>\n",
       "      <td>RT @solomonortizjr: \"As a UT graduate, I've never been more embarrassed for my school\" .@farenthold said  I'm embarrassed for Dist. 27!  ht…</td>\n",
       "    </tr>\n",
       "    <tr>\n",
       "      <th>28661</th>\n",
       "      <td>Medical School students address environmental issues from physicians’ perspective https://t.co/96MZlVLMAH via @Harvard</td>\n",
       "    </tr>\n",
       "    <tr>\n",
       "      <th>67979</th>\n",
       "      <td>RT @bhramabull: Big shout to the great event yesterday at the #stoptheviolence rally at #marshallhighschool celebrity ev...…</td>\n",
       "    </tr>\n",
       "    <tr>\n",
       "      <th>40967</th>\n",
       "      <td>RT @shannonrwatts: Since Parkland shooting:  A gun was fired unintentionally at a K-12 school in Florida  A Georgia teacher fired a gun ins…</td>\n",
       "    </tr>\n",
       "    <tr>\n",
       "      <th>39825</th>\n",
       "      <td>RT @shannonrwatts: Since Parkland shooting:  A gun was fired unintentionally at a K-12 school in Florida  A Georgia teacher fired a gun ins…</td>\n",
       "    </tr>\n",
       "  </tbody>\n",
       "</table>\n",
       "</div>"
      ],
      "text/plain": [
       "                                                                                                                                               text\n",
       "40978  RT @shannonrwatts: Since Parkland shooting:  A gun was fired unintentionally at a K-12 school in Florida  A Georgia teacher fired a gun ins…\n",
       "84652                                                    @AndyManar I wish Andy would fight that hard for his own schools like he fight for Chicago\n",
       "68010                 RT @bhramabull: Big shout to the great event yesterday at the #stoptheviolence rally at #marshallhighschool celebrity ev...… \n",
       "40133  RT @shannonrwatts: Since Parkland shooting:  A gun was fired unintentionally at a K-12 school in Florida  A Georgia teacher fired a gun ins…\n",
       "42355  RT @shannonrwatts: Another day in America, another school shooting. Meanwhile, @NRA lobbyists are visiting the President in the Oval Office…\n",
       "68296  RT @solomonortizjr: \"As a UT graduate, I've never been more embarrassed for my school\" .@farenthold said  I'm embarrassed for Dist. 27!  ht…\n",
       "28661                        Medical School students address environmental issues from physicians’ perspective https://t.co/96MZlVLMAH via @Harvard\n",
       "67979                 RT @bhramabull: Big shout to the great event yesterday at the #stoptheviolence rally at #marshallhighschool celebrity ev...… \n",
       "40967  RT @shannonrwatts: Since Parkland shooting:  A gun was fired unintentionally at a K-12 school in Florida  A Georgia teacher fired a gun ins…\n",
       "39825  RT @shannonrwatts: Since Parkland shooting:  A gun was fired unintentionally at a K-12 school in Florida  A Georgia teacher fired a gun ins…"
      ]
     },
     "execution_count": 19,
     "metadata": {},
     "output_type": "execute_result"
    }
   ],
   "source": [
    "buckets = get_label_buckets(L_train[:, 0], L_train[:, 1]) #Slicing corresponds to \"j\"\n",
    "tweets.iloc[buckets[(ABSTAIN, Education)]].sample(10, random_state=1)"
   ]
  },
  {
   "cell_type": "markdown",
   "metadata": {},
   "source": [
    "### Labeling with sentiment score using TextBlob"
   ]
  },
  {
   "cell_type": "code",
   "execution_count": 20,
   "metadata": {},
   "outputs": [],
   "source": [
    "@preprocessor(memoize=True)\n",
    "def textblob_sentiment(x):\n",
    "    scores = TextBlob(x.text)\n",
    "    x.polarity = scores.sentiment.polarity\n",
    "    x.subjectivity = scores.sentiment.subjectivity\n",
    "    return x\n",
    "\n",
    "@labeling_function(pre=[textblob_sentiment])\n",
    "def textblob_polarity(x):\n",
    "    return Other if x.polarity > 0.9 else ABSTAIN\n",
    "\n",
    "@labeling_function(pre=[textblob_sentiment])\n",
    "def textblob_subjectivity(x):\n",
    "    return Other if x.subjectivity >= 0.5 else ABSTAIN"
   ]
  },
  {
   "cell_type": "code",
   "execution_count": 21,
   "metadata": {},
   "outputs": [
    {
     "name": "stderr",
     "output_type": "stream",
     "text": [
      "/opt/conda/lib/python3.7/site-packages/tqdm/std.py:666: FutureWarning: The Panel class is removed from pandas. Accessing it from the top-level namespace will also be removed in the next version\n",
      "  from pandas import Panel\n",
      "100%|██████████| 1000/1000 [00:01<00:00, 934.90it/s]\n"
     ]
    },
    {
     "data": {
      "text/html": [
       "<div>\n",
       "<style scoped>\n",
       "    .dataframe tbody tr th:only-of-type {\n",
       "        vertical-align: middle;\n",
       "    }\n",
       "\n",
       "    .dataframe tbody tr th {\n",
       "        vertical-align: top;\n",
       "    }\n",
       "\n",
       "    .dataframe thead th {\n",
       "        text-align: right;\n",
       "    }\n",
       "</style>\n",
       "<table border=\"1\" class=\"dataframe\">\n",
       "  <thead>\n",
       "    <tr style=\"text-align: right;\">\n",
       "      <th></th>\n",
       "      <th>j</th>\n",
       "      <th>Polarity</th>\n",
       "      <th>Coverage</th>\n",
       "      <th>Overlaps</th>\n",
       "      <th>Conflicts</th>\n",
       "    </tr>\n",
       "  </thead>\n",
       "  <tbody>\n",
       "    <tr>\n",
       "      <th>textblob_polarity</th>\n",
       "      <td>0</td>\n",
       "      <td>[2]</td>\n",
       "      <td>0.006</td>\n",
       "      <td>0.004</td>\n",
       "      <td>0.0</td>\n",
       "    </tr>\n",
       "    <tr>\n",
       "      <th>textblob_subjectivity</th>\n",
       "      <td>1</td>\n",
       "      <td>[2]</td>\n",
       "      <td>0.275</td>\n",
       "      <td>0.004</td>\n",
       "      <td>0.0</td>\n",
       "    </tr>\n",
       "  </tbody>\n",
       "</table>\n",
       "</div>"
      ],
      "text/plain": [
       "                       j Polarity  Coverage  Overlaps  Conflicts\n",
       "textblob_polarity      0      [2]     0.006     0.004        0.0\n",
       "textblob_subjectivity  1      [2]     0.275     0.004        0.0"
      ]
     },
     "execution_count": 21,
     "metadata": {},
     "output_type": "execute_result"
    }
   ],
   "source": [
    "lfs = [textblob_polarity, textblob_subjectivity]\n",
    "\n",
    "applier = PandasLFApplier(lfs)\n",
    "L_train = applier.apply(tweets)\n",
    "\n",
    "LFAnalysis(L_train, lfs).lf_summary()"
   ]
  },
  {
   "cell_type": "markdown",
   "metadata": {},
   "source": [
    "## Labeling using the number of words"
   ]
  },
  {
   "cell_type": "code",
   "execution_count": 22,
   "metadata": {},
   "outputs": [],
   "source": [
    "@labeling_function()\n",
    "def short_comment(x):\n",
    "    return Other if len(x.text.split()) <= 5 else ABSTAIN"
   ]
  },
  {
   "cell_type": "code",
   "execution_count": 23,
   "metadata": {},
   "outputs": [
    {
     "name": "stderr",
     "output_type": "stream",
     "text": [
      "/opt/conda/lib/python3.7/site-packages/tqdm/std.py:666: FutureWarning: The Panel class is removed from pandas. Accessing it from the top-level namespace will also be removed in the next version\n",
      "  from pandas import Panel\n",
      "100%|██████████| 1000/1000 [00:00<00:00, 4140.67it/s]\n"
     ]
    },
    {
     "data": {
      "text/html": [
       "<div>\n",
       "<style scoped>\n",
       "    .dataframe tbody tr th:only-of-type {\n",
       "        vertical-align: middle;\n",
       "    }\n",
       "\n",
       "    .dataframe tbody tr th {\n",
       "        vertical-align: top;\n",
       "    }\n",
       "\n",
       "    .dataframe thead th {\n",
       "        text-align: right;\n",
       "    }\n",
       "</style>\n",
       "<table border=\"1\" class=\"dataframe\">\n",
       "  <thead>\n",
       "    <tr style=\"text-align: right;\">\n",
       "      <th></th>\n",
       "      <th>j</th>\n",
       "      <th>Polarity</th>\n",
       "      <th>Coverage</th>\n",
       "      <th>Overlaps</th>\n",
       "      <th>Conflicts</th>\n",
       "    </tr>\n",
       "  </thead>\n",
       "  <tbody>\n",
       "    <tr>\n",
       "      <th>short_comment</th>\n",
       "      <td>0</td>\n",
       "      <td>[2]</td>\n",
       "      <td>0.027</td>\n",
       "      <td>0.0</td>\n",
       "      <td>0.0</td>\n",
       "    </tr>\n",
       "  </tbody>\n",
       "</table>\n",
       "</div>"
      ],
      "text/plain": [
       "               j Polarity  Coverage  Overlaps  Conflicts\n",
       "short_comment  0      [2]     0.027       0.0        0.0"
      ]
     },
     "execution_count": 23,
     "metadata": {},
     "output_type": "execute_result"
    }
   ],
   "source": [
    "lfs = [short_comment]\n",
    "\n",
    "applier = PandasLFApplier(lfs)\n",
    "L_train = applier.apply(tweets)\n",
    "\n",
    "LFAnalysis(L_train, lfs).lf_summary()"
   ]
  },
  {
   "cell_type": "markdown",
   "metadata": {},
   "source": [
    "## Labeling based on SpaCy NER"
   ]
  },
  {
   "cell_type": "code",
   "execution_count": 24,
   "metadata": {},
   "outputs": [],
   "source": [
    "@nlp_labeling_function()\n",
    "def has_gpe_nlp(x):\n",
    "    if len(x.text.split()) >= 5 and any([ent.label_ == \"GPE\" for ent in x.doc.ents]):\n",
    "# Label everything longer than 5 words containing Geo-Political entities as Institution        \n",
    "        return Institution\n",
    "    else:\n",
    "        return ABSTAIN"
   ]
  },
  {
   "cell_type": "code",
   "execution_count": 25,
   "metadata": {},
   "outputs": [
    {
     "name": "stderr",
     "output_type": "stream",
     "text": [
      "/opt/conda/lib/python3.7/site-packages/tqdm/std.py:666: FutureWarning: The Panel class is removed from pandas. Accessing it from the top-level namespace will also be removed in the next version\n",
      "  from pandas import Panel\n",
      "100%|██████████| 1000/1000 [00:13<00:00, 75.80it/s]\n"
     ]
    },
    {
     "data": {
      "text/html": [
       "<div>\n",
       "<style scoped>\n",
       "    .dataframe tbody tr th:only-of-type {\n",
       "        vertical-align: middle;\n",
       "    }\n",
       "\n",
       "    .dataframe tbody tr th {\n",
       "        vertical-align: top;\n",
       "    }\n",
       "\n",
       "    .dataframe thead th {\n",
       "        text-align: right;\n",
       "    }\n",
       "</style>\n",
       "<table border=\"1\" class=\"dataframe\">\n",
       "  <thead>\n",
       "    <tr style=\"text-align: right;\">\n",
       "      <th></th>\n",
       "      <th>j</th>\n",
       "      <th>Polarity</th>\n",
       "      <th>Coverage</th>\n",
       "      <th>Overlaps</th>\n",
       "      <th>Conflicts</th>\n",
       "    </tr>\n",
       "  </thead>\n",
       "  <tbody>\n",
       "    <tr>\n",
       "      <th>has_gpe_nlp</th>\n",
       "      <td>0</td>\n",
       "      <td>[0]</td>\n",
       "      <td>0.325</td>\n",
       "      <td>0.0</td>\n",
       "      <td>0.0</td>\n",
       "    </tr>\n",
       "  </tbody>\n",
       "</table>\n",
       "</div>"
      ],
      "text/plain": [
       "             j Polarity  Coverage  Overlaps  Conflicts\n",
       "has_gpe_nlp  0      [0]     0.325       0.0        0.0"
      ]
     },
     "execution_count": 25,
     "metadata": {},
     "output_type": "execute_result"
    }
   ],
   "source": [
    "lfs = [has_gpe_nlp]\n",
    "\n",
    "applier = PandasLFApplier(lfs)\n",
    "L_train = applier.apply(tweets)\n",
    "\n",
    "LFAnalysis(L_train, lfs).lf_summary()"
   ]
  },
  {
   "cell_type": "markdown",
   "metadata": {},
   "source": [
    "#### Explore data labeled with SpaCy NER"
   ]
  },
  {
   "cell_type": "code",
   "execution_count": 26,
   "metadata": {},
   "outputs": [
    {
     "data": {
      "text/html": [
       "<div>\n",
       "<style scoped>\n",
       "    .dataframe tbody tr th:only-of-type {\n",
       "        vertical-align: middle;\n",
       "    }\n",
       "\n",
       "    .dataframe tbody tr th {\n",
       "        vertical-align: top;\n",
       "    }\n",
       "\n",
       "    .dataframe thead th {\n",
       "        text-align: right;\n",
       "    }\n",
       "</style>\n",
       "<table border=\"1\" class=\"dataframe\">\n",
       "  <thead>\n",
       "    <tr style=\"text-align: right;\">\n",
       "      <th></th>\n",
       "      <th>text</th>\n",
       "    </tr>\n",
       "  </thead>\n",
       "  <tbody>\n",
       "    <tr>\n",
       "      <th>72565</th>\n",
       "      <td>RT @ccc_prod: 14 days to go!!! See you all on September 14 at the University of Baguio for The Dream Tour @maymayentrata07 In Concert, Live…</td>\n",
       "    </tr>\n",
       "    <tr>\n",
       "      <th>53429</th>\n",
       "      <td>@KylieJenner omg do you realize stormi, chicago and koko’s daughter are already best friends? Just imagine how cute the pics will be</td>\n",
       "    </tr>\n",
       "    <tr>\n",
       "      <th>60618</th>\n",
       "      <td>RT @SheriffClarke: Somebody notify Black LIES Matter rioters in St. Louis to report to Chicago now!! Blacks are killing other blacks. https…</td>\n",
       "    </tr>\n",
       "    <tr>\n",
       "      <th>97104</th>\n",
       "      <td>RT @BostonGlobe: A federal judge in Chicago on Thursday ordered the immediate release of a 9-year-old boy who had remained in government cu…</td>\n",
       "    </tr>\n",
       "    <tr>\n",
       "      <th>54136</th>\n",
       "      <td>RT @poetrypotion: Poet Profile: Kwame Aidoo  Kwame ‘Write’ Aidoo (Ghana, 1986) is a writer, artist and cultural manager with a background o…</td>\n",
       "    </tr>\n",
       "    <tr>\n",
       "      <th>43176</th>\n",
       "      <td>RT @HinaQuotes: On the security front, in 2015 the military launched an offensive to remove extremist groups in northwestern Pakistan and a…</td>\n",
       "    </tr>\n",
       "    <tr>\n",
       "      <th>94400</th>\n",
       "      <td>RT @BTSxIllinois: Tune in to @1035KISSFM Chicago on Sunday at 10 PM CST to hear @BTS_twt on the @iHeartCountdown! 🎈 ------- #TeenChoice #Ch…</td>\n",
       "    </tr>\n",
       "    <tr>\n",
       "      <th>85050</th>\n",
       "      <td>#ChicagoCubs #Cubs Royals beat White Sox 5-4, extending Chicago's skid to 9 https://t.co/0alb6YNTpK #ChicagoCubs</td>\n",
       "    </tr>\n",
       "    <tr>\n",
       "      <th>15746</th>\n",
       "      <td>RT @ImTheBombDotCom: PLEASE RT THIS🙏🏽  Project #Halloween4Homeless  CHICAGO, IL  🖤🖤🖤🖤🖤 https://t.co/cU3k3qxKyM</td>\n",
       "    </tr>\n",
       "    <tr>\n",
       "      <th>47670</th>\n",
       "      <td>RT @kotafoundation: Poached populations of #elephants in Tanzania show more than 6% are tuskless according to student researchers from Stir…</td>\n",
       "    </tr>\n",
       "  </tbody>\n",
       "</table>\n",
       "</div>"
      ],
      "text/plain": [
       "                                                                                                                                               text\n",
       "72565  RT @ccc_prod: 14 days to go!!! See you all on September 14 at the University of Baguio for The Dream Tour @maymayentrata07 In Concert, Live…\n",
       "53429          @KylieJenner omg do you realize stormi, chicago and koko’s daughter are already best friends? Just imagine how cute the pics will be\n",
       "60618  RT @SheriffClarke: Somebody notify Black LIES Matter rioters in St. Louis to report to Chicago now!! Blacks are killing other blacks. https…\n",
       "97104  RT @BostonGlobe: A federal judge in Chicago on Thursday ordered the immediate release of a 9-year-old boy who had remained in government cu…\n",
       "54136  RT @poetrypotion: Poet Profile: Kwame Aidoo  Kwame ‘Write’ Aidoo (Ghana, 1986) is a writer, artist and cultural manager with a background o…\n",
       "43176  RT @HinaQuotes: On the security front, in 2015 the military launched an offensive to remove extremist groups in northwestern Pakistan and a…\n",
       "94400  RT @BTSxIllinois: Tune in to @1035KISSFM Chicago on Sunday at 10 PM CST to hear @BTS_twt on the @iHeartCountdown! 🎈 ------- #TeenChoice #Ch…\n",
       "85050                              #ChicagoCubs #Cubs Royals beat White Sox 5-4, extending Chicago's skid to 9 https://t.co/0alb6YNTpK #ChicagoCubs\n",
       "15746                                RT @ImTheBombDotCom: PLEASE RT THIS🙏🏽  Project #Halloween4Homeless  CHICAGO, IL  🖤🖤🖤🖤🖤 https://t.co/cU3k3qxKyM\n",
       "47670  RT @kotafoundation: Poached populations of #elephants in Tanzania show more than 6% are tuskless according to student researchers from Stir…"
      ]
     },
     "execution_count": 26,
     "metadata": {},
     "output_type": "execute_result"
    }
   ],
   "source": [
    "tweets.iloc[L_train[:, 0] == Institution].sample(10, random_state=1) #Slicing corresponds to \"j\""
   ]
  },
  {
   "cell_type": "markdown",
   "metadata": {},
   "source": [
    "## Combining labeling functions and exploring conflicts and overlaps"
   ]
  },
  {
   "cell_type": "code",
   "execution_count": 27,
   "metadata": {},
   "outputs": [
    {
     "name": "stderr",
     "output_type": "stream",
     "text": [
      "/opt/conda/lib/python3.7/site-packages/tqdm/std.py:666: FutureWarning: The Panel class is removed from pandas. Accessing it from the top-level namespace will also be removed in the next version\n",
      "  from pandas import Panel\n",
      "100%|██████████| 1000/1000 [00:00<00:00, 2338.81it/s]\n"
     ]
    },
    {
     "data": {
      "text/html": [
       "<div>\n",
       "<style scoped>\n",
       "    .dataframe tbody tr th:only-of-type {\n",
       "        vertical-align: middle;\n",
       "    }\n",
       "\n",
       "    .dataframe tbody tr th {\n",
       "        vertical-align: top;\n",
       "    }\n",
       "\n",
       "    .dataframe thead th {\n",
       "        text-align: right;\n",
       "    }\n",
       "</style>\n",
       "<table border=\"1\" class=\"dataframe\">\n",
       "  <thead>\n",
       "    <tr style=\"text-align: right;\">\n",
       "      <th></th>\n",
       "      <th>j</th>\n",
       "      <th>Polarity</th>\n",
       "      <th>Coverage</th>\n",
       "      <th>Overlaps</th>\n",
       "      <th>Conflicts</th>\n",
       "    </tr>\n",
       "  </thead>\n",
       "  <tbody>\n",
       "    <tr>\n",
       "      <th>university</th>\n",
       "      <td>0</td>\n",
       "      <td>[1]</td>\n",
       "      <td>0.424</td>\n",
       "      <td>0.115</td>\n",
       "      <td>0.069</td>\n",
       "    </tr>\n",
       "    <tr>\n",
       "      <th>school</th>\n",
       "      <td>1</td>\n",
       "      <td>[1]</td>\n",
       "      <td>0.036</td>\n",
       "      <td>0.027</td>\n",
       "      <td>0.016</td>\n",
       "    </tr>\n",
       "    <tr>\n",
       "      <th>college</th>\n",
       "      <td>2</td>\n",
       "      <td>[1]</td>\n",
       "      <td>0.048</td>\n",
       "      <td>0.040</td>\n",
       "      <td>0.004</td>\n",
       "    </tr>\n",
       "    <tr>\n",
       "      <th>city</th>\n",
       "      <td>3</td>\n",
       "      <td>[0]</td>\n",
       "      <td>0.042</td>\n",
       "      <td>0.037</td>\n",
       "      <td>0.021</td>\n",
       "    </tr>\n",
       "    <tr>\n",
       "      <th>hospital</th>\n",
       "      <td>4</td>\n",
       "      <td>[0]</td>\n",
       "      <td>0.005</td>\n",
       "      <td>0.004</td>\n",
       "      <td>0.003</td>\n",
       "    </tr>\n",
       "    <tr>\n",
       "      <th>short_comment</th>\n",
       "      <td>5</td>\n",
       "      <td>[2]</td>\n",
       "      <td>0.027</td>\n",
       "      <td>0.005</td>\n",
       "      <td>0.005</td>\n",
       "    </tr>\n",
       "    <tr>\n",
       "      <th>has_gpe_nlp</th>\n",
       "      <td>6</td>\n",
       "      <td>[0]</td>\n",
       "      <td>0.325</td>\n",
       "      <td>0.078</td>\n",
       "      <td>0.061</td>\n",
       "    </tr>\n",
       "  </tbody>\n",
       "</table>\n",
       "</div>"
      ],
      "text/plain": [
       "               j Polarity  Coverage  Overlaps  Conflicts\n",
       "university     0      [1]     0.424     0.115      0.069\n",
       "school         1      [1]     0.036     0.027      0.016\n",
       "college        2      [1]     0.048     0.040      0.004\n",
       "city           3      [0]     0.042     0.037      0.021\n",
       "hospital       4      [0]     0.005     0.004      0.003\n",
       "short_comment  5      [2]     0.027     0.005      0.005\n",
       "has_gpe_nlp    6      [0]     0.325     0.078      0.061"
      ]
     },
     "execution_count": 27,
     "metadata": {},
     "output_type": "execute_result"
    }
   ],
   "source": [
    "lfs = [\n",
    "    university, \n",
    "    school, \n",
    "    college, \n",
    "    city, \n",
    "    hospital,\n",
    "    short_comment,\n",
    "    has_gpe_nlp\n",
    "]\n",
    "\n",
    "applier = PandasLFApplier(lfs)\n",
    "L_train = applier.apply(tweets)\n",
    "\n",
    "LFAnalysis(L_train, lfs).lf_summary()"
   ]
  },
  {
   "cell_type": "markdown",
   "metadata": {},
   "source": [
    "## Convert labels from LF into a single label"
   ]
  },
  {
   "cell_type": "markdown",
   "metadata": {},
   "source": [
    "### Baseline model: the majority vote on a per-data point basis\n",
    "Our goal is now to convert the labels from our LFs into a single noise-aware probabilistic (or confidence-weighted) label per data point. A simple baseline for doing this is to take the majority vote on a per-data point basis"
   ]
  },
  {
   "cell_type": "code",
   "execution_count": 28,
   "metadata": {},
   "outputs": [],
   "source": [
    "majority_model = MajorityLabelVoter(cardinality=3, verbose=True) # cardinality = number of categories\n",
    "preds_train = majority_model.predict(L=L_train)"
   ]
  },
  {
   "cell_type": "code",
   "execution_count": 29,
   "metadata": {},
   "outputs": [
    {
     "data": {
      "text/plain": [
       "array([ 1, -1,  1, -1,  0,  1,  0,  1,  0,  0])"
      ]
     },
     "execution_count": 29,
     "metadata": {},
     "output_type": "execute_result"
    }
   ],
   "source": [
    "preds_train[0:10]"
   ]
  },
  {
   "cell_type": "markdown",
   "metadata": {},
   "source": [
    "### More sophisticated Snorkel LabelModel, combining outputs of the LFs\n",
    "\n",
    "This model will ultimately produce a single set of noise-aware training labels, which are probabilistic or confidence-weighted labels. We will then use these labels to train a classifier for our task. For more technical details of this overall approach, see Snorkel NeurIPS 2016 and AAAI 2019 papers.  \n",
    "\n",
    "Note that no gold labels are used during the training process. The only information we need is the label matrix, which contains the output of the LFs on our training set. The LabelModel is able to learn weights for the labeling functions using only the label matrix as input. We also specify the cardinality, or number of classes."
   ]
  },
  {
   "cell_type": "code",
   "execution_count": 30,
   "metadata": {},
   "outputs": [],
   "source": [
    "label_model = LabelModel(cardinality=3, verbose=True)\n",
    "label_model.fit(L_train=L_train, n_epochs=500, log_freq=100, seed=123)"
   ]
  },
  {
   "cell_type": "markdown",
   "metadata": {},
   "source": [
    "## Using Snorkel labeling function - with hand labeled data"
   ]
  },
  {
   "cell_type": "code",
   "execution_count": 31,
   "metadata": {},
   "outputs": [],
   "source": [
    "tweets = tweets_raw[['text_clean', 'tweet_class']]\n",
    "tweets = tweets.rename(columns={'text_clean': 'text'})"
   ]
  },
  {
   "cell_type": "code",
   "execution_count": 32,
   "metadata": {},
   "outputs": [
    {
     "data": {
      "text/html": [
       "<div>\n",
       "<style scoped>\n",
       "    .dataframe tbody tr th:only-of-type {\n",
       "        vertical-align: middle;\n",
       "    }\n",
       "\n",
       "    .dataframe tbody tr th {\n",
       "        vertical-align: top;\n",
       "    }\n",
       "\n",
       "    .dataframe thead th {\n",
       "        text-align: right;\n",
       "    }\n",
       "</style>\n",
       "<table border=\"1\" class=\"dataframe\">\n",
       "  <thead>\n",
       "    <tr style=\"text-align: right;\">\n",
       "      <th></th>\n",
       "      <th>tweet_class</th>\n",
       "      <th>counts</th>\n",
       "    </tr>\n",
       "  </thead>\n",
       "  <tbody>\n",
       "    <tr>\n",
       "      <th>0</th>\n",
       "      <td>city</td>\n",
       "      <td>14</td>\n",
       "    </tr>\n",
       "    <tr>\n",
       "      <th>1</th>\n",
       "      <td>game</td>\n",
       "      <td>30</td>\n",
       "    </tr>\n",
       "    <tr>\n",
       "      <th>2</th>\n",
       "      <td>other</td>\n",
       "      <td>562</td>\n",
       "    </tr>\n",
       "    <tr>\n",
       "      <th>3</th>\n",
       "      <td>university</td>\n",
       "      <td>394</td>\n",
       "    </tr>\n",
       "  </tbody>\n",
       "</table>\n",
       "</div>"
      ],
      "text/plain": [
       "  tweet_class  counts\n",
       "0        city      14\n",
       "1        game      30\n",
       "2       other     562\n",
       "3  university     394"
      ]
     },
     "execution_count": 32,
     "metadata": {},
     "output_type": "execute_result"
    }
   ],
   "source": [
    "tweets.groupby(['tweet_class']).size().reset_index(name='counts')"
   ]
  },
  {
   "cell_type": "code",
   "execution_count": 33,
   "metadata": {},
   "outputs": [
    {
     "data": {
      "text/html": [
       "<div>\n",
       "<style scoped>\n",
       "    .dataframe tbody tr th:only-of-type {\n",
       "        vertical-align: middle;\n",
       "    }\n",
       "\n",
       "    .dataframe tbody tr th {\n",
       "        vertical-align: top;\n",
       "    }\n",
       "\n",
       "    .dataframe thead th {\n",
       "        text-align: right;\n",
       "    }\n",
       "</style>\n",
       "<table border=\"1\" class=\"dataframe\">\n",
       "  <thead>\n",
       "    <tr style=\"text-align: right;\">\n",
       "      <th></th>\n",
       "      <th>text</th>\n",
       "      <th>tweet_class</th>\n",
       "    </tr>\n",
       "  </thead>\n",
       "  <tbody>\n",
       "    <tr>\n",
       "      <th>1086</th>\n",
       "      <td>I don't know where university will I go on college.</td>\n",
       "      <td>university</td>\n",
       "    </tr>\n",
       "    <tr>\n",
       "      <th>18383</th>\n",
       "      <td>RT @sofiaorden: Gaelic in modern Scotland - for iBooks - The Open University |... #Linguistics https://t.co/PlTn7Bb9M0 #Linguistics</td>\n",
       "      <td>university</td>\n",
       "    </tr>\n",
       "    <tr>\n",
       "      <th>63534</th>\n",
       "      <td>RT @DrNeelakshiGswm: Dumbo bhakt frm Assam don't even know tht Dr Mamoni R Goswami was Professor of Delhi University.  Unlike their part…</td>\n",
       "      <td>university</td>\n",
       "    </tr>\n",
       "    <tr>\n",
       "      <th>23310</th>\n",
       "      <td>The Grown Woman Tales III: For Boss Babes - Jul 23 #chicago https://t.co/469XmwbSnu</td>\n",
       "      <td>other</td>\n",
       "    </tr>\n",
       "    <tr>\n",
       "      <th>62171</th>\n",
       "      <td>Sean McGowan The Turnaround Guy! https://t.co/zQr6OYImDh #wsj #reuters #nasdaq #business #forbes #bloomberg #nytimes #cnn #foxnews #Chicago</td>\n",
       "      <td>other</td>\n",
       "    </tr>\n",
       "  </tbody>\n",
       "</table>\n",
       "</div>"
      ],
      "text/plain": [
       "                                                                                                                                              text  \\\n",
       "1086                                                                                           I don't know where university will I go on college.   \n",
       "18383          RT @sofiaorden: Gaelic in modern Scotland - for iBooks - The Open University |... #Linguistics https://t.co/PlTn7Bb9M0 #Linguistics   \n",
       "63534   RT @DrNeelakshiGswm: Dumbo bhakt frm Assam don't even know tht Dr Mamoni R Goswami was Professor of Delhi University.  Unlike their part…    \n",
       "23310                                                          The Grown Woman Tales III: For Boss Babes - Jul 23 #chicago https://t.co/469XmwbSnu   \n",
       "62171  Sean McGowan The Turnaround Guy! https://t.co/zQr6OYImDh #wsj #reuters #nasdaq #business #forbes #bloomberg #nytimes #cnn #foxnews #Chicago   \n",
       "\n",
       "      tweet_class  \n",
       "1086   university  \n",
       "18383  university  \n",
       "63534  university  \n",
       "23310       other  \n",
       "62171       other  "
      ]
     },
     "execution_count": 33,
     "metadata": {},
     "output_type": "execute_result"
    }
   ],
   "source": [
    "tweets.head(5)"
   ]
  },
  {
   "cell_type": "code",
   "execution_count": 34,
   "metadata": {},
   "outputs": [
    {
     "data": {
      "text/html": [
       "<div>\n",
       "<style scoped>\n",
       "    .dataframe tbody tr th:only-of-type {\n",
       "        vertical-align: middle;\n",
       "    }\n",
       "\n",
       "    .dataframe tbody tr th {\n",
       "        vertical-align: top;\n",
       "    }\n",
       "\n",
       "    .dataframe thead th {\n",
       "        text-align: right;\n",
       "    }\n",
       "</style>\n",
       "<table border=\"1\" class=\"dataframe\">\n",
       "  <thead>\n",
       "    <tr style=\"text-align: right;\">\n",
       "      <th></th>\n",
       "      <th>label</th>\n",
       "      <th>counts</th>\n",
       "    </tr>\n",
       "  </thead>\n",
       "  <tbody>\n",
       "    <tr>\n",
       "      <th>0</th>\n",
       "      <td>0</td>\n",
       "      <td>14</td>\n",
       "    </tr>\n",
       "    <tr>\n",
       "      <th>1</th>\n",
       "      <td>1</td>\n",
       "      <td>394</td>\n",
       "    </tr>\n",
       "    <tr>\n",
       "      <th>2</th>\n",
       "      <td>2</td>\n",
       "      <td>592</td>\n",
       "    </tr>\n",
       "  </tbody>\n",
       "</table>\n",
       "</div>"
      ],
      "text/plain": [
       "   label  counts\n",
       "0      0      14\n",
       "1      1     394\n",
       "2      2     592"
      ]
     },
     "execution_count": 34,
     "metadata": {},
     "output_type": "execute_result"
    }
   ],
   "source": [
    "tweets['label'] = tweets.tweet_class.replace(['city', 'game', 'other', 'university'], [0, 2, 2, 1])\n",
    "tweets.groupby(['label']).size().reset_index(name='counts')"
   ]
  },
  {
   "cell_type": "markdown",
   "metadata": {},
   "source": [
    "#### Split the data into train / test"
   ]
  },
  {
   "cell_type": "code",
   "execution_count": 35,
   "metadata": {},
   "outputs": [
    {
     "name": "stdout",
     "output_type": "stream",
     "text": [
      "Train Size: (800, 3)\n",
      "Test Size: (200, 3)\n"
     ]
    }
   ],
   "source": [
    "df_train, df_test = train_test_split(tweets, test_size=0.2, random_state=100)\n",
    "\n",
    "# Create label vectors\n",
    "Y_test = df_test.label.values\n",
    "\n",
    "print (\"Train Size:\", df_train.shape)\n",
    "print (\"Test Size:\", df_test.shape)"
   ]
  },
  {
   "cell_type": "code",
   "execution_count": 36,
   "metadata": {},
   "outputs": [
    {
     "name": "stderr",
     "output_type": "stream",
     "text": [
      "/opt/conda/lib/python3.7/site-packages/tqdm/std.py:666: FutureWarning: The Panel class is removed from pandas. Accessing it from the top-level namespace will also be removed in the next version\n",
      "  from pandas import Panel\n",
      "100%|██████████| 800/800 [00:09<00:00, 80.04it/s]\n",
      "100%|██████████| 200/200 [00:02<00:00, 87.78it/s]\n"
     ]
    },
    {
     "data": {
      "text/html": [
       "<div>\n",
       "<style scoped>\n",
       "    .dataframe tbody tr th:only-of-type {\n",
       "        vertical-align: middle;\n",
       "    }\n",
       "\n",
       "    .dataframe tbody tr th {\n",
       "        vertical-align: top;\n",
       "    }\n",
       "\n",
       "    .dataframe thead th {\n",
       "        text-align: right;\n",
       "    }\n",
       "</style>\n",
       "<table border=\"1\" class=\"dataframe\">\n",
       "  <thead>\n",
       "    <tr style=\"text-align: right;\">\n",
       "      <th></th>\n",
       "      <th>j</th>\n",
       "      <th>Polarity</th>\n",
       "      <th>Coverage</th>\n",
       "      <th>Overlaps</th>\n",
       "      <th>Conflicts</th>\n",
       "    </tr>\n",
       "  </thead>\n",
       "  <tbody>\n",
       "    <tr>\n",
       "      <th>university</th>\n",
       "      <td>0</td>\n",
       "      <td>[1]</td>\n",
       "      <td>0.43000</td>\n",
       "      <td>0.12625</td>\n",
       "      <td>0.07500</td>\n",
       "    </tr>\n",
       "    <tr>\n",
       "      <th>school</th>\n",
       "      <td>1</td>\n",
       "      <td>[1]</td>\n",
       "      <td>0.03875</td>\n",
       "      <td>0.02875</td>\n",
       "      <td>0.01625</td>\n",
       "    </tr>\n",
       "    <tr>\n",
       "      <th>college</th>\n",
       "      <td>2</td>\n",
       "      <td>[1]</td>\n",
       "      <td>0.05250</td>\n",
       "      <td>0.04250</td>\n",
       "      <td>0.00250</td>\n",
       "    </tr>\n",
       "    <tr>\n",
       "      <th>city</th>\n",
       "      <td>3</td>\n",
       "      <td>[0]</td>\n",
       "      <td>0.03625</td>\n",
       "      <td>0.03375</td>\n",
       "      <td>0.02375</td>\n",
       "    </tr>\n",
       "    <tr>\n",
       "      <th>hospital</th>\n",
       "      <td>4</td>\n",
       "      <td>[0]</td>\n",
       "      <td>0.00500</td>\n",
       "      <td>0.00375</td>\n",
       "      <td>0.00250</td>\n",
       "    </tr>\n",
       "    <tr>\n",
       "      <th>short_comment</th>\n",
       "      <td>5</td>\n",
       "      <td>[2]</td>\n",
       "      <td>0.02750</td>\n",
       "      <td>0.00375</td>\n",
       "      <td>0.00375</td>\n",
       "    </tr>\n",
       "    <tr>\n",
       "      <th>has_gpe_nlp</th>\n",
       "      <td>6</td>\n",
       "      <td>[0]</td>\n",
       "      <td>0.32625</td>\n",
       "      <td>0.07500</td>\n",
       "      <td>0.06375</td>\n",
       "    </tr>\n",
       "  </tbody>\n",
       "</table>\n",
       "</div>"
      ],
      "text/plain": [
       "               j Polarity  Coverage  Overlaps  Conflicts\n",
       "university     0      [1]   0.43000   0.12625    0.07500\n",
       "school         1      [1]   0.03875   0.02875    0.01625\n",
       "college        2      [1]   0.05250   0.04250    0.00250\n",
       "city           3      [0]   0.03625   0.03375    0.02375\n",
       "hospital       4      [0]   0.00500   0.00375    0.00250\n",
       "short_comment  5      [2]   0.02750   0.00375    0.00375\n",
       "has_gpe_nlp    6      [0]   0.32625   0.07500    0.06375"
      ]
     },
     "execution_count": 36,
     "metadata": {},
     "output_type": "execute_result"
    }
   ],
   "source": [
    "lfs = [\n",
    "    university, \n",
    "    school, \n",
    "    college, \n",
    "    city, \n",
    "    hospital,\n",
    "    short_comment,\n",
    "    has_gpe_nlp\n",
    "]\n",
    "\n",
    "applier = PandasLFApplier(lfs=lfs)\n",
    "L_train = applier.apply(df=df_train)\n",
    "L_test = applier.apply(df=df_test)\n",
    "\n",
    "LFAnalysis(L_train, lfs).lf_summary()"
   ]
  },
  {
   "cell_type": "markdown",
   "metadata": {},
   "source": [
    "#### Applying Majority Model"
   ]
  },
  {
   "cell_type": "code",
   "execution_count": 37,
   "metadata": {},
   "outputs": [],
   "source": [
    "majority_model = MajorityLabelVoter(cardinality=3, verbose=True) # cardinality = number of categories\n",
    "preds_train = majority_model.predict(L=L_train)"
   ]
  },
  {
   "cell_type": "markdown",
   "metadata": {},
   "source": [
    "#### Applying Snorkel LabelModel"
   ]
  },
  {
   "cell_type": "code",
   "execution_count": 38,
   "metadata": {},
   "outputs": [],
   "source": [
    "label_model = LabelModel(cardinality=3, verbose=True)\n",
    "label_model.fit(L_train=L_train, n_epochs=500, log_freq=100, seed=123)"
   ]
  },
  {
   "cell_type": "markdown",
   "metadata": {},
   "source": [
    "#### Comparing model performance accuracy on labeled data  \n",
    "These tweets have not been properly labeled, so the accuracy will not be really indicative of the model performance"
   ]
  },
  {
   "cell_type": "code",
   "execution_count": 39,
   "metadata": {},
   "outputs": [
    {
     "name": "stdout",
     "output_type": "stream",
     "text": [
      "Majority Vote Accuracy:   51.5%\n",
      "Label Model Accuracy:     50.5%\n"
     ]
    }
   ],
   "source": [
    "majority_acc = majority_model.score(L=L_test, Y=Y_test, tie_break_policy=\"random\")[\n",
    "    \"accuracy\"\n",
    "]\n",
    "print(f\"{'Majority Vote Accuracy:':<25} {majority_acc * 100:.1f}%\")\n",
    "\n",
    "label_model_acc = label_model.score(L=L_test, Y=Y_test, tie_break_policy=\"random\")[\n",
    "    \"accuracy\"\n",
    "]\n",
    "print(f\"{'Label Model Accuracy:':<25} {label_model_acc * 100:.1f}%\")\n"
   ]
  },
  {
   "cell_type": "markdown",
   "metadata": {},
   "source": [
    "### Filtering out training data points which did not recieve a label from any LF\n",
    "These data points contain no signal."
   ]
  },
  {
   "cell_type": "code",
   "execution_count": 40,
   "metadata": {},
   "outputs": [],
   "source": [
    "probs_train = label_model.predict_proba(L_train)"
   ]
  },
  {
   "cell_type": "code",
   "execution_count": 41,
   "metadata": {},
   "outputs": [],
   "source": [
    "df_train_filtered, probs_train_filtered = filter_unlabeled_dataframe(\n",
    "    X=df_train, y=probs_train, L=L_train\n",
    ")"
   ]
  },
  {
   "cell_type": "code",
   "execution_count": 42,
   "metadata": {},
   "outputs": [
    {
     "data": {
      "text/plain": [
       "(605, 3)"
      ]
     },
     "execution_count": 42,
     "metadata": {},
     "output_type": "execute_result"
    }
   ],
   "source": [
    "df_train_filtered.shape"
   ]
  },
  {
   "cell_type": "markdown",
   "metadata": {},
   "source": [
    "## Training a Classifier on Snorkel Labels\n",
    "The output of the Snorkel LabelModel is just a set of labels which can be used with most popular libraries for performing supervised classification for NLP (i.e. Scikit-Learn, TensorFlow, Keras, PyTorch, etc.)"
   ]
  },
  {
   "cell_type": "markdown",
   "metadata": {},
   "source": [
    "#### Prepare and vectorize the features"
   ]
  },
  {
   "cell_type": "code",
   "execution_count": 43,
   "metadata": {},
   "outputs": [],
   "source": [
    "vectorizer = CountVectorizer(ngram_range=(1, 5))\n",
    "X_train = vectorizer.fit_transform(df_train_filtered.text.tolist())\n",
    "X_test = vectorizer.transform(df_test.text.tolist())"
   ]
  },
  {
   "cell_type": "markdown",
   "metadata": {},
   "source": [
    "If we want to use a library or model that doesn’t accept probabilistic labels (such as Scikit-Learn), we can instead replace each label distribution with the label of the class that has the maximum probability. This can easily be done using the probs_to_preds helper method. Please note: this transformation is lossy, as we no longer have values for our confidence in each label."
   ]
  },
  {
   "cell_type": "code",
   "execution_count": 44,
   "metadata": {},
   "outputs": [],
   "source": [
    "preds_train_filtered = probs_to_preds(probs=probs_train_filtered)"
   ]
  },
  {
   "cell_type": "markdown",
   "metadata": {},
   "source": [
    "### Naive Bayes Model"
   ]
  },
  {
   "cell_type": "code",
   "execution_count": 45,
   "metadata": {},
   "outputs": [],
   "source": [
    "# instantiate and train Multinomial Naive Bayes model\n",
    "nb = MultinomialNB()\n",
    "nb.fit(X=X_train, y=preds_train_filtered)\n",
    "\n",
    "# make class predictions for X_test\n",
    "y_pred_class = nb.predict(X_test)"
   ]
  },
  {
   "cell_type": "code",
   "execution_count": 46,
   "metadata": {},
   "outputs": [
    {
     "name": "stdout",
     "output_type": "stream",
     "text": [
      "Test Accuracy: 38.0%\n"
     ]
    }
   ],
   "source": [
    "print(f\"Test Accuracy: {metrics.accuracy_score(Y_test, y_pred_class) * 100:.1f}%\")"
   ]
  },
  {
   "cell_type": "code",
   "execution_count": 47,
   "metadata": {},
   "outputs": [
    {
     "name": "stdout",
     "output_type": "stream",
     "text": [
      "              precision    recall  f1-score   support\n",
      "\n",
      "           0       0.07      1.00      0.13         6\n",
      "           1       0.61      0.95      0.74        74\n",
      "           2       0.00      0.00      0.00       120\n",
      "\n",
      "    accuracy                           0.38       200\n",
      "   macro avg       0.23      0.65      0.29       200\n",
      "weighted avg       0.23      0.38      0.28       200\n",
      "\n"
     ]
    },
    {
     "name": "stderr",
     "output_type": "stream",
     "text": [
      "/opt/conda/lib/python3.7/site-packages/sklearn/metrics/classification.py:1437: UndefinedMetricWarning: Precision and F-score are ill-defined and being set to 0.0 in labels with no predicted samples.\n",
      "  'precision', 'predicted', average, warn_for)\n"
     ]
    }
   ],
   "source": [
    "# calculate precision and recall\n",
    "print(classification_report(Y_test, y_pred_class))"
   ]
  },
  {
   "cell_type": "markdown",
   "metadata": {},
   "source": [
    "### Logistic Regression Model"
   ]
  },
  {
   "cell_type": "code",
   "execution_count": 48,
   "metadata": {},
   "outputs": [
    {
     "name": "stderr",
     "output_type": "stream",
     "text": [
      "/opt/conda/lib/python3.7/site-packages/sklearn/linear_model/logistic.py:469: FutureWarning: Default multi_class will be changed to 'auto' in 0.22. Specify the multi_class option to silence this warning.\n",
      "  \"this warning.\", FutureWarning)\n"
     ]
    }
   ],
   "source": [
    "# instantiate and train a logistic regression model\n",
    "logreg = LogisticRegression(solver = 'lbfgs')\n",
    "logreg.fit(X_train, y=preds_train_filtered)\n",
    "\n",
    "# make class predictions for X_test\n",
    "y_pred_class = logreg.predict(X_test)"
   ]
  },
  {
   "cell_type": "code",
   "execution_count": 49,
   "metadata": {},
   "outputs": [
    {
     "name": "stdout",
     "output_type": "stream",
     "text": [
      "Test Accuracy: 41.5%\n"
     ]
    }
   ],
   "source": [
    "# calculate accuracy of class predictions\n",
    "print(f\"Test Accuracy: {metrics.accuracy_score(Y_test, y_pred_class) * 100:.1f}%\")"
   ]
  },
  {
   "cell_type": "code",
   "execution_count": 50,
   "metadata": {},
   "outputs": [
    {
     "name": "stdout",
     "output_type": "stream",
     "text": [
      "              precision    recall  f1-score   support\n",
      "\n",
      "           0       0.06      1.00      0.11         6\n",
      "           1       0.80      1.00      0.89        74\n",
      "           2       1.00      0.03      0.05       120\n",
      "\n",
      "    accuracy                           0.41       200\n",
      "   macro avg       0.62      0.67      0.35       200\n",
      "weighted avg       0.90      0.41      0.36       200\n",
      "\n"
     ]
    }
   ],
   "source": [
    "# calculate precision and recall\n",
    "print(classification_report(Y_test, y_pred_class))"
   ]
  },
  {
   "cell_type": "code",
   "execution_count": null,
   "metadata": {},
   "outputs": [],
   "source": []
  },
  {
   "cell_type": "code",
   "execution_count": null,
   "metadata": {},
   "outputs": [],
   "source": []
  },
  {
   "cell_type": "code",
   "execution_count": null,
   "metadata": {},
   "outputs": [],
   "source": []
  },
  {
   "cell_type": "code",
   "execution_count": 51,
   "metadata": {},
   "outputs": [
    {
     "data": {
      "text/plain": [
       "'Thu, 02 February 2023 20:37:02'"
      ]
     },
     "execution_count": 51,
     "metadata": {},
     "output_type": "execute_result"
    }
   ],
   "source": [
    "import datetime\n",
    "import pytz\n",
    "\n",
    "datetime.datetime.now(pytz.timezone('US/Central')).strftime(\"%a, %d %B %Y %H:%M:%S\")"
   ]
  }
 ],
 "metadata": {
  "kernelspec": {
   "display_name": "Python 3 (ipykernel) (Local)",
   "language": "python",
   "name": "local-python3"
  },
  "language_info": {
   "codemirror_mode": {
    "name": "ipython",
    "version": 3
   },
   "file_extension": ".py",
   "mimetype": "text/x-python",
   "name": "python",
   "nbconvert_exporter": "python",
   "pygments_lexer": "ipython3",
   "version": "3.7.12"
  }
 },
 "nbformat": 4,
 "nbformat_minor": 4
}
