{
  "cells": [
    {
      "attachments": {},
      "cell_type": "markdown",
      "metadata": {
        "id": "f3ii6sfEPYR1"
      },
      "source": [
        "## PART A: Recurrent Neural Network & Classification: \n",
        "\n"
      ]
    },
    {
      "attachments": {},
      "cell_type": "markdown",
      "metadata": {
        "id": "yfKP7h8FZOnU"
      },
      "source": [
        "### 1) Data Processing"
      ]
    },
    {
      "attachments": {},
      "cell_type": "markdown",
      "metadata": {
        "id": "nVoCa6WwYyuA"
      },
      "source": [
        "a) Import the following libraries: "
      ]
    },
    {
      "cell_type": "code",
      "execution_count": 1,
      "metadata": {
        "id": "IoYU0JGFU9tx"
      },
      "outputs": [],
      "source": [
        "import sys\n",
        "import os\n",
        "import json\n",
        "import optparse\n",
        "\n",
        "import pandas as pd\n",
        "import numpy as np\n",
        "import tensorflow as tf\n",
        "\n",
        "import keras\n",
        "from keras.callbacks import TensorBoard\n",
        "from keras.models import Sequential, load_model, Model\n",
        "from keras.layers import LSTM, Dense, Dropout, Embedding, Input, Bidirectional\n",
        "from tensorflow.keras.preprocessing import sequence\n",
        "from keras.preprocessing.text import Tokenizer\n",
        "from collections import OrderedDict\n",
        "\n",
        "import matplotlib.pyplot as plt\n",
        "from typing import Tuple\n"
      ]
    },
    {
      "attachments": {},
      "cell_type": "markdown",
      "metadata": {
        "id": "muESgvMHYwDl"
      },
      "source": [
        "b) We will read the code in slightly differently than before: "
      ]
    },
    {
      "cell_type": "code",
      "execution_count": 2,
      "metadata": {
        "id": "6un0jpktVSDd"
      },
      "outputs": [],
      "source": [
        "dataframe = pd.read_csv(\"../data/dev-access.csv\", engine='python', quotechar='|', header=None)"
      ]
    },
    {
      "attachments": {},
      "cell_type": "markdown",
      "metadata": {
        "id": "KSMI609AY4Iy"
      },
      "source": [
        "c) We then need to convert to a numpy.ndarray type: "
      ]
    },
    {
      "cell_type": "code",
      "execution_count": 3,
      "metadata": {
        "id": "bEG2louWWfHG"
      },
      "outputs": [],
      "source": [
        "dataset = dataframe.values"
      ]
    },
    {
      "attachments": {},
      "cell_type": "markdown",
      "metadata": {
        "id": "hSw2tbT3Y7lJ"
      },
      "source": [
        "d) Check the shape of the data set - it should be (26773, 2). Spend some time looking at the data. \n",
        "\n",
        "e) Store all rows and the 0th index as the feature data: "
      ]
    },
    {
      "cell_type": "code",
      "execution_count": 4,
      "metadata": {
        "id": "WVNj4ExEXA__"
      },
      "outputs": [],
      "source": [
        "X = dataset[:,0]"
      ]
    },
    {
      "attachments": {},
      "cell_type": "markdown",
      "metadata": {
        "id": "UjVfWvYfY-dv"
      },
      "source": [
        "f) Store all rows and index 1 as the target variable: "
      ]
    },
    {
      "cell_type": "code",
      "execution_count": 5,
      "metadata": {
        "id": "cK9QSYuNY9uF"
      },
      "outputs": [],
      "source": [
        "Y = dataset[:,1]"
      ]
    },
    {
      "attachments": {},
      "cell_type": "markdown",
      "metadata": {
        "id": "VQPSN0-TZCxf"
      },
      "source": [
        "g) In the next step, we will clean up the predictors. This includes removing features that are not valuable, such as timestamp and source. "
      ]
    },
    {
      "cell_type": "code",
      "execution_count": 6,
      "metadata": {
        "id": "DoceKpAbXGX8"
      },
      "outputs": [],
      "source": [
        "for index, item in enumerate(X):\n",
        "    # Quick hack to space out json elements\n",
        "    reqJson = json.loads(item, object_pairs_hook=OrderedDict)\n",
        "    del reqJson['timestamp']\n",
        "    del reqJson['headers']\n",
        "    del reqJson['source']\n",
        "    del reqJson['route']\n",
        "    del reqJson['responsePayload']\n",
        "    X[index] = json.dumps(reqJson, separators=(',', ':'))"
      ]
    },
    {
      "attachments": {},
      "cell_type": "markdown",
      "metadata": {
        "id": "DnyjH89uZFHA"
      },
      "source": [
        "h) We next will tokenize our data, which just means vectorizing our text. Given the data we will tokenize every character (thus char_level = True)"
      ]
    },
    {
      "cell_type": "code",
      "execution_count": 7,
      "metadata": {
        "id": "4al5vvY_XUJS"
      },
      "outputs": [],
      "source": [
        "tokenizer = Tokenizer(filters='\\t\\n', char_level=True)\n",
        "tokenizer.fit_on_texts(X)\n",
        "\n",
        "# we will need this later\n",
        "num_words = len(tokenizer.word_index)+1\n",
        "X = tokenizer.texts_to_sequences(X)"
      ]
    },
    {
      "attachments": {},
      "cell_type": "markdown",
      "metadata": {
        "id": "WNaskM5TZHx1"
      },
      "source": [
        "i) Need to pad our data as each observation has a different length"
      ]
    },
    {
      "cell_type": "code",
      "execution_count": 8,
      "metadata": {
        "id": "17BrG3-sXcYe"
      },
      "outputs": [],
      "source": [
        "max_log_length = 1024\n",
        "X_processed = sequence.pad_sequences(X, maxlen=max_log_length)"
      ]
    },
    {
      "attachments": {},
      "cell_type": "markdown",
      "metadata": {
        "id": "F3yXOOsNYpdu"
      },
      "source": [
        "j) Create your train set to be 75% of the data and your test set to be 25%"
      ]
    },
    {
      "cell_type": "code",
      "execution_count": 9,
      "metadata": {
        "colab": {
          "base_uri": "https://localhost:8080/"
        },
        "id": "evRwvDIUXmUa",
        "outputId": "4b4d91d2-061f-4e64-b1c8-96dc104f2966"
      },
      "outputs": [
        {
          "name": "stdout",
          "output_type": "stream",
          "text": [
            "X_train shape: (20079, 1024)\n",
            "Y_train shape: (20079,)\n",
            "X_test shape: (6694, 1024)\n",
            "Y_test shape: (6694,)\n"
          ]
        }
      ],
      "source": [
        "from sklearn.model_selection import train_test_split\n",
        "\n",
        "# Split data into train and test sets\n",
        "X_train, X_test, Y_train, Y_test = train_test_split(X_processed, Y, test_size=0.25, random_state=42)\n",
        "\n",
        "# Check the shape of the train and test sets\n",
        "print(\"X_train shape:\", X_train.shape)\n",
        "print(\"Y_train shape:\", Y_train.shape)\n",
        "print(\"X_test shape:\", X_test.shape)\n",
        "print(\"Y_test shape:\", Y_test.shape)\n"
      ]
    },
    {
      "attachments": {},
      "cell_type": "markdown",
      "metadata": {
        "id": "l7nfzDKSZRy9"
      },
      "source": [
        "### 2) Model 1 - RNN"
      ]
    },
    {
      "attachments": {},
      "cell_type": "markdown",
      "metadata": {
        "id": "W35ZQoRTZZhR"
      },
      "source": [
        "a) Start by creating an instance of a Sequential model"
      ]
    },
    {
      "cell_type": "code",
      "execution_count": 10,
      "metadata": {
        "id": "mf7R5uVGYook"
      },
      "outputs": [],
      "source": [
        "model = Sequential()"
      ]
    },
    {
      "attachments": {},
      "cell_type": "markdown",
      "metadata": {
        "id": "cpU1s9EJZs30"
      },
      "source": [
        "b) From there, add an Embedding layer,\n",
        "\n",
        "Params:\n",
        "- input_dim = num_words \n",
        "- output_dim = 32\n",
        "- input_length = max_log_length \n",
        "- Keep all other variables as the defaults "
      ]
    },
    {
      "cell_type": "code",
      "execution_count": 11,
      "metadata": {
        "id": "bjYhaU0GZnjW"
      },
      "outputs": [],
      "source": [
        "model.add(Embedding(input_dim=num_words, output_dim=32, input_length=max_log_length))"
      ]
    },
    {
      "attachments": {},
      "cell_type": "markdown",
      "metadata": {
        "id": "V9gxrW4ZZ1sE"
      },
      "source": [
        "c) Add a SimpleRNN layer\n",
        "\n",
        "Params:\n",
        "- units = 32\n",
        "- activation = 'relu'"
      ]
    },
    {
      "cell_type": "code",
      "execution_count": 12,
      "metadata": {
        "id": "OVG9OVQxZySt"
      },
      "outputs": [],
      "source": [
        "from keras.layers import SimpleRNN\n",
        "\n",
        "model.add(SimpleRNN(units=32, activation='relu'))"
      ]
    },
    {
      "attachments": {},
      "cell_type": "markdown",
      "metadata": {
        "id": "oIfifaaEZ9XP"
      },
      "source": [
        "d) Finally, we will add a Dense layer\n",
        "\n",
        "Params:\n",
        "- units = 1 (this will be our output)\n",
        "- activation --> you can choose to use either relu or sigmoid. "
      ]
    },
    {
      "cell_type": "code",
      "execution_count": 13,
      "metadata": {
        "id": "oq3GNvIFZ5el"
      },
      "outputs": [],
      "source": [
        "model.add(Dense(units=1, activation='sigmoid'))"
      ]
    },
    {
      "attachments": {},
      "cell_type": "markdown",
      "metadata": {
        "id": "GfvVi075aGZY"
      },
      "source": [
        "e) Compile model using the .compile() method\n",
        "\n",
        "Params:\n",
        "- loss = binary_crossentropy\n",
        "- optimizer = adam\n",
        "- metrics = accuracy"
      ]
    },
    {
      "cell_type": "code",
      "execution_count": 14,
      "metadata": {
        "id": "MTbrExSVaC6d"
      },
      "outputs": [],
      "source": [
        "model.compile(loss='binary_crossentropy', optimizer='adam', metrics=['accuracy'])"
      ]
    },
    {
      "attachments": {},
      "cell_type": "markdown",
      "metadata": {
        "id": "JlKJEwC0aMCV"
      },
      "source": [
        "f) Print the model summary"
      ]
    },
    {
      "cell_type": "code",
      "execution_count": 15,
      "metadata": {
        "colab": {
          "base_uri": "https://localhost:8080/"
        },
        "id": "lTbMT5zsaJCU",
        "outputId": "09e817d2-4de6-414a-974d-cf4748c09674"
      },
      "outputs": [
        {
          "name": "stdout",
          "output_type": "stream",
          "text": [
            "Model: \"sequential\"\n",
            "_________________________________________________________________\n",
            " Layer (type)                Output Shape              Param #   \n",
            "=================================================================\n",
            " embedding (Embedding)       (None, 1024, 32)          2016      \n",
            "                                                                 \n",
            " simple_rnn (SimpleRNN)      (None, 32)                2080      \n",
            "                                                                 \n",
            " dense (Dense)               (None, 1)                 33        \n",
            "                                                                 \n",
            "=================================================================\n",
            "Total params: 4,129\n",
            "Trainable params: 4,129\n",
            "Non-trainable params: 0\n",
            "_________________________________________________________________\n"
          ]
        }
      ],
      "source": [
        "model.summary()"
      ]
    },
    {
      "attachments": {},
      "cell_type": "markdown",
      "metadata": {
        "id": "0ppxCmBdaQdH"
      },
      "source": [
        "g) Use the .fit() method to fit the model on the train data. Use a validation split of 0.25, epochs=3 and batch size = 128."
      ]
    },
    {
      "cell_type": "code",
      "execution_count": 16,
      "metadata": {
        "id": "vZf3AsZXamyD"
      },
      "outputs": [],
      "source": [
        "# convert the NumPy array to a tensor\n",
        "Y_train_tensor = tf.convert_to_tensor(Y_train, dtype=tf.int32)\n"
      ]
    },
    {
      "cell_type": "code",
      "execution_count": 17,
      "metadata": {
        "colab": {
          "base_uri": "https://localhost:8080/"
        },
        "id": "bG9_XmRPaOa2",
        "outputId": "152eda0a-139f-4cd9-cda1-2d217c88fffc"
      },
      "outputs": [
        {
          "name": "stdout",
          "output_type": "stream",
          "text": [
            "Epoch 1/3\n",
            "118/118 [==============================] - 86s 713ms/step - loss: 0.5980 - accuracy: 0.6681 - val_loss: 0.6356 - val_accuracy: 0.6361\n",
            "Epoch 2/3\n",
            "118/118 [==============================] - 85s 721ms/step - loss: 0.5990 - accuracy: 0.6471 - val_loss: 0.5768 - val_accuracy: 0.6590\n",
            "Epoch 3/3\n",
            "118/118 [==============================] - 85s 720ms/step - loss: 0.3093 - accuracy: 0.8716 - val_loss: 0.1507 - val_accuracy: 0.9600\n"
          ]
        },
        {
          "data": {
            "text/plain": [
              "<keras.callbacks.History at 0x238b311ebf0>"
            ]
          },
          "execution_count": 17,
          "metadata": {},
          "output_type": "execute_result"
        }
      ],
      "source": [
        "model.fit(X_train, Y_train_tensor, validation_split=0.25, epochs=3, batch_size=128)"
      ]
    },
    {
      "attachments": {},
      "cell_type": "markdown",
      "metadata": {
        "id": "Uu3ii0Guae0J"
      },
      "source": [
        "h) Use the .evaluate() method to get the loss value & the accuracy value on the test data. Use a batch size of 128 again."
      ]
    },
    {
      "cell_type": "code",
      "execution_count": 18,
      "metadata": {
        "colab": {
          "base_uri": "https://localhost:8080/"
        },
        "id": "ia6N6dMjaU6V",
        "outputId": "2f7a7577-1068-46c5-afe1-0f9f36727886"
      },
      "outputs": [
        {
          "name": "stdout",
          "output_type": "stream",
          "text": [
            "53/53 [==============================] - 5s 92ms/step - loss: 0.1451 - accuracy: 0.9633\n",
            "Test loss: 14.51%\n",
            "Test accuracy: 96.33%\n"
          ]
        }
      ],
      "source": [
        "Y_test_tensor = tf.convert_to_tensor(Y_test, dtype=tf.int32)\n",
        "\n",
        "loss, accuracy = model.evaluate(X_test, Y_test_tensor, batch_size=128)\n",
        "print(f\"Test loss: {round(loss*100,2)}%\")\n",
        "print(f\"Test accuracy: {round(accuracy*100,2)}%\")"
      ]
    },
    {
      "attachments": {},
      "cell_type": "markdown",
      "metadata": {
        "id": "FmCCk7kfc8d-"
      },
      "source": [
        "### 3) Model 2 - LSTM + Dropout Layers"
      ]
    },
    {
      "attachments": {},
      "cell_type": "markdown",
      "metadata": {
        "id": "McQRU3FBeOfm"
      },
      "source": [
        "a) This RNN needs to have the following layers (add in this order):\n",
        "\n",
        "- Embedding Layer (use same params as before)\n",
        "- LSTM Layer (units = 64, recurrent_dropout = 0.5)\n",
        "- Dropout Layer - use a value of 0.5\n",
        "- Dense Layer - (use same params as before)\n"
      ]
    },
    {
      "cell_type": "code",
      "execution_count": 19,
      "metadata": {
        "id": "fUYfivt5cuRy"
      },
      "outputs": [
        {
          "name": "stdout",
          "output_type": "stream",
          "text": [
            "WARNING:tensorflow:Layer lstm will not use cuDNN kernels since it doesn't meet the criteria. It will use a generic GPU kernel as fallback when running on GPU.\n"
          ]
        }
      ],
      "source": [
        "model2 = Sequential()\n",
        "model2.add(Embedding(input_dim=num_words, output_dim=32, input_length=max_log_length))\n",
        "model2.add(LSTM(units=64, recurrent_dropout=0.5))\n",
        "model2.add(Dropout(0.5))\n",
        "model2.add(Dense(units=1, activation='sigmoid'))"
      ]
    },
    {
      "attachments": {},
      "cell_type": "markdown",
      "metadata": {
        "id": "B-_7EBnHeoyF"
      },
      "source": [
        "b) Compile model using the .compile() method:\n",
        "\n",
        "Params:\n",
        "- loss = binary_crossentropy\n",
        "- optimizer = adam\n",
        "- metrics = accuracy"
      ]
    },
    {
      "cell_type": "code",
      "execution_count": 20,
      "metadata": {
        "id": "twi9wxL0etRe"
      },
      "outputs": [],
      "source": [
        "model2.compile(loss='binary_crossentropy', optimizer='adam', metrics=['accuracy'])"
      ]
    },
    {
      "attachments": {},
      "cell_type": "markdown",
      "metadata": {
        "id": "fi0nCW0Le0dH"
      },
      "source": [
        "c) Print the model summary"
      ]
    },
    {
      "cell_type": "code",
      "execution_count": 21,
      "metadata": {
        "colab": {
          "base_uri": "https://localhost:8080/"
        },
        "id": "CQAargpaeu6r",
        "outputId": "ec274ac1-4d2d-4a4c-c386-1992f781ab4a"
      },
      "outputs": [
        {
          "name": "stdout",
          "output_type": "stream",
          "text": [
            "Model: \"sequential_1\"\n",
            "_________________________________________________________________\n",
            " Layer (type)                Output Shape              Param #   \n",
            "=================================================================\n",
            " embedding_1 (Embedding)     (None, 1024, 32)          2016      \n",
            "                                                                 \n",
            " lstm (LSTM)                 (None, 64)                24832     \n",
            "                                                                 \n",
            " dropout (Dropout)           (None, 64)                0         \n",
            "                                                                 \n",
            " dense_1 (Dense)             (None, 1)                 65        \n",
            "                                                                 \n",
            "=================================================================\n",
            "Total params: 26,913\n",
            "Trainable params: 26,913\n",
            "Non-trainable params: 0\n",
            "_________________________________________________________________\n",
            "None\n"
          ]
        }
      ],
      "source": [
        "print(model2.summary())"
      ]
    },
    {
      "attachments": {},
      "cell_type": "markdown",
      "metadata": {
        "id": "pdOpSwibe9GT"
      },
      "source": [
        "d) Use the .fit() method to fit the model on the train data. Use a validation split of 0.25, epochs=3 and batch size = 128."
      ]
    },
    {
      "cell_type": "code",
      "execution_count": 22,
      "metadata": {
        "colab": {
          "base_uri": "https://localhost:8080/"
        },
        "id": "Qy3u8Jk8ewVk",
        "outputId": "d419b022-ac77-433c-f277-3561f979d4df"
      },
      "outputs": [
        {
          "name": "stdout",
          "output_type": "stream",
          "text": [
            "Epoch 1/3\n",
            "118/118 [==============================] - 369s 3s/step - loss: 0.5037 - accuracy: 0.7296 - val_loss: 0.1623 - val_accuracy: 0.9486\n",
            "Epoch 2/3\n",
            "118/118 [==============================] - 367s 3s/step - loss: 0.1261 - accuracy: 0.9659 - val_loss: 0.0981 - val_accuracy: 0.9653\n",
            "Epoch 3/3\n",
            "118/118 [==============================] - 367s 3s/step - loss: 0.0900 - accuracy: 0.9758 - val_loss: 0.0830 - val_accuracy: 0.9817\n"
          ]
        },
        {
          "data": {
            "text/plain": [
              "<keras.callbacks.History at 0x23abe0bfc10>"
            ]
          },
          "execution_count": 22,
          "metadata": {},
          "output_type": "execute_result"
        }
      ],
      "source": [
        "model2.fit(X_train, Y_train_tensor, validation_split=0.25, epochs=3, batch_size=128)"
      ]
    },
    {
      "attachments": {},
      "cell_type": "markdown",
      "metadata": {
        "id": "nb-5wSRle_V-"
      },
      "source": [
        "e) Use the .evaluate() method to get the loss value & the accuracy value on the test data. Use a batch size of 128 again."
      ]
    },
    {
      "cell_type": "code",
      "execution_count": 23,
      "metadata": {
        "colab": {
          "base_uri": "https://localhost:8080/"
        },
        "id": "SZ1z-EPYex40",
        "outputId": "d000b85c-4f10-4b8a-8304-460f6a40e7e3"
      },
      "outputs": [
        {
          "name": "stdout",
          "output_type": "stream",
          "text": [
            "53/53 [==============================] - 18s 337ms/step - loss: 0.0725 - accuracy: 0.9839\n",
            "Test loss: 7.25%\n",
            "Test accuracy: 98.39%\n"
          ]
        }
      ],
      "source": [
        "loss, accuracy = model2.evaluate(X_test, Y_test_tensor, batch_size=128)\n",
        "print(f\"Test loss: {round(loss*100,2)}%\")\n",
        "print(f\"Test accuracy: {round(accuracy*100,2)}%\")"
      ]
    },
    {
      "attachments": {},
      "cell_type": "markdown",
      "metadata": {
        "id": "iNyWbxA8HfBo"
      },
      "source": [
        "### Conceptual Questions: \n",
        "\n",
        "<i>5) Explain the difference between the relu activation function and the sigmoid activation function.</i>\n",
        "\n",
        "The activation function is an important component of a neural network that is used to introduce non-linearity into the output of each neuron. The two most commonly used activation functions are the Rectified Linear Unit (ReLU) and the sigmoid function.\n",
        "\n",
        "The ReLU function (Rectified Linear Unit) is a simple, non-linear activation function that returns the input if it is positive, and 0 if it is negative. This means that the output is always non-negative and the function is very computationally efficient. ReLU is known to work well in deep neural networks and is the most commonly used activation function in neural networks today.\n",
        "\n",
        "On the other hand, the sigmoid function is a smooth, S-shaped function that maps any input to a value between 0 and 1. The sigmoid function is commonly used in binary classification problems as it is able to produce an output that can be interpreted as a probability of belonging to a particular class. The sigmoid function is also used in recurrent neural networks, where it is used to introduce non-linearity into the output of each neuron.\n",
        "\n",
        "<br>\n",
        "\n",
        "<i>6) Describe what one epoch actually is (epoch was a parameter used in the .fit() method).</i>\n",
        "\n",
        "In machine learning, an epoch refers to the number of times the entire training dataset is presented to the model during the training process. When we train a model, we pass the training data through the model, compute the loss, adjust the model parameters, and repeat this process multiple times until the loss is minimized or the accuracy is maximized. This repetition is done for a fixed number of iterations, which is referred to as an epoch.\n",
        "\n",
        "Choosing the number of epochs is a balance between underfitting (too few epochs) and overfitting (too many epochs). If the model is underfitting, the error on the training set will be high, and the model may benefit from additional epochs. On the other hand, if the model is overfitting, the error on the validation set will be high, and the model may need to be regularized or stopped earlier to avoid overfitting.\n",
        "\n",
        "<br>\n",
        "\n",
        "<i>7) Explain how dropout works (you can look at the keras code and/or documentation) for (a) training, and (b) test data sets.</i>\n",
        "\n",
        "Dropout is a regularization technique used to prevent overfitting in neural networks. During training, dropout randomly sets a fraction of the neurons in a layer to zero, which helps prevent the network from relying too heavily on any one feature, and encourages the network to learn more robust representations of the input data.\n",
        "\n",
        "During training, dropout works by randomly setting a fraction of the output values of a layer to zero at each update of the network weights. The fraction of the neurons to be dropped out is usually specified as a hyperparameter and typically ranges between 0.1 and 0.5. The effect of dropout during training is similar to training a large number of neural networks with different architectures, which can help prevent overfitting.\n",
        "\n",
        "During inference, the network is no longer being trained and the full network is used to make predictions. Since dropout is only applied during training, it is turned off during inference. However, the output values of each neuron in the network are multiplied by the fraction of the neurons that were not dropped out during training. This is done to ensure that the output values during inference have the same statistical properties as they did during training.\n",
        "\n",
        "<br>\n",
        "\n",
        "<i>8) Explain why problems such as this homework assignment are better modeled with RNNs than CNNs. What type of problem will CNNs outperform RNNs on?</i>\n",
        "\n",
        "RNNs are better suited for sequential data such as time series, natural language, and speech recognition tasks, as they can process data in a sequential order and capture temporal dependencies. In contrast, CNNs are better suited for image and video data, where local spatial patterns are important. CNNs can perform well in problems where the data has a fixed size, and the local structure is important, such as image classification, object detection, and segmentation tasks.\n",
        "\n",
        "In this homework assignment, we are working with time series data, where the order of the input sequence matters, and each data point is dependent on the previous data point(s). RNNs are well-suited for these types of problems because they can capture the temporal dependencies and long-term patterns in the data.\n",
        "\n",
        "CNNs, on the other hand, are better suited for tasks that involve local spatial patterns such as image classification. For example, in image classification tasks, the local spatial patterns within an image are important for identifying the object in the image. In this case, the order of the pixels within an image is not as important as the spatial patterns within the image.\n",
        "\n",
        "<br>\n",
        "\n",
        "<i>9) Explain what RNN problem is solved using LSTM and briefly describe how.</i>\n",
        "\n",
        "One of the main problems with traditional RNNs is the vanishing gradient problem, where gradients become too small during backpropagation and can cause the model to have difficulty learning long-term dependencies. LSTM (Long Short-Term Memory) is a type of RNN architecture that solves this problem by using a gating mechanism to control the flow of information through the network. It does this by introducing three gates (input, forget, and output) that control the flow of information through the network, allowing the model to selectively remember or forget information from previous time steps. This gating mechanism makes LSTM well-suited for modeling time series data with long-term dependencies.\n",
        "\n",
        "<br>"
      ]
    },
    {
      "attachments": {},
      "cell_type": "markdown",
      "metadata": {
        "id": "Uh4_8fySfi-L"
      },
      "source": [
        "### 4) Recurrent Neural Net Model 3\n"
      ]
    },
    {
      "attachments": {},
      "cell_type": "markdown",
      "metadata": {
        "id": "Cx8YQfslfojT"
      },
      "source": [
        "a) RNN Requirements:\n",
        "- Use 5 or more layers\n",
        "- Add a layer that was not utilized in Model 1 or Model 2 (Note: This could be a new Dense layer or an additional LSTM)"
      ]
    },
    {
      "cell_type": "code",
      "execution_count": 24,
      "metadata": {
        "id": "lKVLqUX-gLxq"
      },
      "outputs": [
        {
          "name": "stdout",
          "output_type": "stream",
          "text": [
            "WARNING:tensorflow:Layer lstm_1 will not use cuDNN kernels since it doesn't meet the criteria. It will use a generic GPU kernel as fallback when running on GPU.\n",
            "WARNING:tensorflow:Layer lstm_2 will not use cuDNN kernels since it doesn't meet the criteria. It will use a generic GPU kernel as fallback when running on GPU.\n",
            "WARNING:tensorflow:Layer lstm_3 will not use cuDNN kernels since it doesn't meet the criteria. It will use a generic GPU kernel as fallback when running on GPU.\n"
          ]
        }
      ],
      "source": [
        "inputs = Input(shape=(max_log_length,))\n",
        "x = Embedding(input_dim=num_words, output_dim=32, input_length=max_log_length)(inputs)\n",
        "x = LSTM(units=64, recurrent_dropout=0.5, return_sequences=True)(x)\n",
        "x = Dropout(0.5)(x)\n",
        "x = LSTM(units=64, recurrent_dropout=0.5, return_sequences=True)(x)\n",
        "x = Dropout(0.5)(x)\n",
        "x = LSTM(units=64, recurrent_dropout=0.5)(x)\n",
        "x = Dense(units=1, activation='sigmoid')(x)\n",
        "\n",
        "model3 = Model(inputs=inputs, outputs=x)"
      ]
    },
    {
      "attachments": {},
      "cell_type": "markdown",
      "metadata": {
        "id": "qePWjSpFhJJ5"
      },
      "source": [
        "b) Compiler Requirements:\n",
        "- Try a new optimizer for the compile step\n",
        "- Keep accuracy as a metric "
      ]
    },
    {
      "cell_type": "code",
      "execution_count": 25,
      "metadata": {
        "id": "L81VwRTAgOCg"
      },
      "outputs": [],
      "source": [
        "from keras.optimizers import RMSprop\n",
        "\n",
        "model3.compile(loss='binary_crossentropy',\n",
        "              optimizer=RMSprop(learning_rate=0.001),\n",
        "              metrics=['accuracy'])"
      ]
    },
    {
      "attachments": {},
      "cell_type": "markdown",
      "metadata": {
        "id": "IWXajS83hLI2"
      },
      "source": [
        "c) Print the model summary"
      ]
    },
    {
      "cell_type": "code",
      "execution_count": 26,
      "metadata": {
        "colab": {
          "base_uri": "https://localhost:8080/"
        },
        "id": "ONW7KnONgPhP",
        "outputId": "f7341bcd-6ddd-4e57-e4d2-30207144ac15"
      },
      "outputs": [
        {
          "name": "stdout",
          "output_type": "stream",
          "text": [
            "Model: \"model\"\n",
            "_________________________________________________________________\n",
            " Layer (type)                Output Shape              Param #   \n",
            "=================================================================\n",
            " input_1 (InputLayer)        [(None, 1024)]            0         \n",
            "                                                                 \n",
            " embedding_2 (Embedding)     (None, 1024, 32)          2016      \n",
            "                                                                 \n",
            " lstm_1 (LSTM)               (None, 1024, 64)          24832     \n",
            "                                                                 \n",
            " dropout_1 (Dropout)         (None, 1024, 64)          0         \n",
            "                                                                 \n",
            " lstm_2 (LSTM)               (None, 1024, 64)          33024     \n",
            "                                                                 \n",
            " dropout_2 (Dropout)         (None, 1024, 64)          0         \n",
            "                                                                 \n",
            " lstm_3 (LSTM)               (None, 64)                33024     \n",
            "                                                                 \n",
            " dense_2 (Dense)             (None, 1)                 65        \n",
            "                                                                 \n",
            "=================================================================\n",
            "Total params: 92,961\n",
            "Trainable params: 92,961\n",
            "Non-trainable params: 0\n",
            "_________________________________________________________________\n"
          ]
        }
      ],
      "source": [
        "model3.summary()"
      ]
    },
    {
      "attachments": {},
      "cell_type": "markdown",
      "metadata": {
        "id": "g0a-YvBmhNAf"
      },
      "source": [
        "d) Use the .fit() method to fit the model on the train data. Use a validation split of 0.25, epochs=3 and batch size = 128."
      ]
    },
    {
      "cell_type": "code",
      "execution_count": 27,
      "metadata": {
        "colab": {
          "base_uri": "https://localhost:8080/"
        },
        "id": "WQrq5O4dgTBt",
        "outputId": "81c3ab53-946c-49a7-9e37-a75ebcc231e0"
      },
      "outputs": [
        {
          "name": "stdout",
          "output_type": "stream",
          "text": [
            "Epoch 1/3\n",
            "118/118 [==============================] - 1117s 9s/step - loss: 0.4014 - accuracy: 0.8118 - val_loss: 0.1939 - val_accuracy: 0.9376\n",
            "Epoch 2/3\n",
            "118/118 [==============================] - 1124s 10s/step - loss: 0.1890 - accuracy: 0.9399 - val_loss: 0.0841 - val_accuracy: 0.9739\n",
            "Epoch 3/3\n",
            "118/118 [==============================] - 1160s 10s/step - loss: 0.1279 - accuracy: 0.9623 - val_loss: 0.0625 - val_accuracy: 0.9805\n"
          ]
        }
      ],
      "source": [
        "history = model3.fit(X_train, Y_train_tensor, validation_split=0.25, epochs=3, batch_size=128)"
      ]
    },
    {
      "attachments": {},
      "cell_type": "markdown",
      "metadata": {
        "id": "S-XghsVFhO-r"
      },
      "source": [
        "e) Use the .evaluate() method to get the loss value & the accuracy value on the test data. Use a batch size of 128 again."
      ]
    },
    {
      "cell_type": "code",
      "execution_count": 28,
      "metadata": {
        "colab": {
          "base_uri": "https://localhost:8080/"
        },
        "id": "etKWrnZ6gVkO",
        "outputId": "347c3c7b-bc26-4924-d13e-1d3aaeb0dc39"
      },
      "outputs": [
        {
          "name": "stdout",
          "output_type": "stream",
          "text": [
            "53/53 [==============================] - 53s 991ms/step - loss: 0.0684 - accuracy: 0.9779\n",
            "Test loss: 6.84%\n",
            "Test accuracy: 97.79%\n"
          ]
        }
      ],
      "source": [
        "loss, accuracy = model3.evaluate(X_test, Y_test_tensor, batch_size=128)\n",
        "print(f\"Test loss: {round(loss*100,2)}%\")\n",
        "print(f\"Test accuracy: {round(accuracy*100,2)}%\")"
      ]
    },
    {
      "attachments": {},
      "cell_type": "markdown",
      "metadata": {
        "id": "BSLMU8GYPKyT"
      },
      "source": [
        "##PART B: Time Series with LSTMs\n",
        "\n",
        "* Import, clean and plot the input data\n",
        "* Train test split (use provided helper function helper.py)\n",
        "* Fit a single layer LSTM with lag = 3 hours\n",
        "* Fit a single layer LSTM with lag = 24 hours\n",
        "* Fit a bidirectional LSTM with lag = 24 hours\n",
        "* Plot results on test set and compare performance using RMSE"
      ]
    },
    {
      "cell_type": "code",
      "execution_count": 29,
      "metadata": {
        "id": "E8uhM1QiraBp"
      },
      "outputs": [],
      "source": [
        "# helper function\n",
        "def create_data_for_NN(data: pd.DataFrame, Y_var: str, lag: int, test_ratio: float) -> Tuple[np.array, np.array, np.array, np.array]:\n",
        "  \"\"\"Function to return lagged time series data after train-test split\n",
        "  Args:\n",
        "  data (pd.DataFrame): Raw time series data frame\n",
        "  Y_var (str): String with the name of y variable\n",
        "  lag (int): number of lagged records to consider\n",
        "  test_ratio (float): ratio of data to consider for test set\n",
        "  Returns:\n",
        "  Tuple[np.array, np.array, np.array, np.array]: Lagged and split numpy\n",
        "  arrays\n",
        "  \"\"\"\n",
        "  y = data[Y_var].tolist()\n",
        "  X, Y = [], []\n",
        "  if len(y) - lag <= 0:\n",
        "    X.append(y)\n",
        "  else:\n",
        "    for i in range(len(y) - lag):\n",
        "      Y.append(y[i + lag])\n",
        "      X.append(y[i : (i + lag)])\n",
        "  X, Y = np.array(X), np.array(Y)\n",
        "  # Reshaping the X array to an LSTM input shape\n",
        "  X = np.reshape(X, (X.shape[0], X.shape[1], 1))\n",
        "  # Creating training and test sets\n",
        "  X_train = X\n",
        "  X_test = []\n",
        "  Y_train = Y\n",
        "  Y_test = []\n",
        "  if test_ratio > 0:\n",
        "    index = round(len(X) * test_ratio)\n",
        "  X_train = X[: (len(X) - index)]\n",
        "  X_test = X[-index:]\n",
        "  Y_train = Y[: (len(X) - index)]\n",
        "  Y_test = Y[-index:]\n",
        "  \n",
        "  return X_train, X_test, Y_train, Y_test\n"
      ]
    },
    {
      "cell_type": "code",
      "execution_count": 31,
      "metadata": {
        "colab": {
          "base_uri": "https://localhost:8080/"
        },
        "id": "kkl18CSdlUAz",
        "outputId": "59af138f-2f9c-4b13-d0c3-e92c51932a2e"
      },
      "outputs": [
        {
          "name": "stdout",
          "output_type": "stream",
          "text": [
            "Epoch 1/10\n",
            "604/604 [==============================] - 5s 4ms/step - loss: 4361788.5000 - mae: 2049.6169 - val_loss: 4054992.2500 - val_mae: 1979.2885\n",
            "Epoch 2/10\n",
            "604/604 [==============================] - 2s 3ms/step - loss: 4315917.0000 - mae: 2038.4037 - val_loss: 4010844.0000 - val_mae: 1968.1013\n",
            "Epoch 3/10\n",
            "604/604 [==============================] - 2s 3ms/step - loss: 4270499.5000 - mae: 2027.2311 - val_loss: 3967042.2500 - val_mae: 1956.9446\n",
            "Epoch 4/10\n",
            "604/604 [==============================] - 2s 3ms/step - loss: 4223671.0000 - mae: 2015.6527 - val_loss: 3921235.2500 - val_mae: 1945.2023\n",
            "Epoch 5/10\n",
            "604/604 [==============================] - 2s 3ms/step - loss: 4177833.0000 - mae: 2004.2493 - val_loss: 3877294.2500 - val_mae: 1933.8801\n",
            "Epoch 6/10\n",
            "604/604 [==============================] - 2s 3ms/step - loss: 4132639.5000 - mae: 1992.9429 - val_loss: 3833747.5000 - val_mae: 1922.5845\n",
            "Epoch 7/10\n",
            "604/604 [==============================] - 2s 3ms/step - loss: 4087804.7500 - mae: 1981.6591 - val_loss: 3790538.2500 - val_mae: 1911.3176\n",
            "Epoch 8/10\n",
            "604/604 [==============================] - 2s 3ms/step - loss: 4043286.7500 - mae: 1970.3961 - val_loss: 3747622.0000 - val_mae: 1900.0537\n",
            "Epoch 9/10\n",
            "604/604 [==============================] - 2s 3ms/step - loss: 3999052.0000 - mae: 1959.1411 - val_loss: 3704981.2500 - val_mae: 1888.8014\n",
            "Epoch 10/10\n",
            "604/604 [==============================] - 2s 3ms/step - loss: 3955086.5000 - mae: 1947.8855 - val_loss: 3662602.5000 - val_mae: 1877.5511\n",
            "Epoch 1/10\n",
            "604/604 [==============================] - 4s 5ms/step - loss: 4367360.0000 - mae: 2050.9734 - val_loss: 4065543.7500 - val_mae: 1981.9725\n",
            "Epoch 2/10\n",
            "604/604 [==============================] - 3s 5ms/step - loss: 4330746.0000 - mae: 2042.0216 - val_loss: 4030253.7500 - val_mae: 1973.0455\n",
            "Epoch 3/10\n",
            "604/604 [==============================] - 3s 5ms/step - loss: 4294419.0000 - mae: 2033.1056 - val_loss: 3995183.2500 - val_mae: 1964.1393\n",
            "Epoch 4/10\n",
            "604/604 [==============================] - 3s 5ms/step - loss: 4258297.5000 - mae: 2024.2084 - val_loss: 3960305.7500 - val_mae: 1955.2412\n",
            "Epoch 5/10\n",
            "604/604 [==============================] - 3s 5ms/step - loss: 4220549.0000 - mae: 2014.8586 - val_loss: 3921946.2500 - val_mae: 1945.4099\n",
            "Epoch 6/10\n",
            "604/604 [==============================] - 3s 5ms/step - loss: 4180709.2500 - mae: 2004.9486 - val_loss: 3882868.5000 - val_mae: 1935.3400\n",
            "Epoch 7/10\n",
            "604/604 [==============================] - 3s 5ms/step - loss: 4140991.7500 - mae: 1995.0187 - val_loss: 3845623.0000 - val_mae: 1925.6919\n",
            "Epoch 8/10\n",
            "604/604 [==============================] - 3s 5ms/step - loss: 4102821.0000 - mae: 1985.4255 - val_loss: 3808936.7500 - val_mae: 1916.1453\n",
            "Epoch 9/10\n",
            "604/604 [==============================] - 3s 5ms/step - loss: 4065072.7500 - mae: 1975.9017 - val_loss: 3772577.5000 - val_mae: 1906.6309\n",
            "Epoch 10/10\n",
            "604/604 [==============================] - 3s 5ms/step - loss: 4027619.5000 - mae: 1966.3992 - val_loss: 3736473.5000 - val_mae: 1897.1387\n",
            "Epoch 1/10\n",
            "604/604 [==============================] - 7s 8ms/step - loss: 4351428.5000 - mae: 2047.0746 - val_loss: 4034935.7500 - val_mae: 1974.2330\n",
            "Epoch 2/10\n",
            "604/604 [==============================] - 5s 7ms/step - loss: 4284788.5000 - mae: 2030.7357 - val_loss: 3972183.2500 - val_mae: 1958.2778\n",
            "Epoch 3/10\n",
            "604/604 [==============================] - 4s 7ms/step - loss: 4220910.0000 - mae: 2014.9437 - val_loss: 3910267.7500 - val_mae: 1942.4037\n",
            "Epoch 4/10\n",
            "604/604 [==============================] - 4s 7ms/step - loss: 4154492.5000 - mae: 1998.3918 - val_loss: 3845202.5000 - val_mae: 1925.5834\n",
            "Epoch 5/10\n",
            "604/604 [==============================] - 4s 7ms/step - loss: 4089040.5000 - mae: 1981.9467 - val_loss: 3782781.7500 - val_mae: 1909.3041\n",
            "Epoch 6/10\n",
            "604/604 [==============================] - 4s 7ms/step - loss: 4025028.5000 - mae: 1965.7363 - val_loss: 3721300.5000 - val_mae: 1893.1372\n",
            "Epoch 7/10\n",
            "604/604 [==============================] - 4s 7ms/step - loss: 3961834.7500 - mae: 1949.6022 - val_loss: 3660537.5000 - val_mae: 1877.0208\n",
            "Epoch 8/10\n",
            "604/604 [==============================] - 4s 7ms/step - loss: 3899325.0000 - mae: 1933.4927 - val_loss: 3600423.0000 - val_mae: 1860.9359\n",
            "Epoch 9/10\n",
            "604/604 [==============================] - 4s 7ms/step - loss: 3836818.7500 - mae: 1917.2665 - val_loss: 3537690.0000 - val_mae: 1844.0052\n",
            "Epoch 10/10\n",
            "604/604 [==============================] - 4s 7ms/step - loss: 3768162.0000 - mae: 1899.2805 - val_loss: 3469530.0000 - val_mae: 1825.4292\n",
            "569/569 [==============================] - 1s 962us/step\n",
            "RMSE for single layer LSTM with lag 3:  1953.6636380902094\n",
            "569/569 [==============================] - 1s 2ms/step\n",
            "RMSE for single layer LSTM with lag 24:  1972.7901693502345\n",
            "569/569 [==============================] - 2s 3ms/step\n",
            "RMSE for bidirectional LSTM with lag 24:  1902.5186022940534\n"
          ]
        }
      ],
      "source": [
        "# Load and preprocess data\n",
        "data = pd.read_csv(\"../data/DAYTON_hourly.csv\")\n",
        "data.Datetime = pd.to_datetime(data.Datetime)\n",
        "data.sort_values(by=\"Datetime\", inplace=True)\n",
        "\n",
        "# Define lag and test ratio\n",
        "lag_3 = 3\n",
        "lag_24 = 24\n",
        "test_ratio = 0.15\n",
        "\n",
        "# Split the data using the helper function\n",
        "X_train_3, X_test_3, Y_train_3, Y_test_3 = create_data_for_NN(data, data.columns[-1], lag_3, test_ratio)\n",
        "X_train_24, X_test_24, Y_train_24, Y_test_24 = create_data_for_NN(data, data.columns[-1], lag_24, test_ratio)\n",
        "\n",
        "# Single layer LSTM with lag 3\n",
        "model_3 = Sequential()\n",
        "model_3.add(LSTM(64, input_shape=(X_train_3.shape[1], X_train_3.shape[2])))\n",
        "model_3.add(Dense(1))\n",
        "model_3.compile(loss='mse', optimizer='adam', metrics=['mae'])\n",
        "history_3 = model_3.fit(X_train_3, Y_train_3, epochs=10, batch_size=128, validation_split=0.25)\n",
        "\n",
        "# Single layer LSTM with lag 24\n",
        "model_24 = Sequential()\n",
        "model_24.add(LSTM(64, input_shape=(X_train_24.shape[1], X_train_24.shape[2])))\n",
        "model_24.add(Dense(1))\n",
        "model_24.compile(loss='mse', optimizer='adam', metrics=['mae'])\n",
        "history_24 = model_24.fit(X_train_24, Y_train_24, epochs=10, batch_size=128, validation_split=0.25)\n",
        "\n",
        "# Bidirectional LSTM with lag 24\n",
        "model_bidir = Sequential()\n",
        "model_bidir.add(Bidirectional(LSTM(64, input_shape=(X_train_24.shape[1], X_train_24.shape[2]))))\n",
        "model_bidir.add(Dense(1))\n",
        "model_bidir.compile(loss='mse', optimizer='adam', metrics=['mae'])\n",
        "history_bidir = model_bidir.fit(X_train_24, Y_train_24, epochs=10, batch_size=128, validation_split=0.25)\n",
        "\n",
        "# Make predictions and calculate RMSE for each model\n",
        "def rmse(predictions, targets):\n",
        "    return np.sqrt(((predictions - targets) ** 2).mean())\n",
        "\n",
        "pred_3 = model_3.predict(X_test_3)\n",
        "rmse_3 = rmse(pred_3, Y_test_3)\n",
        "print(\"RMSE for single layer LSTM with lag 3: \", rmse_3)\n",
        "\n",
        "pred_24 = model_24.predict(X_test_24)\n",
        "rmse_24 = rmse(pred_24, Y_test_24)\n",
        "print(\"RMSE for single layer LSTM with lag 24: \", rmse_24)\n",
        "\n",
        "pred_bidir = model_bidir.predict(X_test_24)\n",
        "rmse_bidir = rmse(pred_bidir, Y_test_24)\n",
        "print(\"RMSE for bidirectional LSTM with lag 24: \", rmse_bidir)\n"
      ]
    },
    {
      "cell_type": "code",
      "execution_count": 32,
      "metadata": {
        "id": "l06-ro1D0_r3"
      },
      "outputs": [
        {
          "data": {
            "image/png": "[encoded data removed]",
            "text/plain": [
              "<Figure size 1500x600 with 1 Axes>"
            ]
          },
          "metadata": {},
          "output_type": "display_data"
        }
      ],
      "source": [
        "plt.figure(figsize=(15, 6))\n",
        "plt.plot(Y_test_3, label=\"Test Set\")\n",
        "plt.plot(pred_3, label=\"LSTM with lag=3, RMSE={:.2f}\".format(rmse_3))\n",
        "plt.plot(pred_24, label=\"LSTM with lag=24, RMSE={:.2f}\".format(rmse_24))\n",
        "plt.plot(pred_bidir, label=\"Bidirectional LSTM, RMSE={:.2f}\".format(rmse_bidir))\n",
        "plt.legend()\n",
        "plt.xlabel(\"Time (hours)\")\n",
        "plt.ylabel(\"MW\")\n",
        "plt.title(\"Comparison of different LSTM models\")\n",
        "plt.show()"
      ]
    },
    {
      "cell_type": "code",
      "execution_count": 33,
      "metadata": {
        "id": "tc7qwARUOraD"
      },
      "outputs": [],
      "source": []
    }
  ],
  "metadata": {
    "accelerator": "TPU",
    "colab": {
      "machine_shape": "hm",
      "provenance": []
    },
    "gpuClass": "standard",
    "kernelspec": {
      "display_name": "Python 3",
      "name": "python3"
    },
    "language_info": {
      "codemirror_mode": {
        "name": "ipython",
        "version": 3
      },
      "file_extension": ".py",
      "mimetype": "text/x-python",
      "name": "python",
      "nbconvert_exporter": "python",
      "pygments_lexer": "ipython3",
      "version": "3.10.9"
    }
  },
  "nbformat": 4,
  "nbformat_minor": 0
}
