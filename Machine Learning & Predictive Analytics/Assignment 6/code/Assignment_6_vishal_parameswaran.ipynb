{
 "cells": [
  {
   "cell_type": "markdown",
   "metadata": {},
   "source": [
    "# Assignment 6"
   ]
  },
  {
   "cell_type": "code",
   "execution_count": 116,
   "metadata": {},
   "outputs": [],
   "source": [
    "# Importing Libraries \n",
    "import numpy as np\n",
    "import tensorflow as tf\n",
    "from keras.layers import Dense,Conv2D,Flatten,MaxPool2D,Dropout\n",
    "import os, glob\n",
    "import pandas as pd\n",
    "from sklearn.metrics import accuracy_score\n",
    "import seaborn as sns"
   ]
  },
  {
   "cell_type": "markdown",
   "metadata": {},
   "source": [
    "#### Creating the dataset"
   ]
  },
  {
   "cell_type": "code",
   "execution_count": 117,
   "metadata": {},
   "outputs": [
    {
     "name": "stdout",
     "output_type": "stream",
     "text": [
      "Found 88 images belonging to 4 classes.\n"
     ]
    }
   ],
   "source": [
    "image_size = (64,64)\n",
    "train_datagen = tf.keras.preprocessing.image.ImageDataGenerator(\n",
    "        rescale=1./255,\n",
    "        shear_range=0.2,\n",
    "        zoom_range=0.2,\n",
    "        horizontal_flip=True)\n",
    "train_generator = train_datagen.flow_from_directory(\n",
    "        '../data/dataset_train/',\n",
    "        target_size=image_size,\n",
    "        batch_size=32,\n",
    "        class_mode='categorical')"
   ]
  },
  {
   "cell_type": "markdown",
   "metadata": {},
   "source": [
    "#### Creating the classifier object"
   ]
  },
  {
   "cell_type": "code",
   "execution_count": 118,
   "metadata": {},
   "outputs": [
    {
     "name": "stdout",
     "output_type": "stream",
     "text": [
      "Model: \"sequential_126\"\n",
      "_________________________________________________________________\n",
      " Layer (type)                Output Shape              Param #   \n",
      "=================================================================\n",
      " conv2d_252 (Conv2D)         (None, 62, 62, 32)        896       \n",
      "                                                                 \n",
      " max_pooling2d_252 (MaxPooli  (None, 31, 31, 32)       0         \n",
      " ng2D)                                                           \n",
      "                                                                 \n",
      " conv2d_253 (Conv2D)         (None, 29, 29, 64)        18496     \n",
      "                                                                 \n",
      " max_pooling2d_253 (MaxPooli  (None, 14, 14, 64)       0         \n",
      " ng2D)                                                           \n",
      "                                                                 \n",
      " flatten_126 (Flatten)       (None, 12544)             0         \n",
      "                                                                 \n",
      " dense_126 (Dense)           (None, 4)                 50180     \n",
      "                                                                 \n",
      "=================================================================\n",
      "Total params: 69,572\n",
      "Trainable params: 69,572\n",
      "Non-trainable params: 0\n",
      "_________________________________________________________________\n"
     ]
    }
   ],
   "source": [
    "def create_model():\n",
    "    model = tf.keras.Sequential()\n",
    "    model.add(Conv2D(kernel_size=(3,3), filters=32, activation='relu', input_shape=(64,64,3,)))\n",
    "    model.add(MaxPool2D(2,2))\n",
    "    model.add(Conv2D(filters=64,kernel_size = (3,3),activation='relu'))\n",
    "    model.add(MaxPool2D(2,2))\n",
    "    model.add(Flatten())\n",
    "    model.add(Dense(units=4,activation='softmax'))\n",
    "    model.compile(\n",
    "                loss='categorical_crossentropy', \n",
    "                metrics=['acc'],\n",
    "                optimizer='adam'\n",
    "                )\n",
    "    return model\n",
    "classifier = create_model()\n",
    "classifier.summary()"
   ]
  },
  {
   "cell_type": "markdown",
   "metadata": {},
   "source": [
    "#### Fitting to the classifier"
   ]
  },
  {
   "cell_type": "code",
   "execution_count": 119,
   "metadata": {},
   "outputs": [
    {
     "name": "stdout",
     "output_type": "stream",
     "text": [
      "Epoch 1/3\n",
      "3/3 [==============================] - 1s 140ms/step - loss: 1.3444 - acc: 0.5114\n",
      "Epoch 2/3\n",
      "3/3 [==============================] - 0s 162ms/step - loss: 0.9624 - acc: 0.5568\n",
      "Epoch 3/3\n",
      "3/3 [==============================] - 0s 146ms/step - loss: 0.6637 - acc: 0.8750\n"
     ]
    }
   ],
   "source": [
    "output = classifier.fit(train_generator,epochs=3,steps_per_epoch=3)"
   ]
  },
  {
   "cell_type": "code",
   "execution_count": 120,
   "metadata": {},
   "outputs": [
    {
     "data": {
      "text/plain": [
       "{'loss': [1.344425082206726, 0.9624254107475281, 0.6636754870414734],\n",
       " 'acc': [0.5113636255264282, 0.5568181872367859, 0.875]}"
      ]
     },
     "execution_count": 120,
     "metadata": {},
     "output_type": "execute_result"
    }
   ],
   "source": [
    "output.history"
   ]
  },
  {
   "cell_type": "code",
   "execution_count": 121,
   "metadata": {},
   "outputs": [],
   "source": [
    "classifier.save('my_model.h5')"
   ]
  },
  {
   "cell_type": "markdown",
   "metadata": {},
   "source": [
    "#### Hyper Parameter Tuning"
   ]
  },
  {
   "cell_type": "code",
   "execution_count": 122,
   "metadata": {},
   "outputs": [
    {
     "name": "stdout",
     "output_type": "stream",
     "text": [
      "Found 8 files belonging to 1 classes.\n"
     ]
    }
   ],
   "source": [
    "img_dir = r'../data/dataset_test/'\n",
    "val_ds = tf.keras.utils.image_dataset_from_directory(\n",
    "  img_dir,\n",
    "  image_size=image_size,\n",
    "  labels=None,\n",
    "  shuffle=False,\n",
    "  batch_size=32)"
   ]
  },
  {
   "cell_type": "markdown",
   "metadata": {},
   "source": [
    "Using batch Size of 8 to avoid warnings."
   ]
  },
  {
   "cell_type": "code",
   "execution_count": 123,
   "metadata": {},
   "outputs": [
    {
     "name": "stdout",
     "output_type": "stream",
     "text": [
      "Found 88 images belonging to 4 classes.\n"
     ]
    }
   ],
   "source": [
    "image_size = (64,64)\n",
    "train_datagen = tf.keras.preprocessing.image.ImageDataGenerator(\n",
    "        rescale=1./255,\n",
    "        shear_range=0.2,\n",
    "        zoom_range=0.2,\n",
    "        horizontal_flip=True)\n",
    "train_generator = train_datagen.flow_from_directory(\n",
    "        '../data/dataset_train/',\n",
    "        target_size=image_size,\n",
    "        batch_size=8,\n",
    "        class_mode='categorical')"
   ]
  },
  {
   "cell_type": "code",
   "execution_count": 124,
   "metadata": {},
   "outputs": [
    {
     "name": "stdout",
     "output_type": "stream",
     "text": [
      "1/1 [==============================] - 0s 55ms/step\n",
      "1/1 [==============================] - 0s 46ms/step\n",
      "1/1 [==============================] - 0s 50ms/step\n",
      "1/1 [==============================] - 0s 45ms/step\n",
      "1/1 [==============================] - 0s 49ms/step\n",
      "1/1 [==============================] - 0s 44ms/step\n",
      "1/1 [==============================] - 0s 47ms/step\n",
      "1/1 [==============================] - 0s 47ms/step\n",
      "1/1 [==============================] - 0s 48ms/step\n",
      "1/1 [==============================] - 0s 45ms/step\n",
      "1/1 [==============================] - 0s 46ms/step\n"
     ]
    }
   ],
   "source": [
    "correct_outputs = np.array([0,0,2,2,1,1,3,3])\n",
    "parameters = [(1,1),(1,2),(1,3),(2,4),(2,5),(2,6),(3,3),(3,7),(3,8),(5,9),(5,10)]\n",
    "batch_size = 32\n",
    "output_df = pd.DataFrame(columns=['Steps per Epoch','Epochs','Test Accuracy','Train Loss','Train Accuracy'])\n",
    "for i,j in parameters:\n",
    "    model = create_model()\n",
    "    output = model.fit(train_generator,epochs=j,steps_per_epoch=i,verbose=0)\n",
    "    history = output.history\n",
    "    predicted = model.predict(val_ds).round()\n",
    "    predicted = np.where(predicted == 1)\n",
    "    accuracy = accuracy_score(correct_outputs,predicted[1])\n",
    "    temp = pd.DataFrame({'Steps per Epoch':[i],'Epochs':[j],'Test Accuracy':[accuracy],'Train Loss':[history['loss'][-1]],'Train Accuracy':[history['acc'][-1]]})\n",
    "    output_df = pd.concat([output_df,temp])"
   ]
  },
  {
   "cell_type": "code",
   "execution_count": 125,
   "metadata": {},
   "outputs": [
    {
     "data": {
      "text/html": [
       "<div>\n",
       "<style scoped>\n",
       "    .dataframe tbody tr th:only-of-type {\n",
       "        vertical-align: middle;\n",
       "    }\n",
       "\n",
       "    .dataframe tbody tr th {\n",
       "        vertical-align: top;\n",
       "    }\n",
       "\n",
       "    .dataframe thead th {\n",
       "        text-align: right;\n",
       "    }\n",
       "</style>\n",
       "<table border=\"1\" class=\"dataframe\">\n",
       "  <thead>\n",
       "    <tr style=\"text-align: right;\">\n",
       "      <th></th>\n",
       "      <th>Steps per Epoch</th>\n",
       "      <th>Epochs</th>\n",
       "      <th>Test Accuracy</th>\n",
       "      <th>Train Loss</th>\n",
       "      <th>Train Accuracy</th>\n",
       "    </tr>\n",
       "  </thead>\n",
       "  <tbody>\n",
       "    <tr>\n",
       "      <th>0</th>\n",
       "      <td>1</td>\n",
       "      <td>1</td>\n",
       "      <td>0.250</td>\n",
       "      <td>1.274417</td>\n",
       "      <td>0.500000</td>\n",
       "    </tr>\n",
       "    <tr>\n",
       "      <th>1</th>\n",
       "      <td>1</td>\n",
       "      <td>2</td>\n",
       "      <td>0.250</td>\n",
       "      <td>1.778443</td>\n",
       "      <td>0.000000</td>\n",
       "    </tr>\n",
       "    <tr>\n",
       "      <th>2</th>\n",
       "      <td>1</td>\n",
       "      <td>3</td>\n",
       "      <td>0.375</td>\n",
       "      <td>1.431064</td>\n",
       "      <td>0.500000</td>\n",
       "    </tr>\n",
       "    <tr>\n",
       "      <th>3</th>\n",
       "      <td>2</td>\n",
       "      <td>4</td>\n",
       "      <td>0.500</td>\n",
       "      <td>0.899925</td>\n",
       "      <td>0.812500</td>\n",
       "    </tr>\n",
       "    <tr>\n",
       "      <th>4</th>\n",
       "      <td>2</td>\n",
       "      <td>5</td>\n",
       "      <td>0.500</td>\n",
       "      <td>0.906547</td>\n",
       "      <td>0.687500</td>\n",
       "    </tr>\n",
       "    <tr>\n",
       "      <th>5</th>\n",
       "      <td>2</td>\n",
       "      <td>6</td>\n",
       "      <td>0.625</td>\n",
       "      <td>0.691201</td>\n",
       "      <td>0.875000</td>\n",
       "    </tr>\n",
       "    <tr>\n",
       "      <th>6</th>\n",
       "      <td>3</td>\n",
       "      <td>3</td>\n",
       "      <td>0.625</td>\n",
       "      <td>1.131898</td>\n",
       "      <td>0.291667</td>\n",
       "    </tr>\n",
       "    <tr>\n",
       "      <th>7</th>\n",
       "      <td>3</td>\n",
       "      <td>7</td>\n",
       "      <td>0.875</td>\n",
       "      <td>0.418862</td>\n",
       "      <td>0.958333</td>\n",
       "    </tr>\n",
       "    <tr>\n",
       "      <th>8</th>\n",
       "      <td>3</td>\n",
       "      <td>8</td>\n",
       "      <td>0.750</td>\n",
       "      <td>0.187093</td>\n",
       "      <td>1.000000</td>\n",
       "    </tr>\n",
       "    <tr>\n",
       "      <th>9</th>\n",
       "      <td>5</td>\n",
       "      <td>9</td>\n",
       "      <td>0.750</td>\n",
       "      <td>0.162055</td>\n",
       "      <td>0.950000</td>\n",
       "    </tr>\n",
       "    <tr>\n",
       "      <th>10</th>\n",
       "      <td>5</td>\n",
       "      <td>10</td>\n",
       "      <td>0.750</td>\n",
       "      <td>0.132346</td>\n",
       "      <td>0.950000</td>\n",
       "    </tr>\n",
       "  </tbody>\n",
       "</table>\n",
       "</div>"
      ],
      "text/plain": [
       "   Steps per Epoch Epochs  Test Accuracy  Train Loss  Train Accuracy\n",
       "0                1      1          0.250    1.274417        0.500000\n",
       "1                1      2          0.250    1.778443        0.000000\n",
       "2                1      3          0.375    1.431064        0.500000\n",
       "3                2      4          0.500    0.899925        0.812500\n",
       "4                2      5          0.500    0.906547        0.687500\n",
       "5                2      6          0.625    0.691201        0.875000\n",
       "6                3      3          0.625    1.131898        0.291667\n",
       "7                3      7          0.875    0.418862        0.958333\n",
       "8                3      8          0.750    0.187093        1.000000\n",
       "9                5      9          0.750    0.162055        0.950000\n",
       "10               5     10          0.750    0.132346        0.950000"
      ]
     },
     "execution_count": 125,
     "metadata": {},
     "output_type": "execute_result"
    }
   ],
   "source": [
    "output_df = output_df.set_index(np.arange(0,len(output_df)))\n",
    "output_df"
   ]
  },
  {
   "cell_type": "code",
   "execution_count": 126,
   "metadata": {},
   "outputs": [
    {
     "data": {
      "image/png": "[encoded data removed]",
      "text/plain": [
       "<Figure size 640x480 with 1 Axes>"
      ]
     },
     "metadata": {},
     "output_type": "display_data"
    }
   ],
   "source": [
    "lineplot = sns.lineplot(data=output_df[['Test Accuracy','Train Accuracy']])"
   ]
  },
  {
   "cell_type": "markdown",
   "metadata": {},
   "source": [
    "## Conceptual Questions: "
   ]
  },
  {
   "cell_type": "markdown",
   "metadata": {},
   "source": [
    "#### 4.Discuss the effect of the following on accuracy and loss (train & test): \n",
    "\n",
    "1. Increasing the steps_per_epoch\n",
    "2. Increasing the number of epochs"
   ]
  },
  {
   "cell_type": "markdown",
   "metadata": {},
   "source": [
    "Increasing the steps_per_epoch will likely increase the accuracy of the model, but it may not necessarily reduce the loss. steps_per_epoch determines the number of batches of data that are processed per epoch. By increasing steps_per_epoch, the model gets to see more data, and this can lead to better accuracy since the model is trained on more samples. However, if the model is not complex enough or if the data is noisy, increasing steps_per_epoch may not improve accuracy and may instead lead to overfitting, where the model becomes too specialized to the training data and performs poorly on unseen data.\n",
    "\n",
    "Increasing the number of epochs, on the other hand, can also increase the accuracy of the model, but it may also increase the loss. An epoch refers to one iteration over the entire training dataset. By increasing the number of epochs, the model has more opportunities to learn from the data and fine-tune its parameters, which can lead to better accuracy. However, if the model is not able to generalize well to new data, increasing the number of epochs can lead to overfitting, where the model becomes too specialized to the training data and performs poorly on unseen data.\n",
    "\n",
    "It's important to note that the effect of these hyperparameters (steps_per_epoch and number of epochs) on accuracy and loss will also depend on other factors such as the complexity of the model, the quality and size of the dataset, and the optimization algorithm used. Therefore, it's crucial to carefully tune these hyperparameters to find the best combination for a given problem."
   ]
  },
  {
   "cell_type": "markdown",
   "metadata": {},
   "source": [
    "#### 5.Name two uses of zero padding in CNN."
   ]
  },
  {
   "cell_type": "markdown",
   "metadata": {},
   "source": [
    "Zero padding is a technique used in Convolutional Neural Networks (CNNs) to add extra rows and columns of zeros to the input volume's borders. Two main uses of zero padding in CNNs are:\n",
    "\n",
    "1. Keeping the spatial dimensions: By using zero padding, we can preserve the spatial dimensions of the input volume, even after applying multiple convolutional and pooling layers. Without zero padding, each convolutional or pooling layer would reduce the size of the output volume, which can be problematic when working with small input volumes. Zero padding allows us to maintain the spatial dimensions of the input volume while still applying the necessary number of convolutional and pooling layers.\n",
    "2. Improved edge detection: Zero-padding can be used to improve edge detection by reducing the loss of information at the edges of an image. When convolving an image with a filter kernel, the edge pixels of the image are only partially covered by the kernel, resulting in the loss of information at the edges. By adding zero-padding around the input image, the edge pixels of the image are fully covered by the kernel, thus reducing the loss of information at the edges and improving the accuracy of edge detection."
   ]
  },
  {
   "cell_type": "markdown",
   "metadata": {},
   "source": [
    "#### 6.What is the use of a 1 x 1 kernel in CNN? "
   ]
  },
  {
   "cell_type": "markdown",
   "metadata": {},
   "source": [
    "A 1 x 1 kernel is a filter of size 1 x 1 used in convolutional neural networks (CNNs). It may seem counterintuitive to use such a small kernel, but it has several important uses in CNNs, including:\n",
    "\n",
    "1. Dimensionality reduction: By using a 1 x 1 convolutional layer, the number of channels in the input feature map can be reduced without changing the spatial dimensions. This is useful when the input feature map is too large or too computationally expensive to process in subsequent layers.\n",
    "\n",
    "2. Non-linearity: Although a 1 x 1 convolutional layer only has one parameter, it can still introduce non-linearity into the network, which can be important for learning complex features.\n",
    "\n",
    "3. Network fusion: Multiple 1 x 1 convolutional layers can be used in parallel to combine information from different feature maps or layers. This technique is known as network fusion and can improve the accuracy of the model by allowing it to learn more complex features.\n",
    "\n",
    "4. Regularization: By adding a 1 x 1 convolutional layer with a small number of filters (e.g., 32 or 64), the model can be regularized by reducing the number of parameters and preventing overfitting."
   ]
  },
  {
   "cell_type": "markdown",
   "metadata": {},
   "source": [
    "#### 7.What are the advantages of a CNN over a fully connected DNN for this image classification problem?"
   ]
  },
  {
   "cell_type": "markdown",
   "metadata": {},
   "source": [
    "Convolutional neural networks (CNNs) are specifically designed for image classification tasks, and they have several advantages over fully connected deep neural networks (DNNs) for this problem. Here are some advantages of CNNs:\n",
    "\n",
    "1. Parameter sharing: CNNs use convolutional layers to scan the input image with multiple filters or kernels, and each filter is used to detect a specific feature in the image. By sharing parameters across the filters, CNNs can learn to detect different features at different locations in the image, while greatly reducing the number of parameters compared to a fully connected DNN.\n",
    "\n",
    "2. Translation invariance: Convolutional layers are designed to be translation-invariant, which means that they can detect the same features in different parts of the image, regardless of their location. This is important for image classification tasks, as the same object can appear in different parts of the image.\n",
    "\n",
    "3. Reduced overfitting: CNNs are less prone to overfitting compared to fully connected DNNs because of the use of pooling layers and dropout layers. Pooling layers help to reduce the spatial dimensions of the feature maps, which can reduce the number of parameters and prevent overfitting. Dropout layers randomly drop out some of the neurons during training, which helps to prevent overfitting by reducing the co-adaptation of neurons.\n",
    "\n",
    "4. Hierarchical feature learning: CNNs use multiple convolutional layers and pooling layers to learn hierarchical features from the input image. The first few layers learn low-level fea4. tures such as edges and corners, while the later layers learn high-level features such as object parts and shapes."
   ]
  }
 ],
 "metadata": {
  "kernelspec": {
   "display_name": "Python 3 (ipykernel)",
   "language": "python",
   "name": "python3"
  },
  "language_info": {
   "codemirror_mode": {
    "name": "ipython",
    "version": 3
   },
   "file_extension": ".py",
   "mimetype": "text/x-python",
   "name": "python",
   "nbconvert_exporter": "python",
   "pygments_lexer": "ipython3",
   "version": "3.10.9"
  }
 },
 "nbformat": 4,
 "nbformat_minor": 2
}
