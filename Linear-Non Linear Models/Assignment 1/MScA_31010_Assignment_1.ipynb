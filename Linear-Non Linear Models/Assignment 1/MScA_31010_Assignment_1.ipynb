{
 "cells": [
  {
   "cell_type": "markdown",
   "metadata": {},
   "source": [
    "# MSCA31010: Linear & Non-Linear Models Assignment 1"
   ]
  },
  {
   "cell_type": "code",
   "execution_count": 106,
   "metadata": {},
   "outputs": [],
   "source": [
    "#Initializations\n",
    "import numpy as np\n",
    "import pandas as pd\n",
    "import seaborn as sns\n",
    "import matplotlib.pyplot as plt\n",
    "import plotly.express as px\n",
    "import itertools\n",
    "import math\n",
    "sns.set_theme(style=\"ticks\")"
   ]
  },
  {
   "cell_type": "code",
   "execution_count": 107,
   "metadata": {},
   "outputs": [
    {
     "data": {
      "text/html": [
       "<div>\n",
       "<style scoped>\n",
       "    .dataframe tbody tr th:only-of-type {\n",
       "        vertical-align: middle;\n",
       "    }\n",
       "\n",
       "    .dataframe tbody tr th {\n",
       "        vertical-align: top;\n",
       "    }\n",
       "\n",
       "    .dataframe thead th {\n",
       "        text-align: right;\n",
       "    }\n",
       "</style>\n",
       "<table border=\"1\" class=\"dataframe\">\n",
       "  <thead>\n",
       "    <tr style=\"text-align: right;\">\n",
       "      <th></th>\n",
       "      <th>Year</th>\n",
       "      <th>Month</th>\n",
       "      <th>N_Week</th>\n",
       "      <th>PCEPI</th>\n",
       "      <th>CPIAUCSL</th>\n",
       "      <th>ICSA_Week1</th>\n",
       "      <th>ICSA_Week2</th>\n",
       "      <th>ICSA_Week3</th>\n",
       "      <th>ICSA_Week4</th>\n",
       "      <th>ICSA_Week5</th>\n",
       "    </tr>\n",
       "  </thead>\n",
       "  <tbody>\n",
       "    <tr>\n",
       "      <th>0</th>\n",
       "      <td>2020</td>\n",
       "      <td>1</td>\n",
       "      <td>4</td>\n",
       "      <td>110.944</td>\n",
       "      <td>258.682</td>\n",
       "      <td>217000</td>\n",
       "      <td>203000</td>\n",
       "      <td>211000</td>\n",
       "      <td>200000</td>\n",
       "      <td>NaN</td>\n",
       "    </tr>\n",
       "    <tr>\n",
       "      <th>1</th>\n",
       "      <td>2020</td>\n",
       "      <td>2</td>\n",
       "      <td>5</td>\n",
       "      <td>111.07</td>\n",
       "      <td>259.007</td>\n",
       "      <td>191000</td>\n",
       "      <td>186000</td>\n",
       "      <td>190000</td>\n",
       "      <td>196000</td>\n",
       "      <td>190,000.0</td>\n",
       "    </tr>\n",
       "    <tr>\n",
       "      <th>2</th>\n",
       "      <td>2020</td>\n",
       "      <td>3</td>\n",
       "      <td>4</td>\n",
       "      <td>110.824</td>\n",
       "      <td>258.165</td>\n",
       "      <td>186000</td>\n",
       "      <td>221000</td>\n",
       "      <td>2914000</td>\n",
       "      <td>5946000</td>\n",
       "      <td>NaN</td>\n",
       "    </tr>\n",
       "    <tr>\n",
       "      <th>3</th>\n",
       "      <td>2020</td>\n",
       "      <td>4</td>\n",
       "      <td>4</td>\n",
       "      <td>110.237</td>\n",
       "      <td>256.094</td>\n",
       "      <td>6137000</td>\n",
       "      <td>4869000</td>\n",
       "      <td>4201000</td>\n",
       "      <td>3446000</td>\n",
       "      <td>NaN</td>\n",
       "    </tr>\n",
       "    <tr>\n",
       "      <th>4</th>\n",
       "      <td>2020</td>\n",
       "      <td>5</td>\n",
       "      <td>5</td>\n",
       "      <td>110.353</td>\n",
       "      <td>255.944</td>\n",
       "      <td>2796000</td>\n",
       "      <td>2335000</td>\n",
       "      <td>2176000</td>\n",
       "      <td>1921000</td>\n",
       "      <td>1,639,000.0</td>\n",
       "    </tr>\n",
       "    <tr>\n",
       "      <th>5</th>\n",
       "      <td>2020</td>\n",
       "      <td>6</td>\n",
       "      <td>4</td>\n",
       "      <td>110.746</td>\n",
       "      <td>257.217</td>\n",
       "      <td>1575000</td>\n",
       "      <td>1473000</td>\n",
       "      <td>1467000</td>\n",
       "      <td>1446000</td>\n",
       "      <td>NaN</td>\n",
       "    </tr>\n",
       "    <tr>\n",
       "      <th>6</th>\n",
       "      <td>2020</td>\n",
       "      <td>7</td>\n",
       "      <td>4</td>\n",
       "      <td>111.072</td>\n",
       "      <td>258.543</td>\n",
       "      <td>1413000</td>\n",
       "      <td>1468000</td>\n",
       "      <td>1393000</td>\n",
       "      <td>1260000</td>\n",
       "      <td>NaN</td>\n",
       "    </tr>\n",
       "    <tr>\n",
       "      <th>7</th>\n",
       "      <td>2020</td>\n",
       "      <td>8</td>\n",
       "      <td>5</td>\n",
       "      <td>111.411</td>\n",
       "      <td>259.58</td>\n",
       "      <td>1044000</td>\n",
       "      <td>884000</td>\n",
       "      <td>927000</td>\n",
       "      <td>876000</td>\n",
       "      <td>881,000.0</td>\n",
       "    </tr>\n",
       "    <tr>\n",
       "      <th>8</th>\n",
       "      <td>2020</td>\n",
       "      <td>9</td>\n",
       "      <td>4</td>\n",
       "      <td>111.613</td>\n",
       "      <td>260.19</td>\n",
       "      <td>892000</td>\n",
       "      <td>861000</td>\n",
       "      <td>859000</td>\n",
       "      <td>795000</td>\n",
       "      <td>NaN</td>\n",
       "    </tr>\n",
       "    <tr>\n",
       "      <th>9</th>\n",
       "      <td>2020</td>\n",
       "      <td>10</td>\n",
       "      <td>5</td>\n",
       "      <td>111.648</td>\n",
       "      <td>260.352</td>\n",
       "      <td>785000</td>\n",
       "      <td>839000</td>\n",
       "      <td>804000</td>\n",
       "      <td>776000</td>\n",
       "      <td>773,000.0</td>\n",
       "    </tr>\n",
       "    <tr>\n",
       "      <th>10</th>\n",
       "      <td>2020</td>\n",
       "      <td>11</td>\n",
       "      <td>4</td>\n",
       "      <td>111.666</td>\n",
       "      <td>260.721</td>\n",
       "      <td>737000</td>\n",
       "      <td>738000</td>\n",
       "      <td>793000</td>\n",
       "      <td>737000</td>\n",
       "      <td>NaN</td>\n",
       "    </tr>\n",
       "    <tr>\n",
       "      <th>11</th>\n",
       "      <td>2020</td>\n",
       "      <td>12</td>\n",
       "      <td>4</td>\n",
       "      <td>112.15</td>\n",
       "      <td>261.564</td>\n",
       "      <td>873000</td>\n",
       "      <td>886000</td>\n",
       "      <td>815000</td>\n",
       "      <td>773000</td>\n",
       "      <td>NaN</td>\n",
       "    </tr>\n",
       "    <tr>\n",
       "      <th>12</th>\n",
       "      <td>2021</td>\n",
       "      <td>1</td>\n",
       "      <td>5</td>\n",
       "      <td>112.583</td>\n",
       "      <td>262.2</td>\n",
       "      <td>803000</td>\n",
       "      <td>890000</td>\n",
       "      <td>844000</td>\n",
       "      <td>799000</td>\n",
       "      <td>803,000.0</td>\n",
       "    </tr>\n",
       "    <tr>\n",
       "      <th>13</th>\n",
       "      <td>2021</td>\n",
       "      <td>2</td>\n",
       "      <td>4</td>\n",
       "      <td>112.961</td>\n",
       "      <td>263.346</td>\n",
       "      <td>812000</td>\n",
       "      <td>802000</td>\n",
       "      <td>702000</td>\n",
       "      <td>704000</td>\n",
       "      <td>NaN</td>\n",
       "    </tr>\n",
       "    <tr>\n",
       "      <th>14</th>\n",
       "      <td>2021</td>\n",
       "      <td>3</td>\n",
       "      <td>4</td>\n",
       "      <td>113.632</td>\n",
       "      <td>265.028</td>\n",
       "      <td>693000</td>\n",
       "      <td>699000</td>\n",
       "      <td>627000</td>\n",
       "      <td>658000</td>\n",
       "      <td>NaN</td>\n",
       "    </tr>\n",
       "    <tr>\n",
       "      <th>15</th>\n",
       "      <td>2021</td>\n",
       "      <td>4</td>\n",
       "      <td>4</td>\n",
       "      <td>114.238</td>\n",
       "      <td>266.727</td>\n",
       "      <td>645000</td>\n",
       "      <td>571000</td>\n",
       "      <td>566000</td>\n",
       "      <td>574000</td>\n",
       "      <td>NaN</td>\n",
       "    </tr>\n",
       "    <tr>\n",
       "      <th>16</th>\n",
       "      <td>2021</td>\n",
       "      <td>5</td>\n",
       "      <td>5</td>\n",
       "      <td>114.819</td>\n",
       "      <td>268.599</td>\n",
       "      <td>517000</td>\n",
       "      <td>494000</td>\n",
       "      <td>467000</td>\n",
       "      <td>441000</td>\n",
       "      <td>427,000.0</td>\n",
       "    </tr>\n",
       "    <tr>\n",
       "      <th>17</th>\n",
       "      <td>2021</td>\n",
       "      <td>6</td>\n",
       "      <td>4</td>\n",
       "      <td>115.458</td>\n",
       "      <td>270.955</td>\n",
       "      <td>420000</td>\n",
       "      <td>429000</td>\n",
       "      <td>424000</td>\n",
       "      <td>405000</td>\n",
       "      <td>NaN</td>\n",
       "    </tr>\n",
       "    <tr>\n",
       "      <th>18</th>\n",
       "      <td>2021</td>\n",
       "      <td>7</td>\n",
       "      <td>5</td>\n",
       "      <td>115.986</td>\n",
       "      <td>272.184</td>\n",
       "      <td>403000</td>\n",
       "      <td>391000</td>\n",
       "      <td>424000</td>\n",
       "      <td>411000</td>\n",
       "      <td>414,000.0</td>\n",
       "    </tr>\n",
       "    <tr>\n",
       "      <th>19</th>\n",
       "      <td>2021</td>\n",
       "      <td>8</td>\n",
       "      <td>4</td>\n",
       "      <td>116.444</td>\n",
       "      <td>273.092</td>\n",
       "      <td>416000</td>\n",
       "      <td>405000</td>\n",
       "      <td>395000</td>\n",
       "      <td>381000</td>\n",
       "      <td>NaN</td>\n",
       "    </tr>\n",
       "    <tr>\n",
       "      <th>20</th>\n",
       "      <td>2021</td>\n",
       "      <td>9</td>\n",
       "      <td>4</td>\n",
       "      <td>116.808</td>\n",
       "      <td>274.214</td>\n",
       "      <td>361000</td>\n",
       "      <td>363000</td>\n",
       "      <td>380000</td>\n",
       "      <td>376000</td>\n",
       "      <td>NaN</td>\n",
       "    </tr>\n",
       "    <tr>\n",
       "      <th>21</th>\n",
       "      <td>2021</td>\n",
       "      <td>10</td>\n",
       "      <td>5</td>\n",
       "      <td>117.479</td>\n",
       "      <td>276.59</td>\n",
       "      <td>340000</td>\n",
       "      <td>317000</td>\n",
       "      <td>310000</td>\n",
       "      <td>294000</td>\n",
       "      <td>280,000.0</td>\n",
       "    </tr>\n",
       "    <tr>\n",
       "      <th>22</th>\n",
       "      <td>2021</td>\n",
       "      <td>11</td>\n",
       "      <td>4</td>\n",
       "      <td>118.2</td>\n",
       "      <td>278.524</td>\n",
       "      <td>279000</td>\n",
       "      <td>265000</td>\n",
       "      <td>244000</td>\n",
       "      <td>240000</td>\n",
       "      <td>NaN</td>\n",
       "    </tr>\n",
       "    <tr>\n",
       "      <th>23</th>\n",
       "      <td>2021</td>\n",
       "      <td>12</td>\n",
       "      <td>4</td>\n",
       "      <td>118.841</td>\n",
       "      <td>280.126</td>\n",
       "      <td>228000</td>\n",
       "      <td>228000</td>\n",
       "      <td>220000</td>\n",
       "      <td>211000</td>\n",
       "      <td>NaN</td>\n",
       "    </tr>\n",
       "    <tr>\n",
       "      <th>24</th>\n",
       "      <td>2022</td>\n",
       "      <td>1</td>\n",
       "      <td>5</td>\n",
       "      <td>119.469</td>\n",
       "      <td>281.933</td>\n",
       "      <td>224000</td>\n",
       "      <td>238000</td>\n",
       "      <td>240000</td>\n",
       "      <td>222000</td>\n",
       "      <td>214,000.0</td>\n",
       "    </tr>\n",
       "    <tr>\n",
       "      <th>25</th>\n",
       "      <td>2022</td>\n",
       "      <td>2</td>\n",
       "      <td>4</td>\n",
       "      <td>120.178</td>\n",
       "      <td>284.182</td>\n",
       "      <td>191000</td>\n",
       "      <td>209000</td>\n",
       "      <td>198000</td>\n",
       "      <td>182000</td>\n",
       "      <td>NaN</td>\n",
       "    </tr>\n",
       "    <tr>\n",
       "      <th>26</th>\n",
       "      <td>2022</td>\n",
       "      <td>3</td>\n",
       "      <td>4</td>\n",
       "      <td>121.321</td>\n",
       "      <td>287.708</td>\n",
       "      <td>198000</td>\n",
       "      <td>177000</td>\n",
       "      <td>166000</td>\n",
       "      <td>171000</td>\n",
       "      <td>NaN</td>\n",
       "    </tr>\n",
       "    <tr>\n",
       "      <th>27</th>\n",
       "      <td>2022</td>\n",
       "      <td>4</td>\n",
       "      <td>5</td>\n",
       "      <td>121.563</td>\n",
       "      <td>288.663</td>\n",
       "      <td>168000</td>\n",
       "      <td>186000</td>\n",
       "      <td>185000</td>\n",
       "      <td>181000</td>\n",
       "      <td>202,000.0</td>\n",
       "    </tr>\n",
       "    <tr>\n",
       "      <th>28</th>\n",
       "      <td>2022</td>\n",
       "      <td>5</td>\n",
       "      <td>4</td>\n",
       "      <td>122.3</td>\n",
       "      <td>291.474</td>\n",
       "      <td>197000</td>\n",
       "      <td>218000</td>\n",
       "      <td>211000</td>\n",
       "      <td>202000</td>\n",
       "      <td>NaN</td>\n",
       "    </tr>\n",
       "    <tr>\n",
       "      <th>29</th>\n",
       "      <td>2022</td>\n",
       "      <td>6</td>\n",
       "      <td>4</td>\n",
       "      <td>123.512</td>\n",
       "      <td>295.328</td>\n",
       "      <td>232000</td>\n",
       "      <td>231000</td>\n",
       "      <td>233000</td>\n",
       "      <td>231000</td>\n",
       "      <td>NaN</td>\n",
       "    </tr>\n",
       "    <tr>\n",
       "      <th>30</th>\n",
       "      <td>2022</td>\n",
       "      <td>7</td>\n",
       "      <td>5</td>\n",
       "      <td>123.397</td>\n",
       "      <td>295.271</td>\n",
       "      <td>236000</td>\n",
       "      <td>244000</td>\n",
       "      <td>261000</td>\n",
       "      <td>237000</td>\n",
       "      <td>248,000.0</td>\n",
       "    </tr>\n",
       "    <tr>\n",
       "      <th>31</th>\n",
       "      <td>2022</td>\n",
       "      <td>8</td>\n",
       "      <td>4</td>\n",
       "      <td>123.728</td>\n",
       "      <td>295.62</td>\n",
       "      <td>252000</td>\n",
       "      <td>245000</td>\n",
       "      <td>237000</td>\n",
       "      <td>228000</td>\n",
       "      <td>NaN</td>\n",
       "    </tr>\n",
       "    <tr>\n",
       "      <th>32</th>\n",
       "      <td>2022</td>\n",
       "      <td>9</td>\n",
       "      <td>4</td>\n",
       "      <td>124.154</td>\n",
       "      <td>296.761</td>\n",
       "      <td>218000</td>\n",
       "      <td>208000</td>\n",
       "      <td>209000</td>\n",
       "      <td>190000</td>\n",
       "      <td>NaN</td>\n",
       "    </tr>\n",
       "    <tr>\n",
       "      <th>33</th>\n",
       "      <td>2022</td>\n",
       "      <td>10</td>\n",
       "      <td>5</td>\n",
       "      <td>124.617</td>\n",
       "      <td>298.062</td>\n",
       "      <td>219000</td>\n",
       "      <td>226000</td>\n",
       "      <td>214000</td>\n",
       "      <td>218000</td>\n",
       "      <td>218,000.0</td>\n",
       "    </tr>\n",
       "    <tr>\n",
       "      <th>34</th>\n",
       "      <td>2022</td>\n",
       "      <td>11</td>\n",
       "      <td>4</td>\n",
       "      <td>124.747</td>\n",
       "      <td>298.349</td>\n",
       "      <td>226000</td>\n",
       "      <td>223000</td>\n",
       "      <td>241000</td>\n",
       "      <td>226000</td>\n",
       "      <td>NaN</td>\n",
       "    </tr>\n",
       "    <tr>\n",
       "      <th>35</th>\n",
       "      <td>2022</td>\n",
       "      <td>12</td>\n",
       "      <td>4</td>\n",
       "      <td>NaN</td>\n",
       "      <td>NaN</td>\n",
       "      <td>231000</td>\n",
       "      <td>212000</td>\n",
       "      <td>216000</td>\n",
       "      <td>225000</td>\n",
       "      <td>NaN</td>\n",
       "    </tr>\n",
       "  </tbody>\n",
       "</table>\n",
       "</div>"
      ],
      "text/plain": [
       "    Year  Month  N_Week   PCEPI  CPIAUCSL  ICSA_Week1  ICSA_Week2  ICSA_Week3  ICSA_Week4  ICSA_Week5\n",
       "0   2020      1       4 110.944   258.682      217000      203000      211000      200000         NaN\n",
       "1   2020      2       5  111.07   259.007      191000      186000      190000      196000   190,000.0\n",
       "2   2020      3       4 110.824   258.165      186000      221000     2914000     5946000         NaN\n",
       "3   2020      4       4 110.237   256.094     6137000     4869000     4201000     3446000         NaN\n",
       "4   2020      5       5 110.353   255.944     2796000     2335000     2176000     1921000 1,639,000.0\n",
       "5   2020      6       4 110.746   257.217     1575000     1473000     1467000     1446000         NaN\n",
       "6   2020      7       4 111.072   258.543     1413000     1468000     1393000     1260000         NaN\n",
       "7   2020      8       5 111.411    259.58     1044000      884000      927000      876000   881,000.0\n",
       "8   2020      9       4 111.613    260.19      892000      861000      859000      795000         NaN\n",
       "9   2020     10       5 111.648   260.352      785000      839000      804000      776000   773,000.0\n",
       "10  2020     11       4 111.666   260.721      737000      738000      793000      737000         NaN\n",
       "11  2020     12       4  112.15   261.564      873000      886000      815000      773000         NaN\n",
       "12  2021      1       5 112.583     262.2      803000      890000      844000      799000   803,000.0\n",
       "13  2021      2       4 112.961   263.346      812000      802000      702000      704000         NaN\n",
       "14  2021      3       4 113.632   265.028      693000      699000      627000      658000         NaN\n",
       "15  2021      4       4 114.238   266.727      645000      571000      566000      574000         NaN\n",
       "16  2021      5       5 114.819   268.599      517000      494000      467000      441000   427,000.0\n",
       "17  2021      6       4 115.458   270.955      420000      429000      424000      405000         NaN\n",
       "18  2021      7       5 115.986   272.184      403000      391000      424000      411000   414,000.0\n",
       "19  2021      8       4 116.444   273.092      416000      405000      395000      381000         NaN\n",
       "20  2021      9       4 116.808   274.214      361000      363000      380000      376000         NaN\n",
       "21  2021     10       5 117.479    276.59      340000      317000      310000      294000   280,000.0\n",
       "22  2021     11       4   118.2   278.524      279000      265000      244000      240000         NaN\n",
       "23  2021     12       4 118.841   280.126      228000      228000      220000      211000         NaN\n",
       "24  2022      1       5 119.469   281.933      224000      238000      240000      222000   214,000.0\n",
       "25  2022      2       4 120.178   284.182      191000      209000      198000      182000         NaN\n",
       "26  2022      3       4 121.321   287.708      198000      177000      166000      171000         NaN\n",
       "27  2022      4       5 121.563   288.663      168000      186000      185000      181000   202,000.0\n",
       "28  2022      5       4   122.3   291.474      197000      218000      211000      202000         NaN\n",
       "29  2022      6       4 123.512   295.328      232000      231000      233000      231000         NaN\n",
       "30  2022      7       5 123.397   295.271      236000      244000      261000      237000   248,000.0\n",
       "31  2022      8       4 123.728    295.62      252000      245000      237000      228000         NaN\n",
       "32  2022      9       4 124.154   296.761      218000      208000      209000      190000         NaN\n",
       "33  2022     10       5 124.617   298.062      219000      226000      214000      218000   218,000.0\n",
       "34  2022     11       4 124.747   298.349      226000      223000      241000      226000         NaN\n",
       "35  2022     12       4     NaN       NaN      231000      212000      216000      225000         NaN"
      ]
     },
     "execution_count": 107,
     "metadata": {},
     "output_type": "execute_result"
    }
   ],
   "source": [
    "data = pd.read_csv(\"Economy_2020_to_2022.csv\")\n",
    "data"
   ]
  },
  {
   "cell_type": "code",
   "execution_count": 108,
   "metadata": {},
   "outputs": [
    {
     "data": {
      "application/vnd.plotly.v1+json": {
       "config": {
        "plotlyServerURL": "https://plot.ly"
       },
       "data": [
        {
         "dimensions": [
          {
           "axis": {
            "matches": true
           },
           "label": "PCEPI",
           "values": [
            110.944,
            111.07,
            110.824,
            110.237,
            110.353,
            110.746,
            111.072,
            111.411,
            111.613,
            111.648,
            111.666,
            112.15,
            112.583,
            112.961,
            113.632,
            114.238,
            114.819,
            115.458,
            115.986,
            116.444,
            116.808,
            117.479,
            118.2,
            118.841,
            119.469,
            120.178,
            121.321,
            121.563,
            122.3,
            123.512,
            123.397,
            123.728,
            124.154,
            124.617,
            124.747,
            null
           ]
          },
          {
           "axis": {
            "matches": true
           },
           "label": "CPIAUCSL",
           "values": [
            258.682,
            259.007,
            258.165,
            256.094,
            255.944,
            257.217,
            258.543,
            259.58,
            260.19,
            260.352,
            260.721,
            261.564,
            262.2,
            263.346,
            265.028,
            266.727,
            268.599,
            270.955,
            272.184,
            273.092,
            274.214,
            276.59,
            278.524,
            280.126,
            281.933,
            284.182,
            287.708,
            288.663,
            291.474,
            295.328,
            295.271,
            295.62,
            296.761,
            298.062,
            298.349,
            null
           ]
          },
          {
           "axis": {
            "matches": true
           },
           "label": "ICSA_Week1",
           "values": [
            217000,
            191000,
            186000,
            6137000,
            2796000,
            1575000,
            1413000,
            1044000,
            892000,
            785000,
            737000,
            873000,
            803000,
            812000,
            693000,
            645000,
            517000,
            420000,
            403000,
            416000,
            361000,
            340000,
            279000,
            228000,
            224000,
            191000,
            198000,
            168000,
            197000,
            232000,
            236000,
            252000,
            218000,
            219000,
            226000,
            231000
           ]
          },
          {
           "axis": {
            "matches": true
           },
           "label": "ICSA_Week2",
           "values": [
            203000,
            186000,
            221000,
            4869000,
            2335000,
            1473000,
            1468000,
            884000,
            861000,
            839000,
            738000,
            886000,
            890000,
            802000,
            699000,
            571000,
            494000,
            429000,
            391000,
            405000,
            363000,
            317000,
            265000,
            228000,
            238000,
            209000,
            177000,
            186000,
            218000,
            231000,
            244000,
            245000,
            208000,
            226000,
            223000,
            212000
           ]
          },
          {
           "axis": {
            "matches": true
           },
           "label": "ICSA_Week3",
           "values": [
            211000,
            190000,
            2914000,
            4201000,
            2176000,
            1467000,
            1393000,
            927000,
            859000,
            804000,
            793000,
            815000,
            844000,
            702000,
            627000,
            566000,
            467000,
            424000,
            424000,
            395000,
            380000,
            310000,
            244000,
            220000,
            240000,
            198000,
            166000,
            185000,
            211000,
            233000,
            261000,
            237000,
            209000,
            214000,
            241000,
            216000
           ]
          },
          {
           "axis": {
            "matches": true
           },
           "label": "ICSA_Week4",
           "values": [
            200000,
            196000,
            5946000,
            3446000,
            1921000,
            1446000,
            1260000,
            876000,
            795000,
            776000,
            737000,
            773000,
            799000,
            704000,
            658000,
            574000,
            441000,
            405000,
            411000,
            381000,
            376000,
            294000,
            240000,
            211000,
            222000,
            182000,
            171000,
            181000,
            202000,
            231000,
            237000,
            228000,
            190000,
            218000,
            226000,
            225000
           ]
          },
          {
           "axis": {
            "matches": true
           },
           "label": "ICSA_Week5",
           "values": [
            null,
            190000,
            null,
            null,
            1639000,
            null,
            null,
            881000,
            null,
            773000,
            null,
            null,
            803000,
            null,
            null,
            null,
            427000,
            null,
            414000,
            null,
            null,
            280000,
            null,
            null,
            214000,
            null,
            null,
            202000,
            null,
            null,
            248000,
            null,
            null,
            218000,
            null,
            null
           ]
          }
         ],
         "hovertemplate": "%{xaxis.title.text}=%{x}<br>%{yaxis.title.text}=%{y}<extra></extra>",
         "legendgroup": "",
         "marker": {
          "color": "#636efa",
          "symbol": "circle"
         },
         "name": "",
         "showlegend": false,
         "type": "splom"
        }
       ],
       "layout": {
        "dragmode": "select",
        "height": 1000,
        "legend": {
         "tracegroupgap": 0
        },
        "margin": {
         "t": 60
        },
        "template": {
         "data": {
          "bar": [
           {
            "error_x": {
             "color": "#2a3f5f"
            },
            "error_y": {
             "color": "#2a3f5f"
            },
            "marker": {
             "line": {
              "color": "#E5ECF6",
              "width": 0.5
             },
             "pattern": {
              "fillmode": "overlay",
              "size": 10,
              "solidity": 0.2
             }
            },
            "type": "bar"
           }
          ],
          "barpolar": [
           {
            "marker": {
             "line": {
              "color": "#E5ECF6",
              "width": 0.5
             },
             "pattern": {
              "fillmode": "overlay",
              "size": 10,
              "solidity": 0.2
             }
            },
            "type": "barpolar"
           }
          ],
          "carpet": [
           {
            "aaxis": {
             "endlinecolor": "#2a3f5f",
             "gridcolor": "white",
             "linecolor": "white",
             "minorgridcolor": "white",
             "startlinecolor": "#2a3f5f"
            },
            "baxis": {
             "endlinecolor": "#2a3f5f",
             "gridcolor": "white",
             "linecolor": "white",
             "minorgridcolor": "white",
             "startlinecolor": "#2a3f5f"
            },
            "type": "carpet"
           }
          ],
          "choropleth": [
           {
            "colorbar": {
             "outlinewidth": 0,
             "ticks": ""
            },
            "type": "choropleth"
           }
          ],
          "contour": [
           {
            "colorbar": {
             "outlinewidth": 0,
             "ticks": ""
            },
            "colorscale": [
             [
              0,
              "#0d0887"
             ],
             [
              0.1111111111111111,
              "#46039f"
             ],
             [
              0.2222222222222222,
              "#7201a8"
             ],
             [
              0.3333333333333333,
              "#9c179e"
             ],
             [
              0.4444444444444444,
              "#bd3786"
             ],
             [
              0.5555555555555556,
              "#d8576b"
             ],
             [
              0.6666666666666666,
              "#ed7953"
             ],
             [
              0.7777777777777778,
              "#fb9f3a"
             ],
             [
              0.8888888888888888,
              "#fdca26"
             ],
             [
              1,
              "#f0f921"
             ]
            ],
            "type": "contour"
           }
          ],
          "contourcarpet": [
           {
            "colorbar": {
             "outlinewidth": 0,
             "ticks": ""
            },
            "type": "contourcarpet"
           }
          ],
          "heatmap": [
           {
            "colorbar": {
             "outlinewidth": 0,
             "ticks": ""
            },
            "colorscale": [
             [
              0,
              "#0d0887"
             ],
             [
              0.1111111111111111,
              "#46039f"
             ],
             [
              0.2222222222222222,
              "#7201a8"
             ],
             [
              0.3333333333333333,
              "#9c179e"
             ],
             [
              0.4444444444444444,
              "#bd3786"
             ],
             [
              0.5555555555555556,
              "#d8576b"
             ],
             [
              0.6666666666666666,
              "#ed7953"
             ],
             [
              0.7777777777777778,
              "#fb9f3a"
             ],
             [
              0.8888888888888888,
              "#fdca26"
             ],
             [
              1,
              "#f0f921"
             ]
            ],
            "type": "heatmap"
           }
          ],
          "heatmapgl": [
           {
            "colorbar": {
             "outlinewidth": 0,
             "ticks": ""
            },
            "colorscale": [
             [
              0,
              "#0d0887"
             ],
             [
              0.1111111111111111,
              "#46039f"
             ],
             [
              0.2222222222222222,
              "#7201a8"
             ],
             [
              0.3333333333333333,
              "#9c179e"
             ],
             [
              0.4444444444444444,
              "#bd3786"
             ],
             [
              0.5555555555555556,
              "#d8576b"
             ],
             [
              0.6666666666666666,
              "#ed7953"
             ],
             [
              0.7777777777777778,
              "#fb9f3a"
             ],
             [
              0.8888888888888888,
              "#fdca26"
             ],
             [
              1,
              "#f0f921"
             ]
            ],
            "type": "heatmapgl"
           }
          ],
          "histogram": [
           {
            "marker": {
             "pattern": {
              "fillmode": "overlay",
              "size": 10,
              "solidity": 0.2
             }
            },
            "type": "histogram"
           }
          ],
          "histogram2d": [
           {
            "colorbar": {
             "outlinewidth": 0,
             "ticks": ""
            },
            "colorscale": [
             [
              0,
              "#0d0887"
             ],
             [
              0.1111111111111111,
              "#46039f"
             ],
             [
              0.2222222222222222,
              "#7201a8"
             ],
             [
              0.3333333333333333,
              "#9c179e"
             ],
             [
              0.4444444444444444,
              "#bd3786"
             ],
             [
              0.5555555555555556,
              "#d8576b"
             ],
             [
              0.6666666666666666,
              "#ed7953"
             ],
             [
              0.7777777777777778,
              "#fb9f3a"
             ],
             [
              0.8888888888888888,
              "#fdca26"
             ],
             [
              1,
              "#f0f921"
             ]
            ],
            "type": "histogram2d"
           }
          ],
          "histogram2dcontour": [
           {
            "colorbar": {
             "outlinewidth": 0,
             "ticks": ""
            },
            "colorscale": [
             [
              0,
              "#0d0887"
             ],
             [
              0.1111111111111111,
              "#46039f"
             ],
             [
              0.2222222222222222,
              "#7201a8"
             ],
             [
              0.3333333333333333,
              "#9c179e"
             ],
             [
              0.4444444444444444,
              "#bd3786"
             ],
             [
              0.5555555555555556,
              "#d8576b"
             ],
             [
              0.6666666666666666,
              "#ed7953"
             ],
             [
              0.7777777777777778,
              "#fb9f3a"
             ],
             [
              0.8888888888888888,
              "#fdca26"
             ],
             [
              1,
              "#f0f921"
             ]
            ],
            "type": "histogram2dcontour"
           }
          ],
          "mesh3d": [
           {
            "colorbar": {
             "outlinewidth": 0,
             "ticks": ""
            },
            "type": "mesh3d"
           }
          ],
          "parcoords": [
           {
            "line": {
             "colorbar": {
              "outlinewidth": 0,
              "ticks": ""
             }
            },
            "type": "parcoords"
           }
          ],
          "pie": [
           {
            "automargin": true,
            "type": "pie"
           }
          ],
          "scatter": [
           {
            "fillpattern": {
             "fillmode": "overlay",
             "size": 10,
             "solidity": 0.2
            },
            "type": "scatter"
           }
          ],
          "scatter3d": [
           {
            "line": {
             "colorbar": {
              "outlinewidth": 0,
              "ticks": ""
             }
            },
            "marker": {
             "colorbar": {
              "outlinewidth": 0,
              "ticks": ""
             }
            },
            "type": "scatter3d"
           }
          ],
          "scattercarpet": [
           {
            "marker": {
             "colorbar": {
              "outlinewidth": 0,
              "ticks": ""
             }
            },
            "type": "scattercarpet"
           }
          ],
          "scattergeo": [
           {
            "marker": {
             "colorbar": {
              "outlinewidth": 0,
              "ticks": ""
             }
            },
            "type": "scattergeo"
           }
          ],
          "scattergl": [
           {
            "marker": {
             "colorbar": {
              "outlinewidth": 0,
              "ticks": ""
             }
            },
            "type": "scattergl"
           }
          ],
          "scattermapbox": [
           {
            "marker": {
             "colorbar": {
              "outlinewidth": 0,
              "ticks": ""
             }
            },
            "type": "scattermapbox"
           }
          ],
          "scatterpolar": [
           {
            "marker": {
             "colorbar": {
              "outlinewidth": 0,
              "ticks": ""
             }
            },
            "type": "scatterpolar"
           }
          ],
          "scatterpolargl": [
           {
            "marker": {
             "colorbar": {
              "outlinewidth": 0,
              "ticks": ""
             }
            },
            "type": "scatterpolargl"
           }
          ],
          "scatterternary": [
           {
            "marker": {
             "colorbar": {
              "outlinewidth": 0,
              "ticks": ""
             }
            },
            "type": "scatterternary"
           }
          ],
          "surface": [
           {
            "colorbar": {
             "outlinewidth": 0,
             "ticks": ""
            },
            "colorscale": [
             [
              0,
              "#0d0887"
             ],
             [
              0.1111111111111111,
              "#46039f"
             ],
             [
              0.2222222222222222,
              "#7201a8"
             ],
             [
              0.3333333333333333,
              "#9c179e"
             ],
             [
              0.4444444444444444,
              "#bd3786"
             ],
             [
              0.5555555555555556,
              "#d8576b"
             ],
             [
              0.6666666666666666,
              "#ed7953"
             ],
             [
              0.7777777777777778,
              "#fb9f3a"
             ],
             [
              0.8888888888888888,
              "#fdca26"
             ],
             [
              1,
              "#f0f921"
             ]
            ],
            "type": "surface"
           }
          ],
          "table": [
           {
            "cells": {
             "fill": {
              "color": "#EBF0F8"
             },
             "line": {
              "color": "white"
             }
            },
            "header": {
             "fill": {
              "color": "#C8D4E3"
             },
             "line": {
              "color": "white"
             }
            },
            "type": "table"
           }
          ]
         },
         "layout": {
          "annotationdefaults": {
           "arrowcolor": "#2a3f5f",
           "arrowhead": 0,
           "arrowwidth": 1
          },
          "autotypenumbers": "strict",
          "coloraxis": {
           "colorbar": {
            "outlinewidth": 0,
            "ticks": ""
           }
          },
          "colorscale": {
           "diverging": [
            [
             0,
             "#8e0152"
            ],
            [
             0.1,
             "#c51b7d"
            ],
            [
             0.2,
             "#de77ae"
            ],
            [
             0.3,
             "#f1b6da"
            ],
            [
             0.4,
             "#fde0ef"
            ],
            [
             0.5,
             "#f7f7f7"
            ],
            [
             0.6,
             "#e6f5d0"
            ],
            [
             0.7,
             "#b8e186"
            ],
            [
             0.8,
             "#7fbc41"
            ],
            [
             0.9,
             "#4d9221"
            ],
            [
             1,
             "#276419"
            ]
           ],
           "sequential": [
            [
             0,
             "#0d0887"
            ],
            [
             0.1111111111111111,
             "#46039f"
            ],
            [
             0.2222222222222222,
             "#7201a8"
            ],
            [
             0.3333333333333333,
             "#9c179e"
            ],
            [
             0.4444444444444444,
             "#bd3786"
            ],
            [
             0.5555555555555556,
             "#d8576b"
            ],
            [
             0.6666666666666666,
             "#ed7953"
            ],
            [
             0.7777777777777778,
             "#fb9f3a"
            ],
            [
             0.8888888888888888,
             "#fdca26"
            ],
            [
             1,
             "#f0f921"
            ]
           ],
           "sequentialminus": [
            [
             0,
             "#0d0887"
            ],
            [
             0.1111111111111111,
             "#46039f"
            ],
            [
             0.2222222222222222,
             "#7201a8"
            ],
            [
             0.3333333333333333,
             "#9c179e"
            ],
            [
             0.4444444444444444,
             "#bd3786"
            ],
            [
             0.5555555555555556,
             "#d8576b"
            ],
            [
             0.6666666666666666,
             "#ed7953"
            ],
            [
             0.7777777777777778,
             "#fb9f3a"
            ],
            [
             0.8888888888888888,
             "#fdca26"
            ],
            [
             1,
             "#f0f921"
            ]
           ]
          },
          "colorway": [
           "#636efa",
           "#EF553B",
           "#00cc96",
           "#ab63fa",
           "#FFA15A",
           "#19d3f3",
           "#FF6692",
           "#B6E880",
           "#FF97FF",
           "#FECB52"
          ],
          "font": {
           "color": "#2a3f5f"
          },
          "geo": {
           "bgcolor": "white",
           "lakecolor": "white",
           "landcolor": "#E5ECF6",
           "showlakes": true,
           "showland": true,
           "subunitcolor": "white"
          },
          "hoverlabel": {
           "align": "left"
          },
          "hovermode": "closest",
          "mapbox": {
           "style": "light"
          },
          "paper_bgcolor": "white",
          "plot_bgcolor": "#E5ECF6",
          "polar": {
           "angularaxis": {
            "gridcolor": "white",
            "linecolor": "white",
            "ticks": ""
           },
           "bgcolor": "#E5ECF6",
           "radialaxis": {
            "gridcolor": "white",
            "linecolor": "white",
            "ticks": ""
           }
          },
          "scene": {
           "xaxis": {
            "backgroundcolor": "#E5ECF6",
            "gridcolor": "white",
            "gridwidth": 2,
            "linecolor": "white",
            "showbackground": true,
            "ticks": "",
            "zerolinecolor": "white"
           },
           "yaxis": {
            "backgroundcolor": "#E5ECF6",
            "gridcolor": "white",
            "gridwidth": 2,
            "linecolor": "white",
            "showbackground": true,
            "ticks": "",
            "zerolinecolor": "white"
           },
           "zaxis": {
            "backgroundcolor": "#E5ECF6",
            "gridcolor": "white",
            "gridwidth": 2,
            "linecolor": "white",
            "showbackground": true,
            "ticks": "",
            "zerolinecolor": "white"
           }
          },
          "shapedefaults": {
           "line": {
            "color": "#2a3f5f"
           }
          },
          "ternary": {
           "aaxis": {
            "gridcolor": "white",
            "linecolor": "white",
            "ticks": ""
           },
           "baxis": {
            "gridcolor": "white",
            "linecolor": "white",
            "ticks": ""
           },
           "bgcolor": "#E5ECF6",
           "caxis": {
            "gridcolor": "white",
            "linecolor": "white",
            "ticks": ""
           }
          },
          "title": {
           "x": 0.05
          },
          "xaxis": {
           "automargin": true,
           "gridcolor": "white",
           "linecolor": "white",
           "ticks": "",
           "title": {
            "standoff": 15
           },
           "zerolinecolor": "white",
           "zerolinewidth": 2
          },
          "yaxis": {
           "automargin": true,
           "gridcolor": "white",
           "linecolor": "white",
           "ticks": "",
           "title": {
            "standoff": 15
           },
           "zerolinecolor": "white",
           "zerolinewidth": 2
          }
         }
        },
        "width": 900
       }
      },
      "text/html": [
       "<div>                            <div id=\"319de258-fbd0-4a23-ba4e-ad1f38032986\" class=\"plotly-graph-div\" style=\"height:1000px; width:900px;\"></div>            <script type=\"text/javascript\">                require([\"plotly\"], function(Plotly) {                    window.PLOTLYENV=window.PLOTLYENV || {};                                    if (document.getElementById(\"319de258-fbd0-4a23-ba4e-ad1f38032986\")) {                    Plotly.newPlot(                        \"319de258-fbd0-4a23-ba4e-ad1f38032986\",                        [{\"dimensions\":[{\"axis\":{\"matches\":true},\"label\":\"PCEPI\",\"values\":[110.944,111.07,110.824,110.237,110.353,110.746,111.072,111.411,111.613,111.648,111.666,112.15,112.583,112.961,113.632,114.238,114.819,115.458,115.986,116.444,116.808,117.479,118.2,118.841,119.469,120.178,121.321,121.563,122.3,123.512,123.397,123.728,124.154,124.617,124.747,null]},{\"axis\":{\"matches\":true},\"label\":\"CPIAUCSL\",\"values\":[258.682,259.007,258.165,256.094,255.944,257.217,258.543,259.58,260.19,260.352,260.721,261.564,262.2,263.346,265.028,266.727,268.599,270.955,272.184,273.092,274.214,276.59,278.524,280.126,281.933,284.182,287.708,288.663,291.474,295.328,295.271,295.62,296.761,298.062,298.349,null]},{\"axis\":{\"matches\":true},\"label\":\"ICSA_Week1\",\"values\":[217000,191000,186000,6137000,2796000,1575000,1413000,1044000,892000,785000,737000,873000,803000,812000,693000,645000,517000,420000,403000,416000,361000,340000,279000,228000,224000,191000,198000,168000,197000,232000,236000,252000,218000,219000,226000,231000]},{\"axis\":{\"matches\":true},\"label\":\"ICSA_Week2\",\"values\":[203000,186000,221000,4869000,2335000,1473000,1468000,884000,861000,839000,738000,886000,890000,802000,699000,571000,494000,429000,391000,405000,363000,317000,265000,228000,238000,209000,177000,186000,218000,231000,244000,245000,208000,226000,223000,212000]},{\"axis\":{\"matches\":true},\"label\":\"ICSA_Week3\",\"values\":[211000,190000,2914000,4201000,2176000,1467000,1393000,927000,859000,804000,793000,815000,844000,702000,627000,566000,467000,424000,424000,395000,380000,310000,244000,220000,240000,198000,166000,185000,211000,233000,261000,237000,209000,214000,241000,216000]},{\"axis\":{\"matches\":true},\"label\":\"ICSA_Week4\",\"values\":[200000,196000,5946000,3446000,1921000,1446000,1260000,876000,795000,776000,737000,773000,799000,704000,658000,574000,441000,405000,411000,381000,376000,294000,240000,211000,222000,182000,171000,181000,202000,231000,237000,228000,190000,218000,226000,225000]},{\"axis\":{\"matches\":true},\"label\":\"ICSA_Week5\",\"values\":[null,190000.0,null,null,1639000.0,null,null,881000.0,null,773000.0,null,null,803000.0,null,null,null,427000.0,null,414000.0,null,null,280000.0,null,null,214000.0,null,null,202000.0,null,null,248000.0,null,null,218000.0,null,null]}],\"hovertemplate\":\"%{xaxis.title.text}=%{x}<br>%{yaxis.title.text}=%{y}<extra></extra>\",\"legendgroup\":\"\",\"marker\":{\"color\":\"#636efa\",\"symbol\":\"circle\"},\"name\":\"\",\"showlegend\":false,\"type\":\"splom\"}],                        {\"template\":{\"data\":{\"histogram2dcontour\":[{\"type\":\"histogram2dcontour\",\"colorbar\":{\"outlinewidth\":0,\"ticks\":\"\"},\"colorscale\":[[0.0,\"#0d0887\"],[0.1111111111111111,\"#46039f\"],[0.2222222222222222,\"#7201a8\"],[0.3333333333333333,\"#9c179e\"],[0.4444444444444444,\"#bd3786\"],[0.5555555555555556,\"#d8576b\"],[0.6666666666666666,\"#ed7953\"],[0.7777777777777778,\"#fb9f3a\"],[0.8888888888888888,\"#fdca26\"],[1.0,\"#f0f921\"]]}],\"choropleth\":[{\"type\":\"choropleth\",\"colorbar\":{\"outlinewidth\":0,\"ticks\":\"\"}}],\"histogram2d\":[{\"type\":\"histogram2d\",\"colorbar\":{\"outlinewidth\":0,\"ticks\":\"\"},\"colorscale\":[[0.0,\"#0d0887\"],[0.1111111111111111,\"#46039f\"],[0.2222222222222222,\"#7201a8\"],[0.3333333333333333,\"#9c179e\"],[0.4444444444444444,\"#bd3786\"],[0.5555555555555556,\"#d8576b\"],[0.6666666666666666,\"#ed7953\"],[0.7777777777777778,\"#fb9f3a\"],[0.8888888888888888,\"#fdca26\"],[1.0,\"#f0f921\"]]}],\"heatmap\":[{\"type\":\"heatmap\",\"colorbar\":{\"outlinewidth\":0,\"ticks\":\"\"},\"colorscale\":[[0.0,\"#0d0887\"],[0.1111111111111111,\"#46039f\"],[0.2222222222222222,\"#7201a8\"],[0.3333333333333333,\"#9c179e\"],[0.4444444444444444,\"#bd3786\"],[0.5555555555555556,\"#d8576b\"],[0.6666666666666666,\"#ed7953\"],[0.7777777777777778,\"#fb9f3a\"],[0.8888888888888888,\"#fdca26\"],[1.0,\"#f0f921\"]]}],\"heatmapgl\":[{\"type\":\"heatmapgl\",\"colorbar\":{\"outlinewidth\":0,\"ticks\":\"\"},\"colorscale\":[[0.0,\"#0d0887\"],[0.1111111111111111,\"#46039f\"],[0.2222222222222222,\"#7201a8\"],[0.3333333333333333,\"#9c179e\"],[0.4444444444444444,\"#bd3786\"],[0.5555555555555556,\"#d8576b\"],[0.6666666666666666,\"#ed7953\"],[0.7777777777777778,\"#fb9f3a\"],[0.8888888888888888,\"#fdca26\"],[1.0,\"#f0f921\"]]}],\"contourcarpet\":[{\"type\":\"contourcarpet\",\"colorbar\":{\"outlinewidth\":0,\"ticks\":\"\"}}],\"contour\":[{\"type\":\"contour\",\"colorbar\":{\"outlinewidth\":0,\"ticks\":\"\"},\"colorscale\":[[0.0,\"#0d0887\"],[0.1111111111111111,\"#46039f\"],[0.2222222222222222,\"#7201a8\"],[0.3333333333333333,\"#9c179e\"],[0.4444444444444444,\"#bd3786\"],[0.5555555555555556,\"#d8576b\"],[0.6666666666666666,\"#ed7953\"],[0.7777777777777778,\"#fb9f3a\"],[0.8888888888888888,\"#fdca26\"],[1.0,\"#f0f921\"]]}],\"surface\":[{\"type\":\"surface\",\"colorbar\":{\"outlinewidth\":0,\"ticks\":\"\"},\"colorscale\":[[0.0,\"#0d0887\"],[0.1111111111111111,\"#46039f\"],[0.2222222222222222,\"#7201a8\"],[0.3333333333333333,\"#9c179e\"],[0.4444444444444444,\"#bd3786\"],[0.5555555555555556,\"#d8576b\"],[0.6666666666666666,\"#ed7953\"],[0.7777777777777778,\"#fb9f3a\"],[0.8888888888888888,\"#fdca26\"],[1.0,\"#f0f921\"]]}],\"mesh3d\":[{\"type\":\"mesh3d\",\"colorbar\":{\"outlinewidth\":0,\"ticks\":\"\"}}],\"scatter\":[{\"fillpattern\":{\"fillmode\":\"overlay\",\"size\":10,\"solidity\":0.2},\"type\":\"scatter\"}],\"parcoords\":[{\"type\":\"parcoords\",\"line\":{\"colorbar\":{\"outlinewidth\":0,\"ticks\":\"\"}}}],\"scatterpolargl\":[{\"type\":\"scatterpolargl\",\"marker\":{\"colorbar\":{\"outlinewidth\":0,\"ticks\":\"\"}}}],\"bar\":[{\"error_x\":{\"color\":\"#2a3f5f\"},\"error_y\":{\"color\":\"#2a3f5f\"},\"marker\":{\"line\":{\"color\":\"#E5ECF6\",\"width\":0.5},\"pattern\":{\"fillmode\":\"overlay\",\"size\":10,\"solidity\":0.2}},\"type\":\"bar\"}],\"scattergeo\":[{\"type\":\"scattergeo\",\"marker\":{\"colorbar\":{\"outlinewidth\":0,\"ticks\":\"\"}}}],\"scatterpolar\":[{\"type\":\"scatterpolar\",\"marker\":{\"colorbar\":{\"outlinewidth\":0,\"ticks\":\"\"}}}],\"histogram\":[{\"marker\":{\"pattern\":{\"fillmode\":\"overlay\",\"size\":10,\"solidity\":0.2}},\"type\":\"histogram\"}],\"scattergl\":[{\"type\":\"scattergl\",\"marker\":{\"colorbar\":{\"outlinewidth\":0,\"ticks\":\"\"}}}],\"scatter3d\":[{\"type\":\"scatter3d\",\"line\":{\"colorbar\":{\"outlinewidth\":0,\"ticks\":\"\"}},\"marker\":{\"colorbar\":{\"outlinewidth\":0,\"ticks\":\"\"}}}],\"scattermapbox\":[{\"type\":\"scattermapbox\",\"marker\":{\"colorbar\":{\"outlinewidth\":0,\"ticks\":\"\"}}}],\"scatterternary\":[{\"type\":\"scatterternary\",\"marker\":{\"colorbar\":{\"outlinewidth\":0,\"ticks\":\"\"}}}],\"scattercarpet\":[{\"type\":\"scattercarpet\",\"marker\":{\"colorbar\":{\"outlinewidth\":0,\"ticks\":\"\"}}}],\"carpet\":[{\"aaxis\":{\"endlinecolor\":\"#2a3f5f\",\"gridcolor\":\"white\",\"linecolor\":\"white\",\"minorgridcolor\":\"white\",\"startlinecolor\":\"#2a3f5f\"},\"baxis\":{\"endlinecolor\":\"#2a3f5f\",\"gridcolor\":\"white\",\"linecolor\":\"white\",\"minorgridcolor\":\"white\",\"startlinecolor\":\"#2a3f5f\"},\"type\":\"carpet\"}],\"table\":[{\"cells\":{\"fill\":{\"color\":\"#EBF0F8\"},\"line\":{\"color\":\"white\"}},\"header\":{\"fill\":{\"color\":\"#C8D4E3\"},\"line\":{\"color\":\"white\"}},\"type\":\"table\"}],\"barpolar\":[{\"marker\":{\"line\":{\"color\":\"#E5ECF6\",\"width\":0.5},\"pattern\":{\"fillmode\":\"overlay\",\"size\":10,\"solidity\":0.2}},\"type\":\"barpolar\"}],\"pie\":[{\"automargin\":true,\"type\":\"pie\"}]},\"layout\":{\"autotypenumbers\":\"strict\",\"colorway\":[\"#636efa\",\"#EF553B\",\"#00cc96\",\"#ab63fa\",\"#FFA15A\",\"#19d3f3\",\"#FF6692\",\"#B6E880\",\"#FF97FF\",\"#FECB52\"],\"font\":{\"color\":\"#2a3f5f\"},\"hovermode\":\"closest\",\"hoverlabel\":{\"align\":\"left\"},\"paper_bgcolor\":\"white\",\"plot_bgcolor\":\"#E5ECF6\",\"polar\":{\"bgcolor\":\"#E5ECF6\",\"angularaxis\":{\"gridcolor\":\"white\",\"linecolor\":\"white\",\"ticks\":\"\"},\"radialaxis\":{\"gridcolor\":\"white\",\"linecolor\":\"white\",\"ticks\":\"\"}},\"ternary\":{\"bgcolor\":\"#E5ECF6\",\"aaxis\":{\"gridcolor\":\"white\",\"linecolor\":\"white\",\"ticks\":\"\"},\"baxis\":{\"gridcolor\":\"white\",\"linecolor\":\"white\",\"ticks\":\"\"},\"caxis\":{\"gridcolor\":\"white\",\"linecolor\":\"white\",\"ticks\":\"\"}},\"coloraxis\":{\"colorbar\":{\"outlinewidth\":0,\"ticks\":\"\"}},\"colorscale\":{\"sequential\":[[0.0,\"#0d0887\"],[0.1111111111111111,\"#46039f\"],[0.2222222222222222,\"#7201a8\"],[0.3333333333333333,\"#9c179e\"],[0.4444444444444444,\"#bd3786\"],[0.5555555555555556,\"#d8576b\"],[0.6666666666666666,\"#ed7953\"],[0.7777777777777778,\"#fb9f3a\"],[0.8888888888888888,\"#fdca26\"],[1.0,\"#f0f921\"]],\"sequentialminus\":[[0.0,\"#0d0887\"],[0.1111111111111111,\"#46039f\"],[0.2222222222222222,\"#7201a8\"],[0.3333333333333333,\"#9c179e\"],[0.4444444444444444,\"#bd3786\"],[0.5555555555555556,\"#d8576b\"],[0.6666666666666666,\"#ed7953\"],[0.7777777777777778,\"#fb9f3a\"],[0.8888888888888888,\"#fdca26\"],[1.0,\"#f0f921\"]],\"diverging\":[[0,\"#8e0152\"],[0.1,\"#c51b7d\"],[0.2,\"#de77ae\"],[0.3,\"#f1b6da\"],[0.4,\"#fde0ef\"],[0.5,\"#f7f7f7\"],[0.6,\"#e6f5d0\"],[0.7,\"#b8e186\"],[0.8,\"#7fbc41\"],[0.9,\"#4d9221\"],[1,\"#276419\"]]},\"xaxis\":{\"gridcolor\":\"white\",\"linecolor\":\"white\",\"ticks\":\"\",\"title\":{\"standoff\":15},\"zerolinecolor\":\"white\",\"automargin\":true,\"zerolinewidth\":2},\"yaxis\":{\"gridcolor\":\"white\",\"linecolor\":\"white\",\"ticks\":\"\",\"title\":{\"standoff\":15},\"zerolinecolor\":\"white\",\"automargin\":true,\"zerolinewidth\":2},\"scene\":{\"xaxis\":{\"backgroundcolor\":\"#E5ECF6\",\"gridcolor\":\"white\",\"linecolor\":\"white\",\"showbackground\":true,\"ticks\":\"\",\"zerolinecolor\":\"white\",\"gridwidth\":2},\"yaxis\":{\"backgroundcolor\":\"#E5ECF6\",\"gridcolor\":\"white\",\"linecolor\":\"white\",\"showbackground\":true,\"ticks\":\"\",\"zerolinecolor\":\"white\",\"gridwidth\":2},\"zaxis\":{\"backgroundcolor\":\"#E5ECF6\",\"gridcolor\":\"white\",\"linecolor\":\"white\",\"showbackground\":true,\"ticks\":\"\",\"zerolinecolor\":\"white\",\"gridwidth\":2}},\"shapedefaults\":{\"line\":{\"color\":\"#2a3f5f\"}},\"annotationdefaults\":{\"arrowcolor\":\"#2a3f5f\",\"arrowhead\":0,\"arrowwidth\":1},\"geo\":{\"bgcolor\":\"white\",\"landcolor\":\"#E5ECF6\",\"subunitcolor\":\"white\",\"showland\":true,\"showlakes\":true,\"lakecolor\":\"white\"},\"title\":{\"x\":0.05},\"mapbox\":{\"style\":\"light\"}}},\"legend\":{\"tracegroupgap\":0},\"margin\":{\"t\":60},\"dragmode\":\"select\",\"height\":1000,\"width\":900},                        {\"responsive\": true}                    ).then(function(){\n",
       "                            \n",
       "var gd = document.getElementById('319de258-fbd0-4a23-ba4e-ad1f38032986');\n",
       "var x = new MutationObserver(function (mutations, observer) {{\n",
       "        var display = window.getComputedStyle(gd).display;\n",
       "        if (!display || display === 'none') {{\n",
       "            console.log([gd, 'removed!']);\n",
       "            Plotly.purge(gd);\n",
       "            observer.disconnect();\n",
       "        }}\n",
       "}});\n",
       "\n",
       "// Listen for the removal of the full notebook cells\n",
       "var notebookContainer = gd.closest('#notebook-container');\n",
       "if (notebookContainer) {{\n",
       "    x.observe(notebookContainer, {childList: true});\n",
       "}}\n",
       "\n",
       "// Listen for the clearing of the current output cell\n",
       "var outputEl = gd.closest('.output');\n",
       "if (outputEl) {{\n",
       "    x.observe(outputEl, {childList: true});\n",
       "}}\n",
       "\n",
       "                        })                };                });            </script>        </div>"
      ]
     },
     "metadata": {},
     "output_type": "display_data"
    }
   ],
   "source": [
    "fig = px.scatter_matrix(data, dimensions=[\"PCEPI\",\"CPIAUCSL\",\"ICSA_Week1\",\"ICSA_Week2\",\"ICSA_Week3\",\"ICSA_Week4\",\"ICSA_Week5\"],width=900,height=1000)\n",
    "fig.show()"
   ]
  },
  {
   "cell_type": "code",
   "execution_count": 121,
   "outputs": [
    {
     "data": {
      "text/plain": "<Figure size 1750x1750 with 49 Axes>",
      "image/png": "[encoded data removed]"
     },
     "metadata": {},
     "output_type": "display_data"
    }
   ],
   "source": [
    "sns.set_style(\"ticks\",{'axes.grid' : True})\n",
    "g = sns.pairplot(data[[\"PCEPI\",\"CPIAUCSL\",\"ICSA_Week1\",\"ICSA_Week2\",\"ICSA_Week3\",\"ICSA_Week4\",\"ICSA_Week5\"]],diag_kind=\"none\")"
   ],
   "metadata": {
    "collapsed": false
   }
  },
  {
   "cell_type": "code",
   "execution_count": 122,
   "metadata": {},
   "outputs": [],
   "source": [
    "pearson_correlation_coeffs = data[[\"PCEPI\",\"CPIAUCSL\",\"ICSA_Week1\",\"ICSA_Week2\",\"ICSA_Week3\",\"ICSA_Week4\",\"ICSA_Week5\"]].corr(method='pearson')\n",
    "pearson_correlation_coeffs = pearson_correlation_coeffs.round(4)\n"
   ]
  },
  {
   "cell_type": "code",
   "execution_count": 124,
   "metadata": {},
   "outputs": [],
   "source": [
    "spearman_correlation_coeffs = data[[\"PCEPI\",\"CPIAUCSL\",\"ICSA_Week1\",\"ICSA_Week2\",\"ICSA_Week3\",\"ICSA_Week4\",\"ICSA_Week5\"]].corr(method='spearman')\n",
    "spearman_correlation_coeffs = spearman_correlation_coeffs.round(4)\n",
    "\n",
    "spearman_correlation_coeffs.to_csv(\"spearman.csv\")"
   ]
  },
  {
   "cell_type": "code",
   "execution_count": 125,
   "metadata": {},
   "outputs": [],
   "source": [
    "kendall_correlation_coeffs = data[[\"PCEPI\",\"CPIAUCSL\",\"ICSA_Week1\",\"ICSA_Week2\",\"ICSA_Week3\",\"ICSA_Week4\",\"ICSA_Week5\"]].corr(method='kendall')\n",
    "kendall_correlation_coeffs = kendall_correlation_coeffs.round(4)\n",
    "\n",
    "kendall_correlation_coeffs.to_csv(\"kendall.csv\")"
   ]
  },
  {
   "cell_type": "code",
   "execution_count": 126,
   "metadata": {},
   "outputs": [],
   "source": [
    "def AdjustedDistance (columns):\n",
    "    #Calculate the Adjusted Distance for x\n",
    "\n",
    "    column_x = columns.split(\";\")[0]\n",
    "    column_y = columns.split(\";\")[1]\n",
    "    dropped_rows = data[[column_x,column_y]].dropna()\n",
    "    x = dropped_rows[[column_x]]\n",
    "    y = dropped_rows[[column_y]]\n",
    "    x = x.fillna(0)\n",
    "    i = x.to_numpy().T[0]\n",
    "    n = len(i)\n",
    "    distance_matrix_x = pd.DataFrame(np.abs(i[:, None] - i))\n",
    "    distance_matrix_x = distance_matrix_x.sub(distance_matrix_x.mean(axis=0),axis=1)\n",
    "    distance_matrix_x = distance_matrix_x.sub(distance_matrix_x.mean(axis=1),axis=0)\n",
    "    emp_dist_x = distance_matrix_x.pow(2)\n",
    "    emp_dist_x = emp_dist_x.values.sum()/(n**2)\n",
    "    #Calculate the Adjusted Distance for y\n",
    "    y = y.fillna(0)\n",
    "    d = y.to_numpy().T[0]\n",
    "    n = len(i)\n",
    "    distance_matrix_y = pd.DataFrame(np.abs(d[:, None] - d))\n",
    "    distance_matrix_y = distance_matrix_y.sub(distance_matrix_y.mean(axis=0),axis=1)\n",
    "    distance_matrix_y = distance_matrix_y.sub(distance_matrix_y.mean(axis=1),axis=0)\n",
    "    emp_dist_y = distance_matrix_y.pow(2)\n",
    "    emp_dist_y = emp_dist_y.values.sum()/(n**2)\n",
    "    #Calculate the Distance covariance\n",
    "    emp_dist_xy = distance_matrix_x.mul(distance_matrix_y,axis=\"index\")\n",
    "    emp_dist_xy = emp_dist_xy.values.sum()/(n**2)\n",
    "    #Calculate the Distance Correlation Coefficient\n",
    "    distance_correlation_coeff = math.sqrt((emp_dist_xy)/(math.sqrt(emp_dist_x*emp_dist_y)))\n",
    "    return round(distance_correlation_coeff,4)\n",
    "column_headers = np.array([\"PCEPI\",\"CPIAUCSL\",\"ICSA_Week1\",\"ICSA_Week2\",\"ICSA_Week3\",\"ICSA_Week4\",\"ICSA_Week5\"])\n",
    "distance_corr_matrix = pd.DataFrame(np.core.defchararray.add(column_headers[:, None],np.char.add(\";\",column_headers)),index=[\"PCEPI\",\"CPIAUCSL\",\"ICSA_Week1\",\"ICSA_Week2\",\"ICSA_Week3\",\"ICSA_Week4\",\"ICSA_Week5\"],columns = [\"PCEPI\",\"CPIAUCSL\",\"ICSA_Week1\",\"ICSA_Week2\",\"ICSA_Week3\",\"ICSA_Week4\",\"ICSA_Week5\"])\n",
    "distance_corr_matrix = distance_corr_matrix.applymap(AdjustedDistance)\n",
    "distance_corr_matrix.to_csv(\"distance_corr.csv\")\n",
    "\n",
    "# test = AdjustedDistance()"
   ]
  },
  {
   "cell_type": "code",
   "execution_count": 127,
   "metadata": {},
   "outputs": [
    {
     "data": {
      "text/plain": "<Figure size 1200x600 with 1 Axes>",
      "image/png": "[encoded data removed]"
     },
     "metadata": {},
     "output_type": "display_data"
    },
    {
     "name": "stdout",
     "output_type": "stream",
     "text": [
      "    Iteration     Estimate         Function   Derivative\n",
      "0           0          1.0         -8,999.0          2.0\n",
      "1           1      4,500.5    20,245,500.25      9,001.0\n",
      "2           2 2,251.249889    5,059,126.062 4,502.499778\n",
      "3           3 1,127.623834    1,262,535.511 2,255.247668\n",
      "4           4  567.8026095     313,399.8034 1,135.605219\n",
      "5           5  291.8265942     76,162.76106  583.6531883\n",
      "6           6  161.3334133     17,028.47025  322.6668266\n",
      "7           7  108.5592548     2,785.111805  217.1185096\n",
      "8           8  95.73164371      164.5476067  191.4632874\n",
      "9           9  94.87222251     0.7386047851   189.744445\n",
      "10         10  94.86832988  1.515256372e-05  189.7366598\n",
      "11         11  94.86832981 -1.818989404e-12  189.7366596\n"
     ]
    }
   ],
   "source": [
    "import sys\n",
    "np.set_printoptions(precision = 10, threshold = sys.maxsize)\n",
    "np.set_printoptions(linewidth = np.inf)\n",
    "\n",
    "pd.set_option('display.max_columns', None)\n",
    "pd.set_option('display.expand_frame_repr', False)\n",
    "pd.set_option('max_colwidth', None)\n",
    "\n",
    "pd.options.display.float_format = '{:,.10}'.format\n",
    "\n",
    "def func (x):\n",
    "   y = x**2 - 9000\n",
    "   return (y)\n",
    "\n",
    "def dfunc(x):\n",
    "   dy = 2*x\n",
    "   return (dy)\n",
    "\n",
    "def newton_raphson (init_x, max_iter = 100, eps_conv = 1e-7, q_history = False):\n",
    "   i_iter = 0\n",
    "   q_continue = True\n",
    "   reason = 0\n",
    "   x_curr = init_x\n",
    "\n",
    "   if (q_history):\n",
    "      history = []\n",
    "   while (q_continue):\n",
    "      f_curr = func(x_curr)\n",
    "      dfunc_curr = dfunc(x_curr)\n",
    "      if (q_history):\n",
    "         history.append([i_iter, x_curr, f_curr, dfunc_curr])\n",
    "      if (f_curr != 0.0):\n",
    "         if (dfunc_curr != 0.0):\n",
    "            i_iter = i_iter + 1\n",
    "            x_next = x_curr - f_curr / dfunc_curr\n",
    "            if (abs(x_next - x_curr) <= eps_conv):\n",
    "               q_continue = False\n",
    "               reason = 1               # Successful convergence\n",
    "            elif (i_iter >= max_iter):\n",
    "               q_continue = False\n",
    "               reason = 2               # Exceeded maximum number of iterations\n",
    "            else:\n",
    "               x_curr = x_next\n",
    "         else:\n",
    "            q_continue = False\n",
    "            reason = 3                  # Zero derivative\n",
    "      else:\n",
    "         q_continue = False\n",
    "         reason = 4                     # Zero function value\n",
    "\n",
    "   if(q_history):\n",
    "      print(pd.DataFrame(history, columns = ['Iteration', 'Estimate', 'Function', 'Derivative']))\n",
    "\n",
    "   return (x_curr, reason)\n",
    "\n",
    "x_value = pd.Series(np.arange(-10.0, 8.1, 0.1), name = 'x')\n",
    "y_value = x_value.apply(func)\n",
    "y_value.name = 'y'\n",
    "\n",
    "plt.figure(figsize = (12,6))\n",
    "plt.plot(x_value, y_value)\n",
    "plt.title('y = x^2-9')\n",
    "plt.xlabel('x')\n",
    "plt.ylabel('y')\n",
    "plt.xticks(range(-10,9,1))\n",
    "plt.yticks(range(-500,4500,500))\n",
    "plt.grid()\n",
    "plt.show()\n",
    "\n",
    "x_solution, reason = newton_raphson (init_x = 1, max_iter = 10000, eps_conv = 1e-13, q_history = True)"
   ]
  }
 ],
 "metadata": {
  "kernelspec": {
   "display_name": "Python 3 (ipykernel)",
   "language": "python",
   "name": "python3"
  },
  "language_info": {
   "codemirror_mode": {
    "name": "ipython",
    "version": 3
   },
   "file_extension": ".py",
   "mimetype": "text/x-python",
   "name": "python",
   "nbconvert_exporter": "python",
   "pygments_lexer": "ipython3",
   "version": "3.11.1"
  }
 },
 "nbformat": 4,
 "nbformat_minor": 1
}
