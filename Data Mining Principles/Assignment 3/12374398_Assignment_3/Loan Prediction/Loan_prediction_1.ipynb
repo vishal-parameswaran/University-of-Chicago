{
 "cells": [
  {
   "cell_type": "code",
   "execution_count": 754,
   "metadata": {},
   "outputs": [],
   "source": [
    "%matplotlib inline\n",
    "import numpy as np\n",
    "import pandas as pd\n",
    "from scipy import stats\n",
    "import matplotlib.pyplot as plt\n",
    "import seaborn as sns\n",
    "import datetime\n",
    "from sklearn.model_selection import train_test_split\n",
    "from sklearn.preprocessing import StandardScaler\n",
    "from sklearn import metrics\n",
    "# Importing Classifier Modules\n",
    "from sklearn.linear_model import LinearRegression\n",
    "from sklearn.linear_model import SGDRegressor\n",
    "from sklearn.neighbors import KNeighborsRegressor\n",
    "from sklearn.tree import DecisionTreeRegressor\n",
    "from sklearn.ensemble import RandomForestRegressor\n",
    "from xgboost import XGBRegressor\n",
    "from lightgbm import LGBMRegressor\n",
    "from sklearn.model_selection import cross_val_score\n",
    "from uszipcode import SearchEngine"
   ]
  },
  {
   "cell_type": "code",
   "execution_count": 755,
   "metadata": {},
   "outputs": [
    {
     "name": "stderr",
     "output_type": "stream",
     "text": [
      "C:\\Users\\yomaa\\AppData\\Local\\Temp\\ipykernel_16220\\2927276076.py:1: DtypeWarning: Columns (15) have mixed types. Specify dtype option on import or set low_memory=False.\n",
      "  df = pd.read_csv('Data for Cleaning & Modeling.csv')\n"
     ]
    },
    {
     "data": {
      "text/html": [
       "<div>\n",
       "<style scoped>\n",
       "    .dataframe tbody tr th:only-of-type {\n",
       "        vertical-align: middle;\n",
       "    }\n",
       "\n",
       "    .dataframe tbody tr th {\n",
       "        vertical-align: top;\n",
       "    }\n",
       "\n",
       "    .dataframe thead th {\n",
       "        text-align: right;\n",
       "    }\n",
       "</style>\n",
       "<table border=\"1\" class=\"dataframe\">\n",
       "  <thead>\n",
       "    <tr style=\"text-align: right;\">\n",
       "      <th></th>\n",
       "      <th>X1</th>\n",
       "      <th>X2</th>\n",
       "      <th>X3</th>\n",
       "      <th>X4</th>\n",
       "      <th>X5</th>\n",
       "      <th>X6</th>\n",
       "      <th>X7</th>\n",
       "      <th>X8</th>\n",
       "      <th>X9</th>\n",
       "      <th>X10</th>\n",
       "      <th>...</th>\n",
       "      <th>X23</th>\n",
       "      <th>X24</th>\n",
       "      <th>X25</th>\n",
       "      <th>X26</th>\n",
       "      <th>X27</th>\n",
       "      <th>X28</th>\n",
       "      <th>X29</th>\n",
       "      <th>X30</th>\n",
       "      <th>X31</th>\n",
       "      <th>X32</th>\n",
       "    </tr>\n",
       "  </thead>\n",
       "  <tbody>\n",
       "    <tr>\n",
       "      <th>0</th>\n",
       "      <td>11.89%</td>\n",
       "      <td>54734.0</td>\n",
       "      <td>80364.0</td>\n",
       "      <td>$25,000</td>\n",
       "      <td>$25,000</td>\n",
       "      <td>$19,080</td>\n",
       "      <td>36 months</td>\n",
       "      <td>B</td>\n",
       "      <td>B4</td>\n",
       "      <td>NaN</td>\n",
       "      <td>...</td>\n",
       "      <td>Feb-94</td>\n",
       "      <td>0.0</td>\n",
       "      <td>NaN</td>\n",
       "      <td>NaN</td>\n",
       "      <td>10.0</td>\n",
       "      <td>0.0</td>\n",
       "      <td>28854.0</td>\n",
       "      <td>52.10%</td>\n",
       "      <td>42.0</td>\n",
       "      <td>f</td>\n",
       "    </tr>\n",
       "    <tr>\n",
       "      <th>1</th>\n",
       "      <td>10.71%</td>\n",
       "      <td>55742.0</td>\n",
       "      <td>114426.0</td>\n",
       "      <td>$7,000</td>\n",
       "      <td>$7,000</td>\n",
       "      <td>$673</td>\n",
       "      <td>36 months</td>\n",
       "      <td>B</td>\n",
       "      <td>B5</td>\n",
       "      <td>CNN</td>\n",
       "      <td>...</td>\n",
       "      <td>Oct-00</td>\n",
       "      <td>0.0</td>\n",
       "      <td>NaN</td>\n",
       "      <td>NaN</td>\n",
       "      <td>7.0</td>\n",
       "      <td>0.0</td>\n",
       "      <td>33623.0</td>\n",
       "      <td>76.70%</td>\n",
       "      <td>7.0</td>\n",
       "      <td>f</td>\n",
       "    </tr>\n",
       "    <tr>\n",
       "      <th>2</th>\n",
       "      <td>16.99%</td>\n",
       "      <td>57167.0</td>\n",
       "      <td>137225.0</td>\n",
       "      <td>$25,000</td>\n",
       "      <td>$25,000</td>\n",
       "      <td>$24,725</td>\n",
       "      <td>36 months</td>\n",
       "      <td>D</td>\n",
       "      <td>D3</td>\n",
       "      <td>Web Programmer</td>\n",
       "      <td>...</td>\n",
       "      <td>Jun-00</td>\n",
       "      <td>0.0</td>\n",
       "      <td>41.0</td>\n",
       "      <td>NaN</td>\n",
       "      <td>10.0</td>\n",
       "      <td>0.0</td>\n",
       "      <td>19878.0</td>\n",
       "      <td>66.30%</td>\n",
       "      <td>17.0</td>\n",
       "      <td>f</td>\n",
       "    </tr>\n",
       "    <tr>\n",
       "      <th>3</th>\n",
       "      <td>13.11%</td>\n",
       "      <td>57245.0</td>\n",
       "      <td>138150.0</td>\n",
       "      <td>$1,200</td>\n",
       "      <td>$1,200</td>\n",
       "      <td>$1,200</td>\n",
       "      <td>36 months</td>\n",
       "      <td>C</td>\n",
       "      <td>C2</td>\n",
       "      <td>city of beaumont texas</td>\n",
       "      <td>...</td>\n",
       "      <td>Jan-85</td>\n",
       "      <td>0.0</td>\n",
       "      <td>64.0</td>\n",
       "      <td>NaN</td>\n",
       "      <td>5.0</td>\n",
       "      <td>0.0</td>\n",
       "      <td>2584.0</td>\n",
       "      <td>40.40%</td>\n",
       "      <td>31.0</td>\n",
       "      <td>f</td>\n",
       "    </tr>\n",
       "    <tr>\n",
       "      <th>4</th>\n",
       "      <td>13.57%</td>\n",
       "      <td>57416.0</td>\n",
       "      <td>139635.0</td>\n",
       "      <td>$10,800</td>\n",
       "      <td>$10,800</td>\n",
       "      <td>$10,692</td>\n",
       "      <td>36 months</td>\n",
       "      <td>C</td>\n",
       "      <td>C3</td>\n",
       "      <td>State Farm Insurance</td>\n",
       "      <td>...</td>\n",
       "      <td>Dec-96</td>\n",
       "      <td>1.0</td>\n",
       "      <td>58.0</td>\n",
       "      <td>NaN</td>\n",
       "      <td>14.0</td>\n",
       "      <td>0.0</td>\n",
       "      <td>3511.0</td>\n",
       "      <td>25.60%</td>\n",
       "      <td>40.0</td>\n",
       "      <td>f</td>\n",
       "    </tr>\n",
       "  </tbody>\n",
       "</table>\n",
       "<p>5 rows × 32 columns</p>\n",
       "</div>"
      ],
      "text/plain": [
       "       X1       X2        X3       X4       X5       X6          X7 X8  X9  \\\n",
       "0  11.89%  54734.0   80364.0  $25,000  $25,000  $19,080   36 months  B  B4   \n",
       "1  10.71%  55742.0  114426.0   $7,000   $7,000     $673   36 months  B  B5   \n",
       "2  16.99%  57167.0  137225.0  $25,000  $25,000  $24,725   36 months  D  D3   \n",
       "3  13.11%  57245.0  138150.0   $1,200   $1,200   $1,200   36 months  C  C2   \n",
       "4  13.57%  57416.0  139635.0  $10,800  $10,800  $10,692   36 months  C  C3   \n",
       "\n",
       "                      X10  ...     X23  X24   X25 X26   X27  X28      X29  \\\n",
       "0                     NaN  ...  Feb-94  0.0   NaN NaN  10.0  0.0  28854.0   \n",
       "1                     CNN  ...  Oct-00  0.0   NaN NaN   7.0  0.0  33623.0   \n",
       "2          Web Programmer  ...  Jun-00  0.0  41.0 NaN  10.0  0.0  19878.0   \n",
       "3  city of beaumont texas  ...  Jan-85  0.0  64.0 NaN   5.0  0.0   2584.0   \n",
       "4    State Farm Insurance  ...  Dec-96  1.0  58.0 NaN  14.0  0.0   3511.0   \n",
       "\n",
       "      X30   X31 X32  \n",
       "0  52.10%  42.0   f  \n",
       "1  76.70%   7.0   f  \n",
       "2  66.30%  17.0   f  \n",
       "3  40.40%  31.0   f  \n",
       "4  25.60%  40.0   f  \n",
       "\n",
       "[5 rows x 32 columns]"
      ]
     },
     "execution_count": 755,
     "metadata": {},
     "output_type": "execute_result"
    }
   ],
   "source": [
    "df = pd.read_csv('Data for Cleaning & Modeling.csv')\n",
    "df.head()"
   ]
  },
  {
   "cell_type": "code",
   "execution_count": 756,
   "metadata": {},
   "outputs": [
    {
     "data": {
      "text/html": [
       "<div>\n",
       "<style scoped>\n",
       "    .dataframe tbody tr th:only-of-type {\n",
       "        vertical-align: middle;\n",
       "    }\n",
       "\n",
       "    .dataframe tbody tr th {\n",
       "        vertical-align: top;\n",
       "    }\n",
       "\n",
       "    .dataframe thead th {\n",
       "        text-align: right;\n",
       "    }\n",
       "</style>\n",
       "<table border=\"1\" class=\"dataframe\">\n",
       "  <thead>\n",
       "    <tr style=\"text-align: right;\">\n",
       "      <th></th>\n",
       "      <th>null_percent</th>\n",
       "    </tr>\n",
       "  </thead>\n",
       "  <tbody>\n",
       "    <tr>\n",
       "      <th>X26</th>\n",
       "      <td>87.21</td>\n",
       "    </tr>\n",
       "    <tr>\n",
       "      <th>X16</th>\n",
       "      <td>69.11</td>\n",
       "    </tr>\n",
       "    <tr>\n",
       "      <th>X25</th>\n",
       "      <td>54.70</td>\n",
       "    </tr>\n",
       "    <tr>\n",
       "      <th>X12</th>\n",
       "      <td>15.34</td>\n",
       "    </tr>\n",
       "    <tr>\n",
       "      <th>X8</th>\n",
       "      <td>15.32</td>\n",
       "    </tr>\n",
       "    <tr>\n",
       "      <th>X9</th>\n",
       "      <td>15.32</td>\n",
       "    </tr>\n",
       "    <tr>\n",
       "      <th>X13</th>\n",
       "      <td>15.26</td>\n",
       "    </tr>\n",
       "    <tr>\n",
       "      <th>X1</th>\n",
       "      <td>15.25</td>\n",
       "    </tr>\n",
       "    <tr>\n",
       "      <th>X10</th>\n",
       "      <td>6.00</td>\n",
       "    </tr>\n",
       "    <tr>\n",
       "      <th>X11</th>\n",
       "      <td>4.38</td>\n",
       "    </tr>\n",
       "    <tr>\n",
       "      <th>X30</th>\n",
       "      <td>0.07</td>\n",
       "    </tr>\n",
       "  </tbody>\n",
       "</table>\n",
       "</div>"
      ],
      "text/plain": [
       "     null_percent\n",
       "X26         87.21\n",
       "X16         69.11\n",
       "X25         54.70\n",
       "X12         15.34\n",
       "X8          15.32\n",
       "X9          15.32\n",
       "X13         15.26\n",
       "X1          15.25\n",
       "X10          6.00\n",
       "X11          4.38\n",
       "X30          0.07"
      ]
     },
     "execution_count": 756,
     "metadata": {},
     "output_type": "execute_result"
    }
   ],
   "source": [
    "nulls = pd.DataFrame(round(df.isnull().sum()/len(df.index)*100,2),columns=['null_percent'])\n",
    "nulls[nulls['null_percent']!=0.00].sort_values('null_percent',ascending=False)"
   ]
  },
  {
   "cell_type": "markdown",
   "metadata": {},
   "source": [
    "# EDA"
   ]
  },
  {
   "cell_type": "markdown",
   "metadata": {},
   "source": [
    "1. Let us format some of the columns."
   ]
  },
  {
   "cell_type": "code",
   "execution_count": 757,
   "metadata": {},
   "outputs": [
    {
     "data": {
      "text/html": [
       "<div>\n",
       "<style scoped>\n",
       "    .dataframe tbody tr th:only-of-type {\n",
       "        vertical-align: middle;\n",
       "    }\n",
       "\n",
       "    .dataframe tbody tr th {\n",
       "        vertical-align: top;\n",
       "    }\n",
       "\n",
       "    .dataframe thead th {\n",
       "        text-align: right;\n",
       "    }\n",
       "</style>\n",
       "<table border=\"1\" class=\"dataframe\">\n",
       "  <thead>\n",
       "    <tr style=\"text-align: right;\">\n",
       "      <th></th>\n",
       "      <th>X1</th>\n",
       "      <th>X2</th>\n",
       "      <th>X3</th>\n",
       "      <th>X4</th>\n",
       "      <th>X5</th>\n",
       "      <th>X6</th>\n",
       "      <th>X7</th>\n",
       "      <th>X8</th>\n",
       "      <th>X9</th>\n",
       "      <th>X10</th>\n",
       "      <th>...</th>\n",
       "      <th>X23</th>\n",
       "      <th>X24</th>\n",
       "      <th>X25</th>\n",
       "      <th>X26</th>\n",
       "      <th>X27</th>\n",
       "      <th>X28</th>\n",
       "      <th>X29</th>\n",
       "      <th>X30</th>\n",
       "      <th>X31</th>\n",
       "      <th>X32</th>\n",
       "    </tr>\n",
       "  </thead>\n",
       "  <tbody>\n",
       "    <tr>\n",
       "      <th>364111</th>\n",
       "      <td>7.69%</td>\n",
       "      <td>NaN</td>\n",
       "      <td>NaN</td>\n",
       "      <td>NaN</td>\n",
       "      <td>NaN</td>\n",
       "      <td>NaN</td>\n",
       "      <td>NaN</td>\n",
       "      <td>NaN</td>\n",
       "      <td>NaN</td>\n",
       "      <td>NaN</td>\n",
       "      <td>...</td>\n",
       "      <td>NaN</td>\n",
       "      <td>NaN</td>\n",
       "      <td>NaN</td>\n",
       "      <td>NaN</td>\n",
       "      <td>NaN</td>\n",
       "      <td>NaN</td>\n",
       "      <td>NaN</td>\n",
       "      <td>NaN</td>\n",
       "      <td>NaN</td>\n",
       "      <td>NaN</td>\n",
       "    </tr>\n",
       "  </tbody>\n",
       "</table>\n",
       "<p>1 rows × 32 columns</p>\n",
       "</div>"
      ],
      "text/plain": [
       "           X1  X2  X3   X4   X5   X6   X7   X8   X9  X10  ...  X23 X24  X25  \\\n",
       "364111  7.69% NaN NaN  NaN  NaN  NaN  NaN  NaN  NaN  NaN  ...  NaN NaN  NaN   \n",
       "\n",
       "       X26 X27 X28 X29  X30 X31  X32  \n",
       "364111 NaN NaN NaN NaN  NaN NaN  NaN  \n",
       "\n",
       "[1 rows x 32 columns]"
      ]
     },
     "execution_count": 757,
     "metadata": {},
     "output_type": "execute_result"
    }
   ],
   "source": [
    "df[df[\"X19\"].isna()]"
   ]
  },
  {
   "cell_type": "code",
   "execution_count": 758,
   "metadata": {},
   "outputs": [],
   "source": [
    "df_1 = df.drop(index=364111)"
   ]
  },
  {
   "cell_type": "code",
   "execution_count": 759,
   "metadata": {},
   "outputs": [],
   "source": [
    "df_1 = df_1.dropna(subset=[\"X1\"])"
   ]
  },
  {
   "cell_type": "code",
   "execution_count": 760,
   "metadata": {},
   "outputs": [
    {
     "name": "stdout",
     "output_type": "stream",
     "text": [
      "<class 'pandas.core.frame.DataFrame'>\n",
      "Int64Index: 338989 entries, 0 to 399999\n",
      "Data columns (total 32 columns):\n",
      " #   Column  Non-Null Count   Dtype  \n",
      "---  ------  --------------   -----  \n",
      " 0   X1      338989 non-null  object \n",
      " 1   X2      338989 non-null  float64\n",
      " 2   X3      338989 non-null  float64\n",
      " 3   X4      338989 non-null  object \n",
      " 4   X5      338989 non-null  object \n",
      " 5   X6      338989 non-null  object \n",
      " 6   X7      338989 non-null  object \n",
      " 7   X8      287123 non-null  object \n",
      " 8   X9      287123 non-null  object \n",
      " 9   X10     318733 non-null  object \n",
      " 10  X11     324195 non-null  object \n",
      " 11  X12     287030 non-null  object \n",
      " 12  X13     287238 non-null  float64\n",
      " 13  X14     338989 non-null  object \n",
      " 14  X15     338989 non-null  object \n",
      " 15  X16     105056 non-null  object \n",
      " 16  X17     338989 non-null  object \n",
      " 17  X18     338973 non-null  object \n",
      " 18  X19     338989 non-null  object \n",
      " 19  X20     338989 non-null  object \n",
      " 20  X21     338989 non-null  float64\n",
      " 21  X22     338989 non-null  float64\n",
      " 22  X23     338989 non-null  object \n",
      " 23  X24     338989 non-null  float64\n",
      " 24  X25     153533 non-null  float64\n",
      " 25  X26     43400 non-null   float64\n",
      " 26  X27     338989 non-null  float64\n",
      " 27  X28     338989 non-null  float64\n",
      " 28  X29     338989 non-null  float64\n",
      " 29  X30     338765 non-null  object \n",
      " 30  X31     338989 non-null  float64\n",
      " 31  X32     338989 non-null  object \n",
      "dtypes: float64(12), object(20)\n",
      "memory usage: 85.3+ MB\n"
     ]
    }
   ],
   "source": [
    "df_1.info()"
   ]
  },
  {
   "cell_type": "code",
   "execution_count": 761,
   "metadata": {},
   "outputs": [],
   "source": [
    "df_1[\"X1\"] = df_1[\"X1\"].replace('[\\$,]', '', regex=True).replace('[\\%,]', '', regex=True).astype(float)/100\n",
    "df_1[\"X30\"] = df_1[\"X30\"].replace('[\\$,]', '', regex=True).replace('[\\%,]', '', regex=True).astype(float)/100"
   ]
  },
  {
   "cell_type": "code",
   "execution_count": 762,
   "metadata": {},
   "outputs": [],
   "source": [
    "df_1[\"X4\"] = df_1[\"X4\"].replace('[\\$,]', '', regex=True).astype(float)\n",
    "df_1[\"X5\"] = df_1[\"X4\"].replace('[\\$,]', '', regex=True).astype(float)\n",
    "df_1[\"X6\"] = df_1[\"X4\"].replace('[\\$,]', '', regex=True).astype(float)"
   ]
  },
  {
   "cell_type": "markdown",
   "metadata": {},
   "source": [
    "2. let us remove columns that have more than 50% Nulls. or have no information."
   ]
  },
  {
   "cell_type": "code",
   "execution_count": 763,
   "metadata": {},
   "outputs": [],
   "source": [
    "df_2 = df_1.copy()\n",
    "df_2 = df_2.drop([\"X2\",\"X3\",\"X26\",\"X16\",\"X18\",\"X25\"],axis=1)"
   ]
  },
  {
   "cell_type": "code",
   "execution_count": 764,
   "metadata": {},
   "outputs": [],
   "source": [
    "df_2[\"X1\"] = df_2[\"X1\"].astype(float)\n",
    "df_2[\"X30\"] = df_2[\"X30\"].astype(float)\n",
    "df_2[\"X4\"] = df_2[\"X4\"].astype(float)\n",
    "df_2[\"X5\"] = df_2[\"X5\"].astype(float)\n",
    "df_2[\"X6\"] = df_2[\"X6\"].astype(float)"
   ]
  },
  {
   "cell_type": "markdown",
   "metadata": {},
   "source": [
    "Let us take a look at the income verified column."
   ]
  },
  {
   "cell_type": "code",
   "execution_count": 765,
   "metadata": {},
   "outputs": [
    {
     "data": {
      "text/plain": [
       "<seaborn.axisgrid.PairGrid at 0x22b03431490>"
      ]
     },
     "execution_count": 765,
     "metadata": {},
     "output_type": "execute_result"
    },
    {
     "data": {
      "image/png": "[encoded data removed]",
      "text/plain": [
       "<Figure size 500x500 with 1 Axes>"
      ]
     },
     "metadata": {},
     "output_type": "display_data"
    }
   ],
   "source": [
    "sns.set(style=\"whitegrid\")\n",
    "g = sns.PairGrid(data=df_2, x_vars=['X14'], y_vars='X1', height=5)\n",
    "g.map(sns.pointplot, color=sns.xkcd_rgb[\"red\"])\n",
    "g.set(ylim=(0, 1))"
   ]
  },
  {
   "cell_type": "markdown",
   "metadata": {},
   "source": [
    "3. Let us convert the income verified column to a binary column, where not verified = 1 and verified or verified source = 0"
   ]
  },
  {
   "cell_type": "code",
   "execution_count": 766,
   "metadata": {},
   "outputs": [],
   "source": [
    "df_2[\"X14\"] = df_2[\"X14\"].apply(lambda x: 1 if x == \"not verified\" else 0)"
   ]
  },
  {
   "cell_type": "markdown",
   "metadata": {},
   "source": [
    "4. Let us fill in the nulls in the Number of years employed to n/a"
   ]
  },
  {
   "cell_type": "code",
   "execution_count": 767,
   "metadata": {},
   "outputs": [],
   "source": [
    "df_2.loc[df_2[\"X11\"].isna(),\"X11\"] = \"n/a\""
   ]
  },
  {
   "cell_type": "code",
   "execution_count": 768,
   "metadata": {},
   "outputs": [
    {
     "data": {
      "text/plain": [
       "10+ years    108491\n",
       "2 years       30117\n",
       "3 years       26670\n",
       "< 1 year      26003\n",
       "5 years       23072\n",
       "1 year        21432\n",
       "4 years       20259\n",
       "6 years       19601\n",
       "7 years       19445\n",
       "8 years       16212\n",
       "n/a           14794\n",
       "9 years       12893\n",
       "Name: X11, dtype: int64"
      ]
     },
     "execution_count": 768,
     "metadata": {},
     "output_type": "execute_result"
    }
   ],
   "source": [
    "df_2[\"X11\"].value_counts()"
   ]
  },
  {
   "cell_type": "code",
   "execution_count": 769,
   "metadata": {},
   "outputs": [
    {
     "data": {
      "text/plain": [
       "<seaborn.axisgrid.PairGrid at 0x22b6b3761d0>"
      ]
     },
     "execution_count": 769,
     "metadata": {},
     "output_type": "execute_result"
    },
    {
     "data": {
      "image/png": "[encoded data removed]",
      "text/plain": [
       "<Figure size 700x700 with 1 Axes>"
      ]
     },
     "metadata": {},
     "output_type": "display_data"
    }
   ],
   "source": [
    "sns.set(style=\"whitegrid\")\n",
    "g = sns.PairGrid(data=df_2, x_vars=['X11'], y_vars='X1', height=7)\n",
    "g.map(sns.pointplot, color=sns.xkcd_rgb[\"red\"])\n",
    "g.set(ylim=(0, 1))"
   ]
  },
  {
   "cell_type": "markdown",
   "metadata": {},
   "source": [
    "considerting that the number of years employed has little to no impact on the interest rate, we can compress it."
   ]
  },
  {
   "cell_type": "code",
   "execution_count": 770,
   "metadata": {},
   "outputs": [],
   "source": [
    "df_2[\"X11\"] = df_2[\"X11\"].apply(lambda x: \"<3\" if x in [\"< 1 year\",\"1 year\",\"2 years\",\"3 years\"] else (\"3-6\" if x in [\"4 years\",\"5 years\",\"6 years\"] else (\"6+\" if x != \"n/a\" else \"n/a\")))"
   ]
  },
  {
   "cell_type": "code",
   "execution_count": 771,
   "metadata": {},
   "outputs": [
    {
     "data": {
      "text/plain": [
       "6+     157041\n",
       "<3     104222\n",
       "3-6     62932\n",
       "n/a     14794\n",
       "Name: X11, dtype: int64"
      ]
     },
     "execution_count": 771,
     "metadata": {},
     "output_type": "execute_result"
    }
   ],
   "source": [
    "df_2[\"X11\"].value_counts()"
   ]
  },
  {
   "cell_type": "code",
   "execution_count": 772,
   "metadata": {},
   "outputs": [
    {
     "data": {
      "text/plain": [
       "51751"
      ]
     },
     "execution_count": 772,
     "metadata": {},
     "output_type": "execute_result"
    }
   ],
   "source": [
    "df_2[\"X13\"].isna().sum()"
   ]
  },
  {
   "cell_type": "markdown",
   "metadata": {},
   "source": [
    "3. Let us create a column called is_employed based on the employer/job title, Annual Income, Number of years employed, income verified."
   ]
  },
  {
   "cell_type": "code",
   "execution_count": 773,
   "metadata": {},
   "outputs": [],
   "source": [
    "df_2[\"is_emplyed\"] = np.where((df_2[\"X10\"].notna()) | (df_2[\"X13\"].notna()) | (df_2[\"X14\"]==0) | (df_2[\"X11\"]!=\"n/a\"),1,0)"
   ]
  },
  {
   "cell_type": "code",
   "execution_count": 774,
   "metadata": {},
   "outputs": [
    {
     "data": {
      "text/plain": [
       "1    338886\n",
       "0       103\n",
       "Name: is_emplyed, dtype: int64"
      ]
     },
     "execution_count": 774,
     "metadata": {},
     "output_type": "execute_result"
    }
   ],
   "source": [
    "df_2.is_emplyed.value_counts()"
   ]
  },
  {
   "cell_type": "markdown",
   "metadata": {},
   "source": [
    "As we can see, there are very few people that are not emplyed."
   ]
  },
  {
   "cell_type": "markdown",
   "metadata": {},
   "source": [
    "3. The Zip code column could be usefull if we could use it to extract median incomes to fill in the blanks"
   ]
  },
  {
   "cell_type": "code",
   "execution_count": 775,
   "metadata": {},
   "outputs": [],
   "source": [
    "def get_zip_code_median_income(zipcode):\n",
    "    sr = SearchEngine()\n",
    "    z = sr.by_zipcode(zipcode)\n",
    "    if z is not None:\n",
    "        return z.median_household_income\n",
    "    else:\n",
    "        return None\n",
    "\n",
    "\n",
    "def get_three_digit_median_income(zipcode_three_digit: str):\n",
    "    total = 0\n",
    "    length = 0\n",
    "    for i in range(100):\n",
    "        fstrings = f\"{i:02}\"\n",
    "        five_digit = zipcode_three_digit.lower().replace(\"xx\",fstrings)\n",
    "        median_income = get_zip_code_median_income(five_digit)\n",
    "        if median_income is not None:\n",
    "            total+=median_income\n",
    "            length+=1\n",
    "    if length!=0:\n",
    "        return total/length\n",
    "    else:\n",
    "        return 0\n",
    "\n",
    "def make_zipcode_hashmap(zipcodeList):\n",
    "    unique_codes = np.unique(zipcodeList)\n",
    "    zip_dict = {}\n",
    "    for i in unique_codes:\n",
    "        if i not in zip_dict.keys():\n",
    "            median_income = get_three_digit_median_income(i)\n",
    "            zip_dict[i] = median_income\n",
    "    \n",
    "    return zip_dict"
   ]
  },
  {
   "cell_type": "code",
   "execution_count": 776,
   "metadata": {},
   "outputs": [],
   "source": [
    "df_3 = df_2.copy()"
   ]
  },
  {
   "cell_type": "code",
   "execution_count": 777,
   "metadata": {},
   "outputs": [],
   "source": [
    "zip_list = df_3.loc[df[\"X13\"].isna(),\"X19\"].values\n",
    "hash_zip = make_zipcode_hashmap(zip_list)"
   ]
  },
  {
   "cell_type": "code",
   "execution_count": 778,
   "metadata": {},
   "outputs": [
    {
     "data": {
      "text/plain": [
       "X1                0\n",
       "X4                0\n",
       "X5                0\n",
       "X6                0\n",
       "X7                0\n",
       "X8            51866\n",
       "X9            51866\n",
       "X10           20256\n",
       "X11               0\n",
       "X12           51959\n",
       "X13             103\n",
       "X14               0\n",
       "X15               0\n",
       "X17               0\n",
       "X19               0\n",
       "X20               0\n",
       "X21               0\n",
       "X22               0\n",
       "X23               0\n",
       "X24               0\n",
       "X27               0\n",
       "X28               0\n",
       "X29               0\n",
       "X30             224\n",
       "X31               0\n",
       "X32               0\n",
       "is_emplyed        0\n",
       "dtype: int64"
      ]
     },
     "execution_count": 778,
     "metadata": {},
     "output_type": "execute_result"
    }
   ],
   "source": [
    "df_3.loc[(df_3[\"X13\"].isna()) & (df_3[\"is_emplyed\"]==1),\"X13\"] = df_3[(df_3[\"X13\"].isna()) & (df_3[\"is_emplyed\"]==1)][\"X19\"].apply(lambda x: hash_zip[x])\n",
    "df_3.isna().sum()"
   ]
  },
  {
   "cell_type": "markdown",
   "metadata": {},
   "source": [
    "Let us set the value of null values in X13 to 0"
   ]
  },
  {
   "cell_type": "code",
   "execution_count": 779,
   "metadata": {},
   "outputs": [
    {
     "name": "stderr",
     "output_type": "stream",
     "text": [
      "C:\\Users\\yomaa\\AppData\\Local\\Temp\\ipykernel_16220\\3007126925.py:1: SettingWithCopyWarning: \n",
      "A value is trying to be set on a copy of a slice from a DataFrame.\n",
      "Try using .loc[row_indexer,col_indexer] = value instead\n",
      "\n",
      "See the caveats in the documentation: https://pandas.pydata.org/pandas-docs/stable/user_guide/indexing.html#returning-a-view-versus-a-copy\n",
      "  df_3[df_3[\"X13\"].isna()][\"X13\"] = 0\n"
     ]
    },
    {
     "data": {
      "text/plain": [
       "X1                0\n",
       "X4                0\n",
       "X5                0\n",
       "X6                0\n",
       "X7                0\n",
       "X8            51866\n",
       "X9            51866\n",
       "X10           20256\n",
       "X11               0\n",
       "X12           51959\n",
       "X13             103\n",
       "X14               0\n",
       "X15               0\n",
       "X17               0\n",
       "X19               0\n",
       "X20               0\n",
       "X21               0\n",
       "X22               0\n",
       "X23               0\n",
       "X24               0\n",
       "X27               0\n",
       "X28               0\n",
       "X29               0\n",
       "X30             224\n",
       "X31               0\n",
       "X32               0\n",
       "is_emplyed        0\n",
       "dtype: int64"
      ]
     },
     "execution_count": 779,
     "metadata": {},
     "output_type": "execute_result"
    }
   ],
   "source": [
    "df_3[df_3[\"X13\"].isna()][\"X13\"] = 0\n",
    "df_3.isna().sum()"
   ]
  },
  {
   "cell_type": "markdown",
   "metadata": {},
   "source": [
    "We should set the annual income of nulls to 0 as we do not know their employability."
   ]
  },
  {
   "cell_type": "code",
   "execution_count": 780,
   "metadata": {},
   "outputs": [],
   "source": [
    "df_3[\"X13\"] = df_3[\"X13\"].fillna(0)"
   ]
  },
  {
   "cell_type": "code",
   "execution_count": 781,
   "metadata": {},
   "outputs": [
    {
     "data": {
      "text/plain": [
       "X1                0\n",
       "X4                0\n",
       "X5                0\n",
       "X6                0\n",
       "X7                0\n",
       "X8            51866\n",
       "X9            51866\n",
       "X10           20256\n",
       "X11               0\n",
       "X12           51959\n",
       "X13               0\n",
       "X14               0\n",
       "X15               0\n",
       "X17               0\n",
       "X19               0\n",
       "X20               0\n",
       "X21               0\n",
       "X22               0\n",
       "X23               0\n",
       "X24               0\n",
       "X27               0\n",
       "X28               0\n",
       "X29               0\n",
       "X30             224\n",
       "X31               0\n",
       "X32               0\n",
       "is_emplyed        0\n",
       "dtype: int64"
      ]
     },
     "execution_count": 781,
     "metadata": {},
     "output_type": "execute_result"
    }
   ],
   "source": [
    "df_3.isna().sum()"
   ]
  },
  {
   "cell_type": "markdown",
   "metadata": {},
   "source": [
    "2. Let us drop the X10,X14 columns as we have consolidated information from them."
   ]
  },
  {
   "cell_type": "code",
   "execution_count": 782,
   "metadata": {},
   "outputs": [],
   "source": [
    "df_4 = df_3.drop([\"X10\",\"X14\"],axis=1)"
   ]
  },
  {
   "cell_type": "markdown",
   "metadata": {},
   "source": [
    "The Loan subgrade seems to be a more granular version of loan grade. Lets see if we can interpolate the nulls of either correspond to either. "
   ]
  },
  {
   "cell_type": "code",
   "execution_count": 783,
   "metadata": {},
   "outputs": [
    {
     "data": {
      "text/html": [
       "<div>\n",
       "<style scoped>\n",
       "    .dataframe tbody tr th:only-of-type {\n",
       "        vertical-align: middle;\n",
       "    }\n",
       "\n",
       "    .dataframe tbody tr th {\n",
       "        vertical-align: top;\n",
       "    }\n",
       "\n",
       "    .dataframe thead th {\n",
       "        text-align: right;\n",
       "    }\n",
       "</style>\n",
       "<table border=\"1\" class=\"dataframe\">\n",
       "  <thead>\n",
       "    <tr style=\"text-align: right;\">\n",
       "      <th></th>\n",
       "      <th>X8</th>\n",
       "      <th>X9</th>\n",
       "    </tr>\n",
       "  </thead>\n",
       "  <tbody>\n",
       "  </tbody>\n",
       "</table>\n",
       "</div>"
      ],
      "text/plain": [
       "Empty DataFrame\n",
       "Columns: [X8, X9]\n",
       "Index: []"
      ]
     },
     "execution_count": 783,
     "metadata": {},
     "output_type": "execute_result"
    }
   ],
   "source": [
    "df_4.loc[((df_4[\"X8\"].isna()) & (df_4[\"X9\"].notna())) | ((df_4[\"X9\"].isna()) & (df_4[\"X8\"].notna())) ,[\"X8\",\"X9\"]]"
   ]
  },
  {
   "cell_type": "markdown",
   "metadata": {},
   "source": [
    "As we can see the na's in either of the columns is correlated, and since subgrade is a more granular version of grade, it makes sense to drop grade. "
   ]
  },
  {
   "cell_type": "code",
   "execution_count": 784,
   "metadata": {},
   "outputs": [],
   "source": [
    "df_5 = df_4.drop(\"X8\",axis=1)"
   ]
  },
  {
   "cell_type": "markdown",
   "metadata": {},
   "source": [
    "We cant estimate the values of Loan grades so we should drop the nulls"
   ]
  },
  {
   "cell_type": "code",
   "execution_count": 785,
   "metadata": {},
   "outputs": [],
   "source": [
    "df_6 = df_5.dropna(subset=[\"X9\"])"
   ]
  },
  {
   "cell_type": "code",
   "execution_count": 786,
   "metadata": {},
   "outputs": [
    {
     "data": {
      "text/plain": [
       "X1                0\n",
       "X4                0\n",
       "X5                0\n",
       "X6                0\n",
       "X7                0\n",
       "X9                0\n",
       "X11               0\n",
       "X12           44128\n",
       "X13               0\n",
       "X15               0\n",
       "X17               0\n",
       "X19               0\n",
       "X20               0\n",
       "X21               0\n",
       "X22               0\n",
       "X23               0\n",
       "X24               0\n",
       "X27               0\n",
       "X28               0\n",
       "X29               0\n",
       "X30             178\n",
       "X31               0\n",
       "X32               0\n",
       "is_emplyed        0\n",
       "dtype: int64"
      ]
     },
     "execution_count": 786,
     "metadata": {},
     "output_type": "execute_result"
    }
   ],
   "source": [
    "df_6.isna().sum()"
   ]
  },
  {
   "cell_type": "code",
   "execution_count": 787,
   "metadata": {},
   "outputs": [
    {
     "data": {
      "text/plain": [
       "MORTGAGE    123495\n",
       "RENT         98278\n",
       "OWN          21100\n",
       "OTHER           93\n",
       "NONE            28\n",
       "ANY              1\n",
       "Name: X12, dtype: int64"
      ]
     },
     "execution_count": 787,
     "metadata": {},
     "output_type": "execute_result"
    }
   ],
   "source": [
    "df_6[\"X12\"].value_counts()"
   ]
  },
  {
   "cell_type": "code",
   "execution_count": 788,
   "metadata": {},
   "outputs": [
    {
     "data": {
      "text/plain": [
       "<seaborn.axisgrid.PairGrid at 0x22b31d9de10>"
      ]
     },
     "execution_count": 788,
     "metadata": {},
     "output_type": "execute_result"
    },
    {
     "data": {
      "image/png": "[encoded data removed]",
      "text/plain": [
       "<Figure size 700x700 with 1 Axes>"
      ]
     },
     "metadata": {},
     "output_type": "display_data"
    }
   ],
   "source": [
    "sns.set(style=\"whitegrid\")\n",
    "g = sns.PairGrid(data=df_6, x_vars=['X12'], y_vars='X1', height=7)\n",
    "g.map(sns.pointplot, color=sns.xkcd_rgb[\"red\"])\n",
    "g.set(ylim=(0, 1))"
   ]
  },
  {
   "cell_type": "markdown",
   "metadata": {},
   "source": [
    "We can change the any and na to other."
   ]
  },
  {
   "cell_type": "code",
   "execution_count": 789,
   "metadata": {},
   "outputs": [],
   "source": [
    "df_6.loc[(df_6[\"X12\"] == \"ANY\") | (df_6[\"X12\"].isna())| (df_6[\"X12\"]==\"NONE\"),\"X12\"] = \"OTHER\""
   ]
  },
  {
   "cell_type": "code",
   "execution_count": 790,
   "metadata": {},
   "outputs": [
    {
     "data": {
      "text/plain": [
       "MORTGAGE    123495\n",
       "RENT         98278\n",
       "OTHER        44250\n",
       "OWN          21100\n",
       "Name: X12, dtype: int64"
      ]
     },
     "execution_count": 790,
     "metadata": {},
     "output_type": "execute_result"
    }
   ],
   "source": [
    "df_6[\"X12\"].value_counts()"
   ]
  },
  {
   "cell_type": "markdown",
   "metadata": {},
   "source": [
    "Let us now work on the application type"
   ]
  },
  {
   "cell_type": "code",
   "execution_count": 791,
   "metadata": {},
   "outputs": [
    {
     "data": {
      "text/plain": [
       "debt_consolidation    167815\n",
       "credit_card            64107\n",
       "home_improvement       16636\n",
       "other                  14564\n",
       "major_purchase          6191\n",
       "small_business          4560\n",
       "car                     3510\n",
       "medical                 2807\n",
       "moving                  1806\n",
       "wedding                 1634\n",
       "vacation                1557\n",
       "house                   1452\n",
       "educational              244\n",
       "renewable_energy         240\n",
       "Name: X17, dtype: int64"
      ]
     },
     "execution_count": 791,
     "metadata": {},
     "output_type": "execute_result"
    }
   ],
   "source": [
    "df_6[\"X17\"].value_counts()"
   ]
  },
  {
   "cell_type": "markdown",
   "metadata": {},
   "source": [
    "We can consolidate car,medical to debt_consolidation, home_improvement, renewable energy,moving,wedding,vacation to house, major_purchase, small_business, educational  "
   ]
  },
  {
   "cell_type": "code",
   "execution_count": 792,
   "metadata": {},
   "outputs": [
    {
     "data": {
      "text/plain": [
       "debt_consolidation    174132\n",
       "credit_card            64107\n",
       "home_improvement       23325\n",
       "other                  14564\n",
       "major_purchase         10995\n",
       "Name: X17, dtype: int64"
      ]
     },
     "execution_count": 792,
     "metadata": {},
     "output_type": "execute_result"
    }
   ],
   "source": [
    "title_map = {\n",
    "    \"debt_consolidation\": \"debt_consolidation\",\n",
    "    \"credit_card\": \"credit_card\",\n",
    "    \"home_improvement\": \"home_improvement\",\n",
    "    \"other\": \"other\",\n",
    "    \"major_purchase\":\"major_purchase\",\n",
    "    \"small_business\":\"major_purchase\",\n",
    "    \"car\":\"debt_consolidation\",\n",
    "    \"medical\":\"debt_consolidation\",\n",
    "    \"moving\":\"home_improvement\",\n",
    "    \"wedding\":\"home_improvement\",\n",
    "    \"vacation\":\"home_improvement\",\n",
    "    \"house\":\"home_improvement\",\n",
    "    \"educational\":\"major_purchase\",\n",
    "    \"renewable_energy\":\"home_improvement\"  \n",
    "}\n",
    "df_7 = df_6.copy()\n",
    "df_7[\"X17\"] = df_7[\"X17\"].apply(lambda x: title_map[x])\n",
    "df_7[\"X17\"].value_counts()"
   ]
  },
  {
   "cell_type": "code",
   "execution_count": 793,
   "metadata": {},
   "outputs": [
    {
     "data": {
      "text/plain": [
       "X1              0\n",
       "X4              0\n",
       "X5              0\n",
       "X6              0\n",
       "X7              0\n",
       "X9              0\n",
       "X11             0\n",
       "X12             0\n",
       "X13             0\n",
       "X15             0\n",
       "X17             0\n",
       "X19             0\n",
       "X20             0\n",
       "X21             0\n",
       "X22             0\n",
       "X23             0\n",
       "X24             0\n",
       "X27             0\n",
       "X28             0\n",
       "X29             0\n",
       "X30           178\n",
       "X31             0\n",
       "X32             0\n",
       "is_emplyed      0\n",
       "dtype: int64"
      ]
     },
     "execution_count": 793,
     "metadata": {},
     "output_type": "execute_result"
    }
   ],
   "source": [
    "df_7.isna().sum()"
   ]
  },
  {
   "cell_type": "markdown",
   "metadata": {},
   "source": [
    "We can drop X20 as well."
   ]
  },
  {
   "cell_type": "code",
   "execution_count": 794,
   "metadata": {},
   "outputs": [],
   "source": [
    "df_8= df_7.drop([\"X20\"],axis=1)"
   ]
  },
  {
   "cell_type": "markdown",
   "metadata": {},
   "source": [
    "let us convert the datetime features."
   ]
  },
  {
   "cell_type": "code",
   "execution_count": 795,
   "metadata": {},
   "outputs": [],
   "source": [
    "df_8[\"X15\"] = pd.to_datetime(df_8[\"X15\"],format=r\"%b-%y\")\n",
    "df_8[\"X23\"] = pd.to_datetime(df_8[\"X23\"],format=r\"%b-%y\")"
   ]
  },
  {
   "cell_type": "markdown",
   "metadata": {},
   "source": [
    "Let us drop the nulls in the Revolving line utilization rate or X30"
   ]
  },
  {
   "cell_type": "code",
   "execution_count": 796,
   "metadata": {},
   "outputs": [],
   "source": [
    "df_9 = df_8.dropna(subset=[\"X30\"])"
   ]
  },
  {
   "cell_type": "markdown",
   "metadata": {},
   "source": [
    "We can split the date variables, ie X15 and X23 as month and year. We can subtract the current year from X23 year to get how many years its been since the earliest credit line was opened. "
   ]
  },
  {
   "cell_type": "code",
   "execution_count": 797,
   "metadata": {},
   "outputs": [
    {
     "name": "stderr",
     "output_type": "stream",
     "text": [
      "C:\\Users\\yomaa\\AppData\\Local\\Temp\\ipykernel_16220\\2006650130.py:1: SettingWithCopyWarning: \n",
      "A value is trying to be set on a copy of a slice from a DataFrame.\n",
      "Try using .loc[row_indexer,col_indexer] = value instead\n",
      "\n",
      "See the caveats in the documentation: https://pandas.pydata.org/pandas-docs/stable/user_guide/indexing.html#returning-a-view-versus-a-copy\n",
      "  df_9[\"X15_month\"] = df_9[\"X15\"].dt.month\n",
      "C:\\Users\\yomaa\\AppData\\Local\\Temp\\ipykernel_16220\\2006650130.py:2: SettingWithCopyWarning: \n",
      "A value is trying to be set on a copy of a slice from a DataFrame.\n",
      "Try using .loc[row_indexer,col_indexer] = value instead\n",
      "\n",
      "See the caveats in the documentation: https://pandas.pydata.org/pandas-docs/stable/user_guide/indexing.html#returning-a-view-versus-a-copy\n",
      "  df_9[\"X15_year\"] = df_9[\"X15\"].dt.year\n",
      "C:\\Users\\yomaa\\AppData\\Local\\Temp\\ipykernel_16220\\2006650130.py:3: SettingWithCopyWarning: \n",
      "A value is trying to be set on a copy of a slice from a DataFrame.\n",
      "Try using .loc[row_indexer,col_indexer] = value instead\n",
      "\n",
      "See the caveats in the documentation: https://pandas.pydata.org/pandas-docs/stable/user_guide/indexing.html#returning-a-view-versus-a-copy\n",
      "  df_9[\"X23_year\"] = df_9[\"X23\"].dt.year\n",
      "C:\\Users\\yomaa\\AppData\\Local\\Temp\\ipykernel_16220\\2006650130.py:4: SettingWithCopyWarning: \n",
      "A value is trying to be set on a copy of a slice from a DataFrame.\n",
      "Try using .loc[row_indexer,col_indexer] = value instead\n",
      "\n",
      "See the caveats in the documentation: https://pandas.pydata.org/pandas-docs/stable/user_guide/indexing.html#returning-a-view-versus-a-copy\n",
      "  df_9[\"X23_year\"] = datetime.date.today().year - df_9[\"X23_year\"]\n"
     ]
    }
   ],
   "source": [
    "df_9[\"X15_month\"] = df_9[\"X15\"].dt.month\n",
    "df_9[\"X15_year\"] = df_9[\"X15\"].dt.year\n",
    "df_9[\"X23_year\"] = df_9[\"X23\"].dt.year\n",
    "df_9[\"X23_year\"] = datetime.date.today().year - df_9[\"X23_year\"]"
   ]
  },
  {
   "cell_type": "code",
   "execution_count": 798,
   "metadata": {},
   "outputs": [],
   "source": [
    "df_9 = df_9.drop([\"X15\",\"X23\"],axis=1)"
   ]
  },
  {
   "cell_type": "code",
   "execution_count": 799,
   "metadata": {},
   "outputs": [],
   "source": [
    "df_9[\"X19\"] = df_9[\"X19\"].replace('[xx,]', '', regex=True).astype(int)"
   ]
  },
  {
   "cell_type": "code",
   "execution_count": 800,
   "metadata": {},
   "outputs": [],
   "source": [
    "df_10 = pd.get_dummies(df_9)"
   ]
  },
  {
   "cell_type": "code",
   "execution_count": 801,
   "metadata": {},
   "outputs": [
    {
     "data": {
      "text/plain": [
       "Index(['X1', 'X4', 'X5', 'X6', 'X13', 'X19', 'X21', 'X22', 'X24', 'X27', 'X28',\n",
       "       'X29', 'X30', 'X31', 'is_emplyed', 'X15_month', 'X15_year', 'X23_year',\n",
       "       'X7_ 36 months', 'X7_ 60 months', 'X9_A1', 'X9_A2', 'X9_A3', 'X9_A4',\n",
       "       'X9_A5', 'X9_B1', 'X9_B2', 'X9_B3', 'X9_B4', 'X9_B5', 'X9_C1', 'X9_C2',\n",
       "       'X9_C3', 'X9_C4', 'X9_C5', 'X9_D1', 'X9_D2', 'X9_D3', 'X9_D4', 'X9_D5',\n",
       "       'X9_E1', 'X9_E2', 'X9_E3', 'X9_E4', 'X9_E5', 'X9_F1', 'X9_F2', 'X9_F3',\n",
       "       'X9_F4', 'X9_F5', 'X9_G1', 'X9_G2', 'X9_G3', 'X9_G4', 'X9_G5',\n",
       "       'X11_3-6', 'X11_6+', 'X11_<3', 'X11_n/a', 'X12_MORTGAGE', 'X12_OTHER',\n",
       "       'X12_OWN', 'X12_RENT', 'X17_credit_card', 'X17_debt_consolidation',\n",
       "       'X17_home_improvement', 'X17_major_purchase', 'X17_other', 'X32_f',\n",
       "       'X32_w'],\n",
       "      dtype='object')"
      ]
     },
     "execution_count": 801,
     "metadata": {},
     "output_type": "execute_result"
    }
   ],
   "source": [
    "df_10.columns"
   ]
  },
  {
   "cell_type": "code",
   "execution_count": 802,
   "metadata": {},
   "outputs": [],
   "source": [
    "df_final = df_10.copy()"
   ]
  },
  {
   "cell_type": "code",
   "execution_count": 803,
   "metadata": {},
   "outputs": [],
   "source": [
    "scaler = StandardScaler()\n",
    "X,y = df_final.drop(\"X1\",axis=1),df_final[\"X1\"]\n",
    "X_scaled = scaler.fit_transform(X)"
   ]
  },
  {
   "cell_type": "code",
   "execution_count": 804,
   "metadata": {},
   "outputs": [],
   "source": [
    "train_x,test_x,train_y,test_y = train_test_split(X_scaled,y,train_size=0.8,test_size=0.2)"
   ]
  },
  {
   "cell_type": "code",
   "execution_count": 805,
   "metadata": {},
   "outputs": [],
   "source": [
    "def dmp_regressor(model):\n",
    "    regressor = model\n",
    "    regressor.fit(train_x, train_y)\n",
    "    return regressor\n",
    "\n",
    "def dmp_scorer(model):\n",
    "    acc  = round(model.score(test_x, test_y)*100,2)\n",
    "    y_pred = model.predict(test_x)\n",
    "    rmse = metrics.mean_squared_error(test_y,y_pred, squared=False)\n",
    "    r2 = metrics.r2_score(test_y,y_pred)\n",
    "    cross = cross_val_score(model, X_scaled, y, cv=5, scoring='neg_mean_squared_error',n_jobs=6)\n",
    "    mean_score = -cross.mean()\n",
    "    std_score = cross.std()\n",
    "    return [acc,rmse,r2,mean_score,std_score]"
   ]
  },
  {
   "cell_type": "code",
   "execution_count": 806,
   "metadata": {},
   "outputs": [],
   "source": [
    "model_list = [LinearRegression(n_jobs=6),KNeighborsRegressor(n_jobs=6), DecisionTreeRegressor(), RandomForestRegressor(max_depth=10,n_jobs=6),  SGDRegressor(),XGBRegressor(max_depth=10,n_jobs=6),LGBMRegressor(max_depth=10,n_jobs=6)]"
   ]
  },
  {
   "cell_type": "code",
   "execution_count": 807,
   "metadata": {},
   "outputs": [],
   "source": [
    "model_regressor = [dmp_regressor(x) for x in model_list]"
   ]
  },
  {
   "cell_type": "code",
   "execution_count": 808,
   "metadata": {},
   "outputs": [],
   "source": [
    "scores = [dmp_scorer(x) for x in model_regressor]\n",
    "acc = [x[0] for x in scores]\n",
    "rmse = [x[1] for x in scores]\n",
    "r2 = [x[2] for x in scores]\n",
    "mean_score = [x[3] for x in scores]\n",
    "std_score = [x[4] for x in scores]"
   ]
  },
  {
   "cell_type": "code",
   "execution_count": 809,
   "metadata": {},
   "outputs": [
    {
     "data": {
      "text/html": [
       "<div>\n",
       "<style scoped>\n",
       "    .dataframe tbody tr th:only-of-type {\n",
       "        vertical-align: middle;\n",
       "    }\n",
       "\n",
       "    .dataframe tbody tr th {\n",
       "        vertical-align: top;\n",
       "    }\n",
       "\n",
       "    .dataframe thead th {\n",
       "        text-align: right;\n",
       "    }\n",
       "</style>\n",
       "<table border=\"1\" class=\"dataframe\">\n",
       "  <thead>\n",
       "    <tr style=\"text-align: right;\">\n",
       "      <th></th>\n",
       "      <th>Model</th>\n",
       "      <th>Accuracy</th>\n",
       "      <th>RMSE</th>\n",
       "      <th>RSquared</th>\n",
       "      <th>Mean Score</th>\n",
       "      <th>STD Score</th>\n",
       "    </tr>\n",
       "  </thead>\n",
       "  <tbody>\n",
       "    <tr>\n",
       "      <th>5</th>\n",
       "      <td>xTreme Gradient Booster(XGBoost)</td>\n",
       "      <td>99.79</td>\n",
       "      <td>0.002033</td>\n",
       "      <td>0.997855</td>\n",
       "      <td>0.000060</td>\n",
       "      <td>0.000101</td>\n",
       "    </tr>\n",
       "    <tr>\n",
       "      <th>2</th>\n",
       "      <td>Decision Tree</td>\n",
       "      <td>99.58</td>\n",
       "      <td>0.002843</td>\n",
       "      <td>0.995804</td>\n",
       "      <td>0.000066</td>\n",
       "      <td>0.000108</td>\n",
       "    </tr>\n",
       "    <tr>\n",
       "      <th>6</th>\n",
       "      <td>Light Gradient Booster (LGBMBoost)</td>\n",
       "      <td>99.36</td>\n",
       "      <td>0.003506</td>\n",
       "      <td>0.993620</td>\n",
       "      <td>0.000070</td>\n",
       "      <td>0.000094</td>\n",
       "    </tr>\n",
       "    <tr>\n",
       "      <th>1</th>\n",
       "      <td>KNN</td>\n",
       "      <td>97.52</td>\n",
       "      <td>0.006910</td>\n",
       "      <td>0.975221</td>\n",
       "      <td>0.000103</td>\n",
       "      <td>0.000077</td>\n",
       "    </tr>\n",
       "    <tr>\n",
       "      <th>0</th>\n",
       "      <td>Linear Regression</td>\n",
       "      <td>96.66</td>\n",
       "      <td>0.008028</td>\n",
       "      <td>0.966554</td>\n",
       "      <td>0.000280</td>\n",
       "      <td>0.000372</td>\n",
       "    </tr>\n",
       "    <tr>\n",
       "      <th>4</th>\n",
       "      <td>Stochastic Gradient Decent</td>\n",
       "      <td>96.61</td>\n",
       "      <td>0.008083</td>\n",
       "      <td>0.966093</td>\n",
       "      <td>0.000285</td>\n",
       "      <td>0.000380</td>\n",
       "    </tr>\n",
       "    <tr>\n",
       "      <th>3</th>\n",
       "      <td>Random Forest</td>\n",
       "      <td>78.51</td>\n",
       "      <td>0.020351</td>\n",
       "      <td>0.785059</td>\n",
       "      <td>0.000451</td>\n",
       "      <td>0.000078</td>\n",
       "    </tr>\n",
       "  </tbody>\n",
       "</table>\n",
       "</div>"
      ],
      "text/plain": [
       "                                Model  Accuracy      RMSE  RSquared  \\\n",
       "5    xTreme Gradient Booster(XGBoost)     99.79  0.002033  0.997855   \n",
       "2                       Decision Tree     99.58  0.002843  0.995804   \n",
       "6  Light Gradient Booster (LGBMBoost)     99.36  0.003506  0.993620   \n",
       "1                                 KNN     97.52  0.006910  0.975221   \n",
       "0                   Linear Regression     96.66  0.008028  0.966554   \n",
       "4          Stochastic Gradient Decent     96.61  0.008083  0.966093   \n",
       "3                       Random Forest     78.51  0.020351  0.785059   \n",
       "\n",
       "   Mean Score  STD Score  \n",
       "5    0.000060   0.000101  \n",
       "2    0.000066   0.000108  \n",
       "6    0.000070   0.000094  \n",
       "1    0.000103   0.000077  \n",
       "0    0.000280   0.000372  \n",
       "4    0.000285   0.000380  \n",
       "3    0.000451   0.000078  "
      ]
     },
     "execution_count": 809,
     "metadata": {},
     "output_type": "execute_result"
    }
   ],
   "source": [
    "models = pd.DataFrame({\n",
    "    'Model': ['Linear Regression','KNN', 'Decision Tree', 'Random Forest','Stochastic Gradient Decent',\"xTreme Gradient Booster(XGBoost)\",\"Light Gradient Booster (LGBMBoost)\"],\n",
    "    \n",
    "    'Accuracy': acc,\n",
    "    'RMSE': rmse,\n",
    "    'RSquared': r2,\n",
    "    \"Mean Score\": mean_score,\n",
    "    \"STD Score\": std_score\n",
    "    })\n",
    "\n",
    "models.sort_values(by=['RMSE'], ascending=True)"
   ]
  },
  {
   "cell_type": "markdown",
   "metadata": {},
   "source": [
    "Clearly XGBoost is the best. We will use XGBoost to predict."
   ]
  },
  {
   "cell_type": "code",
   "execution_count": 810,
   "metadata": {},
   "outputs": [],
   "source": [
    "def reversed(x):\n",
    "    y = x.split(\"-\")\n",
    "    num = int(y[0])\n",
    "    y[0] = \"{:02d}\".format(num)\n",
    "    return '-'.join(y[::-1])\n",
    "\n",
    "def operations(dfs):\n",
    "    input_df = dfs.copy()\n",
    "    input_df[\"X30\"] = input_df[\"X30\"].replace('[\\$,]', '', regex=True).replace('[\\%,]', '', regex=True).astype(float)/100\n",
    "    input_df[\"X4\"] = input_df[\"X4\"].replace('[\\$,]', '', regex=True).astype(float)\n",
    "    input_df[\"X5\"] = input_df[\"X4\"].replace('[\\$,]', '', regex=True).astype(float)\n",
    "    input_df[\"X6\"] = input_df[\"X4\"].replace('[\\$,]', '', regex=True).astype(float)\n",
    "    input_df = input_df.drop([\"X2\",\"X3\",\"X26\",\"X16\",\"X18\",\"X25\"],axis=1)\n",
    "    input_df[\"X14\"] = input_df[\"X14\"].apply(lambda x: 1 if x == \"not verified\" else 0)\n",
    "    input_df.loc[input_df[\"X11\"].isna(),\"X11\"] = \"n/a\"\n",
    "    input_df[\"X11\"] = input_df[\"X11\"].apply(lambda x: \"<3\" if x in [\"< 1 year\",\"1 year\",\"2 years\",\"3 years\"] else (\"3-6\" if x in [\"4 years\",\"5 years\",\"6 years\"] else (\"6+\" if x != \"n/a\" else \"n/a\")))\n",
    "    input_df[\"is_emplyed\"] = np.where((input_df[\"X10\"].notna()) | (input_df[\"X13\"].notna()) | (input_df[\"X14\"]==0) | (input_df[\"X11\"]!=\"n/a\"),1,0)\n",
    "    # zip_list = input_df.loc[df[\"X13\"].isna(),\"X19\"].values\n",
    "    # hash_zip = make_zipcode_hashmap(zip_list)\n",
    "    input_df.loc[(input_df[\"X13\"].isna()) & (input_df[\"is_emplyed\"]==1),\"X13\"] = input_df[(input_df[\"X13\"].isna()) & (input_df[\"is_emplyed\"]==1)][\"X19\"].apply(lambda x: hash_zip[x])\n",
    "    input_df[input_df[\"X13\"].isna()][\"X13\"] = 0\n",
    "    input_df[\"X13\"] = input_df[\"X13\"].fillna(0)\n",
    "    input_df = input_df.drop([\"X10\",\"X14\",\"X8\"],axis=1)\n",
    "    input_df = input_df.dropna(subset=[\"X9\"])\n",
    "    input_df.loc[(input_df[\"X12\"] == \"ANY\") | (input_df[\"X12\"].isna())| (input_df[\"X12\"]==\"NONE\"),\"X12\"] = \"OTHER\"\n",
    "    title_map = {\n",
    "        \"debt_consolidation\": \"debt_consolidation\",\n",
    "        \"credit_card\": \"credit_card\",\n",
    "        \"home_improvement\": \"home_improvement\",\n",
    "        \"other\": \"other\",\n",
    "        \"major_purchase\":\"major_purchase\",\n",
    "        \"small_business\":\"major_purchase\",\n",
    "        \"car\":\"debt_consolidation\",\n",
    "        \"medical\":\"debt_consolidation\",\n",
    "        \"moving\":\"home_improvement\",\n",
    "        \"wedding\":\"home_improvement\",\n",
    "        \"vacation\":\"home_improvement\",\n",
    "        \"house\":\"home_improvement\",\n",
    "        \"educational\":\"major_purchase\",\n",
    "        \"renewable_energy\":\"home_improvement\"  \n",
    "    }\n",
    "    input_df = input_df.copy()\n",
    "    input_df[\"X17\"] = input_df[\"X17\"].apply(lambda x: title_map[x])\n",
    "    input_df[\"X17\"].value_counts()\n",
    "    input_df= input_df.drop([\"X20\"],axis=1)\n",
    "    input_df.loc[input_df[\"X23\"].str.match(\"[0-9]*-\\w{3}\"),\"X23\"] = input_df.loc[input_df[\"X23\"].str.match(\"[0-9]-\\w{3}\"),\"X23\"].apply(reversed)\n",
    "    input_df.loc[input_df[\"X15\"].str.match(\"[0-9]*-\\w{3}\"),\"X15\"] = input_df.loc[input_df[\"X15\"].str.match(\"[0-9]-\\w{3}\"),\"X15\"].apply(reversed)\n",
    "    input_df[\"X15\"] = pd.to_datetime(input_df[\"X15\"],format=r\"%b-%y\")\n",
    "    input_df[\"X23\"] = pd.to_datetime(input_df[\"X23\"],format=r\"%b-%y\")\n",
    "    input_df = input_df.dropna(subset=[\"X30\"])\n",
    "    input_df[\"X15_month\"] = input_df[\"X15\"].dt.month\n",
    "    input_df[\"X15_year\"] = input_df[\"X15\"].dt.year\n",
    "    input_df[\"X23_year\"] = input_df[\"X23\"].dt.year\n",
    "    input_df[\"X23_year\"] = datetime.date.today().year - input_df[\"X23_year\"]\n",
    "    input_df = input_df.drop([\"X15\",\"X23\"],axis=1)\n",
    "    input_df[\"X19\"] = input_df[\"X19\"].replace('[xx,]', '', regex=True).astype(int)\n",
    "    input_df = pd.get_dummies(input_df)\n",
    "    df_final = input_df.copy()\n",
    "    scaler = StandardScaler()\n",
    "    X_scaled = scaler.fit_transform(df_final)\n",
    "    return X_scaled"
   ]
  },
  {
   "cell_type": "code",
   "execution_count": 811,
   "metadata": {},
   "outputs": [],
   "source": [
    "holdout = pd.read_csv(\"Holdout for Testing.csv\")"
   ]
  },
  {
   "cell_type": "code",
   "execution_count": 812,
   "metadata": {},
   "outputs": [
    {
     "data": {
      "text/html": [
       "<div>\n",
       "<style scoped>\n",
       "    .dataframe tbody tr th:only-of-type {\n",
       "        vertical-align: middle;\n",
       "    }\n",
       "\n",
       "    .dataframe tbody tr th {\n",
       "        vertical-align: top;\n",
       "    }\n",
       "\n",
       "    .dataframe thead th {\n",
       "        text-align: right;\n",
       "    }\n",
       "</style>\n",
       "<table border=\"1\" class=\"dataframe\">\n",
       "  <thead>\n",
       "    <tr style=\"text-align: right;\">\n",
       "      <th></th>\n",
       "      <th>X1</th>\n",
       "      <th>X2</th>\n",
       "      <th>X3</th>\n",
       "      <th>X4</th>\n",
       "      <th>X5</th>\n",
       "      <th>X6</th>\n",
       "      <th>X7</th>\n",
       "      <th>X8</th>\n",
       "      <th>X9</th>\n",
       "      <th>X10</th>\n",
       "      <th>...</th>\n",
       "      <th>X23</th>\n",
       "      <th>X24</th>\n",
       "      <th>X25</th>\n",
       "      <th>X26</th>\n",
       "      <th>X27</th>\n",
       "      <th>X28</th>\n",
       "      <th>X29</th>\n",
       "      <th>X30</th>\n",
       "      <th>X31</th>\n",
       "      <th>X32</th>\n",
       "    </tr>\n",
       "  </thead>\n",
       "  <tbody>\n",
       "    <tr>\n",
       "      <th>0</th>\n",
       "      <td>NaN</td>\n",
       "      <td>44409194</td>\n",
       "      <td>47416907</td>\n",
       "      <td>$6,000</td>\n",
       "      <td>$6,000</td>\n",
       "      <td>$6,000</td>\n",
       "      <td>36 months</td>\n",
       "      <td>C</td>\n",
       "      <td>C5</td>\n",
       "      <td>Electrician</td>\n",
       "      <td>...</td>\n",
       "      <td>2-Nov</td>\n",
       "      <td>1</td>\n",
       "      <td>26.0</td>\n",
       "      <td>NaN</td>\n",
       "      <td>18</td>\n",
       "      <td>0</td>\n",
       "      <td>19861</td>\n",
       "      <td>64.50%</td>\n",
       "      <td>33</td>\n",
       "      <td>f</td>\n",
       "    </tr>\n",
       "    <tr>\n",
       "      <th>1</th>\n",
       "      <td>NaN</td>\n",
       "      <td>44017917</td>\n",
       "      <td>47034722</td>\n",
       "      <td>$24,000</td>\n",
       "      <td>$24,000</td>\n",
       "      <td>$24,000</td>\n",
       "      <td>36 months</td>\n",
       "      <td>A</td>\n",
       "      <td>A1</td>\n",
       "      <td>Executive Assistant</td>\n",
       "      <td>...</td>\n",
       "      <td>Dec-68</td>\n",
       "      <td>1</td>\n",
       "      <td>NaN</td>\n",
       "      <td>NaN</td>\n",
       "      <td>12</td>\n",
       "      <td>0</td>\n",
       "      <td>17001</td>\n",
       "      <td>26.20%</td>\n",
       "      <td>36</td>\n",
       "      <td>w</td>\n",
       "    </tr>\n",
       "    <tr>\n",
       "      <th>2</th>\n",
       "      <td>NaN</td>\n",
       "      <td>44259158</td>\n",
       "      <td>47306871</td>\n",
       "      <td>$35,000</td>\n",
       "      <td>$35,000</td>\n",
       "      <td>$35,000</td>\n",
       "      <td>36 months</td>\n",
       "      <td>C</td>\n",
       "      <td>C2</td>\n",
       "      <td>District Sales Leader</td>\n",
       "      <td>...</td>\n",
       "      <td>Oct-98</td>\n",
       "      <td>0</td>\n",
       "      <td>NaN</td>\n",
       "      <td>NaN</td>\n",
       "      <td>16</td>\n",
       "      <td>0</td>\n",
       "      <td>25797</td>\n",
       "      <td>49.90%</td>\n",
       "      <td>33</td>\n",
       "      <td>w</td>\n",
       "    </tr>\n",
       "    <tr>\n",
       "      <th>3</th>\n",
       "      <td>NaN</td>\n",
       "      <td>44429213</td>\n",
       "      <td>47476932</td>\n",
       "      <td>$10,000</td>\n",
       "      <td>$10,000</td>\n",
       "      <td>$10,000</td>\n",
       "      <td>60 months</td>\n",
       "      <td>D</td>\n",
       "      <td>D1</td>\n",
       "      <td>pharmacy associate</td>\n",
       "      <td>...</td>\n",
       "      <td>Feb-99</td>\n",
       "      <td>1</td>\n",
       "      <td>NaN</td>\n",
       "      <td>114.0</td>\n",
       "      <td>13</td>\n",
       "      <td>1</td>\n",
       "      <td>9586</td>\n",
       "      <td>43.80%</td>\n",
       "      <td>21</td>\n",
       "      <td>w</td>\n",
       "    </tr>\n",
       "    <tr>\n",
       "      <th>4</th>\n",
       "      <td>NaN</td>\n",
       "      <td>44299188</td>\n",
       "      <td>47346901</td>\n",
       "      <td>$24,000</td>\n",
       "      <td>$24,000</td>\n",
       "      <td>$24,000</td>\n",
       "      <td>60 months</td>\n",
       "      <td>B</td>\n",
       "      <td>B1</td>\n",
       "      <td>Medical case manager</td>\n",
       "      <td>...</td>\n",
       "      <td>2-Dec</td>\n",
       "      <td>0</td>\n",
       "      <td>48.0</td>\n",
       "      <td>NaN</td>\n",
       "      <td>27</td>\n",
       "      <td>0</td>\n",
       "      <td>31842</td>\n",
       "      <td>41.30%</td>\n",
       "      <td>43</td>\n",
       "      <td>w</td>\n",
       "    </tr>\n",
       "  </tbody>\n",
       "</table>\n",
       "<p>5 rows × 32 columns</p>\n",
       "</div>"
      ],
      "text/plain": [
       "   X1        X2        X3       X4       X5       X6          X7 X8  X9  \\\n",
       "0 NaN  44409194  47416907   $6,000   $6,000   $6,000   36 months  C  C5   \n",
       "1 NaN  44017917  47034722  $24,000  $24,000  $24,000   36 months  A  A1   \n",
       "2 NaN  44259158  47306871  $35,000  $35,000  $35,000   36 months  C  C2   \n",
       "3 NaN  44429213  47476932  $10,000  $10,000  $10,000   60 months  D  D1   \n",
       "4 NaN  44299188  47346901  $24,000  $24,000  $24,000   60 months  B  B1   \n",
       "\n",
       "                     X10  ...     X23 X24   X25    X26 X27 X28    X29     X30  \\\n",
       "0            Electrician  ...   2-Nov   1  26.0    NaN  18   0  19861  64.50%   \n",
       "1    Executive Assistant  ...  Dec-68   1   NaN    NaN  12   0  17001  26.20%   \n",
       "2  District Sales Leader  ...  Oct-98   0   NaN    NaN  16   0  25797  49.90%   \n",
       "3     pharmacy associate  ...  Feb-99   1   NaN  114.0  13   1   9586  43.80%   \n",
       "4   Medical case manager  ...   2-Dec   0  48.0    NaN  27   0  31842  41.30%   \n",
       "\n",
       "  X31 X32  \n",
       "0  33   f  \n",
       "1  36   w  \n",
       "2  33   w  \n",
       "3  21   w  \n",
       "4  43   w  \n",
       "\n",
       "[5 rows x 32 columns]"
      ]
     },
     "execution_count": 812,
     "metadata": {},
     "output_type": "execute_result"
    }
   ],
   "source": [
    "holdout.head()"
   ]
  },
  {
   "cell_type": "code",
   "execution_count": 813,
   "metadata": {},
   "outputs": [
    {
     "data": {
      "text/html": [
       "<div>\n",
       "<style scoped>\n",
       "    .dataframe tbody tr th:only-of-type {\n",
       "        vertical-align: middle;\n",
       "    }\n",
       "\n",
       "    .dataframe tbody tr th {\n",
       "        vertical-align: top;\n",
       "    }\n",
       "\n",
       "    .dataframe thead th {\n",
       "        text-align: right;\n",
       "    }\n",
       "</style>\n",
       "<table border=\"1\" class=\"dataframe\">\n",
       "  <thead>\n",
       "    <tr style=\"text-align: right;\">\n",
       "      <th></th>\n",
       "      <th>X2</th>\n",
       "      <th>X3</th>\n",
       "      <th>X4</th>\n",
       "      <th>X5</th>\n",
       "      <th>X6</th>\n",
       "      <th>X7</th>\n",
       "      <th>X8</th>\n",
       "      <th>X9</th>\n",
       "      <th>X10</th>\n",
       "      <th>X11</th>\n",
       "      <th>...</th>\n",
       "      <th>X23</th>\n",
       "      <th>X24</th>\n",
       "      <th>X25</th>\n",
       "      <th>X26</th>\n",
       "      <th>X27</th>\n",
       "      <th>X28</th>\n",
       "      <th>X29</th>\n",
       "      <th>X30</th>\n",
       "      <th>X31</th>\n",
       "      <th>X32</th>\n",
       "    </tr>\n",
       "  </thead>\n",
       "  <tbody>\n",
       "    <tr>\n",
       "      <th>0</th>\n",
       "      <td>44409194</td>\n",
       "      <td>47416907</td>\n",
       "      <td>$6,000</td>\n",
       "      <td>$6,000</td>\n",
       "      <td>$6,000</td>\n",
       "      <td>36 months</td>\n",
       "      <td>C</td>\n",
       "      <td>C5</td>\n",
       "      <td>Electrician</td>\n",
       "      <td>10+ years</td>\n",
       "      <td>...</td>\n",
       "      <td>2-Nov</td>\n",
       "      <td>1</td>\n",
       "      <td>26.0</td>\n",
       "      <td>NaN</td>\n",
       "      <td>18</td>\n",
       "      <td>0</td>\n",
       "      <td>19861</td>\n",
       "      <td>64.50%</td>\n",
       "      <td>33</td>\n",
       "      <td>f</td>\n",
       "    </tr>\n",
       "    <tr>\n",
       "      <th>1</th>\n",
       "      <td>44017917</td>\n",
       "      <td>47034722</td>\n",
       "      <td>$24,000</td>\n",
       "      <td>$24,000</td>\n",
       "      <td>$24,000</td>\n",
       "      <td>36 months</td>\n",
       "      <td>A</td>\n",
       "      <td>A1</td>\n",
       "      <td>Executive Assistant</td>\n",
       "      <td>8 years</td>\n",
       "      <td>...</td>\n",
       "      <td>Dec-68</td>\n",
       "      <td>1</td>\n",
       "      <td>NaN</td>\n",
       "      <td>NaN</td>\n",
       "      <td>12</td>\n",
       "      <td>0</td>\n",
       "      <td>17001</td>\n",
       "      <td>26.20%</td>\n",
       "      <td>36</td>\n",
       "      <td>w</td>\n",
       "    </tr>\n",
       "    <tr>\n",
       "      <th>2</th>\n",
       "      <td>44259158</td>\n",
       "      <td>47306871</td>\n",
       "      <td>$35,000</td>\n",
       "      <td>$35,000</td>\n",
       "      <td>$35,000</td>\n",
       "      <td>36 months</td>\n",
       "      <td>C</td>\n",
       "      <td>C2</td>\n",
       "      <td>District Sales Leader</td>\n",
       "      <td>10+ years</td>\n",
       "      <td>...</td>\n",
       "      <td>Oct-98</td>\n",
       "      <td>0</td>\n",
       "      <td>NaN</td>\n",
       "      <td>NaN</td>\n",
       "      <td>16</td>\n",
       "      <td>0</td>\n",
       "      <td>25797</td>\n",
       "      <td>49.90%</td>\n",
       "      <td>33</td>\n",
       "      <td>w</td>\n",
       "    </tr>\n",
       "    <tr>\n",
       "      <th>3</th>\n",
       "      <td>44429213</td>\n",
       "      <td>47476932</td>\n",
       "      <td>$10,000</td>\n",
       "      <td>$10,000</td>\n",
       "      <td>$10,000</td>\n",
       "      <td>60 months</td>\n",
       "      <td>D</td>\n",
       "      <td>D1</td>\n",
       "      <td>pharmacy associate</td>\n",
       "      <td>10+ years</td>\n",
       "      <td>...</td>\n",
       "      <td>Feb-99</td>\n",
       "      <td>1</td>\n",
       "      <td>NaN</td>\n",
       "      <td>114.0</td>\n",
       "      <td>13</td>\n",
       "      <td>1</td>\n",
       "      <td>9586</td>\n",
       "      <td>43.80%</td>\n",
       "      <td>21</td>\n",
       "      <td>w</td>\n",
       "    </tr>\n",
       "    <tr>\n",
       "      <th>4</th>\n",
       "      <td>44299188</td>\n",
       "      <td>47346901</td>\n",
       "      <td>$24,000</td>\n",
       "      <td>$24,000</td>\n",
       "      <td>$24,000</td>\n",
       "      <td>60 months</td>\n",
       "      <td>B</td>\n",
       "      <td>B1</td>\n",
       "      <td>Medical case manager</td>\n",
       "      <td>10+ years</td>\n",
       "      <td>...</td>\n",
       "      <td>2-Dec</td>\n",
       "      <td>0</td>\n",
       "      <td>48.0</td>\n",
       "      <td>NaN</td>\n",
       "      <td>27</td>\n",
       "      <td>0</td>\n",
       "      <td>31842</td>\n",
       "      <td>41.30%</td>\n",
       "      <td>43</td>\n",
       "      <td>w</td>\n",
       "    </tr>\n",
       "    <tr>\n",
       "      <th>...</th>\n",
       "      <td>...</td>\n",
       "      <td>...</td>\n",
       "      <td>...</td>\n",
       "      <td>...</td>\n",
       "      <td>...</td>\n",
       "      <td>...</td>\n",
       "      <td>...</td>\n",
       "      <td>...</td>\n",
       "      <td>...</td>\n",
       "      <td>...</td>\n",
       "      <td>...</td>\n",
       "      <td>...</td>\n",
       "      <td>...</td>\n",
       "      <td>...</td>\n",
       "      <td>...</td>\n",
       "      <td>...</td>\n",
       "      <td>...</td>\n",
       "      <td>...</td>\n",
       "      <td>...</td>\n",
       "      <td>...</td>\n",
       "      <td>...</td>\n",
       "    </tr>\n",
       "    <tr>\n",
       "      <th>79995</th>\n",
       "      <td>38272852</td>\n",
       "      <td>41056632</td>\n",
       "      <td>$6,400</td>\n",
       "      <td>$6,400</td>\n",
       "      <td>$6,400</td>\n",
       "      <td>36 months</td>\n",
       "      <td>A</td>\n",
       "      <td>A2</td>\n",
       "      <td>Supervisor</td>\n",
       "      <td>8 years</td>\n",
       "      <td>...</td>\n",
       "      <td>6-Apr</td>\n",
       "      <td>0</td>\n",
       "      <td>NaN</td>\n",
       "      <td>NaN</td>\n",
       "      <td>13</td>\n",
       "      <td>0</td>\n",
       "      <td>7185</td>\n",
       "      <td>47.90%</td>\n",
       "      <td>15</td>\n",
       "      <td>f</td>\n",
       "    </tr>\n",
       "    <tr>\n",
       "      <th>79996</th>\n",
       "      <td>38232598</td>\n",
       "      <td>41016384</td>\n",
       "      <td>$30,000</td>\n",
       "      <td>$30,000</td>\n",
       "      <td>$30,000</td>\n",
       "      <td>60 months</td>\n",
       "      <td>E</td>\n",
       "      <td>E2</td>\n",
       "      <td>Manager</td>\n",
       "      <td>8 years</td>\n",
       "      <td>...</td>\n",
       "      <td>Aug-96</td>\n",
       "      <td>0</td>\n",
       "      <td>NaN</td>\n",
       "      <td>NaN</td>\n",
       "      <td>19</td>\n",
       "      <td>0</td>\n",
       "      <td>25151</td>\n",
       "      <td>51.30%</td>\n",
       "      <td>38</td>\n",
       "      <td>f</td>\n",
       "    </tr>\n",
       "    <tr>\n",
       "      <th>79997</th>\n",
       "      <td>38282597</td>\n",
       "      <td>41066378</td>\n",
       "      <td>$17,600</td>\n",
       "      <td>$17,600</td>\n",
       "      <td>$17,600</td>\n",
       "      <td>36 months</td>\n",
       "      <td>D</td>\n",
       "      <td>D4</td>\n",
       "      <td>Field Unit Supervisor</td>\n",
       "      <td>2 years</td>\n",
       "      <td>...</td>\n",
       "      <td>4-Dec</td>\n",
       "      <td>0</td>\n",
       "      <td>32.0</td>\n",
       "      <td>NaN</td>\n",
       "      <td>18</td>\n",
       "      <td>0</td>\n",
       "      <td>12161</td>\n",
       "      <td>37.10%</td>\n",
       "      <td>36</td>\n",
       "      <td>f</td>\n",
       "    </tr>\n",
       "    <tr>\n",
       "      <th>79998</th>\n",
       "      <td>38232613</td>\n",
       "      <td>41016400</td>\n",
       "      <td>$2,500</td>\n",
       "      <td>$2,500</td>\n",
       "      <td>$2,500</td>\n",
       "      <td>36 months</td>\n",
       "      <td>C</td>\n",
       "      <td>C2</td>\n",
       "      <td>Senior Project Manager</td>\n",
       "      <td>10+ years</td>\n",
       "      <td>...</td>\n",
       "      <td>Jun-99</td>\n",
       "      <td>0</td>\n",
       "      <td>NaN</td>\n",
       "      <td>NaN</td>\n",
       "      <td>13</td>\n",
       "      <td>0</td>\n",
       "      <td>13031</td>\n",
       "      <td>76.70%</td>\n",
       "      <td>23</td>\n",
       "      <td>f</td>\n",
       "    </tr>\n",
       "    <tr>\n",
       "      <th>79999</th>\n",
       "      <td>38262186</td>\n",
       "      <td>41045946</td>\n",
       "      <td>$11,800</td>\n",
       "      <td>$11,800</td>\n",
       "      <td>$11,800</td>\n",
       "      <td>36 months</td>\n",
       "      <td>B</td>\n",
       "      <td>B5</td>\n",
       "      <td>Accountant</td>\n",
       "      <td>4 years</td>\n",
       "      <td>...</td>\n",
       "      <td>5-Dec</td>\n",
       "      <td>0</td>\n",
       "      <td>NaN</td>\n",
       "      <td>NaN</td>\n",
       "      <td>8</td>\n",
       "      <td>0</td>\n",
       "      <td>13773</td>\n",
       "      <td>93.70%</td>\n",
       "      <td>26</td>\n",
       "      <td>f</td>\n",
       "    </tr>\n",
       "  </tbody>\n",
       "</table>\n",
       "<p>80000 rows × 31 columns</p>\n",
       "</div>"
      ],
      "text/plain": [
       "             X2        X3       X4       X5       X6          X7 X8  X9  \\\n",
       "0      44409194  47416907   $6,000   $6,000   $6,000   36 months  C  C5   \n",
       "1      44017917  47034722  $24,000  $24,000  $24,000   36 months  A  A1   \n",
       "2      44259158  47306871  $35,000  $35,000  $35,000   36 months  C  C2   \n",
       "3      44429213  47476932  $10,000  $10,000  $10,000   60 months  D  D1   \n",
       "4      44299188  47346901  $24,000  $24,000  $24,000   60 months  B  B1   \n",
       "...         ...       ...      ...      ...      ...         ... ..  ..   \n",
       "79995  38272852  41056632   $6,400   $6,400   $6,400   36 months  A  A2   \n",
       "79996  38232598  41016384  $30,000  $30,000  $30,000   60 months  E  E2   \n",
       "79997  38282597  41066378  $17,600  $17,600  $17,600   36 months  D  D4   \n",
       "79998  38232613  41016400   $2,500   $2,500   $2,500   36 months  C  C2   \n",
       "79999  38262186  41045946  $11,800  $11,800  $11,800   36 months  B  B5   \n",
       "\n",
       "                           X10        X11  ...     X23  X24   X25    X26 X27  \\\n",
       "0                  Electrician  10+ years  ...   2-Nov    1  26.0    NaN  18   \n",
       "1          Executive Assistant    8 years  ...  Dec-68    1   NaN    NaN  12   \n",
       "2        District Sales Leader  10+ years  ...  Oct-98    0   NaN    NaN  16   \n",
       "3           pharmacy associate  10+ years  ...  Feb-99    1   NaN  114.0  13   \n",
       "4         Medical case manager  10+ years  ...   2-Dec    0  48.0    NaN  27   \n",
       "...                        ...        ...  ...     ...  ...   ...    ...  ..   \n",
       "79995               Supervisor    8 years  ...   6-Apr    0   NaN    NaN  13   \n",
       "79996                  Manager    8 years  ...  Aug-96    0   NaN    NaN  19   \n",
       "79997    Field Unit Supervisor    2 years  ...   4-Dec    0  32.0    NaN  18   \n",
       "79998  Senior Project Manager   10+ years  ...  Jun-99    0   NaN    NaN  13   \n",
       "79999               Accountant    4 years  ...   5-Dec    0   NaN    NaN   8   \n",
       "\n",
       "      X28    X29     X30 X31  X32  \n",
       "0       0  19861  64.50%  33    f  \n",
       "1       0  17001  26.20%  36    w  \n",
       "2       0  25797  49.90%  33    w  \n",
       "3       1   9586  43.80%  21    w  \n",
       "4       0  31842  41.30%  43    w  \n",
       "...    ..    ...     ...  ..  ...  \n",
       "79995   0   7185  47.90%  15    f  \n",
       "79996   0  25151  51.30%  38    f  \n",
       "79997   0  12161  37.10%  36    f  \n",
       "79998   0  13031  76.70%  23    f  \n",
       "79999   0  13773  93.70%  26    f  \n",
       "\n",
       "[80000 rows x 31 columns]"
      ]
     },
     "execution_count": 813,
     "metadata": {},
     "output_type": "execute_result"
    }
   ],
   "source": [
    "holdout.drop(\"X1\",axis=1)"
   ]
  },
  {
   "cell_type": "code",
   "execution_count": 814,
   "metadata": {},
   "outputs": [
    {
     "name": "stderr",
     "output_type": "stream",
     "text": [
      "c:\\Users\\yomaa\\Documents\\Github\\University-of-Chicago\\Environment\\uchicago_venv\\Lib\\site-packages\\sklearn\\utils\\extmath.py:1047: RuntimeWarning: invalid value encountered in divide\n",
      "  updated_mean = (last_sum + new_sum) / updated_sample_count\n",
      "c:\\Users\\yomaa\\Documents\\Github\\University-of-Chicago\\Environment\\uchicago_venv\\Lib\\site-packages\\sklearn\\utils\\extmath.py:1052: RuntimeWarning: invalid value encountered in divide\n",
      "  T = new_sum / new_sample_count\n",
      "c:\\Users\\yomaa\\Documents\\Github\\University-of-Chicago\\Environment\\uchicago_venv\\Lib\\site-packages\\sklearn\\utils\\extmath.py:1072: RuntimeWarning: invalid value encountered in divide\n",
      "  new_unnormalized_variance -= correction**2 / new_sample_count\n"
     ]
    }
   ],
   "source": [
    "holdout_scaled = operations(holdout)"
   ]
  },
  {
   "cell_type": "code",
   "execution_count": 817,
   "metadata": {},
   "outputs": [],
   "source": [
    "xgboost_model = model_list[5]\n",
    "holdout_output = xgboost_model.predict(holdout_scaled)"
   ]
  },
  {
   "cell_type": "code",
   "execution_count": 818,
   "metadata": {},
   "outputs": [],
   "source": [
    "holdout_output_df = pd.DataFrame(holdout_output,columns=[\"X1\"])\n",
    "holdout_output_df = round(holdout_output_df*100,2)\n",
    "holdout_output_df = holdout_output_df.astype(str) + \"%\"\n",
    "holdout_output_df.to_csv(\"Loan_Prediction_Results_from_12374398.csv\")"
   ]
  },
  {
   "cell_type": "markdown",
   "metadata": {},
   "source": [
    "## Choice Reasoning\n",
    "\n",
    "I choose to go with an XGBOOST model, as it has a high RMSE and RSquared, while having decent cross-validation scores. This indicated that the model is neither over fitting nor under-fitting. XGBOOST is also a very fast model ( especially when parallel processed) so it was better on time complexity when compared to Random Forests."
   ]
  }
 ],
 "metadata": {
  "kernelspec": {
   "display_name": "Python 3 (ipykernel)",
   "language": "python",
   "name": "python3"
  },
  "language_info": {
   "codemirror_mode": {
    "name": "ipython",
    "version": 3
   },
   "file_extension": ".py",
   "mimetype": "text/x-python",
   "name": "python",
   "nbconvert_exporter": "python",
   "pygments_lexer": "ipython3",
   "version": "3.11.1"
  },
  "vscode": {
   "interpreter": {
    "hash": "176c0334d7b9c7a9b7eb6fa04d96d8bb263ed7a5a425eb1172d4f16fe7b04889"
   }
  }
 },
 "nbformat": 4,
 "nbformat_minor": 2
}
