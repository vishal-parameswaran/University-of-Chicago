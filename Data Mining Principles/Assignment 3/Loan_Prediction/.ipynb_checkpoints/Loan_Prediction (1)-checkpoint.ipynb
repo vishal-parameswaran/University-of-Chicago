{
 "cells": [
  {
   "cell_type": "code",
   "execution_count": 1,
   "metadata": {
    "colab": {
     "base_uri": "https://localhost:8080/"
    },
    "id": "l9z4g4xYt3Mi",
    "outputId": "94091c77-8a30-4777-c98d-95ed91a2a44e"
   },
   "outputs": [],
   "source": [
    "%matplotlib inline\n",
    "import numpy as np\n",
    "import pandas as pd\n",
    "from scipy import stats\n",
    "import matplotlib.pyplot as plt\n",
    "import seaborn as sns\n",
    "from sklearn.model_selection import train_test_split\n",
    "import datetime as dt\n",
    "from datetime import timedelta\n",
    "import math\n",
    "from sklearn.preprocessing import MinMaxScaler\n",
    "from sklearn.preprocessing import StandardScaler\n",
    "# Importing Classifier Modules\n",
    "from sklearn.linear_model import LinearRegression\n",
    "from sklearn.neighbors import KNeighborsRegressor\n",
    "from sklearn.tree import DecisionTreeRegressor\n",
    "from sklearn.ensemble import RandomForestRegressor\n",
    "from sklearn.svm import SVR\n",
    "from sklearn.linear_model import SGDRegressor\n",
    "from sklearn.ensemble import GradientBoostingRegressor\n",
    "from xgboost.sklearn import XGBRegressor\n",
    "from lightgbm import LGBMRegressor\n",
    "from sklearn import metrics\n",
    "\n",
    "from sklearn.model_selection import cross_val_score\n",
    "\n",
    "import warnings\n",
    "warnings.simplefilter(\"ignore\")"
   ]
  },
  {
   "cell_type": "code",
   "execution_count": 2,
   "metadata": {
    "colab": {
     "base_uri": "https://localhost:8080/",
     "height": 235
    },
    "id": "xBv7t_4qt3Mq",
    "outputId": "43d93c5a-4cd2-4d9f-f475-54fc503e47dd"
   },
   "outputs": [
    {
     "data": {
      "text/html": [
       "<div>\n",
       "<style scoped>\n",
       "    .dataframe tbody tr th:only-of-type {\n",
       "        vertical-align: middle;\n",
       "    }\n",
       "\n",
       "    .dataframe tbody tr th {\n",
       "        vertical-align: top;\n",
       "    }\n",
       "\n",
       "    .dataframe thead th {\n",
       "        text-align: right;\n",
       "    }\n",
       "</style>\n",
       "<table border=\"1\" class=\"dataframe\">\n",
       "  <thead>\n",
       "    <tr style=\"text-align: right;\">\n",
       "      <th></th>\n",
       "      <th>X1</th>\n",
       "      <th>X2</th>\n",
       "      <th>X3</th>\n",
       "      <th>X4</th>\n",
       "      <th>X5</th>\n",
       "      <th>X6</th>\n",
       "      <th>X7</th>\n",
       "      <th>X8</th>\n",
       "      <th>X9</th>\n",
       "      <th>X10</th>\n",
       "      <th>...</th>\n",
       "      <th>X23</th>\n",
       "      <th>X24</th>\n",
       "      <th>X25</th>\n",
       "      <th>X26</th>\n",
       "      <th>X27</th>\n",
       "      <th>X28</th>\n",
       "      <th>X29</th>\n",
       "      <th>X30</th>\n",
       "      <th>X31</th>\n",
       "      <th>X32</th>\n",
       "    </tr>\n",
       "  </thead>\n",
       "  <tbody>\n",
       "    <tr>\n",
       "      <th>0</th>\n",
       "      <td>11.89%</td>\n",
       "      <td>54734.0</td>\n",
       "      <td>80364.0</td>\n",
       "      <td>$25,000</td>\n",
       "      <td>$25,000</td>\n",
       "      <td>$19,080</td>\n",
       "      <td>36 months</td>\n",
       "      <td>B</td>\n",
       "      <td>B4</td>\n",
       "      <td>NaN</td>\n",
       "      <td>...</td>\n",
       "      <td>Feb-94</td>\n",
       "      <td>0.0</td>\n",
       "      <td>NaN</td>\n",
       "      <td>NaN</td>\n",
       "      <td>10.0</td>\n",
       "      <td>0.0</td>\n",
       "      <td>28854.0</td>\n",
       "      <td>52.10%</td>\n",
       "      <td>42.0</td>\n",
       "      <td>f</td>\n",
       "    </tr>\n",
       "    <tr>\n",
       "      <th>1</th>\n",
       "      <td>10.71%</td>\n",
       "      <td>55742.0</td>\n",
       "      <td>114426.0</td>\n",
       "      <td>$7,000</td>\n",
       "      <td>$7,000</td>\n",
       "      <td>$673</td>\n",
       "      <td>36 months</td>\n",
       "      <td>B</td>\n",
       "      <td>B5</td>\n",
       "      <td>CNN</td>\n",
       "      <td>...</td>\n",
       "      <td>Oct-00</td>\n",
       "      <td>0.0</td>\n",
       "      <td>NaN</td>\n",
       "      <td>NaN</td>\n",
       "      <td>7.0</td>\n",
       "      <td>0.0</td>\n",
       "      <td>33623.0</td>\n",
       "      <td>76.70%</td>\n",
       "      <td>7.0</td>\n",
       "      <td>f</td>\n",
       "    </tr>\n",
       "    <tr>\n",
       "      <th>2</th>\n",
       "      <td>16.99%</td>\n",
       "      <td>57167.0</td>\n",
       "      <td>137225.0</td>\n",
       "      <td>$25,000</td>\n",
       "      <td>$25,000</td>\n",
       "      <td>$24,725</td>\n",
       "      <td>36 months</td>\n",
       "      <td>D</td>\n",
       "      <td>D3</td>\n",
       "      <td>Web Programmer</td>\n",
       "      <td>...</td>\n",
       "      <td>Jun-00</td>\n",
       "      <td>0.0</td>\n",
       "      <td>41.0</td>\n",
       "      <td>NaN</td>\n",
       "      <td>10.0</td>\n",
       "      <td>0.0</td>\n",
       "      <td>19878.0</td>\n",
       "      <td>66.30%</td>\n",
       "      <td>17.0</td>\n",
       "      <td>f</td>\n",
       "    </tr>\n",
       "    <tr>\n",
       "      <th>3</th>\n",
       "      <td>13.11%</td>\n",
       "      <td>57245.0</td>\n",
       "      <td>138150.0</td>\n",
       "      <td>$1,200</td>\n",
       "      <td>$1,200</td>\n",
       "      <td>$1,200</td>\n",
       "      <td>36 months</td>\n",
       "      <td>C</td>\n",
       "      <td>C2</td>\n",
       "      <td>city of beaumont texas</td>\n",
       "      <td>...</td>\n",
       "      <td>Jan-85</td>\n",
       "      <td>0.0</td>\n",
       "      <td>64.0</td>\n",
       "      <td>NaN</td>\n",
       "      <td>5.0</td>\n",
       "      <td>0.0</td>\n",
       "      <td>2584.0</td>\n",
       "      <td>40.40%</td>\n",
       "      <td>31.0</td>\n",
       "      <td>f</td>\n",
       "    </tr>\n",
       "    <tr>\n",
       "      <th>4</th>\n",
       "      <td>13.57%</td>\n",
       "      <td>57416.0</td>\n",
       "      <td>139635.0</td>\n",
       "      <td>$10,800</td>\n",
       "      <td>$10,800</td>\n",
       "      <td>$10,692</td>\n",
       "      <td>36 months</td>\n",
       "      <td>C</td>\n",
       "      <td>C3</td>\n",
       "      <td>State Farm Insurance</td>\n",
       "      <td>...</td>\n",
       "      <td>Dec-96</td>\n",
       "      <td>1.0</td>\n",
       "      <td>58.0</td>\n",
       "      <td>NaN</td>\n",
       "      <td>14.0</td>\n",
       "      <td>0.0</td>\n",
       "      <td>3511.0</td>\n",
       "      <td>25.60%</td>\n",
       "      <td>40.0</td>\n",
       "      <td>f</td>\n",
       "    </tr>\n",
       "  </tbody>\n",
       "</table>\n",
       "<p>5 rows × 32 columns</p>\n",
       "</div>"
      ],
      "text/plain": [
       "       X1       X2        X3       X4       X5       X6          X7 X8  X9  \\\n",
       "0  11.89%  54734.0   80364.0  $25,000  $25,000  $19,080   36 months  B  B4   \n",
       "1  10.71%  55742.0  114426.0   $7,000   $7,000     $673   36 months  B  B5   \n",
       "2  16.99%  57167.0  137225.0  $25,000  $25,000  $24,725   36 months  D  D3   \n",
       "3  13.11%  57245.0  138150.0   $1,200   $1,200   $1,200   36 months  C  C2   \n",
       "4  13.57%  57416.0  139635.0  $10,800  $10,800  $10,692   36 months  C  C3   \n",
       "\n",
       "                      X10  ...     X23  X24   X25 X26   X27  X28      X29  \\\n",
       "0                     NaN  ...  Feb-94  0.0   NaN NaN  10.0  0.0  28854.0   \n",
       "1                     CNN  ...  Oct-00  0.0   NaN NaN   7.0  0.0  33623.0   \n",
       "2          Web Programmer  ...  Jun-00  0.0  41.0 NaN  10.0  0.0  19878.0   \n",
       "3  city of beaumont texas  ...  Jan-85  0.0  64.0 NaN   5.0  0.0   2584.0   \n",
       "4    State Farm Insurance  ...  Dec-96  1.0  58.0 NaN  14.0  0.0   3511.0   \n",
       "\n",
       "      X30   X31 X32  \n",
       "0  52.10%  42.0   f  \n",
       "1  76.70%   7.0   f  \n",
       "2  66.30%  17.0   f  \n",
       "3  40.40%  31.0   f  \n",
       "4  25.60%  40.0   f  \n",
       "\n",
       "[5 rows x 32 columns]"
      ]
     },
     "execution_count": 2,
     "metadata": {},
     "output_type": "execute_result"
    }
   ],
   "source": [
    "loan = pd.read_csv(\"Data for Cleaning & Modeling.csv\")\n",
    "df = loan\n",
    "df.head()"
   ]
  },
  {
   "cell_type": "markdown",
   "metadata": {
    "id": "yzV2hMz9t3Ms"
   },
   "source": [
    "## Data Preprocessing"
   ]
  },
  {
   "cell_type": "code",
   "execution_count": 3,
   "metadata": {
    "colab": {
     "base_uri": "https://localhost:8080/",
     "height": 334
    },
    "id": "-Kl73dYmt3Mw",
    "outputId": "511ebab0-d057-42d2-bd39-a3092495b53b"
   },
   "outputs": [
    {
     "data": {
      "text/html": [
       "<div>\n",
       "<style scoped>\n",
       "    .dataframe tbody tr th:only-of-type {\n",
       "        vertical-align: middle;\n",
       "    }\n",
       "\n",
       "    .dataframe tbody tr th {\n",
       "        vertical-align: top;\n",
       "    }\n",
       "\n",
       "    .dataframe thead th {\n",
       "        text-align: right;\n",
       "    }\n",
       "</style>\n",
       "<table border=\"1\" class=\"dataframe\">\n",
       "  <thead>\n",
       "    <tr style=\"text-align: right;\">\n",
       "      <th></th>\n",
       "      <th>InterestRate</th>\n",
       "      <th>LoanId</th>\n",
       "      <th>BorrowerId</th>\n",
       "      <th>RequestedAmount</th>\n",
       "      <th>FundedAmount</th>\n",
       "      <th>InvestorFundedPortion</th>\n",
       "      <th>n_Payments</th>\n",
       "      <th>LoanGrade</th>\n",
       "      <th>LoanSubgrade</th>\n",
       "      <th>Employer_JobTitle</th>\n",
       "      <th>...</th>\n",
       "      <th>DateCreditLine</th>\n",
       "      <th>n_Inquiries</th>\n",
       "      <th>MonthsLastDeliquency</th>\n",
       "      <th>MonthsPublicRecord</th>\n",
       "      <th>n_OpenCreditLines</th>\n",
       "      <th>n_DerogatoryRecords</th>\n",
       "      <th>CreditRevolvingBalance</th>\n",
       "      <th>UtilizationRate</th>\n",
       "      <th>n_CreditLines</th>\n",
       "      <th>ListingStatus</th>\n",
       "    </tr>\n",
       "  </thead>\n",
       "  <tbody>\n",
       "    <tr>\n",
       "      <th>0</th>\n",
       "      <td>11.89%</td>\n",
       "      <td>54734.0</td>\n",
       "      <td>80364.0</td>\n",
       "      <td>$25,000</td>\n",
       "      <td>$25,000</td>\n",
       "      <td>$19,080</td>\n",
       "      <td>36 months</td>\n",
       "      <td>B</td>\n",
       "      <td>B4</td>\n",
       "      <td>NaN</td>\n",
       "      <td>...</td>\n",
       "      <td>Feb-94</td>\n",
       "      <td>0.0</td>\n",
       "      <td>NaN</td>\n",
       "      <td>NaN</td>\n",
       "      <td>10.0</td>\n",
       "      <td>0.0</td>\n",
       "      <td>28854.0</td>\n",
       "      <td>52.10%</td>\n",
       "      <td>42.0</td>\n",
       "      <td>f</td>\n",
       "    </tr>\n",
       "    <tr>\n",
       "      <th>1</th>\n",
       "      <td>10.71%</td>\n",
       "      <td>55742.0</td>\n",
       "      <td>114426.0</td>\n",
       "      <td>$7,000</td>\n",
       "      <td>$7,000</td>\n",
       "      <td>$673</td>\n",
       "      <td>36 months</td>\n",
       "      <td>B</td>\n",
       "      <td>B5</td>\n",
       "      <td>CNN</td>\n",
       "      <td>...</td>\n",
       "      <td>Oct-00</td>\n",
       "      <td>0.0</td>\n",
       "      <td>NaN</td>\n",
       "      <td>NaN</td>\n",
       "      <td>7.0</td>\n",
       "      <td>0.0</td>\n",
       "      <td>33623.0</td>\n",
       "      <td>76.70%</td>\n",
       "      <td>7.0</td>\n",
       "      <td>f</td>\n",
       "    </tr>\n",
       "    <tr>\n",
       "      <th>2</th>\n",
       "      <td>16.99%</td>\n",
       "      <td>57167.0</td>\n",
       "      <td>137225.0</td>\n",
       "      <td>$25,000</td>\n",
       "      <td>$25,000</td>\n",
       "      <td>$24,725</td>\n",
       "      <td>36 months</td>\n",
       "      <td>D</td>\n",
       "      <td>D3</td>\n",
       "      <td>Web Programmer</td>\n",
       "      <td>...</td>\n",
       "      <td>Jun-00</td>\n",
       "      <td>0.0</td>\n",
       "      <td>41.0</td>\n",
       "      <td>NaN</td>\n",
       "      <td>10.0</td>\n",
       "      <td>0.0</td>\n",
       "      <td>19878.0</td>\n",
       "      <td>66.30%</td>\n",
       "      <td>17.0</td>\n",
       "      <td>f</td>\n",
       "    </tr>\n",
       "    <tr>\n",
       "      <th>3</th>\n",
       "      <td>13.11%</td>\n",
       "      <td>57245.0</td>\n",
       "      <td>138150.0</td>\n",
       "      <td>$1,200</td>\n",
       "      <td>$1,200</td>\n",
       "      <td>$1,200</td>\n",
       "      <td>36 months</td>\n",
       "      <td>C</td>\n",
       "      <td>C2</td>\n",
       "      <td>city of beaumont texas</td>\n",
       "      <td>...</td>\n",
       "      <td>Jan-85</td>\n",
       "      <td>0.0</td>\n",
       "      <td>64.0</td>\n",
       "      <td>NaN</td>\n",
       "      <td>5.0</td>\n",
       "      <td>0.0</td>\n",
       "      <td>2584.0</td>\n",
       "      <td>40.40%</td>\n",
       "      <td>31.0</td>\n",
       "      <td>f</td>\n",
       "    </tr>\n",
       "    <tr>\n",
       "      <th>4</th>\n",
       "      <td>13.57%</td>\n",
       "      <td>57416.0</td>\n",
       "      <td>139635.0</td>\n",
       "      <td>$10,800</td>\n",
       "      <td>$10,800</td>\n",
       "      <td>$10,692</td>\n",
       "      <td>36 months</td>\n",
       "      <td>C</td>\n",
       "      <td>C3</td>\n",
       "      <td>State Farm Insurance</td>\n",
       "      <td>...</td>\n",
       "      <td>Dec-96</td>\n",
       "      <td>1.0</td>\n",
       "      <td>58.0</td>\n",
       "      <td>NaN</td>\n",
       "      <td>14.0</td>\n",
       "      <td>0.0</td>\n",
       "      <td>3511.0</td>\n",
       "      <td>25.60%</td>\n",
       "      <td>40.0</td>\n",
       "      <td>f</td>\n",
       "    </tr>\n",
       "  </tbody>\n",
       "</table>\n",
       "<p>5 rows × 32 columns</p>\n",
       "</div>"
      ],
      "text/plain": [
       "  InterestRate   LoanId  BorrowerId RequestedAmount FundedAmount  \\\n",
       "0       11.89%  54734.0     80364.0         $25,000      $25,000   \n",
       "1       10.71%  55742.0    114426.0          $7,000       $7,000   \n",
       "2       16.99%  57167.0    137225.0         $25,000      $25,000   \n",
       "3       13.11%  57245.0    138150.0          $1,200       $1,200   \n",
       "4       13.57%  57416.0    139635.0         $10,800      $10,800   \n",
       "\n",
       "  InvestorFundedPortion  n_Payments LoanGrade LoanSubgrade  \\\n",
       "0               $19,080   36 months         B           B4   \n",
       "1                  $673   36 months         B           B5   \n",
       "2               $24,725   36 months         D           D3   \n",
       "3                $1,200   36 months         C           C2   \n",
       "4               $10,692   36 months         C           C3   \n",
       "\n",
       "        Employer_JobTitle  ... DateCreditLine n_Inquiries  \\\n",
       "0                     NaN  ...         Feb-94         0.0   \n",
       "1                     CNN  ...         Oct-00         0.0   \n",
       "2          Web Programmer  ...         Jun-00         0.0   \n",
       "3  city of beaumont texas  ...         Jan-85         0.0   \n",
       "4    State Farm Insurance  ...         Dec-96         1.0   \n",
       "\n",
       "   MonthsLastDeliquency MonthsPublicRecord n_OpenCreditLines  \\\n",
       "0                   NaN                NaN              10.0   \n",
       "1                   NaN                NaN               7.0   \n",
       "2                  41.0                NaN              10.0   \n",
       "3                  64.0                NaN               5.0   \n",
       "4                  58.0                NaN              14.0   \n",
       "\n",
       "  n_DerogatoryRecords CreditRevolvingBalance UtilizationRate n_CreditLines  \\\n",
       "0                 0.0                28854.0          52.10%          42.0   \n",
       "1                 0.0                33623.0          76.70%           7.0   \n",
       "2                 0.0                19878.0          66.30%          17.0   \n",
       "3                 0.0                 2584.0          40.40%          31.0   \n",
       "4                 0.0                 3511.0          25.60%          40.0   \n",
       "\n",
       "  ListingStatus  \n",
       "0             f  \n",
       "1             f  \n",
       "2             f  \n",
       "3             f  \n",
       "4             f  \n",
       "\n",
       "[5 rows x 32 columns]"
      ]
     },
     "execution_count": 3,
     "metadata": {},
     "output_type": "execute_result"
    }
   ],
   "source": [
    "#Renaming columns based on data dictionary\n",
    "df = df.rename({'X1': 'InterestRate', 'X2': 'LoanId', 'X3': 'BorrowerId', 'X4': 'RequestedAmount', 'X5': 'FundedAmount',\n",
    "                'X6': 'InvestorFundedPortion', 'X7': 'n_Payments', 'X8': 'LoanGrade', 'X9': 'LoanSubgrade', 'X10': 'Employer_JobTitle',\n",
    "                'X11': 'n_YearsEmployed', 'X12': 'HomeOwnership', 'X13': 'AnnualIncome', 'X14': 'IncomeCheck', 'X15': 'IssueDate',\n",
    "                'X16': 'Reason', 'X17': 'LoanCategory', 'X18': 'LoanTitle', 'X19': 'Zipcode_3', 'X20': 'State', 'X21': 'Ratio', 'X22': 'n_Incidences',\n",
    "                'X23': 'DateCreditLine', 'X24': 'n_Inquiries', 'X25': 'MonthsLastDeliquency', 'X26': 'MonthsPublicRecord', 'X27': 'n_OpenCreditLines',\n",
    "                'X28': 'n_DerogatoryRecords', 'X29': 'CreditRevolvingBalance', 'X30': 'UtilizationRate', 'X31': 'n_CreditLines', 'X32': 'ListingStatus'}, axis = 1)\n",
    "\n",
    "df.head()"
   ]
  },
  {
   "cell_type": "code",
   "execution_count": 4,
   "metadata": {
    "colab": {
     "base_uri": "https://localhost:8080/"
    },
    "id": "OEfLDeLrt3M0",
    "outputId": "39ab5fa5-8602-4482-ed8e-8a9942e3700c"
   },
   "outputs": [
    {
     "name": "stdout",
     "output_type": "stream",
     "text": [
      "<class 'pandas.core.frame.DataFrame'>\n",
      "RangeIndex: 400000 entries, 0 to 399999\n",
      "Data columns (total 32 columns):\n",
      " #   Column                  Non-Null Count   Dtype  \n",
      "---  ------                  --------------   -----  \n",
      " 0   InterestRate            338990 non-null  object \n",
      " 1   LoanId                  399999 non-null  float64\n",
      " 2   BorrowerId              399999 non-null  float64\n",
      " 3   RequestedAmount         399999 non-null  object \n",
      " 4   FundedAmount            399999 non-null  object \n",
      " 5   InvestorFundedPortion   399999 non-null  object \n",
      " 6   n_Payments              399999 non-null  object \n",
      " 7   LoanGrade               338730 non-null  object \n",
      " 8   LoanSubgrade            338730 non-null  object \n",
      " 9   Employer_JobTitle       376014 non-null  object \n",
      " 10  n_YearsEmployed         382462 non-null  object \n",
      " 11  HomeOwnership           338639 non-null  object \n",
      " 12  AnnualIncome            338972 non-null  float64\n",
      " 13  IncomeCheck             399999 non-null  object \n",
      " 14  IssueDate               399999 non-null  object \n",
      " 15  Reason                  123560 non-null  object \n",
      " 16  LoanCategory            399999 non-null  object \n",
      " 17  LoanTitle               399981 non-null  object \n",
      " 18  Zipcode_3               399999 non-null  object \n",
      " 19  State                   399999 non-null  object \n",
      " 20  Ratio                   399999 non-null  float64\n",
      " 21  n_Incidences            399999 non-null  float64\n",
      " 22  DateCreditLine          399999 non-null  object \n",
      " 23  n_Inquiries             399999 non-null  float64\n",
      " 24  MonthsLastDeliquency    181198 non-null  float64\n",
      " 25  MonthsPublicRecord      51155 non-null   float64\n",
      " 26  n_OpenCreditLines       399999 non-null  float64\n",
      " 27  n_DerogatoryRecords     399999 non-null  float64\n",
      " 28  CreditRevolvingBalance  399999 non-null  float64\n",
      " 29  UtilizationRate         399733 non-null  object \n",
      " 30  n_CreditLines           399999 non-null  float64\n",
      " 31  ListingStatus           399999 non-null  object \n",
      "dtypes: float64(12), object(20)\n",
      "memory usage: 97.7+ MB\n"
     ]
    }
   ],
   "source": [
    "df.info()"
   ]
  },
  {
   "cell_type": "markdown",
   "metadata": {
    "id": "ri_CY43Xt3M1"
   },
   "source": [
    "<b>Dropping null rows"
   ]
  },
  {
   "cell_type": "code",
   "execution_count": 5,
   "metadata": {
    "colab": {
     "base_uri": "https://localhost:8080/"
    },
    "id": "iatF6byOt3M3",
    "outputId": "e58fe275-60d1-4432-c86b-cc913809b7b7"
   },
   "outputs": [
    {
     "name": "stdout",
     "output_type": "stream",
     "text": [
      "Dropping 1 row(s) which are null across multiple columns\n",
      "Dropping 61010 row(s) which have no Interest Rate\n"
     ]
    }
   ],
   "source": [
    "x = loan.shape[0]\n",
    "df = df.dropna(subset=['LoanId'])\n",
    "c = x - df.shape[0]\n",
    "print(\"Dropping \" + str(c) + \" row(s) which are null across multiple columns\")\n",
    "df = df.dropna(subset=['InterestRate'])\n",
    "print(\"Dropping \" + str(x - df.shape[0] - c) + \" row(s) which have no Interest Rate\")"
   ]
  },
  {
   "cell_type": "markdown",
   "metadata": {
    "id": "JdqOjBc1t3M4"
   },
   "source": [
    "<b>Cleaning up data by removing symbols, or converting to a better format as required, etc."
   ]
  },
  {
   "cell_type": "code",
   "execution_count": 6,
   "metadata": {
    "colab": {
     "base_uri": "https://localhost:8080/",
     "height": 334
    },
    "id": "-D7xl7lUt3M6",
    "outputId": "fa3dc4b1-18af-4690-f902-6f381d3d8d17"
   },
   "outputs": [
    {
     "data": {
      "text/html": [
       "<div>\n",
       "<style scoped>\n",
       "    .dataframe tbody tr th:only-of-type {\n",
       "        vertical-align: middle;\n",
       "    }\n",
       "\n",
       "    .dataframe tbody tr th {\n",
       "        vertical-align: top;\n",
       "    }\n",
       "\n",
       "    .dataframe thead th {\n",
       "        text-align: right;\n",
       "    }\n",
       "</style>\n",
       "<table border=\"1\" class=\"dataframe\">\n",
       "  <thead>\n",
       "    <tr style=\"text-align: right;\">\n",
       "      <th></th>\n",
       "      <th>InterestRate</th>\n",
       "      <th>LoanId</th>\n",
       "      <th>BorrowerId</th>\n",
       "      <th>RequestedAmount</th>\n",
       "      <th>FundedAmount</th>\n",
       "      <th>InvestorFundedPortion</th>\n",
       "      <th>n_Payments</th>\n",
       "      <th>LoanGrade</th>\n",
       "      <th>LoanSubgrade</th>\n",
       "      <th>Employer_JobTitle</th>\n",
       "      <th>...</th>\n",
       "      <th>MonthsLastDeliquency</th>\n",
       "      <th>MonthsPublicRecord</th>\n",
       "      <th>n_OpenCreditLines</th>\n",
       "      <th>n_DerogatoryRecords</th>\n",
       "      <th>CreditRevolvingBalance</th>\n",
       "      <th>UtilizationRate</th>\n",
       "      <th>n_CreditLines</th>\n",
       "      <th>ListingStatus</th>\n",
       "      <th>IssueDate_Month</th>\n",
       "      <th>IssueDate_Year</th>\n",
       "    </tr>\n",
       "  </thead>\n",
       "  <tbody>\n",
       "    <tr>\n",
       "      <th>0</th>\n",
       "      <td>0.1189</td>\n",
       "      <td>54734.0</td>\n",
       "      <td>80364.0</td>\n",
       "      <td>25000.0</td>\n",
       "      <td>25000.0</td>\n",
       "      <td>19080.0</td>\n",
       "      <td>36.0</td>\n",
       "      <td>B</td>\n",
       "      <td>B4</td>\n",
       "      <td>NaN</td>\n",
       "      <td>...</td>\n",
       "      <td>NaN</td>\n",
       "      <td>NaN</td>\n",
       "      <td>10.0</td>\n",
       "      <td>0.0</td>\n",
       "      <td>28854.0</td>\n",
       "      <td>0.521</td>\n",
       "      <td>42.0</td>\n",
       "      <td>f</td>\n",
       "      <td>8</td>\n",
       "      <td>2009</td>\n",
       "    </tr>\n",
       "    <tr>\n",
       "      <th>1</th>\n",
       "      <td>0.1071</td>\n",
       "      <td>55742.0</td>\n",
       "      <td>114426.0</td>\n",
       "      <td>7000.0</td>\n",
       "      <td>7000.0</td>\n",
       "      <td>673.0</td>\n",
       "      <td>36.0</td>\n",
       "      <td>B</td>\n",
       "      <td>B5</td>\n",
       "      <td>CNN</td>\n",
       "      <td>...</td>\n",
       "      <td>NaN</td>\n",
       "      <td>NaN</td>\n",
       "      <td>7.0</td>\n",
       "      <td>0.0</td>\n",
       "      <td>33623.0</td>\n",
       "      <td>0.767</td>\n",
       "      <td>7.0</td>\n",
       "      <td>f</td>\n",
       "      <td>5</td>\n",
       "      <td>2008</td>\n",
       "    </tr>\n",
       "    <tr>\n",
       "      <th>2</th>\n",
       "      <td>0.1699</td>\n",
       "      <td>57167.0</td>\n",
       "      <td>137225.0</td>\n",
       "      <td>25000.0</td>\n",
       "      <td>25000.0</td>\n",
       "      <td>24725.0</td>\n",
       "      <td>36.0</td>\n",
       "      <td>D</td>\n",
       "      <td>D3</td>\n",
       "      <td>Web Programmer</td>\n",
       "      <td>...</td>\n",
       "      <td>41.0</td>\n",
       "      <td>NaN</td>\n",
       "      <td>10.0</td>\n",
       "      <td>0.0</td>\n",
       "      <td>19878.0</td>\n",
       "      <td>0.663</td>\n",
       "      <td>17.0</td>\n",
       "      <td>f</td>\n",
       "      <td>8</td>\n",
       "      <td>2014</td>\n",
       "    </tr>\n",
       "    <tr>\n",
       "      <th>3</th>\n",
       "      <td>0.1311</td>\n",
       "      <td>57245.0</td>\n",
       "      <td>138150.0</td>\n",
       "      <td>1200.0</td>\n",
       "      <td>1200.0</td>\n",
       "      <td>1200.0</td>\n",
       "      <td>36.0</td>\n",
       "      <td>C</td>\n",
       "      <td>C2</td>\n",
       "      <td>city of beaumont texas</td>\n",
       "      <td>...</td>\n",
       "      <td>64.0</td>\n",
       "      <td>NaN</td>\n",
       "      <td>5.0</td>\n",
       "      <td>0.0</td>\n",
       "      <td>2584.0</td>\n",
       "      <td>0.404</td>\n",
       "      <td>31.0</td>\n",
       "      <td>f</td>\n",
       "      <td>3</td>\n",
       "      <td>2010</td>\n",
       "    </tr>\n",
       "    <tr>\n",
       "      <th>4</th>\n",
       "      <td>0.1357</td>\n",
       "      <td>57416.0</td>\n",
       "      <td>139635.0</td>\n",
       "      <td>10800.0</td>\n",
       "      <td>10800.0</td>\n",
       "      <td>10692.0</td>\n",
       "      <td>36.0</td>\n",
       "      <td>C</td>\n",
       "      <td>C3</td>\n",
       "      <td>State Farm Insurance</td>\n",
       "      <td>...</td>\n",
       "      <td>58.0</td>\n",
       "      <td>NaN</td>\n",
       "      <td>14.0</td>\n",
       "      <td>0.0</td>\n",
       "      <td>3511.0</td>\n",
       "      <td>0.256</td>\n",
       "      <td>40.0</td>\n",
       "      <td>f</td>\n",
       "      <td>11</td>\n",
       "      <td>2009</td>\n",
       "    </tr>\n",
       "  </tbody>\n",
       "</table>\n",
       "<p>5 rows × 34 columns</p>\n",
       "</div>"
      ],
      "text/plain": [
       "   InterestRate   LoanId  BorrowerId  RequestedAmount  FundedAmount  \\\n",
       "0        0.1189  54734.0     80364.0          25000.0       25000.0   \n",
       "1        0.1071  55742.0    114426.0           7000.0        7000.0   \n",
       "2        0.1699  57167.0    137225.0          25000.0       25000.0   \n",
       "3        0.1311  57245.0    138150.0           1200.0        1200.0   \n",
       "4        0.1357  57416.0    139635.0          10800.0       10800.0   \n",
       "\n",
       "   InvestorFundedPortion  n_Payments LoanGrade LoanSubgrade  \\\n",
       "0                19080.0        36.0         B           B4   \n",
       "1                  673.0        36.0         B           B5   \n",
       "2                24725.0        36.0         D           D3   \n",
       "3                 1200.0        36.0         C           C2   \n",
       "4                10692.0        36.0         C           C3   \n",
       "\n",
       "        Employer_JobTitle  ...  MonthsLastDeliquency MonthsPublicRecord  \\\n",
       "0                     NaN  ...                   NaN                NaN   \n",
       "1                     CNN  ...                   NaN                NaN   \n",
       "2          Web Programmer  ...                  41.0                NaN   \n",
       "3  city of beaumont texas  ...                  64.0                NaN   \n",
       "4    State Farm Insurance  ...                  58.0                NaN   \n",
       "\n",
       "   n_OpenCreditLines n_DerogatoryRecords CreditRevolvingBalance  \\\n",
       "0               10.0                 0.0                28854.0   \n",
       "1                7.0                 0.0                33623.0   \n",
       "2               10.0                 0.0                19878.0   \n",
       "3                5.0                 0.0                 2584.0   \n",
       "4               14.0                 0.0                 3511.0   \n",
       "\n",
       "  UtilizationRate n_CreditLines ListingStatus IssueDate_Month IssueDate_Year  \n",
       "0           0.521          42.0             f               8           2009  \n",
       "1           0.767           7.0             f               5           2008  \n",
       "2           0.663          17.0             f               8           2014  \n",
       "3           0.404          31.0             f               3           2010  \n",
       "4           0.256          40.0             f              11           2009  \n",
       "\n",
       "[5 rows x 34 columns]"
      ]
     },
     "execution_count": 6,
     "metadata": {},
     "output_type": "execute_result"
    }
   ],
   "source": [
    "#Clean data of unnecessary symbols like '$', ','\n",
    "\n",
    "#Remove % in Interest Rate and convert it to float\n",
    "df['InterestRate'] = df['InterestRate'].str.replace('[^0-9.\\s]+', '').astype(float)/100\n",
    "\n",
    "#Remove $ and commas in Amounts and convert to float\n",
    "df['RequestedAmount'] = df['RequestedAmount'].str.replace('[^0-9.\\s]+', '').astype(float)\n",
    "df['FundedAmount'] = df['FundedAmount'].str.replace('[^0-9.\\s]+', '').astype(float)\n",
    "df['InvestorFundedPortion'] = df['InvestorFundedPortion'].str.replace('[^0-9.\\s]+', '').astype(float)\n",
    "\n",
    "#Convert to numbers\n",
    "df['n_Payments'] = df['n_Payments'].str.replace('[^0-9.\\s]+', '').astype(float)\n",
    "df['n_YearsEmployed'] = df['n_YearsEmployed'].apply(lambda x: '0' if x == '< 1 year' else x)\n",
    "df['n_YearsEmployed'] = df['n_YearsEmployed'].str.replace('[^0-9.\\s]+', '').astype(float)\n",
    "\n",
    "# df[['IssueMonth','IssueYear']] = df['IssueDate'].str.split('-', expand=True)\n",
    "\n",
    "# df['IssueDay'] = df['IssueDay'].astype(float).astype(int)\n",
    "# df['IssueMonth'] = pd.to_datetime(df['IssueMonth'], format='%Y').dt.year\n",
    "df['IssueDate'] = [dt.datetime.strptime(i,'%b-%y').strftime('%d-%b-%Y') if int(i.split(\"-\")[1]) <= 20 else dt.datetime.strptime(i,'%b-%y').replace(year=int(\"19\" + i.split(\"-\")[1])).strftime('%d-%b-%Y') for i in df['IssueDate']]\n",
    "df['IssueDate'] = pd.to_datetime(df['IssueDate'])\n",
    "df['IssueDate_Month'] = df['IssueDate'].dt.month\n",
    "df['IssueDate_Year'] = df['IssueDate'].dt.year\n",
    "\n",
    "\n",
    "df['DateCreditLine'] = [dt.datetime.strptime(i,'%b-%y').strftime('%d-%b-%Y') if int(i.split(\"-\")[1]) <= 20 else dt.datetime.strptime(i,'%b-%y').replace(year=int(\"19\" + i.split(\"-\")[1])).strftime('%d-%b-%Y') for i in df['DateCreditLine']]\n",
    "df['DateCreditLine'] = pd.to_datetime(df['DateCreditLine'])\n",
    "df['DateCreditLine'] = dt.date.today().year - df['DateCreditLine'].dt.year\n",
    "\n",
    "#Remove % from Utilization Rate\n",
    "df['UtilizationRate'] = df['UtilizationRate'].str.replace('[^0-9.\\s]+', '').astype(float)/100\n",
    "\n",
    "df = df.reset_index(drop=True)\n",
    "df.head()"
   ]
  },
  {
   "cell_type": "code",
   "execution_count": 7,
   "metadata": {
    "colab": {
     "base_uri": "https://localhost:8080/"
    },
    "id": "UoLkJcQGt3M8",
    "outputId": "debcbd83-af8a-41ad-9ebf-6dfc348d56fc"
   },
   "outputs": [
    {
     "name": "stdout",
     "output_type": "stream",
     "text": [
      "<class 'pandas.core.frame.DataFrame'>\n",
      "RangeIndex: 338989 entries, 0 to 338988\n",
      "Data columns (total 34 columns):\n",
      " #   Column                  Non-Null Count   Dtype         \n",
      "---  ------                  --------------   -----         \n",
      " 0   InterestRate            338989 non-null  float64       \n",
      " 1   LoanId                  338989 non-null  float64       \n",
      " 2   BorrowerId              338989 non-null  float64       \n",
      " 3   RequestedAmount         338989 non-null  float64       \n",
      " 4   FundedAmount            338989 non-null  float64       \n",
      " 5   InvestorFundedPortion   338989 non-null  float64       \n",
      " 6   n_Payments              338989 non-null  float64       \n",
      " 7   LoanGrade               287123 non-null  object        \n",
      " 8   LoanSubgrade            287123 non-null  object        \n",
      " 9   Employer_JobTitle       318733 non-null  object        \n",
      " 10  n_YearsEmployed         324195 non-null  float64       \n",
      " 11  HomeOwnership           287030 non-null  object        \n",
      " 12  AnnualIncome            287238 non-null  float64       \n",
      " 13  IncomeCheck             338989 non-null  object        \n",
      " 14  IssueDate               338989 non-null  datetime64[ns]\n",
      " 15  Reason                  105056 non-null  object        \n",
      " 16  LoanCategory            338989 non-null  object        \n",
      " 17  LoanTitle               338973 non-null  object        \n",
      " 18  Zipcode_3               338989 non-null  object        \n",
      " 19  State                   338989 non-null  object        \n",
      " 20  Ratio                   338989 non-null  float64       \n",
      " 21  n_Incidences            338989 non-null  float64       \n",
      " 22  DateCreditLine          338989 non-null  int64         \n",
      " 23  n_Inquiries             338989 non-null  float64       \n",
      " 24  MonthsLastDeliquency    153533 non-null  float64       \n",
      " 25  MonthsPublicRecord      43400 non-null   float64       \n",
      " 26  n_OpenCreditLines       338989 non-null  float64       \n",
      " 27  n_DerogatoryRecords     338989 non-null  float64       \n",
      " 28  CreditRevolvingBalance  338989 non-null  float64       \n",
      " 29  UtilizationRate         338765 non-null  float64       \n",
      " 30  n_CreditLines           338989 non-null  float64       \n",
      " 31  ListingStatus           338989 non-null  object        \n",
      " 32  IssueDate_Month         338989 non-null  int64         \n",
      " 33  IssueDate_Year          338989 non-null  int64         \n",
      "dtypes: datetime64[ns](1), float64(19), int64(3), object(11)\n",
      "memory usage: 87.9+ MB\n"
     ]
    }
   ],
   "source": [
    "df.info()"
   ]
  },
  {
   "cell_type": "markdown",
   "metadata": {
    "id": "6X3u5e2wt3M-"
   },
   "source": [
    "<b>Drop unnecessary columns"
   ]
  },
  {
   "cell_type": "code",
   "execution_count": 8,
   "metadata": {
    "colab": {
     "base_uri": "https://localhost:8080/",
     "height": 363
    },
    "id": "fmI0kFjFt3M_",
    "outputId": "d7c176e5-2ce3-4942-89c9-a3ee448a6e16"
   },
   "outputs": [
    {
     "data": {
      "text/html": [
       "<div>\n",
       "<style scoped>\n",
       "    .dataframe tbody tr th:only-of-type {\n",
       "        vertical-align: middle;\n",
       "    }\n",
       "\n",
       "    .dataframe tbody tr th {\n",
       "        vertical-align: top;\n",
       "    }\n",
       "\n",
       "    .dataframe thead th {\n",
       "        text-align: right;\n",
       "    }\n",
       "</style>\n",
       "<table border=\"1\" class=\"dataframe\">\n",
       "  <thead>\n",
       "    <tr style=\"text-align: right;\">\n",
       "      <th></th>\n",
       "      <th>Col Name</th>\n",
       "      <th>Missing %</th>\n",
       "    </tr>\n",
       "  </thead>\n",
       "  <tbody>\n",
       "    <tr>\n",
       "      <th>25</th>\n",
       "      <td>MonthsPublicRecord</td>\n",
       "      <td>87.2%</td>\n",
       "    </tr>\n",
       "    <tr>\n",
       "      <th>15</th>\n",
       "      <td>Reason</td>\n",
       "      <td>69.01%</td>\n",
       "    </tr>\n",
       "    <tr>\n",
       "      <th>24</th>\n",
       "      <td>MonthsLastDeliquency</td>\n",
       "      <td>54.71%</td>\n",
       "    </tr>\n",
       "    <tr>\n",
       "      <th>11</th>\n",
       "      <td>HomeOwnership</td>\n",
       "      <td>15.33%</td>\n",
       "    </tr>\n",
       "    <tr>\n",
       "      <th>7</th>\n",
       "      <td>LoanGrade</td>\n",
       "      <td>15.3%</td>\n",
       "    </tr>\n",
       "    <tr>\n",
       "      <th>8</th>\n",
       "      <td>LoanSubgrade</td>\n",
       "      <td>15.3%</td>\n",
       "    </tr>\n",
       "    <tr>\n",
       "      <th>12</th>\n",
       "      <td>AnnualIncome</td>\n",
       "      <td>15.27%</td>\n",
       "    </tr>\n",
       "    <tr>\n",
       "      <th>9</th>\n",
       "      <td>Employer_JobTitle</td>\n",
       "      <td>5.98%</td>\n",
       "    </tr>\n",
       "    <tr>\n",
       "      <th>10</th>\n",
       "      <td>n_YearsEmployed</td>\n",
       "      <td>4.36%</td>\n",
       "    </tr>\n",
       "    <tr>\n",
       "      <th>29</th>\n",
       "      <td>UtilizationRate</td>\n",
       "      <td>0.07%</td>\n",
       "    </tr>\n",
       "  </tbody>\n",
       "</table>\n",
       "</div>"
      ],
      "text/plain": [
       "                Col Name Missing %\n",
       "25    MonthsPublicRecord     87.2%\n",
       "15                Reason    69.01%\n",
       "24  MonthsLastDeliquency    54.71%\n",
       "11         HomeOwnership    15.33%\n",
       "7              LoanGrade     15.3%\n",
       "8           LoanSubgrade     15.3%\n",
       "12          AnnualIncome    15.27%\n",
       "9      Employer_JobTitle     5.98%\n",
       "10       n_YearsEmployed     4.36%\n",
       "29       UtilizationRate     0.07%"
      ]
     },
     "execution_count": 8,
     "metadata": {},
     "output_type": "execute_result"
    }
   ],
   "source": [
    "def missing_perc(df):\n",
    "    missing_df = pd.DataFrame()\n",
    "    missing_df['Col Name'] = list(df.columns)\n",
    "    missing_df['Missing %'] = [round(i/df.shape[0] * 100,2) for i in df.isnull().sum()]\n",
    "    missing_df.sort_values(by=['Missing %'], ascending=False,inplace=True)\n",
    "    missing_df['Missing %'] = missing_df['Missing %'].astype('str') + '%'\n",
    "    pd.set_option('display.max_rows', None)\n",
    "    return missing_df\n",
    "missing_df = missing_perc(df)\n",
    "missing_df[missing_df['Missing %'] != '0.0%']"
   ]
  },
  {
   "cell_type": "markdown",
   "metadata": {
    "id": "7JehnmNVt3NB"
   },
   "source": [
    "1. Dropping LoanId and BorrowerId as they are unique identifiers and have no effect on the data\n",
    "2. Dropping Reason as it's not unique enough to categorize and too many null values (~69%) to impute\n",
    "3. Dropping LoanTitle as it is provided by Borrowers and doesn't have a specific format, there are usernames, emails, titles which make it confusing\n",
    "4. Dropped 'MonthsLastDeliquency', 'MonthsPublicRecord' as they have too many null values to impute - ~55% and ~87% are null values respectively.\n",
    "5. Dropping IssueDate as calculated the issue month and year from it"
   ]
  },
  {
   "cell_type": "code",
   "execution_count": 9,
   "metadata": {
    "colab": {
     "base_uri": "https://localhost:8080/"
    },
    "id": "yIdLnd7mt3NC",
    "outputId": "f91c04a2-2345-4aec-8b1c-4d72dd21cc19"
   },
   "outputs": [
    {
     "data": {
      "text/plain": [
       "Index(['InterestRate', 'RequestedAmount', 'FundedAmount',\n",
       "       'InvestorFundedPortion', 'n_Payments', 'LoanGrade', 'LoanSubgrade',\n",
       "       'Employer_JobTitle', 'n_YearsEmployed', 'HomeOwnership', 'AnnualIncome',\n",
       "       'IncomeCheck', 'LoanCategory', 'Zipcode_3', 'State', 'Ratio',\n",
       "       'n_Incidences', 'DateCreditLine', 'n_Inquiries', 'n_OpenCreditLines',\n",
       "       'n_DerogatoryRecords', 'CreditRevolvingBalance', 'UtilizationRate',\n",
       "       'n_CreditLines', 'ListingStatus', 'IssueDate_Month', 'IssueDate_Year'],\n",
       "      dtype='object')"
      ]
     },
     "execution_count": 9,
     "metadata": {},
     "output_type": "execute_result"
    }
   ],
   "source": [
    "df = df.drop(['LoanId', 'BorrowerId', 'Reason', 'LoanTitle', 'IssueDate', \n",
    "                'MonthsLastDeliquency', 'MonthsPublicRecord'], axis = 1)\n",
    "df.columns"
   ]
  },
  {
   "cell_type": "markdown",
   "metadata": {
    "id": "JsEG3X0Ut3NE"
   },
   "source": [
    "Changing number of Payments (36 or 60 months) to a binary categorical variable that shows if it had 36 months as the number of payments or not"
   ]
  },
  {
   "cell_type": "code",
   "execution_count": 10,
   "metadata": {
    "id": "ofRJ64Y5t3NF"
   },
   "outputs": [],
   "source": [
    "df['is_36'] = df['n_Payments'].apply(lambda x: 1 if x == 36 else 0)\n",
    "df['is_60'] = df['n_Payments'].apply(lambda x: 1 if x == 60 else 0)\n",
    "df = df.drop(['n_Payments'], axis=1)"
   ]
  },
  {
   "cell_type": "code",
   "execution_count": 11,
   "metadata": {
    "colab": {
     "base_uri": "https://localhost:8080/",
     "height": 391
    },
    "id": "xsdNYDx1t3NG",
    "outputId": "cad9cefc-12b0-41a1-a247-13ca8d17c38f"
   },
   "outputs": [
    {
     "data": {
      "text/plain": [
       "<seaborn.axisgrid.PairGrid at 0x242bf5bb190>"
      ]
     },
     "execution_count": 11,
     "metadata": {},
     "output_type": "execute_result"
    },
    {
     "data": {
      "image/png": "[encoded data removed]",
      "text/plain": [
       "<Figure size 500x500 with 1 Axes>"
      ]
     },
     "metadata": {},
     "output_type": "display_data"
    }
   ],
   "source": [
    "i = df.copy(deep=True)\n",
    "i['InterestRate'] = i['InterestRate']\n",
    "h = sns.PairGrid(data=i, x_vars=['is_36'], y_vars='InterestRate', height=5)\n",
    "h.map(sns.pointplot, color=\"red\")\n",
    "h.set(ylim=(0, 1))"
   ]
  },
  {
   "cell_type": "code",
   "execution_count": 12,
   "metadata": {
    "colab": {
     "base_uri": "https://localhost:8080/",
     "height": 1000
    },
    "id": "947DSGm1t3NH",
    "outputId": "a323be12-fe01-46d6-8143-702dadde1c4e"
   },
   "outputs": [
    {
     "data": {
      "text/plain": [
       "<seaborn.axisgrid.PairGrid at 0x242c10b6b10>"
      ]
     },
     "execution_count": 12,
     "metadata": {},
     "output_type": "execute_result"
    },
    {
     "data": {
      "image/png": "[encoded data removed]",
      "text/plain": [
       "<Figure size 500x500 with 1 Axes>"
      ]
     },
     "metadata": {},
     "output_type": "display_data"
    },
    {
     "data": {
      "image/png": "[encoded data removed]",
      "text/plain": [
       "<Figure size 1000x1000 with 1 Axes>"
      ]
     },
     "metadata": {},
     "output_type": "display_data"
    }
   ],
   "source": [
    "h = sns.PairGrid(data=i, x_vars=['LoanGrade'], y_vars='InterestRate', height=5)\n",
    "h.map(sns.pointplot, color=\"red\", order=df['LoanGrade'].sort_values().unique())\n",
    "h.set(ylim=(0, 1))\n",
    "\n",
    "h = sns.PairGrid(data=i, x_vars=['LoanSubgrade'], y_vars='InterestRate', height=10)\n",
    "h.map(sns.pointplot, color=\"red\", order=df['LoanSubgrade'].sort_values().unique())\n",
    "h.set(ylim=(0, 1))"
   ]
  },
  {
   "cell_type": "markdown",
   "metadata": {
    "id": "7UFArpaQt3NI"
   },
   "source": [
    "1. Dropping Loan Grade as Loan Sub Grade itself provides a more granular information\n",
    "2. Droping all null rows under Loan Sub Grade as the column is vital in determining interest rates"
   ]
  },
  {
   "cell_type": "code",
   "execution_count": 13,
   "metadata": {
    "colab": {
     "base_uri": "https://localhost:8080/"
    },
    "id": "ykmkOgktt3NJ",
    "outputId": "afb20f7f-3360-4c0a-9ab2-8fb118ca8d14"
   },
   "outputs": [
    {
     "name": "stdout",
     "output_type": "stream",
     "text": [
      "Dropping 51866 row(s) which have no Loan Sub Grade \n",
      "\n",
      "<class 'pandas.core.frame.DataFrame'>\n",
      "Int64Index: 287123 entries, 0 to 338988\n",
      "Data columns (total 27 columns):\n",
      " #   Column                  Non-Null Count   Dtype  \n",
      "---  ------                  --------------   -----  \n",
      " 0   InterestRate            287123 non-null  float64\n",
      " 1   RequestedAmount         287123 non-null  float64\n",
      " 2   FundedAmount            287123 non-null  float64\n",
      " 3   InvestorFundedPortion   287123 non-null  float64\n",
      " 4   LoanSubgrade            287123 non-null  object \n",
      " 5   Employer_JobTitle       270050 non-null  object \n",
      " 6   n_YearsEmployed         274672 non-null  float64\n",
      " 7   HomeOwnership           242995 non-null  object \n",
      " 8   AnnualIncome            243133 non-null  float64\n",
      " 9   IncomeCheck             287123 non-null  object \n",
      " 10  LoanCategory            287123 non-null  object \n",
      " 11  Zipcode_3               287123 non-null  object \n",
      " 12  State                   287123 non-null  object \n",
      " 13  Ratio                   287123 non-null  float64\n",
      " 14  n_Incidences            287123 non-null  float64\n",
      " 15  DateCreditLine          287123 non-null  int64  \n",
      " 16  n_Inquiries             287123 non-null  float64\n",
      " 17  n_OpenCreditLines       287123 non-null  float64\n",
      " 18  n_DerogatoryRecords     287123 non-null  float64\n",
      " 19  CreditRevolvingBalance  287123 non-null  float64\n",
      " 20  UtilizationRate         286945 non-null  float64\n",
      " 21  n_CreditLines           287123 non-null  float64\n",
      " 22  ListingStatus           287123 non-null  object \n",
      " 23  IssueDate_Month         287123 non-null  int64  \n",
      " 24  IssueDate_Year          287123 non-null  int64  \n",
      " 25  is_36                   287123 non-null  int64  \n",
      " 26  is_60                   287123 non-null  int64  \n",
      "dtypes: float64(14), int64(5), object(8)\n",
      "memory usage: 61.3+ MB\n"
     ]
    }
   ],
   "source": [
    "df = df.drop(['LoanGrade'], axis = 1)\n",
    "\n",
    "x = df.shape[0]\n",
    "df = df.dropna(subset=['LoanSubgrade'])\n",
    "print(\"Dropping \" + str(x - df.shape[0]) + \" row(s) which have no Loan Sub Grade \\n\")\n",
    "df.info()"
   ]
  },
  {
   "cell_type": "markdown",
   "metadata": {
    "id": "xOwBz-9Rt3NK"
   },
   "source": [
    "In order to drop Employer_JobTitle since it doesn't have unique values, assigning a person as employed if they have job title or an annual income or have been employed or have an income verified"
   ]
  },
  {
   "cell_type": "code",
   "execution_count": 14,
   "metadata": {
    "id": "_wAy2goBt3NK"
   },
   "outputs": [],
   "source": [
    "def check_null(a):\n",
    "    try:\n",
    "        return np.isnan(a)\n",
    "    except:\n",
    "        return False\n",
    "\n",
    "df['is_Employed'] = [0 if ((check_null(employ)) and (np.isnan(years)) and (np.isnan(income)) and (verify == 'not verified')) else 1 for employ, years, income, verify in zip(df['Employer_JobTitle'], df['n_YearsEmployed'], df['AnnualIncome'], df['IncomeCheck'])]\n",
    "df = df.drop(['Employer_JobTitle'], axis=1)"
   ]
  },
  {
   "cell_type": "code",
   "execution_count": 15,
   "metadata": {
    "colab": {
     "base_uri": "https://localhost:8080/",
     "height": 391
    },
    "id": "xXREnU1xt3NL",
    "outputId": "d11694c9-4d15-4837-99a5-aff88a4c9c4e"
   },
   "outputs": [
    {
     "data": {
      "text/plain": [
       "<seaborn.axisgrid.PairGrid at 0x242c5441c50>"
      ]
     },
     "execution_count": 15,
     "metadata": {},
     "output_type": "execute_result"
    },
    {
     "data": {
      "image/png": "[encoded data removed]",
      "text/plain": [
       "<Figure size 500x500 with 1 Axes>"
      ]
     },
     "metadata": {},
     "output_type": "display_data"
    }
   ],
   "source": [
    "i = df.copy(deep=True)\n",
    "i['InterestRate'] = i['InterestRate']\n",
    "\n",
    "h = sns.PairGrid(data=i, x_vars=['is_Employed'], y_vars='InterestRate', height=5)\n",
    "h.map(sns.pointplot, color=\"red\")\n",
    "h.set(ylim=(0, 1))"
   ]
  },
  {
   "cell_type": "markdown",
   "metadata": {
    "id": "7EjI5di4t3NM"
   },
   "source": [
    "Imputing number of years employed by filling null values with 0"
   ]
  },
  {
   "cell_type": "code",
   "execution_count": 16,
   "metadata": {
    "colab": {
     "base_uri": "https://localhost:8080/"
    },
    "id": "E7Wbjv70t3NM",
    "outputId": "a3a032d5-42af-4dd6-8d51-762f30530f11"
   },
   "outputs": [
    {
     "data": {
      "text/plain": [
       "count    274672.000000\n",
       "mean          5.990862\n",
       "std           3.613771\n",
       "min           0.000000\n",
       "25%           3.000000\n",
       "50%           6.000000\n",
       "75%          10.000000\n",
       "max          10.000000\n",
       "Name: n_YearsEmployed, dtype: float64"
      ]
     },
     "execution_count": 16,
     "metadata": {},
     "output_type": "execute_result"
    }
   ],
   "source": [
    "df['n_YearsEmployed'].describe()"
   ]
  },
  {
   "cell_type": "code",
   "execution_count": 17,
   "metadata": {
    "colab": {
     "base_uri": "https://localhost:8080/"
    },
    "id": "X2QzE8imt3NN",
    "outputId": "832fd4e9-e462-4b90-d32e-3210e351fd92"
   },
   "outputs": [
    {
     "data": {
      "text/plain": [
       "count    287123.00000\n",
       "mean          5.73107\n",
       "std           3.73924\n",
       "min           0.00000\n",
       "25%           2.00000\n",
       "50%           6.00000\n",
       "75%          10.00000\n",
       "max          10.00000\n",
       "Name: n_YearsEmployed, dtype: float64"
      ]
     },
     "execution_count": 17,
     "metadata": {},
     "output_type": "execute_result"
    }
   ],
   "source": [
    "df['n_YearsEmployed'] = df['n_YearsEmployed'].fillna(0)\n",
    "df['n_YearsEmployed'].describe()"
   ]
  },
  {
   "cell_type": "markdown",
   "metadata": {
    "id": "zWBW5rXit3NO"
   },
   "source": [
    "The mean hasn't changed much so good to go."
   ]
  },
  {
   "cell_type": "markdown",
   "metadata": {
    "id": "ucwDUeqOt3NO"
   },
   "source": [
    "Converting number of Years Employed from 10 category variable to 3 category variable and splitting it into binary"
   ]
  },
  {
   "cell_type": "code",
   "execution_count": 18,
   "metadata": {
    "id": "xXdxqOzVt3NO"
   },
   "outputs": [],
   "source": [
    "df['YearsEmployed_5'] = df['n_YearsEmployed'].apply(lambda x: 1 if x <= 5 else 0)\n",
    "df['YearsEmployed_10'] = df['n_YearsEmployed'].apply(lambda x: 1 if (x > 5) & (x < 10) else 0)\n",
    "df['YearsEmployed_10plus'] = df['n_YearsEmployed'].apply(lambda x: 1 if x == 10 else 0)\n",
    "\n",
    "df = df.drop(['n_YearsEmployed'], axis=1)"
   ]
  },
  {
   "cell_type": "markdown",
   "metadata": {
    "id": "RD7AiuNgt3NP"
   },
   "source": [
    "1. For Home Ownership status, tagging 'none' and 'any' under 'other' to make it easier\n",
    "2. Any null vaues, tagging it under 'other'"
   ]
  },
  {
   "cell_type": "code",
   "execution_count": 19,
   "metadata": {
    "colab": {
     "base_uri": "https://localhost:8080/"
    },
    "id": "yrOTRuGbt3NQ",
    "outputId": "a8d37b50-4670-4ae8-cbb5-19f118d54866"
   },
   "outputs": [
    {
     "name": "stdout",
     "output_type": "stream",
     "text": [
      "Unique values in HomeOwnership = ['RENT' 'OWN' 'MORTGAGE' 'NONE' nan 'OTHER' 'ANY']\n",
      "Unique values in HomeOwnership after imputing = ['RENT' 'OWN' 'MORTGAGE' 'OTHER']\n"
     ]
    }
   ],
   "source": [
    "print(\"Unique values in HomeOwnership = \" + str(df['HomeOwnership'].unique()))\n",
    "df['HomeOwnership'] = df['HomeOwnership'].replace(['NONE', 'ANY'], 'OTHER').fillna('OTHER')\n",
    "print(\"Unique values in HomeOwnership after imputing = \" + str(df['HomeOwnership'].unique()))"
   ]
  },
  {
   "cell_type": "code",
   "execution_count": 20,
   "metadata": {
    "colab": {
     "base_uri": "https://localhost:8080/",
     "height": 296
    },
    "id": "38kdLlYmt3NR",
    "outputId": "7202ae68-1a69-4711-e133-d3c6fc4903ab"
   },
   "outputs": [
    {
     "data": {
      "text/plain": [
       "<AxesSubplot: xlabel='HomeOwnership', ylabel='count'>"
      ]
     },
     "execution_count": 20,
     "metadata": {},
     "output_type": "execute_result"
    },
    {
     "data": {
      "image/png": "[encoded data removed]",
      "text/plain": [
       "<Figure size 640x480 with 1 Axes>"
      ]
     },
     "metadata": {},
     "output_type": "display_data"
    }
   ],
   "source": [
    "sns.countplot(x='HomeOwnership', data=df)"
   ]
  },
  {
   "cell_type": "code",
   "execution_count": 21,
   "metadata": {
    "colab": {
     "base_uri": "https://localhost:8080/",
     "height": 307
    },
    "id": "Im41hBt5t3NS",
    "outputId": "c0287ce8-0a71-4eef-ff93-b8442e70c6ed"
   },
   "outputs": [
    {
     "data": {
      "text/plain": [
       "<AxesSubplot: xlabel='AnnualIncome', ylabel='Density'>"
      ]
     },
     "execution_count": 21,
     "metadata": {},
     "output_type": "execute_result"
    },
    {
     "data": {
      "image/png": "[encoded data removed]",
      "text/plain": [
       "<Figure size 640x480 with 1 Axes>"
      ]
     },
     "metadata": {},
     "output_type": "display_data"
    }
   ],
   "source": [
    "sns.distplot(df[df['AnnualIncome'].notnull()]['AnnualIncome'])"
   ]
  },
  {
   "cell_type": "code",
   "execution_count": 22,
   "metadata": {
    "colab": {
     "base_uri": "https://localhost:8080/"
    },
    "id": "xLA9zCznt3NS",
    "outputId": "3c9ff5b1-c659-44b6-d7aa-109876a8fbb8"
   },
   "outputs": [
    {
     "data": {
      "text/plain": [
       "count     243133.000000\n",
       "mean       73132.818005\n",
       "std        56603.991065\n",
       "min         3000.000000\n",
       "25%        45000.000000\n",
       "50%        62770.000000\n",
       "75%        88000.000000\n",
       "max      7500000.000000\n",
       "Name: AnnualIncome, dtype: object"
      ]
     },
     "execution_count": 22,
     "metadata": {},
     "output_type": "execute_result"
    }
   ],
   "source": [
    "df['AnnualIncome'].describe().apply(lambda x: format(x, 'f'))"
   ]
  },
  {
   "cell_type": "markdown",
   "metadata": {
    "id": "500D_jFpt3NT"
   },
   "source": [
    "1. Based on zipcode and state combination, the median annual income for each combination is used to imput null values under Annual income with same combination\n",
    "2. Dropping columns Zipcode and State"
   ]
  },
  {
   "cell_type": "code",
   "execution_count": 23,
   "metadata": {
    "colab": {
     "base_uri": "https://localhost:8080/"
    },
    "id": "QExqTXATNph8",
    "outputId": "bfc5462b-7022-48ee-c91f-c297162a7572"
   },
   "outputs": [
    {
     "data": {
      "text/plain": [
       "1    287034\n",
       "0        89\n",
       "Name: is_Employed, dtype: int64"
      ]
     },
     "execution_count": 23,
     "metadata": {},
     "output_type": "execute_result"
    }
   ],
   "source": [
    "df['is_Employed'].value_counts()"
   ]
  },
  {
   "cell_type": "code",
   "execution_count": 24,
   "metadata": {
    "colab": {
     "base_uri": "https://localhost:8080/"
    },
    "id": "o-Bk32bEt3NT",
    "outputId": "99b14a5d-9bd4-4129-d9a0-b8790f9d5330"
   },
   "outputs": [
    {
     "data": {
      "text/plain": [
       "count     287123.000000\n",
       "mean       71612.761581\n",
       "std        52311.375283\n",
       "min            0.000000\n",
       "25%        48000.000000\n",
       "50%        62020.000000\n",
       "75%        82000.000000\n",
       "max      7500000.000000\n",
       "Name: AnnualIncome, dtype: object"
      ]
     },
     "execution_count": 24,
     "metadata": {},
     "output_type": "execute_result"
    }
   ],
   "source": [
    "df['Zip-State'] = df['Zipcode_3'].str.replace('xx', '') + df['State']\n",
    "df['Zip-State']\n",
    "# Group the data by 'Zip' and 'State'\n",
    "grouped = df.groupby(['Zip-State'])\n",
    "# Compute the median value of 'Income' for each group\n",
    "median_income = grouped['AnnualIncome'].median().reset_index()\n",
    "# Use the median value to fill the missing values in 'Income'\n",
    "df = df.merge(median_income, on=['Zip-State'], how='left')\n",
    "df['AnnualIncome'] = np.where((df['AnnualIncome_x'].isna()) & (df['is_Employed'] == 1), df['AnnualIncome_y'], (np.where((df['AnnualIncome_x'].isna()) & (df['is_Employed'] == 0), 0, df['AnnualIncome_x'])))\n",
    "# df['AnnualIncome'] = np.where((df['AnnualIncome_x'].isna()) & (df['is_Employed'] == 0), 0, df['AnnualIncome_x'])\n",
    "# Drop the temporary columns 'Income_x' and 'Income_y'\n",
    "df.loc[df['AnnualIncome'].isna(),\"AnnualIncome\"] = 0\n",
    "df['Zipcode_3'] = df['Zipcode_3'].str.replace('xx', '').astype(int)\n",
    "df.drop(columns=['AnnualIncome_x', 'AnnualIncome_y', 'State', 'Zip-State'], inplace=True)\n",
    "df['AnnualIncome'].describe().apply(lambda x: format(x, 'f'))"
   ]
  },
  {
   "cell_type": "code",
   "execution_count": 25,
   "metadata": {
    "colab": {
     "base_uri": "https://localhost:8080/",
     "height": 314
    },
    "id": "f4TLs1dHt3NU",
    "outputId": "a9c6d46b-76ec-4ba3-b844-3b0dcfbecaf1"
   },
   "outputs": [
    {
     "name": "stdout",
     "output_type": "stream",
     "text": [
      "['VERIFIED - income' 'not verified' 'VERIFIED - income source']\n"
     ]
    },
    {
     "data": {
      "text/plain": [
       "<AxesSubplot: xlabel='IncomeCheck', ylabel='count'>"
      ]
     },
     "execution_count": 25,
     "metadata": {},
     "output_type": "execute_result"
    },
    {
     "data": {
      "image/png": "[encoded data removed]",
      "text/plain": [
       "<Figure size 640x480 with 1 Axes>"
      ]
     },
     "metadata": {},
     "output_type": "display_data"
    }
   ],
   "source": [
    "print(df['IncomeCheck'].unique())\n",
    "sns.countplot(x = 'IncomeCheck', data = df)"
   ]
  },
  {
   "cell_type": "markdown",
   "metadata": {
    "id": "Fewf0_6xt3NU"
   },
   "source": [
    "As 'VERIFIED - income' and 'VERIFIED - income source' means 'VERIFIED', categorized them as same converted Income check status to a two categorical binary variable"
   ]
  },
  {
   "cell_type": "code",
   "execution_count": 26,
   "metadata": {
    "colab": {
     "base_uri": "https://localhost:8080/",
     "height": 296
    },
    "id": "mAOCLgvyt3NU",
    "outputId": "4dcf3c14-d72e-4d95-b7c5-825cf2e398d9"
   },
   "outputs": [
    {
     "data": {
      "text/plain": [
       "<AxesSubplot: xlabel='IncomeCheck', ylabel='count'>"
      ]
     },
     "execution_count": 26,
     "metadata": {},
     "output_type": "execute_result"
    },
    {
     "data": {
      "image/png": "[encoded data removed]",
      "text/plain": [
       "<Figure size 640x480 with 1 Axes>"
      ]
     },
     "metadata": {},
     "output_type": "display_data"
    }
   ],
   "source": [
    "df['IncomeCheck'] = df['IncomeCheck'].apply(lambda x: 1 if x in ['VERIFIED - income', 'VERIFIED - income source'] else 0)\n",
    "sns.countplot(x = 'IncomeCheck', data = df)"
   ]
  },
  {
   "cell_type": "code",
   "execution_count": 27,
   "metadata": {
    "colab": {
     "base_uri": "https://localhost:8080/",
     "height": 391
    },
    "id": "wrNR_UN0t3NV",
    "outputId": "db272fa2-24dd-4ba5-d2d3-71264d8db685"
   },
   "outputs": [
    {
     "data": {
      "text/plain": [
       "<seaborn.axisgrid.PairGrid at 0x242cf060a10>"
      ]
     },
     "execution_count": 27,
     "metadata": {},
     "output_type": "execute_result"
    },
    {
     "data": {
      "image/png": "[encoded data removed]",
      "text/plain": [
       "<Figure size 500x500 with 1 Axes>"
      ]
     },
     "metadata": {},
     "output_type": "display_data"
    }
   ],
   "source": [
    "i = df.copy(deep=True)\n",
    "i['InterestRate'] = i['InterestRate']\n",
    "h = sns.PairGrid(data=i, x_vars=['IncomeCheck'], y_vars='InterestRate', height=5)\n",
    "h.map(sns.pointplot, color=\"red\")\n",
    "h.set(ylim=(0, 1))"
   ]
  },
  {
   "cell_type": "code",
   "execution_count": 28,
   "metadata": {
    "colab": {
     "base_uri": "https://localhost:8080/",
     "height": 743
    },
    "id": "MJn0YcXBt3NV",
    "outputId": "8f6eafd6-74b6-4bbe-f3ed-b675ee505498"
   },
   "outputs": [
    {
     "data": {
      "text/plain": [
       "<seaborn.axisgrid.PairGrid at 0x242cf02a0d0>"
      ]
     },
     "execution_count": 28,
     "metadata": {},
     "output_type": "execute_result"
    },
    {
     "data": {
      "image/png": "[encoded data removed]",
      "text/plain": [
       "<Figure size 1000x1000 with 1 Axes>"
      ]
     },
     "metadata": {},
     "output_type": "display_data"
    }
   ],
   "source": [
    "i = df.copy(deep=True)\n",
    "i['InterestRate'] = i['InterestRate']\n",
    "h = sns.PairGrid(data=i, x_vars=['IssueDate_Year'], y_vars='InterestRate', height=10)\n",
    "h.map(sns.pointplot, color=\"red\")\n",
    "h.set(ylim=(0, 1))"
   ]
  },
  {
   "cell_type": "code",
   "execution_count": 29,
   "metadata": {
    "colab": {
     "base_uri": "https://localhost:8080/",
     "height": 743
    },
    "id": "EUmmbOhxt3NW",
    "outputId": "54163282-2f23-4e3f-8382-51999a7179e6"
   },
   "outputs": [
    {
     "data": {
      "text/plain": [
       "<seaborn.axisgrid.PairGrid at 0x242c7f5b190>"
      ]
     },
     "execution_count": 29,
     "metadata": {},
     "output_type": "execute_result"
    },
    {
     "data": {
      "image/png": "[encoded data removed]",
      "text/plain": [
       "<Figure size 1000x1000 with 1 Axes>"
      ]
     },
     "metadata": {},
     "output_type": "display_data"
    }
   ],
   "source": [
    "h = sns.PairGrid(data=i, x_vars=['DateCreditLine'], y_vars='InterestRate', height=10)\n",
    "h.map(sns.pointplot, color=\"red\")\n",
    "h.set(ylim=(0, 1))"
   ]
  },
  {
   "cell_type": "code",
   "execution_count": 30,
   "metadata": {
    "colab": {
     "base_uri": "https://localhost:8080/"
    },
    "id": "yBMsZRHYt3NW",
    "outputId": "9eabf7ba-9949-4e41-dcab-513329c71ed9"
   },
   "outputs": [
    {
     "data": {
      "text/plain": [
       "array(['debt_consolidation', 'credit_card', 'car', 'home_improvement',\n",
       "       'small_business', 'major_purchase', 'other', 'house', 'vacation',\n",
       "       'educational', 'moving', 'wedding', 'medical', 'renewable_energy'],\n",
       "      dtype=object)"
      ]
     },
     "execution_count": 30,
     "metadata": {},
     "output_type": "execute_result"
    }
   ],
   "source": [
    "df['LoanCategory'].unique()"
   ]
  },
  {
   "cell_type": "markdown",
   "metadata": {
    "id": "b_HLmuYBt3NW"
   },
   "source": [
    "Mapping all categories and Loan Title to a 3 category column"
   ]
  },
  {
   "cell_type": "code",
   "execution_count": 31,
   "metadata": {
    "colab": {
     "base_uri": "https://localhost:8080/"
    },
    "id": "OjZeKMqzt3NX",
    "outputId": "90e5785f-12b4-4ff6-c2ea-74b2eb2ee502"
   },
   "outputs": [
    {
     "data": {
      "text/plain": [
       "array(['Debt Consolidation', 'Credit Card', 'Home Improvement',\n",
       "       'Major Purchase', 'Other'], dtype=object)"
      ]
     },
     "execution_count": 31,
     "metadata": {},
     "output_type": "execute_result"
    }
   ],
   "source": [
    "loan_category_map = {\n",
    "    'debt_consolidation': 'Debt Consolidation',\n",
    "    'credit_card': 'Credit Card',\n",
    "    'car': 'Debt Consolidation',\n",
    "    'home_improvement': 'Home Improvement',\n",
    "    'small_business': 'Major Purchase',\n",
    "    'major_purchase': 'Major Purchase',\n",
    "    'other': 'Other',\n",
    "    'house': 'Home Improvement',\n",
    "    'vacation': 'Home Improvement',\n",
    "    'educational': 'Major Purchase',\n",
    "    'moving': 'Home Improvement',\n",
    "    'wedding': 'Home Improvement',\n",
    "    'medical': 'Debt Consolidation',\n",
    "    'renewable_energy': 'Home Improvement'\n",
    "}\n",
    "\n",
    "df = df.assign(LoanCategory=df['LoanCategory'].str.extract(f\"({'|'.join(loan_category_map.keys())})\", expand=False)\n",
    "             .map(loan_category_map))\n",
    "# df['LoanCategory'] = df['LoanCategory'].map(loan_category_map)\n",
    "df['LoanCategory'].unique()"
   ]
  },
  {
   "cell_type": "markdown",
   "metadata": {
    "id": "xHmslE8bt3NX"
   },
   "source": [
    "Keeping n_Incidences, n_Inquiries, n_OpenCreditLines, n_DerogatoryRecords, n_CreditLines numerical"
   ]
  },
  {
   "cell_type": "code",
   "execution_count": 32,
   "metadata": {
    "colab": {
     "base_uri": "https://localhost:8080/",
     "height": 743
    },
    "id": "S0brUgCPt3NX",
    "outputId": "6911c26e-2333-438c-b593-b4a1dfd6ced1"
   },
   "outputs": [
    {
     "data": {
      "text/plain": [
       "<seaborn.axisgrid.PairGrid at 0x242d1c4fcd0>"
      ]
     },
     "execution_count": 32,
     "metadata": {},
     "output_type": "execute_result"
    },
    {
     "data": {
      "image/png": "[encoded data removed]",
      "text/plain": [
       "<Figure size 1000x1000 with 1 Axes>"
      ]
     },
     "metadata": {},
     "output_type": "display_data"
    }
   ],
   "source": [
    "i = df.copy(deep=True)\n",
    "i['InterestRate'] = i['InterestRate']\n",
    "h = sns.PairGrid(data=i, x_vars=['n_Incidences'], y_vars='InterestRate', height=10)\n",
    "h.map(sns.pointplot, color=\"red\")\n",
    "h.set(ylim=(0, 1))"
   ]
  },
  {
   "cell_type": "code",
   "execution_count": 33,
   "metadata": {
    "colab": {
     "base_uri": "https://localhost:8080/",
     "height": 409
    },
    "id": "uDg8jFaFt3NY",
    "outputId": "26c91be6-f362-43d7-ad4c-e55ae815ae35"
   },
   "outputs": [
    {
     "name": "stdout",
     "output_type": "stream",
     "text": [
      "[0. 1. 2. 3. 4. 5. 6. 8. 7.]\n"
     ]
    },
    {
     "data": {
      "text/plain": [
       "<seaborn.axisgrid.PairGrid at 0x242c835fc10>"
      ]
     },
     "execution_count": 33,
     "metadata": {},
     "output_type": "execute_result"
    },
    {
     "data": {
      "image/png": "[encoded data removed]",
      "text/plain": [
       "<Figure size 500x500 with 1 Axes>"
      ]
     },
     "metadata": {},
     "output_type": "display_data"
    }
   ],
   "source": [
    "print(df['n_Inquiries'].unique())\n",
    "i = df.copy(deep=True)\n",
    "i['InterestRate'] = i['InterestRate']\n",
    "h = sns.PairGrid(data=i, x_vars=['n_Inquiries'], y_vars='InterestRate', height=5)\n",
    "h.map(sns.pointplot, color=\"red\")\n",
    "h.set(ylim=(0, 1))"
   ]
  },
  {
   "cell_type": "code",
   "execution_count": 34,
   "metadata": {
    "colab": {
     "base_uri": "https://localhost:8080/",
     "height": 743
    },
    "id": "lUelgT2Ut3NY",
    "outputId": "49635ce2-c781-44f5-f137-0b74b058bf60"
   },
   "outputs": [
    {
     "data": {
      "text/plain": [
       "<seaborn.axisgrid.PairGrid at 0x242b986d9d0>"
      ]
     },
     "execution_count": 34,
     "metadata": {},
     "output_type": "execute_result"
    },
    {
     "data": {
      "image/png": "[encoded data removed]",
      "text/plain": [
       "<Figure size 1000x1000 with 1 Axes>"
      ]
     },
     "metadata": {},
     "output_type": "display_data"
    }
   ],
   "source": [
    "i = df.copy(deep=True)\n",
    "i['InterestRate'] = i['InterestRate']\n",
    "h = sns.PairGrid(data=i, x_vars=['n_OpenCreditLines'], y_vars='InterestRate', height=10)\n",
    "h.map(sns.pointplot, color=\"red\")\n",
    "h.set(ylim=(0, 1))"
   ]
  },
  {
   "cell_type": "code",
   "execution_count": 35,
   "metadata": {
    "colab": {
     "base_uri": "https://localhost:8080/",
     "height": 778
    },
    "id": "LA_2xQlut3NY",
    "outputId": "1926a5e5-2d76-45dd-d304-2be9f41fe289"
   },
   "outputs": [
    {
     "name": "stdout",
     "output_type": "stream",
     "text": [
      "[ 0.  1.  2.  3.  4.  5.  6.  8.  7. 54. 10. 11. 49.  9. 17. 13. 34. 21.\n",
      " 63. 40. 18. 14.]\n"
     ]
    },
    {
     "data": {
      "text/plain": [
       "<seaborn.axisgrid.PairGrid at 0x242c82a1350>"
      ]
     },
     "execution_count": 35,
     "metadata": {},
     "output_type": "execute_result"
    },
    {
     "data": {
      "image/png": "[encoded data removed]",
      "text/plain": [
       "<Figure size 1000x1000 with 1 Axes>"
      ]
     },
     "metadata": {},
     "output_type": "display_data"
    }
   ],
   "source": [
    "print(df['n_DerogatoryRecords'].unique())\n",
    "\n",
    "i = df.copy(deep=True)\n",
    "i['InterestRate'] = i['InterestRate']\n",
    "\n",
    "h = sns.PairGrid(data=i, x_vars=['n_DerogatoryRecords'], y_vars='InterestRate', height=10)\n",
    "h.map(sns.pointplot, color=\"red\")\n",
    "h.set(ylim=(0, 1))"
   ]
  },
  {
   "cell_type": "code",
   "execution_count": 36,
   "metadata": {
    "colab": {
     "base_uri": "https://localhost:8080/",
     "height": 296
    },
    "id": "91W6iJPVt3NZ",
    "outputId": "bae4c927-7727-41c5-a6a5-5f475332774f"
   },
   "outputs": [
    {
     "data": {
      "text/plain": [
       "<AxesSubplot: xlabel='UtilizationRate', ylabel='Density'>"
      ]
     },
     "execution_count": 36,
     "metadata": {},
     "output_type": "execute_result"
    },
    {
     "data": {
      "image/png": "[encoded data removed]",
      "text/plain": [
       "<Figure size 640x480 with 1 Axes>"
      ]
     },
     "metadata": {},
     "output_type": "display_data"
    }
   ],
   "source": [
    "sns.distplot(df[df['UtilizationRate'].notnull()]['UtilizationRate'])"
   ]
  },
  {
   "cell_type": "code",
   "execution_count": 37,
   "metadata": {
    "colab": {
     "base_uri": "https://localhost:8080/"
    },
    "id": "u4Ara4sut3NZ",
    "outputId": "5f489eac-8688-4922-ade6-89990b38b87d"
   },
   "outputs": [
    {
     "data": {
      "text/plain": [
       "count    286945.000000\n",
       "mean          0.563176\n",
       "std           0.237715\n",
       "min           0.000000\n",
       "25%           0.395000\n",
       "50%           0.579000\n",
       "75%           0.749000\n",
       "max           8.923000\n",
       "Name: UtilizationRate, dtype: float64"
      ]
     },
     "execution_count": 37,
     "metadata": {},
     "output_type": "execute_result"
    }
   ],
   "source": [
    "df['UtilizationRate'].describe()"
   ]
  },
  {
   "cell_type": "markdown",
   "metadata": {
    "id": "T7z8yIvyt3NZ"
   },
   "source": [
    "Dropping null rows based on Utilization Rates as it is only 178 rows"
   ]
  },
  {
   "cell_type": "code",
   "execution_count": 38,
   "metadata": {
    "colab": {
     "base_uri": "https://localhost:8080/"
    },
    "id": "egujT3nLt3Na",
    "outputId": "974464ad-2d4a-476a-8a45-e1bfbe3e48dd"
   },
   "outputs": [
    {
     "name": "stdout",
     "output_type": "stream",
     "text": [
      "Dropping 178 row(s) which have no Utilization Rate \n",
      "\n"
     ]
    }
   ],
   "source": [
    "x = df.shape[0]\n",
    "df = df.dropna(subset=['UtilizationRate'])\n",
    "print(\"Dropping \" + str(x - df.shape[0]) + \" row(s) which have no Utilization Rate \\n\")"
   ]
  },
  {
   "cell_type": "code",
   "execution_count": 39,
   "metadata": {
    "colab": {
     "base_uri": "https://localhost:8080/",
     "height": 743
    },
    "id": "suG8Cruct3Na",
    "outputId": "dfc3d0ad-1604-47e9-e78b-13cd075a7b6d"
   },
   "outputs": [
    {
     "data": {
      "text/plain": [
       "<seaborn.axisgrid.PairGrid at 0x242cf068f90>"
      ]
     },
     "execution_count": 39,
     "metadata": {},
     "output_type": "execute_result"
    },
    {
     "data": {
      "image/png": "[encoded data removed]",
      "text/plain": [
       "<Figure size 1000x1000 with 1 Axes>"
      ]
     },
     "metadata": {},
     "output_type": "display_data"
    }
   ],
   "source": [
    "i = df.copy(deep=True)\n",
    "i['InterestRate'] = i['InterestRate']\n",
    "\n",
    "h = sns.PairGrid(data=i, x_vars=['n_CreditLines'], y_vars='InterestRate', height=10)\n",
    "h.map(sns.pointplot, color=\"red\")\n",
    "h.set(ylim=(0, 1))"
   ]
  },
  {
   "cell_type": "code",
   "execution_count": 40,
   "metadata": {
    "colab": {
     "base_uri": "https://localhost:8080/",
     "height": 743
    },
    "id": "TDbMyqJEt3Na",
    "outputId": "6b5603b1-3b51-4610-c37e-47097ddebe2c"
   },
   "outputs": [
    {
     "data": {
      "text/plain": [
       "<seaborn.axisgrid.PairGrid at 0x24280b9bc10>"
      ]
     },
     "execution_count": 40,
     "metadata": {},
     "output_type": "execute_result"
    },
    {
     "data": {
      "image/png": "[encoded data removed]",
      "text/plain": [
       "<Figure size 1000x1000 with 1 Axes>"
      ]
     },
     "metadata": {},
     "output_type": "display_data"
    }
   ],
   "source": [
    "i = df.copy(deep=True)\n",
    "i['InterestRate'] = i['InterestRate']\n",
    "\n",
    "h = sns.PairGrid(data=i, x_vars=['ListingStatus'], y_vars='InterestRate', height=10)\n",
    "h.map(sns.pointplot, color=\"red\")\n",
    "h.set(ylim=(0, 1))"
   ]
  },
  {
   "cell_type": "code",
   "execution_count": 41,
   "metadata": {
    "id": "Pw7onGgSLttE"
   },
   "outputs": [],
   "source": [
    "# df = df.drop(['IssueDate_Month', 'IssueDate_Year', 'DateCreditLine'], axis = 1)"
   ]
  },
  {
   "cell_type": "code",
   "execution_count": 42,
   "metadata": {
    "colab": {
     "base_uri": "https://localhost:8080/"
    },
    "id": "dwTggpaEt3Na",
    "outputId": "cd68e344-295b-4841-f94b-1d72274005a6"
   },
   "outputs": [
    {
     "name": "stdout",
     "output_type": "stream",
     "text": [
      "<class 'pandas.core.frame.DataFrame'>\n",
      "Int64Index: 286945 entries, 0 to 287122\n",
      "Data columns (total 28 columns):\n",
      " #   Column                  Non-Null Count   Dtype  \n",
      "---  ------                  --------------   -----  \n",
      " 0   InterestRate            286945 non-null  float64\n",
      " 1   RequestedAmount         286945 non-null  float64\n",
      " 2   FundedAmount            286945 non-null  float64\n",
      " 3   InvestorFundedPortion   286945 non-null  float64\n",
      " 4   LoanSubgrade            286945 non-null  object \n",
      " 5   HomeOwnership           286945 non-null  object \n",
      " 6   IncomeCheck             286945 non-null  int64  \n",
      " 7   LoanCategory            286945 non-null  object \n",
      " 8   Zipcode_3               286945 non-null  int32  \n",
      " 9   Ratio                   286945 non-null  float64\n",
      " 10  n_Incidences            286945 non-null  float64\n",
      " 11  DateCreditLine          286945 non-null  int64  \n",
      " 12  n_Inquiries             286945 non-null  float64\n",
      " 13  n_OpenCreditLines       286945 non-null  float64\n",
      " 14  n_DerogatoryRecords     286945 non-null  float64\n",
      " 15  CreditRevolvingBalance  286945 non-null  float64\n",
      " 16  UtilizationRate         286945 non-null  float64\n",
      " 17  n_CreditLines           286945 non-null  float64\n",
      " 18  ListingStatus           286945 non-null  object \n",
      " 19  IssueDate_Month         286945 non-null  int64  \n",
      " 20  IssueDate_Year          286945 non-null  int64  \n",
      " 21  is_36                   286945 non-null  int64  \n",
      " 22  is_60                   286945 non-null  int64  \n",
      " 23  is_Employed             286945 non-null  int64  \n",
      " 24  YearsEmployed_5         286945 non-null  int64  \n",
      " 25  YearsEmployed_10        286945 non-null  int64  \n",
      " 26  YearsEmployed_10plus    286945 non-null  int64  \n",
      " 27  AnnualIncome            286945 non-null  float64\n",
      "dtypes: float64(13), int32(1), int64(10), object(4)\n",
      "memory usage: 62.4+ MB\n"
     ]
    }
   ],
   "source": [
    "df.info()"
   ]
  },
  {
   "cell_type": "markdown",
   "metadata": {
    "id": "i85gFlmrt3Nb"
   },
   "source": [
    "<b>Convert categorical variables to dummies where necessary"
   ]
  },
  {
   "cell_type": "code",
   "execution_count": 43,
   "metadata": {
    "colab": {
     "base_uri": "https://localhost:8080/",
     "height": 1000
    },
    "id": "OGq9CpK6t3Nb",
    "outputId": "504afe7e-69e9-47ac-bf6e-5e85b00c326a"
   },
   "outputs": [
    {
     "data": {
      "text/html": [
       "<div>\n",
       "<style scoped>\n",
       "    .dataframe tbody tr th:only-of-type {\n",
       "        vertical-align: middle;\n",
       "    }\n",
       "\n",
       "    .dataframe tbody tr th {\n",
       "        vertical-align: top;\n",
       "    }\n",
       "\n",
       "    .dataframe thead th {\n",
       "        text-align: right;\n",
       "    }\n",
       "</style>\n",
       "<table border=\"1\" class=\"dataframe\">\n",
       "  <thead>\n",
       "    <tr style=\"text-align: right;\">\n",
       "      <th></th>\n",
       "      <th>0</th>\n",
       "      <th>1</th>\n",
       "      <th>2</th>\n",
       "      <th>3</th>\n",
       "      <th>4</th>\n",
       "    </tr>\n",
       "  </thead>\n",
       "  <tbody>\n",
       "    <tr>\n",
       "      <th>InterestRate</th>\n",
       "      <td>0.1189</td>\n",
       "      <td>0.1071</td>\n",
       "      <td>0.1699</td>\n",
       "      <td>0.1311</td>\n",
       "      <td>0.1357</td>\n",
       "    </tr>\n",
       "    <tr>\n",
       "      <th>RequestedAmount</th>\n",
       "      <td>25000.0000</td>\n",
       "      <td>7000.0000</td>\n",
       "      <td>25000.0000</td>\n",
       "      <td>1200.0000</td>\n",
       "      <td>10800.0000</td>\n",
       "    </tr>\n",
       "    <tr>\n",
       "      <th>FundedAmount</th>\n",
       "      <td>25000.0000</td>\n",
       "      <td>7000.0000</td>\n",
       "      <td>25000.0000</td>\n",
       "      <td>1200.0000</td>\n",
       "      <td>10800.0000</td>\n",
       "    </tr>\n",
       "    <tr>\n",
       "      <th>InvestorFundedPortion</th>\n",
       "      <td>19080.0000</td>\n",
       "      <td>673.0000</td>\n",
       "      <td>24725.0000</td>\n",
       "      <td>1200.0000</td>\n",
       "      <td>10692.0000</td>\n",
       "    </tr>\n",
       "    <tr>\n",
       "      <th>IncomeCheck</th>\n",
       "      <td>1.0000</td>\n",
       "      <td>0.0000</td>\n",
       "      <td>1.0000</td>\n",
       "      <td>0.0000</td>\n",
       "      <td>0.0000</td>\n",
       "    </tr>\n",
       "    <tr>\n",
       "      <th>Zipcode_3</th>\n",
       "      <td>941.0000</td>\n",
       "      <td>112.0000</td>\n",
       "      <td>100.0000</td>\n",
       "      <td>777.0000</td>\n",
       "      <td>67.0000</td>\n",
       "    </tr>\n",
       "    <tr>\n",
       "      <th>Ratio</th>\n",
       "      <td>19.4800</td>\n",
       "      <td>14.2900</td>\n",
       "      <td>10.5000</td>\n",
       "      <td>5.4700</td>\n",
       "      <td>11.6300</td>\n",
       "    </tr>\n",
       "    <tr>\n",
       "      <th>n_Incidences</th>\n",
       "      <td>0.0000</td>\n",
       "      <td>0.0000</td>\n",
       "      <td>0.0000</td>\n",
       "      <td>0.0000</td>\n",
       "      <td>0.0000</td>\n",
       "    </tr>\n",
       "    <tr>\n",
       "      <th>DateCreditLine</th>\n",
       "      <td>29.0000</td>\n",
       "      <td>23.0000</td>\n",
       "      <td>23.0000</td>\n",
       "      <td>38.0000</td>\n",
       "      <td>27.0000</td>\n",
       "    </tr>\n",
       "    <tr>\n",
       "      <th>n_Inquiries</th>\n",
       "      <td>0.0000</td>\n",
       "      <td>0.0000</td>\n",
       "      <td>0.0000</td>\n",
       "      <td>0.0000</td>\n",
       "      <td>1.0000</td>\n",
       "    </tr>\n",
       "    <tr>\n",
       "      <th>n_OpenCreditLines</th>\n",
       "      <td>10.0000</td>\n",
       "      <td>7.0000</td>\n",
       "      <td>10.0000</td>\n",
       "      <td>5.0000</td>\n",
       "      <td>14.0000</td>\n",
       "    </tr>\n",
       "    <tr>\n",
       "      <th>n_DerogatoryRecords</th>\n",
       "      <td>0.0000</td>\n",
       "      <td>0.0000</td>\n",
       "      <td>0.0000</td>\n",
       "      <td>0.0000</td>\n",
       "      <td>0.0000</td>\n",
       "    </tr>\n",
       "    <tr>\n",
       "      <th>CreditRevolvingBalance</th>\n",
       "      <td>28854.0000</td>\n",
       "      <td>33623.0000</td>\n",
       "      <td>19878.0000</td>\n",
       "      <td>2584.0000</td>\n",
       "      <td>3511.0000</td>\n",
       "    </tr>\n",
       "    <tr>\n",
       "      <th>UtilizationRate</th>\n",
       "      <td>0.5210</td>\n",
       "      <td>0.7670</td>\n",
       "      <td>0.6630</td>\n",
       "      <td>0.4040</td>\n",
       "      <td>0.2560</td>\n",
       "    </tr>\n",
       "    <tr>\n",
       "      <th>n_CreditLines</th>\n",
       "      <td>42.0000</td>\n",
       "      <td>7.0000</td>\n",
       "      <td>17.0000</td>\n",
       "      <td>31.0000</td>\n",
       "      <td>40.0000</td>\n",
       "    </tr>\n",
       "    <tr>\n",
       "      <th>IssueDate_Month</th>\n",
       "      <td>8.0000</td>\n",
       "      <td>5.0000</td>\n",
       "      <td>8.0000</td>\n",
       "      <td>3.0000</td>\n",
       "      <td>11.0000</td>\n",
       "    </tr>\n",
       "    <tr>\n",
       "      <th>IssueDate_Year</th>\n",
       "      <td>2009.0000</td>\n",
       "      <td>2008.0000</td>\n",
       "      <td>2014.0000</td>\n",
       "      <td>2010.0000</td>\n",
       "      <td>2009.0000</td>\n",
       "    </tr>\n",
       "    <tr>\n",
       "      <th>is_36</th>\n",
       "      <td>1.0000</td>\n",
       "      <td>1.0000</td>\n",
       "      <td>1.0000</td>\n",
       "      <td>1.0000</td>\n",
       "      <td>1.0000</td>\n",
       "    </tr>\n",
       "    <tr>\n",
       "      <th>is_60</th>\n",
       "      <td>0.0000</td>\n",
       "      <td>0.0000</td>\n",
       "      <td>0.0000</td>\n",
       "      <td>0.0000</td>\n",
       "      <td>0.0000</td>\n",
       "    </tr>\n",
       "    <tr>\n",
       "      <th>is_Employed</th>\n",
       "      <td>1.0000</td>\n",
       "      <td>1.0000</td>\n",
       "      <td>1.0000</td>\n",
       "      <td>1.0000</td>\n",
       "      <td>1.0000</td>\n",
       "    </tr>\n",
       "    <tr>\n",
       "      <th>YearsEmployed_5</th>\n",
       "      <td>1.0000</td>\n",
       "      <td>1.0000</td>\n",
       "      <td>1.0000</td>\n",
       "      <td>0.0000</td>\n",
       "      <td>0.0000</td>\n",
       "    </tr>\n",
       "    <tr>\n",
       "      <th>YearsEmployed_10</th>\n",
       "      <td>0.0000</td>\n",
       "      <td>0.0000</td>\n",
       "      <td>0.0000</td>\n",
       "      <td>0.0000</td>\n",
       "      <td>1.0000</td>\n",
       "    </tr>\n",
       "    <tr>\n",
       "      <th>YearsEmployed_10plus</th>\n",
       "      <td>0.0000</td>\n",
       "      <td>0.0000</td>\n",
       "      <td>0.0000</td>\n",
       "      <td>1.0000</td>\n",
       "      <td>0.0000</td>\n",
       "    </tr>\n",
       "    <tr>\n",
       "      <th>AnnualIncome</th>\n",
       "      <td>85000.0000</td>\n",
       "      <td>65000.0000</td>\n",
       "      <td>70000.0000</td>\n",
       "      <td>54000.0000</td>\n",
       "      <td>32000.0000</td>\n",
       "    </tr>\n",
       "    <tr>\n",
       "      <th>is_A1</th>\n",
       "      <td>0.0000</td>\n",
       "      <td>0.0000</td>\n",
       "      <td>0.0000</td>\n",
       "      <td>0.0000</td>\n",
       "      <td>0.0000</td>\n",
       "    </tr>\n",
       "    <tr>\n",
       "      <th>is_A2</th>\n",
       "      <td>0.0000</td>\n",
       "      <td>0.0000</td>\n",
       "      <td>0.0000</td>\n",
       "      <td>0.0000</td>\n",
       "      <td>0.0000</td>\n",
       "    </tr>\n",
       "    <tr>\n",
       "      <th>is_A3</th>\n",
       "      <td>0.0000</td>\n",
       "      <td>0.0000</td>\n",
       "      <td>0.0000</td>\n",
       "      <td>0.0000</td>\n",
       "      <td>0.0000</td>\n",
       "    </tr>\n",
       "    <tr>\n",
       "      <th>is_A4</th>\n",
       "      <td>0.0000</td>\n",
       "      <td>0.0000</td>\n",
       "      <td>0.0000</td>\n",
       "      <td>0.0000</td>\n",
       "      <td>0.0000</td>\n",
       "    </tr>\n",
       "    <tr>\n",
       "      <th>is_A5</th>\n",
       "      <td>0.0000</td>\n",
       "      <td>0.0000</td>\n",
       "      <td>0.0000</td>\n",
       "      <td>0.0000</td>\n",
       "      <td>0.0000</td>\n",
       "    </tr>\n",
       "    <tr>\n",
       "      <th>is_B1</th>\n",
       "      <td>0.0000</td>\n",
       "      <td>0.0000</td>\n",
       "      <td>0.0000</td>\n",
       "      <td>0.0000</td>\n",
       "      <td>0.0000</td>\n",
       "    </tr>\n",
       "    <tr>\n",
       "      <th>is_B2</th>\n",
       "      <td>0.0000</td>\n",
       "      <td>0.0000</td>\n",
       "      <td>0.0000</td>\n",
       "      <td>0.0000</td>\n",
       "      <td>0.0000</td>\n",
       "    </tr>\n",
       "    <tr>\n",
       "      <th>is_B3</th>\n",
       "      <td>0.0000</td>\n",
       "      <td>0.0000</td>\n",
       "      <td>0.0000</td>\n",
       "      <td>0.0000</td>\n",
       "      <td>0.0000</td>\n",
       "    </tr>\n",
       "    <tr>\n",
       "      <th>is_B4</th>\n",
       "      <td>1.0000</td>\n",
       "      <td>0.0000</td>\n",
       "      <td>0.0000</td>\n",
       "      <td>0.0000</td>\n",
       "      <td>0.0000</td>\n",
       "    </tr>\n",
       "    <tr>\n",
       "      <th>is_B5</th>\n",
       "      <td>0.0000</td>\n",
       "      <td>1.0000</td>\n",
       "      <td>0.0000</td>\n",
       "      <td>0.0000</td>\n",
       "      <td>0.0000</td>\n",
       "    </tr>\n",
       "    <tr>\n",
       "      <th>is_C1</th>\n",
       "      <td>0.0000</td>\n",
       "      <td>0.0000</td>\n",
       "      <td>0.0000</td>\n",
       "      <td>0.0000</td>\n",
       "      <td>0.0000</td>\n",
       "    </tr>\n",
       "    <tr>\n",
       "      <th>is_C2</th>\n",
       "      <td>0.0000</td>\n",
       "      <td>0.0000</td>\n",
       "      <td>0.0000</td>\n",
       "      <td>1.0000</td>\n",
       "      <td>0.0000</td>\n",
       "    </tr>\n",
       "    <tr>\n",
       "      <th>is_C3</th>\n",
       "      <td>0.0000</td>\n",
       "      <td>0.0000</td>\n",
       "      <td>0.0000</td>\n",
       "      <td>0.0000</td>\n",
       "      <td>1.0000</td>\n",
       "    </tr>\n",
       "    <tr>\n",
       "      <th>is_C4</th>\n",
       "      <td>0.0000</td>\n",
       "      <td>0.0000</td>\n",
       "      <td>0.0000</td>\n",
       "      <td>0.0000</td>\n",
       "      <td>0.0000</td>\n",
       "    </tr>\n",
       "    <tr>\n",
       "      <th>is_C5</th>\n",
       "      <td>0.0000</td>\n",
       "      <td>0.0000</td>\n",
       "      <td>0.0000</td>\n",
       "      <td>0.0000</td>\n",
       "      <td>0.0000</td>\n",
       "    </tr>\n",
       "    <tr>\n",
       "      <th>is_D1</th>\n",
       "      <td>0.0000</td>\n",
       "      <td>0.0000</td>\n",
       "      <td>0.0000</td>\n",
       "      <td>0.0000</td>\n",
       "      <td>0.0000</td>\n",
       "    </tr>\n",
       "    <tr>\n",
       "      <th>is_D2</th>\n",
       "      <td>0.0000</td>\n",
       "      <td>0.0000</td>\n",
       "      <td>0.0000</td>\n",
       "      <td>0.0000</td>\n",
       "      <td>0.0000</td>\n",
       "    </tr>\n",
       "    <tr>\n",
       "      <th>is_D3</th>\n",
       "      <td>0.0000</td>\n",
       "      <td>0.0000</td>\n",
       "      <td>1.0000</td>\n",
       "      <td>0.0000</td>\n",
       "      <td>0.0000</td>\n",
       "    </tr>\n",
       "    <tr>\n",
       "      <th>is_D4</th>\n",
       "      <td>0.0000</td>\n",
       "      <td>0.0000</td>\n",
       "      <td>0.0000</td>\n",
       "      <td>0.0000</td>\n",
       "      <td>0.0000</td>\n",
       "    </tr>\n",
       "    <tr>\n",
       "      <th>is_D5</th>\n",
       "      <td>0.0000</td>\n",
       "      <td>0.0000</td>\n",
       "      <td>0.0000</td>\n",
       "      <td>0.0000</td>\n",
       "      <td>0.0000</td>\n",
       "    </tr>\n",
       "    <tr>\n",
       "      <th>is_E1</th>\n",
       "      <td>0.0000</td>\n",
       "      <td>0.0000</td>\n",
       "      <td>0.0000</td>\n",
       "      <td>0.0000</td>\n",
       "      <td>0.0000</td>\n",
       "    </tr>\n",
       "    <tr>\n",
       "      <th>is_E2</th>\n",
       "      <td>0.0000</td>\n",
       "      <td>0.0000</td>\n",
       "      <td>0.0000</td>\n",
       "      <td>0.0000</td>\n",
       "      <td>0.0000</td>\n",
       "    </tr>\n",
       "    <tr>\n",
       "      <th>is_E3</th>\n",
       "      <td>0.0000</td>\n",
       "      <td>0.0000</td>\n",
       "      <td>0.0000</td>\n",
       "      <td>0.0000</td>\n",
       "      <td>0.0000</td>\n",
       "    </tr>\n",
       "    <tr>\n",
       "      <th>is_E4</th>\n",
       "      <td>0.0000</td>\n",
       "      <td>0.0000</td>\n",
       "      <td>0.0000</td>\n",
       "      <td>0.0000</td>\n",
       "      <td>0.0000</td>\n",
       "    </tr>\n",
       "    <tr>\n",
       "      <th>is_E5</th>\n",
       "      <td>0.0000</td>\n",
       "      <td>0.0000</td>\n",
       "      <td>0.0000</td>\n",
       "      <td>0.0000</td>\n",
       "      <td>0.0000</td>\n",
       "    </tr>\n",
       "    <tr>\n",
       "      <th>is_F1</th>\n",
       "      <td>0.0000</td>\n",
       "      <td>0.0000</td>\n",
       "      <td>0.0000</td>\n",
       "      <td>0.0000</td>\n",
       "      <td>0.0000</td>\n",
       "    </tr>\n",
       "    <tr>\n",
       "      <th>is_F2</th>\n",
       "      <td>0.0000</td>\n",
       "      <td>0.0000</td>\n",
       "      <td>0.0000</td>\n",
       "      <td>0.0000</td>\n",
       "      <td>0.0000</td>\n",
       "    </tr>\n",
       "    <tr>\n",
       "      <th>is_F3</th>\n",
       "      <td>0.0000</td>\n",
       "      <td>0.0000</td>\n",
       "      <td>0.0000</td>\n",
       "      <td>0.0000</td>\n",
       "      <td>0.0000</td>\n",
       "    </tr>\n",
       "    <tr>\n",
       "      <th>is_F4</th>\n",
       "      <td>0.0000</td>\n",
       "      <td>0.0000</td>\n",
       "      <td>0.0000</td>\n",
       "      <td>0.0000</td>\n",
       "      <td>0.0000</td>\n",
       "    </tr>\n",
       "    <tr>\n",
       "      <th>is_F5</th>\n",
       "      <td>0.0000</td>\n",
       "      <td>0.0000</td>\n",
       "      <td>0.0000</td>\n",
       "      <td>0.0000</td>\n",
       "      <td>0.0000</td>\n",
       "    </tr>\n",
       "    <tr>\n",
       "      <th>is_G1</th>\n",
       "      <td>0.0000</td>\n",
       "      <td>0.0000</td>\n",
       "      <td>0.0000</td>\n",
       "      <td>0.0000</td>\n",
       "      <td>0.0000</td>\n",
       "    </tr>\n",
       "    <tr>\n",
       "      <th>is_G2</th>\n",
       "      <td>0.0000</td>\n",
       "      <td>0.0000</td>\n",
       "      <td>0.0000</td>\n",
       "      <td>0.0000</td>\n",
       "      <td>0.0000</td>\n",
       "    </tr>\n",
       "    <tr>\n",
       "      <th>is_G3</th>\n",
       "      <td>0.0000</td>\n",
       "      <td>0.0000</td>\n",
       "      <td>0.0000</td>\n",
       "      <td>0.0000</td>\n",
       "      <td>0.0000</td>\n",
       "    </tr>\n",
       "    <tr>\n",
       "      <th>is_G4</th>\n",
       "      <td>0.0000</td>\n",
       "      <td>0.0000</td>\n",
       "      <td>0.0000</td>\n",
       "      <td>0.0000</td>\n",
       "      <td>0.0000</td>\n",
       "    </tr>\n",
       "    <tr>\n",
       "      <th>is_G5</th>\n",
       "      <td>0.0000</td>\n",
       "      <td>0.0000</td>\n",
       "      <td>0.0000</td>\n",
       "      <td>0.0000</td>\n",
       "      <td>0.0000</td>\n",
       "    </tr>\n",
       "    <tr>\n",
       "      <th>is_MORTGAGE</th>\n",
       "      <td>0.0000</td>\n",
       "      <td>0.0000</td>\n",
       "      <td>0.0000</td>\n",
       "      <td>0.0000</td>\n",
       "      <td>0.0000</td>\n",
       "    </tr>\n",
       "    <tr>\n",
       "      <th>is_OTHER</th>\n",
       "      <td>0.0000</td>\n",
       "      <td>0.0000</td>\n",
       "      <td>0.0000</td>\n",
       "      <td>0.0000</td>\n",
       "      <td>0.0000</td>\n",
       "    </tr>\n",
       "    <tr>\n",
       "      <th>is_OWN</th>\n",
       "      <td>0.0000</td>\n",
       "      <td>0.0000</td>\n",
       "      <td>0.0000</td>\n",
       "      <td>1.0000</td>\n",
       "      <td>0.0000</td>\n",
       "    </tr>\n",
       "    <tr>\n",
       "      <th>is_RENT</th>\n",
       "      <td>1.0000</td>\n",
       "      <td>1.0000</td>\n",
       "      <td>1.0000</td>\n",
       "      <td>0.0000</td>\n",
       "      <td>1.0000</td>\n",
       "    </tr>\n",
       "    <tr>\n",
       "      <th>is_Credit Card</th>\n",
       "      <td>0.0000</td>\n",
       "      <td>1.0000</td>\n",
       "      <td>0.0000</td>\n",
       "      <td>0.0000</td>\n",
       "      <td>0.0000</td>\n",
       "    </tr>\n",
       "    <tr>\n",
       "      <th>is_Debt Consolidation</th>\n",
       "      <td>1.0000</td>\n",
       "      <td>0.0000</td>\n",
       "      <td>1.0000</td>\n",
       "      <td>1.0000</td>\n",
       "      <td>1.0000</td>\n",
       "    </tr>\n",
       "    <tr>\n",
       "      <th>is_Home Improvement</th>\n",
       "      <td>0.0000</td>\n",
       "      <td>0.0000</td>\n",
       "      <td>0.0000</td>\n",
       "      <td>0.0000</td>\n",
       "      <td>0.0000</td>\n",
       "    </tr>\n",
       "    <tr>\n",
       "      <th>is_Major Purchase</th>\n",
       "      <td>0.0000</td>\n",
       "      <td>0.0000</td>\n",
       "      <td>0.0000</td>\n",
       "      <td>0.0000</td>\n",
       "      <td>0.0000</td>\n",
       "    </tr>\n",
       "    <tr>\n",
       "      <th>is_Other</th>\n",
       "      <td>0.0000</td>\n",
       "      <td>0.0000</td>\n",
       "      <td>0.0000</td>\n",
       "      <td>0.0000</td>\n",
       "      <td>0.0000</td>\n",
       "    </tr>\n",
       "    <tr>\n",
       "      <th>is_f</th>\n",
       "      <td>1.0000</td>\n",
       "      <td>1.0000</td>\n",
       "      <td>1.0000</td>\n",
       "      <td>1.0000</td>\n",
       "      <td>1.0000</td>\n",
       "    </tr>\n",
       "    <tr>\n",
       "      <th>is_w</th>\n",
       "      <td>0.0000</td>\n",
       "      <td>0.0000</td>\n",
       "      <td>0.0000</td>\n",
       "      <td>0.0000</td>\n",
       "      <td>0.0000</td>\n",
       "    </tr>\n",
       "  </tbody>\n",
       "</table>\n",
       "</div>"
      ],
      "text/plain": [
       "                                 0           1           2           3  \\\n",
       "InterestRate                0.1189      0.1071      0.1699      0.1311   \n",
       "RequestedAmount         25000.0000   7000.0000  25000.0000   1200.0000   \n",
       "FundedAmount            25000.0000   7000.0000  25000.0000   1200.0000   \n",
       "InvestorFundedPortion   19080.0000    673.0000  24725.0000   1200.0000   \n",
       "IncomeCheck                 1.0000      0.0000      1.0000      0.0000   \n",
       "Zipcode_3                 941.0000    112.0000    100.0000    777.0000   \n",
       "Ratio                      19.4800     14.2900     10.5000      5.4700   \n",
       "n_Incidences                0.0000      0.0000      0.0000      0.0000   \n",
       "DateCreditLine             29.0000     23.0000     23.0000     38.0000   \n",
       "n_Inquiries                 0.0000      0.0000      0.0000      0.0000   \n",
       "n_OpenCreditLines          10.0000      7.0000     10.0000      5.0000   \n",
       "n_DerogatoryRecords         0.0000      0.0000      0.0000      0.0000   \n",
       "CreditRevolvingBalance  28854.0000  33623.0000  19878.0000   2584.0000   \n",
       "UtilizationRate             0.5210      0.7670      0.6630      0.4040   \n",
       "n_CreditLines              42.0000      7.0000     17.0000     31.0000   \n",
       "IssueDate_Month             8.0000      5.0000      8.0000      3.0000   \n",
       "IssueDate_Year           2009.0000   2008.0000   2014.0000   2010.0000   \n",
       "is_36                       1.0000      1.0000      1.0000      1.0000   \n",
       "is_60                       0.0000      0.0000      0.0000      0.0000   \n",
       "is_Employed                 1.0000      1.0000      1.0000      1.0000   \n",
       "YearsEmployed_5             1.0000      1.0000      1.0000      0.0000   \n",
       "YearsEmployed_10            0.0000      0.0000      0.0000      0.0000   \n",
       "YearsEmployed_10plus        0.0000      0.0000      0.0000      1.0000   \n",
       "AnnualIncome            85000.0000  65000.0000  70000.0000  54000.0000   \n",
       "is_A1                       0.0000      0.0000      0.0000      0.0000   \n",
       "is_A2                       0.0000      0.0000      0.0000      0.0000   \n",
       "is_A3                       0.0000      0.0000      0.0000      0.0000   \n",
       "is_A4                       0.0000      0.0000      0.0000      0.0000   \n",
       "is_A5                       0.0000      0.0000      0.0000      0.0000   \n",
       "is_B1                       0.0000      0.0000      0.0000      0.0000   \n",
       "is_B2                       0.0000      0.0000      0.0000      0.0000   \n",
       "is_B3                       0.0000      0.0000      0.0000      0.0000   \n",
       "is_B4                       1.0000      0.0000      0.0000      0.0000   \n",
       "is_B5                       0.0000      1.0000      0.0000      0.0000   \n",
       "is_C1                       0.0000      0.0000      0.0000      0.0000   \n",
       "is_C2                       0.0000      0.0000      0.0000      1.0000   \n",
       "is_C3                       0.0000      0.0000      0.0000      0.0000   \n",
       "is_C4                       0.0000      0.0000      0.0000      0.0000   \n",
       "is_C5                       0.0000      0.0000      0.0000      0.0000   \n",
       "is_D1                       0.0000      0.0000      0.0000      0.0000   \n",
       "is_D2                       0.0000      0.0000      0.0000      0.0000   \n",
       "is_D3                       0.0000      0.0000      1.0000      0.0000   \n",
       "is_D4                       0.0000      0.0000      0.0000      0.0000   \n",
       "is_D5                       0.0000      0.0000      0.0000      0.0000   \n",
       "is_E1                       0.0000      0.0000      0.0000      0.0000   \n",
       "is_E2                       0.0000      0.0000      0.0000      0.0000   \n",
       "is_E3                       0.0000      0.0000      0.0000      0.0000   \n",
       "is_E4                       0.0000      0.0000      0.0000      0.0000   \n",
       "is_E5                       0.0000      0.0000      0.0000      0.0000   \n",
       "is_F1                       0.0000      0.0000      0.0000      0.0000   \n",
       "is_F2                       0.0000      0.0000      0.0000      0.0000   \n",
       "is_F3                       0.0000      0.0000      0.0000      0.0000   \n",
       "is_F4                       0.0000      0.0000      0.0000      0.0000   \n",
       "is_F5                       0.0000      0.0000      0.0000      0.0000   \n",
       "is_G1                       0.0000      0.0000      0.0000      0.0000   \n",
       "is_G2                       0.0000      0.0000      0.0000      0.0000   \n",
       "is_G3                       0.0000      0.0000      0.0000      0.0000   \n",
       "is_G4                       0.0000      0.0000      0.0000      0.0000   \n",
       "is_G5                       0.0000      0.0000      0.0000      0.0000   \n",
       "is_MORTGAGE                 0.0000      0.0000      0.0000      0.0000   \n",
       "is_OTHER                    0.0000      0.0000      0.0000      0.0000   \n",
       "is_OWN                      0.0000      0.0000      0.0000      1.0000   \n",
       "is_RENT                     1.0000      1.0000      1.0000      0.0000   \n",
       "is_Credit Card              0.0000      1.0000      0.0000      0.0000   \n",
       "is_Debt Consolidation       1.0000      0.0000      1.0000      1.0000   \n",
       "is_Home Improvement         0.0000      0.0000      0.0000      0.0000   \n",
       "is_Major Purchase           0.0000      0.0000      0.0000      0.0000   \n",
       "is_Other                    0.0000      0.0000      0.0000      0.0000   \n",
       "is_f                        1.0000      1.0000      1.0000      1.0000   \n",
       "is_w                        0.0000      0.0000      0.0000      0.0000   \n",
       "\n",
       "                                 4  \n",
       "InterestRate                0.1357  \n",
       "RequestedAmount         10800.0000  \n",
       "FundedAmount            10800.0000  \n",
       "InvestorFundedPortion   10692.0000  \n",
       "IncomeCheck                 0.0000  \n",
       "Zipcode_3                  67.0000  \n",
       "Ratio                      11.6300  \n",
       "n_Incidences                0.0000  \n",
       "DateCreditLine             27.0000  \n",
       "n_Inquiries                 1.0000  \n",
       "n_OpenCreditLines          14.0000  \n",
       "n_DerogatoryRecords         0.0000  \n",
       "CreditRevolvingBalance   3511.0000  \n",
       "UtilizationRate             0.2560  \n",
       "n_CreditLines              40.0000  \n",
       "IssueDate_Month            11.0000  \n",
       "IssueDate_Year           2009.0000  \n",
       "is_36                       1.0000  \n",
       "is_60                       0.0000  \n",
       "is_Employed                 1.0000  \n",
       "YearsEmployed_5             0.0000  \n",
       "YearsEmployed_10            1.0000  \n",
       "YearsEmployed_10plus        0.0000  \n",
       "AnnualIncome            32000.0000  \n",
       "is_A1                       0.0000  \n",
       "is_A2                       0.0000  \n",
       "is_A3                       0.0000  \n",
       "is_A4                       0.0000  \n",
       "is_A5                       0.0000  \n",
       "is_B1                       0.0000  \n",
       "is_B2                       0.0000  \n",
       "is_B3                       0.0000  \n",
       "is_B4                       0.0000  \n",
       "is_B5                       0.0000  \n",
       "is_C1                       0.0000  \n",
       "is_C2                       0.0000  \n",
       "is_C3                       1.0000  \n",
       "is_C4                       0.0000  \n",
       "is_C5                       0.0000  \n",
       "is_D1                       0.0000  \n",
       "is_D2                       0.0000  \n",
       "is_D3                       0.0000  \n",
       "is_D4                       0.0000  \n",
       "is_D5                       0.0000  \n",
       "is_E1                       0.0000  \n",
       "is_E2                       0.0000  \n",
       "is_E3                       0.0000  \n",
       "is_E4                       0.0000  \n",
       "is_E5                       0.0000  \n",
       "is_F1                       0.0000  \n",
       "is_F2                       0.0000  \n",
       "is_F3                       0.0000  \n",
       "is_F4                       0.0000  \n",
       "is_F5                       0.0000  \n",
       "is_G1                       0.0000  \n",
       "is_G2                       0.0000  \n",
       "is_G3                       0.0000  \n",
       "is_G4                       0.0000  \n",
       "is_G5                       0.0000  \n",
       "is_MORTGAGE                 0.0000  \n",
       "is_OTHER                    0.0000  \n",
       "is_OWN                      0.0000  \n",
       "is_RENT                     1.0000  \n",
       "is_Credit Card              0.0000  \n",
       "is_Debt Consolidation       1.0000  \n",
       "is_Home Improvement         0.0000  \n",
       "is_Major Purchase           0.0000  \n",
       "is_Other                    0.0000  \n",
       "is_f                        1.0000  \n",
       "is_w                        0.0000  "
      ]
     },
     "execution_count": 43,
     "metadata": {},
     "output_type": "execute_result"
    }
   ],
   "source": [
    "df = pd.get_dummies(df, prefix='is')\n",
    "df.head().T\n"
   ]
  },
  {
   "cell_type": "markdown",
   "metadata": {
    "id": "oX3m8dNyt3Nb"
   },
   "source": [
    "## Build models"
   ]
  },
  {
   "cell_type": "code",
   "execution_count": 44,
   "metadata": {
    "colab": {
     "base_uri": "https://localhost:8080/"
    },
    "id": "uqQoA_ayjdqL",
    "outputId": "cafdfa9c-1754-400c-eba8-8bcf856c6afa"
   },
   "outputs": [
    {
     "data": {
      "text/plain": [
       "70"
      ]
     },
     "execution_count": 44,
     "metadata": {},
     "output_type": "execute_result"
    }
   ],
   "source": [
    "len(df.columns)"
   ]
  },
  {
   "cell_type": "code",
   "execution_count": 45,
   "metadata": {
    "colab": {
     "base_uri": "https://localhost:8080/"
    },
    "id": "5JlN34tWt3Nc",
    "outputId": "a1044eee-2575-4bb7-9c64-9754d3b62bc1"
   },
   "outputs": [
    {
     "data": {
      "text/plain": [
       "InterestRate              0\n",
       "RequestedAmount           0\n",
       "FundedAmount              0\n",
       "InvestorFundedPortion     0\n",
       "IncomeCheck               0\n",
       "Zipcode_3                 0\n",
       "Ratio                     0\n",
       "n_Incidences              0\n",
       "DateCreditLine            0\n",
       "n_Inquiries               0\n",
       "n_OpenCreditLines         0\n",
       "n_DerogatoryRecords       0\n",
       "CreditRevolvingBalance    0\n",
       "UtilizationRate           0\n",
       "n_CreditLines             0\n",
       "IssueDate_Month           0\n",
       "IssueDate_Year            0\n",
       "is_36                     0\n",
       "is_60                     0\n",
       "is_Employed               0\n",
       "YearsEmployed_5           0\n",
       "YearsEmployed_10          0\n",
       "YearsEmployed_10plus      0\n",
       "AnnualIncome              0\n",
       "is_A1                     0\n",
       "is_A2                     0\n",
       "is_A3                     0\n",
       "is_A4                     0\n",
       "is_A5                     0\n",
       "is_B1                     0\n",
       "is_B2                     0\n",
       "is_B3                     0\n",
       "is_B4                     0\n",
       "is_B5                     0\n",
       "is_C1                     0\n",
       "is_C2                     0\n",
       "is_C3                     0\n",
       "is_C4                     0\n",
       "is_C5                     0\n",
       "is_D1                     0\n",
       "is_D2                     0\n",
       "is_D3                     0\n",
       "is_D4                     0\n",
       "is_D5                     0\n",
       "is_E1                     0\n",
       "is_E2                     0\n",
       "is_E3                     0\n",
       "is_E4                     0\n",
       "is_E5                     0\n",
       "is_F1                     0\n",
       "is_F2                     0\n",
       "is_F3                     0\n",
       "is_F4                     0\n",
       "is_F5                     0\n",
       "is_G1                     0\n",
       "is_G2                     0\n",
       "is_G3                     0\n",
       "is_G4                     0\n",
       "is_G5                     0\n",
       "is_MORTGAGE               0\n",
       "is_OTHER                  0\n",
       "is_OWN                    0\n",
       "is_RENT                   0\n",
       "is_Credit Card            0\n",
       "is_Debt Consolidation     0\n",
       "is_Home Improvement       0\n",
       "is_Major Purchase         0\n",
       "is_Other                  0\n",
       "is_f                      0\n",
       "is_w                      0\n",
       "dtype: int64"
      ]
     },
     "execution_count": 45,
     "metadata": {},
     "output_type": "execute_result"
    }
   ],
   "source": [
    "df.isna().sum()"
   ]
  },
  {
   "cell_type": "code",
   "execution_count": 46,
   "metadata": {
    "id": "RJ7d-tZdt3Nc"
   },
   "outputs": [],
   "source": [
    "X, y = df.drop(['InterestRate'], axis = 1), df['InterestRate']"
   ]
  },
  {
   "cell_type": "code",
   "execution_count": 47,
   "metadata": {
    "id": "ZFjBFOKCt3Nc"
   },
   "outputs": [],
   "source": [
    "scaler = StandardScaler()\n",
    "X_scaler = scaler.fit_transform(X)"
   ]
  },
  {
   "cell_type": "code",
   "execution_count": 48,
   "metadata": {
    "colab": {
     "base_uri": "https://localhost:8080/"
    },
    "id": "IwErzx6Zt3Nd",
    "outputId": "bb1ee020-da53-4557-b7db-855a5c260d9a"
   },
   "outputs": [
    {
     "data": {
      "text/plain": [
       "array([[ 1.29912996,  1.30496691,  0.59374527, ..., -0.23098313,\n",
       "         0.6764848 , -0.6764848 ],\n",
       "       [-0.88094238, -0.87891911, -1.63407215, ..., -0.23098313,\n",
       "         0.6764848 , -0.6764848 ],\n",
       "       [ 1.29912996,  1.30496691,  1.2769652 , ..., -0.23098313,\n",
       "         0.6764848 , -0.6764848 ],\n",
       "       ...,\n",
       "       [ 0.69355431,  0.6983319 ,  0.70509378, ..., -0.23098313,\n",
       "        -1.47822982,  1.47822982],\n",
       "       [ 0.50885374,  0.51330822,  0.52052152, ..., -0.23098313,\n",
       "         0.6764848 , -0.6764848 ],\n",
       "       [ 0.20909379,  0.2130239 ,  0.22096982, ..., -0.23098313,\n",
       "         0.6764848 , -0.6764848 ]])"
      ]
     },
     "execution_count": 48,
     "metadata": {},
     "output_type": "execute_result"
    }
   ],
   "source": [
    "X_scaler"
   ]
  },
  {
   "cell_type": "code",
   "execution_count": 50,
   "metadata": {
    "id": "C1-zjsNLt3Ne"
   },
   "outputs": [],
   "source": [
    "train_X, test_X, train_y, test_y = train_test_split(X_scaler, y, train_size = 0.8, test_size= 0.2)"
   ]
  },
  {
   "cell_type": "markdown",
   "metadata": {
    "id": "j5-eOkDzt3Nf"
   },
   "source": [
    "<b>Running through multiple classification models"
   ]
  },
  {
   "cell_type": "code",
   "execution_count": 51,
   "metadata": {
    "id": "6OlswkVNt3Nh"
   },
   "outputs": [],
   "source": [
    "models = pd.DataFrame(columns=['Model', 'Accuracy Score', 'RMSE', 'R-Squared', 'Mean_Score', 'STD Score'])\n",
    "models_str_list = ['Linear Regression',  'KNN', 'XGBoost', 'LGBM', 'Decision Tree', 'Random Forest' ]"
   ]
  },
  {
   "cell_type": "code",
   "execution_count": 52,
   "metadata": {
    "colab": {
     "base_uri": "https://localhost:8080/"
    },
    "id": "9tKh1QcJt3Nh",
    "outputId": "a55cc492-f77f-46d7-cb7b-120617b3e186"
   },
   "outputs": [
    {
     "name": "stdout",
     "output_type": "stream",
     "text": [
      "Fitting Model: LinearRegression()\n",
      "Accuracy score = 96.77 percent\n",
      "RMSE = 0.007832073953694467\n",
      "R-Squared = 0.9676760791941708\n",
      "\n",
      "\n",
      "Fitting Model: KNeighborsRegressor()\n",
      "Accuracy score = 97.5 percent\n",
      "RMSE = 0.006888911536842035\n",
      "R-Squared = 0.9749924186323995\n",
      "\n",
      "\n",
      "Fitting Model: XGBRegressor(base_score=None, booster=None, callbacks=None,\n",
      "             colsample_bylevel=None, colsample_bynode=None,\n",
      "             colsample_bytree=None, early_stopping_rounds=None,\n",
      "             enable_categorical=False, eval_metric=None, feature_types=None,\n",
      "             gamma=None, gpu_id=None, grow_policy=None, importance_type=None,\n",
      "             interaction_constraints=None, learning_rate=None, max_bin=None,\n",
      "             max_cat_threshold=None, max_cat_to_onehot=None,\n",
      "             max_delta_step=None, max_depth=None, max_leaves=None,\n",
      "             min_child_weight=None, missing=nan, monotone_constraints=None,\n",
      "             n_estimators=100, n_jobs=None, num_parallel_tree=None,\n",
      "             predictor=None, random_state=None, ...)\n",
      "Accuracy score = 99.66 percent\n",
      "RMSE = 0.0025470183752697943\n",
      "R-Squared = 0.9965815075018795\n",
      "\n",
      "\n",
      "Fitting Model: LGBMRegressor()\n",
      "Accuracy score = 99.6 percent\n",
      "RMSE = 0.0027462146836353006\n",
      "R-Squared = 0.9960258940182943\n",
      "\n",
      "\n",
      "Fitting Model: DecisionTreeRegressor()\n",
      "Accuracy score = 99.57 percent\n",
      "RMSE = 0.002865359075676249\n",
      "R-Squared = 0.9956735809472314\n",
      "\n",
      "\n",
      "Fitting Model: RandomForestRegressor()\n",
      "Accuracy score = 99.77 percent\n",
      "RMSE = 0.002084849606273447\n",
      "R-Squared = 0.9977095546246427\n",
      "\n",
      "\n"
     ]
    }
   ],
   "source": [
    "models_list = [LinearRegression, KNeighborsRegressor, XGBRegressor, LGBMRegressor, DecisionTreeRegressor,\n",
    "                RandomForestRegressor]\n",
    "\n",
    "classifier_list = []\n",
    "\n",
    "for x, m in zip(models_list, models_str_list):\n",
    "    clf = x()\n",
    "    print(\"Fitting Model: \" + str(clf))\n",
    "    clf.fit(train_X, train_y)\n",
    "    classifier_list.append(clf)\n",
    "    y_pred_log_reg = clf.predict(test_X)\n",
    "    acc_log_reg = round( clf.score(test_X, test_y) * 100, 2)\n",
    "    rmse = metrics.mean_squared_error(test_y, y_pred_log_reg, squared=False)\n",
    "    rsquared =  metrics.r2_score(test_y, y_pred_log_reg)\n",
    "    print ('Accuracy score = ' + str(acc_log_reg) + ' percent')\n",
    "    print ('RMSE = ' + str(rmse))\n",
    "    print ('R-Squared = ' + str(rsquared))\n",
    "    print(\"\\n\")\n",
    "    cross = cross_val_score(clf, X_scaler, y, cv = 3, scoring = 'neg_mean_squared_error', n_jobs=20)\n",
    "    mean_score = - (cross.mean())\n",
    "    std_score = cross.std()\n",
    "    models = models.append({'Model': m, 'Accuracy Score': acc_log_reg, 'RMSE': rmse, 'R-Squared': rsquared, 'Mean_Score': mean_score, 'STD Score': std_score}, ignore_index=True)\n"
   ]
  },
  {
   "cell_type": "code",
   "execution_count": 53,
   "metadata": {
    "id": "il7wnAhh-MLQ"
   },
   "outputs": [
    {
     "data": {
      "text/html": [
       "<div>\n",
       "<style scoped>\n",
       "    .dataframe tbody tr th:only-of-type {\n",
       "        vertical-align: middle;\n",
       "    }\n",
       "\n",
       "    .dataframe tbody tr th {\n",
       "        vertical-align: top;\n",
       "    }\n",
       "\n",
       "    .dataframe thead th {\n",
       "        text-align: right;\n",
       "    }\n",
       "</style>\n",
       "<table border=\"1\" class=\"dataframe\">\n",
       "  <thead>\n",
       "    <tr style=\"text-align: right;\">\n",
       "      <th></th>\n",
       "      <th>Model</th>\n",
       "      <th>Accuracy Score</th>\n",
       "      <th>RMSE</th>\n",
       "      <th>R-Squared</th>\n",
       "      <th>Mean_Score</th>\n",
       "      <th>STD Score</th>\n",
       "    </tr>\n",
       "  </thead>\n",
       "  <tbody>\n",
       "    <tr>\n",
       "      <th>5</th>\n",
       "      <td>Random Forest</td>\n",
       "      <td>99.77</td>\n",
       "      <td>0.002085</td>\n",
       "      <td>0.997710</td>\n",
       "      <td>0.000063</td>\n",
       "      <td>0.000074</td>\n",
       "    </tr>\n",
       "    <tr>\n",
       "      <th>2</th>\n",
       "      <td>XGBoost</td>\n",
       "      <td>99.66</td>\n",
       "      <td>0.002547</td>\n",
       "      <td>0.996582</td>\n",
       "      <td>0.000069</td>\n",
       "      <td>0.000073</td>\n",
       "    </tr>\n",
       "    <tr>\n",
       "      <th>3</th>\n",
       "      <td>LGBM</td>\n",
       "      <td>99.60</td>\n",
       "      <td>0.002746</td>\n",
       "      <td>0.996026</td>\n",
       "      <td>0.000075</td>\n",
       "      <td>0.000071</td>\n",
       "    </tr>\n",
       "    <tr>\n",
       "      <th>4</th>\n",
       "      <td>Decision Tree</td>\n",
       "      <td>99.57</td>\n",
       "      <td>0.002865</td>\n",
       "      <td>0.995674</td>\n",
       "      <td>0.000068</td>\n",
       "      <td>0.000075</td>\n",
       "    </tr>\n",
       "    <tr>\n",
       "      <th>1</th>\n",
       "      <td>KNN</td>\n",
       "      <td>97.50</td>\n",
       "      <td>0.006889</td>\n",
       "      <td>0.974992</td>\n",
       "      <td>0.000117</td>\n",
       "      <td>0.000043</td>\n",
       "    </tr>\n",
       "    <tr>\n",
       "      <th>0</th>\n",
       "      <td>Linear Regression</td>\n",
       "      <td>96.77</td>\n",
       "      <td>0.007832</td>\n",
       "      <td>0.967676</td>\n",
       "      <td>0.000384</td>\n",
       "      <td>0.000354</td>\n",
       "    </tr>\n",
       "  </tbody>\n",
       "</table>\n",
       "</div>"
      ],
      "text/plain": [
       "               Model  Accuracy Score      RMSE  R-Squared  Mean_Score  \\\n",
       "5      Random Forest           99.77  0.002085   0.997710    0.000063   \n",
       "2            XGBoost           99.66  0.002547   0.996582    0.000069   \n",
       "3               LGBM           99.60  0.002746   0.996026    0.000075   \n",
       "4      Decision Tree           99.57  0.002865   0.995674    0.000068   \n",
       "1                KNN           97.50  0.006889   0.974992    0.000117   \n",
       "0  Linear Regression           96.77  0.007832   0.967676    0.000384   \n",
       "\n",
       "   STD Score  \n",
       "5   0.000074  \n",
       "2   0.000073  \n",
       "3   0.000071  \n",
       "4   0.000075  \n",
       "1   0.000043  \n",
       "0   0.000354  "
      ]
     },
     "execution_count": 53,
     "metadata": {},
     "output_type": "execute_result"
    }
   ],
   "source": [
    "models.sort_values(by='Accuracy Score', ascending=False)"
   ]
  },
  {
   "cell_type": "markdown",
   "metadata": {
    "id": "IJLI6MuUtWON"
   },
   "source": [
    "Perform Random Forest as it has the lowest RMSE and highest R-squared for"
   ]
  },
  {
   "cell_type": "code",
   "execution_count": 105,
   "metadata": {
    "id": "D5T5r_xfrXvi"
   },
   "outputs": [
    {
     "data": {
      "text/html": [
       "<div>\n",
       "<style scoped>\n",
       "    .dataframe tbody tr th:only-of-type {\n",
       "        vertical-align: middle;\n",
       "    }\n",
       "\n",
       "    .dataframe tbody tr th {\n",
       "        vertical-align: top;\n",
       "    }\n",
       "\n",
       "    .dataframe thead th {\n",
       "        text-align: right;\n",
       "    }\n",
       "</style>\n",
       "<table border=\"1\" class=\"dataframe\">\n",
       "  <thead>\n",
       "    <tr style=\"text-align: right;\">\n",
       "      <th></th>\n",
       "      <th>X1</th>\n",
       "      <th>X2</th>\n",
       "      <th>X3</th>\n",
       "      <th>X4</th>\n",
       "      <th>X5</th>\n",
       "      <th>X6</th>\n",
       "      <th>X7</th>\n",
       "      <th>X8</th>\n",
       "      <th>X9</th>\n",
       "      <th>X10</th>\n",
       "      <th>...</th>\n",
       "      <th>X23</th>\n",
       "      <th>X24</th>\n",
       "      <th>X25</th>\n",
       "      <th>X26</th>\n",
       "      <th>X27</th>\n",
       "      <th>X28</th>\n",
       "      <th>X29</th>\n",
       "      <th>X30</th>\n",
       "      <th>X31</th>\n",
       "      <th>X32</th>\n",
       "    </tr>\n",
       "  </thead>\n",
       "  <tbody>\n",
       "    <tr>\n",
       "      <th>0</th>\n",
       "      <td>NaN</td>\n",
       "      <td>44409194</td>\n",
       "      <td>47416907</td>\n",
       "      <td>$6,000</td>\n",
       "      <td>$6,000</td>\n",
       "      <td>$6,000</td>\n",
       "      <td>36 months</td>\n",
       "      <td>C</td>\n",
       "      <td>C5</td>\n",
       "      <td>Electrician</td>\n",
       "      <td>...</td>\n",
       "      <td>2-Nov</td>\n",
       "      <td>1</td>\n",
       "      <td>26.0</td>\n",
       "      <td>NaN</td>\n",
       "      <td>18</td>\n",
       "      <td>0</td>\n",
       "      <td>19861</td>\n",
       "      <td>64.50%</td>\n",
       "      <td>33</td>\n",
       "      <td>f</td>\n",
       "    </tr>\n",
       "    <tr>\n",
       "      <th>1</th>\n",
       "      <td>NaN</td>\n",
       "      <td>44017917</td>\n",
       "      <td>47034722</td>\n",
       "      <td>$24,000</td>\n",
       "      <td>$24,000</td>\n",
       "      <td>$24,000</td>\n",
       "      <td>36 months</td>\n",
       "      <td>A</td>\n",
       "      <td>A1</td>\n",
       "      <td>Executive Assistant</td>\n",
       "      <td>...</td>\n",
       "      <td>Dec-68</td>\n",
       "      <td>1</td>\n",
       "      <td>NaN</td>\n",
       "      <td>NaN</td>\n",
       "      <td>12</td>\n",
       "      <td>0</td>\n",
       "      <td>17001</td>\n",
       "      <td>26.20%</td>\n",
       "      <td>36</td>\n",
       "      <td>w</td>\n",
       "    </tr>\n",
       "    <tr>\n",
       "      <th>2</th>\n",
       "      <td>NaN</td>\n",
       "      <td>44259158</td>\n",
       "      <td>47306871</td>\n",
       "      <td>$35,000</td>\n",
       "      <td>$35,000</td>\n",
       "      <td>$35,000</td>\n",
       "      <td>36 months</td>\n",
       "      <td>C</td>\n",
       "      <td>C2</td>\n",
       "      <td>District Sales Leader</td>\n",
       "      <td>...</td>\n",
       "      <td>Oct-98</td>\n",
       "      <td>0</td>\n",
       "      <td>NaN</td>\n",
       "      <td>NaN</td>\n",
       "      <td>16</td>\n",
       "      <td>0</td>\n",
       "      <td>25797</td>\n",
       "      <td>49.90%</td>\n",
       "      <td>33</td>\n",
       "      <td>w</td>\n",
       "    </tr>\n",
       "    <tr>\n",
       "      <th>3</th>\n",
       "      <td>NaN</td>\n",
       "      <td>44429213</td>\n",
       "      <td>47476932</td>\n",
       "      <td>$10,000</td>\n",
       "      <td>$10,000</td>\n",
       "      <td>$10,000</td>\n",
       "      <td>60 months</td>\n",
       "      <td>D</td>\n",
       "      <td>D1</td>\n",
       "      <td>pharmacy associate</td>\n",
       "      <td>...</td>\n",
       "      <td>Feb-99</td>\n",
       "      <td>1</td>\n",
       "      <td>NaN</td>\n",
       "      <td>114.0</td>\n",
       "      <td>13</td>\n",
       "      <td>1</td>\n",
       "      <td>9586</td>\n",
       "      <td>43.80%</td>\n",
       "      <td>21</td>\n",
       "      <td>w</td>\n",
       "    </tr>\n",
       "    <tr>\n",
       "      <th>4</th>\n",
       "      <td>NaN</td>\n",
       "      <td>44299188</td>\n",
       "      <td>47346901</td>\n",
       "      <td>$24,000</td>\n",
       "      <td>$24,000</td>\n",
       "      <td>$24,000</td>\n",
       "      <td>60 months</td>\n",
       "      <td>B</td>\n",
       "      <td>B1</td>\n",
       "      <td>Medical case manager</td>\n",
       "      <td>...</td>\n",
       "      <td>2-Dec</td>\n",
       "      <td>0</td>\n",
       "      <td>48.0</td>\n",
       "      <td>NaN</td>\n",
       "      <td>27</td>\n",
       "      <td>0</td>\n",
       "      <td>31842</td>\n",
       "      <td>41.30%</td>\n",
       "      <td>43</td>\n",
       "      <td>w</td>\n",
       "    </tr>\n",
       "  </tbody>\n",
       "</table>\n",
       "<p>5 rows × 32 columns</p>\n",
       "</div>"
      ],
      "text/plain": [
       "   X1        X2        X3       X4       X5       X6          X7 X8  X9  \\\n",
       "0 NaN  44409194  47416907   $6,000   $6,000   $6,000   36 months  C  C5   \n",
       "1 NaN  44017917  47034722  $24,000  $24,000  $24,000   36 months  A  A1   \n",
       "2 NaN  44259158  47306871  $35,000  $35,000  $35,000   36 months  C  C2   \n",
       "3 NaN  44429213  47476932  $10,000  $10,000  $10,000   60 months  D  D1   \n",
       "4 NaN  44299188  47346901  $24,000  $24,000  $24,000   60 months  B  B1   \n",
       "\n",
       "                     X10  ...     X23 X24   X25    X26 X27 X28    X29     X30  \\\n",
       "0            Electrician  ...   2-Nov   1  26.0    NaN  18   0  19861  64.50%   \n",
       "1    Executive Assistant  ...  Dec-68   1   NaN    NaN  12   0  17001  26.20%   \n",
       "2  District Sales Leader  ...  Oct-98   0   NaN    NaN  16   0  25797  49.90%   \n",
       "3     pharmacy associate  ...  Feb-99   1   NaN  114.0  13   1   9586  43.80%   \n",
       "4   Medical case manager  ...   2-Dec   0  48.0    NaN  27   0  31842  41.30%   \n",
       "\n",
       "  X31 X32  \n",
       "0  33   f  \n",
       "1  36   w  \n",
       "2  33   w  \n",
       "3  21   w  \n",
       "4  43   w  \n",
       "\n",
       "[5 rows x 32 columns]"
      ]
     },
     "execution_count": 105,
     "metadata": {},
     "output_type": "execute_result"
    }
   ],
   "source": [
    "loan_test = pd.read_csv(\"Holdout for Testing.csv\")\n",
    "df_test = loan_test\n",
    "df_test.head()"
   ]
  },
  {
   "cell_type": "code",
   "execution_count": 106,
   "metadata": {},
   "outputs": [
    {
     "name": "stdout",
     "output_type": "stream",
     "text": [
      "Dropping 0 row(s) which have no Loan Sub Grade \n",
      "\n",
      "Unique values in HomeOwnership = ['MORTGAGE' 'RENT' 'OWN']\n",
      "Unique values in HomeOwnership after imputing = ['MORTGAGE' 'RENT' 'OWN']\n",
      "Dropping 0 row(s) which have no Utilization Rate \n",
      "\n"
     ]
    }
   ],
   "source": [
    "#Renaming columns based on data dictionary\n",
    "\n",
    "def reversed(x):\n",
    "    y = x.split(\"-\")\n",
    "    num = int(y[0])\n",
    "    y[0] = \"{:02d}\".format(num)\n",
    "    return '-'.join(y[::-1])\n",
    "\n",
    "df_test = df_test.rename({'X1': 'InterestRate', 'X2': 'LoanId', 'X3': 'BorrowerId', 'X4': 'RequestedAmount', 'X5': 'FundedAmount',\n",
    "                'X6': 'InvestorFundedPortion', 'X7': 'n_Payments', 'X8': 'LoanGrade', 'X9': 'LoanSubgrade', 'X10': 'Employer_JobTitle',\n",
    "                'X11': 'n_YearsEmployed', 'X12': 'HomeOwnership', 'X13': 'AnnualIncome', 'X14': 'IncomeCheck', 'X15': 'IssueDate',\n",
    "                'X16': 'Reason', 'X17': 'LoanCategory', 'X18': 'LoanTitle', 'X19': 'Zipcode_3', 'X20': 'State', 'X21': 'Ratio', 'X22': 'n_Incidences',\n",
    "                'X23': 'DateCreditLine', 'X24': 'n_Inquiries', 'X25': 'MonthsLastDeliquency', 'X26': 'MonthsPublicRecord', 'X27': 'n_OpenCreditLines',\n",
    "                'X28': 'n_DerogatoryRecords', 'X29': 'CreditRevolvingBalance', 'X30': 'UtilizationRate', 'X31': 'n_CreditLines', 'X32': 'ListingStatus'}, axis = 1)\n",
    "\n",
    "#Clean data of unnecessary symbols like '$', ','\n",
    "\n",
    "#Remove $ and commas in Amounts and convert to float\n",
    "df_test['RequestedAmount'] = df_test['RequestedAmount'].str.replace('[^0-9.\\s]+', '').astype(float)\n",
    "df_test['FundedAmount'] = df_test['FundedAmount'].str.replace('[^0-9.\\s]+', '').astype(float)\n",
    "df_test['InvestorFundedPortion'] = df_test['InvestorFundedPortion'].str.replace('[^0-9.\\s]+', '').astype(float)\n",
    "\n",
    "#Convert to numbers\n",
    "df_test['n_Payments'] = df_test['n_Payments'].str.replace('[^0-9.\\s]+', '').astype(float)\n",
    "df_test['n_YearsEmployed'] = df_test['n_YearsEmployed'].apply(lambda x: '0' if x == '< 1 year' else x)\n",
    "df_test['n_YearsEmployed'] = df_test['n_YearsEmployed'].str.replace('[^0-9.\\s]+', '').astype(float)\n",
    "\n",
    "# df_test[['IssueMonth','IssueYear']] = df_test['IssueDate'].str.split('-', expand=True)\n",
    "\n",
    "# df_test['IssueDay'] = df_test['IssueDay'].astype(float).astype(int)\n",
    "# df_test['IssueMonth'] = pd.to_datetime(df_test['IssueMonth'], format='%Y').dt.year\n",
    "# df_test['IssueDate'] = [dt.datetime.strptime(i,'%b-%y').strftime('%d-%b-%Y') if int(i.split(\"-\")[1]) <= 20 else dt.datetime.strptime(i,'%b-%y').replace(year=int(\"19\" + i.split(\"-\")[1])).strftime('%d-%b-%Y') for i in df_test['IssueDate']]\n",
    "# df_test['IssueDate'] = pd.to_datetime(df_test['IssueDate'])\n",
    "\n",
    "df_test.loc[df_test[\"DateCreditLine\"].str.match(\"[0-9]*-\\w{3}\"),\"DateCreditLine\"] = df_test.loc[df_test[\"DateCreditLine\"].str.match(\"[0-9]*-\\w{3}\"),\"DateCreditLine\"].apply(reversed)\n",
    "df_test.loc[df_test[\"IssueDate\"].str.match(\"[0-9]*-\\w{3}\"),\"IssueDate\"] = df_test.loc[df_test[\"IssueDate\"].str.match(\"[0-9]*-\\w{3}\"),\"IssueDate\"].apply(reversed)\n",
    "\n",
    "df_test[\"IssueDate\"] = pd.to_datetime(df_test[\"IssueDate\"],format=r\"%b-%y\")\n",
    "df_test[\"DateCreditLine\"] = pd.to_datetime(df_test[\"DateCreditLine\"],format=r\"%b-%y\")\n",
    "\n",
    "df_test['IssueDate_Month'] = df_test['IssueDate'].dt.month\n",
    "df_test['IssueDate_Year'] = df_test['IssueDate'].dt.year\n",
    "df_test['DateCreditLine'] = dt.date.today().year - df_test['DateCreditLine'].dt.year\n",
    "\n",
    "\n",
    "# df_test['DateCreditLine'] = [dt.datetime.strptime(i,'%b-%y').strftime('%d-%b-%Y') if int(i.split(\"-\")[1]) <= 20 else dt.datetime.strptime(i,'%b-%y').replace(year=int(\"19\" + i.split(\"-\")[1])).strftime('%d-%b-%Y') for i in df_test['DateCreditLine']]\n",
    "# df_test['DateCreditLine'] = pd.to_datetime(df_test['DateCreditLine'])\n",
    "\n",
    "\n",
    "#Remove % from Utilization Rate\n",
    "df_test['UtilizationRate'] = df_test['UtilizationRate'].str.replace('[^0-9.\\s]+', '').astype(float)/100\n",
    "\n",
    "df_test = df_test.reset_index(drop=True)\n",
    "\n",
    "df_test = df_test.drop(['LoanId', 'BorrowerId', 'Reason', 'LoanTitle', 'IssueDate', \n",
    "                'MonthsLastDeliquency', 'MonthsPublicRecord'], axis = 1)\n",
    "df_test['is_36'] = df_test['n_Payments'].apply(lambda x: 1 if x == 36 else 0)\n",
    "df_test['is_60'] = df_test['n_Payments'].apply(lambda x: 1 if x == 60 else 0)\n",
    "df_test = df_test.drop(['n_Payments'], axis=1)\n",
    "df_test = df_test.drop(['LoanGrade'], axis = 1)\n",
    "\n",
    "x = df_test.shape[0]\n",
    "df_test = df_test.dropna(subset=['LoanSubgrade'])\n",
    "print(\"Dropping \" + str(x - df_test.shape[0]) + \" row(s) which have no Loan Sub Grade \\n\")\n",
    "def check_null(a):\n",
    "    try:\n",
    "        return np.isnan(a)\n",
    "    except:\n",
    "        return False\n",
    "\n",
    "df_test['is_Employed'] = [0 if ((check_null(employ)) and (np.isnan(years)) and (np.isnan(income)) and (verify == 'not verified')) else 1 for employ, years, income, verify in zip(df_test['Employer_JobTitle'], df_test['n_YearsEmployed'], df_test['AnnualIncome'], df_test['IncomeCheck'])]\n",
    "df_test = df_test.drop(['Employer_JobTitle'], axis=1)\n",
    "df_test['n_YearsEmployed'] = df_test['n_YearsEmployed'].fillna(0)\n",
    "df_test['n_YearsEmployed'].describe()\n",
    "df_test['YearsEmployed_5'] = df_test['n_YearsEmployed'].apply(lambda x: 1 if x <= 5 else 0)\n",
    "df_test['YearsEmployed_10'] = df_test['n_YearsEmployed'].apply(lambda x: 1 if (x > 5) & (x < 10) else 0)\n",
    "df_test['YearsEmployed_10plus'] = df_test['n_YearsEmployed'].apply(lambda x: 1 if x == 10 else 0)\n",
    "\n",
    "df_test = df_test.drop(['n_YearsEmployed'], axis=1)\n",
    "print(\"Unique values in HomeOwnership = \" + str(df_test['HomeOwnership'].unique()))\n",
    "df_test['HomeOwnership'] = df_test['HomeOwnership'].replace(['NONE', 'ANY'], 'OTHER').fillna('OTHER')\n",
    "print(\"Unique values in HomeOwnership after imputing = \" + str(df_test['HomeOwnership'].unique()))\n",
    "df_test['Zip-State'] = df_test['Zipcode_3'].str.replace('xx', '') + df_test['State']\n",
    "df_test['Zip-State']\n",
    "# Group the data by 'Zip' and 'State'\n",
    "grouped = df_test.groupby(['Zip-State'])\n",
    "# Compute the median value of 'Income' for each group\n",
    "median_income = grouped['AnnualIncome'].median().reset_index()\n",
    "# Use the median value to fill the missing values in 'Income'\n",
    "df_test = df_test.merge(median_income, on=['Zip-State'], how='left')\n",
    "df_test['AnnualIncome'] = np.where((df_test['AnnualIncome_x'].isna()) & (df_test['is_Employed'] == 1), df_test['AnnualIncome_y'], (np.where((df_test['AnnualIncome_x'].isna()) & (df_test['is_Employed'] == 0), 0, df_test['AnnualIncome_x'])))\n",
    "# df_test['AnnualIncome'] = np.where((df_test['AnnualIncome_x'].isna()) & (df_test['is_Employed'] == 0), 0, df_test['AnnualIncome_x'])\n",
    "# Drop the temporary columns 'Income_x' and 'Income_y'\n",
    "df_test.loc[df_test['AnnualIncome'].isna(),\"AnnualIncome\"] = 0\n",
    "df_test['Zipcode_3'] = df_test['Zipcode_3'].str.replace('xx', '').astype(int)\n",
    "df_test.drop(columns=['AnnualIncome_x', 'AnnualIncome_y', 'State', 'Zip-State'], inplace=True)\n",
    "df_test['AnnualIncome'].describe().apply(lambda x: format(x, 'f'))\n",
    "df_test['IncomeCheck'] = df_test['IncomeCheck'].apply(lambda x: 1 if x in ['VERIFIED - income', 'VERIFIED - income source'] else 0)\n",
    "\n",
    "loan_category_map = {\n",
    "    'debt_consolidation': 'Debt Consolidation',\n",
    "    'credit_card': 'Credit Card',\n",
    "    'car': 'Debt Consolidation',\n",
    "    'home_improvement': 'Home Improvement',\n",
    "    'small_business': 'Major Purchase',\n",
    "    'major_purchase': 'Major Purchase',\n",
    "    'other': 'Other',\n",
    "    'house': 'Home Improvement',\n",
    "    'vacation': 'Home Improvement',\n",
    "    'educational': 'Major Purchase',\n",
    "    'moving': 'Home Improvement',\n",
    "    'wedding': 'Home Improvement',\n",
    "    'medical': 'Debt Consolidation',\n",
    "    'renewable_energy': 'Home Improvement'\n",
    "}\n",
    "\n",
    "df_test = df_test.assign(LoanCategory=df_test['LoanCategory'].str.extract(f\"({'|'.join(loan_category_map.keys())})\", expand=False)\n",
    "             .map(loan_category_map))\n",
    "# df_test['LoanCategory'] = df_test['LoanCategory'].map(loan_category_map)\n",
    "df_test['LoanCategory'].unique()\n",
    "x = df_test.shape[0]\n",
    "# df_test = df_test.dropna(subset=['UtilizationRate'])\n",
    "df_test[\"UtilizationRate\"] = df_test[\"UtilizationRate\"].fillna(0)\n",
    "print(\"Dropping \" + str(x - df_test.shape[0]) + \" row(s) which have no Utilization Rate \\n\")\n",
    "df_test = pd.get_dummies(df_test, prefix='is')\n",
    "df_test[\"is_OTHER\"] = 0\n",
    "# df_test.head().T\n"
   ]
  },
  {
   "cell_type": "code",
   "execution_count": 107,
   "metadata": {},
   "outputs": [
    {
     "data": {
      "text/plain": [
       "Index(['InterestRate', 'RequestedAmount', 'FundedAmount',\n",
       "       'InvestorFundedPortion', 'IncomeCheck', 'Zipcode_3', 'Ratio',\n",
       "       'n_Incidences', 'DateCreditLine', 'n_Inquiries', 'n_OpenCreditLines',\n",
       "       'n_DerogatoryRecords', 'CreditRevolvingBalance', 'UtilizationRate',\n",
       "       'n_CreditLines', 'IssueDate_Month', 'IssueDate_Year', 'is_36', 'is_60',\n",
       "       'is_Employed', 'YearsEmployed_5', 'YearsEmployed_10',\n",
       "       'YearsEmployed_10plus', 'AnnualIncome', 'is_A1', 'is_A2', 'is_A3',\n",
       "       'is_A4', 'is_A5', 'is_B1', 'is_B2', 'is_B3', 'is_B4', 'is_B5', 'is_C1',\n",
       "       'is_C2', 'is_C3', 'is_C4', 'is_C5', 'is_D1', 'is_D2', 'is_D3', 'is_D4',\n",
       "       'is_D5', 'is_E1', 'is_E2', 'is_E3', 'is_E4', 'is_E5', 'is_F1', 'is_F2',\n",
       "       'is_F3', 'is_F4', 'is_F5', 'is_G1', 'is_G2', 'is_G3', 'is_G4', 'is_G5',\n",
       "       'is_MORTGAGE', 'is_OWN', 'is_RENT', 'is_Credit Card',\n",
       "       'is_Debt Consolidation', 'is_Home Improvement', 'is_Major Purchase',\n",
       "       'is_Other', 'is_f', 'is_w', 'is_OTHER'],\n",
       "      dtype='object')"
      ]
     },
     "execution_count": 107,
     "metadata": {},
     "output_type": "execute_result"
    }
   ],
   "source": [
    "df_test.columns"
   ]
  },
  {
   "cell_type": "code",
   "execution_count": 110,
   "metadata": {},
   "outputs": [],
   "source": [
    "X = df_test.drop([\"InterestRate\"],axis=1)\n",
    "scaler = StandardScaler()\n",
    "X_scaler = scaler.fit_transform(X)\n",
    "random_forest_model = classifier_list[5]\n",
    "df_output = random_forest_model.predict(X_scaler)"
   ]
  },
  {
   "cell_type": "code",
   "execution_count": 111,
   "metadata": {},
   "outputs": [],
   "source": [
    "df_output_df = pd.DataFrame(df_output,columns=[\"X1\"])\n",
    "df_output_df = round(df_output_df*100,2)\n",
    "df_output_df.to_csv(\"Loan_Prediction_Results_from_shweta-sampath_kumar.csv\",index=False)"
   ]
  },
  {
   "cell_type": "markdown",
   "metadata": {},
   "source": [
    "## Summary\n",
    "I chose Random Forest as it had the highest accuracy, RMSE, R-squared. I also check if it overfit by running cross validation and calculating the mean score. Since they had the lowest in everything except for accuracy which was the highest it was the best model. While Linear Regression was the fastest along with XGBoost & LGBM their accuracy and other stats were not as good as Random Forest."
   ]
  }
 ],
 "metadata": {
  "colab": {
   "provenance": []
  },
  "kernelspec": {
   "display_name": "Python 3 (ipykernel)",
   "language": "python",
   "name": "python3"
  },
  "language_info": {
   "codemirror_mode": {
    "name": "ipython",
    "version": 3
   },
   "file_extension": ".py",
   "mimetype": "text/x-python",
   "name": "python",
   "nbconvert_exporter": "python",
   "pygments_lexer": "ipython3",
   "version": "3.11.1"
  },
  "vscode": {
   "interpreter": {
    "hash": "176c0334d7b9c7a9b7eb6fa04d96d8bb263ed7a5a425eb1172d4f16fe7b04889"
   }
  }
 },
 "nbformat": 4,
 "nbformat_minor": 1
}
