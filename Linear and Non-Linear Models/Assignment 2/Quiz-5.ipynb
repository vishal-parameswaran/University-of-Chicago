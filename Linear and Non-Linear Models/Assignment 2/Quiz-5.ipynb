{
 "cells": [
  {
   "cell_type": "code",
   "execution_count": 16,
   "metadata": {
    "collapsed": true
   },
   "outputs": [],
   "source": [
    "import matplotlib.pyplot as plt\n",
    "import numpy as np\n",
    "import pandas as pd\n",
    "import sys\n",
    "# Set some options for printing all the columns\n",
    "np.set_printoptions(precision = 10, threshold = sys.maxsize)\n",
    "np.set_printoptions(linewidth = np.inf)\n",
    "pandas.set_option('display.max_columns', None)\n",
    "pandas.set_option('display.expand_frame_repr', False)\n",
    "pandas.set_option('max_colwidth', None)\n",
    "pandas.options.display.float_format = '{:,.10}'.format\n",
    "import seaborn as sns\n",
    "import math\n",
    "from scipy.stats import chi2\n",
    "import Regression"
   ]
  },
  {
   "cell_type": "code",
   "execution_count": 17,
   "outputs": [
    {
     "data": {
      "text/plain": "          x        y\n0      High  Approve\n1      High  Approve\n2      High  Approve\n3    Medium  Decline\n4      High  Approve\n..      ...      ...\n835  Medium  Decline\n836    High  Approve\n837     Low  Decline\n838  Medium  Decline\n839  Medium  Decline\n\n[840 rows x 2 columns]",
      "text/html": "<div>\n<style scoped>\n    .dataframe tbody tr th:only-of-type {\n        vertical-align: middle;\n    }\n\n    .dataframe tbody tr th {\n        vertical-align: top;\n    }\n\n    .dataframe thead th {\n        text-align: right;\n    }\n</style>\n<table border=\"1\" class=\"dataframe\">\n  <thead>\n    <tr style=\"text-align: right;\">\n      <th></th>\n      <th>x</th>\n      <th>y</th>\n    </tr>\n  </thead>\n  <tbody>\n    <tr>\n      <th>0</th>\n      <td>High</td>\n      <td>Approve</td>\n    </tr>\n    <tr>\n      <th>1</th>\n      <td>High</td>\n      <td>Approve</td>\n    </tr>\n    <tr>\n      <th>2</th>\n      <td>High</td>\n      <td>Approve</td>\n    </tr>\n    <tr>\n      <th>3</th>\n      <td>Medium</td>\n      <td>Decline</td>\n    </tr>\n    <tr>\n      <th>4</th>\n      <td>High</td>\n      <td>Approve</td>\n    </tr>\n    <tr>\n      <th>...</th>\n      <td>...</td>\n      <td>...</td>\n    </tr>\n    <tr>\n      <th>835</th>\n      <td>Medium</td>\n      <td>Decline</td>\n    </tr>\n    <tr>\n      <th>836</th>\n      <td>High</td>\n      <td>Approve</td>\n    </tr>\n    <tr>\n      <th>837</th>\n      <td>Low</td>\n      <td>Decline</td>\n    </tr>\n    <tr>\n      <th>838</th>\n      <td>Medium</td>\n      <td>Decline</td>\n    </tr>\n    <tr>\n      <th>839</th>\n      <td>Medium</td>\n      <td>Decline</td>\n    </tr>\n  </tbody>\n</table>\n<p>840 rows × 2 columns</p>\n</div>"
     },
     "execution_count": 17,
     "metadata": {},
     "output_type": "execute_result"
    }
   ],
   "source": [
    "sample_data = pd.read_csv('sample_data.csv')\n",
    "sample_data"
   ],
   "metadata": {
    "collapsed": false
   }
  },
  {
   "cell_type": "code",
   "execution_count": 18,
   "outputs": [],
   "source": [
    "train_data = sample_data.dropna()\n",
    "train_data[[\"y\"]] = np.where(train_data[[\"y\"]]==\"Approve\",1,0)\n",
    "cat_x = pd.get_dummies(train_data[[\"x\"]])\n",
    "train_data.insert(0,\"Intercept\",1.0)\n",
    "y = train_data[\"y\"]"
   ],
   "metadata": {
    "collapsed": false
   }
  },
  {
   "cell_type": "code",
   "execution_count": 19,
   "outputs": [
    {
     "data": {
      "text/plain": "0      1\n1      1\n2      1\n3      0\n4      1\n      ..\n835    0\n836    1\n837    0\n838    0\n839    0\nName: y, Length: 840, dtype: int32"
     },
     "execution_count": 19,
     "metadata": {},
     "output_type": "execute_result"
    }
   ],
   "source": [
    "y"
   ],
   "metadata": {
    "collapsed": false
   }
  },
  {
   "cell_type": "code",
   "execution_count": 22,
   "outputs": [
    {
     "name": "stdout",
     "output_type": "stream",
     "text": [
      "LLK = -72.4388\n"
     ]
    }
   ],
   "source": [
    "X = train_data[[\"Intercept\"]].join(cat_x)\n",
    "result = Regression.BinaryLogisticRegression(X,y)\n",
    "print(\"LLK = \" + str(round(result[3],4)))"
   ],
   "metadata": {
    "collapsed": false
   }
  }
 ],
 "metadata": {
  "kernelspec": {
   "display_name": "Python 3",
   "language": "python",
   "name": "python3"
  },
  "language_info": {
   "codemirror_mode": {
    "name": "ipython",
    "version": 2
   },
   "file_extension": ".py",
   "mimetype": "text/x-python",
   "name": "python",
   "nbconvert_exporter": "python",
   "pygments_lexer": "ipython2",
   "version": "2.7.6"
  }
 },
 "nbformat": 4,
 "nbformat_minor": 0
}
