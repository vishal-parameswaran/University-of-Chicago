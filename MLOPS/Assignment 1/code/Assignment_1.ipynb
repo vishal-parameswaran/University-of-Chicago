{
  "cells": [
    {
      "cell_type": "markdown",
      "metadata": {
        "id": "DC-ACA3e_my3"
      },
      "source": [
        "# Assignment 1\n",
        "## Team : Tensor Tamers\n",
        "### Members: Dharmi Gala | Naman | Kshitij | Vishal Parameswaran"
      ]
    },
    {
      "cell_type": "markdown",
      "metadata": {
        "id": "yBpdglkZ_my7"
      },
      "source": [
        "Mandatory Installations\n",
        "\n",
        "Using LakeFs client v0.113.0.1 to match lakeFS server 0.113.0"
      ]
    },
    {
      "cell_type": "code",
      "execution_count": 33,
      "metadata": {
        "colab": {
          "base_uri": "https://localhost:8080/"
        },
        "id": "hBTvogiy_my8",
        "outputId": "c31f07d0-97bc-490a-92ed-89b9de033108"
      },
      "outputs": [],
      "source": [
        "# %pip install 'lakefs-client==0.113.0.1' -q\n",
        "# %pip install \"tensorflow==2.14\" -q\n",
        "# %pip install \"tensorflow-privacy\" -q"
      ]
    },
    {
      "cell_type": "code",
      "execution_count": 34,
      "metadata": {
        "id": "XVOAzqpD_my9"
      },
      "outputs": [],
      "source": [
        "import pandas as pd\n",
        "import numpy as np\n",
        "import configparser\n",
        "import seaborn as sns\n",
        "import matplotlib.pyplot as plt\n",
        "\n",
        "#LakeFS Imports\n",
        "import lakefs_client\n",
        "from lakefs_client import models\n",
        "from lakefs_client.client import LakeFSClient\n",
        "from lakefs_client.api import actions_api"
      ]
    },
    {
      "cell_type": "code",
      "execution_count": 35,
      "metadata": {
        "id": "Yd-35umu_my9"
      },
      "outputs": [],
      "source": [
        "config = configparser.ConfigParser()\n",
        "config.read('CONFIG/config.ini')\n",
        "key = config['LAKEFS']['key']\n",
        "secret = config['LAKEFS']['secret']"
      ]
    },
    {
      "cell_type": "markdown",
      "metadata": {
        "id": "TRt2oPOv_my-"
      },
      "source": [
        "Creating the LakeFS client and connecting to server"
      ]
    },
    {
      "cell_type": "code",
      "execution_count": 36,
      "metadata": {
        "id": "Z9DqdguQ_my-"
      },
      "outputs": [],
      "source": [
        "lakefs_config = lakefs_client.Configuration()\n",
        "lakefs_config.username = key\n",
        "lakefs_config.password = secret\n",
        "lakefs_config.host = '127.0.0.1:8000'\n",
        "\n",
        "lakefs = LakeFSClient(lakefs_config)"
      ]
    },
    {
      "cell_type": "markdown",
      "metadata": {
        "id": "KcUP2jl0_my-"
      },
      "source": [
        "Lets test the connection"
      ]
    },
    {
      "cell_type": "code",
      "execution_count": 37,
      "metadata": {
        "colab": {
          "base_uri": "https://localhost:8080/"
        },
        "id": "t52nnHrL_my_",
        "outputId": "c1a4536f-80e2-4013-f223-bb0b3ab1ee1b"
      },
      "outputs": [
        {
          "data": {
            "text/plain": [
              "{'pagination': {'has_more': False,\n",
              "                'max_per_page': 1000,\n",
              "                'next_offset': '',\n",
              "                'results': 0},\n",
              " 'results': []}"
            ]
          },
          "execution_count": 37,
          "metadata": {},
          "output_type": "execute_result"
        }
      ],
      "source": [
        "lakefs.repositories.list_repositories()"
      ]
    },
    {
      "cell_type": "markdown",
      "metadata": {
        "id": "Fz6CDlOq_my_"
      },
      "source": [
        "Lets make a repository called mlops-tensor-tamers to track our data."
      ]
    },
    {
      "cell_type": "code",
      "execution_count": 38,
      "metadata": {
        "id": "321Rqodg_mzA"
      },
      "outputs": [],
      "source": [
        "repo = 'mlops-tensor-tamers'\n",
        "branch = 'main'\n",
        "fileName = \"athletes.csv\"\n",
        "filePath = \"../data/athletes.csv\""
      ]
    },
    {
      "cell_type": "code",
      "execution_count": 39,
      "metadata": {
        "colab": {
          "base_uri": "https://localhost:8080/"
        },
        "id": "k5GG8Jea_mzA",
        "outputId": "5886e523-745a-4485-a884-37eb22681fcf"
      },
      "outputs": [
        {
          "data": {
            "text/plain": [
              "{'creation_date': 1697706032,\n",
              " 'default_branch': 'main',\n",
              " 'id': 'mlops-tensor-tamers',\n",
              " 'storage_namespace': 'local://'}"
            ]
          },
          "execution_count": 39,
          "metadata": {},
          "output_type": "execute_result"
        }
      ],
      "source": [
        "repo = models.RepositoryCreation(name=repo, storage_namespace='local://', default_branch=branch)\n",
        "lakefs.repositories_api.create_repository(repo)"
      ]
    },
    {
      "cell_type": "code",
      "execution_count": 40,
      "metadata": {
        "id": "MqY75VfQ_mzA"
      },
      "outputs": [],
      "source": [
        "storage_namespace = repo.storage_namespace\n",
        "repo_id = repo.name\n",
        "branch = repo.default_branch"
      ]
    },
    {
      "cell_type": "markdown",
      "metadata": {
        "id": "qwJAt7WW_mzA"
      },
      "source": [
        "Let us upload our data to lakefs"
      ]
    },
    {
      "cell_type": "code",
      "execution_count": 41,
      "metadata": {
        "colab": {
          "base_uri": "https://localhost:8080/"
        },
        "id": "fsxOfBCi_mzB",
        "outputId": "c8d37462-43ef-49ce-f7bc-e4f904139f63"
      },
      "outputs": [
        {
          "data": {
            "text/plain": [
              "{'checksum': 'ade8057a9ad4350dfade9180f021a96d',\n",
              " 'content_type': 'application/vnd.ms-excel',\n",
              " 'mtime': 1697706034,\n",
              " 'path': 'data/athletes.csv',\n",
              " 'path_type': 'object',\n",
              " 'physical_address': 'local:///home/lakefs/lakefs/data/block/data/gkf160nnjpms739saf1g/ckof0cfnjpms739saf2g',\n",
              " 'size_bytes': 71546909}"
            ]
          },
          "execution_count": 41,
          "metadata": {},
          "output_type": "execute_result"
        }
      ],
      "source": [
        "contentToUpload = open(f\"{filePath}\", 'rb')\n",
        "lakefs.objects.upload_object(repository=repo_id, branch=branch, path=f'data/{fileName}', content=contentToUpload)"
      ]
    },
    {
      "cell_type": "markdown",
      "metadata": {
        "id": "It3iWlSr_mzB"
      },
      "source": [
        "Lets look at our diffs"
      ]
    },
    {
      "cell_type": "code",
      "execution_count": 42,
      "metadata": {
        "colab": {
          "base_uri": "https://localhost:8080/"
        },
        "id": "Pag-CraV_mzB",
        "outputId": "4b87699c-a829-4083-cb6a-b05376c11cdb"
      },
      "outputs": [
        {
          "data": {
            "text/plain": [
              "[{'path': 'data/athletes.csv',\n",
              "  'path_type': 'object',\n",
              "  'size_bytes': 71546909,\n",
              "  'type': 'added'}]"
            ]
          },
          "execution_count": 42,
          "metadata": {},
          "output_type": "execute_result"
        }
      ],
      "source": [
        "lakefs.branches.diff_branch(repository=repo_id, branch=branch).results"
      ]
    },
    {
      "cell_type": "markdown",
      "metadata": {
        "id": "kFy5Hy3U_mzB"
      },
      "source": [
        "Lets commit our data to the repository"
      ]
    },
    {
      "cell_type": "code",
      "execution_count": 43,
      "metadata": {
        "colab": {
          "base_uri": "https://localhost:8080/"
        },
        "id": "JYxBX1NX_mzB",
        "outputId": "8aa9591a-969a-44ec-ec33-514d08341738"
      },
      "outputs": [
        {
          "data": {
            "text/plain": [
              "{'committer': 'quickstart',\n",
              " 'creation_date': 1697706034,\n",
              " 'id': '310d2ab981e87705d1db36a70329c43b22c6659db1a5501c96423e33f6fd22d2',\n",
              " 'message': 'Added Athletes.csv | Version: 1',\n",
              " 'meta_range_id': '',\n",
              " 'metadata': {'using': 'python_api'},\n",
              " 'parents': ['b98c5625ebac43870103451c1f3b6ea1332ecffa360491b21af0b365ce2683cd']}"
            ]
          },
          "execution_count": 43,
          "metadata": {},
          "output_type": "execute_result"
        }
      ],
      "source": [
        "lakefs.commits.commit(\n",
        "    repository=repo_id,\n",
        "    branch=branch,\n",
        "    commit_creation=models.CommitCreation(message='Added Athletes.csv | Version: 1', metadata={'using': 'python_api'}))"
      ]
    },
    {
      "cell_type": "markdown",
      "metadata": {
        "id": "5crq9d3M_mzC"
      },
      "source": [
        "Lets use the main branch to store the original code. We can make newer branches when we make changes. As we will have to track commit ID's to track changes in our code, it makes more sense to create branches when we make changes"
      ]
    },
    {
      "cell_type": "markdown",
      "metadata": {
        "id": "T2vTpWjO_mzC"
      },
      "source": [
        "Lets read from LakeFs | This is version 1 of the data"
      ]
    },
    {
      "cell_type": "code",
      "execution_count": 44,
      "metadata": {
        "colab": {
          "base_uri": "https://localhost:8080/",
          "height": 620
        },
        "id": "Pm3gabEq_mzC",
        "outputId": "43a583af-b00a-48e1-8463-5d8976f82a0b"
      },
      "outputs": [
        {
          "data": {
            "text/html": [
              "<div>\n",
              "<style scoped>\n",
              "    .dataframe tbody tr th:only-of-type {\n",
              "        vertical-align: middle;\n",
              "    }\n",
              "\n",
              "    .dataframe tbody tr th {\n",
              "        vertical-align: top;\n",
              "    }\n",
              "\n",
              "    .dataframe thead th {\n",
              "        text-align: right;\n",
              "    }\n",
              "</style>\n",
              "<table border=\"1\" class=\"dataframe\">\n",
              "  <thead>\n",
              "    <tr style=\"text-align: right;\">\n",
              "      <th></th>\n",
              "      <th>athlete_id</th>\n",
              "      <th>name</th>\n",
              "      <th>region</th>\n",
              "      <th>team</th>\n",
              "      <th>affiliate</th>\n",
              "      <th>gender</th>\n",
              "      <th>age</th>\n",
              "      <th>height</th>\n",
              "      <th>weight</th>\n",
              "      <th>fran</th>\n",
              "      <th>...</th>\n",
              "      <th>snatch</th>\n",
              "      <th>deadlift</th>\n",
              "      <th>backsq</th>\n",
              "      <th>pullups</th>\n",
              "      <th>eat</th>\n",
              "      <th>train</th>\n",
              "      <th>background</th>\n",
              "      <th>experience</th>\n",
              "      <th>schedule</th>\n",
              "      <th>howlong</th>\n",
              "    </tr>\n",
              "  </thead>\n",
              "  <tbody>\n",
              "    <tr>\n",
              "      <th>0</th>\n",
              "      <td>2554.0</td>\n",
              "      <td>Pj Ablang</td>\n",
              "      <td>South West</td>\n",
              "      <td>Double Edge</td>\n",
              "      <td>Double Edge CrossFit</td>\n",
              "      <td>Male</td>\n",
              "      <td>24.0</td>\n",
              "      <td>70.0</td>\n",
              "      <td>166.0</td>\n",
              "      <td>NaN</td>\n",
              "      <td>...</td>\n",
              "      <td>NaN</td>\n",
              "      <td>400.0</td>\n",
              "      <td>305.0</td>\n",
              "      <td>NaN</td>\n",
              "      <td>NaN</td>\n",
              "      <td>I workout mostly at a CrossFit Affiliate|I hav...</td>\n",
              "      <td>I played youth or high school level sports|I r...</td>\n",
              "      <td>I began CrossFit with a coach (e.g. at an affi...</td>\n",
              "      <td>I do multiple workouts in a day 2x a week|</td>\n",
              "      <td>4+ years|</td>\n",
              "    </tr>\n",
              "    <tr>\n",
              "      <th>1</th>\n",
              "      <td>3517.0</td>\n",
              "      <td>Derek Abdella</td>\n",
              "      <td>NaN</td>\n",
              "      <td>NaN</td>\n",
              "      <td>NaN</td>\n",
              "      <td>Male</td>\n",
              "      <td>42.0</td>\n",
              "      <td>70.0</td>\n",
              "      <td>190.0</td>\n",
              "      <td>NaN</td>\n",
              "      <td>...</td>\n",
              "      <td>NaN</td>\n",
              "      <td>NaN</td>\n",
              "      <td>NaN</td>\n",
              "      <td>NaN</td>\n",
              "      <td>NaN</td>\n",
              "      <td>I have a coach who determines my programming|I...</td>\n",
              "      <td>I played youth or high school level sports|</td>\n",
              "      <td>I began CrossFit with a coach (e.g. at an affi...</td>\n",
              "      <td>I do multiple workouts in a day 2x a week|</td>\n",
              "      <td>4+ years|</td>\n",
              "    </tr>\n",
              "    <tr>\n",
              "      <th>2</th>\n",
              "      <td>4691.0</td>\n",
              "      <td>NaN</td>\n",
              "      <td>NaN</td>\n",
              "      <td>NaN</td>\n",
              "      <td>NaN</td>\n",
              "      <td>NaN</td>\n",
              "      <td>NaN</td>\n",
              "      <td>NaN</td>\n",
              "      <td>NaN</td>\n",
              "      <td>NaN</td>\n",
              "      <td>...</td>\n",
              "      <td>NaN</td>\n",
              "      <td>NaN</td>\n",
              "      <td>NaN</td>\n",
              "      <td>NaN</td>\n",
              "      <td>NaN</td>\n",
              "      <td>NaN</td>\n",
              "      <td>NaN</td>\n",
              "      <td>NaN</td>\n",
              "      <td>NaN</td>\n",
              "      <td>NaN</td>\n",
              "    </tr>\n",
              "    <tr>\n",
              "      <th>3</th>\n",
              "      <td>5164.0</td>\n",
              "      <td>Abo Brandon</td>\n",
              "      <td>Southern California</td>\n",
              "      <td>LAX CrossFit</td>\n",
              "      <td>LAX CrossFit</td>\n",
              "      <td>Male</td>\n",
              "      <td>40.0</td>\n",
              "      <td>67.0</td>\n",
              "      <td>NaN</td>\n",
              "      <td>211.0</td>\n",
              "      <td>...</td>\n",
              "      <td>200.0</td>\n",
              "      <td>375.0</td>\n",
              "      <td>325.0</td>\n",
              "      <td>25.0</td>\n",
              "      <td>I eat 1-3 full cheat meals per week|</td>\n",
              "      <td>I workout mostly at a CrossFit Affiliate|I hav...</td>\n",
              "      <td>I played youth or high school level sports|</td>\n",
              "      <td>I began CrossFit by trying it alone (without a...</td>\n",
              "      <td>I usually only do 1 workout a day|</td>\n",
              "      <td>4+ years|</td>\n",
              "    </tr>\n",
              "    <tr>\n",
              "      <th>4</th>\n",
              "      <td>5286.0</td>\n",
              "      <td>Bryce Abbey</td>\n",
              "      <td>NaN</td>\n",
              "      <td>NaN</td>\n",
              "      <td>NaN</td>\n",
              "      <td>Male</td>\n",
              "      <td>32.0</td>\n",
              "      <td>65.0</td>\n",
              "      <td>149.0</td>\n",
              "      <td>206.0</td>\n",
              "      <td>...</td>\n",
              "      <td>150.0</td>\n",
              "      <td>NaN</td>\n",
              "      <td>325.0</td>\n",
              "      <td>50.0</td>\n",
              "      <td>I eat quality foods but don't measure the amount|</td>\n",
              "      <td>I workout mostly at a CrossFit Affiliate|I inc...</td>\n",
              "      <td>I played college sports|</td>\n",
              "      <td>I began CrossFit by trying it alone (without a...</td>\n",
              "      <td>I usually only do 1 workout a day|I strictly s...</td>\n",
              "      <td>1-2 years|</td>\n",
              "    </tr>\n",
              "  </tbody>\n",
              "</table>\n",
              "<p>5 rows × 27 columns</p>\n",
              "</div>"
            ],
            "text/plain": [
              "   athlete_id           name               region          team  \\\n",
              "0      2554.0      Pj Ablang           South West   Double Edge   \n",
              "1      3517.0  Derek Abdella                  NaN           NaN   \n",
              "2      4691.0            NaN                  NaN           NaN   \n",
              "3      5164.0    Abo Brandon  Southern California  LAX CrossFit   \n",
              "4      5286.0    Bryce Abbey                  NaN           NaN   \n",
              "\n",
              "              affiliate gender   age  height  weight   fran  ...  snatch  \\\n",
              "0  Double Edge CrossFit   Male  24.0    70.0   166.0    NaN  ...     NaN   \n",
              "1                   NaN   Male  42.0    70.0   190.0    NaN  ...     NaN   \n",
              "2                   NaN    NaN   NaN     NaN     NaN    NaN  ...     NaN   \n",
              "3          LAX CrossFit   Male  40.0    67.0     NaN  211.0  ...   200.0   \n",
              "4                   NaN   Male  32.0    65.0   149.0  206.0  ...   150.0   \n",
              "\n",
              "   deadlift  backsq  pullups  \\\n",
              "0     400.0   305.0      NaN   \n",
              "1       NaN     NaN      NaN   \n",
              "2       NaN     NaN      NaN   \n",
              "3     375.0   325.0     25.0   \n",
              "4       NaN   325.0     50.0   \n",
              "\n",
              "                                                 eat  \\\n",
              "0                                                NaN   \n",
              "1                                                NaN   \n",
              "2                                                NaN   \n",
              "3               I eat 1-3 full cheat meals per week|   \n",
              "4  I eat quality foods but don't measure the amount|   \n",
              "\n",
              "                                               train  \\\n",
              "0  I workout mostly at a CrossFit Affiliate|I hav...   \n",
              "1  I have a coach who determines my programming|I...   \n",
              "2                                                NaN   \n",
              "3  I workout mostly at a CrossFit Affiliate|I hav...   \n",
              "4  I workout mostly at a CrossFit Affiliate|I inc...   \n",
              "\n",
              "                                          background  \\\n",
              "0  I played youth or high school level sports|I r...   \n",
              "1        I played youth or high school level sports|   \n",
              "2                                                NaN   \n",
              "3        I played youth or high school level sports|   \n",
              "4                           I played college sports|   \n",
              "\n",
              "                                          experience  \\\n",
              "0  I began CrossFit with a coach (e.g. at an affi...   \n",
              "1  I began CrossFit with a coach (e.g. at an affi...   \n",
              "2                                                NaN   \n",
              "3  I began CrossFit by trying it alone (without a...   \n",
              "4  I began CrossFit by trying it alone (without a...   \n",
              "\n",
              "                                            schedule     howlong  \n",
              "0         I do multiple workouts in a day 2x a week|   4+ years|  \n",
              "1         I do multiple workouts in a day 2x a week|   4+ years|  \n",
              "2                                                NaN         NaN  \n",
              "3                 I usually only do 1 workout a day|   4+ years|  \n",
              "4  I usually only do 1 workout a day|I strictly s...  1-2 years|  \n",
              "\n",
              "[5 rows x 27 columns]"
            ]
          },
          "execution_count": 44,
          "metadata": {},
          "output_type": "execute_result"
        }
      ],
      "source": [
        "data = lakefs.objects.get_object(repository=repo_id, ref=branch, path=f'data/{fileName}')\n",
        "df = pd.read_csv(data)\n",
        "df.head()"
      ]
    },
    {
      "cell_type": "markdown",
      "metadata": {
        "id": "fDlJ-ODD_mzC"
      },
      "source": [
        "## EDA V1\n",
        "\n",
        "Lets explore the data."
      ]
    },
    {
      "cell_type": "code",
      "execution_count": 45,
      "metadata": {
        "colab": {
          "base_uri": "https://localhost:8080/"
        },
        "id": "WGm4z6AV_mzC",
        "outputId": "6ac4c611-f29a-4c92-b268-a529eb62f112"
      },
      "outputs": [
        {
          "data": {
            "text/plain": [
              "Index(['athlete_id', 'name', 'region', 'team', 'affiliate', 'gender', 'age',\n",
              "       'height', 'weight', 'fran', 'helen', 'grace', 'filthy50', 'fgonebad',\n",
              "       'run400', 'run5k', 'candj', 'snatch', 'deadlift', 'backsq', 'pullups',\n",
              "       'eat', 'train', 'background', 'experience', 'schedule', 'howlong'],\n",
              "      dtype='object')"
            ]
          },
          "execution_count": 45,
          "metadata": {},
          "output_type": "execute_result"
        }
      ],
      "source": [
        "df.columns"
      ]
    },
    {
      "cell_type": "code",
      "execution_count": 46,
      "metadata": {
        "colab": {
          "base_uri": "https://localhost:8080/",
          "height": 320
        },
        "id": "nIifXCHh_mzD",
        "outputId": "211fcf3b-b571-445a-bbf3-50a9632f89cb"
      },
      "outputs": [
        {
          "data": {
            "text/html": [
              "<div>\n",
              "<style scoped>\n",
              "    .dataframe tbody tr th:only-of-type {\n",
              "        vertical-align: middle;\n",
              "    }\n",
              "\n",
              "    .dataframe tbody tr th {\n",
              "        vertical-align: top;\n",
              "    }\n",
              "\n",
              "    .dataframe thead th {\n",
              "        text-align: right;\n",
              "    }\n",
              "</style>\n",
              "<table border=\"1\" class=\"dataframe\">\n",
              "  <thead>\n",
              "    <tr style=\"text-align: right;\">\n",
              "      <th></th>\n",
              "      <th>athlete_id</th>\n",
              "      <th>age</th>\n",
              "      <th>height</th>\n",
              "      <th>weight</th>\n",
              "      <th>fran</th>\n",
              "      <th>helen</th>\n",
              "      <th>grace</th>\n",
              "      <th>filthy50</th>\n",
              "      <th>fgonebad</th>\n",
              "      <th>run400</th>\n",
              "      <th>run5k</th>\n",
              "      <th>candj</th>\n",
              "      <th>snatch</th>\n",
              "      <th>deadlift</th>\n",
              "      <th>backsq</th>\n",
              "      <th>pullups</th>\n",
              "    </tr>\n",
              "  </thead>\n",
              "  <tbody>\n",
              "    <tr>\n",
              "      <th>count</th>\n",
              "      <td>423003.000000</td>\n",
              "      <td>331110.000000</td>\n",
              "      <td>1.598690e+05</td>\n",
              "      <td>229890.000000</td>\n",
              "      <td>5.542600e+04</td>\n",
              "      <td>3.027900e+04</td>\n",
              "      <td>4.074500e+04</td>\n",
              "      <td>1.935900e+04</td>\n",
              "      <td>2.973800e+04</td>\n",
              "      <td>2.224600e+04</td>\n",
              "      <td>3.609700e+04</td>\n",
              "      <td>1.044350e+05</td>\n",
              "      <td>9.728000e+04</td>\n",
              "      <td>1.153230e+05</td>\n",
              "      <td>1.105170e+05</td>\n",
              "      <td>5.060800e+04</td>\n",
              "    </tr>\n",
              "    <tr>\n",
              "      <th>mean</th>\n",
              "      <td>292748.166538</td>\n",
              "      <td>32.516750</td>\n",
              "      <td>1.206217e+02</td>\n",
              "      <td>170.896137</td>\n",
              "      <td>9.886691e+02</td>\n",
              "      <td>1.207950e+03</td>\n",
              "      <td>5.766025e+02</td>\n",
              "      <td>2.127863e+03</td>\n",
              "      <td>1.472252e+03</td>\n",
              "      <td>5.241279e+02</td>\n",
              "      <td>3.411464e+03</td>\n",
              "      <td>2.709107e+02</td>\n",
              "      <td>2.424957e+02</td>\n",
              "      <td>6.970503e+02</td>\n",
              "      <td>5.852109e+02</td>\n",
              "      <td>4.269613e+04</td>\n",
              "    </tr>\n",
              "    <tr>\n",
              "      <th>std</th>\n",
              "      <td>184969.660327</td>\n",
              "      <td>7.730671</td>\n",
              "      <td>2.097995e+04</td>\n",
              "      <td>58.379799</td>\n",
              "      <td>7.200430e+04</td>\n",
              "      <td>6.824091e+04</td>\n",
              "      <td>4.891145e+04</td>\n",
              "      <td>6.055021e+04</td>\n",
              "      <td>9.762688e+04</td>\n",
              "      <td>5.628804e+04</td>\n",
              "      <td>1.251980e+05</td>\n",
              "      <td>2.596882e+04</td>\n",
              "      <td>2.708942e+04</td>\n",
              "      <td>5.523235e+04</td>\n",
              "      <td>5.052976e+04</td>\n",
              "      <td>9.546078e+06</td>\n",
              "    </tr>\n",
              "    <tr>\n",
              "      <th>min</th>\n",
              "      <td>82.000000</td>\n",
              "      <td>13.000000</td>\n",
              "      <td>0.000000e+00</td>\n",
              "      <td>1.000000</td>\n",
              "      <td>1.000000e+00</td>\n",
              "      <td>1.000000e+00</td>\n",
              "      <td>-6.000000e+01</td>\n",
              "      <td>1.000000e+00</td>\n",
              "      <td>0.000000e+00</td>\n",
              "      <td>1.000000e+00</td>\n",
              "      <td>1.000000e+00</td>\n",
              "      <td>-4.500000e+01</td>\n",
              "      <td>0.000000e+00</td>\n",
              "      <td>-5.000000e+02</td>\n",
              "      <td>-7.000000e+00</td>\n",
              "      <td>-6.000000e+00</td>\n",
              "    </tr>\n",
              "    <tr>\n",
              "      <th>25%</th>\n",
              "      <td>135091.500000</td>\n",
              "      <td>27.000000</td>\n",
              "      <td>6.600000e+01</td>\n",
              "      <td>145.000000</td>\n",
              "      <td>2.150000e+02</td>\n",
              "      <td>5.250000e+02</td>\n",
              "      <td>1.490000e+02</td>\n",
              "      <td>1.308000e+03</td>\n",
              "      <td>2.400000e+02</td>\n",
              "      <td>6.200000e+01</td>\n",
              "      <td>1.242000e+03</td>\n",
              "      <td>1.400000e+02</td>\n",
              "      <td>1.050000e+02</td>\n",
              "      <td>2.550000e+02</td>\n",
              "      <td>2.050000e+02</td>\n",
              "      <td>1.500000e+01</td>\n",
              "    </tr>\n",
              "    <tr>\n",
              "      <th>50%</th>\n",
              "      <td>275839.000000</td>\n",
              "      <td>31.000000</td>\n",
              "      <td>6.900000e+01</td>\n",
              "      <td>170.000000</td>\n",
              "      <td>2.900000e+02</td>\n",
              "      <td>5.950000e+02</td>\n",
              "      <td>1.930000e+02</td>\n",
              "      <td>1.550000e+03</td>\n",
              "      <td>2.940000e+02</td>\n",
              "      <td>7.100000e+01</td>\n",
              "      <td>1.380000e+03</td>\n",
              "      <td>1.950000e+02</td>\n",
              "      <td>1.450000e+02</td>\n",
              "      <td>3.450000e+02</td>\n",
              "      <td>2.750000e+02</td>\n",
              "      <td>2.700000e+01</td>\n",
              "    </tr>\n",
              "    <tr>\n",
              "      <th>75%</th>\n",
              "      <td>473188.000000</td>\n",
              "      <td>37.000000</td>\n",
              "      <td>7.200000e+01</td>\n",
              "      <td>192.000000</td>\n",
              "      <td>3.920000e+02</td>\n",
              "      <td>6.940000e+02</td>\n",
              "      <td>2.620000e+02</td>\n",
              "      <td>1.809000e+03</td>\n",
              "      <td>3.360000e+02</td>\n",
              "      <td>8.400000e+01</td>\n",
              "      <td>1.560000e+03</td>\n",
              "      <td>2.350000e+02</td>\n",
              "      <td>1.850000e+02</td>\n",
              "      <td>4.150000e+02</td>\n",
              "      <td>3.350000e+02</td>\n",
              "      <td>3.900000e+01</td>\n",
              "    </tr>\n",
              "    <tr>\n",
              "      <th>max</th>\n",
              "      <td>633083.000000</td>\n",
              "      <td>125.000000</td>\n",
              "      <td>8.388607e+06</td>\n",
              "      <td>20175.000000</td>\n",
              "      <td>8.388607e+06</td>\n",
              "      <td>8.388607e+06</td>\n",
              "      <td>8.388607e+06</td>\n",
              "      <td>8.388607e+06</td>\n",
              "      <td>8.388607e+06</td>\n",
              "      <td>8.388607e+06</td>\n",
              "      <td>8.388607e+06</td>\n",
              "      <td>8.388607e+06</td>\n",
              "      <td>8.388607e+06</td>\n",
              "      <td>8.388607e+06</td>\n",
              "      <td>8.388607e+06</td>\n",
              "      <td>2.147484e+09</td>\n",
              "    </tr>\n",
              "  </tbody>\n",
              "</table>\n",
              "</div>"
            ],
            "text/plain": [
              "          athlete_id            age        height         weight  \\\n",
              "count  423003.000000  331110.000000  1.598690e+05  229890.000000   \n",
              "mean   292748.166538      32.516750  1.206217e+02     170.896137   \n",
              "std    184969.660327       7.730671  2.097995e+04      58.379799   \n",
              "min        82.000000      13.000000  0.000000e+00       1.000000   \n",
              "25%    135091.500000      27.000000  6.600000e+01     145.000000   \n",
              "50%    275839.000000      31.000000  6.900000e+01     170.000000   \n",
              "75%    473188.000000      37.000000  7.200000e+01     192.000000   \n",
              "max    633083.000000     125.000000  8.388607e+06   20175.000000   \n",
              "\n",
              "               fran         helen         grace      filthy50      fgonebad  \\\n",
              "count  5.542600e+04  3.027900e+04  4.074500e+04  1.935900e+04  2.973800e+04   \n",
              "mean   9.886691e+02  1.207950e+03  5.766025e+02  2.127863e+03  1.472252e+03   \n",
              "std    7.200430e+04  6.824091e+04  4.891145e+04  6.055021e+04  9.762688e+04   \n",
              "min    1.000000e+00  1.000000e+00 -6.000000e+01  1.000000e+00  0.000000e+00   \n",
              "25%    2.150000e+02  5.250000e+02  1.490000e+02  1.308000e+03  2.400000e+02   \n",
              "50%    2.900000e+02  5.950000e+02  1.930000e+02  1.550000e+03  2.940000e+02   \n",
              "75%    3.920000e+02  6.940000e+02  2.620000e+02  1.809000e+03  3.360000e+02   \n",
              "max    8.388607e+06  8.388607e+06  8.388607e+06  8.388607e+06  8.388607e+06   \n",
              "\n",
              "             run400         run5k         candj        snatch      deadlift  \\\n",
              "count  2.224600e+04  3.609700e+04  1.044350e+05  9.728000e+04  1.153230e+05   \n",
              "mean   5.241279e+02  3.411464e+03  2.709107e+02  2.424957e+02  6.970503e+02   \n",
              "std    5.628804e+04  1.251980e+05  2.596882e+04  2.708942e+04  5.523235e+04   \n",
              "min    1.000000e+00  1.000000e+00 -4.500000e+01  0.000000e+00 -5.000000e+02   \n",
              "25%    6.200000e+01  1.242000e+03  1.400000e+02  1.050000e+02  2.550000e+02   \n",
              "50%    7.100000e+01  1.380000e+03  1.950000e+02  1.450000e+02  3.450000e+02   \n",
              "75%    8.400000e+01  1.560000e+03  2.350000e+02  1.850000e+02  4.150000e+02   \n",
              "max    8.388607e+06  8.388607e+06  8.388607e+06  8.388607e+06  8.388607e+06   \n",
              "\n",
              "             backsq       pullups  \n",
              "count  1.105170e+05  5.060800e+04  \n",
              "mean   5.852109e+02  4.269613e+04  \n",
              "std    5.052976e+04  9.546078e+06  \n",
              "min   -7.000000e+00 -6.000000e+00  \n",
              "25%    2.050000e+02  1.500000e+01  \n",
              "50%    2.750000e+02  2.700000e+01  \n",
              "75%    3.350000e+02  3.900000e+01  \n",
              "max    8.388607e+06  2.147484e+09  "
            ]
          },
          "execution_count": 46,
          "metadata": {},
          "output_type": "execute_result"
        }
      ],
      "source": [
        "df.describe()"
      ]
    },
    {
      "cell_type": "markdown",
      "metadata": {
        "id": "sTJILZqL_mzD"
      },
      "source": [
        "Lets get columns that are non number."
      ]
    },
    {
      "cell_type": "code",
      "execution_count": 47,
      "metadata": {
        "colab": {
          "base_uri": "https://localhost:8080/",
          "height": 979
        },
        "id": "Yi1N1zyT_mzD",
        "outputId": "968e9948-fbde-4602-96df-20f440429f09"
      },
      "outputs": [
        {
          "data": {
            "text/html": [
              "<div>\n",
              "<style scoped>\n",
              "    .dataframe tbody tr th:only-of-type {\n",
              "        vertical-align: middle;\n",
              "    }\n",
              "\n",
              "    .dataframe tbody tr th {\n",
              "        vertical-align: top;\n",
              "    }\n",
              "\n",
              "    .dataframe thead th {\n",
              "        text-align: right;\n",
              "    }\n",
              "</style>\n",
              "<table border=\"1\" class=\"dataframe\">\n",
              "  <thead>\n",
              "    <tr style=\"text-align: right;\">\n",
              "      <th></th>\n",
              "      <th>name</th>\n",
              "      <th>region</th>\n",
              "      <th>team</th>\n",
              "      <th>affiliate</th>\n",
              "      <th>gender</th>\n",
              "      <th>eat</th>\n",
              "      <th>train</th>\n",
              "      <th>background</th>\n",
              "      <th>experience</th>\n",
              "      <th>schedule</th>\n",
              "      <th>howlong</th>\n",
              "    </tr>\n",
              "  </thead>\n",
              "  <tbody>\n",
              "    <tr>\n",
              "      <th>0</th>\n",
              "      <td>Pj Ablang</td>\n",
              "      <td>South West</td>\n",
              "      <td>Double Edge</td>\n",
              "      <td>Double Edge CrossFit</td>\n",
              "      <td>Male</td>\n",
              "      <td>NaN</td>\n",
              "      <td>I workout mostly at a CrossFit Affiliate|I hav...</td>\n",
              "      <td>I played youth or high school level sports|I r...</td>\n",
              "      <td>I began CrossFit with a coach (e.g. at an affi...</td>\n",
              "      <td>I do multiple workouts in a day 2x a week|</td>\n",
              "      <td>4+ years|</td>\n",
              "    </tr>\n",
              "    <tr>\n",
              "      <th>1</th>\n",
              "      <td>Derek Abdella</td>\n",
              "      <td>NaN</td>\n",
              "      <td>NaN</td>\n",
              "      <td>NaN</td>\n",
              "      <td>Male</td>\n",
              "      <td>NaN</td>\n",
              "      <td>I have a coach who determines my programming|I...</td>\n",
              "      <td>I played youth or high school level sports|</td>\n",
              "      <td>I began CrossFit with a coach (e.g. at an affi...</td>\n",
              "      <td>I do multiple workouts in a day 2x a week|</td>\n",
              "      <td>4+ years|</td>\n",
              "    </tr>\n",
              "    <tr>\n",
              "      <th>2</th>\n",
              "      <td>NaN</td>\n",
              "      <td>NaN</td>\n",
              "      <td>NaN</td>\n",
              "      <td>NaN</td>\n",
              "      <td>NaN</td>\n",
              "      <td>NaN</td>\n",
              "      <td>NaN</td>\n",
              "      <td>NaN</td>\n",
              "      <td>NaN</td>\n",
              "      <td>NaN</td>\n",
              "      <td>NaN</td>\n",
              "    </tr>\n",
              "    <tr>\n",
              "      <th>3</th>\n",
              "      <td>Abo Brandon</td>\n",
              "      <td>Southern California</td>\n",
              "      <td>LAX CrossFit</td>\n",
              "      <td>LAX CrossFit</td>\n",
              "      <td>Male</td>\n",
              "      <td>I eat 1-3 full cheat meals per week|</td>\n",
              "      <td>I workout mostly at a CrossFit Affiliate|I hav...</td>\n",
              "      <td>I played youth or high school level sports|</td>\n",
              "      <td>I began CrossFit by trying it alone (without a...</td>\n",
              "      <td>I usually only do 1 workout a day|</td>\n",
              "      <td>4+ years|</td>\n",
              "    </tr>\n",
              "    <tr>\n",
              "      <th>4</th>\n",
              "      <td>Bryce Abbey</td>\n",
              "      <td>NaN</td>\n",
              "      <td>NaN</td>\n",
              "      <td>NaN</td>\n",
              "      <td>Male</td>\n",
              "      <td>I eat quality foods but don't measure the amount|</td>\n",
              "      <td>I workout mostly at a CrossFit Affiliate|I inc...</td>\n",
              "      <td>I played college sports|</td>\n",
              "      <td>I began CrossFit by trying it alone (without a...</td>\n",
              "      <td>I usually only do 1 workout a day|I strictly s...</td>\n",
              "      <td>1-2 years|</td>\n",
              "    </tr>\n",
              "    <tr>\n",
              "      <th>...</th>\n",
              "      <td>...</td>\n",
              "      <td>...</td>\n",
              "      <td>...</td>\n",
              "      <td>...</td>\n",
              "      <td>...</td>\n",
              "      <td>...</td>\n",
              "      <td>...</td>\n",
              "      <td>...</td>\n",
              "      <td>...</td>\n",
              "      <td>...</td>\n",
              "      <td>...</td>\n",
              "    </tr>\n",
              "    <tr>\n",
              "      <th>423001</th>\n",
              "      <td>Odo Renata</td>\n",
              "      <td>Latin America</td>\n",
              "      <td>Team Guarujá Inox</td>\n",
              "      <td>CrossFit Guaruja</td>\n",
              "      <td>Female</td>\n",
              "      <td>NaN</td>\n",
              "      <td>NaN</td>\n",
              "      <td>NaN</td>\n",
              "      <td>NaN</td>\n",
              "      <td>NaN</td>\n",
              "      <td>NaN</td>\n",
              "    </tr>\n",
              "    <tr>\n",
              "      <th>423002</th>\n",
              "      <td>Lozzie Trevor</td>\n",
              "      <td>Australia</td>\n",
              "      <td>FBP CrossFit Games Team</td>\n",
              "      <td>FBP CrossFit</td>\n",
              "      <td>Female</td>\n",
              "      <td>NaN</td>\n",
              "      <td>NaN</td>\n",
              "      <td>NaN</td>\n",
              "      <td>NaN</td>\n",
              "      <td>NaN</td>\n",
              "      <td>NaN</td>\n",
              "    </tr>\n",
              "    <tr>\n",
              "      <th>423003</th>\n",
              "      <td>Marisol Smith</td>\n",
              "      <td>North West</td>\n",
              "      <td>CrossFit Oak Harbor</td>\n",
              "      <td>CrossFit Oak Harbor</td>\n",
              "      <td>Female</td>\n",
              "      <td>NaN</td>\n",
              "      <td>NaN</td>\n",
              "      <td>NaN</td>\n",
              "      <td>NaN</td>\n",
              "      <td>NaN</td>\n",
              "      <td>NaN</td>\n",
              "    </tr>\n",
              "    <tr>\n",
              "      <th>423004</th>\n",
              "      <td>Pedrini Morgane</td>\n",
              "      <td>Europe</td>\n",
              "      <td>NaN</td>\n",
              "      <td>CrossFit 67</td>\n",
              "      <td>Female</td>\n",
              "      <td>I eat quality foods but don't measure the amount|</td>\n",
              "      <td>I workout mostly at a CrossFit Affiliate|</td>\n",
              "      <td>NaN</td>\n",
              "      <td>I began CrossFit with a coach (e.g. at an affi...</td>\n",
              "      <td>I usually only do 1 workout a day|I strictly s...</td>\n",
              "      <td>6-12 months|</td>\n",
              "    </tr>\n",
              "    <tr>\n",
              "      <th>423005</th>\n",
              "      <td>Eden Kenny</td>\n",
              "      <td>Northern California</td>\n",
              "      <td>NaN</td>\n",
              "      <td>Contra Costa CrossFit</td>\n",
              "      <td>Female</td>\n",
              "      <td>NaN</td>\n",
              "      <td>NaN</td>\n",
              "      <td>NaN</td>\n",
              "      <td>NaN</td>\n",
              "      <td>NaN</td>\n",
              "      <td>NaN</td>\n",
              "    </tr>\n",
              "  </tbody>\n",
              "</table>\n",
              "<p>423006 rows × 11 columns</p>\n",
              "</div>"
            ],
            "text/plain": [
              "                   name               region                     team  \\\n",
              "0             Pj Ablang           South West              Double Edge   \n",
              "1         Derek Abdella                  NaN                      NaN   \n",
              "2                   NaN                  NaN                      NaN   \n",
              "3           Abo Brandon  Southern California             LAX CrossFit   \n",
              "4           Bryce Abbey                  NaN                      NaN   \n",
              "...                 ...                  ...                      ...   \n",
              "423001       Odo Renata        Latin America        Team Guarujá Inox   \n",
              "423002    Lozzie Trevor            Australia  FBP CrossFit Games Team   \n",
              "423003    Marisol Smith           North West      CrossFit Oak Harbor   \n",
              "423004  Pedrini Morgane               Europe                      NaN   \n",
              "423005       Eden Kenny  Northern California                      NaN   \n",
              "\n",
              "                    affiliate  gender  \\\n",
              "0        Double Edge CrossFit    Male   \n",
              "1                         NaN    Male   \n",
              "2                         NaN     NaN   \n",
              "3                LAX CrossFit    Male   \n",
              "4                         NaN    Male   \n",
              "...                       ...     ...   \n",
              "423001       CrossFit Guaruja  Female   \n",
              "423002           FBP CrossFit  Female   \n",
              "423003    CrossFit Oak Harbor  Female   \n",
              "423004            CrossFit 67  Female   \n",
              "423005  Contra Costa CrossFit  Female   \n",
              "\n",
              "                                                      eat  \\\n",
              "0                                                     NaN   \n",
              "1                                                     NaN   \n",
              "2                                                     NaN   \n",
              "3                    I eat 1-3 full cheat meals per week|   \n",
              "4       I eat quality foods but don't measure the amount|   \n",
              "...                                                   ...   \n",
              "423001                                                NaN   \n",
              "423002                                                NaN   \n",
              "423003                                                NaN   \n",
              "423004  I eat quality foods but don't measure the amount|   \n",
              "423005                                                NaN   \n",
              "\n",
              "                                                    train  \\\n",
              "0       I workout mostly at a CrossFit Affiliate|I hav...   \n",
              "1       I have a coach who determines my programming|I...   \n",
              "2                                                     NaN   \n",
              "3       I workout mostly at a CrossFit Affiliate|I hav...   \n",
              "4       I workout mostly at a CrossFit Affiliate|I inc...   \n",
              "...                                                   ...   \n",
              "423001                                                NaN   \n",
              "423002                                                NaN   \n",
              "423003                                                NaN   \n",
              "423004          I workout mostly at a CrossFit Affiliate|   \n",
              "423005                                                NaN   \n",
              "\n",
              "                                               background  \\\n",
              "0       I played youth or high school level sports|I r...   \n",
              "1             I played youth or high school level sports|   \n",
              "2                                                     NaN   \n",
              "3             I played youth or high school level sports|   \n",
              "4                                I played college sports|   \n",
              "...                                                   ...   \n",
              "423001                                                NaN   \n",
              "423002                                                NaN   \n",
              "423003                                                NaN   \n",
              "423004                                                NaN   \n",
              "423005                                                NaN   \n",
              "\n",
              "                                               experience  \\\n",
              "0       I began CrossFit with a coach (e.g. at an affi...   \n",
              "1       I began CrossFit with a coach (e.g. at an affi...   \n",
              "2                                                     NaN   \n",
              "3       I began CrossFit by trying it alone (without a...   \n",
              "4       I began CrossFit by trying it alone (without a...   \n",
              "...                                                   ...   \n",
              "423001                                                NaN   \n",
              "423002                                                NaN   \n",
              "423003                                                NaN   \n",
              "423004  I began CrossFit with a coach (e.g. at an affi...   \n",
              "423005                                                NaN   \n",
              "\n",
              "                                                 schedule       howlong  \n",
              "0              I do multiple workouts in a day 2x a week|     4+ years|  \n",
              "1              I do multiple workouts in a day 2x a week|     4+ years|  \n",
              "2                                                     NaN           NaN  \n",
              "3                      I usually only do 1 workout a day|     4+ years|  \n",
              "4       I usually only do 1 workout a day|I strictly s...    1-2 years|  \n",
              "...                                                   ...           ...  \n",
              "423001                                                NaN           NaN  \n",
              "423002                                                NaN           NaN  \n",
              "423003                                                NaN           NaN  \n",
              "423004  I usually only do 1 workout a day|I strictly s...  6-12 months|  \n",
              "423005                                                NaN           NaN  \n",
              "\n",
              "[423006 rows x 11 columns]"
            ]
          },
          "execution_count": 47,
          "metadata": {},
          "output_type": "execute_result"
        }
      ],
      "source": [
        "df_num = df.select_dtypes(exclude=[np.number])\n",
        "df_num"
      ]
    },
    {
      "cell_type": "markdown",
      "metadata": {
        "id": "-c08pJ05_mzD"
      },
      "source": [
        "We can see that the name and athlete_id column does not contribute any value to the model and is a breach of PPI, so we will be dropping it."
      ]
    },
    {
      "cell_type": "code",
      "execution_count": 48,
      "metadata": {
        "id": "jfJY0qyk_mzD"
      },
      "outputs": [],
      "source": [
        "df = df.drop(columns=['name','athlete_id'])"
      ]
    },
    {
      "cell_type": "markdown",
      "metadata": {
        "id": "1diqanpj_mzE"
      },
      "source": [
        "Lets take a look at the unique values in the other text columns:"
      ]
    },
    {
      "cell_type": "code",
      "execution_count": 49,
      "metadata": {
        "colab": {
          "base_uri": "https://localhost:8080/"
        },
        "id": "lFOliJpV_mzE",
        "outputId": "f1e38e80-aad9-440f-f57e-d3f368ca1ca7"
      },
      "outputs": [
        {
          "name": "stdout",
          "output_type": "stream",
          "text": [
            "------------------------------------------------------------------------------------------\n",
            "column name: region\n",
            "['South West' nan 'Southern California' 'South Central' 'Central East'\n",
            " 'Europe' 'North East' 'Africa' 'South East' 'Australia'\n",
            " 'Northern California' 'Latin America' 'Canada East' 'North Central'\n",
            " 'North West' 'Mid Atlantic' 'Canada West' 'Asia']\n",
            "Number of unique values:  18\n",
            "------------------------------------------------------------------------------------------\n",
            "column name: team\n",
            "['Double Edge' nan 'LAX CrossFit' ... 'CrossFit AC' 'BLACK SHEEP'\n",
            " 'CrossFit DV8']\n",
            "Number of unique values:  4533\n",
            "------------------------------------------------------------------------------------------\n",
            "column name: affiliate\n",
            "['Double Edge CrossFit' nan 'LAX CrossFit' ... 'Black and Gold CrossFit'\n",
            " 'Reebok CrossFit Gurgaon' 'CrossFit Shardana']\n",
            "Number of unique values:  9779\n",
            "------------------------------------------------------------------------------------------\n",
            "column name: gender\n",
            "['Male' nan 'Female' '--']\n",
            "Number of unique values:  4\n",
            "------------------------------------------------------------------------------------------\n",
            "column name: eat\n",
            "[nan 'I eat 1-3 full cheat meals per week|'\n",
            " \"I eat quality foods but don't measure the amount|\" 'I eat strict Paleo|'\n",
            " \"I eat quality foods but don't measure the amount|I eat 1-3 full cheat meals per week|\"\n",
            " 'I eat whatever is convenient|'\n",
            " \"I eat strict Paleo|I eat quality foods but don't measure the amount|\"\n",
            " 'I eat strict Paleo|I eat 1-3 full cheat meals per week|'\n",
            " \"I eat quality foods but don't measure the amount|I eat whatever is convenient|I eat 1-3 full cheat meals per week|\"\n",
            " \"I eat quality foods but don't measure the amount|I eat whatever is convenient|\"\n",
            " 'I eat whatever is convenient|I eat 1-3 full cheat meals per week|'\n",
            " 'Decline to answer|' 'I weigh and measure my food|'\n",
            " 'I weigh and measure my food|I eat strict Paleo|I eat 1-3 full cheat meals per week|'\n",
            " 'I weigh and measure my food|I eat 1-3 full cheat meals per week|'\n",
            " \"I eat strict Paleo|I eat quality foods but don't measure the amount|I eat 1-3 full cheat meals per week|\"\n",
            " 'I weigh and measure my food|I eat strict Paleo|'\n",
            " \"I weigh and measure my food|I eat quality foods but don't measure the amount|I eat 1-3 full cheat meals per week|\"\n",
            " 'I weigh and measure my food|I eat whatever is convenient|I eat 1-3 full cheat meals per week|'\n",
            " \"I weigh and measure my food|I eat strict Paleo|I eat quality foods but don't measure the amount|I eat whatever is convenient|I eat 1-3 full cheat meals per week|\"\n",
            " \"I weigh and measure my food|I eat quality foods but don't measure the amount|\"\n",
            " 'I eat strict Paleo|I eat whatever is convenient|'\n",
            " \"I eat strict Paleo|I eat quality foods but don't measure the amount|I eat whatever is convenient|\"\n",
            " \"I weigh and measure my food|I eat strict Paleo|I eat quality foods but don't measure the amount|\"\n",
            " \"I weigh and measure my food|I eat quality foods but don't measure the amount|I eat whatever is convenient|I eat 1-3 full cheat meals per week|\"\n",
            " \"I eat quality foods but don't measure the amount|I eat 1-3 full cheat meals per week|Decline to answer|\"\n",
            " \"I eat strict Paleo|I eat quality foods but don't measure the amount|I eat whatever is convenient|I eat 1-3 full cheat meals per week|\"\n",
            " \"I eat quality foods but don't measure the amount|Decline to answer|\"\n",
            " 'I weigh and measure my food|I eat whatever is convenient|'\n",
            " 'I weigh and measure my food|Decline to answer|'\n",
            " 'I weigh and measure my food|I eat strict Paleo|I eat whatever is convenient|I eat 1-3 full cheat meals per week|'\n",
            " \"I weigh and measure my food|I eat strict Paleo|I eat quality foods but don't measure the amount|I eat 1-3 full cheat meals per week|\"\n",
            " \"I eat quality foods but don't measure the amount|I eat whatever is convenient|I eat 1-3 full cheat meals per week|Decline to answer|\"\n",
            " 'I eat whatever is convenient|Decline to answer|'\n",
            " \"I weigh and measure my food|I eat quality foods but don't measure the amount|I eat whatever is convenient|\"\n",
            " 'I eat strict Paleo|I eat whatever is convenient|I eat 1-3 full cheat meals per week|'\n",
            " \"I weigh and measure my food|I eat strict Paleo|I eat quality foods but don't measure the amount|I eat whatever is convenient|I eat 1-3 full cheat meals per week|Decline to answer|\"\n",
            " \"I eat strict Paleo|I eat quality foods but don't measure the amount|I eat 1-3 full cheat meals per week|Decline to answer|\"\n",
            " \"I weigh and measure my food|I eat quality foods but don't measure the amount|Decline to answer|\"\n",
            " 'I eat 1-3 full cheat meals per week|Decline to answer|'\n",
            " 'I weigh and measure my food|I eat strict Paleo|I eat whatever is convenient|'\n",
            " 'I weigh and measure my food|I eat 1-3 full cheat meals per week|Decline to answer|'\n",
            " \"I weigh and measure my food|I eat strict Paleo|I eat quality foods but don't measure the amount|I eat 1-3 full cheat meals per week|Decline to answer|\"\n",
            " \"I eat quality foods but don't measure the amount|I eat whatever is convenient|Decline to answer|\"\n",
            " 'I eat strict Paleo|Decline to answer|'\n",
            " 'I eat strict Paleo|I eat 1-3 full cheat meals per week|Decline to answer|'\n",
            " 'I eat whatever is convenient|I eat 1-3 full cheat meals per week|Decline to answer|'\n",
            " \"I weigh and measure my food|I eat strict Paleo|I eat quality foods but don't measure the amount|I eat whatever is convenient|\"]\n",
            "Number of unique values:  48\n",
            "------------------------------------------------------------------------------------------\n",
            "column name: train\n",
            "['I workout mostly at a CrossFit Affiliate|I have a coach who determines my programming|I record my workouts|'\n",
            " 'I have a coach who determines my programming|I record my workouts|' nan\n",
            " 'I workout mostly at a CrossFit Affiliate|I incorporate CrossFit.com workouts|I write my own programming|I record my workouts|'\n",
            " 'I workout mostly at a CrossFit Affiliate|I record my workouts|'\n",
            " 'I workout mostly at a CrossFit Affiliate|I have a coach who determines my programming|'\n",
            " 'I workout mostly at a CrossFit Affiliate|I write my own programming|I record my workouts|'\n",
            " 'I workout mostly at a CrossFit Affiliate|'\n",
            " 'I workout mostly at a CrossFit Affiliate|I incorporate CrossFit.com workouts|I write my own programming|'\n",
            " 'I workout mostly at a CrossFit Affiliate|I incorporate CrossFit.com workouts|'\n",
            " 'I workout mostly at home, work, or a traditional gym|I incorporate CrossFit.com workouts|I record my workouts|'\n",
            " 'I workout mostly at home, work, or a traditional gym|I incorporate CrossFit.com workouts|I write my own programming|'\n",
            " 'I workout mostly at home, work, or a traditional gym|I have a coach who determines my programming|I record my workouts|'\n",
            " 'I workout mostly at a CrossFit Affiliate|I write my own programming|'\n",
            " 'I workout mostly at a CrossFit Affiliate|I have a coach who determines my programming|I incorporate CrossFit.com workouts|I write my own programming|I record my workouts|'\n",
            " 'I workout mostly at a CrossFit Affiliate|I have a coach who determines my programming|I incorporate CrossFit.com workouts|'\n",
            " 'I workout mostly at home, work, or a traditional gym|I incorporate CrossFit.com workouts|I write my own programming|I record my workouts|'\n",
            " 'I write my own programming|'\n",
            " 'I workout mostly at a CrossFit Affiliate|I workout mostly at home, work, or a traditional gym|I write my own programming|'\n",
            " 'I write my own programming|I record my workouts|'\n",
            " 'I workout mostly at a CrossFit Affiliate|I incorporate CrossFit.com workouts|I record my workouts|'\n",
            " 'I workout mostly at a CrossFit Affiliate|I workout mostly at home, work, or a traditional gym|I incorporate CrossFit.com workouts|I record my workouts|'\n",
            " 'I workout mostly at a CrossFit Affiliate|I workout mostly at home, work, or a traditional gym|'\n",
            " 'I workout mostly at a CrossFit Affiliate|I workout mostly at home, work, or a traditional gym|I write my own programming|I record my workouts|'\n",
            " 'I record my workouts|' 'I have a coach who determines my programming|'\n",
            " 'I workout mostly at a CrossFit Affiliate|I have a coach who determines my programming|I incorporate CrossFit.com workouts|I write my own programming|'\n",
            " 'I workout mostly at a CrossFit Affiliate|I workout mostly at home, work, or a traditional gym|I incorporate CrossFit.com workouts|I write my own programming|I record my workouts|'\n",
            " 'I workout mostly at a CrossFit Affiliate|I have a coach who determines my programming|I write my own programming|I record my workouts|'\n",
            " 'I workout mostly at home, work, or a traditional gym|'\n",
            " 'I workout mostly at a CrossFit Affiliate|I have a coach who determines my programming|I incorporate CrossFit.com workouts|I record my workouts|'\n",
            " 'I workout mostly at a CrossFit Affiliate|I have a coach who determines my programming|I write my own programming|'\n",
            " 'I workout mostly at a CrossFit Affiliate|Decline to answer|'\n",
            " 'I workout mostly at a CrossFit Affiliate|I workout mostly at home, work, or a traditional gym|I have a coach who determines my programming|I incorporate CrossFit.com workouts|I record my workouts|'\n",
            " 'I workout mostly at home, work, or a traditional gym|I record my workouts|'\n",
            " 'I workout mostly at a CrossFit Affiliate|I workout mostly at home, work, or a traditional gym|I have a coach who determines my programming|I write my own programming|'\n",
            " 'Decline to answer|'\n",
            " 'I workout mostly at a CrossFit Affiliate|I workout mostly at home, work, or a traditional gym|I record my workouts|'\n",
            " 'I workout mostly at home, work, or a traditional gym|I write my own programming|I record my workouts|'\n",
            " 'I workout mostly at a CrossFit Affiliate|I workout mostly at home, work, or a traditional gym|I have a coach who determines my programming|I incorporate CrossFit.com workouts|I write my own programming|'\n",
            " 'I have a coach who determines my programming|I write my own programming|I record my workouts|'\n",
            " 'I incorporate CrossFit.com workouts|I write my own programming|'\n",
            " 'I workout mostly at home, work, or a traditional gym|I have a coach who determines my programming|'\n",
            " 'I have a coach who determines my programming|I incorporate CrossFit.com workouts|I write my own programming|I record my workouts|'\n",
            " 'I workout mostly at home, work, or a traditional gym|I have a coach who determines my programming|I write my own programming|'\n",
            " 'I workout mostly at home, work, or a traditional gym|I write my own programming|'\n",
            " 'I incorporate CrossFit.com workouts|I write my own programming|I record my workouts|'\n",
            " 'I workout mostly at home, work, or a traditional gym|I have a coach who determines my programming|I write my own programming|I record my workouts|'\n",
            " 'I workout mostly at home, work, or a traditional gym|I have a coach who determines my programming|I incorporate CrossFit.com workouts|I write my own programming|I record my workouts|'\n",
            " 'I workout mostly at home, work, or a traditional gym|I have a coach who determines my programming|I incorporate CrossFit.com workouts|I write my own programming|'\n",
            " 'I workout mostly at home, work, or a traditional gym|I incorporate CrossFit.com workouts|'\n",
            " 'I workout mostly at a CrossFit Affiliate|I workout mostly at home, work, or a traditional gym|I have a coach who determines my programming|I write my own programming|I record my workouts|'\n",
            " 'I workout mostly at a CrossFit Affiliate|I workout mostly at home, work, or a traditional gym|I have a coach who determines my programming|I record my workouts|'\n",
            " 'I have a coach who determines my programming|I incorporate CrossFit.com workouts|I record my workouts|'\n",
            " 'I incorporate CrossFit.com workouts|I record my workouts|'\n",
            " 'I workout mostly at a CrossFit Affiliate|I workout mostly at home, work, or a traditional gym|I have a coach who determines my programming|I incorporate CrossFit.com workouts|I write my own programming|I record my workouts|'\n",
            " 'I workout mostly at a CrossFit Affiliate|I record my workouts|Decline to answer|'\n",
            " 'I workout mostly at a CrossFit Affiliate|I workout mostly at home, work, or a traditional gym|I incorporate CrossFit.com workouts|'\n",
            " 'I workout mostly at a CrossFit Affiliate|I workout mostly at home, work, or a traditional gym|I have a coach who determines my programming|'\n",
            " 'I workout mostly at home, work, or a traditional gym|I have a coach who determines my programming|I incorporate CrossFit.com workouts|I record my workouts|'\n",
            " 'I have a coach who determines my programming|I incorporate CrossFit.com workouts|I write my own programming|'\n",
            " 'I incorporate CrossFit.com workouts|'\n",
            " 'I have a coach who determines my programming|I write my own programming|'\n",
            " 'I workout mostly at a CrossFit Affiliate|I workout mostly at home, work, or a traditional gym|I incorporate CrossFit.com workouts|I write my own programming|'\n",
            " 'I have a coach who determines my programming|I incorporate CrossFit.com workouts|'\n",
            " 'I workout mostly at home, work, or a traditional gym|Decline to answer|'\n",
            " 'I workout mostly at a CrossFit Affiliate|I workout mostly at home, work, or a traditional gym|Decline to answer|'\n",
            " 'I have a coach who determines my programming|Decline to answer|'\n",
            " 'I workout mostly at home, work, or a traditional gym|I incorporate CrossFit.com workouts|I write my own programming|I record my workouts|Decline to answer|'\n",
            " 'I workout mostly at home, work, or a traditional gym|I have a coach who determines my programming|I incorporate CrossFit.com workouts|'\n",
            " 'I workout mostly at a CrossFit Affiliate|I workout mostly at home, work, or a traditional gym|I have a coach who determines my programming|I incorporate CrossFit.com workouts|'\n",
            " 'I workout mostly at a CrossFit Affiliate|I have a coach who determines my programming|I write my own programming|Decline to answer|'\n",
            " 'I workout mostly at a CrossFit Affiliate|I workout mostly at home, work, or a traditional gym|I have a coach who determines my programming|I incorporate CrossFit.com workouts|I write my own programming|I record my workouts|Decline to answer|'\n",
            " 'I workout mostly at home, work, or a traditional gym|I write my own programming|I record my workouts|Decline to answer|'\n",
            " 'I workout mostly at a CrossFit Affiliate|I have a coach who determines my programming|I incorporate CrossFit.com workouts|I write my own programming|Decline to answer|'\n",
            " 'I workout mostly at a CrossFit Affiliate|I have a coach who determines my programming|Decline to answer|'\n",
            " 'I workout mostly at a CrossFit Affiliate|I write my own programming|Decline to answer|'\n",
            " 'I write my own programming|Decline to answer|'\n",
            " 'I workout mostly at a CrossFit Affiliate|I workout mostly at home, work, or a traditional gym|I write my own programming|I record my workouts|Decline to answer|'\n",
            " 'I workout mostly at home, work, or a traditional gym|I have a coach who determines my programming|I incorporate CrossFit.com workouts|I write my own programming|Decline to answer|'\n",
            " 'I workout mostly at a CrossFit Affiliate|I write my own programming|I record my workouts|Decline to answer|'\n",
            " 'I workout mostly at a CrossFit Affiliate|I have a coach who determines my programming|I record my workouts|Decline to answer|'\n",
            " 'I workout mostly at a CrossFit Affiliate|I workout mostly at home, work, or a traditional gym|I have a coach who determines my programming|I record my workouts|Decline to answer|'\n",
            " 'I workout mostly at a CrossFit Affiliate|I have a coach who determines my programming|I incorporate CrossFit.com workouts|I record my workouts|Decline to answer|']\n",
            "Number of unique values:  84\n",
            "------------------------------------------------------------------------------------------\n",
            "column name: background\n",
            "['I played youth or high school level sports|I regularly play recreational sports|'\n",
            " 'I played youth or high school level sports|' nan\n",
            " 'I played college sports|'\n",
            " 'I have no athletic background besides CrossFit|'\n",
            " 'I played youth or high school level sports|I played college sports|'\n",
            " 'I played youth or high school level sports|I played college sports|I regularly play recreational sports|'\n",
            " 'I regularly play recreational sports|' 'I played professional sports|'\n",
            " 'I played college sports|I regularly play recreational sports|'\n",
            " 'I played youth or high school level sports|I played professional sports|'\n",
            " 'Decline to answer|'\n",
            " 'I played youth or high school level sports|I played college sports|I played professional sports|I regularly play recreational sports|'\n",
            " 'I played college sports|I played professional sports|'\n",
            " 'I played professional sports|I regularly play recreational sports|'\n",
            " 'I have no athletic background besides CrossFit|I played youth or high school level sports|'\n",
            " 'I have no athletic background besides CrossFit|I played college sports|I regularly play recreational sports|'\n",
            " 'I have no athletic background besides CrossFit|I played youth or high school level sports|I regularly play recreational sports|'\n",
            " 'I played youth or high school level sports|I played college sports|I played professional sports|'\n",
            " 'I played youth or high school level sports|I played professional sports|I regularly play recreational sports|'\n",
            " 'I have no athletic background besides CrossFit|I regularly play recreational sports|'\n",
            " 'I played college sports|I played professional sports|I regularly play recreational sports|'\n",
            " 'I have no athletic background besides CrossFit|I played youth or high school level sports|I played college sports|'\n",
            " 'I have no athletic background besides CrossFit|I played college sports|'\n",
            " 'I have no athletic background besides CrossFit|I played youth or high school level sports|I played professional sports|I regularly play recreational sports|'\n",
            " 'I played college sports|Decline to answer|'\n",
            " 'I played youth or high school level sports|Decline to answer|'\n",
            " 'I played youth or high school level sports|I played college sports|Decline to answer|'\n",
            " 'I have no athletic background besides CrossFit|I played professional sports|'\n",
            " 'I have no athletic background besides CrossFit|Decline to answer|'\n",
            " 'I have no athletic background besides CrossFit|I played youth or high school level sports|I played college sports|I played professional sports|I regularly play recreational sports|Decline to answer|'\n",
            " 'I have no athletic background besides CrossFit|I played youth or high school level sports|I played college sports|I regularly play recreational sports|'\n",
            " 'I have no athletic background besides CrossFit|I played youth or high school level sports|I played college sports|I played professional sports|I regularly play recreational sports|'\n",
            " 'I regularly play recreational sports|Decline to answer|'\n",
            " 'I have no athletic background besides CrossFit|I played youth or high school level sports|I played college sports|Decline to answer|'\n",
            " 'I have no athletic background besides CrossFit|I played youth or high school level sports|I played professional sports|'\n",
            " 'I have no athletic background besides CrossFit|I played youth or high school level sports|I played college sports|I played professional sports|'\n",
            " 'I have no athletic background besides CrossFit|I played professional sports|I regularly play recreational sports|'\n",
            " 'I played youth or high school level sports|I regularly play recreational sports|Decline to answer|'\n",
            " 'I have no athletic background besides CrossFit|I played college sports|I played professional sports|'\n",
            " 'I have no athletic background besides CrossFit|I played youth or high school level sports|I regularly play recreational sports|Decline to answer|'\n",
            " 'I have no athletic background besides CrossFit|I played college sports|I played professional sports|I regularly play recreational sports|'\n",
            " 'I have no athletic background besides CrossFit|I played college sports|Decline to answer|'\n",
            " 'I played college sports|I played professional sports|Decline to answer|']\n",
            "Number of unique values:  44\n",
            "------------------------------------------------------------------------------------------\n",
            "column name: experience\n",
            "['I began CrossFit with a coach (e.g. at an affiliate)|I have attended one or more specialty courses|I have had a life changing experience due to CrossFit|'\n",
            " nan\n",
            " 'I began CrossFit by trying it alone (without a coach)|I began CrossFit with a coach (e.g. at an affiliate)|I have completed the CrossFit Level 1 certificate course|I have attended one or more specialty courses|I have had a life changing experience due to CrossFit|I train other people|'\n",
            " 'I began CrossFit by trying it alone (without a coach)|I have completed the CrossFit Level 1 certificate course|I train other people|'\n",
            " 'I began CrossFit by trying it alone (without a coach)|I have completed the CrossFit Level 1 certificate course|I have had a life changing experience due to CrossFit|I train other people|'\n",
            " 'I began CrossFit with a coach (e.g. at an affiliate)|I have completed the CrossFit Level 1 certificate course|I have had a life changing experience due to CrossFit|I train other people|'\n",
            " 'I began CrossFit by trying it alone (without a coach)|'\n",
            " 'I began CrossFit by trying it alone (without a coach)|I have completed the CrossFit Level 1 certificate course|I have attended one or more specialty courses|I have had a life changing experience due to CrossFit|I train other people|'\n",
            " 'I began CrossFit with a coach (e.g. at an affiliate)|'\n",
            " 'I began CrossFit with a coach (e.g. at an affiliate)|I have completed the CrossFit Level 1 certificate course|I have attended one or more specialty courses|I train other people|'\n",
            " 'I began CrossFit by trying it alone (without a coach)|I have had a life changing experience due to CrossFit|'\n",
            " 'I began CrossFit with a coach (e.g. at an affiliate)|I have had a life changing experience due to CrossFit|'\n",
            " 'I began CrossFit by trying it alone (without a coach)|I have completed the CrossFit Level 1 certificate course|I have attended one or more specialty courses|I train other people|'\n",
            " 'I began CrossFit with a coach (e.g. at an affiliate)|I have attended one or more specialty courses|'\n",
            " 'I began CrossFit with a coach (e.g. at an affiliate)|I have completed the CrossFit Level 1 certificate course|I train other people|'\n",
            " 'I began CrossFit by trying it alone (without a coach)|I have completed the CrossFit Level 1 certificate course|'\n",
            " 'I began CrossFit with a coach (e.g. at an affiliate)|I have completed the CrossFit Level 1 certificate course|I have attended one or more specialty courses|I have had a life changing experience due to CrossFit|I train other people|'\n",
            " 'I began CrossFit with a coach (e.g. at an affiliate)|I have completed the CrossFit Level 1 certificate course|I have had a life changing experience due to CrossFit|'\n",
            " 'I began CrossFit with a coach (e.g. at an affiliate)|I have completed the CrossFit Level 1 certificate course|I have attended one or more specialty courses|'\n",
            " 'I began CrossFit by trying it alone (without a coach)|I have attended one or more specialty courses|'\n",
            " 'I began CrossFit with a coach (e.g. at an affiliate)|I have completed the CrossFit Level 1 certificate course|I have attended one or more specialty courses|I have had a life changing experience due to CrossFit|'\n",
            " 'I began CrossFit with a coach (e.g. at an affiliate)|I have completed the CrossFit Level 1 certificate course|'\n",
            " 'I have completed the CrossFit Level 1 certificate course|I have attended one or more specialty courses|I train other people|'\n",
            " 'I began CrossFit by trying it alone (without a coach)|I have completed the CrossFit Level 1 certificate course|I have had a life changing experience due to CrossFit|'\n",
            " 'I train other people|' 'Decline to answer|'\n",
            " 'I began CrossFit with a coach (e.g. at an affiliate)|I train other people|'\n",
            " 'I began CrossFit by trying it alone (without a coach)|I have had a life changing experience due to CrossFit|I train other people|'\n",
            " 'I have completed the CrossFit Level 1 certificate course|I have attended one or more specialty courses|I have had a life changing experience due to CrossFit|I train other people|'\n",
            " 'I have completed the CrossFit Level 1 certificate course|I have had a life changing experience due to CrossFit|I train other people|'\n",
            " 'I began CrossFit by trying it alone (without a coach)|I have attended one or more specialty courses|I have had a life changing experience due to CrossFit|I train other people|'\n",
            " 'I have completed the CrossFit Level 1 certificate course|'\n",
            " 'I began CrossFit by trying it alone (without a coach)|I train other people|'\n",
            " 'I have had a life changing experience due to CrossFit|'\n",
            " 'I began CrossFit by trying it alone (without a coach)|I have attended one or more specialty courses|I train other people|'\n",
            " 'I began CrossFit by trying it alone (without a coach)|I began CrossFit with a coach (e.g. at an affiliate)|I have completed the CrossFit Level 1 certificate course|I train other people|'\n",
            " 'I began CrossFit with a coach (e.g. at an affiliate)|I have attended one or more specialty courses|I train other people|'\n",
            " 'I began CrossFit by trying it alone (without a coach)|I have completed the CrossFit Level 1 certificate course|I have attended one or more specialty courses|I have had a life changing experience due to CrossFit|'\n",
            " 'I have completed the CrossFit Level 1 certificate course|I have had a life changing experience due to CrossFit|'\n",
            " 'I began CrossFit by trying it alone (without a coach)|Decline to answer|'\n",
            " 'I began CrossFit by trying it alone (without a coach)|I began CrossFit with a coach (e.g. at an affiliate)|'\n",
            " 'I have completed the CrossFit Level 1 certificate course|I train other people|'\n",
            " 'I have completed the CrossFit Level 1 certificate course|I have attended one or more specialty courses|'\n",
            " 'I began CrossFit with a coach (e.g. at an affiliate)|I have had a life changing experience due to CrossFit|I train other people|'\n",
            " 'I began CrossFit by trying it alone (without a coach)|I have completed the CrossFit Level 1 certificate course|I have attended one or more specialty courses|'\n",
            " 'I began CrossFit with a coach (e.g. at an affiliate)|I have attended one or more specialty courses|I have had a life changing experience due to CrossFit|I train other people|'\n",
            " 'I began CrossFit by trying it alone (without a coach)|I began CrossFit with a coach (e.g. at an affiliate)|I have completed the CrossFit Level 1 certificate course|'\n",
            " 'I have completed the CrossFit Level 1 certificate course|I have attended one or more specialty courses|I have had a life changing experience due to CrossFit|'\n",
            " 'I began CrossFit by trying it alone (without a coach)|I began CrossFit with a coach (e.g. at an affiliate)|I have completed the CrossFit Level 1 certificate course|I have had a life changing experience due to CrossFit|I train other people|'\n",
            " 'I began CrossFit by trying it alone (without a coach)|I began CrossFit with a coach (e.g. at an affiliate)|I have completed the CrossFit Level 1 certificate course|I have attended one or more specialty courses|I have had a life changing experience due to CrossFit|I train other people|Decline to answer|'\n",
            " 'I began CrossFit by trying it alone (without a coach)|I began CrossFit with a coach (e.g. at an affiliate)|I have completed the CrossFit Level 1 certificate course|I have attended one or more specialty courses|I train other people|'\n",
            " 'I have attended one or more specialty courses|'\n",
            " 'I began CrossFit by trying it alone (without a coach)|I have attended one or more specialty courses|I have had a life changing experience due to CrossFit|'\n",
            " 'I have attended one or more specialty courses|I train other people|'\n",
            " 'I began CrossFit by trying it alone (without a coach)|I began CrossFit with a coach (e.g. at an affiliate)|I have had a life changing experience due to CrossFit|'\n",
            " 'I began CrossFit by trying it alone (without a coach)|I began CrossFit with a coach (e.g. at an affiliate)|I have attended one or more specialty courses|'\n",
            " 'I have attended one or more specialty courses|I have had a life changing experience due to CrossFit|I train other people|'\n",
            " 'I began CrossFit by trying it alone (without a coach)|I began CrossFit with a coach (e.g. at an affiliate)|I train other people|'\n",
            " 'I began CrossFit by trying it alone (without a coach)|I have completed the CrossFit Level 1 certificate course|I have attended one or more specialty courses|I have had a life changing experience due to CrossFit|I train other people|Decline to answer|'\n",
            " 'I have attended one or more specialty courses|I have had a life changing experience due to CrossFit|'\n",
            " 'I have completed the CrossFit Level 1 certificate course|I have attended one or more specialty courses|I train other people|Decline to answer|'\n",
            " 'I have had a life changing experience due to CrossFit|I train other people|'\n",
            " 'I began CrossFit by trying it alone (without a coach)|I began CrossFit with a coach (e.g. at an affiliate)|I have attended one or more specialty courses|I have had a life changing experience due to CrossFit|I train other people|'\n",
            " 'I began CrossFit by trying it alone (without a coach)|I began CrossFit with a coach (e.g. at an affiliate)|I have completed the CrossFit Level 1 certificate course|I have attended one or more specialty courses|I have had a life changing experience due to CrossFit|'\n",
            " 'I began CrossFit with a coach (e.g. at an affiliate)|I have completed the CrossFit Level 1 certificate course|I have attended one or more specialty courses|Decline to answer|'\n",
            " 'I began CrossFit with a coach (e.g. at an affiliate)|Decline to answer|'\n",
            " 'I began CrossFit by trying it alone (without a coach)|I began CrossFit with a coach (e.g. at an affiliate)|I have completed the CrossFit Level 1 certificate course|I have had a life changing experience due to CrossFit|'\n",
            " 'I began CrossFit by trying it alone (without a coach)|I began CrossFit with a coach (e.g. at an affiliate)|I have had a life changing experience due to CrossFit|I train other people|'\n",
            " 'I began CrossFit by trying it alone (without a coach)|I began CrossFit with a coach (e.g. at an affiliate)|I have attended one or more specialty courses|I have had a life changing experience due to CrossFit|'\n",
            " 'I began CrossFit with a coach (e.g. at an affiliate)|I have attended one or more specialty courses|Decline to answer|'\n",
            " 'I began CrossFit with a coach (e.g. at an affiliate)|I have completed the CrossFit Level 1 certificate course|Decline to answer|'\n",
            " 'I began CrossFit by trying it alone (without a coach)|I have completed the CrossFit Level 1 certificate course|I train other people|Decline to answer|'\n",
            " 'I began CrossFit by trying it alone (without a coach)|I have completed the CrossFit Level 1 certificate course|I have had a life changing experience due to CrossFit|I train other people|Decline to answer|'\n",
            " 'I began CrossFit by trying it alone (without a coach)|I have attended one or more specialty courses|Decline to answer|'\n",
            " 'I began CrossFit by trying it alone (without a coach)|I began CrossFit with a coach (e.g. at an affiliate)|I have completed the CrossFit Level 1 certificate course|I have attended one or more specialty courses|'\n",
            " 'I began CrossFit with a coach (e.g. at an affiliate)|I have attended one or more specialty courses|I train other people|Decline to answer|'\n",
            " 'I began CrossFit by trying it alone (without a coach)|I began CrossFit with a coach (e.g. at an affiliate)|I have attended one or more specialty courses|I train other people|'\n",
            " 'I have had a life changing experience due to CrossFit|Decline to answer|'\n",
            " 'I began CrossFit with a coach (e.g. at an affiliate)|I have completed the CrossFit Level 1 certificate course|I have attended one or more specialty courses|I train other people|Decline to answer|'\n",
            " 'I began CrossFit by trying it alone (without a coach)|I have had a life changing experience due to CrossFit|Decline to answer|'\n",
            " 'I have completed the CrossFit Level 1 certificate course|Decline to answer|'\n",
            " 'I train other people|Decline to answer|'\n",
            " 'I began CrossFit with a coach (e.g. at an affiliate)|I have had a life changing experience due to CrossFit|Decline to answer|'\n",
            " 'I began CrossFit with a coach (e.g. at an affiliate)|I have had a life changing experience due to CrossFit|I train other people|Decline to answer|'\n",
            " 'I began CrossFit with a coach (e.g. at an affiliate)|I have completed the CrossFit Level 1 certificate course||']\n",
            "Number of unique values:  85\n",
            "------------------------------------------------------------------------------------------\n",
            "column name: schedule\n",
            "['I do multiple workouts in a day 2x a week|' nan\n",
            " 'I usually only do 1 workout a day|'\n",
            " 'I usually only do 1 workout a day|I strictly schedule my rest days|'\n",
            " 'I usually only do 1 workout a day|I typically rest 4 or more days per month|'\n",
            " 'I do multiple workouts in a day 3+ times a week|I typically rest fewer than 4 days per month|'\n",
            " 'I do multiple workouts in a day 3+ times a week|'\n",
            " 'I usually only do 1 workout a day|I do multiple workouts in a day 1x a week|I typically rest 4 or more days per month|'\n",
            " 'I do multiple workouts in a day 1x a week|I typically rest 4 or more days per month|'\n",
            " 'I do multiple workouts in a day 1x a week|'\n",
            " 'I typically rest 4 or more days per month|'\n",
            " 'I do multiple workouts in a day 3+ times a week|I strictly schedule my rest days|I typically rest 4 or more days per month|'\n",
            " 'I strictly schedule my rest days|'\n",
            " 'I do multiple workouts in a day 2x a week|I strictly schedule my rest days|I typically rest 4 or more days per month|'\n",
            " 'I do multiple workouts in a day 3+ times a week|I typically rest 4 or more days per month|'\n",
            " 'I usually only do 1 workout a day|I do multiple workouts in a day 3+ times a week|I typically rest 4 or more days per month|'\n",
            " 'I do multiple workouts in a day 2x a week|I typically rest 4 or more days per month|'\n",
            " 'I do multiple workouts in a day 1x a week|I typically rest fewer than 4 days per month|'\n",
            " 'I do multiple workouts in a day 1x a week|I strictly schedule my rest days|I typically rest 4 or more days per month|'\n",
            " 'I usually only do 1 workout a day|I do multiple workouts in a day 3+ times a week|I strictly schedule my rest days|'\n",
            " 'I usually only do 1 workout a day|I typically rest fewer than 4 days per month|'\n",
            " 'I do multiple workouts in a day 1x a week|I do multiple workouts in a day 2x a week|'\n",
            " 'I usually only do 1 workout a day|I do multiple workouts in a day 1x a week|I do multiple workouts in a day 2x a week|I do multiple workouts in a day 3+ times a week|'\n",
            " 'I usually only do 1 workout a day|I do multiple workouts in a day 2x a week|I typically rest 4 or more days per month|'\n",
            " 'I do multiple workouts in a day 3+ times a week|I strictly schedule my rest days|I typically rest fewer than 4 days per month|'\n",
            " 'I do multiple workouts in a day 2x a week|I strictly schedule my rest days|'\n",
            " 'I do multiple workouts in a day 2x a week|I do multiple workouts in a day 3+ times a week|'\n",
            " 'I do multiple workouts in a day 3+ times a week|I strictly schedule my rest days|'\n",
            " 'I typically rest 4 or more days per month|Decline to answer|'\n",
            " 'I typically rest fewer than 4 days per month|' 'Decline to answer|'\n",
            " 'I usually only do 1 workout a day|I do multiple workouts in a day 2x a week|I strictly schedule my rest days|'\n",
            " 'I usually only do 1 workout a day|I do multiple workouts in a day 1x a week|'\n",
            " 'I usually only do 1 workout a day|I do multiple workouts in a day 2x a week|'\n",
            " 'I usually only do 1 workout a day|I do multiple workouts in a day 1x a week|I strictly schedule my rest days|I typically rest 4 or more days per month|'\n",
            " 'I do multiple workouts in a day 2x a week|I do multiple workouts in a day 3+ times a week|I typically rest 4 or more days per month|'\n",
            " 'I do multiple workouts in a day 2x a week|I typically rest fewer than 4 days per month|'\n",
            " 'I usually only do 1 workout a day|I do multiple workouts in a day 1x a week|I typically rest fewer than 4 days per month|'\n",
            " 'I usually only do 1 workout a day|I do multiple workouts in a day 3+ times a week|I typically rest fewer than 4 days per month|'\n",
            " 'I usually only do 1 workout a day|I strictly schedule my rest days|I typically rest 4 or more days per month|'\n",
            " 'I usually only do 1 workout a day|I do multiple workouts in a day 1x a week|I typically rest fewer than 4 days per month|I typically rest 4 or more days per month|'\n",
            " 'I usually only do 1 workout a day|I do multiple workouts in a day 3+ times a week|'\n",
            " 'I do multiple workouts in a day 3+ times a week|Decline to answer|'\n",
            " 'I do multiple workouts in a day 1x a week|I do multiple workouts in a day 3+ times a week|'\n",
            " 'I usually only do 1 workout a day|I do multiple workouts in a day 2x a week|I typically rest fewer than 4 days per month|'\n",
            " 'I usually only do 1 workout a day|I do multiple workouts in a day 1x a week|I strictly schedule my rest days|'\n",
            " 'I do multiple workouts in a day 1x a week|I strictly schedule my rest days|'\n",
            " 'I usually only do 1 workout a day|I do multiple workouts in a day 2x a week|I strictly schedule my rest days|I typically rest 4 or more days per month|'\n",
            " 'I usually only do 1 workout a day|I do multiple workouts in a day 3+ times a week|I strictly schedule my rest days|I typically rest fewer than 4 days per month|'\n",
            " 'I usually only do 1 workout a day|I do multiple workouts in a day 1x a week|I do multiple workouts in a day 2x a week|I do multiple workouts in a day 3+ times a week|I typically rest 4 or more days per month|'\n",
            " 'I usually only do 1 workout a day|I strictly schedule my rest days|I typically rest fewer than 4 days per month|'\n",
            " 'I usually only do 1 workout a day|I do multiple workouts in a day 3+ times a week|I strictly schedule my rest days|I typically rest 4 or more days per month|'\n",
            " 'I strictly schedule my rest days|I typically rest 4 or more days per month|'\n",
            " 'I usually only do 1 workout a day|I do multiple workouts in a day 1x a week|I strictly schedule my rest days|I typically rest fewer than 4 days per month|'\n",
            " 'I do multiple workouts in a day 2x a week|I strictly schedule my rest days|I typically rest fewer than 4 days per month|'\n",
            " 'I strictly schedule my rest days|I typically rest fewer than 4 days per month|'\n",
            " 'I do multiple workouts in a day 2x a week|I do multiple workouts in a day 3+ times a week|I strictly schedule my rest days|I typically rest 4 or more days per month|'\n",
            " 'I typically rest fewer than 4 days per month|I typically rest 4 or more days per month|'\n",
            " 'I do multiple workouts in a day 1x a week|I do multiple workouts in a day 2x a week|I typically rest 4 or more days per month|'\n",
            " 'I do multiple workouts in a day 2x a week|I do multiple workouts in a day 3+ times a week|I strictly schedule my rest days|I typically rest fewer than 4 days per month|'\n",
            " 'I do multiple workouts in a day 2x a week|I do multiple workouts in a day 3+ times a week|I typically rest fewer than 4 days per month|'\n",
            " 'I usually only do 1 workout a day|I do multiple workouts in a day 1x a week|I do multiple workouts in a day 2x a week|I typically rest 4 or more days per month|'\n",
            " 'I do multiple workouts in a day 1x a week|I strictly schedule my rest days|I typically rest fewer than 4 days per month|'\n",
            " 'I usually only do 1 workout a day|I do multiple workouts in a day 3+ times a week|I strictly schedule my rest days|I typically rest fewer than 4 days per month|I typically rest 4 or more days per month|'\n",
            " 'I do multiple workouts in a day 2x a week|I do multiple workouts in a day 3+ times a week|I typically rest fewer than 4 days per month|I typically rest 4 or more days per month|'\n",
            " 'I usually only do 1 workout a day|I do multiple workouts in a day 1x a week|I do multiple workouts in a day 2x a week|I do multiple workouts in a day 3+ times a week|I strictly schedule my rest days|I typically rest fewer than 4 days per month|I typically rest 4 or more days per month|'\n",
            " 'I do multiple workouts in a day 3+ times a week|I typically rest fewer than 4 days per month|I typically rest 4 or more days per month|'\n",
            " 'I usually only do 1 workout a day|I do multiple workouts in a day 2x a week|I strictly schedule my rest days|I typically rest fewer than 4 days per month|'\n",
            " 'I usually only do 1 workout a day|I typically rest 4 or more days per month|Decline to answer|'\n",
            " 'I do multiple workouts in a day 1x a week|I do multiple workouts in a day 2x a week|I strictly schedule my rest days|I typically rest 4 or more days per month|'\n",
            " 'I do multiple workouts in a day 2x a week|I do multiple workouts in a day 3+ times a week|I strictly schedule my rest days|'\n",
            " 'I do multiple workouts in a day 1x a week|I do multiple workouts in a day 3+ times a week|I strictly schedule my rest days|'\n",
            " 'I usually only do 1 workout a day|I typically rest fewer than 4 days per month|I typically rest 4 or more days per month|'\n",
            " 'I do multiple workouts in a day 1x a week|I typically rest fewer than 4 days per month|I typically rest 4 or more days per month|'\n",
            " 'I usually only do 1 workout a day|I do multiple workouts in a day 2x a week|I strictly schedule my rest days|I typically rest fewer than 4 days per month|I typically rest 4 or more days per month|'\n",
            " 'I usually only do 1 workout a day|I do multiple workouts in a day 2x a week|I do multiple workouts in a day 3+ times a week|'\n",
            " 'I do multiple workouts in a day 1x a week|I do multiple workouts in a day 2x a week|I typically rest fewer than 4 days per month|'\n",
            " 'I usually only do 1 workout a day|I do multiple workouts in a day 1x a week|I do multiple workouts in a day 2x a week|I do multiple workouts in a day 3+ times a week|I typically rest fewer than 4 days per month|'\n",
            " 'I usually only do 1 workout a day|I do multiple workouts in a day 1x a week|I do multiple workouts in a day 3+ times a week|I typically rest 4 or more days per month|'\n",
            " 'I usually only do 1 workout a day|I do multiple workouts in a day 1x a week|I do multiple workouts in a day 2x a week|I strictly schedule my rest days|'\n",
            " 'I usually only do 1 workout a day|I do multiple workouts in a day 1x a week|I do multiple workouts in a day 2x a week|I typically rest fewer than 4 days per month|I typically rest 4 or more days per month|'\n",
            " 'I do multiple workouts in a day 3+ times a week|I typically rest 4 or more days per month|Decline to answer|'\n",
            " 'I do multiple workouts in a day 3+ times a week|I strictly schedule my rest days|I typically rest fewer than 4 days per month|I typically rest 4 or more days per month|'\n",
            " 'I usually only do 1 workout a day|I do multiple workouts in a day 1x a week|I do multiple workouts in a day 2x a week|I strictly schedule my rest days|I typically rest 4 or more days per month|'\n",
            " 'I usually only do 1 workout a day|I do multiple workouts in a day 1x a week|Decline to answer|'\n",
            " 'I usually only do 1 workout a day|I do multiple workouts in a day 1x a week|I do multiple workouts in a day 2x a week|I do multiple workouts in a day 3+ times a week|I strictly schedule my rest days|I typically rest 4 or more days per month|'\n",
            " 'I usually only do 1 workout a day|I do multiple workouts in a day 2x a week|I do multiple workouts in a day 3+ times a week|I strictly schedule my rest days|I typically rest 4 or more days per month|'\n",
            " 'I do multiple workouts in a day 1x a week|I do multiple workouts in a day 2x a week|I do multiple workouts in a day 3+ times a week|I strictly schedule my rest days|'\n",
            " 'I do multiple workouts in a day 2x a week|I typically rest fewer than 4 days per month|I typically rest 4 or more days per month|'\n",
            " 'I do multiple workouts in a day 1x a week|I do multiple workouts in a day 2x a week|I strictly schedule my rest days|'\n",
            " 'I usually only do 1 workout a day|I do multiple workouts in a day 1x a week|I do multiple workouts in a day 2x a week|I typically rest fewer than 4 days per month|'\n",
            " 'I do multiple workouts in a day 1x a week|I do multiple workouts in a day 3+ times a week|I typically rest 4 or more days per month|'\n",
            " 'I usually only do 1 workout a day|I do multiple workouts in a day 1x a week|I do multiple workouts in a day 2x a week|'\n",
            " 'I do multiple workouts in a day 1x a week|I do multiple workouts in a day 3+ times a week|I typically rest fewer than 4 days per month|'\n",
            " 'I strictly schedule my rest days|Decline to answer|'\n",
            " 'I usually only do 1 workout a day|Decline to answer|'\n",
            " 'I usually only do 1 workout a day|I do multiple workouts in a day 1x a week|I do multiple workouts in a day 2x a week|I do multiple workouts in a day 3+ times a week|I strictly schedule my rest days|I typically rest fewer than 4 days per month|I typically rest 4 or more days per month|Decline to answer|'\n",
            " 'I usually only do 1 workout a day|I do multiple workouts in a day 3+ times a week|Decline to answer|'\n",
            " 'I usually only do 1 workout a day|I do multiple workouts in a day 1x a week|I do multiple workouts in a day 2x a week|I do multiple workouts in a day 3+ times a week|I strictly schedule my rest days|'\n",
            " 'I do multiple workouts in a day 2x a week|I strictly schedule my rest days|Decline to answer|'\n",
            " 'I do multiple workouts in a day 1x a week|I do multiple workouts in a day 2x a week|I do multiple workouts in a day 3+ times a week|I typically rest fewer than 4 days per month|'\n",
            " 'I do multiple workouts in a day 1x a week|Decline to answer|'\n",
            " 'I usually only do 1 workout a day|I do multiple workouts in a day 3+ times a week|I typically rest fewer than 4 days per month|I typically rest 4 or more days per month|'\n",
            " 'I usually only do 1 workout a day|I strictly schedule my rest days|Decline to answer|'\n",
            " 'I do multiple workouts in a day 1x a week|I do multiple workouts in a day 2x a week|I do multiple workouts in a day 3+ times a week|'\n",
            " 'I usually only do 1 workout a day|I do multiple workouts in a day 2x a week|I typically rest fewer than 4 days per month|I typically rest 4 or more days per month|'\n",
            " 'I do multiple workouts in a day 1x a week|I do multiple workouts in a day 2x a week|I do multiple workouts in a day 3+ times a week|I typically rest 4 or more days per month|'\n",
            " 'I do multiple workouts in a day 2x a week|Decline to answer|'\n",
            " 'I usually only do 1 workout a day|I do multiple workouts in a day 1x a week|I do multiple workouts in a day 2x a week|I strictly schedule my rest days|I typically rest fewer than 4 days per month|'\n",
            " 'I usually only do 1 workout a day|I do multiple workouts in a day 1x a week|I do multiple workouts in a day 2x a week|I do multiple workouts in a day 3+ times a week|I strictly schedule my rest days|I typically rest fewer than 4 days per month|'\n",
            " 'I do multiple workouts in a day 1x a week|I do multiple workouts in a day 2x a week|I do multiple workouts in a day 3+ times a week|I strictly schedule my rest days|I typically rest 4 or more days per month|'\n",
            " 'I usually only do 1 workout a day|I typically rest fewer than 4 days per month|I typically rest 4 or more days per month|Decline to answer|'\n",
            " 'I usually only do 1 workout a day|I strictly schedule my rest days|I typically rest 4 or more days per month|Decline to answer|'\n",
            " 'I usually only do 1 workout a day|I do multiple workouts in a day 1x a week|I do multiple workouts in a day 3+ times a week|'\n",
            " 'I usually only do 1 workout a day|I do multiple workouts in a day 2x a week|I strictly schedule my rest days|I typically rest 4 or more days per month|Decline to answer|'\n",
            " 'I do multiple workouts in a day 1x a week|I do multiple workouts in a day 2x a week|I do multiple workouts in a day 3+ times a week|I strictly schedule my rest days|I typically rest fewer than 4 days per month|I typically rest 4 or more days per month|'\n",
            " 'I typically rest fewer than 4 days per month|Decline to answer|'\n",
            " 'I typically rest fewer than 4 days per month|I typically rest 4 or more days per month|Decline to answer|'\n",
            " 'I do multiple workouts in a day 3+ times a week|I strictly schedule my rest days|Decline to answer|'\n",
            " 'I usually only do 1 workout a day|I do multiple workouts in a day 1x a week|I do multiple workouts in a day 3+ times a week|I strictly schedule my rest days|I typically rest 4 or more days per month|'\n",
            " 'I do multiple workouts in a day 1x a week|I do multiple workouts in a day 3+ times a week|I strictly schedule my rest days|I typically rest 4 or more days per month|'\n",
            " 'I do multiple workouts in a day 2x a week|I strictly schedule my rest days|I typically rest fewer than 4 days per month|I typically rest 4 or more days per month|'\n",
            " 'I usually only do 1 workout a day|I do multiple workouts in a day 2x a week|I do multiple workouts in a day 3+ times a week|I strictly schedule my rest days|'\n",
            " 'I usually only do 1 workout a day|I do multiple workouts in a day 1x a week|I do multiple workouts in a day 3+ times a week|I strictly schedule my rest days|'\n",
            " 'I do multiple workouts in a day 1x a week|I do multiple workouts in a day 3+ times a week|I strictly schedule my rest days|I typically rest fewer than 4 days per month|I typically rest 4 or more days per month|'\n",
            " 'I do multiple workouts in a day 1x a week|I do multiple workouts in a day 2x a week|I strictly schedule my rest days|I typically rest fewer than 4 days per month|'\n",
            " 'I do multiple workouts in a day 2x a week|I strictly schedule my rest days|I typically rest 4 or more days per month|Decline to answer|'\n",
            " 'I usually only do 1 workout a day|I do multiple workouts in a day 2x a week|I do multiple workouts in a day 3+ times a week|I typically rest 4 or more days per month|'\n",
            " 'I do multiple workouts in a day 2x a week|I do multiple workouts in a day 3+ times a week|I strictly schedule my rest days|I typically rest fewer than 4 days per month|I typically rest 4 or more days per month|'\n",
            " 'I usually only do 1 workout a day|I do multiple workouts in a day 1x a week|I strictly schedule my rest days|I typically rest fewer than 4 days per month|I typically rest 4 or more days per month|'\n",
            " 'I do multiple workouts in a day 1x a week|I do multiple workouts in a day 3+ times a week|I strictly schedule my rest days|I typically rest fewer than 4 days per month|'\n",
            " 'I usually only do 1 workout a day|I typically rest fewer than 4 days per month|Decline to answer|'\n",
            " 'I do multiple workouts in a day 1x a week|I typically rest 4 or more days per month|Decline to answer|'\n",
            " 'I usually only do 1 workout a day|I do multiple workouts in a day 2x a week|Decline to answer|'\n",
            " 'I usually only do 1 workout a day|I do multiple workouts in a day 1x a week|I do multiple workouts in a day 3+ times a week|I typically rest fewer than 4 days per month|']\n",
            "Number of unique values:  135\n",
            "------------------------------------------------------------------------------------------\n",
            "column name: howlong\n",
            "['4+ years|' nan '1-2 years|' '2-4 years|' '6-12 months|'\n",
            " 'Less than 6 months|' '1-2 years|2-4 years|'\n",
            " 'Less than 6 months|1-2 years|' '1-2 years|2-4 years|4+ years|'\n",
            " '2-4 years|4+ years|' 'Less than 6 months|2-4 years|'\n",
            " 'Decline to answer|' '1-2 years|4+ years|' '1-2 years|Decline to answer|'\n",
            " '6-12 months|1-2 years|' 'Less than 6 months|6-12 months|'\n",
            " '6-12 months|2-4 years|' '6-12 months|1-2 years|2-4 years|4+ years|'\n",
            " 'Less than 6 months|6-12 months|1-2 years|2-4 years|4+ years|'\n",
            " 'Less than 6 months|6-12 months|1-2 years|'\n",
            " '2-4 years|Decline to answer|' '6-12 months|4+ years|'\n",
            " 'Less than 6 months|6-12 months|1-2 years|2-4 years|4+ years|Decline to answer|'\n",
            " 'Less than 6 months|4+ years|' '6-12 months|1-2 years|2-4 years|'\n",
            " 'Less than 6 months|Decline to answer|'\n",
            " '6-12 months|1-2 years|Decline to answer|'\n",
            " 'Less than 6 months|6-12 months|1-2 years|2-4 years|'\n",
            " '6-12 months|Decline to answer|'\n",
            " 'Less than 6 months|1-2 years|2-4 years|' '|']\n",
            "Number of unique values:  31\n"
          ]
        }
      ],
      "source": [
        "#regenerate the columns with only string data\n",
        "df_num = df.select_dtypes(exclude=[np.number])\n",
        "\n",
        "for column in df_num.columns:\n",
        "    print(\"---\"*30)\n",
        "    print(f\"column name: {column}\")\n",
        "    print(df[column].unique())\n",
        "    print(\"Number of unique values: \", len(df[column].unique()))"
      ]
    },
    {
      "cell_type": "markdown",
      "metadata": {
        "id": "HIIZBE4X_mzE"
      },
      "source": [
        "It is clear that the columns: Howlong, schedule, experience, background, train and eat are MCQ questions. We should identify the individual values and create dummies."
      ]
    },
    {
      "cell_type": "markdown",
      "metadata": {
        "id": "1JEaWGYA_mzE"
      },
      "source": [
        "But before we procees any further, we should remove all nans to make the process easier."
      ]
    },
    {
      "cell_type": "code",
      "execution_count": 50,
      "metadata": {
        "id": "ZDF9OjJs_mzE"
      },
      "outputs": [],
      "source": [
        "df = df.dropna(subset=df_num.columns)"
      ]
    },
    {
      "cell_type": "markdown",
      "metadata": {
        "id": "dNUWTUMl_mzE"
      },
      "source": [
        "This is a pseudo dummies method, as the various options are split by |"
      ]
    },
    {
      "cell_type": "code",
      "execution_count": 51,
      "metadata": {
        "id": "V5URybNG_mzF"
      },
      "outputs": [],
      "source": [
        "def generate_dummies(df,columns):\n",
        "    for column in columns:\n",
        "        columns = pd.unique(df[column].str.split(\"|\", expand=True).stack())\n",
        "        columns = [column + '_' + x for x in columns if x != '']\n",
        "        dfs = df[column].str.get_dummies(sep='|').reindex(columns, axis=1, fill_value=0).astype(bool)\n",
        "        df = pd.concat([df, dfs], axis=1)\n",
        "        df.drop(columns = [column], axis=1, inplace=True)\n",
        "    return df"
      ]
    },
    {
      "cell_type": "markdown",
      "metadata": {
        "id": "cwlysomT_mzF"
      },
      "source": [
        "Lets drop the team and affiliate columns as they have way too many unique columns."
      ]
    },
    {
      "cell_type": "code",
      "execution_count": 52,
      "metadata": {
        "id": "X9kil4Wk_mzF"
      },
      "outputs": [],
      "source": [
        "df = df.drop(columns=['team','affiliate'])"
      ]
    },
    {
      "cell_type": "markdown",
      "metadata": {
        "id": "Jsu-a6-Y_mzF"
      },
      "source": [
        "Lets generate dummies for region and gender"
      ]
    },
    {
      "cell_type": "code",
      "execution_count": 53,
      "metadata": {
        "id": "4qeWCIDV_mzR"
      },
      "outputs": [],
      "source": [
        "df = pd.get_dummies(df,columns=['region','gender'],dtype=bool)"
      ]
    },
    {
      "cell_type": "code",
      "execution_count": 54,
      "metadata": {
        "id": "C5bvL2S6_mzR"
      },
      "outputs": [],
      "source": [
        "df.drop(columns=['gender_--'], inplace=True)"
      ]
    },
    {
      "cell_type": "markdown",
      "metadata": {
        "id": "VNh2CCv__mzR"
      },
      "source": [
        "Now that we're done with the basics, lets generate the dummies for the aforementioned columns"
      ]
    },
    {
      "cell_type": "code",
      "execution_count": 55,
      "metadata": {
        "id": "zIJpjkrQ_mzR"
      },
      "outputs": [],
      "source": [
        "df = generate_dummies(df,[\"howlong\", \"schedule\", \"experience\", \"background\", \"train\", \"eat\"])"
      ]
    },
    {
      "cell_type": "markdown",
      "metadata": {
        "id": "o21cojiL_mzR"
      },
      "source": [
        "We should calculate the totalLift score"
      ]
    },
    {
      "cell_type": "code",
      "execution_count": 56,
      "metadata": {
        "id": "VjfayYBr_mzR"
      },
      "outputs": [],
      "source": [
        "df['total_lift'] = df['candj'] + df['snatch'] + df['deadlift'] + df['backsq']"
      ]
    },
    {
      "cell_type": "markdown",
      "metadata": {},
      "source": [
        "Lets drop the rows, where total_lift is nan"
      ]
    },
    {
      "cell_type": "code",
      "execution_count": 57,
      "metadata": {},
      "outputs": [],
      "source": [
        "df = df.dropna(subset=['total_lift'])"
      ]
    },
    {
      "cell_type": "code",
      "execution_count": 58,
      "metadata": {},
      "outputs": [
        {
          "name": "stdout",
          "output_type": "stream",
          "text": [
            "<class 'pandas.core.frame.DataFrame'>\n",
            "Int64Index: 24093 entries, 3 to 422961\n",
            "Data columns (total 75 columns):\n",
            " #   Column                                                               Non-Null Count  Dtype  \n",
            "---  ------                                                               --------------  -----  \n",
            " 0   age                                                                  24093 non-null  float64\n",
            " 1   height                                                               23358 non-null  float64\n",
            " 2   weight                                                               21954 non-null  float64\n",
            " 3   fran                                                                 14174 non-null  float64\n",
            " 4   helen                                                                8752 non-null   float64\n",
            " 5   grace                                                                11502 non-null  float64\n",
            " 6   filthy50                                                             5724 non-null   float64\n",
            " 7   fgonebad                                                             8731 non-null   float64\n",
            " 8   run400                                                               6532 non-null   float64\n",
            " 9   run5k                                                                8899 non-null   float64\n",
            " 10  candj                                                                24093 non-null  float64\n",
            " 11  snatch                                                               24093 non-null  float64\n",
            " 12  deadlift                                                             24093 non-null  float64\n",
            " 13  backsq                                                               24093 non-null  float64\n",
            " 14  pullups                                                              13084 non-null  float64\n",
            " 15  region_Africa                                                        24093 non-null  bool   \n",
            " 16  region_Asia                                                          24093 non-null  bool   \n",
            " 17  region_Australia                                                     24093 non-null  bool   \n",
            " 18  region_Canada East                                                   24093 non-null  bool   \n",
            " 19  region_Canada West                                                   24093 non-null  bool   \n",
            " 20  region_Central East                                                  24093 non-null  bool   \n",
            " 21  region_Europe                                                        24093 non-null  bool   \n",
            " 22  region_Latin America                                                 24093 non-null  bool   \n",
            " 23  region_Mid Atlantic                                                  24093 non-null  bool   \n",
            " 24  region_North Central                                                 24093 non-null  bool   \n",
            " 25  region_North East                                                    24093 non-null  bool   \n",
            " 26  region_North West                                                    24093 non-null  bool   \n",
            " 27  region_Northern California                                           24093 non-null  bool   \n",
            " 28  region_South Central                                                 24093 non-null  bool   \n",
            " 29  region_South East                                                    24093 non-null  bool   \n",
            " 30  region_South West                                                    24093 non-null  bool   \n",
            " 31  region_Southern California                                           24093 non-null  bool   \n",
            " 32  gender_Female                                                        24093 non-null  bool   \n",
            " 33  gender_Male                                                          24093 non-null  bool   \n",
            " 34  howlong_4+ years                                                     24093 non-null  bool   \n",
            " 35  howlong_2-4 years                                                    24093 non-null  bool   \n",
            " 36  howlong_1-2 years                                                    24093 non-null  bool   \n",
            " 37  howlong_6-12 months                                                  24093 non-null  bool   \n",
            " 38  howlong_Less than 6 months                                           24093 non-null  bool   \n",
            " 39  howlong_Decline to answer                                            24093 non-null  bool   \n",
            " 40  schedule_I usually only do 1 workout a day                           24093 non-null  bool   \n",
            " 41  schedule_I do multiple workouts in a day 3+ times a week             24093 non-null  bool   \n",
            " 42  schedule_I typically rest fewer than 4 days per month                24093 non-null  bool   \n",
            " 43  schedule_I typically rest 4 or more days per month                   24093 non-null  bool   \n",
            " 44  schedule_I do multiple workouts in a day 1x a week                   24093 non-null  bool   \n",
            " 45  schedule_I strictly schedule my rest days                            24093 non-null  bool   \n",
            " 46  schedule_I do multiple workouts in a day 2x a week                   24093 non-null  bool   \n",
            " 47  schedule_Decline to answer                                           24093 non-null  bool   \n",
            " 48  experience_I began CrossFit by trying it alone (without a coach)     24093 non-null  bool   \n",
            " 49  experience_I began CrossFit with a coach (e.g. at an affiliate)      24093 non-null  bool   \n",
            " 50  experience_I have completed the CrossFit Level 1 certificate course  24093 non-null  bool   \n",
            " 51  experience_I have attended one or more specialty courses             24093 non-null  bool   \n",
            " 52  experience_I have had a life changing experience due to CrossFit     24093 non-null  bool   \n",
            " 53  experience_I train other people                                      24093 non-null  bool   \n",
            " 54  experience_Decline to answer                                         24093 non-null  bool   \n",
            " 55  background_I played youth or high school level sports                24093 non-null  bool   \n",
            " 56  background_I have no athletic background besides CrossFit            24093 non-null  bool   \n",
            " 57  background_I played college sports                                   24093 non-null  bool   \n",
            " 58  background_I regularly play recreational sports                      24093 non-null  bool   \n",
            " 59  background_I played professional sports                              24093 non-null  bool   \n",
            " 60  background_Decline to answer                                         24093 non-null  bool   \n",
            " 61  train_I workout mostly at a CrossFit Affiliate                       24093 non-null  bool   \n",
            " 62  train_I have a coach who determines my programming                   24093 non-null  bool   \n",
            " 63  train_I record my workouts                                           24093 non-null  bool   \n",
            " 64  train_I incorporate CrossFit.com workouts                            24093 non-null  bool   \n",
            " 65  train_I workout mostly at home, work, or a traditional gym           24093 non-null  bool   \n",
            " 66  train_I write my own programming                                     24093 non-null  bool   \n",
            " 67  train_Decline to answer                                              24093 non-null  bool   \n",
            " 68  eat_I eat 1-3 full cheat meals per week                              24093 non-null  bool   \n",
            " 69  eat_I eat quality foods but don't measure the amount                 24093 non-null  bool   \n",
            " 70  eat_I eat whatever is convenient                                     24093 non-null  bool   \n",
            " 71  eat_I eat strict Paleo                                               24093 non-null  bool   \n",
            " 72  eat_I weigh and measure my food                                      24093 non-null  bool   \n",
            " 73  eat_Decline to answer                                                24093 non-null  bool   \n",
            " 74  total_lift                                                           24093 non-null  float64\n",
            "dtypes: bool(59), float64(16)\n",
            "memory usage: 4.5 MB\n"
          ]
        }
      ],
      "source": [
        "df.info()"
      ]
    },
    {
      "cell_type": "markdown",
      "metadata": {
        "id": "4CnK7oik_mzS"
      },
      "source": [
        "I consider this version to be the actual baseline version we can make a model on, as the basic data cleaning has been completed. Lets create a new branch called cleaned_main and commit the data to it."
      ]
    },
    {
      "cell_type": "code",
      "execution_count": 59,
      "metadata": {
        "id": "iDsQfBgY_mzS"
      },
      "outputs": [],
      "source": [
        "df.to_csv('../data/athletes.csv', index=False)"
      ]
    },
    {
      "cell_type": "code",
      "execution_count": 60,
      "metadata": {
        "colab": {
          "base_uri": "https://localhost:8080/"
        },
        "id": "-U6u-0yf_mzS",
        "outputId": "4b4dbffa-58d0-46f5-ef08-9e16a08d2e3a"
      },
      "outputs": [
        {
          "data": {
            "text/plain": [
              "{'committer': 'quickstart',\n",
              " 'creation_date': 1697706038,\n",
              " 'id': '47f1e55aae8ce84feb69ecd33ca5f454b96ef970ef6429b372628cf7b175d04a',\n",
              " 'message': 'cleaned main Athletes.csv | Version: 1.1',\n",
              " 'meta_range_id': '',\n",
              " 'metadata': {'changes': 'cleaned data', 'using': 'python_api'},\n",
              " 'parents': ['310d2ab981e87705d1db36a70329c43b22c6659db1a5501c96423e33f6fd22d2']}"
            ]
          },
          "execution_count": 60,
          "metadata": {},
          "output_type": "execute_result"
        }
      ],
      "source": [
        "branch = \"cleaned_main\"\n",
        "lakefs.branches.create_branch(repo_id, models.BranchCreation(name=branch,source='main'))\n",
        "contentToUpload = open(f\"{filePath}\", 'rb')\n",
        "lakefs.objects.upload_object(repository=repo_id, branch=branch, path=f'data/{fileName}', content=contentToUpload)\n",
        "lakefs.commits.commit(\n",
        "    repository=repo_id,\n",
        "    branch=branch,\n",
        "    commit_creation=models.CommitCreation(message='cleaned main Athletes.csv | Version: 1.1', metadata={'using': 'python_api','changes':'cleaned data'}))"
      ]
    },
    {
      "cell_type": "markdown",
      "metadata": {
        "id": "OigaAalY_mzS"
      },
      "source": [
        "### We will be using the brain cleaned main to refer to Version 1 for modelling."
      ]
    },
    {
      "cell_type": "markdown",
      "metadata": {
        "id": "otCy8q4y_mzS"
      },
      "source": [
        "### Let us now clean the data further"
      ]
    },
    {
      "cell_type": "code",
      "execution_count": 61,
      "metadata": {
        "colab": {
          "base_uri": "https://localhost:8080/",
          "height": 377
        },
        "id": "710wI7hT_mzS",
        "outputId": "2ce1b48d-c08a-41ca-8dbf-d8890ced240a"
      },
      "outputs": [
        {
          "data": {
            "text/html": [
              "<div>\n",
              "<style scoped>\n",
              "    .dataframe tbody tr th:only-of-type {\n",
              "        vertical-align: middle;\n",
              "    }\n",
              "\n",
              "    .dataframe tbody tr th {\n",
              "        vertical-align: top;\n",
              "    }\n",
              "\n",
              "    .dataframe thead th {\n",
              "        text-align: right;\n",
              "    }\n",
              "</style>\n",
              "<table border=\"1\" class=\"dataframe\">\n",
              "  <thead>\n",
              "    <tr style=\"text-align: right;\">\n",
              "      <th></th>\n",
              "      <th>age</th>\n",
              "      <th>height</th>\n",
              "      <th>weight</th>\n",
              "      <th>fran</th>\n",
              "      <th>helen</th>\n",
              "      <th>grace</th>\n",
              "      <th>filthy50</th>\n",
              "      <th>fgonebad</th>\n",
              "      <th>run400</th>\n",
              "      <th>run5k</th>\n",
              "      <th>...</th>\n",
              "      <th>train_I workout mostly at home, work, or a traditional gym</th>\n",
              "      <th>train_I write my own programming</th>\n",
              "      <th>train_Decline to answer</th>\n",
              "      <th>eat_I eat 1-3 full cheat meals per week</th>\n",
              "      <th>eat_I eat quality foods but don't measure the amount</th>\n",
              "      <th>eat_I eat whatever is convenient</th>\n",
              "      <th>eat_I eat strict Paleo</th>\n",
              "      <th>eat_I weigh and measure my food</th>\n",
              "      <th>eat_Decline to answer</th>\n",
              "      <th>total_lift</th>\n",
              "    </tr>\n",
              "  </thead>\n",
              "  <tbody>\n",
              "    <tr>\n",
              "      <th>0</th>\n",
              "      <td>40.0</td>\n",
              "      <td>67.0</td>\n",
              "      <td>NaN</td>\n",
              "      <td>211.0</td>\n",
              "      <td>645.0</td>\n",
              "      <td>300.0</td>\n",
              "      <td>NaN</td>\n",
              "      <td>196.0</td>\n",
              "      <td>NaN</td>\n",
              "      <td>NaN</td>\n",
              "      <td>...</td>\n",
              "      <td>False</td>\n",
              "      <td>False</td>\n",
              "      <td>False</td>\n",
              "      <td>False</td>\n",
              "      <td>False</td>\n",
              "      <td>False</td>\n",
              "      <td>False</td>\n",
              "      <td>False</td>\n",
              "      <td>False</td>\n",
              "      <td>1145.0</td>\n",
              "    </tr>\n",
              "    <tr>\n",
              "      <th>1</th>\n",
              "      <td>21.0</td>\n",
              "      <td>72.0</td>\n",
              "      <td>175.0</td>\n",
              "      <td>NaN</td>\n",
              "      <td>NaN</td>\n",
              "      <td>NaN</td>\n",
              "      <td>NaN</td>\n",
              "      <td>0.0</td>\n",
              "      <td>NaN</td>\n",
              "      <td>NaN</td>\n",
              "      <td>...</td>\n",
              "      <td>False</td>\n",
              "      <td>False</td>\n",
              "      <td>False</td>\n",
              "      <td>False</td>\n",
              "      <td>False</td>\n",
              "      <td>False</td>\n",
              "      <td>False</td>\n",
              "      <td>False</td>\n",
              "      <td>False</td>\n",
              "      <td>0.0</td>\n",
              "    </tr>\n",
              "    <tr>\n",
              "      <th>2</th>\n",
              "      <td>43.0</td>\n",
              "      <td>71.0</td>\n",
              "      <td>185.0</td>\n",
              "      <td>NaN</td>\n",
              "      <td>NaN</td>\n",
              "      <td>NaN</td>\n",
              "      <td>NaN</td>\n",
              "      <td>NaN</td>\n",
              "      <td>NaN</td>\n",
              "      <td>NaN</td>\n",
              "      <td>...</td>\n",
              "      <td>False</td>\n",
              "      <td>False</td>\n",
              "      <td>False</td>\n",
              "      <td>False</td>\n",
              "      <td>False</td>\n",
              "      <td>False</td>\n",
              "      <td>False</td>\n",
              "      <td>False</td>\n",
              "      <td>False</td>\n",
              "      <td>0.0</td>\n",
              "    </tr>\n",
              "    <tr>\n",
              "      <th>3</th>\n",
              "      <td>30.0</td>\n",
              "      <td>71.0</td>\n",
              "      <td>200.0</td>\n",
              "      <td>243.0</td>\n",
              "      <td>NaN</td>\n",
              "      <td>164.0</td>\n",
              "      <td>NaN</td>\n",
              "      <td>298.0</td>\n",
              "      <td>NaN</td>\n",
              "      <td>1584.0</td>\n",
              "      <td>...</td>\n",
              "      <td>False</td>\n",
              "      <td>False</td>\n",
              "      <td>False</td>\n",
              "      <td>False</td>\n",
              "      <td>False</td>\n",
              "      <td>False</td>\n",
              "      <td>False</td>\n",
              "      <td>False</td>\n",
              "      <td>False</td>\n",
              "      <td>1110.0</td>\n",
              "    </tr>\n",
              "    <tr>\n",
              "      <th>4</th>\n",
              "      <td>28.0</td>\n",
              "      <td>70.0</td>\n",
              "      <td>176.0</td>\n",
              "      <td>720.0</td>\n",
              "      <td>680.0</td>\n",
              "      <td>NaN</td>\n",
              "      <td>NaN</td>\n",
              "      <td>280.0</td>\n",
              "      <td>NaN</td>\n",
              "      <td>NaN</td>\n",
              "      <td>...</td>\n",
              "      <td>False</td>\n",
              "      <td>False</td>\n",
              "      <td>False</td>\n",
              "      <td>False</td>\n",
              "      <td>False</td>\n",
              "      <td>False</td>\n",
              "      <td>False</td>\n",
              "      <td>False</td>\n",
              "      <td>False</td>\n",
              "      <td>910.0</td>\n",
              "    </tr>\n",
              "  </tbody>\n",
              "</table>\n",
              "<p>5 rows × 75 columns</p>\n",
              "</div>"
            ],
            "text/plain": [
              "    age  height  weight   fran  helen  grace  filthy50  fgonebad  run400  \\\n",
              "0  40.0    67.0     NaN  211.0  645.0  300.0       NaN     196.0     NaN   \n",
              "1  21.0    72.0   175.0    NaN    NaN    NaN       NaN       0.0     NaN   \n",
              "2  43.0    71.0   185.0    NaN    NaN    NaN       NaN       NaN     NaN   \n",
              "3  30.0    71.0   200.0  243.0    NaN  164.0       NaN     298.0     NaN   \n",
              "4  28.0    70.0   176.0  720.0  680.0    NaN       NaN     280.0     NaN   \n",
              "\n",
              "    run5k  ...  train_I workout mostly at home, work, or a traditional gym  \\\n",
              "0     NaN  ...                                              False            \n",
              "1     NaN  ...                                              False            \n",
              "2     NaN  ...                                              False            \n",
              "3  1584.0  ...                                              False            \n",
              "4     NaN  ...                                              False            \n",
              "\n",
              "   train_I write my own programming  train_Decline to answer  \\\n",
              "0                             False                    False   \n",
              "1                             False                    False   \n",
              "2                             False                    False   \n",
              "3                             False                    False   \n",
              "4                             False                    False   \n",
              "\n",
              "   eat_I eat 1-3 full cheat meals per week  \\\n",
              "0                                    False   \n",
              "1                                    False   \n",
              "2                                    False   \n",
              "3                                    False   \n",
              "4                                    False   \n",
              "\n",
              "   eat_I eat quality foods but don't measure the amount  \\\n",
              "0                                              False      \n",
              "1                                              False      \n",
              "2                                              False      \n",
              "3                                              False      \n",
              "4                                              False      \n",
              "\n",
              "   eat_I eat whatever is convenient  eat_I eat strict Paleo  \\\n",
              "0                             False                   False   \n",
              "1                             False                   False   \n",
              "2                             False                   False   \n",
              "3                             False                   False   \n",
              "4                             False                   False   \n",
              "\n",
              "   eat_I weigh and measure my food  eat_Decline to answer  total_lift  \n",
              "0                            False                  False      1145.0  \n",
              "1                            False                  False         0.0  \n",
              "2                            False                  False         0.0  \n",
              "3                            False                  False      1110.0  \n",
              "4                            False                  False       910.0  \n",
              "\n",
              "[5 rows x 75 columns]"
            ]
          },
          "execution_count": 61,
          "metadata": {},
          "output_type": "execute_result"
        }
      ],
      "source": [
        "data = lakefs.objects.get_object(repository=repo_id, ref=branch, path=f'data/{fileName}')\n",
        "df = pd.read_csv(data)\n",
        "df.head()"
      ]
    },
    {
      "cell_type": "markdown",
      "metadata": {
        "id": "VFgGNzp4_mzS"
      },
      "source": [
        "Lets take a look at the numerical columns"
      ]
    },
    {
      "cell_type": "code",
      "execution_count": 62,
      "metadata": {
        "colab": {
          "base_uri": "https://localhost:8080/",
          "height": 444
        },
        "id": "vPeyYHjs_mzS",
        "outputId": "f71d9f65-7ade-4fe4-8863-aeaea9df0949"
      },
      "outputs": [
        {
          "data": {
            "text/html": [
              "<div>\n",
              "<style scoped>\n",
              "    .dataframe tbody tr th:only-of-type {\n",
              "        vertical-align: middle;\n",
              "    }\n",
              "\n",
              "    .dataframe tbody tr th {\n",
              "        vertical-align: top;\n",
              "    }\n",
              "\n",
              "    .dataframe thead th {\n",
              "        text-align: right;\n",
              "    }\n",
              "</style>\n",
              "<table border=\"1\" class=\"dataframe\">\n",
              "  <thead>\n",
              "    <tr style=\"text-align: right;\">\n",
              "      <th></th>\n",
              "      <th>age</th>\n",
              "      <th>height</th>\n",
              "      <th>weight</th>\n",
              "      <th>fran</th>\n",
              "      <th>helen</th>\n",
              "      <th>grace</th>\n",
              "      <th>filthy50</th>\n",
              "      <th>fgonebad</th>\n",
              "      <th>run400</th>\n",
              "      <th>run5k</th>\n",
              "      <th>candj</th>\n",
              "      <th>snatch</th>\n",
              "      <th>deadlift</th>\n",
              "      <th>backsq</th>\n",
              "      <th>pullups</th>\n",
              "      <th>total_lift</th>\n",
              "    </tr>\n",
              "  </thead>\n",
              "  <tbody>\n",
              "    <tr>\n",
              "      <th>0</th>\n",
              "      <td>40.0</td>\n",
              "      <td>67.0</td>\n",
              "      <td>NaN</td>\n",
              "      <td>211.0</td>\n",
              "      <td>645.0</td>\n",
              "      <td>300.0</td>\n",
              "      <td>NaN</td>\n",
              "      <td>196.0</td>\n",
              "      <td>NaN</td>\n",
              "      <td>NaN</td>\n",
              "      <td>245.0</td>\n",
              "      <td>200.0</td>\n",
              "      <td>375.0</td>\n",
              "      <td>325.0</td>\n",
              "      <td>25.0</td>\n",
              "      <td>1145.0</td>\n",
              "    </tr>\n",
              "    <tr>\n",
              "      <th>1</th>\n",
              "      <td>21.0</td>\n",
              "      <td>72.0</td>\n",
              "      <td>175.0</td>\n",
              "      <td>NaN</td>\n",
              "      <td>NaN</td>\n",
              "      <td>NaN</td>\n",
              "      <td>NaN</td>\n",
              "      <td>0.0</td>\n",
              "      <td>NaN</td>\n",
              "      <td>NaN</td>\n",
              "      <td>0.0</td>\n",
              "      <td>0.0</td>\n",
              "      <td>0.0</td>\n",
              "      <td>0.0</td>\n",
              "      <td>0.0</td>\n",
              "      <td>0.0</td>\n",
              "    </tr>\n",
              "    <tr>\n",
              "      <th>2</th>\n",
              "      <td>43.0</td>\n",
              "      <td>71.0</td>\n",
              "      <td>185.0</td>\n",
              "      <td>NaN</td>\n",
              "      <td>NaN</td>\n",
              "      <td>NaN</td>\n",
              "      <td>NaN</td>\n",
              "      <td>NaN</td>\n",
              "      <td>NaN</td>\n",
              "      <td>NaN</td>\n",
              "      <td>0.0</td>\n",
              "      <td>0.0</td>\n",
              "      <td>0.0</td>\n",
              "      <td>0.0</td>\n",
              "      <td>0.0</td>\n",
              "      <td>0.0</td>\n",
              "    </tr>\n",
              "    <tr>\n",
              "      <th>3</th>\n",
              "      <td>30.0</td>\n",
              "      <td>71.0</td>\n",
              "      <td>200.0</td>\n",
              "      <td>243.0</td>\n",
              "      <td>NaN</td>\n",
              "      <td>164.0</td>\n",
              "      <td>NaN</td>\n",
              "      <td>298.0</td>\n",
              "      <td>NaN</td>\n",
              "      <td>1584.0</td>\n",
              "      <td>235.0</td>\n",
              "      <td>175.0</td>\n",
              "      <td>385.0</td>\n",
              "      <td>315.0</td>\n",
              "      <td>35.0</td>\n",
              "      <td>1110.0</td>\n",
              "    </tr>\n",
              "    <tr>\n",
              "      <th>4</th>\n",
              "      <td>28.0</td>\n",
              "      <td>70.0</td>\n",
              "      <td>176.0</td>\n",
              "      <td>720.0</td>\n",
              "      <td>680.0</td>\n",
              "      <td>NaN</td>\n",
              "      <td>NaN</td>\n",
              "      <td>280.0</td>\n",
              "      <td>NaN</td>\n",
              "      <td>NaN</td>\n",
              "      <td>187.0</td>\n",
              "      <td>134.0</td>\n",
              "      <td>335.0</td>\n",
              "      <td>254.0</td>\n",
              "      <td>27.0</td>\n",
              "      <td>910.0</td>\n",
              "    </tr>\n",
              "    <tr>\n",
              "      <th>...</th>\n",
              "      <td>...</td>\n",
              "      <td>...</td>\n",
              "      <td>...</td>\n",
              "      <td>...</td>\n",
              "      <td>...</td>\n",
              "      <td>...</td>\n",
              "      <td>...</td>\n",
              "      <td>...</td>\n",
              "      <td>...</td>\n",
              "      <td>...</td>\n",
              "      <td>...</td>\n",
              "      <td>...</td>\n",
              "      <td>...</td>\n",
              "      <td>...</td>\n",
              "      <td>...</td>\n",
              "      <td>...</td>\n",
              "    </tr>\n",
              "    <tr>\n",
              "      <th>24088</th>\n",
              "      <td>39.0</td>\n",
              "      <td>75.0</td>\n",
              "      <td>186.0</td>\n",
              "      <td>980.0</td>\n",
              "      <td>NaN</td>\n",
              "      <td>NaN</td>\n",
              "      <td>NaN</td>\n",
              "      <td>NaN</td>\n",
              "      <td>NaN</td>\n",
              "      <td>NaN</td>\n",
              "      <td>145.0</td>\n",
              "      <td>85.0</td>\n",
              "      <td>245.0</td>\n",
              "      <td>135.0</td>\n",
              "      <td>NaN</td>\n",
              "      <td>610.0</td>\n",
              "    </tr>\n",
              "    <tr>\n",
              "      <th>24089</th>\n",
              "      <td>24.0</td>\n",
              "      <td>70.0</td>\n",
              "      <td>174.0</td>\n",
              "      <td>NaN</td>\n",
              "      <td>NaN</td>\n",
              "      <td>NaN</td>\n",
              "      <td>NaN</td>\n",
              "      <td>NaN</td>\n",
              "      <td>NaN</td>\n",
              "      <td>1059.0</td>\n",
              "      <td>143.0</td>\n",
              "      <td>121.0</td>\n",
              "      <td>351.0</td>\n",
              "      <td>287.0</td>\n",
              "      <td>12.0</td>\n",
              "      <td>902.0</td>\n",
              "    </tr>\n",
              "    <tr>\n",
              "      <th>24090</th>\n",
              "      <td>25.0</td>\n",
              "      <td>64.0</td>\n",
              "      <td>126.0</td>\n",
              "      <td>659.0</td>\n",
              "      <td>796.0</td>\n",
              "      <td>NaN</td>\n",
              "      <td>2443.0</td>\n",
              "      <td>NaN</td>\n",
              "      <td>NaN</td>\n",
              "      <td>NaN</td>\n",
              "      <td>110.0</td>\n",
              "      <td>88.0</td>\n",
              "      <td>243.0</td>\n",
              "      <td>176.0</td>\n",
              "      <td>12.0</td>\n",
              "      <td>617.0</td>\n",
              "    </tr>\n",
              "    <tr>\n",
              "      <th>24091</th>\n",
              "      <td>22.0</td>\n",
              "      <td>72.0</td>\n",
              "      <td>174.0</td>\n",
              "      <td>NaN</td>\n",
              "      <td>NaN</td>\n",
              "      <td>345.0</td>\n",
              "      <td>NaN</td>\n",
              "      <td>NaN</td>\n",
              "      <td>NaN</td>\n",
              "      <td>NaN</td>\n",
              "      <td>115.0</td>\n",
              "      <td>95.0</td>\n",
              "      <td>175.0</td>\n",
              "      <td>115.0</td>\n",
              "      <td>NaN</td>\n",
              "      <td>500.0</td>\n",
              "    </tr>\n",
              "    <tr>\n",
              "      <th>24092</th>\n",
              "      <td>19.0</td>\n",
              "      <td>60.0</td>\n",
              "      <td>145.0</td>\n",
              "      <td>NaN</td>\n",
              "      <td>NaN</td>\n",
              "      <td>NaN</td>\n",
              "      <td>NaN</td>\n",
              "      <td>NaN</td>\n",
              "      <td>NaN</td>\n",
              "      <td>1441.0</td>\n",
              "      <td>133.0</td>\n",
              "      <td>93.0</td>\n",
              "      <td>240.0</td>\n",
              "      <td>173.0</td>\n",
              "      <td>NaN</td>\n",
              "      <td>639.0</td>\n",
              "    </tr>\n",
              "  </tbody>\n",
              "</table>\n",
              "<p>24093 rows × 16 columns</p>\n",
              "</div>"
            ],
            "text/plain": [
              "        age  height  weight   fran  helen  grace  filthy50  fgonebad  run400  \\\n",
              "0      40.0    67.0     NaN  211.0  645.0  300.0       NaN     196.0     NaN   \n",
              "1      21.0    72.0   175.0    NaN    NaN    NaN       NaN       0.0     NaN   \n",
              "2      43.0    71.0   185.0    NaN    NaN    NaN       NaN       NaN     NaN   \n",
              "3      30.0    71.0   200.0  243.0    NaN  164.0       NaN     298.0     NaN   \n",
              "4      28.0    70.0   176.0  720.0  680.0    NaN       NaN     280.0     NaN   \n",
              "...     ...     ...     ...    ...    ...    ...       ...       ...     ...   \n",
              "24088  39.0    75.0   186.0  980.0    NaN    NaN       NaN       NaN     NaN   \n",
              "24089  24.0    70.0   174.0    NaN    NaN    NaN       NaN       NaN     NaN   \n",
              "24090  25.0    64.0   126.0  659.0  796.0    NaN    2443.0       NaN     NaN   \n",
              "24091  22.0    72.0   174.0    NaN    NaN  345.0       NaN       NaN     NaN   \n",
              "24092  19.0    60.0   145.0    NaN    NaN    NaN       NaN       NaN     NaN   \n",
              "\n",
              "        run5k  candj  snatch  deadlift  backsq  pullups  total_lift  \n",
              "0         NaN  245.0   200.0     375.0   325.0     25.0      1145.0  \n",
              "1         NaN    0.0     0.0       0.0     0.0      0.0         0.0  \n",
              "2         NaN    0.0     0.0       0.0     0.0      0.0         0.0  \n",
              "3      1584.0  235.0   175.0     385.0   315.0     35.0      1110.0  \n",
              "4         NaN  187.0   134.0     335.0   254.0     27.0       910.0  \n",
              "...       ...    ...     ...       ...     ...      ...         ...  \n",
              "24088     NaN  145.0    85.0     245.0   135.0      NaN       610.0  \n",
              "24089  1059.0  143.0   121.0     351.0   287.0     12.0       902.0  \n",
              "24090     NaN  110.0    88.0     243.0   176.0     12.0       617.0  \n",
              "24091     NaN  115.0    95.0     175.0   115.0      NaN       500.0  \n",
              "24092  1441.0  133.0    93.0     240.0   173.0      NaN       639.0  \n",
              "\n",
              "[24093 rows x 16 columns]"
            ]
          },
          "execution_count": 62,
          "metadata": {},
          "output_type": "execute_result"
        }
      ],
      "source": [
        "df_num = df.select_dtypes(exclude=[bool])\n",
        "df_num"
      ]
    },
    {
      "cell_type": "markdown",
      "metadata": {
        "id": "NZW1uxS8_mzT"
      },
      "source": [
        "Lets remove nulls from the dataset"
      ]
    },
    {
      "cell_type": "code",
      "execution_count": 63,
      "metadata": {
        "colab": {
          "base_uri": "https://localhost:8080/"
        },
        "id": "iHZu2G7z_mzT",
        "outputId": "e5c9b4d8-6919-4093-b8a1-43dd60b8d839"
      },
      "outputs": [
        {
          "name": "stdout",
          "output_type": "stream",
          "text": [
            "<class 'pandas.core.frame.DataFrame'>\n",
            "RangeIndex: 24093 entries, 0 to 24092\n",
            "Data columns (total 16 columns):\n",
            " #   Column      Non-Null Count  Dtype  \n",
            "---  ------      --------------  -----  \n",
            " 0   age         24093 non-null  float64\n",
            " 1   height      23358 non-null  float64\n",
            " 2   weight      21954 non-null  float64\n",
            " 3   fran        14174 non-null  float64\n",
            " 4   helen       8752 non-null   float64\n",
            " 5   grace       11502 non-null  float64\n",
            " 6   filthy50    5724 non-null   float64\n",
            " 7   fgonebad    8731 non-null   float64\n",
            " 8   run400      6532 non-null   float64\n",
            " 9   run5k       8899 non-null   float64\n",
            " 10  candj       24093 non-null  float64\n",
            " 11  snatch      24093 non-null  float64\n",
            " 12  deadlift    24093 non-null  float64\n",
            " 13  backsq      24093 non-null  float64\n",
            " 14  pullups     13084 non-null  float64\n",
            " 15  total_lift  24093 non-null  float64\n",
            "dtypes: float64(16)\n",
            "memory usage: 2.9 MB\n"
          ]
        }
      ],
      "source": [
        "df_num.info()"
      ]
    },
    {
      "cell_type": "markdown",
      "metadata": {
        "id": "TkEt92he_mzT"
      },
      "source": [
        "We can see that columns like fran helen filthy50 fgonebad run400 have too few values to impute. so we drop them, We can also remove nulls from the rest and impute values for grace and run5k"
      ]
    },
    {
      "cell_type": "code",
      "execution_count": 64,
      "metadata": {
        "id": "67CZHnIJ_mzT"
      },
      "outputs": [],
      "source": [
        "df = df.drop(columns=['filthy50','fgonebad','run400','helen'])"
      ]
    },
    {
      "cell_type": "code",
      "execution_count": 65,
      "metadata": {
        "colab": {
          "base_uri": "https://localhost:8080/",
          "height": 424
        },
        "id": "sZY_jh0s_mzT",
        "outputId": "a22c21fd-df78-4fba-ccde-fdfcc8e2d142"
      },
      "outputs": [
        {
          "data": {
            "text/html": [
              "<div>\n",
              "<style scoped>\n",
              "    .dataframe tbody tr th:only-of-type {\n",
              "        vertical-align: middle;\n",
              "    }\n",
              "\n",
              "    .dataframe tbody tr th {\n",
              "        vertical-align: top;\n",
              "    }\n",
              "\n",
              "    .dataframe thead th {\n",
              "        text-align: right;\n",
              "    }\n",
              "</style>\n",
              "<table border=\"1\" class=\"dataframe\">\n",
              "  <thead>\n",
              "    <tr style=\"text-align: right;\">\n",
              "      <th></th>\n",
              "      <th>age</th>\n",
              "      <th>height</th>\n",
              "      <th>weight</th>\n",
              "      <th>fran</th>\n",
              "      <th>grace</th>\n",
              "      <th>run5k</th>\n",
              "      <th>candj</th>\n",
              "      <th>snatch</th>\n",
              "      <th>deadlift</th>\n",
              "      <th>backsq</th>\n",
              "      <th>pullups</th>\n",
              "      <th>total_lift</th>\n",
              "    </tr>\n",
              "  </thead>\n",
              "  <tbody>\n",
              "    <tr>\n",
              "      <th>0</th>\n",
              "      <td>40.0</td>\n",
              "      <td>67.0</td>\n",
              "      <td>NaN</td>\n",
              "      <td>211.0</td>\n",
              "      <td>300.0</td>\n",
              "      <td>NaN</td>\n",
              "      <td>245.0</td>\n",
              "      <td>200.0</td>\n",
              "      <td>375.0</td>\n",
              "      <td>325.0</td>\n",
              "      <td>25.0</td>\n",
              "      <td>1145.0</td>\n",
              "    </tr>\n",
              "    <tr>\n",
              "      <th>1</th>\n",
              "      <td>21.0</td>\n",
              "      <td>72.0</td>\n",
              "      <td>175.0</td>\n",
              "      <td>NaN</td>\n",
              "      <td>NaN</td>\n",
              "      <td>NaN</td>\n",
              "      <td>0.0</td>\n",
              "      <td>0.0</td>\n",
              "      <td>0.0</td>\n",
              "      <td>0.0</td>\n",
              "      <td>0.0</td>\n",
              "      <td>0.0</td>\n",
              "    </tr>\n",
              "    <tr>\n",
              "      <th>2</th>\n",
              "      <td>43.0</td>\n",
              "      <td>71.0</td>\n",
              "      <td>185.0</td>\n",
              "      <td>NaN</td>\n",
              "      <td>NaN</td>\n",
              "      <td>NaN</td>\n",
              "      <td>0.0</td>\n",
              "      <td>0.0</td>\n",
              "      <td>0.0</td>\n",
              "      <td>0.0</td>\n",
              "      <td>0.0</td>\n",
              "      <td>0.0</td>\n",
              "    </tr>\n",
              "    <tr>\n",
              "      <th>3</th>\n",
              "      <td>30.0</td>\n",
              "      <td>71.0</td>\n",
              "      <td>200.0</td>\n",
              "      <td>243.0</td>\n",
              "      <td>164.0</td>\n",
              "      <td>1584.0</td>\n",
              "      <td>235.0</td>\n",
              "      <td>175.0</td>\n",
              "      <td>385.0</td>\n",
              "      <td>315.0</td>\n",
              "      <td>35.0</td>\n",
              "      <td>1110.0</td>\n",
              "    </tr>\n",
              "    <tr>\n",
              "      <th>4</th>\n",
              "      <td>28.0</td>\n",
              "      <td>70.0</td>\n",
              "      <td>176.0</td>\n",
              "      <td>720.0</td>\n",
              "      <td>NaN</td>\n",
              "      <td>NaN</td>\n",
              "      <td>187.0</td>\n",
              "      <td>134.0</td>\n",
              "      <td>335.0</td>\n",
              "      <td>254.0</td>\n",
              "      <td>27.0</td>\n",
              "      <td>910.0</td>\n",
              "    </tr>\n",
              "    <tr>\n",
              "      <th>...</th>\n",
              "      <td>...</td>\n",
              "      <td>...</td>\n",
              "      <td>...</td>\n",
              "      <td>...</td>\n",
              "      <td>...</td>\n",
              "      <td>...</td>\n",
              "      <td>...</td>\n",
              "      <td>...</td>\n",
              "      <td>...</td>\n",
              "      <td>...</td>\n",
              "      <td>...</td>\n",
              "      <td>...</td>\n",
              "    </tr>\n",
              "    <tr>\n",
              "      <th>24088</th>\n",
              "      <td>39.0</td>\n",
              "      <td>75.0</td>\n",
              "      <td>186.0</td>\n",
              "      <td>980.0</td>\n",
              "      <td>NaN</td>\n",
              "      <td>NaN</td>\n",
              "      <td>145.0</td>\n",
              "      <td>85.0</td>\n",
              "      <td>245.0</td>\n",
              "      <td>135.0</td>\n",
              "      <td>NaN</td>\n",
              "      <td>610.0</td>\n",
              "    </tr>\n",
              "    <tr>\n",
              "      <th>24089</th>\n",
              "      <td>24.0</td>\n",
              "      <td>70.0</td>\n",
              "      <td>174.0</td>\n",
              "      <td>NaN</td>\n",
              "      <td>NaN</td>\n",
              "      <td>1059.0</td>\n",
              "      <td>143.0</td>\n",
              "      <td>121.0</td>\n",
              "      <td>351.0</td>\n",
              "      <td>287.0</td>\n",
              "      <td>12.0</td>\n",
              "      <td>902.0</td>\n",
              "    </tr>\n",
              "    <tr>\n",
              "      <th>24090</th>\n",
              "      <td>25.0</td>\n",
              "      <td>64.0</td>\n",
              "      <td>126.0</td>\n",
              "      <td>659.0</td>\n",
              "      <td>NaN</td>\n",
              "      <td>NaN</td>\n",
              "      <td>110.0</td>\n",
              "      <td>88.0</td>\n",
              "      <td>243.0</td>\n",
              "      <td>176.0</td>\n",
              "      <td>12.0</td>\n",
              "      <td>617.0</td>\n",
              "    </tr>\n",
              "    <tr>\n",
              "      <th>24091</th>\n",
              "      <td>22.0</td>\n",
              "      <td>72.0</td>\n",
              "      <td>174.0</td>\n",
              "      <td>NaN</td>\n",
              "      <td>345.0</td>\n",
              "      <td>NaN</td>\n",
              "      <td>115.0</td>\n",
              "      <td>95.0</td>\n",
              "      <td>175.0</td>\n",
              "      <td>115.0</td>\n",
              "      <td>NaN</td>\n",
              "      <td>500.0</td>\n",
              "    </tr>\n",
              "    <tr>\n",
              "      <th>24092</th>\n",
              "      <td>19.0</td>\n",
              "      <td>60.0</td>\n",
              "      <td>145.0</td>\n",
              "      <td>NaN</td>\n",
              "      <td>NaN</td>\n",
              "      <td>1441.0</td>\n",
              "      <td>133.0</td>\n",
              "      <td>93.0</td>\n",
              "      <td>240.0</td>\n",
              "      <td>173.0</td>\n",
              "      <td>NaN</td>\n",
              "      <td>639.0</td>\n",
              "    </tr>\n",
              "  </tbody>\n",
              "</table>\n",
              "<p>24093 rows × 12 columns</p>\n",
              "</div>"
            ],
            "text/plain": [
              "        age  height  weight   fran  grace   run5k  candj  snatch  deadlift  \\\n",
              "0      40.0    67.0     NaN  211.0  300.0     NaN  245.0   200.0     375.0   \n",
              "1      21.0    72.0   175.0    NaN    NaN     NaN    0.0     0.0       0.0   \n",
              "2      43.0    71.0   185.0    NaN    NaN     NaN    0.0     0.0       0.0   \n",
              "3      30.0    71.0   200.0  243.0  164.0  1584.0  235.0   175.0     385.0   \n",
              "4      28.0    70.0   176.0  720.0    NaN     NaN  187.0   134.0     335.0   \n",
              "...     ...     ...     ...    ...    ...     ...    ...     ...       ...   \n",
              "24088  39.0    75.0   186.0  980.0    NaN     NaN  145.0    85.0     245.0   \n",
              "24089  24.0    70.0   174.0    NaN    NaN  1059.0  143.0   121.0     351.0   \n",
              "24090  25.0    64.0   126.0  659.0    NaN     NaN  110.0    88.0     243.0   \n",
              "24091  22.0    72.0   174.0    NaN  345.0     NaN  115.0    95.0     175.0   \n",
              "24092  19.0    60.0   145.0    NaN    NaN  1441.0  133.0    93.0     240.0   \n",
              "\n",
              "       backsq  pullups  total_lift  \n",
              "0       325.0     25.0      1145.0  \n",
              "1         0.0      0.0         0.0  \n",
              "2         0.0      0.0         0.0  \n",
              "3       315.0     35.0      1110.0  \n",
              "4       254.0     27.0       910.0  \n",
              "...       ...      ...         ...  \n",
              "24088   135.0      NaN       610.0  \n",
              "24089   287.0     12.0       902.0  \n",
              "24090   176.0     12.0       617.0  \n",
              "24091   115.0      NaN       500.0  \n",
              "24092   173.0      NaN       639.0  \n",
              "\n",
              "[24093 rows x 12 columns]"
            ]
          },
          "execution_count": 65,
          "metadata": {},
          "output_type": "execute_result"
        }
      ],
      "source": [
        "df_num = df.select_dtypes(exclude=[bool])\n",
        "df_num"
      ]
    },
    {
      "cell_type": "markdown",
      "metadata": {
        "id": "AP6aQHkG_mzU"
      },
      "source": [
        "Lets take a look at the box plots to identify outliers etc."
      ]
    },
    {
      "cell_type": "code",
      "execution_count": 66,
      "metadata": {
        "colab": {
          "base_uri": "https://localhost:8080/",
          "height": 907
        },
        "id": "LETywBjc_mzU",
        "outputId": "c19e4731-198d-4203-d4b0-c2c96334231c"
      },
      "outputs": [
        {
          "data": {
            "image/png": "[encoded data removed]",
            "text/plain": [
              "<Figure size 900x900 with 12 Axes>"
            ]
          },
          "metadata": {},
          "output_type": "display_data"
        }
      ],
      "source": [
        "fig, axes = plt.subplots(3, 4, figsize=(9, 9))\n",
        "axes = axes.ravel()\n",
        "for i, feature in enumerate(df_num.columns):\n",
        "    sns.boxplot(y=df[feature], ax=axes[i])\n",
        "    axes[i].set_title(f'Boxplot of {feature}')\n",
        "\n",
        "plt.tight_layout()\n",
        "plt.show()"
      ]
    },
    {
      "cell_type": "markdown",
      "metadata": {
        "id": "FgUVFSaa_mzU"
      },
      "source": [
        "We can clearly see that for\n",
        "1.  Any age above 50 is an outlier, ages <18 should also be removed\n",
        "2.  Any height above 100, seems to be wrong.\n",
        "3.  Any weight above 250 should be removed and treated as an outlier\n",
        "4.  Any fran above 1000\n",
        "5.  Any helen above 1000\n",
        "6.  Any grace above 219\n",
        "7.  Any filthy50 above 1652\n",
        "8.  Any fgonebad above 400\n",
        "9.  Any run400 above 1000\n",
        "10. Any run5k above 1459\n",
        "11. Any candj above 450.\n",
        "12. Any snatch above 450\n",
        "13. Any deadlift above 700\n",
        "14. Any backsq above 700\n",
        "15. Any pullups above 490"
      ]
    },
    {
      "cell_type": "code",
      "execution_count": 67,
      "metadata": {
        "id": "UPMlB3I6_mzU"
      },
      "outputs": [],
      "source": [
        "# Remove Outliers\n",
        "df = df[((df['age'] < 50) & (df['age'] > 18)) | (df['age'].isna())]\n",
        "df = df[((df['height'] < 80) & (df['height']>60)) | (df['height'].isna())]\n",
        "df = df[((df['weight'] < 500) & (df['weight'] > 100))  | (df['weight'].isna())]\n",
        "df = df[(df['fran'] < 800) | (df['fran'].isna())]\n",
        "df = df[(df['grace'] < 1000) | (df['grace'].isna())]\n",
        "df = df[((df['run5k'] < 2000) & (df['run5k'] > 1000)) | (df['run5k'].isna())]\n",
        "df = df[((df['candj'] < 400) & (df['candj']  > 0))  | (df['candj'].isna())]\n",
        "df = df[(df['snatch'] < 400)  | (df['snatch'].isna())]\n",
        "df = df[((df['deadlift'] < 1000) & (df['deadlift']>0))  | (df['height'].isna())]\n",
        "df = df[((df['backsq'] < 700) & (df['backsq'] > 0))  | (df['backsq'].isna())]\n",
        "df = df[(df['pullups'] < 90)  | (df['pullups'].isna())]"
      ]
    },
    {
      "cell_type": "markdown",
      "metadata": {
        "id": "CM1JnCDZ_mzU"
      },
      "source": [
        "lets review the box plots again"
      ]
    },
    {
      "cell_type": "code",
      "execution_count": 68,
      "metadata": {
        "colab": {
          "base_uri": "https://localhost:8080/",
          "height": 907
        },
        "id": "eN9nP0OI_mzU",
        "outputId": "263c153d-5192-43ee-a815-4a8a242dfd51"
      },
      "outputs": [
        {
          "data": {
            "image/png": "[encoded data removed]",
            "text/plain": [
              "<Figure size 900x900 with 12 Axes>"
            ]
          },
          "metadata": {},
          "output_type": "display_data"
        }
      ],
      "source": [
        "fig, axes = plt.subplots(3, 4, figsize=(9, 9))\n",
        "axes = axes.ravel()\n",
        "for i, feature in enumerate(df_num.columns):\n",
        "    sns.histplot(df[feature], ax=axes[i])\n",
        "    axes[i].set_title(f'Histplot of {feature}')\n",
        "\n",
        "plt.tight_layout()\n",
        "plt.show()"
      ]
    },
    {
      "cell_type": "markdown",
      "metadata": {
        "id": "Ijc1UIH__mzV"
      },
      "source": [
        "It seems that all the outliers are taken care of now."
      ]
    },
    {
      "cell_type": "markdown",
      "metadata": {
        "id": "yaH5mqgq_mzV"
      },
      "source": [
        "Let us impute the values for the columns now."
      ]
    },
    {
      "cell_type": "code",
      "execution_count": 69,
      "metadata": {
        "colab": {
          "base_uri": "https://localhost:8080/"
        },
        "id": "PX0tZrEO_mzV",
        "outputId": "8c8e3b6b-8cc2-4a18-8d10-53fa73066d8a"
      },
      "outputs": [
        {
          "name": "stdout",
          "output_type": "stream",
          "text": [
            "<class 'pandas.core.frame.DataFrame'>\n",
            "Int64Index: 21299 entries, 0 to 24091\n",
            "Data columns (total 71 columns):\n",
            " #   Column                                                               Non-Null Count  Dtype  \n",
            "---  ------                                                               --------------  -----  \n",
            " 0   age                                                                  21299 non-null  float64\n",
            " 1   height                                                               20641 non-null  float64\n",
            " 2   weight                                                               19434 non-null  float64\n",
            " 3   fran                                                                 13017 non-null  float64\n",
            " 4   grace                                                                10621 non-null  float64\n",
            " 5   run5k                                                                7908 non-null   float64\n",
            " 6   candj                                                                21299 non-null  float64\n",
            " 7   snatch                                                               21299 non-null  float64\n",
            " 8   deadlift                                                             21299 non-null  float64\n",
            " 9   backsq                                                               21299 non-null  float64\n",
            " 10  pullups                                                              11475 non-null  float64\n",
            " 11  region_Africa                                                        21299 non-null  bool   \n",
            " 12  region_Asia                                                          21299 non-null  bool   \n",
            " 13  region_Australia                                                     21299 non-null  bool   \n",
            " 14  region_Canada East                                                   21299 non-null  bool   \n",
            " 15  region_Canada West                                                   21299 non-null  bool   \n",
            " 16  region_Central East                                                  21299 non-null  bool   \n",
            " 17  region_Europe                                                        21299 non-null  bool   \n",
            " 18  region_Latin America                                                 21299 non-null  bool   \n",
            " 19  region_Mid Atlantic                                                  21299 non-null  bool   \n",
            " 20  region_North Central                                                 21299 non-null  bool   \n",
            " 21  region_North East                                                    21299 non-null  bool   \n",
            " 22  region_North West                                                    21299 non-null  bool   \n",
            " 23  region_Northern California                                           21299 non-null  bool   \n",
            " 24  region_South Central                                                 21299 non-null  bool   \n",
            " 25  region_South East                                                    21299 non-null  bool   \n",
            " 26  region_South West                                                    21299 non-null  bool   \n",
            " 27  region_Southern California                                           21299 non-null  bool   \n",
            " 28  gender_Female                                                        21299 non-null  bool   \n",
            " 29  gender_Male                                                          21299 non-null  bool   \n",
            " 30  howlong_4+ years                                                     21299 non-null  bool   \n",
            " 31  howlong_2-4 years                                                    21299 non-null  bool   \n",
            " 32  howlong_1-2 years                                                    21299 non-null  bool   \n",
            " 33  howlong_6-12 months                                                  21299 non-null  bool   \n",
            " 34  howlong_Less than 6 months                                           21299 non-null  bool   \n",
            " 35  howlong_Decline to answer                                            21299 non-null  bool   \n",
            " 36  schedule_I usually only do 1 workout a day                           21299 non-null  bool   \n",
            " 37  schedule_I do multiple workouts in a day 3+ times a week             21299 non-null  bool   \n",
            " 38  schedule_I typically rest fewer than 4 days per month                21299 non-null  bool   \n",
            " 39  schedule_I typically rest 4 or more days per month                   21299 non-null  bool   \n",
            " 40  schedule_I do multiple workouts in a day 1x a week                   21299 non-null  bool   \n",
            " 41  schedule_I strictly schedule my rest days                            21299 non-null  bool   \n",
            " 42  schedule_I do multiple workouts in a day 2x a week                   21299 non-null  bool   \n",
            " 43  schedule_Decline to answer                                           21299 non-null  bool   \n",
            " 44  experience_I began CrossFit by trying it alone (without a coach)     21299 non-null  bool   \n",
            " 45  experience_I began CrossFit with a coach (e.g. at an affiliate)      21299 non-null  bool   \n",
            " 46  experience_I have completed the CrossFit Level 1 certificate course  21299 non-null  bool   \n",
            " 47  experience_I have attended one or more specialty courses             21299 non-null  bool   \n",
            " 48  experience_I have had a life changing experience due to CrossFit     21299 non-null  bool   \n",
            " 49  experience_I train other people                                      21299 non-null  bool   \n",
            " 50  experience_Decline to answer                                         21299 non-null  bool   \n",
            " 51  background_I played youth or high school level sports                21299 non-null  bool   \n",
            " 52  background_I have no athletic background besides CrossFit            21299 non-null  bool   \n",
            " 53  background_I played college sports                                   21299 non-null  bool   \n",
            " 54  background_I regularly play recreational sports                      21299 non-null  bool   \n",
            " 55  background_I played professional sports                              21299 non-null  bool   \n",
            " 56  background_Decline to answer                                         21299 non-null  bool   \n",
            " 57  train_I workout mostly at a CrossFit Affiliate                       21299 non-null  bool   \n",
            " 58  train_I have a coach who determines my programming                   21299 non-null  bool   \n",
            " 59  train_I record my workouts                                           21299 non-null  bool   \n",
            " 60  train_I incorporate CrossFit.com workouts                            21299 non-null  bool   \n",
            " 61  train_I workout mostly at home, work, or a traditional gym           21299 non-null  bool   \n",
            " 62  train_I write my own programming                                     21299 non-null  bool   \n",
            " 63  train_Decline to answer                                              21299 non-null  bool   \n",
            " 64  eat_I eat 1-3 full cheat meals per week                              21299 non-null  bool   \n",
            " 65  eat_I eat quality foods but don't measure the amount                 21299 non-null  bool   \n",
            " 66  eat_I eat whatever is convenient                                     21299 non-null  bool   \n",
            " 67  eat_I eat strict Paleo                                               21299 non-null  bool   \n",
            " 68  eat_I weigh and measure my food                                      21299 non-null  bool   \n",
            " 69  eat_Decline to answer                                                21299 non-null  bool   \n",
            " 70  total_lift                                                           21299 non-null  float64\n",
            "dtypes: bool(59), float64(12)\n",
            "memory usage: 3.3 MB\n"
          ]
        }
      ],
      "source": [
        "df.info()"
      ]
    },
    {
      "cell_type": "markdown",
      "metadata": {
        "id": "kYyxW3BkVO2v"
      },
      "source": [
        "Let us now impute the values"
      ]
    },
    {
      "cell_type": "code",
      "execution_count": 70,
      "metadata": {
        "id": "RBD1NOb5VRT7"
      },
      "outputs": [],
      "source": [
        "df[df_num.columns] = df[df_num.columns].fillna(df[df_num.columns].mean())"
      ]
    },
    {
      "cell_type": "code",
      "execution_count": 71,
      "metadata": {
        "colab": {
          "base_uri": "https://localhost:8080/"
        },
        "id": "oXaSo62xVfnR",
        "outputId": "6ae1d027-8582-4bab-a7c3-1500a23ba54b"
      },
      "outputs": [
        {
          "name": "stdout",
          "output_type": "stream",
          "text": [
            "<class 'pandas.core.frame.DataFrame'>\n",
            "Int64Index: 21299 entries, 0 to 24091\n",
            "Data columns (total 71 columns):\n",
            " #   Column                                                               Non-Null Count  Dtype  \n",
            "---  ------                                                               --------------  -----  \n",
            " 0   age                                                                  21299 non-null  float64\n",
            " 1   height                                                               21299 non-null  float64\n",
            " 2   weight                                                               21299 non-null  float64\n",
            " 3   fran                                                                 21299 non-null  float64\n",
            " 4   grace                                                                21299 non-null  float64\n",
            " 5   run5k                                                                21299 non-null  float64\n",
            " 6   candj                                                                21299 non-null  float64\n",
            " 7   snatch                                                               21299 non-null  float64\n",
            " 8   deadlift                                                             21299 non-null  float64\n",
            " 9   backsq                                                               21299 non-null  float64\n",
            " 10  pullups                                                              21299 non-null  float64\n",
            " 11  region_Africa                                                        21299 non-null  bool   \n",
            " 12  region_Asia                                                          21299 non-null  bool   \n",
            " 13  region_Australia                                                     21299 non-null  bool   \n",
            " 14  region_Canada East                                                   21299 non-null  bool   \n",
            " 15  region_Canada West                                                   21299 non-null  bool   \n",
            " 16  region_Central East                                                  21299 non-null  bool   \n",
            " 17  region_Europe                                                        21299 non-null  bool   \n",
            " 18  region_Latin America                                                 21299 non-null  bool   \n",
            " 19  region_Mid Atlantic                                                  21299 non-null  bool   \n",
            " 20  region_North Central                                                 21299 non-null  bool   \n",
            " 21  region_North East                                                    21299 non-null  bool   \n",
            " 22  region_North West                                                    21299 non-null  bool   \n",
            " 23  region_Northern California                                           21299 non-null  bool   \n",
            " 24  region_South Central                                                 21299 non-null  bool   \n",
            " 25  region_South East                                                    21299 non-null  bool   \n",
            " 26  region_South West                                                    21299 non-null  bool   \n",
            " 27  region_Southern California                                           21299 non-null  bool   \n",
            " 28  gender_Female                                                        21299 non-null  bool   \n",
            " 29  gender_Male                                                          21299 non-null  bool   \n",
            " 30  howlong_4+ years                                                     21299 non-null  bool   \n",
            " 31  howlong_2-4 years                                                    21299 non-null  bool   \n",
            " 32  howlong_1-2 years                                                    21299 non-null  bool   \n",
            " 33  howlong_6-12 months                                                  21299 non-null  bool   \n",
            " 34  howlong_Less than 6 months                                           21299 non-null  bool   \n",
            " 35  howlong_Decline to answer                                            21299 non-null  bool   \n",
            " 36  schedule_I usually only do 1 workout a day                           21299 non-null  bool   \n",
            " 37  schedule_I do multiple workouts in a day 3+ times a week             21299 non-null  bool   \n",
            " 38  schedule_I typically rest fewer than 4 days per month                21299 non-null  bool   \n",
            " 39  schedule_I typically rest 4 or more days per month                   21299 non-null  bool   \n",
            " 40  schedule_I do multiple workouts in a day 1x a week                   21299 non-null  bool   \n",
            " 41  schedule_I strictly schedule my rest days                            21299 non-null  bool   \n",
            " 42  schedule_I do multiple workouts in a day 2x a week                   21299 non-null  bool   \n",
            " 43  schedule_Decline to answer                                           21299 non-null  bool   \n",
            " 44  experience_I began CrossFit by trying it alone (without a coach)     21299 non-null  bool   \n",
            " 45  experience_I began CrossFit with a coach (e.g. at an affiliate)      21299 non-null  bool   \n",
            " 46  experience_I have completed the CrossFit Level 1 certificate course  21299 non-null  bool   \n",
            " 47  experience_I have attended one or more specialty courses             21299 non-null  bool   \n",
            " 48  experience_I have had a life changing experience due to CrossFit     21299 non-null  bool   \n",
            " 49  experience_I train other people                                      21299 non-null  bool   \n",
            " 50  experience_Decline to answer                                         21299 non-null  bool   \n",
            " 51  background_I played youth or high school level sports                21299 non-null  bool   \n",
            " 52  background_I have no athletic background besides CrossFit            21299 non-null  bool   \n",
            " 53  background_I played college sports                                   21299 non-null  bool   \n",
            " 54  background_I regularly play recreational sports                      21299 non-null  bool   \n",
            " 55  background_I played professional sports                              21299 non-null  bool   \n",
            " 56  background_Decline to answer                                         21299 non-null  bool   \n",
            " 57  train_I workout mostly at a CrossFit Affiliate                       21299 non-null  bool   \n",
            " 58  train_I have a coach who determines my programming                   21299 non-null  bool   \n",
            " 59  train_I record my workouts                                           21299 non-null  bool   \n",
            " 60  train_I incorporate CrossFit.com workouts                            21299 non-null  bool   \n",
            " 61  train_I workout mostly at home, work, or a traditional gym           21299 non-null  bool   \n",
            " 62  train_I write my own programming                                     21299 non-null  bool   \n",
            " 63  train_Decline to answer                                              21299 non-null  bool   \n",
            " 64  eat_I eat 1-3 full cheat meals per week                              21299 non-null  bool   \n",
            " 65  eat_I eat quality foods but don't measure the amount                 21299 non-null  bool   \n",
            " 66  eat_I eat whatever is convenient                                     21299 non-null  bool   \n",
            " 67  eat_I eat strict Paleo                                               21299 non-null  bool   \n",
            " 68  eat_I weigh and measure my food                                      21299 non-null  bool   \n",
            " 69  eat_Decline to answer                                                21299 non-null  bool   \n",
            " 70  total_lift                                                           21299 non-null  float64\n",
            "dtypes: bool(59), float64(12)\n",
            "memory usage: 3.3 MB\n"
          ]
        }
      ],
      "source": [
        "df.info()"
      ]
    },
    {
      "cell_type": "markdown",
      "metadata": {
        "id": "_lSWp_c7_mzV"
      },
      "source": [
        "Lets check the correlation of the variables\n",
        "First lets check the numerical columns"
      ]
    },
    {
      "cell_type": "code",
      "execution_count": 72,
      "metadata": {
        "colab": {
          "base_uri": "https://localhost:8080/",
          "height": 782
        },
        "id": "6f8PvlT7_mzW",
        "outputId": "b5be63b2-145c-4131-a8d7-3f5b6b0f38c2"
      },
      "outputs": [
        {
          "data": {
            "image/png": "[encoded data removed]",
            "text/plain": [
              "<Figure size 1500x1000 with 2 Axes>"
            ]
          },
          "metadata": {},
          "output_type": "display_data"
        }
      ],
      "source": [
        "corr_matrix = df.select_dtypes(exclude=[object,bool]).corr()\n",
        "plt.figure(figsize=(15, 10))\n",
        "sns.heatmap(corr_matrix, annot=True, cmap='coolwarm')\n",
        "plt.title('Correlation Matrix of Numeric Features')\n",
        "plt.show()"
      ]
    },
    {
      "cell_type": "markdown",
      "metadata": {
        "id": "YomjDTr2_mzW"
      },
      "source": [
        "Because the total_lift column is built off of candj,snatch,deadlift ad backsp, it would be wise to address it later on."
      ]
    },
    {
      "cell_type": "markdown",
      "metadata": {
        "id": "PQxzYwdk_mzW"
      },
      "source": [
        "### Storing the Data\n",
        "\n",
        "Lets commit our data to the branch cleaned_complete"
      ]
    },
    {
      "cell_type": "code",
      "execution_count": 73,
      "metadata": {
        "id": "l7roWy-8_mzW"
      },
      "outputs": [],
      "source": [
        "df.to_csv('../data/athletes.csv', index=False)"
      ]
    },
    {
      "cell_type": "code",
      "execution_count": 74,
      "metadata": {
        "colab": {
          "base_uri": "https://localhost:8080/"
        },
        "id": "hGkNc5pt_mzW",
        "outputId": "183e7fdc-8bfa-48d9-a197-94e9aa921b46"
      },
      "outputs": [
        {
          "data": {
            "text/plain": [
              "{'committer': 'quickstart',\n",
              " 'creation_date': 1697706042,\n",
              " 'id': 'e88f4e6a9c64331e25090aaf0b7f41b1bc4eaf108ae291507144cbd42932a35d',\n",
              " 'message': 'cleaned data and features extraction Athletes.csv | Version: 2',\n",
              " 'meta_range_id': '',\n",
              " 'metadata': {'changes': 'features extraced', 'using': 'python_api'},\n",
              " 'parents': ['47f1e55aae8ce84feb69ecd33ca5f454b96ef970ef6429b372628cf7b175d04a']}"
            ]
          },
          "execution_count": 74,
          "metadata": {},
          "output_type": "execute_result"
        }
      ],
      "source": [
        "branch = \"cleaned_complete\"\n",
        "lakefs.branches.create_branch(repository=repo_id, branch_creation=models.BranchCreation(name=branch,source=\"cleaned_main\"))\n",
        "contentToUpload = open(file=f\"{filePath}\", mode='rb')\n",
        "lakefs.objects.upload_object(repository=repo_id, branch=branch, path=f'data/{fileName}', content=contentToUpload)\n",
        "lakefs.commits.commit(\n",
        "    repository=repo_id,\n",
        "    branch=branch,\n",
        "    commit_creation=models.CommitCreation(message='cleaned data and features extraction Athletes.csv | Version: 2', metadata={'using': 'python_api','changes':'features extraced'}))"
      ]
    },
    {
      "cell_type": "markdown",
      "metadata": {
        "id": "ES9pVjfH_mzW"
      },
      "source": [
        "## Data Modelling\n",
        "\n",
        "lets work on modelling our data now."
      ]
    },
    {
      "cell_type": "code",
      "execution_count": 75,
      "metadata": {
        "id": "l4X8CQ5x_mzW"
      },
      "outputs": [],
      "source": [
        "#convert boolean columns to int\n",
        "def convert_bool(df):\n",
        "    for column in df.columns:\n",
        "        if df[column].dtype == bool:\n",
        "            df[column] = df[column].astype(int)\n",
        "    return df"
      ]
    },
    {
      "cell_type": "code",
      "execution_count": 76,
      "metadata": {
        "id": "rCbO20p-_mzW"
      },
      "outputs": [],
      "source": [
        "# Mandatory Imports\n",
        "from sklearn.model_selection import train_test_split\n",
        "from sklearn.preprocessing import StandardScaler\n",
        "from sklearn.feature_selection import SelectFromModel\n",
        "from sklearn.svm import LinearSVR\n",
        "from xgboost import XGBRegressor\n",
        "from sklearn.pipeline import Pipeline\n",
        "from sklearn.metrics import mean_squared_error,mean_absolute_error,r2_score\n",
        "from math import sqrt"
      ]
    },
    {
      "cell_type": "markdown",
      "metadata": {
        "id": "A274yR6X_mzX"
      },
      "source": [
        "Let us make a pipeline, through which we will process the data"
      ]
    },
    {
      "cell_type": "markdown",
      "metadata": {
        "id": "t8YMqRVff8A8"
      },
      "source": [
        "To handle a dataset with nans, lets use a model and a scaler that accepts nans"
      ]
    },
    {
      "cell_type": "code",
      "execution_count": 77,
      "metadata": {
        "id": "ptIS8KQk_mzX"
      },
      "outputs": [],
      "source": [
        "pipe = Pipeline([\n",
        "  ('normalization', StandardScaler()), # Scale and standardize the data\n",
        "  # ('feature_selection', SelectFromModel(LinearSVR(loss='epsilon_insensitive', epsilon=0))), # Select features we want to use\n",
        "  ('Regression', XGBRegressor()) # Use XGBoost to train the model\n",
        "])"
      ]
    },
    {
      "cell_type": "markdown",
      "metadata": {
        "id": "UBKijZyn_mzX"
      },
      "source": [
        "### Using Data from V1"
      ]
    },
    {
      "cell_type": "markdown",
      "metadata": {
        "id": "H7ky4qtW_mzX"
      },
      "source": [
        "Lets convert the data into train and test sets"
      ]
    },
    {
      "cell_type": "code",
      "execution_count": 78,
      "metadata": {
        "colab": {
          "base_uri": "https://localhost:8080/"
        },
        "id": "X177tne8_mzX",
        "outputId": "590b81f7-2a3d-4316-bfb9-eb4862dec207"
      },
      "outputs": [
        {
          "data": {
            "text/plain": [
              "16583"
            ]
          },
          "execution_count": 78,
          "metadata": {},
          "output_type": "execute_result"
        }
      ],
      "source": [
        "import gc\n",
        "gc.collect()"
      ]
    },
    {
      "cell_type": "code",
      "execution_count": 79,
      "metadata": {
        "colab": {
          "base_uri": "https://localhost:8080/",
          "height": 377
        },
        "id": "VPN9f02-_mzX",
        "outputId": "76424cf3-5fbe-4134-a45d-3e8845e72da4"
      },
      "outputs": [
        {
          "data": {
            "text/html": [
              "<div>\n",
              "<style scoped>\n",
              "    .dataframe tbody tr th:only-of-type {\n",
              "        vertical-align: middle;\n",
              "    }\n",
              "\n",
              "    .dataframe tbody tr th {\n",
              "        vertical-align: top;\n",
              "    }\n",
              "\n",
              "    .dataframe thead th {\n",
              "        text-align: right;\n",
              "    }\n",
              "</style>\n",
              "<table border=\"1\" class=\"dataframe\">\n",
              "  <thead>\n",
              "    <tr style=\"text-align: right;\">\n",
              "      <th></th>\n",
              "      <th>age</th>\n",
              "      <th>height</th>\n",
              "      <th>weight</th>\n",
              "      <th>fran</th>\n",
              "      <th>helen</th>\n",
              "      <th>grace</th>\n",
              "      <th>filthy50</th>\n",
              "      <th>fgonebad</th>\n",
              "      <th>run400</th>\n",
              "      <th>run5k</th>\n",
              "      <th>...</th>\n",
              "      <th>train_I workout mostly at home, work, or a traditional gym</th>\n",
              "      <th>train_I write my own programming</th>\n",
              "      <th>train_Decline to answer</th>\n",
              "      <th>eat_I eat 1-3 full cheat meals per week</th>\n",
              "      <th>eat_I eat quality foods but don't measure the amount</th>\n",
              "      <th>eat_I eat whatever is convenient</th>\n",
              "      <th>eat_I eat strict Paleo</th>\n",
              "      <th>eat_I weigh and measure my food</th>\n",
              "      <th>eat_Decline to answer</th>\n",
              "      <th>total_lift</th>\n",
              "    </tr>\n",
              "  </thead>\n",
              "  <tbody>\n",
              "    <tr>\n",
              "      <th>0</th>\n",
              "      <td>40.0</td>\n",
              "      <td>67.0</td>\n",
              "      <td>NaN</td>\n",
              "      <td>211.0</td>\n",
              "      <td>645.0</td>\n",
              "      <td>300.0</td>\n",
              "      <td>NaN</td>\n",
              "      <td>196.0</td>\n",
              "      <td>NaN</td>\n",
              "      <td>NaN</td>\n",
              "      <td>...</td>\n",
              "      <td>False</td>\n",
              "      <td>False</td>\n",
              "      <td>False</td>\n",
              "      <td>False</td>\n",
              "      <td>False</td>\n",
              "      <td>False</td>\n",
              "      <td>False</td>\n",
              "      <td>False</td>\n",
              "      <td>False</td>\n",
              "      <td>1145.0</td>\n",
              "    </tr>\n",
              "    <tr>\n",
              "      <th>1</th>\n",
              "      <td>21.0</td>\n",
              "      <td>72.0</td>\n",
              "      <td>175.0</td>\n",
              "      <td>NaN</td>\n",
              "      <td>NaN</td>\n",
              "      <td>NaN</td>\n",
              "      <td>NaN</td>\n",
              "      <td>0.0</td>\n",
              "      <td>NaN</td>\n",
              "      <td>NaN</td>\n",
              "      <td>...</td>\n",
              "      <td>False</td>\n",
              "      <td>False</td>\n",
              "      <td>False</td>\n",
              "      <td>False</td>\n",
              "      <td>False</td>\n",
              "      <td>False</td>\n",
              "      <td>False</td>\n",
              "      <td>False</td>\n",
              "      <td>False</td>\n",
              "      <td>0.0</td>\n",
              "    </tr>\n",
              "    <tr>\n",
              "      <th>2</th>\n",
              "      <td>43.0</td>\n",
              "      <td>71.0</td>\n",
              "      <td>185.0</td>\n",
              "      <td>NaN</td>\n",
              "      <td>NaN</td>\n",
              "      <td>NaN</td>\n",
              "      <td>NaN</td>\n",
              "      <td>NaN</td>\n",
              "      <td>NaN</td>\n",
              "      <td>NaN</td>\n",
              "      <td>...</td>\n",
              "      <td>False</td>\n",
              "      <td>False</td>\n",
              "      <td>False</td>\n",
              "      <td>False</td>\n",
              "      <td>False</td>\n",
              "      <td>False</td>\n",
              "      <td>False</td>\n",
              "      <td>False</td>\n",
              "      <td>False</td>\n",
              "      <td>0.0</td>\n",
              "    </tr>\n",
              "    <tr>\n",
              "      <th>3</th>\n",
              "      <td>30.0</td>\n",
              "      <td>71.0</td>\n",
              "      <td>200.0</td>\n",
              "      <td>243.0</td>\n",
              "      <td>NaN</td>\n",
              "      <td>164.0</td>\n",
              "      <td>NaN</td>\n",
              "      <td>298.0</td>\n",
              "      <td>NaN</td>\n",
              "      <td>1584.0</td>\n",
              "      <td>...</td>\n",
              "      <td>False</td>\n",
              "      <td>False</td>\n",
              "      <td>False</td>\n",
              "      <td>False</td>\n",
              "      <td>False</td>\n",
              "      <td>False</td>\n",
              "      <td>False</td>\n",
              "      <td>False</td>\n",
              "      <td>False</td>\n",
              "      <td>1110.0</td>\n",
              "    </tr>\n",
              "    <tr>\n",
              "      <th>4</th>\n",
              "      <td>28.0</td>\n",
              "      <td>70.0</td>\n",
              "      <td>176.0</td>\n",
              "      <td>720.0</td>\n",
              "      <td>680.0</td>\n",
              "      <td>NaN</td>\n",
              "      <td>NaN</td>\n",
              "      <td>280.0</td>\n",
              "      <td>NaN</td>\n",
              "      <td>NaN</td>\n",
              "      <td>...</td>\n",
              "      <td>False</td>\n",
              "      <td>False</td>\n",
              "      <td>False</td>\n",
              "      <td>False</td>\n",
              "      <td>False</td>\n",
              "      <td>False</td>\n",
              "      <td>False</td>\n",
              "      <td>False</td>\n",
              "      <td>False</td>\n",
              "      <td>910.0</td>\n",
              "    </tr>\n",
              "  </tbody>\n",
              "</table>\n",
              "<p>5 rows × 75 columns</p>\n",
              "</div>"
            ],
            "text/plain": [
              "    age  height  weight   fran  helen  grace  filthy50  fgonebad  run400  \\\n",
              "0  40.0    67.0     NaN  211.0  645.0  300.0       NaN     196.0     NaN   \n",
              "1  21.0    72.0   175.0    NaN    NaN    NaN       NaN       0.0     NaN   \n",
              "2  43.0    71.0   185.0    NaN    NaN    NaN       NaN       NaN     NaN   \n",
              "3  30.0    71.0   200.0  243.0    NaN  164.0       NaN     298.0     NaN   \n",
              "4  28.0    70.0   176.0  720.0  680.0    NaN       NaN     280.0     NaN   \n",
              "\n",
              "    run5k  ...  train_I workout mostly at home, work, or a traditional gym  \\\n",
              "0     NaN  ...                                              False            \n",
              "1     NaN  ...                                              False            \n",
              "2     NaN  ...                                              False            \n",
              "3  1584.0  ...                                              False            \n",
              "4     NaN  ...                                              False            \n",
              "\n",
              "   train_I write my own programming  train_Decline to answer  \\\n",
              "0                             False                    False   \n",
              "1                             False                    False   \n",
              "2                             False                    False   \n",
              "3                             False                    False   \n",
              "4                             False                    False   \n",
              "\n",
              "   eat_I eat 1-3 full cheat meals per week  \\\n",
              "0                                    False   \n",
              "1                                    False   \n",
              "2                                    False   \n",
              "3                                    False   \n",
              "4                                    False   \n",
              "\n",
              "   eat_I eat quality foods but don't measure the amount  \\\n",
              "0                                              False      \n",
              "1                                              False      \n",
              "2                                              False      \n",
              "3                                              False      \n",
              "4                                              False      \n",
              "\n",
              "   eat_I eat whatever is convenient  eat_I eat strict Paleo  \\\n",
              "0                             False                   False   \n",
              "1                             False                   False   \n",
              "2                             False                   False   \n",
              "3                             False                   False   \n",
              "4                             False                   False   \n",
              "\n",
              "   eat_I weigh and measure my food  eat_Decline to answer  total_lift  \n",
              "0                            False                  False      1145.0  \n",
              "1                            False                  False         0.0  \n",
              "2                            False                  False         0.0  \n",
              "3                            False                  False      1110.0  \n",
              "4                            False                  False       910.0  \n",
              "\n",
              "[5 rows x 75 columns]"
            ]
          },
          "execution_count": 79,
          "metadata": {},
          "output_type": "execute_result"
        }
      ],
      "source": [
        "branch=\"cleaned_main\"\n",
        "data = lakefs.objects.get_object(repository=repo_id, ref=branch, path=f'data/{fileName}')\n",
        "df = pd.read_csv(filepath_or_buffer=data)\n",
        "df.head()"
      ]
    },
    {
      "cell_type": "markdown",
      "metadata": {
        "id": "0HdR-HEt_mzX"
      },
      "source": [
        "The data contains nans, so we should either impute or delete them."
      ]
    },
    {
      "cell_type": "code",
      "execution_count": 80,
      "metadata": {
        "colab": {
          "base_uri": "https://localhost:8080/"
        },
        "id": "AY9Nmn7w_mzY",
        "outputId": "14139006-cdf9-4673-ef11-6b06c5d854ec"
      },
      "outputs": [
        {
          "name": "stdout",
          "output_type": "stream",
          "text": [
            "<class 'pandas.core.frame.DataFrame'>\n",
            "RangeIndex: 24093 entries, 0 to 24092\n",
            "Data columns (total 75 columns):\n",
            " #   Column                                                               Non-Null Count  Dtype  \n",
            "---  ------                                                               --------------  -----  \n",
            " 0   age                                                                  24093 non-null  float64\n",
            " 1   height                                                               23358 non-null  float64\n",
            " 2   weight                                                               21954 non-null  float64\n",
            " 3   fran                                                                 14174 non-null  float64\n",
            " 4   helen                                                                8752 non-null   float64\n",
            " 5   grace                                                                11502 non-null  float64\n",
            " 6   filthy50                                                             5724 non-null   float64\n",
            " 7   fgonebad                                                             8731 non-null   float64\n",
            " 8   run400                                                               6532 non-null   float64\n",
            " 9   run5k                                                                8899 non-null   float64\n",
            " 10  candj                                                                24093 non-null  float64\n",
            " 11  snatch                                                               24093 non-null  float64\n",
            " 12  deadlift                                                             24093 non-null  float64\n",
            " 13  backsq                                                               24093 non-null  float64\n",
            " 14  pullups                                                              13084 non-null  float64\n",
            " 15  region_Africa                                                        24093 non-null  bool   \n",
            " 16  region_Asia                                                          24093 non-null  bool   \n",
            " 17  region_Australia                                                     24093 non-null  bool   \n",
            " 18  region_Canada East                                                   24093 non-null  bool   \n",
            " 19  region_Canada West                                                   24093 non-null  bool   \n",
            " 20  region_Central East                                                  24093 non-null  bool   \n",
            " 21  region_Europe                                                        24093 non-null  bool   \n",
            " 22  region_Latin America                                                 24093 non-null  bool   \n",
            " 23  region_Mid Atlantic                                                  24093 non-null  bool   \n",
            " 24  region_North Central                                                 24093 non-null  bool   \n",
            " 25  region_North East                                                    24093 non-null  bool   \n",
            " 26  region_North West                                                    24093 non-null  bool   \n",
            " 27  region_Northern California                                           24093 non-null  bool   \n",
            " 28  region_South Central                                                 24093 non-null  bool   \n",
            " 29  region_South East                                                    24093 non-null  bool   \n",
            " 30  region_South West                                                    24093 non-null  bool   \n",
            " 31  region_Southern California                                           24093 non-null  bool   \n",
            " 32  gender_Female                                                        24093 non-null  bool   \n",
            " 33  gender_Male                                                          24093 non-null  bool   \n",
            " 34  howlong_4+ years                                                     24093 non-null  bool   \n",
            " 35  howlong_2-4 years                                                    24093 non-null  bool   \n",
            " 36  howlong_1-2 years                                                    24093 non-null  bool   \n",
            " 37  howlong_6-12 months                                                  24093 non-null  bool   \n",
            " 38  howlong_Less than 6 months                                           24093 non-null  bool   \n",
            " 39  howlong_Decline to answer                                            24093 non-null  bool   \n",
            " 40  schedule_I usually only do 1 workout a day                           24093 non-null  bool   \n",
            " 41  schedule_I do multiple workouts in a day 3+ times a week             24093 non-null  bool   \n",
            " 42  schedule_I typically rest fewer than 4 days per month                24093 non-null  bool   \n",
            " 43  schedule_I typically rest 4 or more days per month                   24093 non-null  bool   \n",
            " 44  schedule_I do multiple workouts in a day 1x a week                   24093 non-null  bool   \n",
            " 45  schedule_I strictly schedule my rest days                            24093 non-null  bool   \n",
            " 46  schedule_I do multiple workouts in a day 2x a week                   24093 non-null  bool   \n",
            " 47  schedule_Decline to answer                                           24093 non-null  bool   \n",
            " 48  experience_I began CrossFit by trying it alone (without a coach)     24093 non-null  bool   \n",
            " 49  experience_I began CrossFit with a coach (e.g. at an affiliate)      24093 non-null  bool   \n",
            " 50  experience_I have completed the CrossFit Level 1 certificate course  24093 non-null  bool   \n",
            " 51  experience_I have attended one or more specialty courses             24093 non-null  bool   \n",
            " 52  experience_I have had a life changing experience due to CrossFit     24093 non-null  bool   \n",
            " 53  experience_I train other people                                      24093 non-null  bool   \n",
            " 54  experience_Decline to answer                                         24093 non-null  bool   \n",
            " 55  background_I played youth or high school level sports                24093 non-null  bool   \n",
            " 56  background_I have no athletic background besides CrossFit            24093 non-null  bool   \n",
            " 57  background_I played college sports                                   24093 non-null  bool   \n",
            " 58  background_I regularly play recreational sports                      24093 non-null  bool   \n",
            " 59  background_I played professional sports                              24093 non-null  bool   \n",
            " 60  background_Decline to answer                                         24093 non-null  bool   \n",
            " 61  train_I workout mostly at a CrossFit Affiliate                       24093 non-null  bool   \n",
            " 62  train_I have a coach who determines my programming                   24093 non-null  bool   \n",
            " 63  train_I record my workouts                                           24093 non-null  bool   \n",
            " 64  train_I incorporate CrossFit.com workouts                            24093 non-null  bool   \n",
            " 65  train_I workout mostly at home, work, or a traditional gym           24093 non-null  bool   \n",
            " 66  train_I write my own programming                                     24093 non-null  bool   \n",
            " 67  train_Decline to answer                                              24093 non-null  bool   \n",
            " 68  eat_I eat 1-3 full cheat meals per week                              24093 non-null  bool   \n",
            " 69  eat_I eat quality foods but don't measure the amount                 24093 non-null  bool   \n",
            " 70  eat_I eat whatever is convenient                                     24093 non-null  bool   \n",
            " 71  eat_I eat strict Paleo                                               24093 non-null  bool   \n",
            " 72  eat_I weigh and measure my food                                      24093 non-null  bool   \n",
            " 73  eat_Decline to answer                                                24093 non-null  bool   \n",
            " 74  total_lift                                                           24093 non-null  float64\n",
            "dtypes: bool(59), float64(16)\n",
            "memory usage: 4.3 MB\n"
          ]
        }
      ],
      "source": [
        "df.info()"
      ]
    },
    {
      "cell_type": "code",
      "execution_count": 81,
      "metadata": {
        "colab": {
          "base_uri": "https://localhost:8080/"
        },
        "id": "PvzgCTPaXHp0",
        "outputId": "cb3f926f-8f4e-4ddd-bfa0-bdda26e5b279"
      },
      "outputs": [
        {
          "data": {
            "text/plain": [
              "['age',\n",
              " 'height',\n",
              " 'weight',\n",
              " 'fran',\n",
              " 'grace',\n",
              " 'run5k',\n",
              " 'candj',\n",
              " 'snatch',\n",
              " 'deadlift',\n",
              " 'backsq',\n",
              " 'pullups']"
            ]
          },
          "execution_count": 81,
          "metadata": {},
          "output_type": "execute_result"
        }
      ],
      "source": [
        "df_num_list = [x for x in df_num.columns if x!=\"total_lift\"]\n",
        "df_num_list"
      ]
    },
    {
      "cell_type": "code",
      "execution_count": 82,
      "metadata": {
        "id": "r__7g4AZ_mzY"
      },
      "outputs": [],
      "source": [
        "df = convert_bool(df=df)"
      ]
    },
    {
      "cell_type": "markdown",
      "metadata": {
        "id": "eg5Fcqbu_mzY"
      },
      "source": [
        "Lets split the data"
      ]
    },
    {
      "cell_type": "code",
      "execution_count": 83,
      "metadata": {
        "id": "yMnN8cW__mzY"
      },
      "outputs": [],
      "source": [
        "X_train, X_test , y_train, Y_test = train_test_split(df.drop(columns=['total_lift']), df['total_lift'], test_size=0.2, random_state=42)"
      ]
    },
    {
      "cell_type": "code",
      "execution_count": 84,
      "metadata": {
        "colab": {
          "base_uri": "https://localhost:8080/"
        },
        "id": "xUDJ02dZZz4r",
        "outputId": "b989cd5c-d5bf-4281-c2f1-fde037d2560b"
      },
      "outputs": [
        {
          "data": {
            "text/plain": [
              "(19274, 74)"
            ]
          },
          "execution_count": 84,
          "metadata": {},
          "output_type": "execute_result"
        }
      ],
      "source": [
        "X_train.shape"
      ]
    },
    {
      "cell_type": "markdown",
      "metadata": {
        "id": "y-iTtf_K_mzY"
      },
      "source": [
        "Lets train the model and evaluate it."
      ]
    },
    {
      "cell_type": "code",
      "execution_count": 85,
      "metadata": {
        "colab": {
          "base_uri": "https://localhost:8080/"
        },
        "id": "Er5o7fFd_mzY",
        "outputId": "ded0e584-0c66-4b23-f34d-cca8da71c09c"
      },
      "outputs": [
        {
          "name": "stdout",
          "output_type": "stream",
          "text": [
            "Mean Absolute Error (MAE) for v1: 2216.8377\n",
            "Root Mean Squared Error (RMSE) for v1: 153259.6461\n",
            "R^2 Score for v1: -211701.8913\n"
          ]
        }
      ],
      "source": [
        "pipe.fit(X_train, y_train)\n",
        "y_pred = pipe.predict(X_test)\n",
        "mae_v1 = mean_absolute_error(Y_test, y_pred)\n",
        "mse_v1 = mean_squared_error(Y_test, y_pred)\n",
        "r2_v1 = r2_score(Y_test, y_pred)\n",
        "\n",
        "print(f\"Mean Absolute Error (MAE) for v1: {mae_v1:.4f}\")\n",
        "print(f\"Root Mean Squared Error (RMSE) for v1: {sqrt(mse_v1):.4f}\")\n",
        "print(f\"R^2 Score for v1: {r2_v1:.4f}\")"
      ]
    },
    {
      "cell_type": "code",
      "execution_count": 86,
      "metadata": {
        "colab": {
          "base_uri": "https://localhost:8080/"
        },
        "id": "oEOXOoHcclxD",
        "outputId": "310fc643-11df-4c5d-81a9-e9b57a7cf6f9"
      },
      "outputs": [
        {
          "data": {
            "image/png": "[encoded data removed]",
            "text/plain": [
              "<Figure size 640x480 with 1 Axes>"
            ]
          },
          "metadata": {},
          "output_type": "display_data"
        }
      ],
      "source": [
        "importances = pipe.steps[1][1].feature_importances_\n",
        "importance_series = pd.Series(importances, index=X_train.columns).sort_values(ascending=False)[:6]\n",
        "# importance_series.index\n",
        "sns.barplot(x = importance_series, y= importance_series.index)\n",
        "plt.title(\"Feature Importances\")\n",
        "plt.xlabel(\"Importance\")\n",
        "plt.ylabel(\"feature\")\n",
        "plt.show()"
      ]
    },
    {
      "cell_type": "markdown",
      "metadata": {
        "id": "v4ADvblp_mzY"
      },
      "source": [
        "This model is clearly not a good model, as the $r^{2}$ is clearly negative. More work has to be done to impute nans and remove outliers"
      ]
    },
    {
      "cell_type": "markdown",
      "metadata": {
        "id": "W1JXJeT0_mzY"
      },
      "source": [
        "## Using Data V2"
      ]
    },
    {
      "cell_type": "code",
      "execution_count": 87,
      "metadata": {
        "colab": {
          "base_uri": "https://localhost:8080/"
        },
        "id": "hPf65GWa_mzY",
        "outputId": "b30c197a-d272-4edf-ea4e-734208dec340"
      },
      "outputs": [
        {
          "data": {
            "text/plain": [
              "35381"
            ]
          },
          "execution_count": 87,
          "metadata": {},
          "output_type": "execute_result"
        }
      ],
      "source": [
        "import gc\n",
        "gc.collect()"
      ]
    },
    {
      "cell_type": "code",
      "execution_count": 88,
      "metadata": {
        "colab": {
          "base_uri": "https://localhost:8080/",
          "height": 377
        },
        "id": "ELGWKMiR_mzY",
        "outputId": "6d484ccd-75cc-4535-c567-75c84fe47552"
      },
      "outputs": [
        {
          "data": {
            "text/html": [
              "<div>\n",
              "<style scoped>\n",
              "    .dataframe tbody tr th:only-of-type {\n",
              "        vertical-align: middle;\n",
              "    }\n",
              "\n",
              "    .dataframe tbody tr th {\n",
              "        vertical-align: top;\n",
              "    }\n",
              "\n",
              "    .dataframe thead th {\n",
              "        text-align: right;\n",
              "    }\n",
              "</style>\n",
              "<table border=\"1\" class=\"dataframe\">\n",
              "  <thead>\n",
              "    <tr style=\"text-align: right;\">\n",
              "      <th></th>\n",
              "      <th>age</th>\n",
              "      <th>height</th>\n",
              "      <th>weight</th>\n",
              "      <th>fran</th>\n",
              "      <th>grace</th>\n",
              "      <th>run5k</th>\n",
              "      <th>candj</th>\n",
              "      <th>snatch</th>\n",
              "      <th>deadlift</th>\n",
              "      <th>backsq</th>\n",
              "      <th>...</th>\n",
              "      <th>train_I workout mostly at home, work, or a traditional gym</th>\n",
              "      <th>train_I write my own programming</th>\n",
              "      <th>train_Decline to answer</th>\n",
              "      <th>eat_I eat 1-3 full cheat meals per week</th>\n",
              "      <th>eat_I eat quality foods but don't measure the amount</th>\n",
              "      <th>eat_I eat whatever is convenient</th>\n",
              "      <th>eat_I eat strict Paleo</th>\n",
              "      <th>eat_I weigh and measure my food</th>\n",
              "      <th>eat_Decline to answer</th>\n",
              "      <th>total_lift</th>\n",
              "    </tr>\n",
              "  </thead>\n",
              "  <tbody>\n",
              "    <tr>\n",
              "      <th>0</th>\n",
              "      <td>40.0</td>\n",
              "      <td>67.0</td>\n",
              "      <td>177.723629</td>\n",
              "      <td>211.0</td>\n",
              "      <td>300.000000</td>\n",
              "      <td>1394.510749</td>\n",
              "      <td>245.0</td>\n",
              "      <td>200.0</td>\n",
              "      <td>375.0</td>\n",
              "      <td>325.0</td>\n",
              "      <td>...</td>\n",
              "      <td>False</td>\n",
              "      <td>False</td>\n",
              "      <td>False</td>\n",
              "      <td>False</td>\n",
              "      <td>False</td>\n",
              "      <td>False</td>\n",
              "      <td>False</td>\n",
              "      <td>False</td>\n",
              "      <td>False</td>\n",
              "      <td>1145.0</td>\n",
              "    </tr>\n",
              "    <tr>\n",
              "      <th>1</th>\n",
              "      <td>30.0</td>\n",
              "      <td>71.0</td>\n",
              "      <td>200.000000</td>\n",
              "      <td>243.0</td>\n",
              "      <td>164.000000</td>\n",
              "      <td>1584.000000</td>\n",
              "      <td>235.0</td>\n",
              "      <td>175.0</td>\n",
              "      <td>385.0</td>\n",
              "      <td>315.0</td>\n",
              "      <td>...</td>\n",
              "      <td>False</td>\n",
              "      <td>False</td>\n",
              "      <td>False</td>\n",
              "      <td>False</td>\n",
              "      <td>False</td>\n",
              "      <td>False</td>\n",
              "      <td>False</td>\n",
              "      <td>False</td>\n",
              "      <td>False</td>\n",
              "      <td>1110.0</td>\n",
              "    </tr>\n",
              "    <tr>\n",
              "      <th>2</th>\n",
              "      <td>28.0</td>\n",
              "      <td>70.0</td>\n",
              "      <td>176.000000</td>\n",
              "      <td>720.0</td>\n",
              "      <td>201.749929</td>\n",
              "      <td>1394.510749</td>\n",
              "      <td>187.0</td>\n",
              "      <td>134.0</td>\n",
              "      <td>335.0</td>\n",
              "      <td>254.0</td>\n",
              "      <td>...</td>\n",
              "      <td>False</td>\n",
              "      <td>False</td>\n",
              "      <td>False</td>\n",
              "      <td>False</td>\n",
              "      <td>False</td>\n",
              "      <td>False</td>\n",
              "      <td>False</td>\n",
              "      <td>False</td>\n",
              "      <td>False</td>\n",
              "      <td>910.0</td>\n",
              "    </tr>\n",
              "    <tr>\n",
              "      <th>3</th>\n",
              "      <td>35.0</td>\n",
              "      <td>68.0</td>\n",
              "      <td>225.000000</td>\n",
              "      <td>215.0</td>\n",
              "      <td>112.000000</td>\n",
              "      <td>1394.510749</td>\n",
              "      <td>285.0</td>\n",
              "      <td>205.0</td>\n",
              "      <td>440.0</td>\n",
              "      <td>405.0</td>\n",
              "      <td>...</td>\n",
              "      <td>False</td>\n",
              "      <td>False</td>\n",
              "      <td>False</td>\n",
              "      <td>False</td>\n",
              "      <td>False</td>\n",
              "      <td>False</td>\n",
              "      <td>False</td>\n",
              "      <td>False</td>\n",
              "      <td>False</td>\n",
              "      <td>1335.0</td>\n",
              "    </tr>\n",
              "    <tr>\n",
              "      <th>4</th>\n",
              "      <td>36.0</td>\n",
              "      <td>71.0</td>\n",
              "      <td>199.000000</td>\n",
              "      <td>284.0</td>\n",
              "      <td>154.000000</td>\n",
              "      <td>1394.510749</td>\n",
              "      <td>267.0</td>\n",
              "      <td>212.0</td>\n",
              "      <td>485.0</td>\n",
              "      <td>390.0</td>\n",
              "      <td>...</td>\n",
              "      <td>False</td>\n",
              "      <td>False</td>\n",
              "      <td>False</td>\n",
              "      <td>False</td>\n",
              "      <td>False</td>\n",
              "      <td>False</td>\n",
              "      <td>False</td>\n",
              "      <td>False</td>\n",
              "      <td>False</td>\n",
              "      <td>1354.0</td>\n",
              "    </tr>\n",
              "  </tbody>\n",
              "</table>\n",
              "<p>5 rows × 71 columns</p>\n",
              "</div>"
            ],
            "text/plain": [
              "    age  height      weight   fran       grace        run5k  candj  snatch  \\\n",
              "0  40.0    67.0  177.723629  211.0  300.000000  1394.510749  245.0   200.0   \n",
              "1  30.0    71.0  200.000000  243.0  164.000000  1584.000000  235.0   175.0   \n",
              "2  28.0    70.0  176.000000  720.0  201.749929  1394.510749  187.0   134.0   \n",
              "3  35.0    68.0  225.000000  215.0  112.000000  1394.510749  285.0   205.0   \n",
              "4  36.0    71.0  199.000000  284.0  154.000000  1394.510749  267.0   212.0   \n",
              "\n",
              "   deadlift  backsq  ...  \\\n",
              "0     375.0   325.0  ...   \n",
              "1     385.0   315.0  ...   \n",
              "2     335.0   254.0  ...   \n",
              "3     440.0   405.0  ...   \n",
              "4     485.0   390.0  ...   \n",
              "\n",
              "   train_I workout mostly at home, work, or a traditional gym  \\\n",
              "0                                              False            \n",
              "1                                              False            \n",
              "2                                              False            \n",
              "3                                              False            \n",
              "4                                              False            \n",
              "\n",
              "   train_I write my own programming  train_Decline to answer  \\\n",
              "0                             False                    False   \n",
              "1                             False                    False   \n",
              "2                             False                    False   \n",
              "3                             False                    False   \n",
              "4                             False                    False   \n",
              "\n",
              "   eat_I eat 1-3 full cheat meals per week  \\\n",
              "0                                    False   \n",
              "1                                    False   \n",
              "2                                    False   \n",
              "3                                    False   \n",
              "4                                    False   \n",
              "\n",
              "   eat_I eat quality foods but don't measure the amount  \\\n",
              "0                                              False      \n",
              "1                                              False      \n",
              "2                                              False      \n",
              "3                                              False      \n",
              "4                                              False      \n",
              "\n",
              "   eat_I eat whatever is convenient  eat_I eat strict Paleo  \\\n",
              "0                             False                   False   \n",
              "1                             False                   False   \n",
              "2                             False                   False   \n",
              "3                             False                   False   \n",
              "4                             False                   False   \n",
              "\n",
              "   eat_I weigh and measure my food  eat_Decline to answer  total_lift  \n",
              "0                            False                  False      1145.0  \n",
              "1                            False                  False      1110.0  \n",
              "2                            False                  False       910.0  \n",
              "3                            False                  False      1335.0  \n",
              "4                            False                  False      1354.0  \n",
              "\n",
              "[5 rows x 71 columns]"
            ]
          },
          "execution_count": 88,
          "metadata": {},
          "output_type": "execute_result"
        }
      ],
      "source": [
        "branch=\"cleaned_complete\"\n",
        "data = lakefs.objects.get_object(repository=repo_id, ref=branch, path=f'data/{fileName}')\n",
        "df = pd.read_csv(filepath_or_buffer=data)\n",
        "df.head()"
      ]
    },
    {
      "cell_type": "code",
      "execution_count": 89,
      "metadata": {
        "id": "yfdHteWG_mzY"
      },
      "outputs": [],
      "source": [
        "df = convert_bool(df=df)"
      ]
    },
    {
      "cell_type": "code",
      "execution_count": 90,
      "metadata": {
        "id": "e2naDP7k_mzZ"
      },
      "outputs": [],
      "source": [
        "X_train, X_test , y_train, Y_test = train_test_split(df.drop(columns=['total_lift']), df['total_lift'], test_size=0.2, random_state=42)"
      ]
    },
    {
      "cell_type": "code",
      "execution_count": 91,
      "metadata": {
        "colab": {
          "base_uri": "https://localhost:8080/"
        },
        "id": "J2zlhEjO_mzZ",
        "outputId": "4ef817ad-9ba0-4071-dd1c-a60549cc77ee"
      },
      "outputs": [
        {
          "name": "stdout",
          "output_type": "stream",
          "text": [
            "Mean Absolute Error (MAE) for v2: 6.2506\n",
            "Root Mean Squared Error (RMSE) for v2: 9.1866\n",
            "R^2 Score for v2: 0.9989\n"
          ]
        }
      ],
      "source": [
        "pipe.fit(X_train, y_train)\n",
        "y_pred = pipe.predict(X_test)\n",
        "mae_v2 = mean_absolute_error(Y_test, y_pred)\n",
        "mse_v2 = mean_squared_error(Y_test, y_pred)\n",
        "r2_v2 = r2_score(Y_test, y_pred)\n",
        "\n",
        "print(f\"Mean Absolute Error (MAE) for v2: {mae_v2:.4f}\")\n",
        "print(f\"Root Mean Squared Error (RMSE) for v2: {sqrt(mse_v2):.4f}\")\n",
        "print(f\"R^2 Score for v2: {r2_v2:.4f}\")"
      ]
    },
    {
      "cell_type": "code",
      "execution_count": 92,
      "metadata": {
        "colab": {
          "base_uri": "https://localhost:8080/"
        },
        "id": "OEdd9GFqbAds",
        "outputId": "076cedc7-5ef4-4693-9fec-7c2507eb9191"
      },
      "outputs": [
        {
          "data": {
            "image/png": "[encoded data removed]",
            "text/plain": [
              "<Figure size 640x480 with 1 Axes>"
            ]
          },
          "metadata": {},
          "output_type": "display_data"
        }
      ],
      "source": [
        "importances = pipe.steps[1][1].feature_importances_\n",
        "importance_series = pd.Series(importances, index=X_train.columns).sort_values(ascending=False)[:6]\n",
        "# importance_series.index\n",
        "sns.barplot(x = importance_series, y= importance_series.index)\n",
        "plt.title(\"Feature Importances\")\n",
        "plt.xlabel(\"Importance\")\n",
        "plt.ylabel(\"feature\")\n",
        "plt.show()"
      ]
    },
    {
      "cell_type": "markdown",
      "metadata": {
        "id": "hOdLZ97R_mzZ"
      },
      "source": [
        "As we can see, this model is much better, but it might be overfitting. This is because the model has clearly identified the relationship between Total_Lift and BackSQ, C&j,Deadlift and Snatch"
      ]
    },
    {
      "cell_type": "markdown",
      "metadata": {
        "id": "b_DZvvpw_mzZ"
      },
      "source": [
        "## Testing Tensorflows Differential Privacy"
      ]
    },
    {
      "cell_type": "code",
      "execution_count": 93,
      "metadata": {
        "id": "3B-WoZQ1_mzZ"
      },
      "outputs": [],
      "source": [
        "import tensorflow as tf\n",
        "from tensorflow_privacy.privacy.analysis.compute_dp_sgd_privacy_lib import compute_dp_sgd_privacy\n",
        "from tensorflow_privacy.privacy.analysis.compute_dp_sgd_privacy import compute_dp_sgd_privacy_statement\n",
        "from tensorflow_privacy.privacy.optimizers import dp_optimizer_keras\n",
        "import datetime\n",
        "import os"
      ]
    },
    {
      "cell_type": "markdown",
      "metadata": {
        "id": "1yQP6wKn_mzZ"
      },
      "source": [
        "Lets take a look at the $\\epsilon$ value for our Dataset V2"
      ]
    },
    {
      "cell_type": "code",
      "execution_count": 94,
      "metadata": {},
      "outputs": [
        {
          "data": {
            "text/plain": [
              "17039"
            ]
          },
          "execution_count": 94,
          "metadata": {},
          "output_type": "execute_result"
        }
      ],
      "source": [
        "len(X_train)"
      ]
    },
    {
      "cell_type": "code",
      "execution_count": 132,
      "metadata": {
        "colab": {
          "base_uri": "https://localhost:8080/"
        },
        "id": "ctViNoJY_mza",
        "outputId": "a77a4483-f654-4f5a-b162-5412ed073e40"
      },
      "outputs": [
        {
          "name": "stderr",
          "output_type": "stream",
          "text": [
            "WARNING:absl:`compute_dp_sgd_privacy` is deprecated. It does not account for doubling of sensitivity with microbatching, and assumes Poisson subsampling, which is rarely used in practice. Please use `compute_dp_sgd_privacy_statement`, which provides appropriate context for the guarantee. To compute epsilon under different assumptions than those in `compute_dp_sgd_privacy_statement`, call the `dp_accounting` libraries directly.\n"
          ]
        },
        {
          "name": "stdout",
          "output_type": "stream",
          "text": [
            "(2.131641070005613, 10.0)\n"
          ]
        }
      ],
      "source": [
        "l2_norm_clip = 0.5\n",
        "noise_multiplier = 1.3\n",
        "num_microbatches = 1\n",
        "learning_rate = 2e-3\n",
        "number_of_examples = len(X_train)\n",
        "batch_size = 50\n",
        "epochs=100\n",
        "delta=1e-5\n",
        "\n",
        "\n",
        "print(compute_dp_sgd_privacy(n=number_of_examples,\n",
        "                                              batch_size=batch_size,\n",
        "                                              noise_multiplier=noise_multiplier,\n",
        "                                              epochs=epochs,\n",
        "                                              delta=delta))"
      ]
    },
    {
      "cell_type": "code",
      "execution_count": 133,
      "metadata": {},
      "outputs": [
        {
          "name": "stdout",
          "output_type": "stream",
          "text": [
            "DP-SGD performed over 17039 examples with 50 examples per iteration, noise\n",
            "multiplier 1.3 for 100 epochs with microbatching, and no bound on number of\n",
            "examples per user.\n",
            "\n",
            "This privacy guarantee protects the release of all model checkpoints in addition\n",
            "to the final model.\n",
            "\n",
            "Example-level DP with add-or-remove-one adjacency at delta = 1e-05 computed with\n",
            "RDP accounting:\n",
            "    Epsilon with each example occurring once per epoch:       189.882\n",
            "    Epsilon assuming Poisson sampling (*):                      9.552\n",
            "\n",
            "No user-level privacy guarantee is possible without a bound on the number of\n",
            "examples per user.\n",
            "\n",
            "(*) Poisson sampling is not usually done in training pipelines, but assuming\n",
            "that the data was randomly shuffled, it is believed the actual epsilon should be\n",
            "closer to this value than the conservative assumption of an arbitrary data\n",
            "order.\n",
            "\n"
          ]
        }
      ],
      "source": [
        "\n",
        "print(compute_dp_sgd_privacy_statement(number_of_examples=number_of_examples,\n",
        "                                              batch_size=batch_size,\n",
        "                                              noise_multiplier=noise_multiplier,\n",
        "                                              num_epochs=epochs,\n",
        "                                              delta=delta))"
      ]
    },
    {
      "cell_type": "markdown",
      "metadata": {
        "id": "-B2LKhToip6w"
      },
      "source": [
        "We can see that with a poisson value of 4.322, the model has a decent DP value"
      ]
    },
    {
      "cell_type": "markdown",
      "metadata": {
        "id": "ecgBLYJQiyYO"
      },
      "source": [
        "## Let us train a TF NN model to test"
      ]
    },
    {
      "cell_type": "code",
      "execution_count": 101,
      "metadata": {},
      "outputs": [
        {
          "name": "stdout",
          "output_type": "stream",
          "text": [
            "The tensorboard extension is already loaded. To reload it, use:\n",
            "  %reload_ext tensorboard\n"
          ]
        }
      ],
      "source": [
        "%load_ext tensorboard"
      ]
    },
    {
      "cell_type": "code",
      "execution_count": 126,
      "metadata": {},
      "outputs": [],
      "source": [
        "from keras.src.layers.preprocessing import normalization\n",
        "optimizer = dp_optimizer_keras.DPKerasAdamOptimizer(\n",
        "    l2_norm_clip=l2_norm_clip,\n",
        "    noise_multiplier=noise_multiplier,\n",
        "    num_microbatches=num_microbatches,\n",
        "    learning_rate=learning_rate)\n",
        "\n",
        "# Select your loss function\n",
        "# loss = tf.keras.losses.mean_squared_error()\n",
        "\n",
        "normalization = tf.keras.layers.Normalization(axis=-1)\n",
        "normalization.adapt(np.array(X_train))\n",
        "\n",
        "model = tf.keras.Sequential([\n",
        "    tf.keras.layers.Input((70,)),\n",
        "    normalization,\n",
        "    tf.keras.layers.Dense(70, activation='relu'),\n",
        "    tf.keras.layers.Dense(1)\n",
        "])\n",
        "log_dir = \"logs/fit/\" + datetime.datetime.now().strftime(\"%Y%m%d-%H%M%S\")\n",
        "tensorboard_callback = tf.keras.callbacks.TensorBoard(log_dir=log_dir, histogram_freq=1)\n",
        "metrics = [tf.keras.metrics.MeanSquaredError(),\n",
        "           tf.keras.metrics.RootMeanSquaredError(),\n",
        "           tf.keras.metrics.R2Score(),\n",
        "           tf.keras.metrics.MeanAbsoluteError()]"
      ]
    },
    {
      "cell_type": "code",
      "execution_count": 127,
      "metadata": {},
      "outputs": [],
      "source": [
        "class model_per_epoch(tf.keras.callbacks.Callback):\n",
        "    def __init__(self, model,filepath,save_best_only):\n",
        "        self.filepath=filepath\n",
        "        self.model=model\n",
        "        self.save_best_only=save_best_only\n",
        "        self.lowest_loss=np.inf\n",
        "        self.best_weights=self.model.get_weights()\n",
        "    def on_epoch_end(self,epoch, logs=None):\n",
        "        v_loss=logs.get('val_loss')\n",
        "        if v_loss< self.lowest_loss:\n",
        "            self.lowest_loss =v_loss\n",
        "            self.best_weights=self.model.get_weights()\n",
        "            self.best_epoch=epoch +1\n",
        "        if self.save_best_only==False:\n",
        "            name= str(epoch) +'-' + str(v_loss)[:str(v_loss).rfind('.')+3] + '.h5'\n",
        "            file_id=os.path.join(self.filepath, name)\n",
        "            self.model.save(file_id)\n",
        "    def on_train_end(self, logs=None):\n",
        "        if self.save_best_only == True:\n",
        "            self.model.set_weights(self.best_weights)\n",
        "            name= str(self.best_epoch) +'-' + str(self.lowest_loss)[:str(self.lowest_loss).rfind('.')+3] + '.h5'\n",
        "            file_id=os.path.join(self.filepath, name)\n",
        "            self.model.save(file_id)\n",
        "            print(' model is returned with best weights from epoch ', self.best_epoch)\n",
        "            \n",
        "save_dir=r'models/'\n",
        "save_best_only= True"
      ]
    },
    {
      "cell_type": "code",
      "execution_count": 128,
      "metadata": {
        "colab": {
          "base_uri": "https://localhost:8080/"
        },
        "id": "jjTuMSY9iwxJ",
        "outputId": "ab642c4a-c3bd-4ad3-e3ec-cce9913878a1"
      },
      "outputs": [
        {
          "name": "stdout",
          "output_type": "stream",
          "text": [
            "Epoch 1/100\n",
            "  1/341 [..............................] - ETA: 4:55 - loss: 1251032.0000 - mean_squared_error: 1251032.0000 - root_mean_squared_error: 1118.4954 - r2_score: -12.8106 - mean_absolute_error: 1077.2556WARNING:tensorflow:Callback method `on_train_batch_end` is slow compared to the batch time (batch time: 0.0012s vs `on_train_batch_end` time: 0.0054s). Check your callbacks.\n"
          ]
        },
        {
          "name": "stderr",
          "output_type": "stream",
          "text": [
            "WARNING:tensorflow:Callback method `on_train_batch_end` is slow compared to the batch time (batch time: 0.0012s vs `on_train_batch_end` time: 0.0054s). Check your callbacks.\n"
          ]
        },
        {
          "name": "stdout",
          "output_type": "stream",
          "text": [
            "341/341 [==============================] - 2s 2ms/step - loss: 1124930.2500 - mean_squared_error: 1124930.2500 - root_mean_squared_error: 1060.6273 - r2_score: -13.2865 - mean_absolute_error: 1022.8250 - val_loss: 1111676.0000 - val_mean_squared_error: 1111676.0000 - val_root_mean_squared_error: 1054.3605 - val_r2_score: -13.8511 - val_mean_absolute_error: 1018.2419\n",
            "Epoch 2/100\n",
            "341/341 [==============================] - 1s 2ms/step - loss: 1121748.5000 - mean_squared_error: 1121748.5000 - root_mean_squared_error: 1059.1263 - r2_score: -13.2459 - mean_absolute_error: 1021.3009 - val_loss: 1108411.2500 - val_mean_squared_error: 1108411.2500 - val_root_mean_squared_error: 1052.8112 - val_r2_score: -13.8075 - val_mean_absolute_error: 1016.6863\n",
            "Epoch 3/100\n",
            "341/341 [==============================] - 1s 2ms/step - loss: 1118666.6250 - mean_squared_error: 1118666.6250 - root_mean_squared_error: 1057.6704 - r2_score: -13.2069 - mean_absolute_error: 1019.8508 - val_loss: 1105230.5000 - val_mean_squared_error: 1105230.5000 - val_root_mean_squared_error: 1051.2994 - val_r2_score: -13.7650 - val_mean_absolute_error: 1015.2135\n",
            "Epoch 4/100\n",
            "341/341 [==============================] - 1s 2ms/step - loss: 1114932.5000 - mean_squared_error: 1114932.5000 - root_mean_squared_error: 1055.9037 - r2_score: -13.1596 - mean_absolute_error: 1018.1539 - val_loss: 1101176.8750 - val_mean_squared_error: 1101176.8750 - val_root_mean_squared_error: 1049.3698 - val_r2_score: -13.7108 - val_mean_absolute_error: 1013.3900\n",
            "Epoch 5/100\n",
            "341/341 [==============================] - 1s 2ms/step - loss: 1110413.5000 - mean_squared_error: 1110413.3750 - root_mean_squared_error: 1053.7616 - r2_score: -13.1019 - mean_absolute_error: 1016.1942 - val_loss: 1096857.0000 - val_mean_squared_error: 1096857.0000 - val_root_mean_squared_error: 1047.3094 - val_r2_score: -13.6531 - val_mean_absolute_error: 1011.5132\n",
            "Epoch 6/100\n",
            "341/341 [==============================] - 1s 2ms/step - loss: 1105777.3750 - mean_squared_error: 1105777.3750 - root_mean_squared_error: 1051.5594 - r2_score: -13.0431 - mean_absolute_error: 1014.1874 - val_loss: 1091922.7500 - val_mean_squared_error: 1091922.7500 - val_root_mean_squared_error: 1044.9510 - val_r2_score: -13.5872 - val_mean_absolute_error: 1009.3745\n",
            "Epoch 7/100\n",
            "341/341 [==============================] - 1s 2ms/step - loss: 1100180.1250 - mean_squared_error: 1100180.1250 - root_mean_squared_error: 1048.8948 - r2_score: -12.9722 - mean_absolute_error: 1011.7317 - val_loss: 1085748.6250 - val_mean_squared_error: 1085748.7500 - val_root_mean_squared_error: 1041.9927 - val_r2_score: -13.5047 - val_mean_absolute_error: 1006.6304\n",
            "Epoch 8/100\n",
            "341/341 [==============================] - 1s 2ms/step - loss: 1093418.5000 - mean_squared_error: 1093418.6250 - root_mean_squared_error: 1045.6666 - r2_score: -12.8862 - mean_absolute_error: 1008.8237 - val_loss: 1078835.5000 - val_mean_squared_error: 1078835.5000 - val_root_mean_squared_error: 1038.6700 - val_r2_score: -13.4124 - val_mean_absolute_error: 1003.6393\n",
            "Epoch 9/100\n",
            "341/341 [==============================] - 1s 2ms/step - loss: 1086026.3750 - mean_squared_error: 1086026.3750 - root_mean_squared_error: 1042.1259 - r2_score: -12.7923 - mean_absolute_error: 1005.6380 - val_loss: 1071021.2500 - val_mean_squared_error: 1071021.2500 - val_root_mean_squared_error: 1034.9016 - val_r2_score: -13.3080 - val_mean_absolute_error: 1000.2654\n",
            "Epoch 10/100\n",
            "341/341 [==============================] - 1s 2ms/step - loss: 1078121.1250 - mean_squared_error: 1078121.1250 - root_mean_squared_error: 1038.3262 - r2_score: -12.6919 - mean_absolute_error: 1002.2371 - val_loss: 1063431.1250 - val_mean_squared_error: 1063431.2500 - val_root_mean_squared_error: 1031.2280 - val_r2_score: -13.2066 - val_mean_absolute_error: 996.9484\n",
            "Epoch 11/100\n",
            "341/341 [==============================] - 1s 2ms/step - loss: 1070274.0000 - mean_squared_error: 1070274.0000 - root_mean_squared_error: 1034.5405 - r2_score: -12.5923 - mean_absolute_error: 998.8803 - val_loss: 1055671.5000 - val_mean_squared_error: 1055671.5000 - val_root_mean_squared_error: 1027.4587 - val_r2_score: -13.1029 - val_mean_absolute_error: 993.6172\n",
            "Epoch 12/100\n",
            "341/341 [==============================] - 1s 2ms/step - loss: 1061917.2500 - mean_squared_error: 1061917.2500 - root_mean_squared_error: 1030.4937 - r2_score: -12.4861 - mean_absolute_error: 995.3315 - val_loss: 1046496.1250 - val_mean_squared_error: 1046496.1250 - val_root_mean_squared_error: 1022.9839 - val_r2_score: -12.9804 - val_mean_absolute_error: 989.6985\n",
            "Epoch 13/100\n",
            "341/341 [==============================] - 1s 2ms/step - loss: 1052671.2500 - mean_squared_error: 1052671.2500 - root_mean_squared_error: 1025.9977 - r2_score: -12.3687 - mean_absolute_error: 991.4269 - val_loss: 1037617.0625 - val_mean_squared_error: 1037617.0625 - val_root_mean_squared_error: 1018.6349 - val_r2_score: -12.8617 - val_mean_absolute_error: 985.9307\n",
            "Epoch 14/100\n",
            "341/341 [==============================] - 1s 2ms/step - loss: 1042658.4375 - mean_squared_error: 1042658.4375 - root_mean_squared_error: 1021.1065 - r2_score: -12.2417 - mean_absolute_error: 987.1749 - val_loss: 1027684.3750 - val_mean_squared_error: 1027684.3750 - val_root_mean_squared_error: 1013.7477 - val_r2_score: -12.7290 - val_mean_absolute_error: 981.6473\n",
            "Epoch 15/100\n",
            "341/341 [==============================] - 1s 2ms/step - loss: 1031660.1250 - mean_squared_error: 1031660.1250 - root_mean_squared_error: 1015.7067 - r2_score: -12.1019 - mean_absolute_error: 982.4451 - val_loss: 1015850.6875 - val_mean_squared_error: 1015850.6875 - val_root_mean_squared_error: 1007.8942 - val_r2_score: -12.5710 - val_mean_absolute_error: 976.4547\n",
            "Epoch 16/100\n",
            "341/341 [==============================] - 1s 2ms/step - loss: 1019188.7500 - mean_squared_error: 1019188.7500 - root_mean_squared_error: 1009.5488 - r2_score: -11.9435 - mean_absolute_error: 977.0560 - val_loss: 1003069.9375 - val_mean_squared_error: 1003069.9375 - val_root_mean_squared_error: 1001.5338 - val_r2_score: -12.4002 - val_mean_absolute_error: 970.9051\n",
            "Epoch 17/100\n",
            "341/341 [==============================] - 1s 2ms/step - loss: 1006360.6250 - mean_squared_error: 1006360.6250 - root_mean_squared_error: 1003.1753 - r2_score: -11.7805 - mean_absolute_error: 971.4749 - val_loss: 990646.6250 - val_mean_squared_error: 990646.5625 - val_root_mean_squared_error: 995.3123 - val_r2_score: -12.2342 - val_mean_absolute_error: 965.4307\n",
            "Epoch 18/100\n",
            "341/341 [==============================] - 1s 2ms/step - loss: 993260.0625 - mean_squared_error: 993260.0625 - root_mean_squared_error: 996.6243 - r2_score: -11.6142 - mean_absolute_error: 965.7516 - val_loss: 977423.7500 - val_mean_squared_error: 977423.8750 - val_root_mean_squared_error: 988.6475 - val_r2_score: -12.0576 - val_mean_absolute_error: 959.5360\n",
            "Epoch 19/100\n",
            "341/341 [==============================] - 1s 2ms/step - loss: 979604.8125 - mean_squared_error: 979604.8125 - root_mean_squared_error: 989.7499 - r2_score: -11.4409 - mean_absolute_error: 959.7297 - val_loss: 964678.7500 - val_mean_squared_error: 964678.7500 - val_root_mean_squared_error: 982.1806 - val_r2_score: -11.8873 - val_mean_absolute_error: 953.9181\n",
            "Epoch 20/100\n",
            "341/341 [==============================] - 1s 2ms/step - loss: 966800.0000 - mean_squared_error: 966800.0000 - root_mean_squared_error: 983.2599 - r2_score: -11.2784 - mean_absolute_error: 954.0215 - val_loss: 951628.5625 - val_mean_squared_error: 951628.5625 - val_root_mean_squared_error: 975.5145 - val_r2_score: -11.7130 - val_mean_absolute_error: 948.0212\n",
            "Epoch 21/100\n",
            "341/341 [==============================] - 1s 2ms/step - loss: 952232.1875 - mean_squared_error: 952232.1875 - root_mean_squared_error: 975.8239 - r2_score: -11.0932 - mean_absolute_error: 947.5783 - val_loss: 936178.8125 - val_mean_squared_error: 936178.8125 - val_root_mean_squared_error: 967.5634 - val_r2_score: -11.5066 - val_mean_absolute_error: 941.1245\n",
            "Epoch 22/100\n",
            "341/341 [==============================] - 1s 2ms/step - loss: 935861.3125 - mean_squared_error: 935861.3125 - root_mean_squared_error: 967.3992 - r2_score: -10.8853 - mean_absolute_error: 940.2209 - val_loss: 921080.5000 - val_mean_squared_error: 921080.5000 - val_root_mean_squared_error: 959.7294 - val_r2_score: -11.3049 - val_mean_absolute_error: 934.2439\n",
            "Epoch 23/100\n",
            "341/341 [==============================] - 1s 2ms/step - loss: 920875.2500 - mean_squared_error: 920875.2500 - root_mean_squared_error: 959.6224 - r2_score: -10.6950 - mean_absolute_error: 933.4076 - val_loss: 906245.0625 - val_mean_squared_error: 906245.0625 - val_root_mean_squared_error: 951.9691 - val_r2_score: -11.1067 - val_mean_absolute_error: 927.3600\n",
            "Epoch 24/100\n",
            "341/341 [==============================] - 1s 2ms/step - loss: 905669.6250 - mean_squared_error: 905669.6250 - root_mean_squared_error: 951.6667 - r2_score: -10.5018 - mean_absolute_error: 926.4399 - val_loss: 891447.8125 - val_mean_squared_error: 891447.8125 - val_root_mean_squared_error: 944.1652 - val_r2_score: -10.9090 - val_mean_absolute_error: 920.6456\n",
            "Epoch 25/100\n",
            "341/341 [==============================] - 1s 2ms/step - loss: 889402.6250 - mean_squared_error: 889402.6250 - root_mean_squared_error: 943.0815 - r2_score: -10.2953 - mean_absolute_error: 919.0916 - val_loss: 873458.4375 - val_mean_squared_error: 873458.4375 - val_root_mean_squared_error: 934.5900 - val_r2_score: -10.6687 - val_mean_absolute_error: 912.3547\n",
            "Epoch 26/100\n",
            "341/341 [==============================] - 1s 2ms/step - loss: 870652.8125 - mean_squared_error: 870652.8125 - root_mean_squared_error: 933.0878 - r2_score: -10.0572 - mean_absolute_error: 910.4012 - val_loss: 855828.1875 - val_mean_squared_error: 855828.1875 - val_root_mean_squared_error: 925.1098 - val_r2_score: -10.4332 - val_mean_absolute_error: 903.9744\n",
            "Epoch 27/100\n",
            "341/341 [==============================] - 1s 2ms/step - loss: 852325.1875 - mean_squared_error: 852325.1875 - root_mean_squared_error: 923.2146 - r2_score: -9.8244 - mean_absolute_error: 901.6778 - val_loss: 838180.2500 - val_mean_squared_error: 838180.2500 - val_root_mean_squared_error: 915.5219 - val_r2_score: -10.1974 - val_mean_absolute_error: 895.4265\n",
            "Epoch 28/100\n",
            "341/341 [==============================] - 1s 2ms/step - loss: 834260.7500 - mean_squared_error: 834260.7500 - root_mean_squared_error: 913.3788 - r2_score: -9.5950 - mean_absolute_error: 892.8725 - val_loss: 819822.7500 - val_mean_squared_error: 819822.7500 - val_root_mean_squared_error: 905.4406 - val_r2_score: -9.9522 - val_mean_absolute_error: 886.3712\n",
            "Epoch 29/100\n",
            "341/341 [==============================] - 1s 2ms/step - loss: 814978.6250 - mean_squared_error: 814978.6250 - root_mean_squared_error: 902.7617 - r2_score: -9.3501 - mean_absolute_error: 883.3193 - val_loss: 800403.6875 - val_mean_squared_error: 800403.6875 - val_root_mean_squared_error: 894.6528 - val_r2_score: -9.6928 - val_mean_absolute_error: 876.6487\n",
            "Epoch 30/100\n",
            "341/341 [==============================] - 1s 2ms/step - loss: 795918.0000 - mean_squared_error: 795918.0000 - root_mean_squared_error: 892.1424 - r2_score: -9.1081 - mean_absolute_error: 873.9047 - val_loss: 783151.3750 - val_mean_squared_error: 783151.3750 - val_root_mean_squared_error: 884.9584 - val_r2_score: -9.4623 - val_mean_absolute_error: 868.0312\n",
            "Epoch 31/100\n",
            "341/341 [==============================] - 1s 2ms/step - loss: 775971.1250 - mean_squared_error: 775971.1250 - root_mean_squared_error: 880.8922 - r2_score: -8.8548 - mean_absolute_error: 863.8816 - val_loss: 762200.8750 - val_mean_squared_error: 762200.8750 - val_root_mean_squared_error: 873.0411 - val_r2_score: -9.1824 - val_mean_absolute_error: 857.3259\n",
            "Epoch 32/100\n",
            "341/341 [==============================] - 1s 2ms/step - loss: 755666.3750 - mean_squared_error: 755666.3750 - root_mean_squared_error: 869.2907 - r2_score: -8.5968 - mean_absolute_error: 853.4003 - val_loss: 741253.3750 - val_mean_squared_error: 741253.3750 - val_root_mean_squared_error: 860.9608 - val_r2_score: -8.9026 - val_mean_absolute_error: 846.2859\n",
            "Epoch 33/100\n",
            "341/341 [==============================] - 1s 2ms/step - loss: 733165.9375 - mean_squared_error: 733165.9375 - root_mean_squared_error: 856.2511 - r2_score: -8.3111 - mean_absolute_error: 841.4869 - val_loss: 721178.6875 - val_mean_squared_error: 721178.6875 - val_root_mean_squared_error: 849.2224 - val_r2_score: -8.6344 - val_mean_absolute_error: 835.5106\n",
            "Epoch 34/100\n",
            "341/341 [==============================] - 1s 2ms/step - loss: 715003.5625 - mean_squared_error: 715003.5625 - root_mean_squared_error: 845.5789 - r2_score: -8.0804 - mean_absolute_error: 831.6880 - val_loss: 703393.5625 - val_mean_squared_error: 703393.5625 - val_root_mean_squared_error: 838.6856 - val_r2_score: -8.3968 - val_mean_absolute_error: 825.7998\n",
            "Epoch 35/100\n",
            "341/341 [==============================] - 1s 2ms/step - loss: 697090.8750 - mean_squared_error: 697090.8750 - root_mean_squared_error: 834.9197 - r2_score: -7.8529 - mean_absolute_error: 821.9144 - val_loss: 685759.1250 - val_mean_squared_error: 685759.1250 - val_root_mean_squared_error: 828.1058 - val_r2_score: -8.1612 - val_mean_absolute_error: 816.0569\n",
            "Epoch 36/100\n",
            "341/341 [==============================] - 1s 2ms/step - loss: 678097.0625 - mean_squared_error: 678097.0625 - root_mean_squared_error: 823.4665 - r2_score: -7.6118 - mean_absolute_error: 811.3247 - val_loss: 667262.1875 - val_mean_squared_error: 667262.1875 - val_root_mean_squared_error: 816.8612 - val_r2_score: -7.9141 - val_mean_absolute_error: 805.5760\n",
            "Epoch 37/100\n",
            "341/341 [==============================] - 1s 2ms/step - loss: 659983.9375 - mean_squared_error: 659983.9375 - root_mean_squared_error: 812.3940 - r2_score: -7.3817 - mean_absolute_error: 800.9929 - val_loss: 650373.4375 - val_mean_squared_error: 650373.4375 - val_root_mean_squared_error: 806.4573 - val_r2_score: -7.6885 - val_mean_absolute_error: 795.7529\n",
            "Epoch 38/100\n",
            "341/341 [==============================] - 1s 2ms/step - loss: 641408.8750 - mean_squared_error: 641408.8750 - root_mean_squared_error: 800.8801 - r2_score: -7.1457 - mean_absolute_error: 790.1565 - val_loss: 630938.6250 - val_mean_squared_error: 630938.6250 - val_root_mean_squared_error: 794.3165 - val_r2_score: -7.4288 - val_mean_absolute_error: 784.3239\n",
            "Epoch 39/100\n",
            "341/341 [==============================] - 1s 2ms/step - loss: 620072.3125 - mean_squared_error: 620072.3125 - root_mean_squared_error: 787.4467 - r2_score: -6.8748 - mean_absolute_error: 777.4210 - val_loss: 608962.0625 - val_mean_squared_error: 608962.0625 - val_root_mean_squared_error: 780.3602 - val_r2_score: -7.1352 - val_mean_absolute_error: 770.9581\n",
            "Epoch 40/100\n",
            "341/341 [==============================] - 1s 2ms/step - loss: 598364.0625 - mean_squared_error: 598364.1250 - root_mean_squared_error: 773.5400 - r2_score: -6.5992 - mean_absolute_error: 764.0927 - val_loss: 587274.1250 - val_mean_squared_error: 587274.1250 - val_root_mean_squared_error: 766.3381 - val_r2_score: -6.8455 - val_mean_absolute_error: 757.3540\n",
            "Epoch 41/100\n",
            "341/341 [==============================] - 1s 2ms/step - loss: 576010.4375 - mean_squared_error: 576010.4375 - root_mean_squared_error: 758.9535 - r2_score: -6.3152 - mean_absolute_error: 749.9184 - val_loss: 567396.3125 - val_mean_squared_error: 567396.3125 - val_root_mean_squared_error: 753.2571 - val_r2_score: -6.5800 - val_mean_absolute_error: 744.5338\n",
            "Epoch 42/100\n",
            "341/341 [==============================] - 1s 2ms/step - loss: 556540.1250 - mean_squared_error: 556540.1250 - root_mean_squared_error: 746.0162 - r2_score: -6.0680 - mean_absolute_error: 737.2014 - val_loss: 547072.0000 - val_mean_squared_error: 547072.0000 - val_root_mean_squared_error: 739.6431 - val_r2_score: -6.3084 - val_mean_absolute_error: 731.0500\n",
            "Epoch 43/100\n",
            "341/341 [==============================] - 1s 2ms/step - loss: 535045.3750 - mean_squared_error: 535045.3750 - root_mean_squared_error: 731.4680 - r2_score: -5.7950 - mean_absolute_error: 722.6635 - val_loss: 526087.9375 - val_mean_squared_error: 526087.9375 - val_root_mean_squared_error: 725.3192 - val_r2_score: -6.0281 - val_mean_absolute_error: 716.5770\n",
            "Epoch 44/100\n",
            "341/341 [==============================] - 1s 2ms/step - loss: 513699.9062 - mean_squared_error: 513699.9062 - root_mean_squared_error: 716.7286 - r2_score: -5.5240 - mean_absolute_error: 707.7246 - val_loss: 505396.5312 - val_mean_squared_error: 505396.5312 - val_root_mean_squared_error: 710.9125 - val_r2_score: -5.7517 - val_mean_absolute_error: 701.8808\n",
            "Epoch 45/100\n",
            "341/341 [==============================] - 1s 2ms/step - loss: 493440.0312 - mean_squared_error: 493440.0312 - root_mean_squared_error: 702.4529 - r2_score: -5.2667 - mean_absolute_error: 693.0377 - val_loss: 486435.1250 - val_mean_squared_error: 486435.1250 - val_root_mean_squared_error: 697.4490 - val_r2_score: -5.4984 - val_mean_absolute_error: 687.8475\n",
            "Epoch 46/100\n",
            "341/341 [==============================] - 1s 2ms/step - loss: 474415.0938 - mean_squared_error: 474415.0938 - root_mean_squared_error: 688.7780 - r2_score: -5.0250 - mean_absolute_error: 678.6937 - val_loss: 467499.7812 - val_mean_squared_error: 467499.7812 - val_root_mean_squared_error: 683.7396 - val_r2_score: -5.2454 - val_mean_absolute_error: 673.3636\n",
            "Epoch 47/100\n",
            "341/341 [==============================] - 1s 2ms/step - loss: 455709.9062 - mean_squared_error: 455709.9062 - root_mean_squared_error: 675.0629 - r2_score: -4.7874 - mean_absolute_error: 664.0084 - val_loss: 449005.0312 - val_mean_squared_error: 449005.0312 - val_root_mean_squared_error: 670.0784 - val_r2_score: -4.9983 - val_mean_absolute_error: 658.6026\n",
            "Epoch 48/100\n",
            "341/341 [==============================] - 1s 2ms/step - loss: 438707.6875 - mean_squared_error: 438707.6875 - root_mean_squared_error: 662.3501 - r2_score: -4.5716 - mean_absolute_error: 650.2229 - val_loss: 434264.7812 - val_mean_squared_error: 434264.7812 - val_root_mean_squared_error: 658.9877 - val_r2_score: -4.8014 - val_mean_absolute_error: 646.3626\n",
            "Epoch 49/100\n",
            "341/341 [==============================] - 1s 2ms/step - loss: 421041.5000 - mean_squared_error: 421041.5000 - root_mean_squared_error: 648.8771 - r2_score: -4.3472 - mean_absolute_error: 635.0790 - val_loss: 415860.9688 - val_mean_squared_error: 415860.9688 - val_root_mean_squared_error: 644.8728 - val_r2_score: -4.5556 - val_mean_absolute_error: 630.4788\n",
            "Epoch 50/100\n",
            "341/341 [==============================] - 1s 2ms/step - loss: 404635.2500 - mean_squared_error: 404635.2500 - root_mean_squared_error: 636.1094 - r2_score: -4.1388 - mean_absolute_error: 620.5997 - val_loss: 399853.4062 - val_mean_squared_error: 399853.4062 - val_root_mean_squared_error: 632.3396 - val_r2_score: -4.3417 - val_mean_absolute_error: 616.0675\n",
            "Epoch 51/100\n",
            "341/341 [==============================] - 1s 2ms/step - loss: 388405.5312 - mean_squared_error: 388405.5312 - root_mean_squared_error: 623.2219 - r2_score: -3.9327 - mean_absolute_error: 605.5999 - val_loss: 383719.3750 - val_mean_squared_error: 383719.3750 - val_root_mean_squared_error: 619.4509 - val_r2_score: -4.1262 - val_mean_absolute_error: 600.9913\n",
            "Epoch 52/100\n",
            "341/341 [==============================] - 1s 2ms/step - loss: 371579.7812 - mean_squared_error: 371579.7812 - root_mean_squared_error: 609.5734 - r2_score: -3.7190 - mean_absolute_error: 589.5659 - val_loss: 367757.0000 - val_mean_squared_error: 367757.0000 - val_root_mean_squared_error: 606.4297 - val_r2_score: -3.9129 - val_mean_absolute_error: 585.6632\n",
            "Epoch 53/100\n",
            "341/341 [==============================] - 1s 2ms/step - loss: 356131.5312 - mean_squared_error: 356131.5312 - root_mean_squared_error: 596.7676 - r2_score: -3.5228 - mean_absolute_error: 574.1466 - val_loss: 353766.9688 - val_mean_squared_error: 353766.9688 - val_root_mean_squared_error: 594.7831 - val_r2_score: -3.7260 - val_mean_absolute_error: 571.4393\n",
            "Epoch 54/100\n",
            "341/341 [==============================] - 1s 2ms/step - loss: 342473.3438 - mean_squared_error: 342473.3438 - root_mean_squared_error: 585.2122 - r2_score: -3.3493 - mean_absolute_error: 559.9700 - val_loss: 338367.5312 - val_mean_squared_error: 338367.5312 - val_root_mean_squared_error: 581.6937 - val_r2_score: -3.5203 - val_mean_absolute_error: 555.3860\n",
            "Epoch 55/100\n",
            "341/341 [==============================] - 1s 2ms/step - loss: 328325.5625 - mean_squared_error: 328325.5625 - root_mean_squared_error: 572.9970 - r2_score: -3.1697 - mean_absolute_error: 544.8659 - val_loss: 325165.5000 - val_mean_squared_error: 325165.5000 - val_root_mean_squared_error: 570.2328 - val_r2_score: -3.3440 - val_mean_absolute_error: 540.9442\n",
            "Epoch 56/100\n",
            "341/341 [==============================] - 1s 2ms/step - loss: 314176.8125 - mean_squared_error: 314176.8125 - root_mean_squared_error: 560.5148 - r2_score: -2.9900 - mean_absolute_error: 529.1210 - val_loss: 310945.1250 - val_mean_squared_error: 310945.1250 - val_root_mean_squared_error: 557.6245 - val_r2_score: -3.1540 - val_mean_absolute_error: 524.8685\n",
            "Epoch 57/100\n",
            "341/341 [==============================] - 1s 2ms/step - loss: 300915.4375 - mean_squared_error: 300915.4375 - root_mean_squared_error: 548.5576 - r2_score: -2.8216 - mean_absolute_error: 513.5474 - val_loss: 297545.9062 - val_mean_squared_error: 297545.8750 - val_root_mean_squared_error: 545.4777 - val_r2_score: -2.9750 - val_mean_absolute_error: 508.7909\n",
            "Epoch 58/100\n",
            "341/341 [==============================] - 1s 2ms/step - loss: 288365.2188 - mean_squared_error: 288365.2188 - root_mean_squared_error: 536.9965 - r2_score: -2.6622 - mean_absolute_error: 498.4542 - val_loss: 285833.7812 - val_mean_squared_error: 285833.7812 - val_root_mean_squared_error: 534.6343 - val_r2_score: -2.8185 - val_mean_absolute_error: 494.6888\n",
            "Epoch 59/100\n",
            "341/341 [==============================] - 1s 2ms/step - loss: 276398.3438 - mean_squared_error: 276398.3125 - root_mean_squared_error: 525.7360 - r2_score: -2.5102 - mean_absolute_error: 484.1573 - val_loss: 274186.3750 - val_mean_squared_error: 274186.3750 - val_root_mean_squared_error: 523.6281 - val_r2_score: -2.6629 - val_mean_absolute_error: 480.9348\n",
            "Epoch 60/100\n",
            "341/341 [==============================] - 1s 2ms/step - loss: 264409.6875 - mean_squared_error: 264409.6875 - root_mean_squared_error: 514.2078 - r2_score: -2.3580 - mean_absolute_error: 469.8078 - val_loss: 262904.6875 - val_mean_squared_error: 262904.6875 - val_root_mean_squared_error: 512.7423 - val_r2_score: -2.5122 - val_mean_absolute_error: 467.6649\n",
            "Epoch 61/100\n",
            "341/341 [==============================] - 1s 2ms/step - loss: 254354.8906 - mean_squared_error: 254354.8906 - root_mean_squared_error: 504.3361 - r2_score: -2.2303 - mean_absolute_error: 457.7698 - val_loss: 252721.2500 - val_mean_squared_error: 252721.2500 - val_root_mean_squared_error: 502.7139 - val_r2_score: -2.3762 - val_mean_absolute_error: 455.2493\n",
            "Epoch 62/100\n",
            "341/341 [==============================] - 1s 2ms/step - loss: 245268.2656 - mean_squared_error: 245268.2656 - root_mean_squared_error: 495.2457 - r2_score: -2.1148 - mean_absolute_error: 446.5596 - val_loss: 243507.3281 - val_mean_squared_error: 243507.3281 - val_root_mean_squared_error: 493.4646 - val_r2_score: -2.2531 - val_mean_absolute_error: 444.0587\n",
            "Epoch 63/100\n",
            "341/341 [==============================] - 1s 2ms/step - loss: 235125.5312 - mean_squared_error: 235125.5312 - root_mean_squared_error: 484.8974 - r2_score: -1.9861 - mean_absolute_error: 434.3291 - val_loss: 233003.1719 - val_mean_squared_error: 233003.1719 - val_root_mean_squared_error: 482.7040 - val_r2_score: -2.1127 - val_mean_absolute_error: 431.7892\n",
            "Epoch 64/100\n",
            "341/341 [==============================] - 1s 2ms/step - loss: 226263.2500 - mean_squared_error: 226263.2500 - root_mean_squared_error: 475.6714 - r2_score: -1.8735 - mean_absolute_error: 423.7779 - val_loss: 224935.6562 - val_mean_squared_error: 224935.6562 - val_root_mean_squared_error: 474.2738 - val_r2_score: -2.0050 - val_mean_absolute_error: 422.1738\n",
            "Epoch 65/100\n",
            "341/341 [==============================] - 1s 2ms/step - loss: 218475.9062 - mean_squared_error: 218475.9062 - root_mean_squared_error: 467.4141 - r2_score: -1.7746 - mean_absolute_error: 414.3882 - val_loss: 217699.0156 - val_mean_squared_error: 217699.0156 - val_root_mean_squared_error: 466.5823 - val_r2_score: -1.9083 - val_mean_absolute_error: 413.6748\n",
            "Epoch 66/100\n",
            "341/341 [==============================] - 1s 2ms/step - loss: 209937.5000 - mean_squared_error: 209937.5000 - root_mean_squared_error: 458.1894 - r2_score: -1.6662 - mean_absolute_error: 404.6178 - val_loss: 207086.4062 - val_mean_squared_error: 207086.4062 - val_root_mean_squared_error: 455.0675 - val_r2_score: -1.7665 - val_mean_absolute_error: 401.5225\n",
            "Epoch 67/100\n",
            "341/341 [==============================] - 1s 2ms/step - loss: 200428.1719 - mean_squared_error: 200428.1719 - root_mean_squared_error: 447.6920 - r2_score: -1.5454 - mean_absolute_error: 393.5641 - val_loss: 198461.6094 - val_mean_squared_error: 198461.6094 - val_root_mean_squared_error: 445.4903 - val_r2_score: -1.6513 - val_mean_absolute_error: 391.2624\n",
            "Epoch 68/100\n",
            "341/341 [==============================] - 1s 2ms/step - loss: 191319.9219 - mean_squared_error: 191319.9219 - root_mean_squared_error: 437.4013 - r2_score: -1.4297 - mean_absolute_error: 382.7405 - val_loss: 188924.7344 - val_mean_squared_error: 188924.7344 - val_root_mean_squared_error: 434.6547 - val_r2_score: -1.5239 - val_mean_absolute_error: 379.9431\n",
            "Epoch 69/100\n",
            "341/341 [==============================] - 1s 2ms/step - loss: 183134.1094 - mean_squared_error: 183134.1094 - root_mean_squared_error: 427.9417 - r2_score: -1.3258 - mean_absolute_error: 372.9131 - val_loss: 180807.5781 - val_mean_squared_error: 180807.5781 - val_root_mean_squared_error: 425.2148 - val_r2_score: -1.4154 - val_mean_absolute_error: 370.2273\n",
            "Epoch 70/100\n",
            "341/341 [==============================] - 1s 2ms/step - loss: 175556.9531 - mean_squared_error: 175556.9531 - root_mean_squared_error: 418.9952 - r2_score: -1.2295 - mean_absolute_error: 363.8695 - val_loss: 173418.1719 - val_mean_squared_error: 173418.1719 - val_root_mean_squared_error: 416.4351 - val_r2_score: -1.3167 - val_mean_absolute_error: 361.4178\n",
            "Epoch 71/100\n",
            "341/341 [==============================] - 1s 2ms/step - loss: 167788.3281 - mean_squared_error: 167788.3281 - root_mean_squared_error: 409.6198 - r2_score: -1.1309 - mean_absolute_error: 354.4005 - val_loss: 165690.9531 - val_mean_squared_error: 165690.9531 - val_root_mean_squared_error: 407.0515 - val_r2_score: -1.2135 - val_mean_absolute_error: 352.0181\n",
            "Epoch 72/100\n",
            "341/341 [==============================] - 1s 2ms/step - loss: 160309.8906 - mean_squared_error: 160309.8906 - root_mean_squared_error: 400.3872 - r2_score: -1.0359 - mean_absolute_error: 345.3923 - val_loss: 158576.9688 - val_mean_squared_error: 158576.9688 - val_root_mean_squared_error: 398.2172 - val_r2_score: -1.1185 - val_mean_absolute_error: 343.5766\n",
            "Epoch 73/100\n",
            "341/341 [==============================] - 1s 2ms/step - loss: 152725.9531 - mean_squared_error: 152725.9531 - root_mean_squared_error: 390.8017 - r2_score: -0.9396 - mean_absolute_error: 336.1534 - val_loss: 150619.2500 - val_mean_squared_error: 150619.2500 - val_root_mean_squared_error: 388.0970 - val_r2_score: -1.0122 - val_mean_absolute_error: 333.7701\n",
            "Epoch 74/100\n",
            "341/341 [==============================] - 1s 2ms/step - loss: 145401.4844 - mean_squared_error: 145401.4688 - root_mean_squared_error: 381.3155 - r2_score: -0.8466 - mean_absolute_error: 326.8212 - val_loss: 143399.9531 - val_mean_squared_error: 143399.9531 - val_root_mean_squared_error: 378.6819 - val_r2_score: -0.9157 - val_mean_absolute_error: 324.5767\n",
            "Epoch 75/100\n",
            "341/341 [==============================] - 1s 2ms/step - loss: 138732.7500 - mean_squared_error: 138732.7500 - root_mean_squared_error: 372.4684 - r2_score: -0.7619 - mean_absolute_error: 318.3603 - val_loss: 136299.4375 - val_mean_squared_error: 136299.4375 - val_root_mean_squared_error: 369.1875 - val_r2_score: -0.8209 - val_mean_absolute_error: 315.5336\n",
            "Epoch 76/100\n",
            "341/341 [==============================] - 1s 2ms/step - loss: 131129.5000 - mean_squared_error: 131129.5000 - root_mean_squared_error: 362.1181 - r2_score: -0.6653 - mean_absolute_error: 308.2292 - val_loss: 128876.0000 - val_mean_squared_error: 128876.0000 - val_root_mean_squared_error: 358.9930 - val_r2_score: -0.7217 - val_mean_absolute_error: 305.4669\n",
            "Epoch 77/100\n",
            "341/341 [==============================] - 1s 2ms/step - loss: 124147.5781 - mean_squared_error: 124147.5703 - root_mean_squared_error: 352.3458 - r2_score: -0.5766 - mean_absolute_error: 298.6138 - val_loss: 121641.8516 - val_mean_squared_error: 121641.8516 - val_root_mean_squared_error: 348.7719 - val_r2_score: -0.6250 - val_mean_absolute_error: 295.5308\n",
            "Epoch 78/100\n",
            "341/341 [==============================] - 1s 2ms/step - loss: 117711.9375 - mean_squared_error: 117711.9375 - root_mean_squared_error: 343.0917 - r2_score: -0.4949 - mean_absolute_error: 289.5122 - val_loss: 115860.8203 - val_mean_squared_error: 115860.8203 - val_root_mean_squared_error: 340.3833 - val_r2_score: -0.5478 - val_mean_absolute_error: 287.3153\n",
            "Epoch 79/100\n",
            "341/341 [==============================] - 1s 2ms/step - loss: 111383.4297 - mean_squared_error: 111383.4297 - root_mean_squared_error: 333.7415 - r2_score: -0.4146 - mean_absolute_error: 280.4022 - val_loss: 109330.6172 - val_mean_squared_error: 109330.6172 - val_root_mean_squared_error: 330.6518 - val_r2_score: -0.4606 - val_mean_absolute_error: 277.8096\n",
            "Epoch 80/100\n",
            "341/341 [==============================] - 1s 2ms/step - loss: 105207.4453 - mean_squared_error: 105207.4453 - root_mean_squared_error: 324.3570 - r2_score: -0.3361 - mean_absolute_error: 271.1231 - val_loss: 103332.3594 - val_mean_squared_error: 103332.3594 - val_root_mean_squared_error: 321.4535 - val_r2_score: -0.3804 - val_mean_absolute_error: 268.7218\n",
            "Epoch 81/100\n",
            "341/341 [==============================] - 1s 2ms/step - loss: 98821.8203 - mean_squared_error: 98821.8203 - root_mean_squared_error: 314.3594 - r2_score: -0.2550 - mean_absolute_error: 261.4619 - val_loss: 96873.5312 - val_mean_squared_error: 96873.5312 - val_root_mean_squared_error: 311.2451 - val_r2_score: -0.2942 - val_mean_absolute_error: 259.0754\n",
            "Epoch 82/100\n",
            "341/341 [==============================] - 1s 2ms/step - loss: 92800.1016 - mean_squared_error: 92800.1016 - root_mean_squared_error: 304.6311 - r2_score: -0.1786 - mean_absolute_error: 252.0844 - val_loss: 91040.0312 - val_mean_squared_error: 91040.0312 - val_root_mean_squared_error: 301.7284 - val_r2_score: -0.2162 - val_mean_absolute_error: 249.8267\n",
            "Epoch 83/100\n",
            "341/341 [==============================] - 1s 2ms/step - loss: 87211.6641 - mean_squared_error: 87211.6641 - root_mean_squared_error: 295.3162 - r2_score: -0.1076 - mean_absolute_error: 242.9759 - val_loss: 85489.6406 - val_mean_squared_error: 85489.6406 - val_root_mean_squared_error: 292.3861 - val_r2_score: -0.1421 - val_mean_absolute_error: 240.9813\n",
            "Epoch 84/100\n",
            "341/341 [==============================] - 1s 2ms/step - loss: 81766.3281 - mean_squared_error: 81766.3281 - root_mean_squared_error: 285.9481 - r2_score: -0.0384 - mean_absolute_error: 233.8319 - val_loss: 79969.9453 - val_mean_squared_error: 79969.9453 - val_root_mean_squared_error: 282.7896 - val_r2_score: -0.0683 - val_mean_absolute_error: 231.4681\n",
            "Epoch 85/100\n",
            "341/341 [==============================] - 1s 2ms/step - loss: 76619.9609 - mean_squared_error: 76619.9609 - root_mean_squared_error: 276.8031 - r2_score: 0.0269 - mean_absolute_error: 224.6224 - val_loss: 74776.6094 - val_mean_squared_error: 74776.6094 - val_root_mean_squared_error: 273.4531 - val_r2_score: 0.0010 - val_mean_absolute_error: 222.6371\n",
            "Epoch 86/100\n",
            "341/341 [==============================] - 1s 2ms/step - loss: 71327.4219 - mean_squared_error: 71327.4297 - root_mean_squared_error: 267.0720 - r2_score: 0.0942 - mean_absolute_error: 215.3401 - val_loss: 69639.4062 - val_mean_squared_error: 69639.4062 - val_root_mean_squared_error: 263.8928 - val_r2_score: 0.0697 - val_mean_absolute_error: 213.6791\n",
            "Epoch 87/100\n",
            "341/341 [==============================] - 1s 2ms/step - loss: 66497.4297 - mean_squared_error: 66497.4219 - root_mean_squared_error: 257.8709 - r2_score: 0.1555 - mean_absolute_error: 206.6481 - val_loss: 65016.2773 - val_mean_squared_error: 65016.2773 - val_root_mean_squared_error: 254.9829 - val_r2_score: 0.1314 - val_mean_absolute_error: 205.3481\n",
            "Epoch 88/100\n",
            "341/341 [==============================] - 1s 2ms/step - loss: 62429.0586 - mean_squared_error: 62429.0586 - root_mean_squared_error: 249.8581 - r2_score: 0.2072 - mean_absolute_error: 199.0642 - val_loss: 61006.3906 - val_mean_squared_error: 61006.3906 - val_root_mean_squared_error: 246.9947 - val_r2_score: 0.1850 - val_mean_absolute_error: 197.8952\n",
            "Epoch 89/100\n",
            "341/341 [==============================] - 1s 2ms/step - loss: 58552.9141 - mean_squared_error: 58552.9141 - root_mean_squared_error: 241.9771 - r2_score: 0.2564 - mean_absolute_error: 191.8767 - val_loss: 57618.3320 - val_mean_squared_error: 57618.3320 - val_root_mean_squared_error: 240.0382 - val_r2_score: 0.2303 - val_mean_absolute_error: 191.5392\n",
            "Epoch 90/100\n",
            "341/341 [==============================] - 1s 2ms/step - loss: 54967.2930 - mean_squared_error: 54967.2930 - root_mean_squared_error: 234.4510 - r2_score: 0.3019 - mean_absolute_error: 184.9484 - val_loss: 53707.7578 - val_mean_squared_error: 53707.7578 - val_root_mean_squared_error: 231.7493 - val_r2_score: 0.2825 - val_mean_absolute_error: 183.9458\n",
            "Epoch 91/100\n",
            "341/341 [==============================] - 1s 2ms/step - loss: 51231.4883 - mean_squared_error: 51231.4883 - root_mean_squared_error: 226.3437 - r2_score: 0.3494 - mean_absolute_error: 177.5193 - val_loss: 49887.0234 - val_mean_squared_error: 49887.0234 - val_root_mean_squared_error: 223.3540 - val_r2_score: 0.3335 - val_mean_absolute_error: 176.2559\n",
            "Epoch 92/100\n",
            "341/341 [==============================] - 1s 2ms/step - loss: 47921.2422 - mean_squared_error: 47921.2422 - root_mean_squared_error: 218.9092 - r2_score: 0.3914 - mean_absolute_error: 170.8314 - val_loss: 46928.6367 - val_mean_squared_error: 46928.6367 - val_root_mean_squared_error: 216.6302 - val_r2_score: 0.3731 - val_mean_absolute_error: 170.1138\n",
            "Epoch 93/100\n",
            "341/341 [==============================] - 1s 2ms/step - loss: 45225.6836 - mean_squared_error: 45225.6836 - root_mean_squared_error: 212.6633 - r2_score: 0.4256 - mean_absolute_error: 165.1273 - val_loss: 44242.6133 - val_mean_squared_error: 44242.6133 - val_root_mean_squared_error: 210.3393 - val_r2_score: 0.4090 - val_mean_absolute_error: 164.2912\n",
            "Epoch 94/100\n",
            "341/341 [==============================] - 1s 2ms/step - loss: 42571.1602 - mean_squared_error: 42571.1602 - root_mean_squared_error: 206.3278 - r2_score: 0.4593 - mean_absolute_error: 159.3432 - val_loss: 41411.7070 - val_mean_squared_error: 41411.7070 - val_root_mean_squared_error: 203.4987 - val_r2_score: 0.4468 - val_mean_absolute_error: 158.1319\n",
            "Epoch 95/100\n",
            "341/341 [==============================] - 1s 2ms/step - loss: 40241.8555 - mean_squared_error: 40241.8555 - root_mean_squared_error: 200.6037 - r2_score: 0.4889 - mean_absolute_error: 154.1268 - val_loss: 39465.9141 - val_mean_squared_error: 39465.9141 - val_root_mean_squared_error: 198.6603 - val_r2_score: 0.4728 - val_mean_absolute_error: 153.3670\n",
            "Epoch 96/100\n",
            "341/341 [==============================] - 1s 2ms/step - loss: 38152.2695 - mean_squared_error: 38152.2695 - root_mean_squared_error: 195.3261 - r2_score: 0.5155 - mean_absolute_error: 149.0930 - val_loss: 37427.4062 - val_mean_squared_error: 37427.4062 - val_root_mean_squared_error: 193.4616 - val_r2_score: 0.5000 - val_mean_absolute_error: 148.7120\n",
            "Epoch 97/100\n",
            "341/341 [==============================] - 1s 2ms/step - loss: 36399.0859 - mean_squared_error: 36399.0859 - root_mean_squared_error: 190.7854 - r2_score: 0.5377 - mean_absolute_error: 144.5254 - val_loss: 35653.6914 - val_mean_squared_error: 35653.6914 - val_root_mean_squared_error: 188.8219 - val_r2_score: 0.5237 - val_mean_absolute_error: 143.9254\n",
            "Epoch 98/100\n",
            "341/341 [==============================] - 1s 2ms/step - loss: 34619.4727 - mean_squared_error: 34619.4688 - root_mean_squared_error: 186.0631 - r2_score: 0.5603 - mean_absolute_error: 139.9837 - val_loss: 33720.1602 - val_mean_squared_error: 33720.1602 - val_root_mean_squared_error: 183.6305 - val_r2_score: 0.5495 - val_mean_absolute_error: 138.8065\n",
            "Epoch 99/100\n",
            "341/341 [==============================] - 1s 2ms/step - loss: 33092.2266 - mean_squared_error: 33092.2266 - root_mean_squared_error: 181.9127 - r2_score: 0.5797 - mean_absolute_error: 135.7261 - val_loss: 32516.1836 - val_mean_squared_error: 32516.1836 - val_root_mean_squared_error: 180.3224 - val_r2_score: 0.5656 - val_mean_absolute_error: 135.6772\n",
            "Epoch 100/100\n",
            "341/341 [==============================] - 1s 2ms/step - loss: 31902.3086 - mean_squared_error: 31902.3086 - root_mean_squared_error: 178.6122 - r2_score: 0.5948 - mean_absolute_error: 132.5885 - val_loss: 31411.3066 - val_mean_squared_error: 31411.3066 - val_root_mean_squared_error: 177.2323 - val_r2_score: 0.5804 - val_mean_absolute_error: 132.6328\n",
            " model is returned with best weights from epoch  100\n"
          ]
        },
        {
          "name": "stderr",
          "output_type": "stream",
          "text": [
            "c:\\Users\\yomaa\\.conda\\envs\\mlops2\\lib\\site-packages\\keras\\src\\engine\\training.py:3079: UserWarning: You are saving your model as an HDF5 file via `model.save()`. This file format is considered legacy. We recommend using instead the native Keras format, e.g. `model.save('my_model.keras')`.\n",
            "  saving_api.save_model(\n"
          ]
        },
        {
          "data": {
            "text/plain": [
              "<keras.src.callbacks.History at 0x256a998d280>"
            ]
          },
          "execution_count": 128,
          "metadata": {},
          "output_type": "execute_result"
        }
      ],
      "source": [
        "# Compile your model\n",
        "model.compile(optimizer=optimizer, loss=\"mean_squared_error\", metrics=metrics)\n",
        "# Fit your model\n",
        "model.fit(X_train, y_train,\n",
        "  epochs=epochs,\n",
        "  validation_data=(X_test, Y_test),\n",
        "  batch_size=batch_size,\n",
        "  callbacks=[tensorboard_callback,model_per_epoch(model, save_dir, save_best_only)])"
      ]
    },
    {
      "cell_type": "code",
      "execution_count": 129,
      "metadata": {},
      "outputs": [
        {
          "name": "stdout",
          "output_type": "stream",
          "text": [
            "134/134 [==============================] - 0s 628us/step\n",
            "Mean Absolute Error (MAE) for tf: 132.6327\n",
            "Root Mean Squared Error (RMSE) for tf: 177.2324\n",
            "R^2 Score for tf: 0.5804\n"
          ]
        }
      ],
      "source": [
        "y_pred = model.predict(X_test)\n",
        "mae_tf = mean_absolute_error(Y_test, y_pred)\n",
        "mse_tf = mean_squared_error(Y_test, y_pred)\n",
        "r2_tf = r2_score(Y_test, y_pred)\n",
        "\n",
        "print(f\"Mean Absolute Error (MAE) for tf: {mae_tf:.4f}\")\n",
        "print(f\"Root Mean Squared Error (RMSE) for tf: {sqrt(mse_tf):.4f}\")\n",
        "print(f\"R^2 Score for tf: {r2_tf:.4f}\")"
      ]
    },
    {
      "cell_type": "code",
      "execution_count": 130,
      "metadata": {},
      "outputs": [
        {
          "data": {
            "text/html": [
              "<div>\n",
              "<style scoped>\n",
              "    .dataframe tbody tr th:only-of-type {\n",
              "        vertical-align: middle;\n",
              "    }\n",
              "\n",
              "    .dataframe tbody tr th {\n",
              "        vertical-align: top;\n",
              "    }\n",
              "\n",
              "    .dataframe thead th {\n",
              "        text-align: right;\n",
              "    }\n",
              "</style>\n",
              "<table border=\"1\" class=\"dataframe\">\n",
              "  <thead>\n",
              "    <tr style=\"text-align: right;\">\n",
              "      <th></th>\n",
              "      <th>Run</th>\n",
              "      <th>MAE</th>\n",
              "      <th>RMSE</th>\n",
              "      <th>R2</th>\n",
              "    </tr>\n",
              "  </thead>\n",
              "  <tbody>\n",
              "    <tr>\n",
              "      <th>0</th>\n",
              "      <td>Dataset_V1</td>\n",
              "      <td>2216.837749</td>\n",
              "      <td>153259.646149</td>\n",
              "      <td>-211701.891345</td>\n",
              "    </tr>\n",
              "    <tr>\n",
              "      <th>1</th>\n",
              "      <td>Dataset_V2</td>\n",
              "      <td>6.250572</td>\n",
              "      <td>9.186585</td>\n",
              "      <td>0.998873</td>\n",
              "    </tr>\n",
              "    <tr>\n",
              "      <th>2</th>\n",
              "      <td>Tensorflow DP</td>\n",
              "      <td>132.632714</td>\n",
              "      <td>177.232382</td>\n",
              "      <td>0.580370</td>\n",
              "    </tr>\n",
              "  </tbody>\n",
              "</table>\n",
              "</div>"
            ],
            "text/plain": [
              "             Run          MAE           RMSE             R2\n",
              "0     Dataset_V1  2216.837749  153259.646149 -211701.891345\n",
              "1     Dataset_V2     6.250572       9.186585       0.998873\n",
              "2  Tensorflow DP   132.632714     177.232382       0.580370"
            ]
          },
          "execution_count": 130,
          "metadata": {},
          "output_type": "execute_result"
        }
      ],
      "source": [
        "results = pd.DataFrame(columns=[\"Run\",\"MAE\",\"RMSE\",\"R2\"],data=[[\"Dataset_V1\",mae_v1,sqrt(mse_v1),r2_v1],[\"Dataset_V2\",mae_v2,sqrt(mse_v2),r2_v2],[\"Tensorflow DP\",mae_tf,sqrt(mse_tf),r2_tf]])\n",
        "results"
      ]
    }
  ],
  "metadata": {
    "colab": {
      "provenance": []
    },
    "kernelspec": {
      "display_name": "everything",
      "language": "python",
      "name": "python3"
    },
    "language_info": {
      "codemirror_mode": {
        "name": "ipython",
        "version": 3
      },
      "file_extension": ".py",
      "mimetype": "text/x-python",
      "name": "python",
      "nbconvert_exporter": "python",
      "pygments_lexer": "ipython3",
      "version": "3.9.18"
    }
  },
  "nbformat": 4,
  "nbformat_minor": 0
}
