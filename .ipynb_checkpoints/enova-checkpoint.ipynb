{
 "cells": [
  {
   "cell_type": "markdown",
   "metadata": {},
   "source": [
    "# ENOVA Data Smackdown | Team 2 Submission"
   ]
  },
  {
   "cell_type": "markdown",
   "metadata": {},
   "source": [
    "This is the submission for Team 2. It contains the code to be able to reproduce our outputs."
   ]
  },
  {
   "cell_type": "markdown",
   "metadata": {},
   "source": [
    "1. Let us import some basic libraries."
   ]
  },
  {
   "cell_type": "code",
   "execution_count": null,
   "metadata": {
    "pycharm": {
     "is_executing": true
    }
   },
   "outputs": [],
   "source": [
    "import numpy as np\n",
    "import pandas as pd\n",
    "import matplotlib.pyplot as plt\n",
    "import seaborn as sns\n",
    "import re\n",
    "\n",
    "from sklearn.model_selection import train_test_split\n",
    "from sklearn.linear_model import LogisticRegression\n",
    "from sklearn.svm import SVC, LinearSVC\n",
    "from sklearn.neighbors import KNeighborsClassifier\n",
    "from sklearn.tree import DecisionTreeClassifier\n",
    "from sklearn.ensemble import RandomForestClassifier\n",
    "from sklearn.naive_bayes import GaussianNB\n",
    "from sklearn.linear_model import Perceptron\n",
    "from sklearn.linear_model import SGDClassifier\n",
    "from sklearn.linear_model import LinearRegression\n",
    "from sklearn.metrics import mean_squared_error\n",
    "from math import sqrt"
   ]
  },
  {
   "cell_type": "markdown",
   "metadata": {},
   "source": [
    "2. Let us read the data from the *data_smackdown_2023_training.csv*"
   ]
  },
  {
   "cell_type": "code",
   "execution_count": 5,
   "metadata": {},
   "outputs": [
    {
     "data": {
      "text/html": [
       "<div>\n",
       "<style scoped>\n",
       "    .dataframe tbody tr th:only-of-type {\n",
       "        vertical-align: middle;\n",
       "    }\n",
       "\n",
       "    .dataframe tbody tr th {\n",
       "        vertical-align: top;\n",
       "    }\n",
       "\n",
       "    .dataframe thead th {\n",
       "        text-align: right;\n",
       "    }\n",
       "</style>\n",
       "<table border=\"1\" class=\"dataframe\">\n",
       "  <thead>\n",
       "    <tr style=\"text-align: right;\">\n",
       "      <th></th>\n",
       "      <th>age</th>\n",
       "      <th>residence_type</th>\n",
       "      <th>address</th>\n",
       "      <th>education_level</th>\n",
       "      <th>job_type</th>\n",
       "      <th>number_years_at_job</th>\n",
       "      <th>marital_status</th>\n",
       "      <th>num_tickets_purchased</th>\n",
       "      <th>last_ticket_purchase_year</th>\n",
       "      <th>other_tickets_purchased</th>\n",
       "      <th>...</th>\n",
       "      <th>prior_year_spend_external</th>\n",
       "      <th>primary_credit_card</th>\n",
       "      <th>last_activity_social</th>\n",
       "      <th>other_streaming_services</th>\n",
       "      <th>cable_provider</th>\n",
       "      <th>search_history_summary</th>\n",
       "      <th>rating_history</th>\n",
       "      <th>promotion_type</th>\n",
       "      <th>conversion_ind</th>\n",
       "      <th>ltv</th>\n",
       "    </tr>\n",
       "  </thead>\n",
       "  <tbody>\n",
       "    <tr>\n",
       "      <th>0</th>\n",
       "      <td>74</td>\n",
       "      <td>U</td>\n",
       "      <td>164 Gonzalez Common, Brittanyberg, FL 32854</td>\n",
       "      <td>grad_high_school</td>\n",
       "      <td>government</td>\n",
       "      <td>10</td>\n",
       "      <td>1</td>\n",
       "      <td>1.0</td>\n",
       "      <td>2019.0</td>\n",
       "      <td>['bsb', 'fb', 'fb', 'fb', 'c']</td>\n",
       "      <td>...</td>\n",
       "      <td>5.20</td>\n",
       "      <td>maincard</td>\n",
       "      <td>2018-01-17</td>\n",
       "      <td>3</td>\n",
       "      <td>Fish Network</td>\n",
       "      <td>['majorwrestlingmagazine.com', 'firstwildlifec...</td>\n",
       "      <td>NaN</td>\n",
       "      <td>bronze</td>\n",
       "      <td>0.0</td>\n",
       "      <td>0.000000</td>\n",
       "    </tr>\n",
       "    <tr>\n",
       "      <th>1</th>\n",
       "      <td>51</td>\n",
       "      <td>U</td>\n",
       "      <td>23531 Christopher Points Unit 185, Lake Daniel...</td>\n",
       "      <td>phd</td>\n",
       "      <td>healthcare</td>\n",
       "      <td>7</td>\n",
       "      <td>0</td>\n",
       "      <td>2.0</td>\n",
       "      <td>2013.0</td>\n",
       "      <td>['c', 'bsb', 'fb', 'c', 'c', 'bxb', 'fb', 'c',...</td>\n",
       "      <td>...</td>\n",
       "      <td>247.43</td>\n",
       "      <td>maincard</td>\n",
       "      <td>2020-05-16</td>\n",
       "      <td>2</td>\n",
       "      <td>Cheezeline</td>\n",
       "      <td>['totaltechnews.com', 'firstoutdoorreport.com'...</td>\n",
       "      <td>NaN</td>\n",
       "      <td>bronze</td>\n",
       "      <td>1.0</td>\n",
       "      <td>3147.898930</td>\n",
       "    </tr>\n",
       "    <tr>\n",
       "      <th>2</th>\n",
       "      <td>42</td>\n",
       "      <td>U</td>\n",
       "      <td>90970 Aguirre Isle Apt. 387, South Laurastad, ...</td>\n",
       "      <td>grad_high_school</td>\n",
       "      <td>service</td>\n",
       "      <td>7</td>\n",
       "      <td>1</td>\n",
       "      <td>4.0</td>\n",
       "      <td>2011.0</td>\n",
       "      <td>['c', 'fb', 'fb', 'fb', 's', 's', 'fb', 'fb', ...</td>\n",
       "      <td>...</td>\n",
       "      <td>69.45</td>\n",
       "      <td>passport</td>\n",
       "      <td>NaT</td>\n",
       "      <td>5</td>\n",
       "      <td>Spectral</td>\n",
       "      <td>['totalpoliticsclips.com', 'dailyfinancenews.c...</td>\n",
       "      <td>NaN</td>\n",
       "      <td>bronze</td>\n",
       "      <td>0.0</td>\n",
       "      <td>0.000000</td>\n",
       "    </tr>\n",
       "    <tr>\n",
       "      <th>3</th>\n",
       "      <td>61</td>\n",
       "      <td>U</td>\n",
       "      <td>17916 Stacey Freeway, West Laura, CA 94036</td>\n",
       "      <td>grad_college</td>\n",
       "      <td>retail</td>\n",
       "      <td>8</td>\n",
       "      <td>1</td>\n",
       "      <td>0.0</td>\n",
       "      <td>NaN</td>\n",
       "      <td>['bsb', 'c', 'fb', 'fb', 'c', 'bsb', 'bsb', 'f...</td>\n",
       "      <td>...</td>\n",
       "      <td>482.98</td>\n",
       "      <td>passport</td>\n",
       "      <td>2017-08-24</td>\n",
       "      <td>2</td>\n",
       "      <td>NaN</td>\n",
       "      <td>['majorfurniturenews.com', 'actionmarketmagazi...</td>\n",
       "      <td>NaN</td>\n",
       "      <td>gold</td>\n",
       "      <td>1.0</td>\n",
       "      <td>1569.613367</td>\n",
       "    </tr>\n",
       "    <tr>\n",
       "      <th>4</th>\n",
       "      <td>48</td>\n",
       "      <td>S</td>\n",
       "      <td>052 Carla Plaza Apt. 039, Taylorhaven, CA 92901</td>\n",
       "      <td>masters_professional</td>\n",
       "      <td>education</td>\n",
       "      <td>6</td>\n",
       "      <td>1</td>\n",
       "      <td>2.0</td>\n",
       "      <td>2021.0</td>\n",
       "      <td>['fb', 'fb', 'c', 'fb', 'fb', 'bxb', 's', 'bxb...</td>\n",
       "      <td>...</td>\n",
       "      <td>170.83</td>\n",
       "      <td>pursuit</td>\n",
       "      <td>2022-08-23</td>\n",
       "      <td>2</td>\n",
       "      <td>NaN</td>\n",
       "      <td>['UBCbooksreport.com', 'politicsreport.com', '...</td>\n",
       "      <td>NaN</td>\n",
       "      <td>silver</td>\n",
       "      <td>1.0</td>\n",
       "      <td>3411.585503</td>\n",
       "    </tr>\n",
       "  </tbody>\n",
       "</table>\n",
       "<p>5 rows × 22 columns</p>\n",
       "</div>"
      ],
      "text/plain": [
       "   age residence_type                                            address  \\\n",
       "0   74              U        164 Gonzalez Common, Brittanyberg, FL 32854   \n",
       "1   51              U  23531 Christopher Points Unit 185, Lake Daniel...   \n",
       "2   42              U  90970 Aguirre Isle Apt. 387, South Laurastad, ...   \n",
       "3   61              U         17916 Stacey Freeway, West Laura, CA 94036   \n",
       "4   48              S    052 Carla Plaza Apt. 039, Taylorhaven, CA 92901   \n",
       "\n",
       "        education_level    job_type  number_years_at_job  marital_status  \\\n",
       "0      grad_high_school  government                   10               1   \n",
       "1                   phd  healthcare                    7               0   \n",
       "2      grad_high_school     service                    7               1   \n",
       "3          grad_college      retail                    8               1   \n",
       "4  masters_professional   education                    6               1   \n",
       "\n",
       "   num_tickets_purchased  last_ticket_purchase_year  \\\n",
       "0                    1.0                     2019.0   \n",
       "1                    2.0                     2013.0   \n",
       "2                    4.0                     2011.0   \n",
       "3                    0.0                        NaN   \n",
       "4                    2.0                     2021.0   \n",
       "\n",
       "                             other_tickets_purchased  ...  \\\n",
       "0                     ['bsb', 'fb', 'fb', 'fb', 'c']  ...   \n",
       "1  ['c', 'bsb', 'fb', 'c', 'c', 'bxb', 'fb', 'c',...  ...   \n",
       "2  ['c', 'fb', 'fb', 'fb', 's', 's', 'fb', 'fb', ...  ...   \n",
       "3  ['bsb', 'c', 'fb', 'fb', 'c', 'bsb', 'bsb', 'f...  ...   \n",
       "4  ['fb', 'fb', 'c', 'fb', 'fb', 'bxb', 's', 'bxb...  ...   \n",
       "\n",
       "   prior_year_spend_external  primary_credit_card  last_activity_social  \\\n",
       "0                       5.20             maincard            2018-01-17   \n",
       "1                     247.43             maincard            2020-05-16   \n",
       "2                      69.45             passport                   NaT   \n",
       "3                     482.98             passport            2017-08-24   \n",
       "4                     170.83              pursuit            2022-08-23   \n",
       "\n",
       "  other_streaming_services cable_provider  \\\n",
       "0                        3   Fish Network   \n",
       "1                        2     Cheezeline   \n",
       "2                        5       Spectral   \n",
       "3                        2            NaN   \n",
       "4                        2            NaN   \n",
       "\n",
       "                              search_history_summary rating_history  \\\n",
       "0  ['majorwrestlingmagazine.com', 'firstwildlifec...            NaN   \n",
       "1  ['totaltechnews.com', 'firstoutdoorreport.com'...            NaN   \n",
       "2  ['totalpoliticsclips.com', 'dailyfinancenews.c...            NaN   \n",
       "3  ['majorfurniturenews.com', 'actionmarketmagazi...            NaN   \n",
       "4  ['UBCbooksreport.com', 'politicsreport.com', '...            NaN   \n",
       "\n",
       "  promotion_type conversion_ind          ltv  \n",
       "0         bronze            0.0     0.000000  \n",
       "1         bronze            1.0  3147.898930  \n",
       "2         bronze            0.0     0.000000  \n",
       "3           gold            1.0  1569.613367  \n",
       "4         silver            1.0  3411.585503  \n",
       "\n",
       "[5 rows x 22 columns]"
      ]
     },
     "execution_count": 5,
     "metadata": {},
     "output_type": "execute_result"
    }
   ],
   "source": [
    "df=pd.read_csv('data_smackdown_2023_training.csv',parse_dates=['last_activity_social'])\n",
    "df.head()"
   ]
  },
  {
   "cell_type": "markdown",
   "metadata": {},
   "source": [
    "3. Now that we have the Training Data Set, let us perform a pandas info to take a look at the features."
   ]
  },
  {
   "cell_type": "code",
   "execution_count": 6,
   "metadata": {},
   "outputs": [
    {
     "name": "stdout",
     "output_type": "stream",
     "text": [
      "<class 'pandas.core.frame.DataFrame'>\n",
      "RangeIndex: 10001 entries, 0 to 10000\n",
      "Data columns (total 22 columns):\n",
      " #   Column                     Non-Null Count  Dtype         \n",
      "---  ------                     --------------  -----         \n",
      " 0   age                        10001 non-null  int64         \n",
      " 1   residence_type             10001 non-null  object        \n",
      " 2   address                    10001 non-null  object        \n",
      " 3   education_level            10001 non-null  object        \n",
      " 4   job_type                   9054 non-null   object        \n",
      " 5   number_years_at_job        10001 non-null  int64         \n",
      " 6   marital_status             10001 non-null  int64         \n",
      " 7   num_tickets_purchased      10001 non-null  float64       \n",
      " 8   last_ticket_purchase_year  5867 non-null   float64       \n",
      " 9   other_tickets_purchased    8192 non-null   object        \n",
      " 10  gym_membership_ind         10001 non-null  int64         \n",
      " 11  prior_year_spend           7164 non-null   float64       \n",
      " 12  prior_year_spend_external  8053 non-null   float64       \n",
      " 13  primary_credit_card        8053 non-null   object        \n",
      " 14  last_activity_social       6173 non-null   datetime64[ns]\n",
      " 15  other_streaming_services   10001 non-null  int64         \n",
      " 16  cable_provider             7912 non-null   object        \n",
      " 17  search_history_summary     10001 non-null  object        \n",
      " 18  rating_history             758 non-null    object        \n",
      " 19  promotion_type             10001 non-null  object        \n",
      " 20  conversion_ind             10001 non-null  float64       \n",
      " 21  ltv                        10001 non-null  float64       \n",
      "dtypes: datetime64[ns](1), float64(6), int64(5), object(10)\n",
      "memory usage: 1.7+ MB\n"
     ]
    }
   ],
   "source": [
    "df.info()"
   ]
  },
  {
   "cell_type": "markdown",
   "metadata": {},
   "source": [
    "4. We have decided to drop Address and Rating History, as\n",
    "- The Address feature did not seem to contribute anything.\n",
    "- The Rating History feature had too many nulls to be worth using as a feature."
   ]
  },
  {
   "cell_type": "code",
   "execution_count": 7,
   "metadata": {},
   "outputs": [
    {
     "data": {
      "text/html": [
       "<div>\n",
       "<style scoped>\n",
       "    .dataframe tbody tr th:only-of-type {\n",
       "        vertical-align: middle;\n",
       "    }\n",
       "\n",
       "    .dataframe tbody tr th {\n",
       "        vertical-align: top;\n",
       "    }\n",
       "\n",
       "    .dataframe thead th {\n",
       "        text-align: right;\n",
       "    }\n",
       "</style>\n",
       "<table border=\"1\" class=\"dataframe\">\n",
       "  <thead>\n",
       "    <tr style=\"text-align: right;\">\n",
       "      <th></th>\n",
       "      <th>age</th>\n",
       "      <th>residence_type</th>\n",
       "      <th>education_level</th>\n",
       "      <th>job_type</th>\n",
       "      <th>number_years_at_job</th>\n",
       "      <th>marital_status</th>\n",
       "      <th>num_tickets_purchased</th>\n",
       "      <th>last_ticket_purchase_year</th>\n",
       "      <th>other_tickets_purchased</th>\n",
       "      <th>gym_membership_ind</th>\n",
       "      <th>prior_year_spend</th>\n",
       "      <th>prior_year_spend_external</th>\n",
       "      <th>primary_credit_card</th>\n",
       "      <th>last_activity_social</th>\n",
       "      <th>other_streaming_services</th>\n",
       "      <th>cable_provider</th>\n",
       "      <th>search_history_summary</th>\n",
       "      <th>promotion_type</th>\n",
       "      <th>conversion_ind</th>\n",
       "      <th>ltv</th>\n",
       "    </tr>\n",
       "  </thead>\n",
       "  <tbody>\n",
       "    <tr>\n",
       "      <th>0</th>\n",
       "      <td>74</td>\n",
       "      <td>U</td>\n",
       "      <td>grad_high_school</td>\n",
       "      <td>government</td>\n",
       "      <td>10</td>\n",
       "      <td>1</td>\n",
       "      <td>1.0</td>\n",
       "      <td>2019.0</td>\n",
       "      <td>['bsb', 'fb', 'fb', 'fb', 'c']</td>\n",
       "      <td>1</td>\n",
       "      <td>9.10</td>\n",
       "      <td>5.20</td>\n",
       "      <td>maincard</td>\n",
       "      <td>2018-01-17</td>\n",
       "      <td>3</td>\n",
       "      <td>Fish Network</td>\n",
       "      <td>['majorwrestlingmagazine.com', 'firstwildlifec...</td>\n",
       "      <td>bronze</td>\n",
       "      <td>0.0</td>\n",
       "      <td>0.000000</td>\n",
       "    </tr>\n",
       "    <tr>\n",
       "      <th>1</th>\n",
       "      <td>51</td>\n",
       "      <td>U</td>\n",
       "      <td>phd</td>\n",
       "      <td>healthcare</td>\n",
       "      <td>7</td>\n",
       "      <td>0</td>\n",
       "      <td>2.0</td>\n",
       "      <td>2013.0</td>\n",
       "      <td>['c', 'bsb', 'fb', 'c', 'c', 'bxb', 'fb', 'c',...</td>\n",
       "      <td>0</td>\n",
       "      <td>27.45</td>\n",
       "      <td>247.43</td>\n",
       "      <td>maincard</td>\n",
       "      <td>2020-05-16</td>\n",
       "      <td>2</td>\n",
       "      <td>Cheezeline</td>\n",
       "      <td>['totaltechnews.com', 'firstoutdoorreport.com'...</td>\n",
       "      <td>bronze</td>\n",
       "      <td>1.0</td>\n",
       "      <td>3147.898930</td>\n",
       "    </tr>\n",
       "    <tr>\n",
       "      <th>2</th>\n",
       "      <td>42</td>\n",
       "      <td>U</td>\n",
       "      <td>grad_high_school</td>\n",
       "      <td>service</td>\n",
       "      <td>7</td>\n",
       "      <td>1</td>\n",
       "      <td>4.0</td>\n",
       "      <td>2011.0</td>\n",
       "      <td>['c', 'fb', 'fb', 'fb', 's', 's', 'fb', 'fb', ...</td>\n",
       "      <td>0</td>\n",
       "      <td>63.63</td>\n",
       "      <td>69.45</td>\n",
       "      <td>passport</td>\n",
       "      <td>NaT</td>\n",
       "      <td>5</td>\n",
       "      <td>Spectral</td>\n",
       "      <td>['totalpoliticsclips.com', 'dailyfinancenews.c...</td>\n",
       "      <td>bronze</td>\n",
       "      <td>0.0</td>\n",
       "      <td>0.000000</td>\n",
       "    </tr>\n",
       "    <tr>\n",
       "      <th>3</th>\n",
       "      <td>61</td>\n",
       "      <td>U</td>\n",
       "      <td>grad_college</td>\n",
       "      <td>retail</td>\n",
       "      <td>8</td>\n",
       "      <td>1</td>\n",
       "      <td>0.0</td>\n",
       "      <td>NaN</td>\n",
       "      <td>['bsb', 'c', 'fb', 'fb', 'c', 'bsb', 'bsb', 'f...</td>\n",
       "      <td>0</td>\n",
       "      <td>23.16</td>\n",
       "      <td>482.98</td>\n",
       "      <td>passport</td>\n",
       "      <td>2017-08-24</td>\n",
       "      <td>2</td>\n",
       "      <td>NaN</td>\n",
       "      <td>['majorfurniturenews.com', 'actionmarketmagazi...</td>\n",
       "      <td>gold</td>\n",
       "      <td>1.0</td>\n",
       "      <td>1569.613367</td>\n",
       "    </tr>\n",
       "    <tr>\n",
       "      <th>4</th>\n",
       "      <td>48</td>\n",
       "      <td>S</td>\n",
       "      <td>masters_professional</td>\n",
       "      <td>education</td>\n",
       "      <td>6</td>\n",
       "      <td>1</td>\n",
       "      <td>2.0</td>\n",
       "      <td>2021.0</td>\n",
       "      <td>['fb', 'fb', 'c', 'fb', 'fb', 'bxb', 's', 'bxb...</td>\n",
       "      <td>1</td>\n",
       "      <td>NaN</td>\n",
       "      <td>170.83</td>\n",
       "      <td>pursuit</td>\n",
       "      <td>2022-08-23</td>\n",
       "      <td>2</td>\n",
       "      <td>NaN</td>\n",
       "      <td>['UBCbooksreport.com', 'politicsreport.com', '...</td>\n",
       "      <td>silver</td>\n",
       "      <td>1.0</td>\n",
       "      <td>3411.585503</td>\n",
       "    </tr>\n",
       "  </tbody>\n",
       "</table>\n",
       "</div>"
      ],
      "text/plain": [
       "   age residence_type       education_level    job_type  number_years_at_job  \\\n",
       "0   74              U      grad_high_school  government                   10   \n",
       "1   51              U                   phd  healthcare                    7   \n",
       "2   42              U      grad_high_school     service                    7   \n",
       "3   61              U          grad_college      retail                    8   \n",
       "4   48              S  masters_professional   education                    6   \n",
       "\n",
       "   marital_status  num_tickets_purchased  last_ticket_purchase_year  \\\n",
       "0               1                    1.0                     2019.0   \n",
       "1               0                    2.0                     2013.0   \n",
       "2               1                    4.0                     2011.0   \n",
       "3               1                    0.0                        NaN   \n",
       "4               1                    2.0                     2021.0   \n",
       "\n",
       "                             other_tickets_purchased  gym_membership_ind  \\\n",
       "0                     ['bsb', 'fb', 'fb', 'fb', 'c']                   1   \n",
       "1  ['c', 'bsb', 'fb', 'c', 'c', 'bxb', 'fb', 'c',...                   0   \n",
       "2  ['c', 'fb', 'fb', 'fb', 's', 's', 'fb', 'fb', ...                   0   \n",
       "3  ['bsb', 'c', 'fb', 'fb', 'c', 'bsb', 'bsb', 'f...                   0   \n",
       "4  ['fb', 'fb', 'c', 'fb', 'fb', 'bxb', 's', 'bxb...                   1   \n",
       "\n",
       "   prior_year_spend  prior_year_spend_external primary_credit_card  \\\n",
       "0              9.10                       5.20            maincard   \n",
       "1             27.45                     247.43            maincard   \n",
       "2             63.63                      69.45            passport   \n",
       "3             23.16                     482.98            passport   \n",
       "4               NaN                     170.83             pursuit   \n",
       "\n",
       "  last_activity_social  other_streaming_services cable_provider  \\\n",
       "0           2018-01-17                         3   Fish Network   \n",
       "1           2020-05-16                         2     Cheezeline   \n",
       "2                  NaT                         5       Spectral   \n",
       "3           2017-08-24                         2            NaN   \n",
       "4           2022-08-23                         2            NaN   \n",
       "\n",
       "                              search_history_summary promotion_type  \\\n",
       "0  ['majorwrestlingmagazine.com', 'firstwildlifec...         bronze   \n",
       "1  ['totaltechnews.com', 'firstoutdoorreport.com'...         bronze   \n",
       "2  ['totalpoliticsclips.com', 'dailyfinancenews.c...         bronze   \n",
       "3  ['majorfurniturenews.com', 'actionmarketmagazi...           gold   \n",
       "4  ['UBCbooksreport.com', 'politicsreport.com', '...         silver   \n",
       "\n",
       "   conversion_ind          ltv  \n",
       "0             0.0     0.000000  \n",
       "1             1.0  3147.898930  \n",
       "2             0.0     0.000000  \n",
       "3             1.0  1569.613367  \n",
       "4             1.0  3411.585503  "
      ]
     },
     "execution_count": 7,
     "metadata": {},
     "output_type": "execute_result"
    }
   ],
   "source": [
    "df_changed=df.drop(['address','rating_history'],axis=1)\n",
    "df_changed.head()"
   ]
  },
  {
   "cell_type": "markdown",
   "metadata": {},
   "source": [
    "5. Let us take a look at the Job Type Feature. "
   ]
  },
  {
   "cell_type": "code",
   "execution_count": 8,
   "metadata": {},
   "outputs": [
    {
     "data": {
      "text/plain": [
       "service       1590\n",
       "retail        1495\n",
       "business       952\n",
       "education      842\n",
       "tech           709\n",
       "government     633\n",
       "marketing      599\n",
       "healthcare     574\n",
       "childcare      532\n",
       "none           470\n",
       "finance        456\n",
       "legal          202\n",
       "Name: job_type, dtype: int64"
      ]
     },
     "execution_count": 8,
     "metadata": {},
     "output_type": "execute_result"
    }
   ],
   "source": [
    "df_changed['job_type'].value_counts()"
   ]
  },
  {
   "cell_type": "markdown",
   "metadata": {},
   "source": [
    "5.1 As we can see that the Service type is the largest, we can replace the *NA* with it."
   ]
  },
  {
   "cell_type": "code",
   "execution_count": 9,
   "metadata": {},
   "outputs": [],
   "source": [
    "df_changed['job_type']=df['job_type'].fillna('service')"
   ]
  },
  {
   "cell_type": "markdown",
   "metadata": {},
   "source": [
    "6. let us take a look at the remaining features."
   ]
  },
  {
   "cell_type": "code",
   "execution_count": 10,
   "metadata": {},
   "outputs": [
    {
     "name": "stdout",
     "output_type": "stream",
     "text": [
      "<class 'pandas.core.frame.DataFrame'>\n",
      "RangeIndex: 10001 entries, 0 to 10000\n",
      "Data columns (total 20 columns):\n",
      " #   Column                     Non-Null Count  Dtype         \n",
      "---  ------                     --------------  -----         \n",
      " 0   age                        10001 non-null  int64         \n",
      " 1   residence_type             10001 non-null  object        \n",
      " 2   education_level            10001 non-null  object        \n",
      " 3   job_type                   10001 non-null  object        \n",
      " 4   number_years_at_job        10001 non-null  int64         \n",
      " 5   marital_status             10001 non-null  int64         \n",
      " 6   num_tickets_purchased      10001 non-null  float64       \n",
      " 7   last_ticket_purchase_year  5867 non-null   float64       \n",
      " 8   other_tickets_purchased    8192 non-null   object        \n",
      " 9   gym_membership_ind         10001 non-null  int64         \n",
      " 10  prior_year_spend           7164 non-null   float64       \n",
      " 11  prior_year_spend_external  8053 non-null   float64       \n",
      " 12  primary_credit_card        8053 non-null   object        \n",
      " 13  last_activity_social       6173 non-null   datetime64[ns]\n",
      " 14  other_streaming_services   10001 non-null  int64         \n",
      " 15  cable_provider             7912 non-null   object        \n",
      " 16  search_history_summary     10001 non-null  object        \n",
      " 17  promotion_type             10001 non-null  object        \n",
      " 18  conversion_ind             10001 non-null  float64       \n",
      " 19  ltv                        10001 non-null  float64       \n",
      "dtypes: datetime64[ns](1), float64(6), int64(5), object(8)\n",
      "memory usage: 1.5+ MB\n"
     ]
    }
   ],
   "source": [
    "df_changed.info()"
   ]
  },
  {
   "cell_type": "markdown",
   "metadata": {},
   "source": [
    "7. Let us take a look at the last ticket purchase year"
   ]
  },
  {
   "cell_type": "code",
   "execution_count": 11,
   "metadata": {},
   "outputs": [
    {
     "data": {
      "text/plain": [
       "2022.0    592\n",
       "2020.0    535\n",
       "2021.0    516\n",
       "2019.0    484\n",
       "2018.0    461\n",
       "2017.0    461\n",
       "2016.0    448\n",
       "2012.0    434\n",
       "2015.0    423\n",
       "2013.0    415\n",
       "2014.0    404\n",
       "2011.0    352\n",
       "2010.0    342\n",
       "Name: last_ticket_purchase_year, dtype: int64"
      ]
     },
     "execution_count": 11,
     "metadata": {},
     "output_type": "execute_result"
    }
   ],
   "source": [
    "df_changed['last_ticket_purchase_year'].value_counts()"
   ]
  },
  {
   "cell_type": "markdown",
   "metadata": {},
   "source": [
    "7.1 We believe that any one who purchased a ticket was important, so anyone who hasnt has been labeled as 0"
   ]
  },
  {
   "cell_type": "code",
   "execution_count": 12,
   "metadata": {},
   "outputs": [
    {
     "data": {
      "text/html": [
       "<div>\n",
       "<style scoped>\n",
       "    .dataframe tbody tr th:only-of-type {\n",
       "        vertical-align: middle;\n",
       "    }\n",
       "\n",
       "    .dataframe tbody tr th {\n",
       "        vertical-align: top;\n",
       "    }\n",
       "\n",
       "    .dataframe thead th {\n",
       "        text-align: right;\n",
       "    }\n",
       "</style>\n",
       "<table border=\"1\" class=\"dataframe\">\n",
       "  <thead>\n",
       "    <tr style=\"text-align: right;\">\n",
       "      <th></th>\n",
       "      <th>age</th>\n",
       "      <th>residence_type</th>\n",
       "      <th>education_level</th>\n",
       "      <th>job_type</th>\n",
       "      <th>number_years_at_job</th>\n",
       "      <th>marital_status</th>\n",
       "      <th>num_tickets_purchased</th>\n",
       "      <th>last_ticket_purchase_year</th>\n",
       "      <th>other_tickets_purchased</th>\n",
       "      <th>gym_membership_ind</th>\n",
       "      <th>...</th>\n",
       "      <th>prior_year_spend_external</th>\n",
       "      <th>primary_credit_card</th>\n",
       "      <th>last_activity_social</th>\n",
       "      <th>other_streaming_services</th>\n",
       "      <th>cable_provider</th>\n",
       "      <th>search_history_summary</th>\n",
       "      <th>promotion_type</th>\n",
       "      <th>conversion_ind</th>\n",
       "      <th>ltv</th>\n",
       "      <th>is_ticket_purchased</th>\n",
       "    </tr>\n",
       "  </thead>\n",
       "  <tbody>\n",
       "    <tr>\n",
       "      <th>0</th>\n",
       "      <td>74</td>\n",
       "      <td>U</td>\n",
       "      <td>grad_high_school</td>\n",
       "      <td>government</td>\n",
       "      <td>10</td>\n",
       "      <td>1</td>\n",
       "      <td>1.0</td>\n",
       "      <td>2019.0</td>\n",
       "      <td>['bsb', 'fb', 'fb', 'fb', 'c']</td>\n",
       "      <td>1</td>\n",
       "      <td>...</td>\n",
       "      <td>5.20</td>\n",
       "      <td>maincard</td>\n",
       "      <td>2018-01-17</td>\n",
       "      <td>3</td>\n",
       "      <td>Fish Network</td>\n",
       "      <td>['majorwrestlingmagazine.com', 'firstwildlifec...</td>\n",
       "      <td>bronze</td>\n",
       "      <td>0.0</td>\n",
       "      <td>0.000000</td>\n",
       "      <td>1</td>\n",
       "    </tr>\n",
       "    <tr>\n",
       "      <th>1</th>\n",
       "      <td>51</td>\n",
       "      <td>U</td>\n",
       "      <td>phd</td>\n",
       "      <td>healthcare</td>\n",
       "      <td>7</td>\n",
       "      <td>0</td>\n",
       "      <td>2.0</td>\n",
       "      <td>2013.0</td>\n",
       "      <td>['c', 'bsb', 'fb', 'c', 'c', 'bxb', 'fb', 'c',...</td>\n",
       "      <td>0</td>\n",
       "      <td>...</td>\n",
       "      <td>247.43</td>\n",
       "      <td>maincard</td>\n",
       "      <td>2020-05-16</td>\n",
       "      <td>2</td>\n",
       "      <td>Cheezeline</td>\n",
       "      <td>['totaltechnews.com', 'firstoutdoorreport.com'...</td>\n",
       "      <td>bronze</td>\n",
       "      <td>1.0</td>\n",
       "      <td>3147.898930</td>\n",
       "      <td>1</td>\n",
       "    </tr>\n",
       "    <tr>\n",
       "      <th>2</th>\n",
       "      <td>42</td>\n",
       "      <td>U</td>\n",
       "      <td>grad_high_school</td>\n",
       "      <td>service</td>\n",
       "      <td>7</td>\n",
       "      <td>1</td>\n",
       "      <td>4.0</td>\n",
       "      <td>2011.0</td>\n",
       "      <td>['c', 'fb', 'fb', 'fb', 's', 's', 'fb', 'fb', ...</td>\n",
       "      <td>0</td>\n",
       "      <td>...</td>\n",
       "      <td>69.45</td>\n",
       "      <td>passport</td>\n",
       "      <td>NaT</td>\n",
       "      <td>5</td>\n",
       "      <td>Spectral</td>\n",
       "      <td>['totalpoliticsclips.com', 'dailyfinancenews.c...</td>\n",
       "      <td>bronze</td>\n",
       "      <td>0.0</td>\n",
       "      <td>0.000000</td>\n",
       "      <td>1</td>\n",
       "    </tr>\n",
       "    <tr>\n",
       "      <th>3</th>\n",
       "      <td>61</td>\n",
       "      <td>U</td>\n",
       "      <td>grad_college</td>\n",
       "      <td>retail</td>\n",
       "      <td>8</td>\n",
       "      <td>1</td>\n",
       "      <td>0.0</td>\n",
       "      <td>NaN</td>\n",
       "      <td>['bsb', 'c', 'fb', 'fb', 'c', 'bsb', 'bsb', 'f...</td>\n",
       "      <td>0</td>\n",
       "      <td>...</td>\n",
       "      <td>482.98</td>\n",
       "      <td>passport</td>\n",
       "      <td>2017-08-24</td>\n",
       "      <td>2</td>\n",
       "      <td>NaN</td>\n",
       "      <td>['majorfurniturenews.com', 'actionmarketmagazi...</td>\n",
       "      <td>gold</td>\n",
       "      <td>1.0</td>\n",
       "      <td>1569.613367</td>\n",
       "      <td>0</td>\n",
       "    </tr>\n",
       "    <tr>\n",
       "      <th>4</th>\n",
       "      <td>48</td>\n",
       "      <td>S</td>\n",
       "      <td>masters_professional</td>\n",
       "      <td>education</td>\n",
       "      <td>6</td>\n",
       "      <td>1</td>\n",
       "      <td>2.0</td>\n",
       "      <td>2021.0</td>\n",
       "      <td>['fb', 'fb', 'c', 'fb', 'fb', 'bxb', 's', 'bxb...</td>\n",
       "      <td>1</td>\n",
       "      <td>...</td>\n",
       "      <td>170.83</td>\n",
       "      <td>pursuit</td>\n",
       "      <td>2022-08-23</td>\n",
       "      <td>2</td>\n",
       "      <td>NaN</td>\n",
       "      <td>['UBCbooksreport.com', 'politicsreport.com', '...</td>\n",
       "      <td>silver</td>\n",
       "      <td>1.0</td>\n",
       "      <td>3411.585503</td>\n",
       "      <td>1</td>\n",
       "    </tr>\n",
       "  </tbody>\n",
       "</table>\n",
       "<p>5 rows × 21 columns</p>\n",
       "</div>"
      ],
      "text/plain": [
       "   age residence_type       education_level    job_type  number_years_at_job  \\\n",
       "0   74              U      grad_high_school  government                   10   \n",
       "1   51              U                   phd  healthcare                    7   \n",
       "2   42              U      grad_high_school     service                    7   \n",
       "3   61              U          grad_college      retail                    8   \n",
       "4   48              S  masters_professional   education                    6   \n",
       "\n",
       "   marital_status  num_tickets_purchased  last_ticket_purchase_year  \\\n",
       "0               1                    1.0                     2019.0   \n",
       "1               0                    2.0                     2013.0   \n",
       "2               1                    4.0                     2011.0   \n",
       "3               1                    0.0                        NaN   \n",
       "4               1                    2.0                     2021.0   \n",
       "\n",
       "                             other_tickets_purchased  gym_membership_ind  ...  \\\n",
       "0                     ['bsb', 'fb', 'fb', 'fb', 'c']                   1  ...   \n",
       "1  ['c', 'bsb', 'fb', 'c', 'c', 'bxb', 'fb', 'c',...                   0  ...   \n",
       "2  ['c', 'fb', 'fb', 'fb', 's', 's', 'fb', 'fb', ...                   0  ...   \n",
       "3  ['bsb', 'c', 'fb', 'fb', 'c', 'bsb', 'bsb', 'f...                   0  ...   \n",
       "4  ['fb', 'fb', 'c', 'fb', 'fb', 'bxb', 's', 'bxb...                   1  ...   \n",
       "\n",
       "   prior_year_spend_external  primary_credit_card last_activity_social  \\\n",
       "0                       5.20             maincard           2018-01-17   \n",
       "1                     247.43             maincard           2020-05-16   \n",
       "2                      69.45             passport                  NaT   \n",
       "3                     482.98             passport           2017-08-24   \n",
       "4                     170.83              pursuit           2022-08-23   \n",
       "\n",
       "  other_streaming_services  cable_provider  \\\n",
       "0                        3    Fish Network   \n",
       "1                        2      Cheezeline   \n",
       "2                        5        Spectral   \n",
       "3                        2             NaN   \n",
       "4                        2             NaN   \n",
       "\n",
       "                              search_history_summary promotion_type  \\\n",
       "0  ['majorwrestlingmagazine.com', 'firstwildlifec...         bronze   \n",
       "1  ['totaltechnews.com', 'firstoutdoorreport.com'...         bronze   \n",
       "2  ['totalpoliticsclips.com', 'dailyfinancenews.c...         bronze   \n",
       "3  ['majorfurniturenews.com', 'actionmarketmagazi...           gold   \n",
       "4  ['UBCbooksreport.com', 'politicsreport.com', '...         silver   \n",
       "\n",
       "  conversion_ind          ltv  is_ticket_purchased  \n",
       "0            0.0     0.000000                    1  \n",
       "1            1.0  3147.898930                    1  \n",
       "2            0.0     0.000000                    1  \n",
       "3            1.0  1569.613367                    0  \n",
       "4            1.0  3411.585503                    1  \n",
       "\n",
       "[5 rows x 21 columns]"
      ]
     },
     "execution_count": 12,
     "metadata": {},
     "output_type": "execute_result"
    }
   ],
   "source": [
    "df_changed['is_ticket_purchased']=df_changed['last_ticket_purchase_year'].apply(lambda x: 0 if np.isnan(x) else 1)\n",
    "df_changed.head()"
   ]
  },
  {
   "cell_type": "markdown",
   "metadata": {},
   "source": [
    "7.2 Let us now plot the years to see if any period impacts the conversion"
   ]
  },
  {
   "cell_type": "code",
   "execution_count": 18,
   "metadata": {},
   "outputs": [
    {
     "data": {
      "text/plain": [
       "<seaborn.axisgrid.PairGrid at 0x2c5508b62d0>"
      ]
     },
     "execution_count": 18,
     "metadata": {},
     "output_type": "execute_result"
    },
    {
     "data": {
      "image/png": "[encoded data removed]",
      "text/plain": [
       "<Figure size 800x800 with 1 Axes>"
      ]
     },
     "metadata": {},
     "output_type": "display_data"
    }
   ],
   "source": [
    "sns.set(style=\"whitegrid\")\n",
    "g = sns.PairGrid(data=df_changed, x_vars=['last_ticket_purchase_year'], y_vars='conversion_ind',height=8)\n",
    "g.map(sns.pointplot, color=sns.xkcd_rgb[\"red\"])\n",
    "g.set(ylim=(0, 1))"
   ]
  },
  {
   "cell_type": "markdown",
   "metadata": {},
   "source": [
    "7.3 As we can see, the years can be collated into three different sections: 2019+ , 2015-2018+, 2010-2015"
   ]
  },
  {
   "cell_type": "code",
   "execution_count": 13,
   "metadata": {},
   "outputs": [
    {
     "data": {
      "text/html": [
       "<div>\n",
       "<style scoped>\n",
       "    .dataframe tbody tr th:only-of-type {\n",
       "        vertical-align: middle;\n",
       "    }\n",
       "\n",
       "    .dataframe tbody tr th {\n",
       "        vertical-align: top;\n",
       "    }\n",
       "\n",
       "    .dataframe thead th {\n",
       "        text-align: right;\n",
       "    }\n",
       "</style>\n",
       "<table border=\"1\" class=\"dataframe\">\n",
       "  <thead>\n",
       "    <tr style=\"text-align: right;\">\n",
       "      <th></th>\n",
       "      <th>age</th>\n",
       "      <th>residence_type</th>\n",
       "      <th>education_level</th>\n",
       "      <th>job_type</th>\n",
       "      <th>number_years_at_job</th>\n",
       "      <th>marital_status</th>\n",
       "      <th>num_tickets_purchased</th>\n",
       "      <th>last_ticket_purchase_year</th>\n",
       "      <th>other_tickets_purchased</th>\n",
       "      <th>gym_membership_ind</th>\n",
       "      <th>...</th>\n",
       "      <th>primary_credit_card</th>\n",
       "      <th>last_activity_social</th>\n",
       "      <th>other_streaming_services</th>\n",
       "      <th>cable_provider</th>\n",
       "      <th>search_history_summary</th>\n",
       "      <th>promotion_type</th>\n",
       "      <th>conversion_ind</th>\n",
       "      <th>ltv</th>\n",
       "      <th>is_ticket_purchased</th>\n",
       "      <th>ticket_purchased_recency</th>\n",
       "    </tr>\n",
       "  </thead>\n",
       "  <tbody>\n",
       "    <tr>\n",
       "      <th>0</th>\n",
       "      <td>74</td>\n",
       "      <td>U</td>\n",
       "      <td>grad_high_school</td>\n",
       "      <td>government</td>\n",
       "      <td>10</td>\n",
       "      <td>1</td>\n",
       "      <td>1.0</td>\n",
       "      <td>2019.0</td>\n",
       "      <td>['bsb', 'fb', 'fb', 'fb', 'c']</td>\n",
       "      <td>1</td>\n",
       "      <td>...</td>\n",
       "      <td>maincard</td>\n",
       "      <td>2018-01-17</td>\n",
       "      <td>3</td>\n",
       "      <td>Fish Network</td>\n",
       "      <td>['majorwrestlingmagazine.com', 'firstwildlifec...</td>\n",
       "      <td>bronze</td>\n",
       "      <td>0.0</td>\n",
       "      <td>0.000000</td>\n",
       "      <td>1</td>\n",
       "      <td>2019+</td>\n",
       "    </tr>\n",
       "    <tr>\n",
       "      <th>1</th>\n",
       "      <td>51</td>\n",
       "      <td>U</td>\n",
       "      <td>phd</td>\n",
       "      <td>healthcare</td>\n",
       "      <td>7</td>\n",
       "      <td>0</td>\n",
       "      <td>2.0</td>\n",
       "      <td>2013.0</td>\n",
       "      <td>['c', 'bsb', 'fb', 'c', 'c', 'bxb', 'fb', 'c',...</td>\n",
       "      <td>0</td>\n",
       "      <td>...</td>\n",
       "      <td>maincard</td>\n",
       "      <td>2020-05-16</td>\n",
       "      <td>2</td>\n",
       "      <td>Cheezeline</td>\n",
       "      <td>['totaltechnews.com', 'firstoutdoorreport.com'...</td>\n",
       "      <td>bronze</td>\n",
       "      <td>1.0</td>\n",
       "      <td>3147.898930</td>\n",
       "      <td>1</td>\n",
       "      <td>2010-2015</td>\n",
       "    </tr>\n",
       "    <tr>\n",
       "      <th>2</th>\n",
       "      <td>42</td>\n",
       "      <td>U</td>\n",
       "      <td>grad_high_school</td>\n",
       "      <td>service</td>\n",
       "      <td>7</td>\n",
       "      <td>1</td>\n",
       "      <td>4.0</td>\n",
       "      <td>2011.0</td>\n",
       "      <td>['c', 'fb', 'fb', 'fb', 's', 's', 'fb', 'fb', ...</td>\n",
       "      <td>0</td>\n",
       "      <td>...</td>\n",
       "      <td>passport</td>\n",
       "      <td>NaT</td>\n",
       "      <td>5</td>\n",
       "      <td>Spectral</td>\n",
       "      <td>['totalpoliticsclips.com', 'dailyfinancenews.c...</td>\n",
       "      <td>bronze</td>\n",
       "      <td>0.0</td>\n",
       "      <td>0.000000</td>\n",
       "      <td>1</td>\n",
       "      <td>2010-2015</td>\n",
       "    </tr>\n",
       "    <tr>\n",
       "      <th>3</th>\n",
       "      <td>61</td>\n",
       "      <td>U</td>\n",
       "      <td>grad_college</td>\n",
       "      <td>retail</td>\n",
       "      <td>8</td>\n",
       "      <td>1</td>\n",
       "      <td>0.0</td>\n",
       "      <td>NaN</td>\n",
       "      <td>['bsb', 'c', 'fb', 'fb', 'c', 'bsb', 'bsb', 'f...</td>\n",
       "      <td>0</td>\n",
       "      <td>...</td>\n",
       "      <td>passport</td>\n",
       "      <td>2017-08-24</td>\n",
       "      <td>2</td>\n",
       "      <td>NaN</td>\n",
       "      <td>['majorfurniturenews.com', 'actionmarketmagazi...</td>\n",
       "      <td>gold</td>\n",
       "      <td>1.0</td>\n",
       "      <td>1569.613367</td>\n",
       "      <td>0</td>\n",
       "      <td>0</td>\n",
       "    </tr>\n",
       "    <tr>\n",
       "      <th>4</th>\n",
       "      <td>48</td>\n",
       "      <td>S</td>\n",
       "      <td>masters_professional</td>\n",
       "      <td>education</td>\n",
       "      <td>6</td>\n",
       "      <td>1</td>\n",
       "      <td>2.0</td>\n",
       "      <td>2021.0</td>\n",
       "      <td>['fb', 'fb', 'c', 'fb', 'fb', 'bxb', 's', 'bxb...</td>\n",
       "      <td>1</td>\n",
       "      <td>...</td>\n",
       "      <td>pursuit</td>\n",
       "      <td>2022-08-23</td>\n",
       "      <td>2</td>\n",
       "      <td>NaN</td>\n",
       "      <td>['UBCbooksreport.com', 'politicsreport.com', '...</td>\n",
       "      <td>silver</td>\n",
       "      <td>1.0</td>\n",
       "      <td>3411.585503</td>\n",
       "      <td>1</td>\n",
       "      <td>2019+</td>\n",
       "    </tr>\n",
       "  </tbody>\n",
       "</table>\n",
       "<p>5 rows × 22 columns</p>\n",
       "</div>"
      ],
      "text/plain": [
       "   age residence_type       education_level    job_type  number_years_at_job  \\\n",
       "0   74              U      grad_high_school  government                   10   \n",
       "1   51              U                   phd  healthcare                    7   \n",
       "2   42              U      grad_high_school     service                    7   \n",
       "3   61              U          grad_college      retail                    8   \n",
       "4   48              S  masters_professional   education                    6   \n",
       "\n",
       "   marital_status  num_tickets_purchased  last_ticket_purchase_year  \\\n",
       "0               1                    1.0                     2019.0   \n",
       "1               0                    2.0                     2013.0   \n",
       "2               1                    4.0                     2011.0   \n",
       "3               1                    0.0                        NaN   \n",
       "4               1                    2.0                     2021.0   \n",
       "\n",
       "                             other_tickets_purchased  gym_membership_ind  ...  \\\n",
       "0                     ['bsb', 'fb', 'fb', 'fb', 'c']                   1  ...   \n",
       "1  ['c', 'bsb', 'fb', 'c', 'c', 'bxb', 'fb', 'c',...                   0  ...   \n",
       "2  ['c', 'fb', 'fb', 'fb', 's', 's', 'fb', 'fb', ...                   0  ...   \n",
       "3  ['bsb', 'c', 'fb', 'fb', 'c', 'bsb', 'bsb', 'f...                   0  ...   \n",
       "4  ['fb', 'fb', 'c', 'fb', 'fb', 'bxb', 's', 'bxb...                   1  ...   \n",
       "\n",
       "   primary_credit_card  last_activity_social other_streaming_services  \\\n",
       "0             maincard            2018-01-17                        3   \n",
       "1             maincard            2020-05-16                        2   \n",
       "2             passport                   NaT                        5   \n",
       "3             passport            2017-08-24                        2   \n",
       "4              pursuit            2022-08-23                        2   \n",
       "\n",
       "  cable_provider                             search_history_summary  \\\n",
       "0   Fish Network  ['majorwrestlingmagazine.com', 'firstwildlifec...   \n",
       "1     Cheezeline  ['totaltechnews.com', 'firstoutdoorreport.com'...   \n",
       "2       Spectral  ['totalpoliticsclips.com', 'dailyfinancenews.c...   \n",
       "3            NaN  ['majorfurniturenews.com', 'actionmarketmagazi...   \n",
       "4            NaN  ['UBCbooksreport.com', 'politicsreport.com', '...   \n",
       "\n",
       "  promotion_type conversion_ind          ltv  is_ticket_purchased  \\\n",
       "0         bronze            0.0     0.000000                    1   \n",
       "1         bronze            1.0  3147.898930                    1   \n",
       "2         bronze            0.0     0.000000                    1   \n",
       "3           gold            1.0  1569.613367                    0   \n",
       "4         silver            1.0  3411.585503                    1   \n",
       "\n",
       "   ticket_purchased_recency  \n",
       "0                     2019+  \n",
       "1                 2010-2015  \n",
       "2                 2010-2015  \n",
       "3                         0  \n",
       "4                     2019+  \n",
       "\n",
       "[5 rows x 22 columns]"
      ]
     },
     "execution_count": 13,
     "metadata": {},
     "output_type": "execute_result"
    }
   ],
   "source": [
    "df_changed['ticket_purchased_recency']=df_changed['last_ticket_purchase_year'].apply(lambda x: '2019+' if x>=2019 else ('2015-2018' if x >=2015 else ('2010-2015' if x>=2010 else 0)))\n",
    "df_changed.head()"
   ]
  },
  {
   "cell_type": "code",
   "execution_count": 19,
   "metadata": {},
   "outputs": [
    {
     "name": "stdout",
     "output_type": "stream",
     "text": [
      "<class 'pandas.core.frame.DataFrame'>\n",
      "RangeIndex: 10001 entries, 0 to 10000\n",
      "Data columns (total 21 columns):\n",
      " #   Column                     Non-Null Count  Dtype         \n",
      "---  ------                     --------------  -----         \n",
      " 0   age                        10001 non-null  int64         \n",
      " 1   residence_type             10001 non-null  object        \n",
      " 2   education_level            10001 non-null  object        \n",
      " 3   job_type                   10001 non-null  object        \n",
      " 4   number_years_at_job        10001 non-null  int64         \n",
      " 5   marital_status             10001 non-null  int64         \n",
      " 6   num_tickets_purchased      10001 non-null  float64       \n",
      " 7   other_tickets_purchased    8192 non-null   object        \n",
      " 8   gym_membership_ind         10001 non-null  int64         \n",
      " 9   prior_year_spend           7164 non-null   float64       \n",
      " 10  prior_year_spend_external  8053 non-null   float64       \n",
      " 11  primary_credit_card        8053 non-null   object        \n",
      " 12  last_activity_social       6173 non-null   datetime64[ns]\n",
      " 13  other_streaming_services   10001 non-null  int64         \n",
      " 14  cable_provider             7912 non-null   object        \n",
      " 15  search_history_summary     10001 non-null  object        \n",
      " 16  promotion_type             10001 non-null  object        \n",
      " 17  conversion_ind             10001 non-null  float64       \n",
      " 18  ltv                        10001 non-null  float64       \n",
      " 19  is_ticket_purchased        10001 non-null  int64         \n",
      " 20  ticket_purchased_recency   10001 non-null  object        \n",
      "dtypes: datetime64[ns](1), float64(5), int64(6), object(9)\n",
      "memory usage: 1.6+ MB\n"
     ]
    }
   ],
   "source": [
    "df_changed_2=df_changed.drop(['last_ticket_purchase_year'],axis=1)\n",
    "df_changed_2.info()"
   ]
  },
  {
   "cell_type": "markdown",
   "metadata": {},
   "source": [
    "8. Lets take a look at the Cable Providers"
   ]
  },
  {
   "cell_type": "code",
   "execution_count": 20,
   "metadata": {},
   "outputs": [
    {
     "data": {
      "text/plain": [
       "Infinity        2146\n",
       "Spectral        1893\n",
       "DefecTV         1745\n",
       "Fish Network     902\n",
       "ShrewTube        680\n",
       "Suboptimal       270\n",
       "Fish network     148\n",
       "Cheezeline       116\n",
       "Sub-optimal       11\n",
       "Infinty            1\n",
       "Name: cable_provider, dtype: int64"
      ]
     },
     "execution_count": 20,
     "metadata": {},
     "output_type": "execute_result"
    }
   ],
   "source": [
    "df_changed_2['cable_provider'].value_counts()"
   ]
  },
  {
   "cell_type": "markdown",
   "metadata": {},
   "source": [
    "8.1 Let us correct the categories."
   ]
  },
  {
   "cell_type": "code",
   "execution_count": 21,
   "metadata": {},
   "outputs": [],
   "source": [
    "df_changed_2.loc[df.cable_provider=='Infinty','cable_provider']=\"Infinity\"\n",
    "df_changed_2.loc[df.cable_provider=='Fish network','cable_provider']=\"Fish Network\"\n",
    "df_changed_2.loc[df.cable_provider=='Sub-optimal','cable_provider']=\"Suboptimal\""
   ]
  },
  {
   "cell_type": "markdown",
   "metadata": {},
   "source": [
    "8.2 Let us visualize the Categories against the conversion."
   ]
  },
  {
   "cell_type": "code",
   "execution_count": 23,
   "metadata": {},
   "outputs": [
    {
     "data": {
      "text/plain": [
       "<seaborn.axisgrid.PairGrid at 0x2c553316950>"
      ]
     },
     "execution_count": 23,
     "metadata": {},
     "output_type": "execute_result"
    },
    {
     "data": {
      "image/png": "[encoded data removed]",
      "text/plain": [
       "<Figure size 800x800 with 1 Axes>"
      ]
     },
     "metadata": {},
     "output_type": "display_data"
    }
   ],
   "source": [
    "sns.set(style=\"whitegrid\")\n",
    "g = sns.PairGrid(data=df_changed_2, x_vars=['cable_provider'], y_vars='conversion_ind', height=8)\n",
    "g.map(sns.pointplot, color=sns.xkcd_rgb[\"red\"])\n",
    "g.set(ylim=(0, 1))"
   ]
  },
  {
   "cell_type": "markdown",
   "metadata": {},
   "source": [
    "8.2 As there is no majority, lets make the na's into a new category."
   ]
  },
  {
   "cell_type": "code",
   "execution_count": 24,
   "metadata": {},
   "outputs": [
    {
     "name": "stdout",
     "output_type": "stream",
     "text": [
      "<class 'pandas.core.frame.DataFrame'>\n",
      "RangeIndex: 10001 entries, 0 to 10000\n",
      "Data columns (total 21 columns):\n",
      " #   Column                     Non-Null Count  Dtype         \n",
      "---  ------                     --------------  -----         \n",
      " 0   age                        10001 non-null  int64         \n",
      " 1   residence_type             10001 non-null  object        \n",
      " 2   education_level            10001 non-null  object        \n",
      " 3   job_type                   10001 non-null  object        \n",
      " 4   number_years_at_job        10001 non-null  int64         \n",
      " 5   marital_status             10001 non-null  int64         \n",
      " 6   num_tickets_purchased      10001 non-null  float64       \n",
      " 7   other_tickets_purchased    8192 non-null   object        \n",
      " 8   gym_membership_ind         10001 non-null  int64         \n",
      " 9   prior_year_spend           7164 non-null   float64       \n",
      " 10  prior_year_spend_external  8053 non-null   float64       \n",
      " 11  primary_credit_card        8053 non-null   object        \n",
      " 12  last_activity_social       6173 non-null   datetime64[ns]\n",
      " 13  other_streaming_services   10001 non-null  int64         \n",
      " 14  cable_provider             10001 non-null  object        \n",
      " 15  search_history_summary     10001 non-null  object        \n",
      " 16  promotion_type             10001 non-null  object        \n",
      " 17  conversion_ind             10001 non-null  float64       \n",
      " 18  ltv                        10001 non-null  float64       \n",
      " 19  is_ticket_purchased        10001 non-null  int64         \n",
      " 20  ticket_purchased_recency   10001 non-null  object        \n",
      "dtypes: datetime64[ns](1), float64(5), int64(6), object(9)\n",
      "memory usage: 1.6+ MB\n"
     ]
    }
   ],
   "source": [
    "df_changed_3=df_changed_2.copy()\n",
    "df_changed_3['cable_provider']=df_changed_3['cable_provider'].fillna('No_Cable')\n",
    "df_changed_3.info()"
   ]
  },
  {
   "cell_type": "markdown",
   "metadata": {},
   "source": [
    "9. Let us take a look at the prior year"
   ]
  },
  {
   "cell_type": "code",
   "execution_count": 26,
   "metadata": {},
   "outputs": [
    {
     "data": {
      "text/plain": [
       "count     7164.000000\n",
       "mean        27.664781\n",
       "std        149.957682\n",
       "min          0.000000\n",
       "25%          6.427500\n",
       "50%         15.650000\n",
       "75%         34.275000\n",
       "max      10438.770000\n",
       "Name: prior_year_spend, dtype: float64"
      ]
     },
     "execution_count": 26,
     "metadata": {},
     "output_type": "execute_result"
    }
   ],
   "source": [
    "df_changed_3['prior_year_spend'].describe()"
   ]
  },
  {
   "cell_type": "markdown",
   "metadata": {},
   "source": [
    "9.1 let us set the *NA* to 0"
   ]
  },
  {
   "cell_type": "code",
   "execution_count": 27,
   "metadata": {},
   "outputs": [],
   "source": [
    "df_changed_3['prior_year_spend']=df_changed_3['prior_year_spend'].fillna(0)\n",
    "df_changed_3['prior_year_spend_external']=df_changed_3['prior_year_spend_external'].fillna(0)"
   ]
  },
  {
   "cell_type": "code",
   "execution_count": 28,
   "metadata": {},
   "outputs": [
    {
     "name": "stdout",
     "output_type": "stream",
     "text": [
      "<class 'pandas.core.frame.DataFrame'>\n",
      "RangeIndex: 10001 entries, 0 to 10000\n",
      "Data columns (total 21 columns):\n",
      " #   Column                     Non-Null Count  Dtype         \n",
      "---  ------                     --------------  -----         \n",
      " 0   age                        10001 non-null  int64         \n",
      " 1   residence_type             10001 non-null  object        \n",
      " 2   education_level            10001 non-null  object        \n",
      " 3   job_type                   10001 non-null  object        \n",
      " 4   number_years_at_job        10001 non-null  int64         \n",
      " 5   marital_status             10001 non-null  int64         \n",
      " 6   num_tickets_purchased      10001 non-null  float64       \n",
      " 7   other_tickets_purchased    8192 non-null   object        \n",
      " 8   gym_membership_ind         10001 non-null  int64         \n",
      " 9   prior_year_spend           10001 non-null  float64       \n",
      " 10  prior_year_spend_external  10001 non-null  float64       \n",
      " 11  primary_credit_card        8053 non-null   object        \n",
      " 12  last_activity_social       6173 non-null   datetime64[ns]\n",
      " 13  other_streaming_services   10001 non-null  int64         \n",
      " 14  cable_provider             10001 non-null  object        \n",
      " 15  search_history_summary     10001 non-null  object        \n",
      " 16  promotion_type             10001 non-null  object        \n",
      " 17  conversion_ind             10001 non-null  float64       \n",
      " 18  ltv                        10001 non-null  float64       \n",
      " 19  is_ticket_purchased        10001 non-null  int64         \n",
      " 20  ticket_purchased_recency   10001 non-null  object        \n",
      "dtypes: datetime64[ns](1), float64(5), int64(6), object(9)\n",
      "memory usage: 1.6+ MB\n"
     ]
    }
   ],
   "source": [
    "df_changed_3.info()"
   ]
  },
  {
   "cell_type": "markdown",
   "metadata": {},
   "source": [
    "10. Let us take a look at the primary credit card feature. We can correct a few spelling issues, and convert it to all lowercase."
   ]
  },
  {
   "cell_type": "code",
   "execution_count": 30,
   "metadata": {},
   "outputs": [],
   "source": [
    "df_changed_4=df_changed_3.copy()\n",
    "df_changed_4.loc[df_changed_4.primary_credit_card==\"PASSPORT\",\"primary_credit_card\"]=\"passport\"  \n",
    "df_changed_4.loc[df_changed_4.primary_credit_card==\"passsport\",\"primary_credit_card\"]=\"passport\"\n",
    "df_changed_4.loc[df_changed_4.primary_credit_card==\"Locate\",\"primary_credit_card\"]=\"locate\"\n",
    "df_changed_4.loc[df_changed_4.primary_credit_card==\"mainCard\",\"primary_credit_card\"]=\"maincard\""
   ]
  },
  {
   "cell_type": "markdown",
   "metadata": {},
   "source": [
    "10.1 Let us now set the *NA* to another category none"
   ]
  },
  {
   "cell_type": "code",
   "execution_count": 31,
   "metadata": {},
   "outputs": [],
   "source": [
    "df_changed_4.loc[df_changed_4.primary_credit_card.isna(),\"primary_credit_card\"]=\"none\""
   ]
  },
  {
   "cell_type": "code",
   "execution_count": 33,
   "metadata": {},
   "outputs": [
    {
     "name": "stdout",
     "output_type": "stream",
     "text": [
      "<class 'pandas.core.frame.DataFrame'>\n",
      "RangeIndex: 10001 entries, 0 to 10000\n",
      "Data columns (total 21 columns):\n",
      " #   Column                     Non-Null Count  Dtype         \n",
      "---  ------                     --------------  -----         \n",
      " 0   age                        10001 non-null  int64         \n",
      " 1   residence_type             10001 non-null  object        \n",
      " 2   education_level            10001 non-null  object        \n",
      " 3   job_type                   10001 non-null  object        \n",
      " 4   number_years_at_job        10001 non-null  int64         \n",
      " 5   marital_status             10001 non-null  int64         \n",
      " 6   num_tickets_purchased      10001 non-null  float64       \n",
      " 7   other_tickets_purchased    8192 non-null   object        \n",
      " 8   gym_membership_ind         10001 non-null  int64         \n",
      " 9   prior_year_spend           10001 non-null  float64       \n",
      " 10  prior_year_spend_external  10001 non-null  float64       \n",
      " 11  primary_credit_card        10001 non-null  object        \n",
      " 12  last_activity_social       6173 non-null   datetime64[ns]\n",
      " 13  other_streaming_services   10001 non-null  int64         \n",
      " 14  cable_provider             10001 non-null  object        \n",
      " 15  search_history_summary     10001 non-null  object        \n",
      " 16  promotion_type             10001 non-null  object        \n",
      " 17  conversion_ind             10001 non-null  float64       \n",
      " 18  ltv                        10001 non-null  float64       \n",
      " 19  is_ticket_purchased        10001 non-null  int64         \n",
      " 20  ticket_purchased_recency   10001 non-null  object        \n",
      "dtypes: datetime64[ns](1), float64(5), int64(6), object(9)\n",
      "memory usage: 1.6+ MB\n"
     ]
    }
   ],
   "source": [
    "df_changed_4.info()"
   ]
  },
  {
   "cell_type": "markdown",
   "metadata": {},
   "source": [
    "11. Making dummy variables out of every website would be too tedious lets instead do a simple search and check if the string wrest is part of the list of websites. Find the percentage of the total will give us a good idea about the previous search history."
   ]
  },
  {
   "cell_type": "code",
   "execution_count": 34,
   "metadata": {},
   "outputs": [],
   "source": [
    "def find_wrestle_website(website):\n",
    "  website_list = str(website).replace('\\'',\"\").strip('][').split(', ')\n",
    "  value = str(website).lower()\n",
    "  count = len([i.start() for i in re.finditer(\"wrest\",value)])\n",
    "  return round(count/len(website_list)*100)"
   ]
  },
  {
   "cell_type": "code",
   "execution_count": 35,
   "metadata": {},
   "outputs": [],
   "source": [
    "df_changed_5=df_changed_4.copy()"
   ]
  },
  {
   "cell_type": "code",
   "execution_count": 37,
   "metadata": {},
   "outputs": [],
   "source": [
    "df_changed_5[\"Search_history_percentage\"] = df_changed_5[\"search_history_summary\"].apply(find_wrestle_website) "
   ]
  },
  {
   "cell_type": "markdown",
   "metadata": {},
   "source": [
    "12. We can use the number of previous tickets purchased to be used as in indication of how likely they might be to purchasing a ticket as well."
   ]
  },
  {
   "cell_type": "code",
   "execution_count": 39,
   "metadata": {},
   "outputs": [],
   "source": [
    "def find_numberof_tickets(tickets):\n",
    "  tickets_list = str(tickets).replace('\\'',\"\").strip('][').split(', ')\n",
    "  return len(tickets_list)"
   ]
  },
  {
   "cell_type": "code",
   "execution_count": 40,
   "metadata": {},
   "outputs": [],
   "source": [
    "df_changed_5[\"count_other_tickets_purchased\"] = df_changed_5[\"other_tickets_purchased\"].apply(find_numberof_tickets)"
   ]
  },
  {
   "cell_type": "code",
   "execution_count": 41,
   "metadata": {},
   "outputs": [],
   "source": [
    "df_changed_5=df_changed_5.drop(['other_tickets_purchased','search_history_summary'],axis=1)"
   ]
  },
  {
   "cell_type": "code",
   "execution_count": 42,
   "metadata": {},
   "outputs": [
    {
     "name": "stdout",
     "output_type": "stream",
     "text": [
      "<class 'pandas.core.frame.DataFrame'>\n",
      "RangeIndex: 10001 entries, 0 to 10000\n",
      "Data columns (total 21 columns):\n",
      " #   Column                         Non-Null Count  Dtype         \n",
      "---  ------                         --------------  -----         \n",
      " 0   age                            10001 non-null  int64         \n",
      " 1   residence_type                 10001 non-null  object        \n",
      " 2   education_level                10001 non-null  object        \n",
      " 3   job_type                       10001 non-null  object        \n",
      " 4   number_years_at_job            10001 non-null  int64         \n",
      " 5   marital_status                 10001 non-null  int64         \n",
      " 6   num_tickets_purchased          10001 non-null  float64       \n",
      " 7   gym_membership_ind             10001 non-null  int64         \n",
      " 8   prior_year_spend               10001 non-null  float64       \n",
      " 9   prior_year_spend_external      10001 non-null  float64       \n",
      " 10  primary_credit_card            10001 non-null  object        \n",
      " 11  last_activity_social           6173 non-null   datetime64[ns]\n",
      " 12  other_streaming_services       10001 non-null  int64         \n",
      " 13  cable_provider                 10001 non-null  object        \n",
      " 14  promotion_type                 10001 non-null  object        \n",
      " 15  conversion_ind                 10001 non-null  float64       \n",
      " 16  ltv                            10001 non-null  float64       \n",
      " 17  is_ticket_purchased            10001 non-null  int64         \n",
      " 18  ticket_purchased_recency       10001 non-null  object        \n",
      " 19  Search_history_percentage      10001 non-null  int64         \n",
      " 20  count_other_tickets_purchased  10001 non-null  int64         \n",
      "dtypes: datetime64[ns](1), float64(5), int64(8), object(7)\n",
      "memory usage: 1.6+ MB\n"
     ]
    }
   ],
   "source": [
    "df_changed_5.info()"
   ]
  },
  {
   "cell_type": "markdown",
   "metadata": {},
   "source": [
    "13. We dropped the last activity social column as we found that it had way too many nulls to estimate with"
   ]
  },
  {
   "cell_type": "code",
   "execution_count": 43,
   "metadata": {},
   "outputs": [
    {
     "data": {
      "text/html": [
       "<div>\n",
       "<style scoped>\n",
       "    .dataframe tbody tr th:only-of-type {\n",
       "        vertical-align: middle;\n",
       "    }\n",
       "\n",
       "    .dataframe tbody tr th {\n",
       "        vertical-align: top;\n",
       "    }\n",
       "\n",
       "    .dataframe thead th {\n",
       "        text-align: right;\n",
       "    }\n",
       "</style>\n",
       "<table border=\"1\" class=\"dataframe\">\n",
       "  <thead>\n",
       "    <tr style=\"text-align: right;\">\n",
       "      <th></th>\n",
       "      <th>age</th>\n",
       "      <th>residence_type</th>\n",
       "      <th>education_level</th>\n",
       "      <th>job_type</th>\n",
       "      <th>number_years_at_job</th>\n",
       "      <th>marital_status</th>\n",
       "      <th>num_tickets_purchased</th>\n",
       "      <th>gym_membership_ind</th>\n",
       "      <th>prior_year_spend</th>\n",
       "      <th>prior_year_spend_external</th>\n",
       "      <th>primary_credit_card</th>\n",
       "      <th>other_streaming_services</th>\n",
       "      <th>cable_provider</th>\n",
       "      <th>promotion_type</th>\n",
       "      <th>conversion_ind</th>\n",
       "      <th>ltv</th>\n",
       "      <th>is_ticket_purchased</th>\n",
       "      <th>ticket_purchased_recency</th>\n",
       "      <th>Search_history_percentage</th>\n",
       "      <th>count_other_tickets_purchased</th>\n",
       "    </tr>\n",
       "  </thead>\n",
       "  <tbody>\n",
       "    <tr>\n",
       "      <th>0</th>\n",
       "      <td>74</td>\n",
       "      <td>U</td>\n",
       "      <td>grad_high_school</td>\n",
       "      <td>government</td>\n",
       "      <td>10</td>\n",
       "      <td>1</td>\n",
       "      <td>1.0</td>\n",
       "      <td>1</td>\n",
       "      <td>9.10</td>\n",
       "      <td>5.20</td>\n",
       "      <td>maincard</td>\n",
       "      <td>3</td>\n",
       "      <td>Fish Network</td>\n",
       "      <td>bronze</td>\n",
       "      <td>0.0</td>\n",
       "      <td>0.000000</td>\n",
       "      <td>1</td>\n",
       "      <td>2019+</td>\n",
       "      <td>17</td>\n",
       "      <td>5</td>\n",
       "    </tr>\n",
       "    <tr>\n",
       "      <th>1</th>\n",
       "      <td>51</td>\n",
       "      <td>U</td>\n",
       "      <td>phd</td>\n",
       "      <td>healthcare</td>\n",
       "      <td>7</td>\n",
       "      <td>0</td>\n",
       "      <td>2.0</td>\n",
       "      <td>0</td>\n",
       "      <td>27.45</td>\n",
       "      <td>247.43</td>\n",
       "      <td>maincard</td>\n",
       "      <td>2</td>\n",
       "      <td>Cheezeline</td>\n",
       "      <td>bronze</td>\n",
       "      <td>1.0</td>\n",
       "      <td>3147.898930</td>\n",
       "      <td>1</td>\n",
       "      <td>2010-2015</td>\n",
       "      <td>20</td>\n",
       "      <td>10</td>\n",
       "    </tr>\n",
       "    <tr>\n",
       "      <th>2</th>\n",
       "      <td>42</td>\n",
       "      <td>U</td>\n",
       "      <td>grad_high_school</td>\n",
       "      <td>service</td>\n",
       "      <td>7</td>\n",
       "      <td>1</td>\n",
       "      <td>4.0</td>\n",
       "      <td>0</td>\n",
       "      <td>63.63</td>\n",
       "      <td>69.45</td>\n",
       "      <td>passport</td>\n",
       "      <td>5</td>\n",
       "      <td>Spectral</td>\n",
       "      <td>bronze</td>\n",
       "      <td>0.0</td>\n",
       "      <td>0.000000</td>\n",
       "      <td>1</td>\n",
       "      <td>2010-2015</td>\n",
       "      <td>43</td>\n",
       "      <td>10</td>\n",
       "    </tr>\n",
       "    <tr>\n",
       "      <th>3</th>\n",
       "      <td>61</td>\n",
       "      <td>U</td>\n",
       "      <td>grad_college</td>\n",
       "      <td>retail</td>\n",
       "      <td>8</td>\n",
       "      <td>1</td>\n",
       "      <td>0.0</td>\n",
       "      <td>0</td>\n",
       "      <td>23.16</td>\n",
       "      <td>482.98</td>\n",
       "      <td>passport</td>\n",
       "      <td>2</td>\n",
       "      <td>No_Cable</td>\n",
       "      <td>gold</td>\n",
       "      <td>1.0</td>\n",
       "      <td>1569.613367</td>\n",
       "      <td>0</td>\n",
       "      <td>0</td>\n",
       "      <td>0</td>\n",
       "      <td>10</td>\n",
       "    </tr>\n",
       "    <tr>\n",
       "      <th>4</th>\n",
       "      <td>48</td>\n",
       "      <td>S</td>\n",
       "      <td>masters_professional</td>\n",
       "      <td>education</td>\n",
       "      <td>6</td>\n",
       "      <td>1</td>\n",
       "      <td>2.0</td>\n",
       "      <td>1</td>\n",
       "      <td>0.00</td>\n",
       "      <td>170.83</td>\n",
       "      <td>pursuit</td>\n",
       "      <td>2</td>\n",
       "      <td>No_Cable</td>\n",
       "      <td>silver</td>\n",
       "      <td>1.0</td>\n",
       "      <td>3411.585503</td>\n",
       "      <td>1</td>\n",
       "      <td>2019+</td>\n",
       "      <td>14</td>\n",
       "      <td>10</td>\n",
       "    </tr>\n",
       "  </tbody>\n",
       "</table>\n",
       "</div>"
      ],
      "text/plain": [
       "   age residence_type       education_level    job_type  number_years_at_job  \\\n",
       "0   74              U      grad_high_school  government                   10   \n",
       "1   51              U                   phd  healthcare                    7   \n",
       "2   42              U      grad_high_school     service                    7   \n",
       "3   61              U          grad_college      retail                    8   \n",
       "4   48              S  masters_professional   education                    6   \n",
       "\n",
       "   marital_status  num_tickets_purchased  gym_membership_ind  \\\n",
       "0               1                    1.0                   1   \n",
       "1               0                    2.0                   0   \n",
       "2               1                    4.0                   0   \n",
       "3               1                    0.0                   0   \n",
       "4               1                    2.0                   1   \n",
       "\n",
       "   prior_year_spend  prior_year_spend_external primary_credit_card  \\\n",
       "0              9.10                       5.20            maincard   \n",
       "1             27.45                     247.43            maincard   \n",
       "2             63.63                      69.45            passport   \n",
       "3             23.16                     482.98            passport   \n",
       "4              0.00                     170.83             pursuit   \n",
       "\n",
       "   other_streaming_services cable_provider promotion_type  conversion_ind  \\\n",
       "0                         3   Fish Network         bronze             0.0   \n",
       "1                         2     Cheezeline         bronze             1.0   \n",
       "2                         5       Spectral         bronze             0.0   \n",
       "3                         2       No_Cable           gold             1.0   \n",
       "4                         2       No_Cable         silver             1.0   \n",
       "\n",
       "           ltv  is_ticket_purchased ticket_purchased_recency  \\\n",
       "0     0.000000                    1                    2019+   \n",
       "1  3147.898930                    1                2010-2015   \n",
       "2     0.000000                    1                2010-2015   \n",
       "3  1569.613367                    0                        0   \n",
       "4  3411.585503                    1                    2019+   \n",
       "\n",
       "   Search_history_percentage  count_other_tickets_purchased  \n",
       "0                         17                              5  \n",
       "1                         20                             10  \n",
       "2                         43                             10  \n",
       "3                          0                             10  \n",
       "4                         14                             10  "
      ]
     },
     "execution_count": 43,
     "metadata": {},
     "output_type": "execute_result"
    }
   ],
   "source": [
    "df_changed_6=df_changed_5.copy()\n",
    "df_changed_6=df_changed_6.drop(['last_activity_social'],axis=1)\n",
    "df_changed_6.head()"
   ]
  },
  {
   "cell_type": "markdown",
   "metadata": {},
   "source": [
    "14. Getting the Dummy Variables"
   ]
  },
  {
   "cell_type": "code",
   "execution_count": 44,
   "metadata": {},
   "outputs": [],
   "source": [
    "df_changed_7=pd.get_dummies(df_changed_6, prefix='is',columns=['residence_type','education_level','job_type','primary_credit_card','cable_provider','ticket_purchased_recency'])"
   ]
  },
  {
   "cell_type": "code",
   "execution_count": 45,
   "metadata": {},
   "outputs": [
    {
     "name": "stdout",
     "output_type": "stream",
     "text": [
      "<class 'pandas.core.frame.DataFrame'>\n",
      "RangeIndex: 10001 entries, 0 to 10000\n",
      "Data columns (total 53 columns):\n",
      " #   Column                         Non-Null Count  Dtype  \n",
      "---  ------                         --------------  -----  \n",
      " 0   age                            10001 non-null  int64  \n",
      " 1   number_years_at_job            10001 non-null  int64  \n",
      " 2   marital_status                 10001 non-null  int64  \n",
      " 3   num_tickets_purchased          10001 non-null  float64\n",
      " 4   gym_membership_ind             10001 non-null  int64  \n",
      " 5   prior_year_spend               10001 non-null  float64\n",
      " 6   prior_year_spend_external      10001 non-null  float64\n",
      " 7   other_streaming_services       10001 non-null  int64  \n",
      " 8   promotion_type                 10001 non-null  object \n",
      " 9   conversion_ind                 10001 non-null  float64\n",
      " 10  ltv                            10001 non-null  float64\n",
      " 11  is_ticket_purchased            10001 non-null  int64  \n",
      " 12  Search_history_percentage      10001 non-null  int64  \n",
      " 13  count_other_tickets_purchased  10001 non-null  int64  \n",
      " 14  is_R                           10001 non-null  uint8  \n",
      " 15  is_S                           10001 non-null  uint8  \n",
      " 16  is_U                           10001 non-null  uint8  \n",
      " 17  is_grad_college                10001 non-null  uint8  \n",
      " 18  is_grad_high_school            10001 non-null  uint8  \n",
      " 19  is_masters_professional        10001 non-null  uint8  \n",
      " 20  is_no_hs_diploma               10001 non-null  uint8  \n",
      " 21  is_phd                         10001 non-null  uint8  \n",
      " 22  is_some_college                10001 non-null  uint8  \n",
      " 23  is_business                    10001 non-null  uint8  \n",
      " 24  is_childcare                   10001 non-null  uint8  \n",
      " 25  is_education                   10001 non-null  uint8  \n",
      " 26  is_finance                     10001 non-null  uint8  \n",
      " 27  is_government                  10001 non-null  uint8  \n",
      " 28  is_healthcare                  10001 non-null  uint8  \n",
      " 29  is_legal                       10001 non-null  uint8  \n",
      " 30  is_marketing                   10001 non-null  uint8  \n",
      " 31  is_none                        10001 non-null  uint8  \n",
      " 32  is_retail                      10001 non-null  uint8  \n",
      " 33  is_service                     10001 non-null  uint8  \n",
      " 34  is_tech                        10001 non-null  uint8  \n",
      " 35  is_SLAMEX                      10001 non-null  uint8  \n",
      " 36  is_locate                      10001 non-null  uint8  \n",
      " 37  is_maincard                    10001 non-null  uint8  \n",
      " 38  is_none                        10001 non-null  uint8  \n",
      " 39  is_passport                    10001 non-null  uint8  \n",
      " 40  is_pursuit                     10001 non-null  uint8  \n",
      " 41  is_Cheezeline                  10001 non-null  uint8  \n",
      " 42  is_DefecTV                     10001 non-null  uint8  \n",
      " 43  is_Fish Network                10001 non-null  uint8  \n",
      " 44  is_Infinity                    10001 non-null  uint8  \n",
      " 45  is_No_Cable                    10001 non-null  uint8  \n",
      " 46  is_ShrewTube                   10001 non-null  uint8  \n",
      " 47  is_Spectral                    10001 non-null  uint8  \n",
      " 48  is_Suboptimal                  10001 non-null  uint8  \n",
      " 49  is_0                           10001 non-null  uint8  \n",
      " 50  is_2010-2015                   10001 non-null  uint8  \n",
      " 51  is_2015-2018                   10001 non-null  uint8  \n",
      " 52  is_2019+                       10001 non-null  uint8  \n",
      "dtypes: float64(5), int64(8), object(1), uint8(39)\n",
      "memory usage: 1.4+ MB\n"
     ]
    }
   ],
   "source": [
    "df_changed_7.info()"
   ]
  },
  {
   "cell_type": "markdown",
   "metadata": {},
   "source": [
    "15. Creating a backup of our processed training data"
   ]
  },
  {
   "cell_type": "code",
   "execution_count": null,
   "metadata": {},
   "outputs": [],
   "source": [
    "df_changed_7.to_csv('Train_processed_km.csv')"
   ]
  },
  {
   "cell_type": "markdown",
   "metadata": {},
   "source": [
    "## Modelling"
   ]
  },
  {
   "cell_type": "markdown",
   "metadata": {},
   "source": [
    "1. Dropping the promotion type and the conversion_ind columns"
   ]
  },
  {
   "cell_type": "code",
   "execution_count": 50,
   "metadata": {},
   "outputs": [],
   "source": [
    "X=df_changed_7.drop(['promotion_type','conversion_ind','ltv'],axis=1)"
   ]
  },
  {
   "cell_type": "code",
   "execution_count": 47,
   "metadata": {},
   "outputs": [],
   "source": [
    "y=df_changed_7['conversion_ind']"
   ]
  },
  {
   "cell_type": "markdown",
   "metadata": {},
   "source": [
    "2. lets create the train and test split"
   ]
  },
  {
   "cell_type": "code",
   "execution_count": 55,
   "metadata": {},
   "outputs": [],
   "source": [
    "X_train, X_test, y_train, y_test=train_test_split(X,y,train_size=0.8, test_size=0.2, stratify=y,random_state=0)"
   ]
  },
  {
   "cell_type": "code",
   "execution_count": 56,
   "metadata": {},
   "outputs": [
    {
     "name": "stdout",
     "output_type": "stream",
     "text": [
      "X_train:  (8000, 50)\n",
      "X_test:  (2001, 50)\n",
      "y_train:  (8000,)\n",
      "y_test:  (2001,)\n"
     ]
    }
   ],
   "source": [
    "print('X_train: ',X_train.shape)\n",
    "print('X_test: ',X_test.shape)\n",
    "print('y_train: ',y_train.shape)\n",
    "print('y_test: ',y_test.shape)"
   ]
  },
  {
   "cell_type": "code",
   "execution_count": 57,
   "metadata": {},
   "outputs": [
    {
     "data": {
      "text/plain": [
       "1.0    5040\n",
       "0.0    4961\n",
       "Name: conversion_ind, dtype: int64"
      ]
     },
     "execution_count": 57,
     "metadata": {},
     "output_type": "execute_result"
    }
   ],
   "source": [
    "y.value_counts()"
   ]
  },
  {
   "cell_type": "markdown",
   "metadata": {},
   "source": [
    "3. Let us define the models we are using and run the data through them"
   ]
  },
  {
   "cell_type": "code",
   "execution_count": 58,
   "metadata": {},
   "outputs": [],
   "source": [
    "def first_classifier(model):\n",
    "    classifier = model()\n",
    "    classifier.fit(X_train, y_train)\n",
    "    print(classifier.score(X_test, y_test)*100,'%')\n",
    "    return classifier"
   ]
  },
  {
   "cell_type": "code",
   "execution_count": 59,
   "metadata": {},
   "outputs": [
    {
     "data": {
      "text/plain": [
       "[sklearn.linear_model._logistic.LogisticRegression,\n",
       " sklearn.svm._classes.LinearSVC,\n",
       " sklearn.neighbors._classification.KNeighborsClassifier,\n",
       " sklearn.tree._classes.DecisionTreeClassifier,\n",
       " sklearn.ensemble._forest.RandomForestClassifier,\n",
       " sklearn.naive_bayes.GaussianNB,\n",
       " sklearn.linear_model._perceptron.Perceptron,\n",
       " sklearn.linear_model._stochastic_gradient.SGDClassifier]"
      ]
     },
     "execution_count": 59,
     "metadata": {},
     "output_type": "execute_result"
    }
   ],
   "source": [
    "mods = [LogisticRegression,LinearSVC,KNeighborsClassifier,DecisionTreeClassifier,RandomForestClassifier,GaussianNB,Perceptron,SGDClassifier]\n",
    "mods"
   ]
  },
  {
   "cell_type": "code",
   "execution_count": 60,
   "metadata": {},
   "outputs": [
    {
     "name": "stdout",
     "output_type": "stream",
     "text": [
      "<class 'sklearn.linear_model._logistic.LogisticRegression'>\n",
      "70.61469265367316 %\n",
      "LogisticRegression()\n",
      "\n",
      "\n",
      "<class 'sklearn.svm._classes.LinearSVC'>\n"
     ]
    },
    {
     "name": "stderr",
     "output_type": "stream",
     "text": [
      "c:\\Users\\yomaa\\Documents\\Github\\University-of-Chicago\\Environment\\uchicago_venv\\Lib\\site-packages\\sklearn\\linear_model\\_logistic.py:458: ConvergenceWarning: lbfgs failed to converge (status=1):\n",
      "STOP: TOTAL NO. of ITERATIONS REACHED LIMIT.\n",
      "\n",
      "Increase the number of iterations (max_iter) or scale the data as shown in:\n",
      "    https://scikit-learn.org/stable/modules/preprocessing.html\n",
      "Please also refer to the documentation for alternative solver options:\n",
      "    https://scikit-learn.org/stable/modules/linear_model.html#logistic-regression\n",
      "  n_iter_i = _check_optimize_result(\n",
      "c:\\Users\\yomaa\\Documents\\Github\\University-of-Chicago\\Environment\\uchicago_venv\\Lib\\site-packages\\sklearn\\svm\\_base.py:1244: ConvergenceWarning: Liblinear failed to converge, increase the number of iterations.\n",
      "  warnings.warn(\n"
     ]
    },
    {
     "name": "stdout",
     "output_type": "stream",
     "text": [
      "57.521239380309844 %\n",
      "LinearSVC()\n",
      "\n",
      "\n",
      "<class 'sklearn.neighbors._classification.KNeighborsClassifier'>\n",
      "65.81709145427287 %\n",
      "KNeighborsClassifier()\n",
      "\n",
      "\n",
      "<class 'sklearn.tree._classes.DecisionTreeClassifier'>\n",
      "64.26786606696652 %\n",
      "DecisionTreeClassifier()\n",
      "\n",
      "\n",
      "<class 'sklearn.ensemble._forest.RandomForestClassifier'>\n",
      "71.01449275362319 %\n",
      "RandomForestClassifier()\n",
      "\n",
      "\n",
      "<class 'sklearn.naive_bayes.GaussianNB'>\n",
      "65.5672163918041 %\n",
      "GaussianNB()\n",
      "\n",
      "\n",
      "<class 'sklearn.linear_model._perceptron.Perceptron'>\n",
      "64.46776611694153 %\n",
      "Perceptron()\n",
      "\n",
      "\n",
      "<class 'sklearn.linear_model._stochastic_gradient.SGDClassifier'>\n",
      "69.36531734132933 %\n",
      "SGDClassifier()\n",
      "\n",
      "\n"
     ]
    }
   ],
   "source": [
    "for i in mods:\n",
    "    print(i)\n",
    "    mod_run=first_classifier(i)\n",
    "    print(mod_run)\n",
    "    print('\\n')"
   ]
  },
  {
   "cell_type": "markdown",
   "metadata": {},
   "source": [
    "As we can see the logistic regressor has the best score"
   ]
  },
  {
   "cell_type": "markdown",
   "metadata": {},
   "source": [
    "4. let us make the logistic regressor model"
   ]
  },
  {
   "cell_type": "code",
   "execution_count": 61,
   "metadata": {},
   "outputs": [
    {
     "name": "stdout",
     "output_type": "stream",
     "text": [
      "70.61 percent\n"
     ]
    },
    {
     "name": "stderr",
     "output_type": "stream",
     "text": [
      "c:\\Users\\yomaa\\Documents\\Github\\University-of-Chicago\\Environment\\uchicago_venv\\Lib\\site-packages\\sklearn\\linear_model\\_logistic.py:458: ConvergenceWarning: lbfgs failed to converge (status=1):\n",
      "STOP: TOTAL NO. of ITERATIONS REACHED LIMIT.\n",
      "\n",
      "Increase the number of iterations (max_iter) or scale the data as shown in:\n",
      "    https://scikit-learn.org/stable/modules/preprocessing.html\n",
      "Please also refer to the documentation for alternative solver options:\n",
      "    https://scikit-learn.org/stable/modules/linear_model.html#logistic-regression\n",
      "  n_iter_i = _check_optimize_result(\n"
     ]
    }
   ],
   "source": [
    "clf1 = LogisticRegression()\n",
    "clf1.fit(X_train, y_train)\n",
    "y_pred_log_reg_clf1 = clf1.predict(X_test)\n",
    "acc_log_reg_clf1 = round( clf1.score(X_test, y_test) * 100, 2)\n",
    "print (str(acc_log_reg_clf1) + ' percent')"
   ]
  },
  {
   "cell_type": "code",
   "execution_count": 71,
   "metadata": {},
   "outputs": [
    {
     "data": {
      "text/plain": [
       "array([1., 0., 0., ..., 0., 0., 0.])"
      ]
     },
     "execution_count": 71,
     "metadata": {},
     "output_type": "execute_result"
    }
   ],
   "source": [
    "y_pred_log_reg_clf1"
   ]
  },
  {
   "cell_type": "markdown",
   "metadata": {},
   "source": [
    "### Creating the Model for the Linear Regressor"
   ]
  },
  {
   "cell_type": "code",
   "execution_count": 63,
   "metadata": {},
   "outputs": [],
   "source": [
    "df_changed_8 = df_changed_7.copy()"
   ]
  },
  {
   "cell_type": "code",
   "execution_count": 66,
   "metadata": {},
   "outputs": [],
   "source": [
    "df_changed_8=df_changed_8[df_changed_8[\"conversion_ind\"]==1]\n",
    "df_changed_8.drop(\"promotion_type\",axis=1, inplace=True)\n",
    "df_changed_8.drop(\"conversion_ind\",axis=1, inplace=True)"
   ]
  },
  {
   "cell_type": "code",
   "execution_count": 67,
   "metadata": {},
   "outputs": [],
   "source": [
    "linear_X = df_changed_8.drop(\"ltv\", axis=1)\n",
    "linear_y = df_changed_8.ltv"
   ]
  },
  {
   "cell_type": "code",
   "execution_count": 70,
   "metadata": {},
   "outputs": [
    {
     "name": "stdout",
     "output_type": "stream",
     "text": [
      "RMSE 491.2127473217238\n"
     ]
    },
    {
     "data": {
      "text/plain": [
       "array([1344.16245704, 2549.69407228, 1379.43079925, ..., 1552.17907983,\n",
       "       2472.94173684, 2294.30440468])"
      ]
     },
     "execution_count": 70,
     "metadata": {},
     "output_type": "execute_result"
    }
   ],
   "source": [
    "# X is your feature data, y is your target data\n",
    "X_train, X_test, y_train, y_test = train_test_split(linear_X, linear_y, test_size=0.2, random_state=42)\n",
    "\n",
    "# Initialize the linear regression model\n",
    "model = LinearRegression()\n",
    "\n",
    "# Fit the model to the data\n",
    "model.fit(X_train, y_train)\n",
    "\n",
    "# Predict X_test\n",
    "prediction = model.predict(X_test)\n",
    "\n",
    "#calculate RMSE\n",
    "RMSE1 = sqrt(mean_squared_error(prediction, y_test)) \n",
    "\n",
    "#print(RMSE)\n",
    "print(\"RMSE\",RMSE1)\n",
    "\n",
    "prediction"
   ]
  },
  {
   "cell_type": "markdown",
   "metadata": {},
   "source": [
    "### Predictions"
   ]
  },
  {
   "cell_type": "markdown",
   "metadata": {},
   "source": [
    "1. let us now read the validation file and perform the same preprocessing files."
   ]
  },
  {
   "cell_type": "code",
   "execution_count": 72,
   "metadata": {},
   "outputs": [
    {
     "data": {
      "text/html": [
       "<div>\n",
       "<style scoped>\n",
       "    .dataframe tbody tr th:only-of-type {\n",
       "        vertical-align: middle;\n",
       "    }\n",
       "\n",
       "    .dataframe tbody tr th {\n",
       "        vertical-align: top;\n",
       "    }\n",
       "\n",
       "    .dataframe thead th {\n",
       "        text-align: right;\n",
       "    }\n",
       "</style>\n",
       "<table border=\"1\" class=\"dataframe\">\n",
       "  <thead>\n",
       "    <tr style=\"text-align: right;\">\n",
       "      <th></th>\n",
       "      <th>id</th>\n",
       "      <th>age</th>\n",
       "      <th>residence_type</th>\n",
       "      <th>address</th>\n",
       "      <th>education_level</th>\n",
       "      <th>job_type</th>\n",
       "      <th>number_years_at_job</th>\n",
       "      <th>marital_status</th>\n",
       "      <th>num_tickets_purchased</th>\n",
       "      <th>last_ticket_purchase_year</th>\n",
       "      <th>...</th>\n",
       "      <th>gym_membership_ind</th>\n",
       "      <th>prior_year_spend</th>\n",
       "      <th>prior_year_spend_external</th>\n",
       "      <th>primary_credit_card</th>\n",
       "      <th>last_activity_social</th>\n",
       "      <th>other_streaming_services</th>\n",
       "      <th>cable_provider</th>\n",
       "      <th>search_history_summary</th>\n",
       "      <th>rating_history</th>\n",
       "      <th>promotion_type</th>\n",
       "    </tr>\n",
       "  </thead>\n",
       "  <tbody>\n",
       "    <tr>\n",
       "      <th>0</th>\n",
       "      <td>0</td>\n",
       "      <td>44</td>\n",
       "      <td>S</td>\n",
       "      <td>08701 James Terrace Unit 813, East Andrewchest...</td>\n",
       "      <td>no_hs_diploma</td>\n",
       "      <td>none</td>\n",
       "      <td>14</td>\n",
       "      <td>1</td>\n",
       "      <td>9.0</td>\n",
       "      <td>2015.0</td>\n",
       "      <td>...</td>\n",
       "      <td>0</td>\n",
       "      <td>26.79</td>\n",
       "      <td>98.26</td>\n",
       "      <td>maincard</td>\n",
       "      <td>NaN</td>\n",
       "      <td>4</td>\n",
       "      <td>Spectral</td>\n",
       "      <td>['firstpolitics.com', 'nationalfinancenews.com...</td>\n",
       "      <td>NaN</td>\n",
       "      <td>NaN</td>\n",
       "    </tr>\n",
       "    <tr>\n",
       "      <th>1</th>\n",
       "      <td>1</td>\n",
       "      <td>31</td>\n",
       "      <td>U</td>\n",
       "      <td>623 Amanda Corners, Lake Josephside, NJ 7620</td>\n",
       "      <td>grad_college</td>\n",
       "      <td>education</td>\n",
       "      <td>7</td>\n",
       "      <td>0</td>\n",
       "      <td>25.0</td>\n",
       "      <td>2014.0</td>\n",
       "      <td>...</td>\n",
       "      <td>1</td>\n",
       "      <td>NaN</td>\n",
       "      <td>226.93</td>\n",
       "      <td>SLAMEX</td>\n",
       "      <td>2022-10-06</td>\n",
       "      <td>1</td>\n",
       "      <td>DefecTV</td>\n",
       "      <td>['totalwildlifereport.com', 'totalpoliticsrepo...</td>\n",
       "      <td>NaN</td>\n",
       "      <td>NaN</td>\n",
       "    </tr>\n",
       "    <tr>\n",
       "      <th>2</th>\n",
       "      <td>2</td>\n",
       "      <td>28</td>\n",
       "      <td>S</td>\n",
       "      <td>659 Peck Plaza Unit 333, East Raymondborough, ...</td>\n",
       "      <td>grad_high_school</td>\n",
       "      <td>service</td>\n",
       "      <td>8</td>\n",
       "      <td>0</td>\n",
       "      <td>0.0</td>\n",
       "      <td>NaN</td>\n",
       "      <td>...</td>\n",
       "      <td>0</td>\n",
       "      <td>15.44</td>\n",
       "      <td>21.84</td>\n",
       "      <td>passport</td>\n",
       "      <td>2019-11-19</td>\n",
       "      <td>2</td>\n",
       "      <td>DefecTV</td>\n",
       "      <td>['premierfurnitureinfo.com', 'firstcampingclip...</td>\n",
       "      <td>NaN</td>\n",
       "      <td>NaN</td>\n",
       "    </tr>\n",
       "    <tr>\n",
       "      <th>3</th>\n",
       "      <td>3</td>\n",
       "      <td>61</td>\n",
       "      <td>U</td>\n",
       "      <td>6896 Morgan Rest Apt. 120, West Thomas, CA 93219</td>\n",
       "      <td>no_hs_diploma</td>\n",
       "      <td>none</td>\n",
       "      <td>16</td>\n",
       "      <td>0</td>\n",
       "      <td>6.0</td>\n",
       "      <td>2015.0</td>\n",
       "      <td>...</td>\n",
       "      <td>0</td>\n",
       "      <td>11.46</td>\n",
       "      <td>13.11</td>\n",
       "      <td>maincard</td>\n",
       "      <td>2018-05-21</td>\n",
       "      <td>4</td>\n",
       "      <td>NaN</td>\n",
       "      <td>['dailytech.com', 'premierrecipesreport.com', ...</td>\n",
       "      <td>4, 4</td>\n",
       "      <td>NaN</td>\n",
       "    </tr>\n",
       "    <tr>\n",
       "      <th>4</th>\n",
       "      <td>4</td>\n",
       "      <td>37</td>\n",
       "      <td>U</td>\n",
       "      <td>287 Reid Ways Unit 688, Port James, CT 6525</td>\n",
       "      <td>no_hs_diploma</td>\n",
       "      <td>service</td>\n",
       "      <td>8</td>\n",
       "      <td>0</td>\n",
       "      <td>0.0</td>\n",
       "      <td>NaN</td>\n",
       "      <td>...</td>\n",
       "      <td>1</td>\n",
       "      <td>NaN</td>\n",
       "      <td>NaN</td>\n",
       "      <td>NaN</td>\n",
       "      <td>2021-04-24</td>\n",
       "      <td>5</td>\n",
       "      <td>Suboptimal</td>\n",
       "      <td>['firstmarketnews.com', 'premierwildlifemagazi...</td>\n",
       "      <td>NaN</td>\n",
       "      <td>NaN</td>\n",
       "    </tr>\n",
       "  </tbody>\n",
       "</table>\n",
       "<p>5 rows × 21 columns</p>\n",
       "</div>"
      ],
      "text/plain": [
       "   id  age residence_type                                            address  \\\n",
       "0   0   44              S  08701 James Terrace Unit 813, East Andrewchest...   \n",
       "1   1   31              U       623 Amanda Corners, Lake Josephside, NJ 7620   \n",
       "2   2   28              S  659 Peck Plaza Unit 333, East Raymondborough, ...   \n",
       "3   3   61              U   6896 Morgan Rest Apt. 120, West Thomas, CA 93219   \n",
       "4   4   37              U        287 Reid Ways Unit 688, Port James, CT 6525   \n",
       "\n",
       "    education_level   job_type  number_years_at_job  marital_status  \\\n",
       "0     no_hs_diploma       none                   14               1   \n",
       "1      grad_college  education                    7               0   \n",
       "2  grad_high_school    service                    8               0   \n",
       "3     no_hs_diploma       none                   16               0   \n",
       "4     no_hs_diploma    service                    8               0   \n",
       "\n",
       "   num_tickets_purchased  last_ticket_purchase_year  ... gym_membership_ind  \\\n",
       "0                    9.0                     2015.0  ...                  0   \n",
       "1                   25.0                     2014.0  ...                  1   \n",
       "2                    0.0                        NaN  ...                  0   \n",
       "3                    6.0                     2015.0  ...                  0   \n",
       "4                    0.0                        NaN  ...                  1   \n",
       "\n",
       "   prior_year_spend  prior_year_spend_external  primary_credit_card  \\\n",
       "0             26.79                      98.26             maincard   \n",
       "1               NaN                     226.93               SLAMEX   \n",
       "2             15.44                      21.84             passport   \n",
       "3             11.46                      13.11             maincard   \n",
       "4               NaN                        NaN                  NaN   \n",
       "\n",
       "  last_activity_social other_streaming_services  cable_provider  \\\n",
       "0                  NaN                        4        Spectral   \n",
       "1           2022-10-06                        1         DefecTV   \n",
       "2           2019-11-19                        2         DefecTV   \n",
       "3           2018-05-21                        4             NaN   \n",
       "4           2021-04-24                        5      Suboptimal   \n",
       "\n",
       "                              search_history_summary rating_history  \\\n",
       "0  ['firstpolitics.com', 'nationalfinancenews.com...            NaN   \n",
       "1  ['totalwildlifereport.com', 'totalpoliticsrepo...            NaN   \n",
       "2  ['premierfurnitureinfo.com', 'firstcampingclip...            NaN   \n",
       "3  ['dailytech.com', 'premierrecipesreport.com', ...           4, 4   \n",
       "4  ['firstmarketnews.com', 'premierwildlifemagazi...            NaN   \n",
       "\n",
       "  promotion_type  \n",
       "0            NaN  \n",
       "1            NaN  \n",
       "2            NaN  \n",
       "3            NaN  \n",
       "4            NaN  \n",
       "\n",
       "[5 rows x 21 columns]"
      ]
     },
     "execution_count": 72,
     "metadata": {},
     "output_type": "execute_result"
    }
   ],
   "source": [
    "df_hold=pd.read_csv('data_smackdown_2023_validation.csv')\n",
    "df_hold.head()"
   ]
  },
  {
   "cell_type": "code",
   "execution_count": 73,
   "metadata": {},
   "outputs": [],
   "source": [
    "df_hold=df_hold.drop(['address','rating_history'],axis=1)\n",
    "df_hold['job_type']=df_hold['job_type'].fillna('service')\n",
    "df_hold['is_ticket_purchased']=df_hold['last_ticket_purchase_year'].apply(lambda x: 0 if np.isnan(x) else 1)\n",
    "df_hold['ticket_purchased_recency']=df_hold['last_ticket_purchase_year'].apply(lambda x: '2019+' if x>=2019 else ('2015-2018' if x >=2015 else ('2010-2015' if x>=2010 else 0)))\n",
    "df_hold=df_hold.drop(['last_ticket_purchase_year'],axis=1)\n",
    "df_hold.loc[df_hold.cable_provider=='Infinty','cable_provider']=\"Infinity\"\n",
    "df_hold.loc[df_hold.cable_provider=='Fish network','cable_provider']=\"Fish Network\"\n",
    "df_hold.loc[df_hold.cable_provider=='Sub-optimal','cable_provider']=\"Suboptimal\"\n",
    "df_hold['cable_provider']=df_hold['cable_provider'].fillna('No_Cable')\n",
    "df_hold['prior_year_spend']=df_hold['prior_year_spend'].fillna(0)\n",
    "df_hold['prior_year_spend_external']=df_hold['prior_year_spend_external'].fillna(0)\n",
    "df_hold.loc[df_hold.primary_credit_card==\"PASSPORT\",\"primary_credit_card\"]=\"passport\"  \n",
    "df_hold.loc[df_hold.primary_credit_card==\"passsport\",\"primary_credit_card\"]=\"passport\"\n",
    "df_hold.loc[df_hold.primary_credit_card==\"Locate\",\"primary_credit_card\"]=\"locate\"\n",
    "df_hold.loc[df_hold.primary_credit_card==\"mainCard\",\"primary_credit_card\"]=\"maincard\"\n",
    "df_hold.loc[df_hold.primary_credit_card.isna(),\"primary_credit_card\"]=\"none\"\n",
    "df_hold[\"Search_history_percentage\"] = df_hold[\"search_history_summary\"].apply(find_wrestle_website) \n",
    "df_hold[\"count_other_tickets_purchased\"] = df_hold[\"other_tickets_purchased\"].apply(find_numberof_tickets) \n",
    "df_hold=df_hold.drop(['other_tickets_purchased','search_history_summary'],axis=1)\n",
    "df_hold=df_hold.drop(['last_activity_social'],axis=1)"
   ]
  },
  {
   "cell_type": "code",
   "execution_count": 74,
   "metadata": {},
   "outputs": [],
   "source": [
    "df_hold.loc[df_hold.primary_credit_card==\"slamex\",\"primary_credit_card\"]=\"SLAMEX\""
   ]
  },
  {
   "cell_type": "code",
   "execution_count": 75,
   "metadata": {},
   "outputs": [],
   "source": [
    "df_hold_fin=pd.get_dummies(df_hold, prefix='is',columns=['residence_type','education_level','job_type','primary_credit_card','cable_provider','ticket_purchased_recency'])"
   ]
  },
  {
   "cell_type": "code",
   "execution_count": 76,
   "metadata": {},
   "outputs": [],
   "source": [
    "df_hold_fin=df_hold_fin.drop(['id','promotion_type'],axis=1)"
   ]
  },
  {
   "cell_type": "code",
   "execution_count": 77,
   "metadata": {},
   "outputs": [
    {
     "name": "stdout",
     "output_type": "stream",
     "text": [
      "<class 'pandas.core.frame.DataFrame'>\n",
      "RangeIndex: 10000 entries, 0 to 9999\n",
      "Data columns (total 50 columns):\n",
      " #   Column                         Non-Null Count  Dtype  \n",
      "---  ------                         --------------  -----  \n",
      " 0   age                            10000 non-null  int64  \n",
      " 1   number_years_at_job            10000 non-null  int64  \n",
      " 2   marital_status                 10000 non-null  int64  \n",
      " 3   num_tickets_purchased          10000 non-null  float64\n",
      " 4   gym_membership_ind             10000 non-null  int64  \n",
      " 5   prior_year_spend               10000 non-null  float64\n",
      " 6   prior_year_spend_external      10000 non-null  float64\n",
      " 7   other_streaming_services       10000 non-null  int64  \n",
      " 8   is_ticket_purchased            10000 non-null  int64  \n",
      " 9   Search_history_percentage      10000 non-null  int64  \n",
      " 10  count_other_tickets_purchased  10000 non-null  int64  \n",
      " 11  is_R                           10000 non-null  uint8  \n",
      " 12  is_S                           10000 non-null  uint8  \n",
      " 13  is_U                           10000 non-null  uint8  \n",
      " 14  is_grad_college                10000 non-null  uint8  \n",
      " 15  is_grad_high_school            10000 non-null  uint8  \n",
      " 16  is_masters_professional        10000 non-null  uint8  \n",
      " 17  is_no_hs_diploma               10000 non-null  uint8  \n",
      " 18  is_phd                         10000 non-null  uint8  \n",
      " 19  is_some_college                10000 non-null  uint8  \n",
      " 20  is_business                    10000 non-null  uint8  \n",
      " 21  is_childcare                   10000 non-null  uint8  \n",
      " 22  is_education                   10000 non-null  uint8  \n",
      " 23  is_finance                     10000 non-null  uint8  \n",
      " 24  is_government                  10000 non-null  uint8  \n",
      " 25  is_healthcare                  10000 non-null  uint8  \n",
      " 26  is_legal                       10000 non-null  uint8  \n",
      " 27  is_marketing                   10000 non-null  uint8  \n",
      " 28  is_none                        10000 non-null  uint8  \n",
      " 29  is_retail                      10000 non-null  uint8  \n",
      " 30  is_service                     10000 non-null  uint8  \n",
      " 31  is_tech                        10000 non-null  uint8  \n",
      " 32  is_SLAMEX                      10000 non-null  uint8  \n",
      " 33  is_locate                      10000 non-null  uint8  \n",
      " 34  is_maincard                    10000 non-null  uint8  \n",
      " 35  is_none                        10000 non-null  uint8  \n",
      " 36  is_passport                    10000 non-null  uint8  \n",
      " 37  is_pursuit                     10000 non-null  uint8  \n",
      " 38  is_Cheezeline                  10000 non-null  uint8  \n",
      " 39  is_DefecTV                     10000 non-null  uint8  \n",
      " 40  is_Fish Network                10000 non-null  uint8  \n",
      " 41  is_Infinity                    10000 non-null  uint8  \n",
      " 42  is_No_Cable                    10000 non-null  uint8  \n",
      " 43  is_ShrewTube                   10000 non-null  uint8  \n",
      " 44  is_Spectral                    10000 non-null  uint8  \n",
      " 45  is_Suboptimal                  10000 non-null  uint8  \n",
      " 46  is_0                           10000 non-null  uint8  \n",
      " 47  is_2010-2015                   10000 non-null  uint8  \n",
      " 48  is_2015-2018                   10000 non-null  uint8  \n",
      " 49  is_2019+                       10000 non-null  uint8  \n",
      "dtypes: float64(3), int64(8), uint8(39)\n",
      "memory usage: 1.2 MB\n"
     ]
    },
    {
     "data": {
      "text/html": [
       "<div>\n",
       "<style scoped>\n",
       "    .dataframe tbody tr th:only-of-type {\n",
       "        vertical-align: middle;\n",
       "    }\n",
       "\n",
       "    .dataframe tbody tr th {\n",
       "        vertical-align: top;\n",
       "    }\n",
       "\n",
       "    .dataframe thead th {\n",
       "        text-align: right;\n",
       "    }\n",
       "</style>\n",
       "<table border=\"1\" class=\"dataframe\">\n",
       "  <thead>\n",
       "    <tr style=\"text-align: right;\">\n",
       "      <th></th>\n",
       "    </tr>\n",
       "  </thead>\n",
       "  <tbody>\n",
       "  </tbody>\n",
       "</table>\n",
       "</div>"
      ],
      "text/plain": [
       "Empty DataFrame\n",
       "Columns: []\n",
       "Index: []"
      ]
     },
     "execution_count": 77,
     "metadata": {},
     "output_type": "execute_result"
    }
   ],
   "source": [
    "pd.DataFrame(df_hold_fin.info())"
   ]
  },
  {
   "cell_type": "markdown",
   "metadata": {},
   "source": [
    "2. Lets now predict for the logistic model"
   ]
  },
  {
   "cell_type": "code",
   "execution_count": 78,
   "metadata": {},
   "outputs": [],
   "source": [
    "y_pred_hold = clf1.predict(df_hold_fin)\n",
    "y_proba_hold = clf1.predict_proba(df_hold_fin)"
   ]
  },
  {
   "cell_type": "code",
   "execution_count": 107,
   "metadata": {},
   "outputs": [],
   "source": [
    "data_valid=df_hold_fin.copy()\n",
    "data_valid['Conv_Pred']=y_pred_hold\n",
    "data_valid['Conv_Prob_1']=y_proba_hold[:,0]\n",
    "data_valid['Conv_Prob_2']=y_proba_hold[:,1]"
   ]
  },
  {
   "cell_type": "code",
   "execution_count": 108,
   "metadata": {},
   "outputs": [],
   "source": [
    "data_index = data_valid[data_valid[\"Conv_Pred\"]==1].index.values"
   ]
  },
  {
   "cell_type": "code",
   "execution_count": 109,
   "metadata": {},
   "outputs": [],
   "source": [
    "# Filtering just the customer with probability of subscribing.\n",
    "data_valid = data_valid[data_valid[\"Conv_Pred\"]==1]\n",
    "#Extracting the probabilities of subscribing\n",
    "prob_subs = data_valid[data_valid[\"Conv_Pred\"]==1].Conv_Prob_2.values\n",
    "data_valid = data_valid.drop(\"Conv_Pred\",axis=1)\n",
    "data_valid = data_valid.drop(\"Conv_Prob_1\",axis=1)\n",
    "data_valid = data_valid.drop(\"Conv_Prob_2\",axis=1)"
   ]
  },
  {
   "cell_type": "code",
   "execution_count": 110,
   "metadata": {},
   "outputs": [
    {
     "data": {
      "text/plain": [
       "array([1840.75674344, 2508.60762569, 1277.87137184, ..., 1364.87777034,\n",
       "       1883.56082639, 2969.0499606 ])"
      ]
     },
     "execution_count": 110,
     "metadata": {},
     "output_type": "execute_result"
    }
   ],
   "source": [
    "prediction_valid = model.predict(data_valid)\n",
    "\n",
    "#showing the predicted values\n",
    "prediction_valid"
   ]
  },
  {
   "cell_type": "markdown",
   "metadata": {},
   "source": [
    "### Membership Estimation"
   ]
  },
  {
   "cell_type": "code",
   "execution_count": 111,
   "metadata": {},
   "outputs": [],
   "source": [
    "def applicable(pred_prob,ltv):\n",
    "    '''Review the probability of converting into a customer and assigning the possible memberships they qualify for.\n",
    "    '''\n",
    "    if pred_prob>=0.5 and pred_prob<0.7:\n",
    "        return qualify(ltv,{\"gold\": 1400,\"silver\" : 1100,\"bronze\" : 500})\n",
    "    elif pred_prob>=0.7 and pred_prob<0.9:\n",
    "        return qualify(ltv,{\"silver\" : 1100,\"bronze\" : 500})\n",
    "    elif pred_prob>=0.9:\n",
    "        return \"bronze\"\n",
    "    else:\n",
    "        return \"none\"\n",
    "def qualify(ltv,tiers):\n",
    "    '''based on the possible memberships they qualify for, this function selects the function with the highest profit\n",
    "    '''\n",
    "    for keys in tiers.keys():\n",
    "        if ltv-tiers[keys] > 0:\n",
    "            return keys\n",
    "    return \"none\""
   ]
  },
  {
   "cell_type": "code",
   "execution_count": 112,
   "metadata": {},
   "outputs": [
    {
     "data": {
      "text/plain": [
       "['silver',\n",
       " 'silver',\n",
       " 'silver',\n",
       " 'gold',\n",
       " 'gold',\n",
       " 'silver',\n",
       " 'silver',\n",
       " 'gold',\n",
       " 'gold',\n",
       " 'silver',\n",
       " 'gold',\n",
       " 'silver',\n",
       " 'gold',\n",
       " 'silver',\n",
       " 'bronze']"
      ]
     },
     "execution_count": 112,
     "metadata": {},
     "output_type": "execute_result"
    }
   ],
   "source": [
    "result = []\n",
    "for i in range(0,len(prob_subs)):\n",
    "    result.append(applicable(prob_subs[i],prediction_valid[i]))\n",
    "result[0:15]"
   ]
  },
  {
   "cell_type": "code",
   "execution_count": 129,
   "metadata": {},
   "outputs": [],
   "source": [
    "final = pd.DataFrame()\n",
    "final['Conv_prob'] = prob_subs\n",
    "final['ltv_pred'] = prediction_valid\n",
    "final['promotion_type'] = result\n",
    "final.insert(0,\"Index\",data_index)"
   ]
  },
  {
   "cell_type": "code",
   "execution_count": 130,
   "metadata": {},
   "outputs": [
    {
     "data": {
      "text/html": [
       "<div>\n",
       "<style scoped>\n",
       "    .dataframe tbody tr th:only-of-type {\n",
       "        vertical-align: middle;\n",
       "    }\n",
       "\n",
       "    .dataframe tbody tr th {\n",
       "        vertical-align: top;\n",
       "    }\n",
       "\n",
       "    .dataframe thead th {\n",
       "        text-align: right;\n",
       "    }\n",
       "</style>\n",
       "<table border=\"1\" class=\"dataframe\">\n",
       "  <thead>\n",
       "    <tr style=\"text-align: right;\">\n",
       "      <th></th>\n",
       "      <th>Index</th>\n",
       "      <th>Conv_prob</th>\n",
       "      <th>ltv_pred</th>\n",
       "      <th>promotion_type</th>\n",
       "    </tr>\n",
       "  </thead>\n",
       "  <tbody>\n",
       "    <tr>\n",
       "      <th>0</th>\n",
       "      <td>0</td>\n",
       "      <td>0.801724</td>\n",
       "      <td>1840.756743</td>\n",
       "      <td>silver</td>\n",
       "    </tr>\n",
       "    <tr>\n",
       "      <th>1</th>\n",
       "      <td>1</td>\n",
       "      <td>0.764251</td>\n",
       "      <td>2508.607626</td>\n",
       "      <td>silver</td>\n",
       "    </tr>\n",
       "    <tr>\n",
       "      <th>2</th>\n",
       "      <td>2</td>\n",
       "      <td>0.552224</td>\n",
       "      <td>1277.871372</td>\n",
       "      <td>silver</td>\n",
       "    </tr>\n",
       "    <tr>\n",
       "      <th>3</th>\n",
       "      <td>3</td>\n",
       "      <td>0.624566</td>\n",
       "      <td>1470.060444</td>\n",
       "      <td>gold</td>\n",
       "    </tr>\n",
       "    <tr>\n",
       "      <th>4</th>\n",
       "      <td>5</td>\n",
       "      <td>0.588383</td>\n",
       "      <td>1456.525067</td>\n",
       "      <td>gold</td>\n",
       "    </tr>\n",
       "    <tr>\n",
       "      <th>...</th>\n",
       "      <td>...</td>\n",
       "      <td>...</td>\n",
       "      <td>...</td>\n",
       "      <td>...</td>\n",
       "    </tr>\n",
       "    <tr>\n",
       "      <th>5695</th>\n",
       "      <td>9992</td>\n",
       "      <td>0.816901</td>\n",
       "      <td>2323.654273</td>\n",
       "      <td>silver</td>\n",
       "    </tr>\n",
       "    <tr>\n",
       "      <th>5696</th>\n",
       "      <td>9995</td>\n",
       "      <td>0.865002</td>\n",
       "      <td>2473.072266</td>\n",
       "      <td>silver</td>\n",
       "    </tr>\n",
       "    <tr>\n",
       "      <th>5697</th>\n",
       "      <td>9996</td>\n",
       "      <td>0.616449</td>\n",
       "      <td>1364.877770</td>\n",
       "      <td>silver</td>\n",
       "    </tr>\n",
       "    <tr>\n",
       "      <th>5698</th>\n",
       "      <td>9997</td>\n",
       "      <td>0.815110</td>\n",
       "      <td>1883.560826</td>\n",
       "      <td>silver</td>\n",
       "    </tr>\n",
       "    <tr>\n",
       "      <th>5699</th>\n",
       "      <td>9998</td>\n",
       "      <td>0.884457</td>\n",
       "      <td>2969.049961</td>\n",
       "      <td>silver</td>\n",
       "    </tr>\n",
       "  </tbody>\n",
       "</table>\n",
       "<p>5700 rows × 4 columns</p>\n",
       "</div>"
      ],
      "text/plain": [
       "      Index  Conv_prob     ltv_pred promotion_type\n",
       "0         0   0.801724  1840.756743         silver\n",
       "1         1   0.764251  2508.607626         silver\n",
       "2         2   0.552224  1277.871372         silver\n",
       "3         3   0.624566  1470.060444           gold\n",
       "4         5   0.588383  1456.525067           gold\n",
       "...     ...        ...          ...            ...\n",
       "5695   9992   0.816901  2323.654273         silver\n",
       "5696   9995   0.865002  2473.072266         silver\n",
       "5697   9996   0.616449  1364.877770         silver\n",
       "5698   9997   0.815110  1883.560826         silver\n",
       "5699   9998   0.884457  2969.049961         silver\n",
       "\n",
       "[5700 rows x 4 columns]"
      ]
     },
     "execution_count": 130,
     "metadata": {},
     "output_type": "execute_result"
    }
   ],
   "source": [
    "final"
   ]
  },
  {
   "cell_type": "markdown",
   "metadata": {},
   "source": [
    "We now output the dataframe to the Final Output"
   ]
  },
  {
   "cell_type": "code",
   "execution_count": 137,
   "metadata": {},
   "outputs": [],
   "source": [
    "df_hold_fin[\"Index\"] = df_hold_fin.index.values\n",
    "FinalOutput = df_hold_fin.merge(final,on=\"Index\",how=\"left\")\n",
    "FinalOutput[\"promotion_type\"] = FinalOutput[\"promotion_type\"].fillna(\"none\")\n",
    "FinalOutput.to_csv(\"FinalOutput.csv\")"
   ]
  }
 ],
 "metadata": {
  "kernelspec": {
   "display_name": "Python 3 (ipykernel)",
   "language": "python",
   "name": "python3"
  },
  "language_info": {
   "codemirror_mode": {
    "name": "ipython",
    "version": 3
   },
   "file_extension": ".py",
   "mimetype": "text/x-python",
   "name": "python",
   "nbconvert_exporter": "python",
   "pygments_lexer": "ipython3",
   "version": "3.11.1"
  },
  "vscode": {
   "interpreter": {
    "hash": "176c0334d7b9c7a9b7eb6fa04d96d8bb263ed7a5a425eb1172d4f16fe7b04889"
   }
  }
 },
 "nbformat": 4,
 "nbformat_minor": 2
}
