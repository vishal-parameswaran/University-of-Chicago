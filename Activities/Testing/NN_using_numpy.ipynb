{
 "cells": [
  {
   "cell_type": "code",
   "execution_count": 3,
   "metadata": {},
   "outputs": [],
   "source": [
    "import numpy as np\n",
    "from keras import backend as K"
   ]
  },
  {
   "cell_type": "code",
   "execution_count": 4,
   "metadata": {},
   "outputs": [
    {
     "name": "stdout",
     "output_type": "stream",
     "text": [
      "(3, 5)\n"
     ]
    }
   ],
   "source": [
    "a = K.ones((3,4))\n",
    "b = K.ones((4,5))\n",
    "c = K.dot(a, b)\n",
    "print(c.shape)"
   ]
  },
  {
   "cell_type": "code",
   "execution_count": 69,
   "metadata": {},
   "outputs": [
    {
     "name": "stdout",
     "output_type": "stream",
     "text": [
      "3 3 2 2\n"
     ]
    },
    {
     "data": {
      "text/plain": [
       "array([[ 1.    ,  0.5403, -0.4161],\n",
       "       [ 1.    , -0.99  , -0.6536],\n",
       "       [ 1.    ,  0.2837,  0.9602]])"
      ]
     },
     "execution_count": 69,
     "metadata": {},
     "output_type": "execute_result"
    }
   ],
   "source": [
    "n_batch = X.shape[0]\n",
    "n_features = X.shape[1]\n",
    "n_y = Y.shape[0]\n",
    "n_first_layer = 2 \n",
    "print(n_batch, n_y,n_first_layer,n_features)\n",
    "X = np.hstack((np.ones((n_batch,1)),X))\n",
    "X"
   ]
  },
  {
   "cell_type": "code",
   "execution_count": 70,
   "metadata": {},
   "outputs": [
    {
     "name": "stdout",
     "output_type": "stream",
     "text": [
      "W1\n",
      " [[-0.00145311 -0.00857686 -0.00391022]\n",
      " [-0.01133853  0.01292411 -0.00620124]]\n"
     ]
    }
   ],
   "source": [
    "W1 = np.random.randn(n_first_layer,n_features) * 0.01\n",
    "print(\"W1\\n\", W1)"
   ]
  },
  {
   "cell_type": "code",
   "execution_count": 11,
   "metadata": {},
   "outputs": [],
   "source": [
    "def sigmoid(x):\n",
    "    return 1 / (1 + np.e ** -x)\n",
    "\n",
    "total_cost = -9999"
   ]
  },
  {
   "cell_type": "code",
   "execution_count": 31,
   "metadata": {},
   "outputs": [
    {
     "data": {
      "text/plain": [
       "array([[-0.02605248,  0.00280253],\n",
       "       [-0.00950785,  0.0134963 ],\n",
       "       [-0.01780765,  0.02687232],\n",
       "       [ 0.00526706, -0.0105653 ]])"
      ]
     },
     "execution_count": 31,
     "metadata": {},
     "output_type": "execute_result"
    }
   ],
   "source": [
    "np.dot(W1,X)"
   ]
  },
  {
   "cell_type": "code",
   "execution_count": 15,
   "metadata": {},
   "outputs": [
    {
     "name": "stdout",
     "output_type": "stream",
     "text": [
      "[[-0.00256086 -0.00218237]\n",
      " [ 0.00379836  0.00675179]\n",
      " [ 0.01159849  0.01425437]\n",
      " [-0.00856304 -0.00175203]]\n",
      "[[-0.00256086 -0.00218237]\n",
      " [ 0.00379834  0.00675169]\n",
      " [ 0.01159797  0.01425341]\n",
      " [-0.00856283 -0.00175203]]\n"
     ]
    }
   ],
   "source": [
    "Z1 = np.dot(W1,X) + b1\n",
    "A1 = np.tanh(Z1)\n",
    "print(Z1)\n",
    "print(A1)"
   ]
  },
  {
   "cell_type": "code",
   "execution_count": null,
   "metadata": {},
   "outputs": [],
   "source": [
    "# W2 = np.random.randn(n_y,n_h) * 0.01 #1x4\n",
    "# b2 = np.zeros(shape=(n_y, 1))#1x1"
   ]
  }
 ],
 "metadata": {
  "kernelspec": {
   "display_name": "everything",
   "language": "python",
   "name": "python3"
  },
  "language_info": {
   "codemirror_mode": {
    "name": "ipython",
    "version": 3
   },
   "file_extension": ".py",
   "mimetype": "text/x-python",
   "name": "python",
   "nbconvert_exporter": "python",
   "pygments_lexer": "ipython3",
   "version": "3.10.9"
  },
  "orig_nbformat": 4
 },
 "nbformat": 4,
 "nbformat_minor": 2
}
